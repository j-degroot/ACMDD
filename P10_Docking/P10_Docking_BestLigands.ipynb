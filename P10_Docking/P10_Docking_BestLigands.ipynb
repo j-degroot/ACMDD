{
 "cells": [
  {
   "cell_type": "markdown",
   "id": "780bdaca",
   "metadata": {},
   "source": [
    "# Part 10. Docking"
   ]
  },
  {
   "cell_type": "markdown",
   "id": "3005cc03",
   "metadata": {},
   "source": [
    "## Prepare the protein"
   ]
  },
  {
   "cell_type": "code",
   "execution_count": 1,
   "id": "8afdaeee",
   "metadata": {},
   "outputs": [
    {
     "data": {
      "application/vnd.jupyter.widget-view+json": {
       "model_id": "2529dcb347464204a12423236cca82ab",
       "version_major": 2,
       "version_minor": 0
      },
      "text/plain": []
     },
     "metadata": {},
     "output_type": "display_data"
    },
    {
     "name": "stderr",
     "output_type": "stream",
     "text": [
      "/opt/conda/lib/python3.9/site-packages/Bio/SubsMat/__init__.py:126: BiopythonDeprecationWarning: Bio.SubsMat has been deprecated, and we intend to remove it in a future release of Biopython. As an alternative, please consider using Bio.Align.substitution_matrices as a replacement, and contact the Biopython developers if you still need the Bio.SubsMat module.\n",
      "  warnings.warn(\n"
     ]
    }
   ],
   "source": [
    "## This code block imports python modules to work with during the lab, you need to run it first to get started.\n",
    "# modules\n",
    "import nglview\n",
    "import os\n",
    "import shutil\n",
    "from Bio.PDB import PDBParser, PDBIO, Select,  PDBList, MMCIFParser, StructureAlignment\n",
    "import Bio.Align\n",
    "import os\n",
    "from pathlib import Path\n",
    "import rdkit\n",
    "\n",
    "# local scripts\n",
    "from scripts import viewer\n",
    "from scripts import bio_align"
   ]
  },
  {
   "cell_type": "markdown",
   "id": "96a4e338",
   "metadata": {},
   "source": [
    "### Download protein from the .pdb. \n",
    "\n",
    "The protein data bank (PDB) makes macromolecular structures publicly available. These can be used worldwide to study the 3D structures of many macromolecules. NGL viewer will be used for the molecular graphics.\n",
    "\n",
    "[Uitleg NGL viewer]"
   ]
  },
  {
   "cell_type": "markdown",
   "id": "5bba14d5",
   "metadata": {},
   "source": [
    " Make a working directory in your home directory"
   ]
  },
  {
   "cell_type": "code",
   "execution_count": 3,
   "id": "bed3c38f",
   "metadata": {},
   "outputs": [
    {
     "name": "stdout",
     "output_type": "stream",
     "text": [
      "Directory already exists\n"
     ]
    }
   ],
   "source": [
    "HOMEDIR = str(Path.home())\n",
    "os.chdir(HOMEDIR)\n",
    "# We need to check whether the directory is there\n",
    "try:\n",
    "    os.mkdir('Bioinformatics')\n",
    "except:\n",
    "    print(\"Directory already exists\")\n",
    "os.chdir('Bioinformatics')"
   ]
  },
  {
   "cell_type": "markdown",
   "id": "5456f3cb",
   "metadata": {},
   "source": [
    "Specify the PDB code of the BACE1 protein. This will be used in the viewer to visualise the 3D structure of the protein."
   ]
  },
  {
   "cell_type": "code",
   "execution_count": 4,
   "id": "260c35ec",
   "metadata": {},
   "outputs": [
    {
     "data": {
      "application/vnd.jupyter.widget-view+json": {
       "model_id": "9cacf3afc59c4f48a7dc2cb4128a95c1",
       "version_major": 2,
       "version_minor": 0
      },
      "text/plain": [
       "NGLWidget()"
      ]
     },
     "metadata": {},
     "output_type": "display_data"
    }
   ],
   "source": [
    "TARGET_PDB_ID = \"4djw\" \n",
    "\n",
    "import nglview\n",
    "view = nglview.show_pdbid(TARGET_PDB_ID, chain = 'A') # There are two chains, show only this one\n",
    "view\n"
   ]
  },
  {
   "cell_type": "markdown",
   "id": "0711c37c",
   "metadata": {},
   "source": [
    "For desinging drugs, it is interesting to have a closer look at the co-crystallized ligand. Therefore the residue name of ligand is needed, in this case 0KP. This is used to zoom in on the ligand. \n"
   ]
  },
  {
   "cell_type": "code",
   "execution_count": 5,
   "id": "0bdffbda",
   "metadata": {},
   "outputs": [
    {
     "data": {
      "application/vnd.jupyter.widget-view+json": {
       "model_id": "edb310a804294b408e84f7c5d3dbbb07",
       "version_major": 2,
       "version_minor": 0
      },
      "text/plain": [
       "NGLWidget()"
      ]
     },
     "metadata": {},
     "output_type": "display_data"
    }
   ],
   "source": [
    "LIGAND_CODE = \"0KP\" \n",
    "view = nglview.show_pdbid(TARGET_PDB_ID, chain = 'A')\n",
    "view\n",
    "view.center(LIGAND_CODE)\n",
    "view"
   ]
  },
  {
   "cell_type": "markdown",
   "id": "4656623f",
   "metadata": {},
   "source": [
    "Show the residues that are within 5 Angstrom of the ligand"
   ]
  },
  {
   "cell_type": "code",
   "execution_count": 6,
   "id": "2589be14",
   "metadata": {},
   "outputs": [
    {
     "data": {
      "application/vnd.jupyter.widget-view+json": {
       "model_id": "21f33f7868b04c21824b3c82235473f3",
       "version_major": 2,
       "version_minor": 0
      },
      "text/plain": [
       "NGLWidget()"
      ]
     },
     "metadata": {},
     "output_type": "display_data"
    }
   ],
   "source": [
    "view = nglview.show_pdbid(TARGET_PDB_ID, chain = 'A')\n",
    "view.center(LIGAND_CODE)\n",
    "viewer.show_residues_around(view, selection=LIGAND_CODE)\n",
    "view\n",
    "#[WERKT NIET]"
   ]
  },
  {
   "cell_type": "markdown",
   "id": "acc7776f",
   "metadata": {},
   "source": [
    "[Have a look at the residues near the ligand, can you observe any important interactions? Describe in your report which interactions you observe, and what type of interactions they are.]"
   ]
  },
  {
   "cell_type": "markdown",
   "id": "5e7135e1",
   "metadata": {},
   "source": [
    "The hydrogens will be added to have a better look at the structure. The protein and ligand will be split and saved seperataly. This will be done using biopython (https://biopython.org/docs/1.75/api/Bio.html) [UITLEG WAT IS BIOPYTHON?]"
   ]
  },
  {
   "cell_type": "markdown",
   "id": "56df25fb",
   "metadata": {},
   "source": [
    "Download the coordinates from RCSB."
   ]
  },
  {
   "cell_type": "code",
   "execution_count": 7,
   "id": "0ca749d1",
   "metadata": {},
   "outputs": [
    {
     "name": "stderr",
     "output_type": "stream",
     "text": [
      "WARNING: The default download format has changed from PDB to PDBx/mmCif\n"
     ]
    },
    {
     "name": "stdout",
     "output_type": "stream",
     "text": [
      "Downloading PDB structure '4djw'...\n"
     ]
    },
    {
     "data": {
      "text/plain": [
       "'4djw/4djw.cif'"
      ]
     },
     "execution_count": 7,
     "metadata": {},
     "output_type": "execute_result"
    }
   ],
   "source": [
    "pdbl = PDBList()\n",
    "pdbl.retrieve_pdb_file(TARGET_PDB_ID, pdir=TARGET_PDB_ID)"
   ]
  },
  {
   "cell_type": "markdown",
   "id": "c6b086c2",
   "metadata": {},
   "source": [
    "Generate a BioPython object from the coordinates"
   ]
  },
  {
   "cell_type": "code",
   "execution_count": 8,
   "id": "11db0fd1",
   "metadata": {},
   "outputs": [
    {
     "name": "stderr",
     "output_type": "stream",
     "text": [
      "/opt/conda/lib/python3.9/site-packages/Bio/PDB/StructureBuilder.py:89: PDBConstructionWarning: WARNING: Chain A is discontinuous at line 6112.\n",
      "  warnings.warn(\n",
      "/opt/conda/lib/python3.9/site-packages/Bio/PDB/StructureBuilder.py:89: PDBConstructionWarning: WARNING: Chain B is discontinuous at line 6148.\n",
      "  warnings.warn(\n",
      "/opt/conda/lib/python3.9/site-packages/Bio/PDB/StructureBuilder.py:89: PDBConstructionWarning: WARNING: Chain A is discontinuous at line 6194.\n",
      "  warnings.warn(\n",
      "/opt/conda/lib/python3.9/site-packages/Bio/PDB/StructureBuilder.py:89: PDBConstructionWarning: WARNING: Chain B is discontinuous at line 6648.\n",
      "  warnings.warn(\n"
     ]
    }
   ],
   "source": [
    "\n",
    "parser = MMCIFParser()\n",
    "structure = parser.get_structure(\"TARGETPROT\",'{}/{}.cif'.format(TARGET_PDB_ID,TARGET_PDB_ID))\n"
   ]
  },
  {
   "cell_type": "markdown",
   "id": "44b71c24",
   "metadata": {},
   "source": [
    "Save the ligand"
   ]
  },
  {
   "cell_type": "code",
   "execution_count": 9,
   "id": "c99ffa15",
   "metadata": {},
   "outputs": [],
   "source": [
    "class ResSelect(Select):\n",
    "    def accept_residue(self, residue):\n",
    "        if residue.get_resname() == LIGAND_CODE:\n",
    "            return 1\n",
    "        else:\n",
    "            return 0\n",
    "\n",
    "class NonHetSelect(Select):\n",
    "    def accept_residue(self, residue):\n",
    "        return 1 if residue.id[0] == \" \" else 0\n",
    "\n",
    "io = PDBIO()\n",
    "io.set_structure(structure)\n",
    "io.save(\"ligand-{}.pdb\".format(LIGAND_CODE), ResSelect())\n",
    "io.save(\"protein-{}.pdb\".format(TARGET_PDB_ID), NonHetSelect())"
   ]
  },
  {
   "cell_type": "markdown",
   "source": [],
   "metadata": {
    "collapsed": false
   }
  },
  {
   "cell_type": "markdown",
   "id": "12771815",
   "metadata": {},
   "source": [
    "Add hydrogens to the protein, using LePro. LePro is part of the LeDock program (https://en.wikipedia.org/wiki/LeDock)\n",
    "[Uitleg LePRO/LeDOCK]"
   ]
  },
  {
   "cell_type": "code",
   "execution_count": 20,
   "id": "1b13c916",
   "metadata": {},
   "outputs": [
    {
     "name": "stderr",
     "output_type": "stream",
     "text": [
      "sh: 1: ../P10_Docking/bin/lepro: not found\n"
     ]
    },
    {
     "ename": "FileNotFoundError",
     "evalue": "[Errno 2] No such file or directory: 'pro.pdb'",
     "output_type": "error",
     "traceback": [
      "\u001B[0;31m---------------------------------------------------------------------------\u001B[0m",
      "\u001B[0;31mFileNotFoundError\u001B[0m                         Traceback (most recent call last)",
      "File \u001B[0;32m/opt/conda/lib/python3.9/shutil.py:823\u001B[0m, in \u001B[0;36mmove\u001B[0;34m(src, dst, copy_function)\u001B[0m\n\u001B[1;32m    822\u001B[0m \u001B[38;5;28;01mtry\u001B[39;00m:\n\u001B[0;32m--> 823\u001B[0m     \u001B[43mos\u001B[49m\u001B[38;5;241;43m.\u001B[39;49m\u001B[43mrename\u001B[49m\u001B[43m(\u001B[49m\u001B[43msrc\u001B[49m\u001B[43m,\u001B[49m\u001B[43m \u001B[49m\u001B[43mreal_dst\u001B[49m\u001B[43m)\u001B[49m\n\u001B[1;32m    824\u001B[0m \u001B[38;5;28;01mexcept\u001B[39;00m \u001B[38;5;167;01mOSError\u001B[39;00m:\n",
      "\u001B[0;31mFileNotFoundError\u001B[0m: [Errno 2] No such file or directory: 'pro.pdb' -> '4djw_prepped.pdb'",
      "\nDuring handling of the above exception, another exception occurred:\n",
      "\u001B[0;31mFileNotFoundError\u001B[0m                         Traceback (most recent call last)",
      "Input \u001B[0;32mIn [20]\u001B[0m, in \u001B[0;36m<cell line: 4>\u001B[0;34m()\u001B[0m\n\u001B[1;32m      2\u001B[0m command \u001B[38;5;241m=\u001B[39m \u001B[38;5;124m'\u001B[39m\u001B[38;5;124m../P10_Docking/bin/lepro protein-\u001B[39m\u001B[38;5;132;01m{}\u001B[39;00m\u001B[38;5;124m.pdb\u001B[39m\u001B[38;5;124m'\u001B[39m\u001B[38;5;241m.\u001B[39mformat(TARGET_PDB_ID)\n\u001B[1;32m      3\u001B[0m os\u001B[38;5;241m.\u001B[39msystem(command)\n\u001B[0;32m----> 4\u001B[0m \u001B[43mshutil\u001B[49m\u001B[38;5;241;43m.\u001B[39;49m\u001B[43mmove\u001B[49m\u001B[43m(\u001B[49m\u001B[38;5;124;43m'\u001B[39;49m\u001B[38;5;124;43mpro.pdb\u001B[39;49m\u001B[38;5;124;43m'\u001B[39;49m\u001B[43m,\u001B[49m\u001B[38;5;124;43m'\u001B[39;49m\u001B[38;5;132;43;01m{}\u001B[39;49;00m\u001B[38;5;124;43m_prepped.pdb\u001B[39;49m\u001B[38;5;124;43m'\u001B[39;49m\u001B[38;5;241;43m.\u001B[39;49m\u001B[43mformat\u001B[49m\u001B[43m(\u001B[49m\u001B[43mTARGET_PDB_ID\u001B[49m\u001B[43m)\u001B[49m\u001B[43m)\u001B[49m\n",
      "File \u001B[0;32m/opt/conda/lib/python3.9/shutil.py:843\u001B[0m, in \u001B[0;36mmove\u001B[0;34m(src, dst, copy_function)\u001B[0m\n\u001B[1;32m    841\u001B[0m         rmtree(src)\n\u001B[1;32m    842\u001B[0m     \u001B[38;5;28;01melse\u001B[39;00m:\n\u001B[0;32m--> 843\u001B[0m         \u001B[43mcopy_function\u001B[49m\u001B[43m(\u001B[49m\u001B[43msrc\u001B[49m\u001B[43m,\u001B[49m\u001B[43m \u001B[49m\u001B[43mreal_dst\u001B[49m\u001B[43m)\u001B[49m\n\u001B[1;32m    844\u001B[0m         os\u001B[38;5;241m.\u001B[39munlink(src)\n\u001B[1;32m    845\u001B[0m \u001B[38;5;28;01mreturn\u001B[39;00m real_dst\n",
      "File \u001B[0;32m/opt/conda/lib/python3.9/shutil.py:444\u001B[0m, in \u001B[0;36mcopy2\u001B[0;34m(src, dst, follow_symlinks)\u001B[0m\n\u001B[1;32m    442\u001B[0m \u001B[38;5;28;01mif\u001B[39;00m os\u001B[38;5;241m.\u001B[39mpath\u001B[38;5;241m.\u001B[39misdir(dst):\n\u001B[1;32m    443\u001B[0m     dst \u001B[38;5;241m=\u001B[39m os\u001B[38;5;241m.\u001B[39mpath\u001B[38;5;241m.\u001B[39mjoin(dst, os\u001B[38;5;241m.\u001B[39mpath\u001B[38;5;241m.\u001B[39mbasename(src))\n\u001B[0;32m--> 444\u001B[0m \u001B[43mcopyfile\u001B[49m\u001B[43m(\u001B[49m\u001B[43msrc\u001B[49m\u001B[43m,\u001B[49m\u001B[43m \u001B[49m\u001B[43mdst\u001B[49m\u001B[43m,\u001B[49m\u001B[43m \u001B[49m\u001B[43mfollow_symlinks\u001B[49m\u001B[38;5;241;43m=\u001B[39;49m\u001B[43mfollow_symlinks\u001B[49m\u001B[43m)\u001B[49m\n\u001B[1;32m    445\u001B[0m copystat(src, dst, follow_symlinks\u001B[38;5;241m=\u001B[39mfollow_symlinks)\n\u001B[1;32m    446\u001B[0m \u001B[38;5;28;01mreturn\u001B[39;00m dst\n",
      "File \u001B[0;32m/opt/conda/lib/python3.9/shutil.py:264\u001B[0m, in \u001B[0;36mcopyfile\u001B[0;34m(src, dst, follow_symlinks)\u001B[0m\n\u001B[1;32m    262\u001B[0m     os\u001B[38;5;241m.\u001B[39msymlink(os\u001B[38;5;241m.\u001B[39mreadlink(src), dst)\n\u001B[1;32m    263\u001B[0m \u001B[38;5;28;01melse\u001B[39;00m:\n\u001B[0;32m--> 264\u001B[0m     \u001B[38;5;28;01mwith\u001B[39;00m \u001B[38;5;28;43mopen\u001B[39;49m\u001B[43m(\u001B[49m\u001B[43msrc\u001B[49m\u001B[43m,\u001B[49m\u001B[43m \u001B[49m\u001B[38;5;124;43m'\u001B[39;49m\u001B[38;5;124;43mrb\u001B[39;49m\u001B[38;5;124;43m'\u001B[39;49m\u001B[43m)\u001B[49m \u001B[38;5;28;01mas\u001B[39;00m fsrc:\n\u001B[1;32m    265\u001B[0m         \u001B[38;5;28;01mtry\u001B[39;00m:\n\u001B[1;32m    266\u001B[0m             \u001B[38;5;28;01mwith\u001B[39;00m \u001B[38;5;28mopen\u001B[39m(dst, \u001B[38;5;124m'\u001B[39m\u001B[38;5;124mwb\u001B[39m\u001B[38;5;124m'\u001B[39m) \u001B[38;5;28;01mas\u001B[39;00m fdst:\n\u001B[1;32m    267\u001B[0m                 \u001B[38;5;66;03m# macOS\u001B[39;00m\n",
      "\u001B[0;31mFileNotFoundError\u001B[0m: [Errno 2] No such file or directory: 'pro.pdb'"
     ]
    }
   ],
   "source": [
    "# DIT BLOK WERKT NIET, geen idee waarom?\n",
    "command = '../P10_Docking/bin/lepro protein-{}.pdb'.format(TARGET_PDB_ID)\n",
    "os.system(command)\n",
    "shutil.move('pro.pdb','{}_prepped.pdb'.format(TARGET_PDB_ID))"
   ]
  },
  {
   "cell_type": "code",
   "execution_count": 14,
   "id": "68d353b2",
   "metadata": {},
   "outputs": [
    {
     "ename": "FileNotFoundError",
     "evalue": "[Errno 2] No such file or directory: '4djw_prepped.pdb'",
     "output_type": "error",
     "traceback": [
      "\u001B[0;31m---------------------------------------------------------------------------\u001B[0m",
      "\u001B[0;31mFileNotFoundError\u001B[0m                         Traceback (most recent call last)",
      "Input \u001B[0;32mIn [14]\u001B[0m, in \u001B[0;36m<cell line: 6>\u001B[0;34m()\u001B[0m\n\u001B[1;32m      6\u001B[0m \u001B[38;5;28;01mwith\u001B[39;00m \u001B[38;5;28mopen\u001B[39m(\u001B[38;5;124m'\u001B[39m\u001B[38;5;132;01m{}\u001B[39;00m\u001B[38;5;124m-complex.pdb\u001B[39m\u001B[38;5;124m'\u001B[39m\u001B[38;5;241m.\u001B[39mformat(TARGET_PDB_ID), \u001B[38;5;124m'\u001B[39m\u001B[38;5;124mw\u001B[39m\u001B[38;5;124m'\u001B[39m) \u001B[38;5;28;01mas\u001B[39;00m outfile:\n\u001B[1;32m      7\u001B[0m     \u001B[38;5;28;01mfor\u001B[39;00m fname \u001B[38;5;129;01min\u001B[39;00m filenames:\n\u001B[0;32m----> 8\u001B[0m         \u001B[38;5;28;01mwith\u001B[39;00m \u001B[38;5;28;43mopen\u001B[39;49m\u001B[43m(\u001B[49m\u001B[43mfname\u001B[49m\u001B[43m)\u001B[49m \u001B[38;5;28;01mas\u001B[39;00m infile:\n\u001B[1;32m      9\u001B[0m             \u001B[38;5;28;01mfor\u001B[39;00m line \u001B[38;5;129;01min\u001B[39;00m infile:\n\u001B[1;32m     10\u001B[0m                 \u001B[38;5;28;01mif\u001B[39;00m \u001B[38;5;129;01mnot\u001B[39;00m \u001B[38;5;124m\"\u001B[39m\u001B[38;5;124mEND\u001B[39m\u001B[38;5;124m\"\u001B[39m \u001B[38;5;129;01min\u001B[39;00m line:\n",
      "\u001B[0;31mFileNotFoundError\u001B[0m: [Errno 2] No such file or directory: '4djw_prepped.pdb'"
     ]
    }
   ],
   "source": [
    "# combine protein and ligand files\n",
    "filenames = [\n",
    "'{}_prepped.pdb'.format(TARGET_PDB_ID),\n",
    "\"ligand-{}.pdb\".format(LIGAND_CODE)\n",
    "]\n",
    "with open('{}-complex.pdb'.format(TARGET_PDB_ID), 'w') as outfile:\n",
    "    for fname in filenames:\n",
    "        with open(fname) as infile:\n",
    "            for line in infile:\n",
    "                if not \"END\" in line:\n",
    "                    outfile.write(line)"
   ]
  },
  {
   "cell_type": "markdown",
   "id": "696c513b",
   "metadata": {},
   "source": [
    "Show the BACE1 receptor"
   ]
  },
  {
   "cell_type": "code",
   "execution_count": null,
   "id": "5cf4f39e",
   "metadata": {},
   "outputs": [],
   "source": [
    "with open('{}-complex.pdb'.format(TARGET_PDB_ID)) as f:\n",
    "    view = nglview.show_file(f, ext=\"pdb\", chain = 'A') # Werkt niet\n",
    "    \n",
    "view.center(LIGAND_CODE)\n",
    "viewer.show_residues_around(view, selection=LIGAND_CODE)\n",
    "view"
   ]
  },
  {
   "cell_type": "markdown",
   "id": "d1c5e1e3",
   "metadata": {},
   "source": [
    "## Molecular docking\n",
    "The molecules with the highest potency predicted by the random forest model or neuron network model will be molecular docked. This will be performed in the above prepared protein. "
   ]
  },
  {
   "cell_type": "code",
   "execution_count": null,
   "id": "0450f5cc",
   "metadata": {},
   "outputs": [],
   "source": [
    "# Install the open drug discovery toolkit (ODDT) https://oddt.readthedocs.io/en/latest/index.html\n",
    "!pip install oddt\n",
    "# Install vina\n",
    "!pip install vina\n",
    "\n",
    "# [Uitleg, wat zijn dit?]"
   ]
  },
  {
   "cell_type": "code",
   "execution_count": null,
   "id": "637a2477",
   "metadata": {},
   "outputs": [],
   "source": [
    "#from pymol import cmd\n",
    "import py3Dmol\n",
    "\n",
    "import pandas as pd\n",
    "import glob\n",
    "import sys\n",
    "\n",
    "from vina import Vina\n",
    "#import pybel\n",
    "\n",
    "from rdkit import Chem\n",
    "from rdkit.Chem import AllChem, Draw\n",
    "\n",
    "#from meeko import MoleculePreparation\n",
    "#from meeko import obutils\n",
    "\n",
    "import MDAnalysis as mda\n",
    "from MDAnalysis.coordinates import PDB\n",
    "\n",
    "#import prolif\n",
    "#from prolif.plotting.network import LigNetwork\n",
    "\n",
    "import nglview\n",
    "from scripts import viewer\n",
    "\n",
    "import sys, os, shutil\n",
    "sys.path.insert(1, '/project/jhllei001/JHL_data/Jupyter_Dock/utilities')\n",
    "# Note I had to comment out pymol, openmm and pdbfixer, hope it doesn't break later\n",
    "#from utils import fix_protein, getbox, generate_ledock_file, pdbqt_to_sdf, dok_to_sdf\n",
    "\n",
    "import warnings\n",
    "warnings.filterwarnings(\"ignore\")\n",
    "%config Completer.use_jedi = False"
   ]
  },
  {
   "cell_type": "markdown",
   "id": "22910cea",
   "metadata": {},
   "source": [
    "Make an environment to work in and put in some files:"
   ]
  },
  {
   "cell_type": "code",
   "execution_count": null,
   "id": "e225c119",
   "metadata": {},
   "outputs": [],
   "source": [
    "from pathlib import Path\n",
    "HOMEDIR = str(Path.home())\n",
    "os.chdir(HOMEDIR)\n",
    "# We need to check whether the directory is there\n",
    "try:\n",
    "    os.mkdir('Docking')\n",
    "except:\n",
    "    print(\"Directory already exists\")\n",
    "os.chdir('Docking')"
   ]
  },
  {
   "cell_type": "markdown",
   "id": "0a7d9599",
   "metadata": {},
   "source": [
    "#### Feching system and cleanup\n",
    "\n",
    "Copy the prepared protein"
   ]
  },
  {
   "cell_type": "code",
   "execution_count": null,
   "id": "e8a3c4b6",
   "metadata": {},
   "outputs": [],
   "source": [
    "PDBCODE = '4DJW' \n",
    "LIGAND_CODE = '0KP' \n",
    "#shutil.copy('../{}_prepped.pdb'.format(PDBCODE), '{}_prepped.pdb'.format(PDBCODE)) # Vervangen met de regel hieronder\n",
    "shutil.copy('../Bioinformatics/ligand-{}.pdb'.format(LIGAND_CODE), 'ligand-{}.pdb'.format(LIGAND_CODE))"
   ]
  },
  {
   "cell_type": "markdown",
   "id": "563cb824",
   "metadata": {},
   "source": [
    "The smiles of the ligand with the highest predicted pIC50 by the random forest model and neuron network model are added to test_smiles. The 3D coordinate files of each of these ligands will be generated. "
   ]
  },
  {
   "cell_type": "code",
   "execution_count": null,
   "id": "534e47af",
   "metadata": {},
   "outputs": [],
   "source": [
    "test_smiles = [\n",
    "    'COc1ccc(C(=O)Nc2ccc(F)c(C3(C)CS(=O)(=O)C(C)(C)C(N)=N3)c2)nc1',# Top1RandomForest\n",
    "    'NC1=NC(c2cc(NC(=O)c3ncc(Cl)cc3Cl)ccc2F)(C(F)F)OCC1'# Top1NeuronNetwork (Nu enkel een dummy, vul jouwe in)\n",
    "]"
   ]
  },
  {
   "cell_type": "markdown",
   "id": "3b57d101",
   "metadata": {},
   "source": [
    "The 3D files will be generated using rdkit. Th ligands get automatic number added, so they will be called ligand_00 (for the ligand with the highest potency predicted by the random forest model) and ligand_01 (for the ligand with the higest potency predicited by the neuron network model)."
   ]
  },
  {
   "cell_type": "code",
   "execution_count": null,
   "id": "5d49ecc1",
   "metadata": {},
   "outputs": [],
   "source": [
    "i = -1\n",
    "\n",
    "IDs = []\n",
    "for i in range(0,len(test_smiles)):\n",
    "    base = 'ligand_{:02d}'.format(i)\n",
    "    IDs.append(base)\n",
    "    \n",
    "df = pd.DataFrame({'ID':IDs, 'SMILES':test_smiles})\n",
    "\n",
    "df['rdkit_mol'] = [Chem.MolFromSmiles(s) for s in df['SMILES']]\n",
    "\n",
    "# Generate 2D images of the molecules\n",
    "img=Draw.MolsToGridImage(df['rdkit_mol'].tolist(),\n",
    "                            molsPerRow=4,\n",
    "                            subImgSize=(200,200),\n",
    "                            legends=df['ID'].tolist())\n",
    "\n",
    "for i in range(len(df)):\n",
    "    row = df.iloc[i]\n",
    "    mol = row['rdkit_mol']\n",
    "    name = row['ID'] + '.mol'\n",
    "    Chem.MolToMolFile(mol,name)\n",
    "\n",
    "img\n"
   ]
  },
  {
   "cell_type": "markdown",
   "id": "0c3c4ecf",
   "metadata": {},
   "source": [
    "From the above visualised ligands are mol2 files saved to be used for the next docking steps. "
   ]
  },
  {
   "cell_type": "markdown",
   "id": "cdb54dad",
   "metadata": {},
   "source": [
    "#### System Visualization"
   ]
  },
  {
   "cell_type": "markdown",
   "id": "0defd813",
   "metadata": {},
   "source": [
    "Show the structure with ligand_00"
   ]
  },
  {
   "cell_type": "code",
   "execution_count": null,
   "id": "67536c5c",
   "metadata": {},
   "outputs": [],
   "source": [
    "view = py3Dmol.view()\n",
    "view.removeAllModels()\n",
    "view.setViewStyle({'style':'outline','color':'black','width':0.1})\n",
    "\n",
    "\n",
    "view.addModel(open('../Bioinformatics/4DJW_prepped.pdb'.format(PDBCODE),'r').read(),format='pdb')\n",
    "Prot=view.getModel()\n",
    "Prot.setStyle({'cartoon':{'arrows':True, 'tubes':True, 'style':'oval', 'color':'white'}})\n",
    "view.addSurface(py3Dmol.VDW,{'opacity':0.6,'color':'white'})\n",
    "\n",
    "\n",
    "view.addModel(open('ligand_00.mol','r').read(),format='mol2')\n",
    "ref_m = view.getModel()\n",
    "ref_m.setStyle({},{'stick':{'colorscheme':'greenCarbon','radius':0.2}})\n",
    "\n",
    "ligtmp = 'ligand-{}.pdb'.format(LIGAND_CODE)\n",
    "view.addModelsAsFrames(open(ligtmp,'r').read(),format='pdb')\n",
    "ref_m = view.getModel()\n",
    "ref_m.setStyle({},{'stick':{'colorscheme':'magentaCarbon','radius':0.2}})\n",
    "\n",
    "view.zoomTo()\n",
    "view.show()"
   ]
  },
  {
   "cell_type": "markdown",
   "id": "c25b785e",
   "metadata": {},
   "source": [
    "The crystalised ligand are visualised in magenta and novel ligand_00 is shown in green. As can be seen is the novel ligand not in the binding site. This is because the coordinate information is missing. Therefore, the ligand will be redocked in the protein binding site. "
   ]
  },
  {
   "cell_type": "markdown",
   "id": "cffec8ec",
   "metadata": {},
   "source": [
    "#### Docking with AutoDock Vina\n",
    "\n",
    "AutoDock Vina (Vina) will be used as docking engines, as it is widely used, fast and open source. "
   ]
  },
  {
   "cell_type": "markdown",
   "id": "b9b75cdc",
   "metadata": {},
   "source": [
    "##### Protein and ligand preparation\n",
    "\n",
    "After sanitization, the protein docking preparation includes converting it to the PDBQT file format, which stores the atomic coordinates, partial charges, and AutoDock atom types for both the receptor and the ligand."
   ]
  },
  {
   "cell_type": "markdown",
   "id": "881dafb6",
   "metadata": {},
   "source": [
    "[Wat doet onderstaande code? Algemeen]"
   ]
  },
  {
   "cell_type": "code",
   "execution_count": null,
   "id": "e1b56342",
   "metadata": {},
   "outputs": [],
   "source": [
    "from math import isnan, isinf\n",
    "\n",
    "def PDBQTAtomLines(mol, donors, acceptors):\n",
    "    \"\"\"Create a list with PDBQT atom lines for each atom in molecule. Donors\n",
    "    and acceptors are given as a list of atom indices.\n",
    "    \"\"\"\n",
    "\n",
    "    atom_lines = [line.replace('HETATM', 'ATOM  ')\n",
    "                  for line in Chem.MolToPDBBlock(mol).split('\\n')\n",
    "                  if line.startswith('HETATM') or line.startswith('ATOM')]\n",
    "\n",
    "    pdbqt_lines = []\n",
    "    for idx, atom in enumerate(mol.GetAtoms()):\n",
    "        pdbqt_line = atom_lines[idx][:56]\n",
    "\n",
    "        pdbqt_line += '0.00  0.00    '  # append empty vdW and ele\n",
    "        # Get charge\n",
    "        charge = 0.\n",
    "        fields = ['_MMFF94Charge', '_GasteigerCharge', '_TriposPartialCharge']\n",
    "        for f in fields:\n",
    "            if atom.HasProp(f):\n",
    "                charge = atom.GetDoubleProp(f)\n",
    "                break\n",
    "        # FIXME: this should not happen, blame RDKit\n",
    "        if isnan(charge) or isinf(charge):\n",
    "            charge = 0.\n",
    "        pdbqt_line += ('%.3f' % charge).rjust(6)\n",
    "\n",
    "        # Get atom type\n",
    "        pdbqt_line += ' '\n",
    "        atomicnum = atom.GetAtomicNum()\n",
    "        if atomicnum == 6 and atom.GetIsAromatic():\n",
    "            pdbqt_line += 'A'\n",
    "        elif atomicnum == 7 and idx in acceptors:\n",
    "            pdbqt_line += 'NA'\n",
    "        elif atomicnum == 8 and idx in acceptors:\n",
    "            pdbqt_line += 'OA'\n",
    "        elif atomicnum == 1 and atom.GetNeighbors()[0].GetIdx() in donors:\n",
    "            pdbqt_line += 'HD'\n",
    "        else:\n",
    "            pdbqt_line += atom.GetSymbol()\n",
    "        pdbqt_lines.append(pdbqt_line)\n",
    "    return pdbqt_lines\n",
    "\n",
    "def MolToPDBQTBlock(mol, flexible=True, addHs=False, computeCharges=False):\n",
    "    \"\"\"Write RDKit Molecule to a PDBQT block\n",
    "\n",
    "    Parameters\n",
    "    ----------\n",
    "        mol: rdkit.Chem.rdchem.Mol\n",
    "            Molecule with a protein ligand complex\n",
    "        flexible: bool (default=True)\n",
    "            Should the molecule encode torsions. Ligands should be flexible,\n",
    "            proteins in turn can be rigid.\n",
    "        addHs: bool (default=False)\n",
    "            The PDBQT format requires at least polar Hs on donors. By default Hs\n",
    "            are added.\n",
    "        computeCharges: bool (default=False)\n",
    "            Should the partial charges be automatically computed. If the Hs are\n",
    "            added the charges must and will be recomputed. If there are no\n",
    "            partial charge information, they are set to 0.0.\n",
    "\n",
    "    Returns\n",
    "    -------\n",
    "        block: str\n",
    "            String wit PDBQT encoded molecule\n",
    "    \"\"\"\n",
    "    # make a copy of molecule\n",
    "    mol = Chem.Mol(mol)\n",
    "\n",
    "    # if flexible molecule contains multiple fragments write them separately\n",
    "    if flexible and len(Chem.GetMolFrags(mol)) > 1:\n",
    "        return ''.join(MolToPDBQTBlock(frag, flexible=flexible, addHs=addHs,\n",
    "                                       computeCharges=computeCharges)\n",
    "                       for frag in Chem.GetMolFrags(mol, asMols=True))\n",
    "\n",
    "    # Identify donors and acceptors for atom typing\n",
    "    # Acceptors\n",
    "    patt = Chem.MolFromSmarts('[$([O;H1;v2]),'\n",
    "                              '$([O;H0;v2;!$(O=N-*),'\n",
    "                              '$([O;-;!$(*-N=O)]),'\n",
    "                              '$([o;+0])]),'\n",
    "                              '$([n;+0;!X3;!$([n;H1](cc)cc),'\n",
    "                              '$([$([N;H0]#[C&v4])]),'\n",
    "                              '$([N&v3;H0;$(Nc)])]),'\n",
    "                              '$([F;$(F-[#6]);!$(FC[F,Cl,Br,I])])]')\n",
    "    acceptors = list(map(lambda x: x[0],\n",
    "                         mol.GetSubstructMatches(patt, maxMatches=mol.GetNumAtoms())))\n",
    "    # Donors\n",
    "    patt = Chem.MolFromSmarts('[$([N&!H0&v3,N&!H0&+1&v4,n&H1&+0,$([$([Nv3](-C)(-C)-C)]),'\n",
    "                              '$([$(n[n;H1]),'\n",
    "                              '$(nc[n;H1])])]),'\n",
    "                              # Guanidine can be tautormeic - e.g. Arginine\n",
    "                              '$([NX3,NX2]([!O,!S])!@C(!@[NX3,NX2]([!O,!S]))!@[NX3,NX2]([!O,!S])),'\n",
    "                              '$([O,S;H1;+0])]')\n",
    "    donors = list(map(lambda x: x[0],\n",
    "                      mol.GetSubstructMatches(patt, maxMatches=mol.GetNumAtoms())))\n",
    "    if addHs:\n",
    "        mol = Chem.AddHs(mol, addCoords=True, onlyOnAtoms=donors, )\n",
    "    if addHs or computeCharges:\n",
    "        AllChem.ComputeGasteigerCharges(mol)\n",
    "\n",
    "    atom_lines = PDBQTAtomLines(mol, donors, acceptors)\n",
    "    assert len(atom_lines) == mol.GetNumAtoms()\n",
    "\n",
    "    pdbqt_lines = []\n",
    "\n",
    "    # vina scores\n",
    "    if (mol.HasProp('vina_affinity') and mol.HasProp('vina_rmsd_lb') and\n",
    "            mol.HasProp('vina_rmsd_lb')):\n",
    "        pdbqt_lines.append('REMARK VINA RESULT:  ' +\n",
    "                           ('%.1f' % float(mol.GetProp('vina_affinity'))).rjust(8) +\n",
    "                           ('%.3f' % float(mol.GetProp('vina_rmsd_lb'))).rjust(11) +\n",
    "                           ('%.3f' % float(mol.GetProp('vina_rmsd_ub'))).rjust(11))\n",
    "\n",
    "    pdbqt_lines.append('REMARK  Name = ' +\n",
    "                       (mol.GetProp('_Name') if mol.HasProp('_Name') else ''))\n",
    "    if flexible:\n",
    "        # Find rotatable bonds\n",
    "        rot_bond = Chem.MolFromSmarts('[!$(*#*)&!D1&!$(C(F)(F)F)&'\n",
    "                                      '!$(C(Cl)(Cl)Cl)&'\n",
    "                                      '!$(C(Br)(Br)Br)&'\n",
    "                                      '!$(C([CH3])([CH3])[CH3])&'\n",
    "                                      '!$([CD3](=[N,O,S])-!@[#7,O,S!D1])&'\n",
    "                                      '!$([#7,O,S!D1]-!@[CD3]=[N,O,S])&'\n",
    "                                      '!$([CD3](=[N+])-!@[#7!D1])&'\n",
    "                                      '!$([#7!D1]-!@[CD3]=[N+])]-!@[!$(*#*)&'\n",
    "                                      '!D1&!$(C(F)(F)F)&'\n",
    "                                      '!$(C(Cl)(Cl)Cl)&'\n",
    "                                      '!$(C(Br)(Br)Br)&'\n",
    "                                      '!$(C([CH3])([CH3])[CH3])]')\n",
    "        bond_atoms = list(mol.GetSubstructMatches(rot_bond))\n",
    "        num_torsions = len(bond_atoms)\n",
    "\n",
    "        # Active torsions header\n",
    "        pdbqt_lines.append('REMARK  %i active torsions:' % num_torsions)\n",
    "        pdbqt_lines.append('REMARK  status: (\\'A\\' for Active; \\'I\\' for Inactive)')\n",
    "        for i, (a1, a2) in enumerate(bond_atoms):\n",
    "            pdbqt_lines.append('REMARK%5.0i  A    between atoms: _%i  and  _%i'\n",
    "                               % (i + 1, a1 + 1, a2 + 1))\n",
    "\n",
    "        # Fragment molecule on bonds to ge rigid fragments\n",
    "        bond_ids = [mol.GetBondBetweenAtoms(a1, a2).GetIdx()\n",
    "                    for a1, a2 in bond_atoms]\n",
    "        if bond_ids:\n",
    "            mol_rigid_frags = Chem.FragmentOnBonds(mol, bond_ids, addDummies=False)\n",
    "        else:\n",
    "            mol_rigid_frags = mol\n",
    "        frags = list(Chem.GetMolFrags(mol_rigid_frags))\n",
    "\n",
    "        def weigh_frags(frag):\n",
    "            \"\"\"sort by the fragment size and the number of bonds (secondary)\"\"\"\n",
    "            num_bonds = 0\n",
    "            # bond_weight = 0\n",
    "            for a1, a2 in bond_atoms:\n",
    "                if a1 in frag or a2 in frag:\n",
    "                    num_bonds += 1\n",
    "                    # for frag2 in frags:\n",
    "                    #     if a1 in frag2 or a2 in frag2:\n",
    "                    #         bond_weight += len(frag2)\n",
    "\n",
    "            # changed signs are fixing mixed sorting type (ascending/descending)\n",
    "            return -len(frag), -num_bonds,  # bond_weight\n",
    "        frags = sorted(frags, key=weigh_frags)\n",
    "\n",
    "        # Start writting the lines with ROOT\n",
    "        pdbqt_lines.append('ROOT')\n",
    "        frag = frags.pop(0)\n",
    "        for idx in frag:\n",
    "            pdbqt_lines.append(atom_lines[idx])\n",
    "        pdbqt_lines.append('ENDROOT')\n",
    "\n",
    "        # Now build the tree of torsions usign DFS algorithm. Keep track of last\n",
    "        # route with following variables to move down the tree and close branches\n",
    "        branch_queue = []\n",
    "        current_root = frag\n",
    "        old_roots = [frag]\n",
    "\n",
    "        visited_frags = []\n",
    "        visited_bonds = []\n",
    "        while len(frags) > len(visited_frags):\n",
    "            end_branch = True\n",
    "            for frag_num, frag in enumerate(frags):\n",
    "                for bond_num, (a1, a2) in enumerate(bond_atoms):\n",
    "                    if (frag_num not in visited_frags and\n",
    "                        bond_num not in visited_bonds and\n",
    "                        (a1 in current_root and a2 in frag or\n",
    "                         a2 in current_root and a1 in frag)):\n",
    "                        # direction of bonds is important\n",
    "                        if a1 in current_root:\n",
    "                            bond_dir = '%i %i' % (a1 + 1, a2 + 1)\n",
    "                        else:\n",
    "                            bond_dir = '%i %i' % (a2 + 1, a1 + 1)\n",
    "                        pdbqt_lines.append('BRANCH %s' % bond_dir)\n",
    "                        for idx in frag:\n",
    "                            pdbqt_lines.append(atom_lines[idx])\n",
    "                        branch_queue.append('ENDBRANCH %s' % bond_dir)\n",
    "\n",
    "                        # Overwrite current root and stash previous one in queue\n",
    "                        old_roots.append(current_root)\n",
    "                        current_root = frag\n",
    "\n",
    "                        # remove used elements from stack\n",
    "                        visited_frags.append(frag_num)\n",
    "                        visited_bonds.append(bond_num)\n",
    "\n",
    "                        # mark that we dont want to end branch yet\n",
    "                        end_branch = False\n",
    "                        break\n",
    "                    else:\n",
    "                        continue\n",
    "                    break  # break the outer loop as well\n",
    "\n",
    "            if end_branch:\n",
    "                pdbqt_lines.append(branch_queue.pop())\n",
    "                if old_roots:\n",
    "                    current_root = old_roots.pop()\n",
    "        # close opened branches if any is open\n",
    "        while len(branch_queue):\n",
    "            pdbqt_lines.append(branch_queue.pop())\n",
    "        pdbqt_lines.append('TORSDOF %i' % num_torsions)\n",
    "    else:\n",
    "        pdbqt_lines.extend(atom_lines)\n",
    "\n",
    "    return '\\n'.join(pdbqt_lines)\n",
    "\n",
    "def MolFromPDBQTBlock(filename, sanitize=True, removeHs=True):\n",
    "    \"\"\"Read PDBQT block to a RDKit Molecule\n",
    "    Parameters\n",
    "    ----------\n",
    "        block: string\n",
    "            Residue name which explicitly pint to a ligand(s).\n",
    "        sanitize: bool (default=True)\n",
    "            Should the sanitization be performed\n",
    "        removeHs: bool (default=True)\n",
    "            Should hydrogens be removed when reading molecule.\n",
    "    Returns\n",
    "    -------\n",
    "        mol: rdkit.Chem.rdchem.Mol\n",
    "            Molecule read from PDBQT\n",
    "    \"\"\"\n",
    "    pdb_lines = []\n",
    "    name = ''\n",
    "    data = {}\n",
    "    with open(filename) as file:\n",
    "        lines = file.readlines()\n",
    "        block = [line.rstrip() for line in lines]\n",
    "        \n",
    "    for line in block: #.split('\\n'):\n",
    "        # Get all know data from REMARK section\n",
    "        if line[:12] == 'REMARK  Name':\n",
    "            name = line[15:].strip()\n",
    "        elif line[:18] == 'REMARK VINA RESULT':\n",
    "            tmp = line[19:].split()\n",
    "            data['vina_affinity'] = tmp[0]\n",
    "            data['vina_rmsd_lb'] = tmp[1]\n",
    "            data['vina_rmsd_ub'] = tmp[2]\n",
    "\n",
    "        # no more data to collect\n",
    "        if line[:4] != 'ATOM':\n",
    "            continue\n",
    "\n",
    "        pdb_line = line[:56]\n",
    "        pdb_line += '1.00  0.00           '\n",
    "\n",
    "        # Do proper atom type lookup\n",
    "        atom_type = line[71:].split()[1]\n",
    "        if atom_type == 'A':\n",
    "            atom_type = 'C'\n",
    "        elif atom_type[:1] == 'O':\n",
    "            atom_type = 'O'\n",
    "        elif atom_type[:1] == 'H':\n",
    "            atom_type = 'H'\n",
    "            if removeHs:\n",
    "                continue\n",
    "        elif atom_type == 'NA':\n",
    "            atom_type = 'N'\n",
    "\n",
    "        pdb_lines.append(pdb_line + atom_type)\n",
    "    mol = Chem.MolFromPDBBlock('\\n'.join(pdb_lines), sanitize=False)\n",
    "    if sanitize:\n",
    "        Chem.SanitizeMol(mol)\n",
    "    else:\n",
    "        Chem.GetSSSR(mol)\n",
    "    # reorder atoms using serial\n",
    "    new_order = sorted(range(mol.GetNumAtoms()),\n",
    "                       key=lambda i: (mol.GetAtomWithIdx(i)\n",
    "                                      .GetPDBResidueInfo()\n",
    "                                      .GetSerialNumber()))\n",
    "    mol = Chem.RenumberAtoms(mol, new_order)\n",
    "\n",
    "    # properties must be set on final copy of Mol, RenumberAtoms purges data\n",
    "    mol.SetProp('_Name', name)\n",
    "    for k, v in data.items():\n",
    "        mol.SetProp(str(k), str(v))\n",
    "\n",
    "    return mol"
   ]
  },
  {
   "cell_type": "markdown",
   "id": "925c2136",
   "metadata": {},
   "source": [
    "Using radius of gyration can an efficient box be generated for the docking process. The radius of gyration and center of geometry of the ligand will be calculated to define the box size. \n",
    "\n",
    "[Meer uitleg?]"
   ]
  },
  {
   "cell_type": "code",
   "execution_count": null,
   "id": "1f7b7941",
   "metadata": {},
   "outputs": [],
   "source": [
    "import math\n",
    "\n",
    "def Rg(filename):\n",
    "    '''\n",
    "    Calculates the Radius of Gyration (Rg) of a protein given its .pdb \n",
    "    structure file. Returns the Rg integer value in Angstrom.\n",
    "    '''\n",
    "    coord = list()\n",
    "    mass = list()\n",
    "    Structure = open(filename, 'r')\n",
    "    for line in Structure:\n",
    "        try:\n",
    "            line = line.split()\n",
    "            x = float(line[6])\n",
    "            y = float(line[7])\n",
    "            z = float(line[8])\n",
    "            coord.append([x, y, z])\n",
    "            if line[-1] == 'C':\n",
    "                mass.append(12.0107)\n",
    "            elif line[-1] == 'O':\n",
    "                mass.append(15.9994)\n",
    "            elif line[-1] == 'N':\n",
    "                mass.append(14.0067)\n",
    "            elif line[-1] == 'S':\n",
    "                mass.append(32.065)\n",
    "        except:\n",
    "            pass\n",
    "    xm = [(m*i, m*j, m*k) for (i, j, k), m in zip(coord, mass)]\n",
    "    tmass = sum(mass)\n",
    "    rr = sum(mi*i + mj*j + mk*k for (i, j, k), (mi, mj, mk) in zip(coord, xm))\n",
    "    mm = sum((sum(i) / tmass)**2 for i in zip(*xm))\n",
    "    rg = math.sqrt(rr / tmass-mm)\n",
    "    return(round(rg, 3))\n",
    "\n",
    "# Calculate the center based on the reference ligand\n",
    "Rg = Rg('ligand-{}.pdb'.format(LIGAND_CODE))\n",
    "print(\"Radius of Gyration = {}\".format(Rg))"
   ]
  },
  {
   "cell_type": "code",
   "execution_count": null,
   "id": "4dc206f8",
   "metadata": {},
   "outputs": [],
   "source": [
    "# Calculate center of geometry\n",
    "def COG(pdbfile, include='ATOM,HETATM'):\n",
    "    \"\"\"\n",
    "    Calculates center of geometry of a protein and/or ligand structure.\n",
    "    Returns:\n",
    "        center (list): List of float coordinates [x,y,z] that represent the\n",
    "        center of geometry (precision 3).\n",
    "    \"\"\"\n",
    "\n",
    "    center = [None, None, None]\n",
    "    include = tuple(include.split(','))\n",
    "\n",
    "    with open(pdbfile) as pdb:\n",
    "\n",
    "        # extract coordinates [ [x1,y1,z1], [x2,y2,z2], ... ]\n",
    "        coordinates = []\n",
    "        for line in pdb:\n",
    "            if line.startswith(include):\n",
    "                coordinates.append([float(line[30:38]),    # x_coord\n",
    "                                    float(line[38:46]),    # y_coord\n",
    "                                    float(line[46:54])     # z_coord\n",
    "                                   ])\n",
    "\n",
    "        # calculate center of geometry\n",
    "        center = [sum([coordinates[i][j]/(len(coordinates))\n",
    "              for i in range(len(coordinates))]) for j in range(3)]\n",
    "        center = [round(center[i], 3) for i in range(3)]\n",
    "    return center\n",
    "\n",
    "CenterOfGeometry = COG('ligand-{}.pdb'.format(LIGAND_CODE))\n",
    "print(\"Center Of Geometry = {}\".format(CenterOfGeometry))"
   ]
  },
  {
   "cell_type": "markdown",
   "id": "859a422c",
   "metadata": {},
   "source": [
    "#### Docking\n",
    "\n",
    "Run docking on each of the ligands seperatly and visually inspect the results. "
   ]
  },
  {
   "cell_type": "markdown",
   "id": "4575c346",
   "metadata": {},
   "source": [
    "##### Ligand_00"
   ]
  },
  {
   "cell_type": "markdown",
   "id": "44855ae2",
   "metadata": {},
   "source": [
    "Prepare the protein and ligand"
   ]
  },
  {
   "cell_type": "code",
   "execution_count": null,
   "id": "2510da23",
   "metadata": {},
   "outputs": [],
   "source": [
    "protein = Chem.MolFromPDBFile('../Bioinformatics/4DJW_prepped.pdb'.format(PDBCODE))\n",
    "a = MolToPDBQTBlock(protein,flexible=False)\n",
    "with open('protein.pdbqt','w') as outfile:\n",
    "    for line in a:\n",
    "        outfile.write(line)"
   ]
  },
  {
   "cell_type": "code",
   "execution_count": null,
   "id": "2929e49f",
   "metadata": {},
   "outputs": [],
   "source": [
    "LIGAND_TO_DOCK = 'ligand_00' # Write the ligand you want to dock here.\n",
    "m = Chem.MolFromMolFile('{}.mol'.format(LIGAND_TO_DOCK))\n",
    "a = MolToPDBQTBlock(m)\n",
    "with open('{}.pdbqt'.format(LIGAND_TO_DOCK), 'w') as outfile:\n",
    "    for line in a:\n",
    "        outfile.write(line)"
   ]
  },
  {
   "cell_type": "markdown",
   "id": "33a11669",
   "metadata": {},
   "source": [
    "Perform the docking (This can take a while)"
   ]
  },
  {
   "cell_type": "markdown",
   "id": "c9eaa7d9",
   "metadata": {},
   "source": [
    "[Uitleg hoe werkt deze docking?]"
   ]
  },
  {
   "cell_type": "code",
   "execution_count": null,
   "id": "c5e15265",
   "metadata": {},
   "outputs": [],
   "source": [
    "v = Vina(sf_name='vina')\n",
    "\n",
    "v.set_receptor('protein.pdbqt')\n",
    "\n",
    "v.set_ligand_from_file('{}.pdbqt'.format(LIGAND_TO_DOCK))\n",
    "\n",
    "center = {\n",
    "     'center_x' : CenterOfGeometry[0], \n",
    "     'center_y' : CenterOfGeometry[1], \n",
    "     'center_z' : CenterOfGeometry[2]\n",
    "     \n",
    "}\n",
    "\n",
    "size = { \n",
    "    'size_x' : Rg * 2.9 ,\n",
    "    'size_y' : Rg * 2.9,\n",
    "    'size_z' : Rg * 2.9,           \n",
    "           }\n",
    " \n",
    "\n",
    "v.compute_vina_maps(center=[center['center_x'], center['center_y'], center['center_z']], \n",
    "                    box_size=[size['size_x'], size['size_y'], size['size_z']])\n",
    "\n",
    "'''\n",
    "# Score the current pose\n",
    "energy = v.score()\n",
    "print('Score before minimization: %.3f (kcal/mol)' % energy[0])\n",
    "\n",
    "# Minimized locally the current pose\n",
    "energy_minimized = v.optimize()\n",
    "print('Score after minimization : %.3f (kcal/mol)' % energy_minimized[0])\n",
    "v.write_pose('1iep_ligand_minimized.pdbqt', overwrite=True)\n",
    "'''\n",
    "\n",
    "# Dock the ligand\n",
    "v.dock(exhaustiveness=10, n_poses=10)\n",
    "v.write_poses('docking_results.pdbqt', n_poses=1, overwrite=True)"
   ]
  },
  {
   "cell_type": "code",
   "execution_count": null,
   "id": "10d3eb6f",
   "metadata": {},
   "outputs": [],
   "source": [
    "# Create a mol object from the docking results, write the mol to file and print the predicted affinity\n",
    "mol = MolFromPDBQTBlock('docking_results.pdbqt',sanitize=False)\n",
    "Chem.rdmolfiles.MolToPDBFile(mol, '{}_docked.pdb'.format(LIGAND_TO_DOCK))\n",
    "Ki = (math.exp(float(mol.GetProp('vina_affinity'))/0.592))\n",
    "pKi = -math.log10(Ki)\n",
    "pChEMBL = pKi\n",
    "print('The affinity predicted by Vina = {} (kcal/mol)'.format(mol.GetProp('vina_affinity')))\n",
    "print('Which (approximately) corresponds to a pChEMBL of {:.2f}'.format(pKi))\n",
    "\n",
    "# Kan de Ki vervangen worden door IC50?"
   ]
  },
  {
   "cell_type": "markdown",
   "id": "9fa1aa05",
   "metadata": {},
   "source": [
    "3D visualization of docking results"
   ]
  },
  {
   "cell_type": "code",
   "execution_count": null,
   "id": "db68d6c3",
   "metadata": {},
   "outputs": [],
   "source": [
    "view = py3Dmol.view()\n",
    "view.removeAllModels()\n",
    "view.setViewStyle({'style':'outline','color':'black','width':0.1})\n",
    "\n",
    "view.addModel(open('../Bioinformatics/4DJW_prepped.pdb'.format(PDBCODE),'r').read(),format='pdb')\n",
    "Prot=view.getModel()\n",
    "Prot.setStyle({'cartoon':{'arrows':True, 'tubes':True, 'style':'oval', 'color':'white'}})\n",
    "view.addSurface(py3Dmol.VDW,{'opacity':0.6,'color':'white'})\n",
    "\n",
    "ligtmp = 'ligand-{}.pdb'.format(LIGAND_CODE)\n",
    "view.addModels(open(ligtmp,'r').read(),format='pdb')\n",
    "ref_m = view.getModel()\n",
    "ref_m.setStyle({},{'stick':{'colorscheme':'magentaCarbon','radius':0.2}})\n",
    "\n",
    "docktmp = '{}_docked.pdb'.format(LIGAND_TO_DOCK)\n",
    "view.addModels(open(docktmp,'r').read(),format='pdb')\n",
    "x = view.getModel()\n",
    "x.setStyle({},{'stick':{'colorscheme':'cyanCarbon','radius':0.2}})\n",
    "\n",
    "print('Reference: Magenta | Vina Pose: Cyan')\n",
    "\n",
    "view.zoomTo()\n",
    "view.show()"
   ]
  },
  {
   "cell_type": "markdown",
   "id": "3a22c0ab",
   "metadata": {},
   "source": [
    "[Waarom zijn er hier 2 te zien?]"
   ]
  },
  {
   "cell_type": "markdown",
   "id": "c2a771f7",
   "metadata": {},
   "source": [
    "The novel ligand_00 binds on the same place as the reference ligand. However, the residuals are in somewhat different direction. "
   ]
  },
  {
   "cell_type": "markdown",
   "id": "09a879ff",
   "metadata": {},
   "source": [
    "Add a nglviewer to show key interactions"
   ]
  },
  {
   "cell_type": "code",
   "execution_count": null,
   "id": "6b0a8348",
   "metadata": {},
   "outputs": [],
   "source": [
    "# combine protein and ligand files\n",
    "filenames = [\n",
    "'../Bioinformatics/4DJW_prepped.pdb'.format(PDBCODE),\n",
    "'{}_docked.pdb'.format(LIGAND_TO_DOCK)\n",
    "]\n",
    "with open('{}-complex.pdb'.format(PDBCODE), 'w') as outfile:\n",
    "    for fname in filenames:\n",
    "        with open(fname) as infile:\n",
    "            for line in infile:\n",
    "                if not \"END\" in line:\n",
    "                    outfile.write(line)"
   ]
  },
  {
   "cell_type": "code",
   "execution_count": null,
   "id": "294e600f",
   "metadata": {},
   "outputs": [],
   "source": [
    "docktmp = '{}_docked.pdb'.format(LIGAND_TO_DOCK)\n",
    "\n",
    "with open('{}-complex.pdb'.format(PDBCODE)) as f:\n",
    "    view = nglview.show_file(f, ext=\"pdb\")\n",
    "    \n",
    "view.center(\"UNL\")\n",
    "viewer.show_residues_around(view, selection=\"UNL\")\n",
    "view"
   ]
  },
  {
   "cell_type": "markdown",
   "id": "aa9c0099",
   "metadata": {},
   "source": [
    "In above viewer can be seen that the novel ligand_00 can have interaction with the residuals of the protein, like H-bonds with the nitrogen and oxygen atoms of the ligand. "
   ]
  },
  {
   "cell_type": "markdown",
   "id": "d1d2e056",
   "metadata": {},
   "source": [
    "##### Ligand_01"
   ]
  },
  {
   "cell_type": "markdown",
   "id": "b4e13964",
   "metadata": {},
   "source": [
    "Prepare the protein and ligand"
   ]
  },
  {
   "cell_type": "code",
   "execution_count": null,
   "id": "d80980b0",
   "metadata": {},
   "outputs": [],
   "source": [
    "protein = Chem.MolFromPDBFile('../Bioinformatics/4DJW_prepped.pdb'.format(PDBCODE))\n",
    "a = MolToPDBQTBlock(protein,flexible=False)\n",
    "with open('protein.pdbqt','w') as outfile:\n",
    "    for line in a:\n",
    "        outfile.write(line)"
   ]
  },
  {
   "cell_type": "code",
   "execution_count": null,
   "id": "7ca54089",
   "metadata": {},
   "outputs": [],
   "source": [
    "LIGAND_TO_DOCK = 'ligand_01' # Write the ligand you want to dock here.\n",
    "m = Chem.MolFromMolFile('{}.mol'.format(LIGAND_TO_DOCK))\n",
    "a = MolToPDBQTBlock(m)\n",
    "with open('{}.pdbqt'.format(LIGAND_TO_DOCK), 'w') as outfile:\n",
    "    for line in a:\n",
    "        outfile.write(line)"
   ]
  },
  {
   "cell_type": "markdown",
   "id": "22b6168e",
   "metadata": {},
   "source": [
    "Perform the docking "
   ]
  },
  {
   "cell_type": "code",
   "execution_count": null,
   "id": "416843db",
   "metadata": {},
   "outputs": [],
   "source": [
    "v = Vina(sf_name='vina')\n",
    "\n",
    "v.set_receptor('protein.pdbqt')\n",
    "\n",
    "v.set_ligand_from_file('{}.pdbqt'.format(LIGAND_TO_DOCK))\n",
    "\n",
    "center = {\n",
    "     'center_x' : CenterOfGeometry[0], \n",
    "     'center_y' : CenterOfGeometry[1], \n",
    "     'center_z' : CenterOfGeometry[2]\n",
    "     \n",
    "}\n",
    "\n",
    "size = { \n",
    "    'size_x' : Rg * 2.9 ,\n",
    "    'size_y' : Rg * 2.9,\n",
    "    'size_z' : Rg * 2.9,           \n",
    "           }\n",
    " \n",
    "\n",
    "v.compute_vina_maps(center=[center['center_x'], center['center_y'], center['center_z']], \n",
    "                    box_size=[size['size_x'], size['size_y'], size['size_z']])\n",
    "\n",
    "'''\n",
    "# Score the current pose\n",
    "energy = v.score()\n",
    "print('Score before minimization: %.3f (kcal/mol)' % energy[0])\n",
    "\n",
    "# Minimized locally the current pose\n",
    "energy_minimized = v.optimize()\n",
    "print('Score after minimization : %.3f (kcal/mol)' % energy_minimized[0])\n",
    "v.write_pose('1iep_ligand_minimized.pdbqt', overwrite=True)\n",
    "'''\n",
    "\n",
    "# Dock the ligand\n",
    "v.dock(exhaustiveness=10, n_poses=10)\n",
    "v.write_poses('docking_results.pdbqt', n_poses=1, overwrite=True)"
   ]
  },
  {
   "cell_type": "code",
   "execution_count": null,
   "id": "0430b2f0",
   "metadata": {},
   "outputs": [],
   "source": [
    "# Create a mol object from the docking results, write the mol to file and print the predicted affinity\n",
    "mol = MolFromPDBQTBlock('docking_results.pdbqt',sanitize=False)\n",
    "Chem.rdmolfiles.MolToPDBFile(mol, '{}_docked.pdb'.format(LIGAND_TO_DOCK))\n",
    "Ki = (math.exp(float(mol.GetProp('vina_affinity'))/0.592))\n",
    "pKi = -math.log10(Ki)\n",
    "pChEMBL = pKi\n",
    "print('The affinity predicted by Vina = {} (kcal/mol)'.format(mol.GetProp('vina_affinity')))\n",
    "print('Which (approximately) corresponds to a pChEMBL of {:.2f}'.format(pKi))\n",
    "\n",
    "# Kan de Ki vervangen worden door IC50?"
   ]
  },
  {
   "cell_type": "markdown",
   "id": "0410c56f",
   "metadata": {},
   "source": [
    "3D visualization of docking results"
   ]
  },
  {
   "cell_type": "code",
   "execution_count": null,
   "id": "a56fa9c3",
   "metadata": {},
   "outputs": [],
   "source": [
    "view = py3Dmol.view()\n",
    "view.removeAllModels()\n",
    "view.setViewStyle({'style':'outline','color':'black','width':0.1})\n",
    "\n",
    "view.addModel(open('../Bioinformatics/4DJW_prepped.pdb'.format(PDBCODE),'r').read(),format='pdb')\n",
    "Prot=view.getModel()\n",
    "Prot.setStyle({'cartoon':{'arrows':True, 'tubes':True, 'style':'oval', 'color':'white'}})\n",
    "view.addSurface(py3Dmol.VDW,{'opacity':0.6,'color':'white'})\n",
    "\n",
    "ligtmp = 'ligand-{}.pdb'.format(LIGAND_CODE)\n",
    "view.addModels(open(ligtmp,'r').read(),format='pdb')\n",
    "ref_m = view.getModel()\n",
    "ref_m.setStyle({},{'stick':{'colorscheme':'magentaCarbon','radius':0.2}})\n",
    "\n",
    "docktmp = '{}_docked.pdb'.format(LIGAND_TO_DOCK)\n",
    "view.addModels(open(docktmp,'r').read(),format='pdb')\n",
    "x = view.getModel()\n",
    "x.setStyle({},{'stick':{'colorscheme':'cyanCarbon','radius':0.2}})\n",
    "\n",
    "print('Reference: Magenta | Vina Pose: Cyan')\n",
    "\n",
    "view.zoomTo()\n",
    "view.show()"
   ]
  },
  {
   "cell_type": "markdown",
   "id": "2c2e2091",
   "metadata": {},
   "source": [
    "[Uitleg wat te zien]"
   ]
  },
  {
   "cell_type": "markdown",
   "id": "4f8ac759",
   "metadata": {},
   "source": [
    "Add a nglviewer to show key interactions"
   ]
  },
  {
   "cell_type": "code",
   "execution_count": null,
   "id": "98fd130d",
   "metadata": {},
   "outputs": [],
   "source": [
    "# combine protein and ligand files\n",
    "filenames = [\n",
    "'../Bioinformatics/4DJW_prepped.pdb'.format(PDBCODE),\n",
    "'{}_docked.pdb'.format(LIGAND_TO_DOCK)\n",
    "]\n",
    "with open('{}-complex.pdb'.format(PDBCODE), 'w') as outfile:\n",
    "    for fname in filenames:\n",
    "        with open(fname) as infile:\n",
    "            for line in infile:\n",
    "                if not \"END\" in line:\n",
    "                    outfile.write(line)"
   ]
  },
  {
   "cell_type": "code",
   "execution_count": null,
   "id": "5719c382",
   "metadata": {},
   "outputs": [],
   "source": [
    "docktmp = '{}_docked.pdb'.format(LIGAND_TO_DOCK)\n",
    "\n",
    "with open('{}-complex.pdb'.format(PDBCODE)) as f:\n",
    "    view = nglview.show_file(f, ext=\"pdb\")\n",
    "    \n",
    "view.center(\"UNL\")\n",
    "viewer.show_residues_around(view, selection=\"UNL\")\n",
    "view"
   ]
  },
  {
   "cell_type": "markdown",
   "id": "ae85c264",
   "metadata": {},
   "source": [
    "This interactions between ligand_01 and the protein are shown in the viewer above. "
   ]
  },
  {
   "cell_type": "code",
   "execution_count": null,
   "id": "4f6bf773",
   "metadata": {},
   "outputs": [],
   "source": []
  }
 ],
 "metadata": {
  "kernelspec": {
   "display_name": "Python 3 (ipykernel)",
   "language": "python",
   "name": "python3"
  },
  "language_info": {
   "codemirror_mode": {
    "name": "ipython",
    "version": 3
   },
   "file_extension": ".py",
   "mimetype": "text/x-python",
   "name": "python",
   "nbconvert_exporter": "python",
   "pygments_lexer": "ipython3",
   "version": "3.9.12"
  }
 },
 "nbformat": 4,
 "nbformat_minor": 5
}
