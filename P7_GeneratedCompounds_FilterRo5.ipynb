{
 "cells": [
  {
   "cell_type": "markdown",
   "id": "09502dac-a773-486a-bc80-96a32e03033c",
   "metadata": {},
   "source": [
    "# Part 7: Filter generated compounds by Lipinski's rule of five"
   ]
  },
  {
   "cell_type": "markdown",
   "id": "760c59df",
   "metadata": {},
   "source": [
    "For the novel compounds it is important that they are also drug-like. Therefore, these generated molecules will be marked if they fulfill Lipinski's rule of 5, to determine if these drugs would be orally bioavailable. This will be performed in the same way as part 2 with the ChEMBL data. "
   ]
  },
  {
   "cell_type": "markdown",
   "id": "1db40aee-1b29-425d-9f68-5b51acd183c4",
   "metadata": {},
   "source": [
    "Import required libraries"
   ]
  },
  {
   "cell_type": "code",
   "execution_count": null,
   "id": "b17aec52-7359-48b4-8dfb-54c9bcdeb103",
   "metadata": {},
   "outputs": [
    {
     "ename": "ModuleNotFoundError",
     "evalue": "No module named 'rdkit'",
     "output_type": "error",
     "traceback": [
      "\u001B[0;31m---------------------------------------------------------------------------\u001B[0m",
      "\u001B[0;31mModuleNotFoundError\u001B[0m                       Traceback (most recent call last)",
      "\u001B[0;32m<ipython-input-1-00bd586a520c>\u001B[0m in \u001B[0;36m<module>\u001B[0;34m\u001B[0m\n\u001B[1;32m      7\u001B[0m \u001B[0;32mfrom\u001B[0m \u001B[0mmatplotlib\u001B[0m\u001B[0;34m.\u001B[0m\u001B[0mlines\u001B[0m \u001B[0;32mimport\u001B[0m \u001B[0mLine2D\u001B[0m\u001B[0;34m\u001B[0m\u001B[0;34m\u001B[0m\u001B[0m\n\u001B[1;32m      8\u001B[0m \u001B[0;32mimport\u001B[0m \u001B[0mmatplotlib\u001B[0m\u001B[0;34m.\u001B[0m\u001B[0mpatches\u001B[0m \u001B[0;32mas\u001B[0m \u001B[0mmpatches\u001B[0m\u001B[0;34m\u001B[0m\u001B[0;34m\u001B[0m\u001B[0m\n\u001B[0;32m----> 9\u001B[0;31m \u001B[0;32mfrom\u001B[0m \u001B[0mrdkit\u001B[0m \u001B[0;32mimport\u001B[0m \u001B[0mChem\u001B[0m\u001B[0;34m\u001B[0m\u001B[0;34m\u001B[0m\u001B[0m\n\u001B[0m\u001B[1;32m     10\u001B[0m \u001B[0;32mfrom\u001B[0m \u001B[0mrdkit\u001B[0m\u001B[0;34m.\u001B[0m\u001B[0mChem\u001B[0m \u001B[0;32mimport\u001B[0m \u001B[0mDescriptors\u001B[0m\u001B[0;34m,\u001B[0m \u001B[0mDraw\u001B[0m\u001B[0;34m,\u001B[0m \u001B[0mPandasTools\u001B[0m\u001B[0;34m\u001B[0m\u001B[0;34m\u001B[0m\u001B[0m\n",
      "\u001B[0;31mModuleNotFoundError\u001B[0m: No module named 'rdkit'"
     ]
    }
   ],
   "source": [
    "from pathlib import Path\n",
    "import math\n",
    "\n",
    "import numpy as np\n",
    "import pandas as pd\n",
    "import matplotlib.pyplot as plt\n",
    "from matplotlib.lines import Line2D\n",
    "import matplotlib.patches as mpatches\n",
    "from rdkit import Chem\n",
    "from rdkit.Chem import Descriptors, Draw, PandasTools"
   ]
  },
  {
   "cell_type": "markdown",
   "id": "96101183-f74b-4edb-8f7b-7f357eff0c73",
   "metadata": {},
   "source": [
    "Set path to this notebook"
   ]
  },
  {
   "cell_type": "code",
   "execution_count": null,
   "id": "272c9e69-0141-458a-ae66-f1e7287f18b1",
   "metadata": {},
   "outputs": [],
   "source": [
    "HERE = Path(_dh[-1])\n",
    "DATA = HERE / \"data\""
   ]
  },
  {
   "cell_type": "markdown",
   "id": "1394636d-03bc-4384-b882-a25fe5280e19",
   "metadata": {},
   "source": [
    "## Investigate compliance with Ro5"
   ]
  },
  {
   "cell_type": "markdown",
   "id": "704d8df0-9d1c-43e2-81fb-5eafcfffd8f2",
   "metadata": {},
   "source": [
    "Define function to test if the molecule fulfills the lipinski's rule of five"
   ]
  },
  {
   "cell_type": "code",
   "execution_count": null,
   "id": "daf43328-7289-472f-a552-d84b78c3f096",
   "metadata": {},
   "outputs": [],
   "source": [
    "def calculate_ro5_properties(smiles):\n",
    "    \"\"\"\n",
    "    Test if input molecule (SMILES) fulfills Lipinski's rule of five.\n",
    "\n",
    "    Parameters\n",
    "    ----------\n",
    "    smiles : str\n",
    "        SMILES for a molecule.\n",
    "\n",
    "    Returns\n",
    "    -------\n",
    "    pandas.Series\n",
    "        Molecular weight, number of hydrogen bond acceptors/donor and logP value\n",
    "        and Lipinski's rule of five compliance for input molecule.\n",
    "    \"\"\"\n",
    "    # RDKit molecule from SMILES\n",
    "    molecule = Chem.MolFromSmiles(smiles)\n",
    "    # Calculate Ro5-relevant chemical properties\n",
    "    molecular_weight = Descriptors.ExactMolWt(molecule)\n",
    "    n_hba = Descriptors.NumHAcceptors(molecule)\n",
    "    n_hbd = Descriptors.NumHDonors(molecule)\n",
    "    logp = Descriptors.MolLogP(molecule)\n",
    "    # Check if Ro5 conditions fulfilled\n",
    "    conditions = [molecular_weight <= 500, n_hba <= 10, n_hbd <= 5, logp <= 5]\n",
    "    ro5_fulfilled = sum(conditions) >= 3\n",
    "    # Return True if no more than one out of four conditions is violated\n",
    "    return pd.Series(\n",
    "        [molecular_weight, n_hba, n_hbd, logp, ro5_fulfilled],\n",
    "        index=[\"molecular_weight\", \"n_hba\", \"n_hbd\", \"logp\", \"ro5_fulfilled\"],\n",
    "    )"
   ]
  },
  {
   "cell_type": "markdown",
   "id": "826a3501-2c1a-4839-b937-315b3ef1c78d",
   "metadata": {},
   "source": [
    "Read list of novel drawn compounds"
   ]
  },
  {
   "cell_type": "code",
   "execution_count": null,
   "id": "3db3b2a8",
   "metadata": {},
   "outputs": [],
   "source": [
    "molecules = pd.read_csv(DATA / \"generated.tsv\", sep = \"\\t\")\n",
    "print(molecules.shape)\n",
    "molecules.head()"
   ]
  },
  {
   "cell_type": "markdown",
   "id": "585f86bd-30aa-4977-a28c-730bd9926c25",
   "metadata": {},
   "source": [
    "Apply function to all molecules in the dataset"
   ]
  },
  {
   "cell_type": "code",
   "execution_count": null,
   "id": "dcbdc10c-f718-462f-b18e-401b12721713",
   "metadata": {},
   "outputs": [],
   "source": [
    "ro5_properties = molecules[\"SMILES\"].apply(calculate_ro5_properties)\n",
    "ro5_properties.head()"
   ]
  },
  {
   "cell_type": "code",
   "execution_count": null,
   "id": "aed58ba0-17fd-4985-988c-30c2ab6503c5",
   "metadata": {},
   "outputs": [],
   "source": [
    "molecules = pd.concat([molecules, ro5_properties], axis=1)\n",
    "molecules.head()"
   ]
  },
  {
   "cell_type": "markdown",
   "id": "450504cb-26f8-40e6-b224-90197d1fd53c",
   "metadata": {},
   "source": [
    "Separate the data that violate the ro5 from the data that fulfill"
   ]
  },
  {
   "cell_type": "code",
   "execution_count": null,
   "id": "61dc821c-bfdc-4f2b-9df2-17a70cd46d4b",
   "metadata": {},
   "outputs": [],
   "source": [
    "molecules_ro5_fulfilled = molecules[molecules[\"ro5_fulfilled\"]]\n",
    "molecules_ro5_violated = molecules[~molecules[\"ro5_fulfilled\"]]\n",
    "\n",
    "print(f\"# compounds in unfiltered data set: {molecules.shape[0]}\")\n",
    "print(f\"# compounds in filtered data set: {molecules_ro5_fulfilled.shape[0]}\")\n",
    "print(f\"# compounds not compliant with the Ro5: {molecules_ro5_violated.shape[0]}\")\n",
    "print(f\"# Percentage compounds not compliant with the Ro5: {molecules_ro5_violated.shape[0]/molecules.shape[0]*100 }%\")"
   ]
  },
  {
   "cell_type": "markdown",
   "id": "050db1cf",
   "metadata": {},
   "source": [
    "61 (6.1%) of the generated compounds violate more than one rule of the Ro5, which makes them less expected to be orally avaiable. However, as discussed in part 2, this is only a rule of thumb. For that reason, they are not removed from the list, but only marked. Futher research can look at those compounds manually. "
   ]
  },
  {
   "cell_type": "markdown",
   "id": "b2ca5c13-d805-419e-8617-b10ff645b864",
   "metadata": {},
   "source": [
    "Save the data to a csv file of the molecules with marking if the ro5 is fulfilled "
   ]
  },
  {
   "cell_type": "code",
   "execution_count": null,
   "id": "eec0ecb4-5151-492c-80fb-bcc2681731ee",
   "metadata": {},
   "outputs": [],
   "source": [
    "molecules.to_csv(DATA / \"generated_lipinski.csv\")\n",
    "molecules.head()"
   ]
  },
  {
   "cell_type": "code",
   "execution_count": null,
   "id": "69e634dd-8527-4e91-b1db-985d694074e3",
   "metadata": {},
   "outputs": [],
   "source": []
  }
 ],
 "metadata": {
  "kernelspec": {
   "display_name": "Python 3 (ipykernel)",
   "language": "python",
   "name": "python3"
  },
  "language_info": {
   "codemirror_mode": {
    "name": "ipython",
    "version": 3
   },
   "file_extension": ".py",
   "mimetype": "text/x-python",
   "name": "python",
   "nbconvert_exporter": "python",
   "pygments_lexer": "ipython3",
   "version": "3.9.12"
  }
 },
 "nbformat": 4,
 "nbformat_minor": 5
}
