{
 "cells": [
  {
   "cell_type": "markdown",
   "id": "09502dac-a773-486a-bc80-96a32e03033c",
   "metadata": {},
   "source": [
    "# Part 7: Filter generated compounds by Lipinski's rule of five"
   ]
  },
  {
   "cell_type": "markdown",
   "id": "760c59df",
   "metadata": {},
   "source": [
    "For the novel compounds it is important that they are also drug-like. Therefore, these generated molecules will be marked if they fulfill Lipinski's rule of 5, to determine if these drugs would be orally bioavailable. This will be performed in the same way as part 2 with the ChEMBL data. "
   ]
  },
  {
   "cell_type": "markdown",
   "id": "1db40aee-1b29-425d-9f68-5b51acd183c4",
   "metadata": {},
   "source": [
    "Import required libraries"
   ]
  },
  {
   "cell_type": "code",
   "execution_count": 1,
   "id": "b17aec52-7359-48b4-8dfb-54c9bcdeb103",
   "metadata": {},
   "outputs": [],
   "source": [
    "from pathlib import Path\n",
    "import math\n",
    "\n",
    "import numpy as np\n",
    "import pandas as pd\n",
    "import matplotlib.pyplot as plt\n",
    "from matplotlib.lines import Line2D\n",
    "import matplotlib.patches as mpatches\n",
    "from rdkit import Chem\n",
    "from rdkit.Chem import Descriptors, Draw, PandasTools"
   ]
  },
  {
   "cell_type": "markdown",
   "id": "96101183-f74b-4edb-8f7b-7f357eff0c73",
   "metadata": {},
   "source": [
    "Set path to this notebook"
   ]
  },
  {
   "cell_type": "code",
   "execution_count": 2,
   "id": "272c9e69-0141-458a-ae66-f1e7287f18b1",
   "metadata": {},
   "outputs": [],
   "source": [
    "HERE = Path(_dh[-1])\n",
    "DATA = HERE / \"data\""
   ]
  },
  {
   "cell_type": "markdown",
   "id": "1394636d-03bc-4384-b882-a25fe5280e19",
   "metadata": {},
   "source": [
    "## Investigate compliance with Ro5"
   ]
  },
  {
   "cell_type": "markdown",
   "id": "704d8df0-9d1c-43e2-81fb-5eafcfffd8f2",
   "metadata": {},
   "source": [
    "Define function to test if the molecule fulfills the lipinski's rule of five"
   ]
  },
  {
   "cell_type": "code",
   "execution_count": 3,
   "id": "daf43328-7289-472f-a552-d84b78c3f096",
   "metadata": {},
   "outputs": [],
   "source": [
    "def calculate_ro5_properties(smiles):\n",
    "    \"\"\"\n",
    "    Test if input molecule (SMILES) fulfills Lipinski's rule of five.\n",
    "\n",
    "    Parameters\n",
    "    ----------\n",
    "    smiles : str\n",
    "        SMILES for a molecule.\n",
    "\n",
    "    Returns\n",
    "    -------\n",
    "    pandas.Series\n",
    "        Molecular weight, number of hydrogen bond acceptors/donor and logP value\n",
    "        and Lipinski's rule of five compliance for input molecule.\n",
    "    \"\"\"\n",
    "    # RDKit molecule from SMILES\n",
    "    molecule = Chem.MolFromSmiles(smiles)\n",
    "    # Calculate Ro5-relevant chemical properties\n",
    "    molecular_weight = Descriptors.ExactMolWt(molecule)\n",
    "    n_hba = Descriptors.NumHAcceptors(molecule)\n",
    "    n_hbd = Descriptors.NumHDonors(molecule)\n",
    "    logp = Descriptors.MolLogP(molecule)\n",
    "    # Check if Ro5 conditions fulfilled\n",
    "    conditions = [molecular_weight <= 500, n_hba <= 10, n_hbd <= 5, logp <= 5]\n",
    "    ro5_fulfilled = sum(conditions) >= 3\n",
    "    # Return True if no more than one out of four conditions is violated\n",
    "    return pd.Series(\n",
    "        [molecular_weight, n_hba, n_hbd, logp, ro5_fulfilled],\n",
    "        index=[\"molecular_weight\", \"n_hba\", \"n_hbd\", \"logp\", \"ro5_fulfilled\"],\n",
    "    )"
   ]
  },
  {
   "cell_type": "markdown",
   "id": "826a3501-2c1a-4839-b937-315b3ef1c78d",
   "metadata": {},
   "source": [
    "Read list of novel drawn compounds"
   ]
  },
  {
   "cell_type": "code",
   "execution_count": 4,
   "id": "3db3b2a8",
   "metadata": {},
   "outputs": [
    {
     "name": "stdout",
     "output_type": "stream",
     "text": [
      "(1000, 3)\n"
     ]
    },
    {
     "data": {
      "text/plain": "                                              SMILES      Group  \\\n0  Cc1cc(CN2CCCC2)cc(C2CCC(N3CCC(C(=O)NCCO)C3)=CC...  Generated   \n1                       N#Cc1cc(OCC(N)c2ccccc2)ccc1F  Generated   \n2                         COc1ccccc1CNCNC(C)c1ccccc1  Generated   \n3  NC1=NC(CF)(c2cc(NC(=O)c3cnc(OCc4ccccn4)cn3)ccc...  Generated   \n4    CC1(C)SCC(C)(c2cccc(NC(=O)c3ccc(Br)cn3)c2)N=C1N  Generated   \n\n                                              RDMol  \n0  <rdkit.Chem.rdchem.Mol object at 0x7f6473773d00>  \n1  <rdkit.Chem.rdchem.Mol object at 0x7f648245a7b0>  \n2  <rdkit.Chem.rdchem.Mol object at 0x7f648245abc0>  \n3  <rdkit.Chem.rdchem.Mol object at 0x7f648245ac10>  \n4  <rdkit.Chem.rdchem.Mol object at 0x7f648245a4e0>  ",
      "text/html": "<div>\n<style scoped>\n    .dataframe tbody tr th:only-of-type {\n        vertical-align: middle;\n    }\n\n    .dataframe tbody tr th {\n        vertical-align: top;\n    }\n\n    .dataframe thead th {\n        text-align: right;\n    }\n</style>\n<table border=\"1\" class=\"dataframe\">\n  <thead>\n    <tr style=\"text-align: right;\">\n      <th></th>\n      <th>SMILES</th>\n      <th>Group</th>\n      <th>RDMol</th>\n    </tr>\n  </thead>\n  <tbody>\n    <tr>\n      <th>0</th>\n      <td>Cc1cc(CN2CCCC2)cc(C2CCC(N3CCC(C(=O)NCCO)C3)=CC...</td>\n      <td>Generated</td>\n      <td>&lt;rdkit.Chem.rdchem.Mol object at 0x7f6473773d00&gt;</td>\n    </tr>\n    <tr>\n      <th>1</th>\n      <td>N#Cc1cc(OCC(N)c2ccccc2)ccc1F</td>\n      <td>Generated</td>\n      <td>&lt;rdkit.Chem.rdchem.Mol object at 0x7f648245a7b0&gt;</td>\n    </tr>\n    <tr>\n      <th>2</th>\n      <td>COc1ccccc1CNCNC(C)c1ccccc1</td>\n      <td>Generated</td>\n      <td>&lt;rdkit.Chem.rdchem.Mol object at 0x7f648245abc0&gt;</td>\n    </tr>\n    <tr>\n      <th>3</th>\n      <td>NC1=NC(CF)(c2cc(NC(=O)c3cnc(OCc4ccccn4)cn3)ccc...</td>\n      <td>Generated</td>\n      <td>&lt;rdkit.Chem.rdchem.Mol object at 0x7f648245ac10&gt;</td>\n    </tr>\n    <tr>\n      <th>4</th>\n      <td>CC1(C)SCC(C)(c2cccc(NC(=O)c3ccc(Br)cn3)c2)N=C1N</td>\n      <td>Generated</td>\n      <td>&lt;rdkit.Chem.rdchem.Mol object at 0x7f648245a4e0&gt;</td>\n    </tr>\n  </tbody>\n</table>\n</div>"
     },
     "execution_count": 4,
     "metadata": {},
     "output_type": "execute_result"
    }
   ],
   "source": [
    "molecules = pd.read_csv(DATA / \"generated.tsv\", sep = \"\\t\")\n",
    "print(molecules.shape)\n",
    "molecules.head()"
   ]
  },
  {
   "cell_type": "markdown",
   "id": "585f86bd-30aa-4977-a28c-730bd9926c25",
   "metadata": {},
   "source": [
    "Apply function to all molecules in the dataset"
   ]
  },
  {
   "cell_type": "code",
   "execution_count": 5,
   "id": "dcbdc10c-f718-462f-b18e-401b12721713",
   "metadata": {},
   "outputs": [
    {
     "data": {
      "text/plain": "   molecular_weight  n_hba  n_hbd     logp  ro5_fulfilled\n0        425.267842      5      2  2.35162           True\n1        256.101191      3      1  2.77618           True\n2        270.173213      3      2  3.09310           True\n3        454.156495      8      2  2.39420           True\n4        432.061944      5      2  4.19420           True",
      "text/html": "<div>\n<style scoped>\n    .dataframe tbody tr th:only-of-type {\n        vertical-align: middle;\n    }\n\n    .dataframe tbody tr th {\n        vertical-align: top;\n    }\n\n    .dataframe thead th {\n        text-align: right;\n    }\n</style>\n<table border=\"1\" class=\"dataframe\">\n  <thead>\n    <tr style=\"text-align: right;\">\n      <th></th>\n      <th>molecular_weight</th>\n      <th>n_hba</th>\n      <th>n_hbd</th>\n      <th>logp</th>\n      <th>ro5_fulfilled</th>\n    </tr>\n  </thead>\n  <tbody>\n    <tr>\n      <th>0</th>\n      <td>425.267842</td>\n      <td>5</td>\n      <td>2</td>\n      <td>2.35162</td>\n      <td>True</td>\n    </tr>\n    <tr>\n      <th>1</th>\n      <td>256.101191</td>\n      <td>3</td>\n      <td>1</td>\n      <td>2.77618</td>\n      <td>True</td>\n    </tr>\n    <tr>\n      <th>2</th>\n      <td>270.173213</td>\n      <td>3</td>\n      <td>2</td>\n      <td>3.09310</td>\n      <td>True</td>\n    </tr>\n    <tr>\n      <th>3</th>\n      <td>454.156495</td>\n      <td>8</td>\n      <td>2</td>\n      <td>2.39420</td>\n      <td>True</td>\n    </tr>\n    <tr>\n      <th>4</th>\n      <td>432.061944</td>\n      <td>5</td>\n      <td>2</td>\n      <td>4.19420</td>\n      <td>True</td>\n    </tr>\n  </tbody>\n</table>\n</div>"
     },
     "execution_count": 5,
     "metadata": {},
     "output_type": "execute_result"
    }
   ],
   "source": [
    "ro5_properties = molecules[\"SMILES\"].apply(calculate_ro5_properties)\n",
    "ro5_properties.head()"
   ]
  },
  {
   "cell_type": "code",
   "execution_count": 6,
   "id": "aed58ba0-17fd-4985-988c-30c2ab6503c5",
   "metadata": {},
   "outputs": [
    {
     "data": {
      "text/plain": "                                              SMILES      Group  \\\n0  Cc1cc(CN2CCCC2)cc(C2CCC(N3CCC(C(=O)NCCO)C3)=CC...  Generated   \n1                       N#Cc1cc(OCC(N)c2ccccc2)ccc1F  Generated   \n2                         COc1ccccc1CNCNC(C)c1ccccc1  Generated   \n3  NC1=NC(CF)(c2cc(NC(=O)c3cnc(OCc4ccccn4)cn3)ccc...  Generated   \n4    CC1(C)SCC(C)(c2cccc(NC(=O)c3ccc(Br)cn3)c2)N=C1N  Generated   \n\n                                              RDMol  molecular_weight  n_hba  \\\n0  <rdkit.Chem.rdchem.Mol object at 0x7f6473773d00>        425.267842      5   \n1  <rdkit.Chem.rdchem.Mol object at 0x7f648245a7b0>        256.101191      3   \n2  <rdkit.Chem.rdchem.Mol object at 0x7f648245abc0>        270.173213      3   \n3  <rdkit.Chem.rdchem.Mol object at 0x7f648245ac10>        454.156495      8   \n4  <rdkit.Chem.rdchem.Mol object at 0x7f648245a4e0>        432.061944      5   \n\n   n_hbd     logp  ro5_fulfilled  \n0      2  2.35162           True  \n1      1  2.77618           True  \n2      2  3.09310           True  \n3      2  2.39420           True  \n4      2  4.19420           True  ",
      "text/html": "<div>\n<style scoped>\n    .dataframe tbody tr th:only-of-type {\n        vertical-align: middle;\n    }\n\n    .dataframe tbody tr th {\n        vertical-align: top;\n    }\n\n    .dataframe thead th {\n        text-align: right;\n    }\n</style>\n<table border=\"1\" class=\"dataframe\">\n  <thead>\n    <tr style=\"text-align: right;\">\n      <th></th>\n      <th>SMILES</th>\n      <th>Group</th>\n      <th>RDMol</th>\n      <th>molecular_weight</th>\n      <th>n_hba</th>\n      <th>n_hbd</th>\n      <th>logp</th>\n      <th>ro5_fulfilled</th>\n    </tr>\n  </thead>\n  <tbody>\n    <tr>\n      <th>0</th>\n      <td>Cc1cc(CN2CCCC2)cc(C2CCC(N3CCC(C(=O)NCCO)C3)=CC...</td>\n      <td>Generated</td>\n      <td>&lt;rdkit.Chem.rdchem.Mol object at 0x7f6473773d00&gt;</td>\n      <td>425.267842</td>\n      <td>5</td>\n      <td>2</td>\n      <td>2.35162</td>\n      <td>True</td>\n    </tr>\n    <tr>\n      <th>1</th>\n      <td>N#Cc1cc(OCC(N)c2ccccc2)ccc1F</td>\n      <td>Generated</td>\n      <td>&lt;rdkit.Chem.rdchem.Mol object at 0x7f648245a7b0&gt;</td>\n      <td>256.101191</td>\n      <td>3</td>\n      <td>1</td>\n      <td>2.77618</td>\n      <td>True</td>\n    </tr>\n    <tr>\n      <th>2</th>\n      <td>COc1ccccc1CNCNC(C)c1ccccc1</td>\n      <td>Generated</td>\n      <td>&lt;rdkit.Chem.rdchem.Mol object at 0x7f648245abc0&gt;</td>\n      <td>270.173213</td>\n      <td>3</td>\n      <td>2</td>\n      <td>3.09310</td>\n      <td>True</td>\n    </tr>\n    <tr>\n      <th>3</th>\n      <td>NC1=NC(CF)(c2cc(NC(=O)c3cnc(OCc4ccccn4)cn3)ccc...</td>\n      <td>Generated</td>\n      <td>&lt;rdkit.Chem.rdchem.Mol object at 0x7f648245ac10&gt;</td>\n      <td>454.156495</td>\n      <td>8</td>\n      <td>2</td>\n      <td>2.39420</td>\n      <td>True</td>\n    </tr>\n    <tr>\n      <th>4</th>\n      <td>CC1(C)SCC(C)(c2cccc(NC(=O)c3ccc(Br)cn3)c2)N=C1N</td>\n      <td>Generated</td>\n      <td>&lt;rdkit.Chem.rdchem.Mol object at 0x7f648245a4e0&gt;</td>\n      <td>432.061944</td>\n      <td>5</td>\n      <td>2</td>\n      <td>4.19420</td>\n      <td>True</td>\n    </tr>\n  </tbody>\n</table>\n</div>"
     },
     "execution_count": 6,
     "metadata": {},
     "output_type": "execute_result"
    }
   ],
   "source": [
    "molecules = pd.concat([molecules, ro5_properties], axis=1)\n",
    "molecules.head()"
   ]
  },
  {
   "cell_type": "markdown",
   "id": "450504cb-26f8-40e6-b224-90197d1fd53c",
   "metadata": {},
   "source": [
    "Separate the data that violate the ro5 from the data that fulfill"
   ]
  },
  {
   "cell_type": "code",
   "execution_count": 7,
   "id": "61dc821c-bfdc-4f2b-9df2-17a70cd46d4b",
   "metadata": {},
   "outputs": [
    {
     "name": "stdout",
     "output_type": "stream",
     "text": [
      "# compounds in unfiltered data set: 1000\n",
      "# compounds in filtered data set: 939\n",
      "# compounds not compliant with the Ro5: 61\n",
      "# Percentage compounds not compliant with the Ro5: 6.1%\n"
     ]
    }
   ],
   "source": [
    "molecules_ro5_fulfilled = molecules[molecules[\"ro5_fulfilled\"]]\n",
    "molecules_ro5_violated = molecules[~molecules[\"ro5_fulfilled\"]]\n",
    "\n",
    "print(f\"# compounds in unfiltered data set: {molecules.shape[0]}\")\n",
    "print(f\"# compounds in filtered data set: {molecules_ro5_fulfilled.shape[0]}\")\n",
    "print(f\"# compounds not compliant with the Ro5: {molecules_ro5_violated.shape[0]}\")\n",
    "print(f\"# Percentage compounds not compliant with the Ro5: {molecules_ro5_violated.shape[0]/molecules.shape[0]*100 }%\")"
   ]
  },
  {
   "cell_type": "markdown",
   "id": "050db1cf",
   "metadata": {},
   "source": [
    "61 (6.1%) of the generated compounds violate more than one rule of the Ro5, which makes them less expected to be orally avaiable. However, as discussed in part 2, this is only a rule of thumb. For that reason, they are not removed from the list, but only marked. Futher research can look at those compounds manually. "
   ]
  },
  {
   "cell_type": "markdown",
   "id": "b2ca5c13-d805-419e-8617-b10ff645b864",
   "metadata": {},
   "source": [
    "Save the data to a csv file of the molecules with marking if the ro5 is fulfilled "
   ]
  },
  {
   "cell_type": "code",
   "execution_count": 8,
   "id": "eec0ecb4-5151-492c-80fb-bcc2681731ee",
   "metadata": {},
   "outputs": [
    {
     "data": {
      "text/plain": "                                              SMILES      Group  \\\n0  Cc1cc(CN2CCCC2)cc(C2CCC(N3CCC(C(=O)NCCO)C3)=CC...  Generated   \n1                       N#Cc1cc(OCC(N)c2ccccc2)ccc1F  Generated   \n2                         COc1ccccc1CNCNC(C)c1ccccc1  Generated   \n3  NC1=NC(CF)(c2cc(NC(=O)c3cnc(OCc4ccccn4)cn3)ccc...  Generated   \n4    CC1(C)SCC(C)(c2cccc(NC(=O)c3ccc(Br)cn3)c2)N=C1N  Generated   \n\n                                              RDMol  molecular_weight  n_hba  \\\n0  <rdkit.Chem.rdchem.Mol object at 0x7f6473773d00>        425.267842      5   \n1  <rdkit.Chem.rdchem.Mol object at 0x7f648245a7b0>        256.101191      3   \n2  <rdkit.Chem.rdchem.Mol object at 0x7f648245abc0>        270.173213      3   \n3  <rdkit.Chem.rdchem.Mol object at 0x7f648245ac10>        454.156495      8   \n4  <rdkit.Chem.rdchem.Mol object at 0x7f648245a4e0>        432.061944      5   \n\n   n_hbd     logp  ro5_fulfilled  \n0      2  2.35162           True  \n1      1  2.77618           True  \n2      2  3.09310           True  \n3      2  2.39420           True  \n4      2  4.19420           True  ",
      "text/html": "<div>\n<style scoped>\n    .dataframe tbody tr th:only-of-type {\n        vertical-align: middle;\n    }\n\n    .dataframe tbody tr th {\n        vertical-align: top;\n    }\n\n    .dataframe thead th {\n        text-align: right;\n    }\n</style>\n<table border=\"1\" class=\"dataframe\">\n  <thead>\n    <tr style=\"text-align: right;\">\n      <th></th>\n      <th>SMILES</th>\n      <th>Group</th>\n      <th>RDMol</th>\n      <th>molecular_weight</th>\n      <th>n_hba</th>\n      <th>n_hbd</th>\n      <th>logp</th>\n      <th>ro5_fulfilled</th>\n    </tr>\n  </thead>\n  <tbody>\n    <tr>\n      <th>0</th>\n      <td>Cc1cc(CN2CCCC2)cc(C2CCC(N3CCC(C(=O)NCCO)C3)=CC...</td>\n      <td>Generated</td>\n      <td>&lt;rdkit.Chem.rdchem.Mol object at 0x7f6473773d00&gt;</td>\n      <td>425.267842</td>\n      <td>5</td>\n      <td>2</td>\n      <td>2.35162</td>\n      <td>True</td>\n    </tr>\n    <tr>\n      <th>1</th>\n      <td>N#Cc1cc(OCC(N)c2ccccc2)ccc1F</td>\n      <td>Generated</td>\n      <td>&lt;rdkit.Chem.rdchem.Mol object at 0x7f648245a7b0&gt;</td>\n      <td>256.101191</td>\n      <td>3</td>\n      <td>1</td>\n      <td>2.77618</td>\n      <td>True</td>\n    </tr>\n    <tr>\n      <th>2</th>\n      <td>COc1ccccc1CNCNC(C)c1ccccc1</td>\n      <td>Generated</td>\n      <td>&lt;rdkit.Chem.rdchem.Mol object at 0x7f648245abc0&gt;</td>\n      <td>270.173213</td>\n      <td>3</td>\n      <td>2</td>\n      <td>3.09310</td>\n      <td>True</td>\n    </tr>\n    <tr>\n      <th>3</th>\n      <td>NC1=NC(CF)(c2cc(NC(=O)c3cnc(OCc4ccccn4)cn3)ccc...</td>\n      <td>Generated</td>\n      <td>&lt;rdkit.Chem.rdchem.Mol object at 0x7f648245ac10&gt;</td>\n      <td>454.156495</td>\n      <td>8</td>\n      <td>2</td>\n      <td>2.39420</td>\n      <td>True</td>\n    </tr>\n    <tr>\n      <th>4</th>\n      <td>CC1(C)SCC(C)(c2cccc(NC(=O)c3ccc(Br)cn3)c2)N=C1N</td>\n      <td>Generated</td>\n      <td>&lt;rdkit.Chem.rdchem.Mol object at 0x7f648245a4e0&gt;</td>\n      <td>432.061944</td>\n      <td>5</td>\n      <td>2</td>\n      <td>4.19420</td>\n      <td>True</td>\n    </tr>\n  </tbody>\n</table>\n</div>"
     },
     "execution_count": 8,
     "metadata": {},
     "output_type": "execute_result"
    }
   ],
   "source": [
    "molecules.to_csv(DATA / \"generated_lipinski.csv\")\n",
    "molecules.head()"
   ]
  }
 ],
 "metadata": {
  "kernelspec": {
   "display_name": "Python 3 (ipykernel)",
   "language": "python",
   "name": "python3"
  },
  "language_info": {
   "codemirror_mode": {
    "name": "ipython",
    "version": 3
   },
   "file_extension": ".py",
   "mimetype": "text/x-python",
   "name": "python",
   "nbconvert_exporter": "python",
   "pygments_lexer": "ipython3",
   "version": "3.9.12"
  }
 },
 "nbformat": 4,
 "nbformat_minor": 5
}
