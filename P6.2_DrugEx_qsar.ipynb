{
 "cells": [
  {
   "cell_type": "markdown",
   "id": "1b16adb8-129f-45c7-8cc1-68326e077258",
   "metadata": {
    "id": "1b16adb8-129f-45c7-8cc1-68326e077258"
   },
   "source": [
    "# QSAR Modelling of Adenosine A2A Receptor Ligands\n",
    "\n",
    "The goal of this tutorial will be to develop a machine learning model that can capture the Quantitative Structre-Activity Relationships (QSARs) from the data set we extracted from Papyrus [previously](./data_prep.ipynb). This time we will need a little more control than the `scaffviz` package would allow so we load the data file directly into `pandas.DataFrame`:"
   ]
  },
  {
   "cell_type": "code",
   "execution_count": null,
   "id": "kfCMWvMBcWOn",
   "metadata": {
    "colab": {
     "base_uri": "https://localhost:8080/",
     "height": 1000
    },
    "id": "kfCMWvMBcWOn",
    "outputId": "a66473f7-e80f-407d-82a4-775830d876bd"
   },
   "outputs": [
    {
     "name": "stdout",
     "output_type": "stream",
     "text": [
      "Mounted at /content/drive\n",
      "File ‘./data/drugex/models/pretrained/DrugEx_v2_PT_Papyrus05.5.zip’ already there; not retrieving.\n",
      "\n",
      "Archive:  ./data/drugex/models/pretrained/DrugEx_v2_PT_Papyrus05.5.zip\n",
      "fatal: destination path 'drugex-demo' already exists and is not an empty directory.\n",
      "Looking in indexes: https://pypi.org/simple, https://us-python.pkg.dev/colab-wheels/public/simple/\n",
      "Collecting drugex@ git+https://github.com/martin-sicho/DrugEx-CDDG.git@master\n",
      "  Cloning https://github.com/martin-sicho/DrugEx-CDDG.git (to revision master) to /tmp/pip-install-nfv72d39/drugex_ed344936150242a6afcd64239c15d25e\n",
      "  Running command git clone -q https://github.com/martin-sicho/DrugEx-CDDG.git /tmp/pip-install-nfv72d39/drugex_ed344936150242a6afcd64239c15d25e\n",
      "Collecting papyrus-scaffold-visualizer@ git+https://github.com/martin-sicho/papyrus-scaffold-visualizer.git@v0.2.0\n",
      "  Cloning https://github.com/martin-sicho/papyrus-scaffold-visualizer.git (to revision v0.2.0) to /tmp/pip-install-nfv72d39/papyrus-scaffold-visualizer_80bc9cf75bca489ea21ea2ad6f0a982c\n",
      "  Running command git clone -q https://github.com/martin-sicho/papyrus-scaffold-visualizer.git /tmp/pip-install-nfv72d39/papyrus-scaffold-visualizer_80bc9cf75bca489ea21ea2ad6f0a982c\n",
      "  Running command git checkout -q ff4f2e885a3973f90a0d9864dfa00abed493f78d\n",
      "Collecting molplotly==1.1.4\n",
      "  Downloading molplotly-1.1.4.tar.gz (15 kB)\n",
      "Collecting mols2grid==1.0.0\n",
      "  Downloading mols2grid-1.0.0-py2.py3-none-any.whl (100 kB)\n",
      "\u001b[K     |████████████████████████████████| 100 kB 9.6 MB/s \n",
      "\u001b[?25hRequirement already satisfied: numpy>=1.19 in /usr/local/lib/python3.7/dist-packages (from drugex@ git+https://github.com/martin-sicho/DrugEx-CDDG.git@master->-r drugex-demo/requirements.txt (line 1)) (1.21.6)\n",
      "Requirement already satisfied: scikit-learn>=1.0.2 in /usr/local/lib/python3.7/dist-packages (from drugex@ git+https://github.com/martin-sicho/DrugEx-CDDG.git@master->-r drugex-demo/requirements.txt (line 1)) (1.0.2)\n",
      "Requirement already satisfied: pandas>=1.2.2 in /usr/local/lib/python3.7/dist-packages (from drugex@ git+https://github.com/martin-sicho/DrugEx-CDDG.git@master->-r drugex-demo/requirements.txt (line 1)) (1.3.5)\n",
      "Requirement already satisfied: torch>=1.7.0 in /usr/local/lib/python3.7/dist-packages (from drugex@ git+https://github.com/martin-sicho/DrugEx-CDDG.git@master->-r drugex-demo/requirements.txt (line 1)) (1.12.1+cu113)\n",
      "Requirement already satisfied: matplotlib>=2.0 in /usr/local/lib/python3.7/dist-packages (from drugex@ git+https://github.com/martin-sicho/DrugEx-CDDG.git@master->-r drugex-demo/requirements.txt (line 1)) (3.2.2)\n",
      "Requirement already satisfied: tqdm in /usr/local/lib/python3.7/dist-packages (from drugex@ git+https://github.com/martin-sicho/DrugEx-CDDG.git@master->-r drugex-demo/requirements.txt (line 1)) (4.64.1)\n",
      "Collecting rdkit-pypi\n",
      "  Downloading rdkit_pypi-2022.9.1-cp37-cp37m-manylinux_2_17_x86_64.manylinux2014_x86_64.whl (29.5 MB)\n",
      "\u001b[K     |████████████████████████████████| 29.5 MB 92.3 MB/s \n",
      "\u001b[?25hRequirement already satisfied: joblib in /usr/local/lib/python3.7/dist-packages (from drugex@ git+https://github.com/martin-sicho/DrugEx-CDDG.git@master->-r drugex-demo/requirements.txt (line 1)) (1.2.0)\n",
      "Collecting optuna\n",
      "  Downloading optuna-3.0.3-py3-none-any.whl (348 kB)\n",
      "\u001b[K     |████████████████████████████████| 348 kB 57.3 MB/s \n",
      "\u001b[?25hCollecting gitpython\n",
      "  Downloading GitPython-3.1.29-py3-none-any.whl (182 kB)\n",
      "\u001b[K     |████████████████████████████████| 182 kB 69.9 MB/s \n",
      "\u001b[?25hRequirement already satisfied: xgboost in /usr/local/lib/python3.7/dist-packages (from drugex@ git+https://github.com/martin-sicho/DrugEx-CDDG.git@master->-r drugex-demo/requirements.txt (line 1)) (0.90)\n",
      "Collecting papyrus_scripts@ git+https://github.com/OlivierBeq/Papyrus-scripts.git@master\n",
      "  Cloning https://github.com/OlivierBeq/Papyrus-scripts.git (to revision master) to /tmp/pip-install-nfv72d39/papyrus-scripts_0de3b185a24343f8a7c1f245a694aace\n",
      "  Running command git clone -q https://github.com/OlivierBeq/Papyrus-scripts.git /tmp/pip-install-nfv72d39/papyrus-scripts_0de3b185a24343f8a7c1f245a694aace\n",
      "Collecting sklearn\n",
      "  Downloading sklearn-0.0.tar.gz (1.1 kB)\n",
      "Collecting prodec@ https://github.com/OlivierBeq/ProDEC/tarball/master\n",
      "  Downloading https://github.com/OlivierBeq/ProDEC/tarball/master\n",
      "\u001b[K     / 60 kB 3.2 MB/s\n",
      "\u001b[?25h  Installing build dependencies ... \u001b[?25l\u001b[?25hdone\n",
      "  Getting requirements to build wheel ... \u001b[?25l\u001b[?25hdone\n",
      "    Preparing wheel metadata ... \u001b[?25l\u001b[?25hdone\n",
      "Collecting upsetplot@ https://github.com/OlivierBeq/UpSetPlot/tarball/master\n",
      "  Downloading https://github.com/OlivierBeq/UpSetPlot/tarball/master\n",
      "\u001b[K     / 429 kB 13.6 MB/s\n",
      "\u001b[?25hRequirement already satisfied: requests in /usr/local/lib/python3.7/dist-packages (from papyrus_scripts@ git+https://github.com/OlivierBeq/Papyrus-scripts.git@master->papyrus-scaffold-visualizer@ git+https://github.com/martin-sicho/papyrus-scaffold-visualizer.git@v0.2.0->-r drugex-demo/requirements.txt (line 4)) (2.23.0)\n",
      "Requirement already satisfied: natsort in /usr/local/lib/python3.7/dist-packages (from papyrus_scripts@ git+https://github.com/OlivierBeq/Papyrus-scripts.git@master->papyrus-scaffold-visualizer@ git+https://github.com/martin-sicho/papyrus-scaffold-visualizer.git@v0.2.0->-r drugex-demo/requirements.txt (line 4)) (5.5.0)\n",
      "Collecting mordred\n",
      "  Downloading mordred-1.2.0.tar.gz (128 kB)\n",
      "\u001b[K     |████████████████████████████████| 128 kB 67.0 MB/s \n",
      "\u001b[?25hCollecting swifter\n",
      "  Downloading swifter-1.3.4.tar.gz (830 kB)\n",
      "\u001b[K     |████████████████████████████████| 830 kB 60.1 MB/s \n",
      "\u001b[?25hCollecting pystow\n",
      "  Downloading pystow-0.4.6-py3-none-any.whl (35 kB)\n",
      "Requirement already satisfied: tabulate in /usr/local/lib/python3.7/dist-packages (from papyrus_scripts@ git+https://github.com/OlivierBeq/Papyrus-scripts.git@master->papyrus-scaffold-visualizer@ git+https://github.com/martin-sicho/papyrus-scaffold-visualizer.git@v0.2.0->-r drugex-demo/requirements.txt (line 4)) (0.8.10)\n",
      "Requirement already satisfied: psutil in /usr/local/lib/python3.7/dist-packages (from prodec@ https://github.com/OlivierBeq/ProDEC/tarball/master->papyrus_scripts@ git+https://github.com/OlivierBeq/Papyrus-scripts.git@master->papyrus-scaffold-visualizer@ git+https://github.com/martin-sicho/papyrus-scaffold-visualizer.git@v0.2.0->-r drugex-demo/requirements.txt (line 4)) (5.4.8)\n",
      "Collecting orjson\n",
      "  Downloading orjson-3.8.1-cp37-cp37m-manylinux_2_17_x86_64.manylinux2014_x86_64.whl (272 kB)\n",
      "\u001b[K     |████████████████████████████████| 272 kB 64.5 MB/s \n",
      "\u001b[?25hCollecting dash>=2.0.0\n",
      "  Downloading dash-2.6.2-py3-none-any.whl (9.8 MB)\n",
      "\u001b[K     |████████████████████████████████| 9.8 MB 52.9 MB/s \n",
      "\u001b[?25hCollecting werkzeug>=2.0.0\n",
      "  Downloading Werkzeug-2.2.2-py3-none-any.whl (232 kB)\n",
      "\u001b[K     |████████████████████████████████| 232 kB 75.0 MB/s \n",
      "\u001b[?25hCollecting jupyter-dash>=0.4.2\n",
      "  Downloading jupyter_dash-0.4.2-py3-none-any.whl (23 kB)\n",
      "Requirement already satisfied: plotly>=5.0.0 in /usr/local/lib/python3.7/dist-packages (from molplotly==1.1.4->-r drugex-demo/requirements.txt (line 2)) (5.5.0)\n",
      "Requirement already satisfied: ipykernel in /usr/local/lib/python3.7/dist-packages (from molplotly==1.1.4->-r drugex-demo/requirements.txt (line 2)) (5.3.4)\n",
      "Requirement already satisfied: nbformat in /usr/local/lib/python3.7/dist-packages (from molplotly==1.1.4->-r drugex-demo/requirements.txt (line 2)) (5.7.0)\n",
      "Requirement already satisfied: jinja2>=2.11.0 in /usr/local/lib/python3.7/dist-packages (from mols2grid==1.0.0->-r drugex-demo/requirements.txt (line 3)) (2.11.3)\n",
      "Requirement already satisfied: ipywidgets<8,>=7 in /usr/local/lib/python3.7/dist-packages (from mols2grid==1.0.0->-r drugex-demo/requirements.txt (line 3)) (7.7.1)\n",
      "Collecting flask-compress\n",
      "  Downloading Flask_Compress-1.13-py3-none-any.whl (7.9 kB)\n",
      "Collecting dash-html-components==2.0.0\n",
      "  Downloading dash_html_components-2.0.0-py3-none-any.whl (4.1 kB)\n",
      "Requirement already satisfied: Flask>=1.0.4 in /usr/local/lib/python3.7/dist-packages (from dash>=2.0.0->molplotly==1.1.4->-r drugex-demo/requirements.txt (line 2)) (1.1.4)\n",
      "Collecting dash-core-components==2.0.0\n",
      "  Downloading dash_core_components-2.0.0-py3-none-any.whl (3.8 kB)\n",
      "Collecting dash-table==5.0.0\n",
      "  Downloading dash_table-5.0.0-py3-none-any.whl (3.9 kB)\n",
      "Requirement already satisfied: itsdangerous<2.0,>=0.24 in /usr/local/lib/python3.7/dist-packages (from Flask>=1.0.4->dash>=2.0.0->molplotly==1.1.4->-r drugex-demo/requirements.txt (line 2)) (1.1.0)\n",
      "Requirement already satisfied: click<8.0,>=5.1 in /usr/local/lib/python3.7/dist-packages (from Flask>=1.0.4->dash>=2.0.0->molplotly==1.1.4->-r drugex-demo/requirements.txt (line 2)) (7.1.2)\n",
      "Collecting Flask>=1.0.4\n",
      "  Downloading Flask-2.2.2-py3-none-any.whl (101 kB)\n",
      "\u001b[K     |████████████████████████████████| 101 kB 12.1 MB/s \n",
      "\u001b[?25hCollecting jinja2>=2.11.0\n",
      "  Downloading Jinja2-3.1.2-py3-none-any.whl (133 kB)\n",
      "\u001b[K     |████████████████████████████████| 133 kB 64.1 MB/s \n",
      "\u001b[?25hCollecting itsdangerous>=2.0\n",
      "  Downloading itsdangerous-2.1.2-py3-none-any.whl (15 kB)\n",
      "Requirement already satisfied: importlib-metadata>=3.6.0 in /usr/local/lib/python3.7/dist-packages (from Flask>=1.0.4->dash>=2.0.0->molplotly==1.1.4->-r drugex-demo/requirements.txt (line 2)) (4.13.0)\n",
      "Collecting click>=8.0\n",
      "  Downloading click-8.1.3-py3-none-any.whl (96 kB)\n",
      "\u001b[K     |████████████████████████████████| 96 kB 6.7 MB/s \n",
      "\u001b[?25hRequirement already satisfied: typing-extensions>=3.6.4 in /usr/local/lib/python3.7/dist-packages (from importlib-metadata>=3.6.0->Flask>=1.0.4->dash>=2.0.0->molplotly==1.1.4->-r drugex-demo/requirements.txt (line 2)) (4.1.1)\n",
      "Requirement already satisfied: zipp>=0.5 in /usr/local/lib/python3.7/dist-packages (from importlib-metadata>=3.6.0->Flask>=1.0.4->dash>=2.0.0->molplotly==1.1.4->-r drugex-demo/requirements.txt (line 2)) (3.9.0)\n",
      "Requirement already satisfied: traitlets>=4.3.1 in /usr/local/lib/python3.7/dist-packages (from ipywidgets<8,>=7->mols2grid==1.0.0->-r drugex-demo/requirements.txt (line 3)) (5.1.1)\n",
      "Requirement already satisfied: ipython>=4.0.0 in /usr/local/lib/python3.7/dist-packages (from ipywidgets<8,>=7->mols2grid==1.0.0->-r drugex-demo/requirements.txt (line 3)) (7.9.0)\n",
      "Requirement already satisfied: jupyterlab-widgets>=1.0.0 in /usr/local/lib/python3.7/dist-packages (from ipywidgets<8,>=7->mols2grid==1.0.0->-r drugex-demo/requirements.txt (line 3)) (3.0.3)\n",
      "Requirement already satisfied: ipython-genutils~=0.2.0 in /usr/local/lib/python3.7/dist-packages (from ipywidgets<8,>=7->mols2grid==1.0.0->-r drugex-demo/requirements.txt (line 3)) (0.2.0)\n",
      "Requirement already satisfied: widgetsnbextension~=3.6.0 in /usr/local/lib/python3.7/dist-packages (from ipywidgets<8,>=7->mols2grid==1.0.0->-r drugex-demo/requirements.txt (line 3)) (3.6.1)\n",
      "Requirement already satisfied: tornado>=4.2 in /usr/local/lib/python3.7/dist-packages (from ipykernel->molplotly==1.1.4->-r drugex-demo/requirements.txt (line 2)) (5.1.1)\n",
      "Requirement already satisfied: jupyter-client in /usr/local/lib/python3.7/dist-packages (from ipykernel->molplotly==1.1.4->-r drugex-demo/requirements.txt (line 2)) (6.1.12)\n",
      "Requirement already satisfied: prompt-toolkit<2.1.0,>=2.0.0 in /usr/local/lib/python3.7/dist-packages (from ipython>=4.0.0->ipywidgets<8,>=7->mols2grid==1.0.0->-r drugex-demo/requirements.txt (line 3)) (2.0.10)\n",
      "Requirement already satisfied: pickleshare in /usr/local/lib/python3.7/dist-packages (from ipython>=4.0.0->ipywidgets<8,>=7->mols2grid==1.0.0->-r drugex-demo/requirements.txt (line 3)) (0.7.5)\n",
      "Collecting jedi>=0.10\n",
      "  Downloading jedi-0.18.1-py2.py3-none-any.whl (1.6 MB)\n",
      "\u001b[K     |████████████████████████████████| 1.6 MB 54.0 MB/s \n",
      "\u001b[?25hRequirement already satisfied: backcall in /usr/local/lib/python3.7/dist-packages (from ipython>=4.0.0->ipywidgets<8,>=7->mols2grid==1.0.0->-r drugex-demo/requirements.txt (line 3)) (0.2.0)\n",
      "Requirement already satisfied: setuptools>=18.5 in /usr/local/lib/python3.7/dist-packages (from ipython>=4.0.0->ipywidgets<8,>=7->mols2grid==1.0.0->-r drugex-demo/requirements.txt (line 3)) (57.4.0)\n",
      "Requirement already satisfied: decorator in /usr/local/lib/python3.7/dist-packages (from ipython>=4.0.0->ipywidgets<8,>=7->mols2grid==1.0.0->-r drugex-demo/requirements.txt (line 3)) (4.4.2)\n",
      "Requirement already satisfied: pygments in /usr/local/lib/python3.7/dist-packages (from ipython>=4.0.0->ipywidgets<8,>=7->mols2grid==1.0.0->-r drugex-demo/requirements.txt (line 3)) (2.6.1)\n",
      "Requirement already satisfied: pexpect in /usr/local/lib/python3.7/dist-packages (from ipython>=4.0.0->ipywidgets<8,>=7->mols2grid==1.0.0->-r drugex-demo/requirements.txt (line 3)) (4.8.0)\n",
      "Requirement already satisfied: parso<0.9.0,>=0.8.0 in /usr/local/lib/python3.7/dist-packages (from jedi>=0.10->ipython>=4.0.0->ipywidgets<8,>=7->mols2grid==1.0.0->-r drugex-demo/requirements.txt (line 3)) (0.8.3)\n",
      "Requirement already satisfied: MarkupSafe>=2.0 in /usr/local/lib/python3.7/dist-packages (from jinja2>=2.11.0->mols2grid==1.0.0->-r drugex-demo/requirements.txt (line 3)) (2.0.1)\n",
      "Collecting retrying\n",
      "  Downloading retrying-1.3.3.tar.gz (10 kB)\n",
      "Collecting ansi2html\n",
      "  Downloading ansi2html-1.8.0-py3-none-any.whl (16 kB)\n",
      "Collecting nest-asyncio\n",
      "  Downloading nest_asyncio-1.5.6-py3-none-any.whl (5.2 kB)\n",
      "Requirement already satisfied: python-dateutil>=2.1 in /usr/local/lib/python3.7/dist-packages (from matplotlib>=2.0->drugex@ git+https://github.com/martin-sicho/DrugEx-CDDG.git@master->-r drugex-demo/requirements.txt (line 1)) (2.8.2)\n",
      "Requirement already satisfied: kiwisolver>=1.0.1 in /usr/local/lib/python3.7/dist-packages (from matplotlib>=2.0->drugex@ git+https://github.com/martin-sicho/DrugEx-CDDG.git@master->-r drugex-demo/requirements.txt (line 1)) (1.4.4)\n",
      "Requirement already satisfied: pyparsing!=2.0.4,!=2.1.2,!=2.1.6,>=2.0.1 in /usr/local/lib/python3.7/dist-packages (from matplotlib>=2.0->drugex@ git+https://github.com/martin-sicho/DrugEx-CDDG.git@master->-r drugex-demo/requirements.txt (line 1)) (3.0.9)\n",
      "Requirement already satisfied: cycler>=0.10 in /usr/local/lib/python3.7/dist-packages (from matplotlib>=2.0->drugex@ git+https://github.com/martin-sicho/DrugEx-CDDG.git@master->-r drugex-demo/requirements.txt (line 1)) (0.11.0)\n",
      "Requirement already satisfied: pytz>=2017.3 in /usr/local/lib/python3.7/dist-packages (from pandas>=1.2.2->drugex@ git+https://github.com/martin-sicho/DrugEx-CDDG.git@master->-r drugex-demo/requirements.txt (line 1)) (2022.5)\n",
      "Requirement already satisfied: six in /usr/local/lib/python3.7/dist-packages (from plotly>=5.0.0->molplotly==1.1.4->-r drugex-demo/requirements.txt (line 2)) (1.15.0)\n",
      "Requirement already satisfied: tenacity>=6.2.0 in /usr/local/lib/python3.7/dist-packages (from plotly>=5.0.0->molplotly==1.1.4->-r drugex-demo/requirements.txt (line 2)) (8.1.0)\n",
      "Requirement already satisfied: wcwidth in /usr/local/lib/python3.7/dist-packages (from prompt-toolkit<2.1.0,>=2.0.0->ipython>=4.0.0->ipywidgets<8,>=7->mols2grid==1.0.0->-r drugex-demo/requirements.txt (line 3)) (0.2.5)\n",
      "Requirement already satisfied: scipy>=1.1.0 in /usr/local/lib/python3.7/dist-packages (from scikit-learn>=1.0.2->drugex@ git+https://github.com/martin-sicho/DrugEx-CDDG.git@master->-r drugex-demo/requirements.txt (line 1)) (1.7.3)\n",
      "Requirement already satisfied: threadpoolctl>=2.0.0 in /usr/local/lib/python3.7/dist-packages (from scikit-learn>=1.0.2->drugex@ git+https://github.com/martin-sicho/DrugEx-CDDG.git@master->-r drugex-demo/requirements.txt (line 1)) (3.1.0)\n",
      "Collecting MarkupSafe>=2.0\n",
      "  Downloading MarkupSafe-2.1.1-cp37-cp37m-manylinux_2_17_x86_64.manylinux2014_x86_64.whl (25 kB)\n",
      "Requirement already satisfied: notebook>=4.4.1 in /usr/local/lib/python3.7/dist-packages (from widgetsnbextension~=3.6.0->ipywidgets<8,>=7->mols2grid==1.0.0->-r drugex-demo/requirements.txt (line 3)) (5.5.0)\n",
      "Requirement already satisfied: jupyter-core>=4.4.0 in /usr/local/lib/python3.7/dist-packages (from notebook>=4.4.1->widgetsnbextension~=3.6.0->ipywidgets<8,>=7->mols2grid==1.0.0->-r drugex-demo/requirements.txt (line 3)) (4.11.2)\n",
      "Requirement already satisfied: terminado>=0.8.1 in /usr/local/lib/python3.7/dist-packages (from notebook>=4.4.1->widgetsnbextension~=3.6.0->ipywidgets<8,>=7->mols2grid==1.0.0->-r drugex-demo/requirements.txt (line 3)) (0.13.3)\n",
      "Requirement already satisfied: nbconvert in /usr/local/lib/python3.7/dist-packages (from notebook>=4.4.1->widgetsnbextension~=3.6.0->ipywidgets<8,>=7->mols2grid==1.0.0->-r drugex-demo/requirements.txt (line 3)) (5.6.1)\n",
      "Requirement already satisfied: Send2Trash in /usr/local/lib/python3.7/dist-packages (from notebook>=4.4.1->widgetsnbextension~=3.6.0->ipywidgets<8,>=7->mols2grid==1.0.0->-r drugex-demo/requirements.txt (line 3)) (1.8.0)\n",
      "Requirement already satisfied: pyzmq>=17 in /usr/local/lib/python3.7/dist-packages (from notebook>=4.4.1->widgetsnbextension~=3.6.0->ipywidgets<8,>=7->mols2grid==1.0.0->-r drugex-demo/requirements.txt (line 3)) (23.2.1)\n",
      "Requirement already satisfied: ptyprocess in /usr/local/lib/python3.7/dist-packages (from terminado>=0.8.1->notebook>=4.4.1->widgetsnbextension~=3.6.0->ipywidgets<8,>=7->mols2grid==1.0.0->-r drugex-demo/requirements.txt (line 3)) (0.7.0)\n",
      "Collecting brotli\n",
      "  Downloading Brotli-1.0.9-cp37-cp37m-manylinux1_x86_64.whl (357 kB)\n",
      "\u001b[K     |████████████████████████████████| 357 kB 61.3 MB/s \n",
      "\u001b[?25hCollecting gitdb<5,>=4.0.1\n",
      "  Downloading gitdb-4.0.9-py3-none-any.whl (63 kB)\n",
      "\u001b[K     |████████████████████████████████| 63 kB 1.9 MB/s \n",
      "\u001b[?25hCollecting smmap<6,>=3.0.1\n",
      "  Downloading smmap-5.0.0-py3-none-any.whl (24 kB)\n",
      "Requirement already satisfied: networkx==2.* in /usr/local/lib/python3.7/dist-packages (from mordred->papyrus_scripts@ git+https://github.com/OlivierBeq/Papyrus-scripts.git@master->papyrus-scaffold-visualizer@ git+https://github.com/martin-sicho/papyrus-scaffold-visualizer.git@v0.2.0->-r drugex-demo/requirements.txt (line 4)) (2.6.3)\n",
      "Requirement already satisfied: testpath in /usr/local/lib/python3.7/dist-packages (from nbconvert->notebook>=4.4.1->widgetsnbextension~=3.6.0->ipywidgets<8,>=7->mols2grid==1.0.0->-r drugex-demo/requirements.txt (line 3)) (0.6.0)\n",
      "Requirement already satisfied: defusedxml in /usr/local/lib/python3.7/dist-packages (from nbconvert->notebook>=4.4.1->widgetsnbextension~=3.6.0->ipywidgets<8,>=7->mols2grid==1.0.0->-r drugex-demo/requirements.txt (line 3)) (0.7.1)\n",
      "Requirement already satisfied: pandocfilters>=1.4.1 in /usr/local/lib/python3.7/dist-packages (from nbconvert->notebook>=4.4.1->widgetsnbextension~=3.6.0->ipywidgets<8,>=7->mols2grid==1.0.0->-r drugex-demo/requirements.txt (line 3)) (1.5.0)\n",
      "Requirement already satisfied: entrypoints>=0.2.2 in /usr/local/lib/python3.7/dist-packages (from nbconvert->notebook>=4.4.1->widgetsnbextension~=3.6.0->ipywidgets<8,>=7->mols2grid==1.0.0->-r drugex-demo/requirements.txt (line 3)) (0.4)\n",
      "Requirement already satisfied: mistune<2,>=0.8.1 in /usr/local/lib/python3.7/dist-packages (from nbconvert->notebook>=4.4.1->widgetsnbextension~=3.6.0->ipywidgets<8,>=7->mols2grid==1.0.0->-r drugex-demo/requirements.txt (line 3)) (0.8.4)\n",
      "Requirement already satisfied: bleach in /usr/local/lib/python3.7/dist-packages (from nbconvert->notebook>=4.4.1->widgetsnbextension~=3.6.0->ipywidgets<8,>=7->mols2grid==1.0.0->-r drugex-demo/requirements.txt (line 3)) (5.0.1)\n",
      "Requirement already satisfied: fastjsonschema in /usr/local/lib/python3.7/dist-packages (from nbformat->molplotly==1.1.4->-r drugex-demo/requirements.txt (line 2)) (2.16.2)\n",
      "Requirement already satisfied: jsonschema>=2.6 in /usr/local/lib/python3.7/dist-packages (from nbformat->molplotly==1.1.4->-r drugex-demo/requirements.txt (line 2)) (4.3.3)\n",
      "Requirement already satisfied: attrs>=17.4.0 in /usr/local/lib/python3.7/dist-packages (from jsonschema>=2.6->nbformat->molplotly==1.1.4->-r drugex-demo/requirements.txt (line 2)) (22.1.0)\n",
      "Requirement already satisfied: pyrsistent!=0.17.0,!=0.17.1,!=0.17.2,>=0.14.0 in /usr/local/lib/python3.7/dist-packages (from jsonschema>=2.6->nbformat->molplotly==1.1.4->-r drugex-demo/requirements.txt (line 2)) (0.18.1)\n",
      "Requirement already satisfied: importlib-resources>=1.4.0 in /usr/local/lib/python3.7/dist-packages (from jsonschema>=2.6->nbformat->molplotly==1.1.4->-r drugex-demo/requirements.txt (line 2)) (5.10.0)\n",
      "Requirement already satisfied: webencodings in /usr/local/lib/python3.7/dist-packages (from bleach->nbconvert->notebook>=4.4.1->widgetsnbextension~=3.6.0->ipywidgets<8,>=7->mols2grid==1.0.0->-r drugex-demo/requirements.txt (line 3)) (0.5.1)\n",
      "Collecting cliff\n",
      "  Downloading cliff-3.10.1-py3-none-any.whl (81 kB)\n",
      "\u001b[K     |████████████████████████████████| 81 kB 11.6 MB/s \n",
      "\u001b[?25hRequirement already satisfied: PyYAML in /usr/local/lib/python3.7/dist-packages (from optuna->drugex@ git+https://github.com/martin-sicho/DrugEx-CDDG.git@master->-r drugex-demo/requirements.txt (line 1)) (6.0)\n",
      "Collecting cmaes>=0.8.2\n",
      "  Downloading cmaes-0.8.2-py3-none-any.whl (15 kB)\n",
      "Collecting alembic>=1.5.0\n",
      "  Downloading alembic-1.8.1-py3-none-any.whl (209 kB)\n",
      "\u001b[K     |████████████████████████████████| 209 kB 68.9 MB/s \n",
      "\u001b[?25hRequirement already satisfied: packaging>=20.0 in /usr/local/lib/python3.7/dist-packages (from optuna->drugex@ git+https://github.com/martin-sicho/DrugEx-CDDG.git@master->-r drugex-demo/requirements.txt (line 1)) (21.3)\n",
      "Requirement already satisfied: sqlalchemy>=1.3.0 in /usr/local/lib/python3.7/dist-packages (from optuna->drugex@ git+https://github.com/martin-sicho/DrugEx-CDDG.git@master->-r drugex-demo/requirements.txt (line 1)) (1.4.42)\n",
      "Collecting colorlog\n",
      "  Downloading colorlog-6.7.0-py2.py3-none-any.whl (11 kB)\n",
      "Collecting Mako\n",
      "  Downloading Mako-1.2.3-py3-none-any.whl (78 kB)\n",
      "\u001b[K     |████████████████████████████████| 78 kB 8.9 MB/s \n",
      "\u001b[?25hRequirement already satisfied: greenlet!=0.4.17 in /usr/local/lib/python3.7/dist-packages (from sqlalchemy>=1.3.0->optuna->drugex@ git+https://github.com/martin-sicho/DrugEx-CDDG.git@master->-r drugex-demo/requirements.txt (line 1)) (1.1.3.post0)\n",
      "Requirement already satisfied: PrettyTable>=0.7.2 in /usr/local/lib/python3.7/dist-packages (from cliff->optuna->drugex@ git+https://github.com/martin-sicho/DrugEx-CDDG.git@master->-r drugex-demo/requirements.txt (line 1)) (3.4.1)\n",
      "Collecting cmd2>=1.0.0\n",
      "  Downloading cmd2-2.4.2-py3-none-any.whl (147 kB)\n",
      "\u001b[K     |████████████████████████████████| 147 kB 75.1 MB/s \n",
      "\u001b[?25hCollecting stevedore>=2.0.1\n",
      "  Downloading stevedore-3.5.2-py3-none-any.whl (50 kB)\n",
      "\u001b[K     |████████████████████████████████| 50 kB 7.8 MB/s \n",
      "\u001b[?25hCollecting autopage>=0.4.0\n",
      "  Downloading autopage-0.5.1-py3-none-any.whl (29 kB)\n",
      "Collecting pbr!=2.1.0,>=2.0.0\n",
      "  Downloading pbr-5.11.0-py2.py3-none-any.whl (112 kB)\n",
      "\u001b[K     |████████████████████████████████| 112 kB 74.0 MB/s \n",
      "\u001b[?25hCollecting pyperclip>=1.6\n",
      "  Downloading pyperclip-1.8.2.tar.gz (20 kB)\n",
      "Collecting pickle5\n",
      "  Downloading pickle5-0.0.12-cp37-cp37m-manylinux_2_5_x86_64.manylinux1_x86_64.whl (256 kB)\n",
      "\u001b[K     |████████████████████████████████| 256 kB 66.1 MB/s \n",
      "\u001b[?25hRequirement already satisfied: Pillow in /usr/local/lib/python3.7/dist-packages (from rdkit-pypi->drugex@ git+https://github.com/martin-sicho/DrugEx-CDDG.git@master->-r drugex-demo/requirements.txt (line 1)) (7.1.2)\n",
      "Requirement already satisfied: chardet<4,>=3.0.2 in /usr/local/lib/python3.7/dist-packages (from requests->papyrus_scripts@ git+https://github.com/OlivierBeq/Papyrus-scripts.git@master->papyrus-scaffold-visualizer@ git+https://github.com/martin-sicho/papyrus-scaffold-visualizer.git@v0.2.0->-r drugex-demo/requirements.txt (line 4)) (3.0.4)\n",
      "Requirement already satisfied: urllib3!=1.25.0,!=1.25.1,<1.26,>=1.21.1 in /usr/local/lib/python3.7/dist-packages (from requests->papyrus_scripts@ git+https://github.com/OlivierBeq/Papyrus-scripts.git@master->papyrus-scaffold-visualizer@ git+https://github.com/martin-sicho/papyrus-scaffold-visualizer.git@v0.2.0->-r drugex-demo/requirements.txt (line 4)) (1.24.3)\n",
      "Requirement already satisfied: idna<3,>=2.5 in /usr/local/lib/python3.7/dist-packages (from requests->papyrus_scripts@ git+https://github.com/OlivierBeq/Papyrus-scripts.git@master->papyrus-scaffold-visualizer@ git+https://github.com/martin-sicho/papyrus-scaffold-visualizer.git@v0.2.0->-r drugex-demo/requirements.txt (line 4)) (2.10)\n",
      "Requirement already satisfied: certifi>=2017.4.17 in /usr/local/lib/python3.7/dist-packages (from requests->papyrus_scripts@ git+https://github.com/OlivierBeq/Papyrus-scripts.git@master->papyrus-scaffold-visualizer@ git+https://github.com/martin-sicho/papyrus-scaffold-visualizer.git@v0.2.0->-r drugex-demo/requirements.txt (line 4)) (2022.9.24)\n",
      "Collecting psutil\n",
      "  Downloading psutil-5.9.3-cp37-cp37m-manylinux_2_12_x86_64.manylinux2010_x86_64.manylinux_2_17_x86_64.manylinux2014_x86_64.whl (291 kB)\n",
      "\u001b[K     |████████████████████████████████| 291 kB 72.0 MB/s \n",
      "\u001b[?25hRequirement already satisfied: dask[dataframe]>=2.10.0 in /usr/local/lib/python3.7/dist-packages (from swifter->papyrus_scripts@ git+https://github.com/OlivierBeq/Papyrus-scripts.git@master->papyrus-scaffold-visualizer@ git+https://github.com/martin-sicho/papyrus-scaffold-visualizer.git@v0.2.0->-r drugex-demo/requirements.txt (line 4)) (2022.2.0)\n",
      "Requirement already satisfied: cloudpickle>=0.2.2 in /usr/local/lib/python3.7/dist-packages (from swifter->papyrus_scripts@ git+https://github.com/OlivierBeq/Papyrus-scripts.git@master->papyrus-scaffold-visualizer@ git+https://github.com/martin-sicho/papyrus-scaffold-visualizer.git@v0.2.0->-r drugex-demo/requirements.txt (line 4)) (1.5.0)\n",
      "Requirement already satisfied: partd>=0.3.10 in /usr/local/lib/python3.7/dist-packages (from dask[dataframe]>=2.10.0->swifter->papyrus_scripts@ git+https://github.com/OlivierBeq/Papyrus-scripts.git@master->papyrus-scaffold-visualizer@ git+https://github.com/martin-sicho/papyrus-scaffold-visualizer.git@v0.2.0->-r drugex-demo/requirements.txt (line 4)) (1.3.0)\n",
      "Requirement already satisfied: toolz>=0.8.2 in /usr/local/lib/python3.7/dist-packages (from dask[dataframe]>=2.10.0->swifter->papyrus_scripts@ git+https://github.com/OlivierBeq/Papyrus-scripts.git@master->papyrus-scaffold-visualizer@ git+https://github.com/martin-sicho/papyrus-scaffold-visualizer.git@v0.2.0->-r drugex-demo/requirements.txt (line 4)) (0.12.0)\n",
      "Requirement already satisfied: fsspec>=0.6.0 in /usr/local/lib/python3.7/dist-packages (from dask[dataframe]>=2.10.0->swifter->papyrus_scripts@ git+https://github.com/OlivierBeq/Papyrus-scripts.git@master->papyrus-scaffold-visualizer@ git+https://github.com/martin-sicho/papyrus-scaffold-visualizer.git@v0.2.0->-r drugex-demo/requirements.txt (line 4)) (2022.10.0)\n",
      "Requirement already satisfied: locket in /usr/local/lib/python3.7/dist-packages (from partd>=0.3.10->dask[dataframe]>=2.10.0->swifter->papyrus_scripts@ git+https://github.com/OlivierBeq/Papyrus-scripts.git@master->papyrus-scaffold-visualizer@ git+https://github.com/martin-sicho/papyrus-scaffold-visualizer.git@v0.2.0->-r drugex-demo/requirements.txt (line 4)) (1.0.0)\n",
      "Building wheels for collected packages: drugex, papyrus-scaffold-visualizer, papyrus-scripts, prodec, upsetplot, molplotly, mordred, pyperclip, retrying, sklearn, swifter\n",
      "  Building wheel for drugex (setup.py) ... \u001b[?25l\u001b[?25hdone\n",
      "  Created wheel for drugex: filename=drugex-3.2.0-py3-none-any.whl size=11599995 sha256=ce22c58db2f2ab1a63c97d77ba92693099646e906a576daf9098c7a29ca81dee\n",
      "  Stored in directory: /tmp/pip-ephem-wheel-cache-utwxw_hy/wheels/a1/0e/fa/7e538fa81bdfab41f4b8ba576d20eaa36bedd87ccd7bfec4f8\n",
      "  Building wheel for papyrus-scaffold-visualizer (setup.py) ... \u001b[?25l\u001b[?25hdone\n",
      "  Created wheel for papyrus-scaffold-visualizer: filename=papyrus_scaffold_visualizer-0.2.0-py3-none-any.whl size=12960 sha256=37ee1eb567ae437f97c055b33eaa3719083714283da94224d45537f8639c5fab\n",
      "  Stored in directory: /tmp/pip-ephem-wheel-cache-utwxw_hy/wheels/f6/ba/43/791fe3545a9132773948556fe2eb428b78054589dc482d8f54\n",
      "  Building wheel for papyrus-scripts (setup.py) ... \u001b[?25l\u001b[?25hdone\n",
      "  Created wheel for papyrus-scripts: filename=papyrus_scripts-0.0.1.dev0-py3-none-any.whl size=67261 sha256=267ed58819ca1d99eee8cfaed098e13061833ca2aebf079b383f1893aeb682e0\n",
      "  Stored in directory: /tmp/pip-ephem-wheel-cache-utwxw_hy/wheels/21/ff/e1/2dfa3afa7830fceb3e04db76e7ad7733f064310f9516a11bea\n",
      "  Building wheel for prodec (PEP 517) ... \u001b[?25l\u001b[?25hdone\n",
      "  Created wheel for prodec: filename=prodec-1.0.2.post1-py3-none-any.whl size=52468 sha256=6d7f330a93e60c4e7ae5765a8c6df4adee8fa131b68e03722b084228aab09e4d\n",
      "  Stored in directory: /tmp/pip-ephem-wheel-cache-utwxw_hy/wheels/26/32/22/62c3caf3cab13b3e470bd9259ae811e2c929ac3f5595f99111\n",
      "  Building wheel for upsetplot (setup.py) ... \u001b[?25l\u001b[?25hdone\n",
      "  Created wheel for upsetplot: filename=UpSetPlot-0.7.dev1-py3-none-any.whl size=21430 sha256=79b2a54cf6dfab1324cfbf7578f97efc4d75708cc3dc6871306db0a417af0c12\n",
      "  Stored in directory: /tmp/pip-ephem-wheel-cache-utwxw_hy/wheels/53/e0/5c/6e251495ed03bf62e04fed2ed92d1fca8c5e586650896f35f2\n",
      "  Building wheel for molplotly (setup.py) ... \u001b[?25l\u001b[?25hdone\n",
      "  Created wheel for molplotly: filename=molplotly-1.1.4-py3-none-any.whl size=13230 sha256=e8648c33c7a4e5e7b7d82a3d5bd743b578854742ddef5651a75f9f90c8234e72\n",
      "  Stored in directory: /root/.cache/pip/wheels/4c/67/f7/022d8010193733af123e5327c03775e7d85767ca35b66f79e6\n",
      "  Building wheel for mordred (setup.py) ... \u001b[?25l\u001b[?25hdone\n",
      "  Created wheel for mordred: filename=mordred-1.2.0-py3-none-any.whl size=176725 sha256=9fa1bcef71a85acc6b1f743873798678e1607affd806025f1a3aa247c783845a\n",
      "  Stored in directory: /root/.cache/pip/wheels/02/c0/2e/e7e3d63b431777712ebc128bc4deb9ac5cb19afc7c1ea341ec\n",
      "  Building wheel for pyperclip (setup.py) ... \u001b[?25l\u001b[?25hdone\n",
      "  Created wheel for pyperclip: filename=pyperclip-1.8.2-py3-none-any.whl size=11137 sha256=4c56329c142e9dc4b15770b13737e7ae356c66ab5336c9f5cf21c0f0902b0708\n",
      "  Stored in directory: /root/.cache/pip/wheels/9f/18/84/8f69f8b08169c7bae2dde6bd7daf0c19fca8c8e500ee620a28\n",
      "  Building wheel for retrying (setup.py) ... \u001b[?25l\u001b[?25hdone\n",
      "  Created wheel for retrying: filename=retrying-1.3.3-py3-none-any.whl size=11447 sha256=8220cb71f3af2287b847285c47d2230693bacda2d9c9cf6eb82a7e9ea2d6c806\n",
      "  Stored in directory: /root/.cache/pip/wheels/f9/8d/8d/f6af3f7f9eea3553bc2fe6d53e4b287dad18b06a861ac56ddf\n",
      "  Building wheel for sklearn (setup.py) ... \u001b[?25l\u001b[?25hdone\n",
      "  Created wheel for sklearn: filename=sklearn-0.0-py2.py3-none-any.whl size=1310 sha256=0fa1d756f86e3bc05164c6e662bd4fa5b3a676efd5fe0fb05018c26f7aaf8fdc\n",
      "  Stored in directory: /root/.cache/pip/wheels/46/ef/c3/157e41f5ee1372d1be90b09f74f82b10e391eaacca8f22d33e\n",
      "  Building wheel for swifter (setup.py) ... \u001b[?25l\u001b[?25hdone\n",
      "  Created wheel for swifter: filename=swifter-1.3.4-py3-none-any.whl size=16322 sha256=3486578de510b66c6dbd89680208791504e598fc47998b833548c776842e8ca9\n",
      "  Stored in directory: /root/.cache/pip/wheels/29/a7/0e/3a8f17ac69d759e1e93647114bc9bdc95957e5b0cbfd405205\n",
      "Successfully built drugex papyrus-scaffold-visualizer papyrus-scripts prodec upsetplot molplotly mordred pyperclip retrying sklearn swifter\n",
      "Installing collected packages: MarkupSafe, jedi, jinja2, werkzeug, itsdangerous, click, Flask, brotli, pyperclip, pbr, flask-compress, dash-table, dash-html-components, dash-core-components, stevedore, smmap, retrying, psutil, pickle5, orjson, nest-asyncio, Mako, dash, cmd2, autopage, ansi2html, upsetplot, swifter, pystow, prodec, mordred, jupyter-dash, gitdb, colorlog, cmaes, cliff, alembic, sklearn, rdkit-pypi, papyrus-scripts, optuna, molplotly, gitpython, papyrus-scaffold-visualizer, mols2grid, drugex\n",
      "  Attempting uninstall: MarkupSafe\n",
      "    Found existing installation: MarkupSafe 2.0.1\n",
      "    Uninstalling MarkupSafe-2.0.1:\n",
      "      Successfully uninstalled MarkupSafe-2.0.1\n",
      "  Attempting uninstall: jinja2\n",
      "    Found existing installation: Jinja2 2.11.3\n",
      "    Uninstalling Jinja2-2.11.3:\n",
      "      Successfully uninstalled Jinja2-2.11.3\n",
      "  Attempting uninstall: werkzeug\n",
      "    Found existing installation: Werkzeug 1.0.1\n",
      "    Uninstalling Werkzeug-1.0.1:\n",
      "      Successfully uninstalled Werkzeug-1.0.1\n",
      "  Attempting uninstall: itsdangerous\n",
      "    Found existing installation: itsdangerous 1.1.0\n",
      "    Uninstalling itsdangerous-1.1.0:\n",
      "      Successfully uninstalled itsdangerous-1.1.0\n",
      "  Attempting uninstall: click\n",
      "    Found existing installation: click 7.1.2\n",
      "    Uninstalling click-7.1.2:\n",
      "      Successfully uninstalled click-7.1.2\n",
      "  Attempting uninstall: Flask\n",
      "    Found existing installation: Flask 1.1.4\n",
      "    Uninstalling Flask-1.1.4:\n",
      "      Successfully uninstalled Flask-1.1.4\n",
      "  Attempting uninstall: psutil\n",
      "    Found existing installation: psutil 5.4.8\n",
      "    Uninstalling psutil-5.4.8:\n",
      "      Successfully uninstalled psutil-5.4.8\n",
      "Successfully installed Flask-2.2.2 Mako-1.2.3 MarkupSafe-2.1.1 alembic-1.8.1 ansi2html-1.8.0 autopage-0.5.1 brotli-1.0.9 click-8.1.3 cliff-3.10.1 cmaes-0.8.2 cmd2-2.4.2 colorlog-6.7.0 dash-2.6.2 dash-core-components-2.0.0 dash-html-components-2.0.0 dash-table-5.0.0 drugex-3.2.0 flask-compress-1.13 gitdb-4.0.9 gitpython-3.1.29 itsdangerous-2.1.2 jedi-0.18.1 jinja2-3.1.2 jupyter-dash-0.4.2 molplotly-1.1.4 mols2grid-1.0.0 mordred-1.2.0 nest-asyncio-1.5.6 optuna-3.0.3 orjson-3.8.1 papyrus-scaffold-visualizer-0.2.0 papyrus-scripts-0.0.1.dev0 pbr-5.11.0 pickle5-0.0.12 prodec-1.0.2.post1 psutil-5.9.3 pyperclip-1.8.2 pystow-0.4.6 rdkit-pypi-2022.9.1 retrying-1.3.3 sklearn-0.0 smmap-5.0.0 stevedore-3.5.2 swifter-1.3.4 upsetplot-0.7.dev1 werkzeug-2.2.2\n"
     ]
    },
    {
     "data": {
      "application/vnd.colab-display-data+json": {
       "pip_warning": {
        "packages": [
         "psutil"
        ]
       }
      }
     },
     "metadata": {},
     "output_type": "display_data"
    },
    {
     "data": {
      "application/vnd.google.colaboratory.intrinsic+json": {
       "type": "string"
      },
      "text/plain": [
       "'/content/drive/MyDrive/DrugExDemo'"
      ]
     },
     "execution_count": 1,
     "metadata": {},
     "output_type": "execute_result"
    }
   ],
   "source": [
    "# mount google drive\n",
    "from google.colab import drive\n",
    "drive.mount('/content/drive')\n",
    "\n",
    "# define work directory to store data\n",
    "DATA_ROOT = '/content/drive/MyDrive/DrugExDemo/' # or wherever you want the generated files to live on your GoogleDrive\n",
    "import os\n",
    "os.makedirs(DATA_ROOT, exist_ok=True)\n",
    "os.chdir(DATA_ROOT) \n",
    "\n",
    "# fetch pretrained model\n",
    "os.makedirs(\"./data/drugex/models/pretrained/\", exist_ok=True)\n",
    "! wget -nc -P './data/drugex/models/pretrained/' 'https://zenodo.org/record/7096859/files/DrugEx_v2_PT_Papyrus05.5.zip'\n",
    "! unzip -n './data/drugex/models/pretrained/DrugEx_v2_PT_Papyrus05.5.zip' -d './data/drugex/models/pretrained/DrugEx_v2_PT_Papyrus05.5'\n",
    "\n",
    "# install dependencies\n",
    "! git clone https://github.com/martin-sicho/drugex-demo\n",
    "! pip install -r drugex-demo/requirements.txt\n",
    "\n",
    "# verify where we are working\n",
    "os.getcwd()"
   ]
  },
  {
   "cell_type": "code",
   "execution_count": null,
   "id": "39de57d7-93b9-4979-9227-243a3643b8fa",
   "metadata": {
    "colab": {
     "base_uri": "https://localhost:8080/"
    },
    "id": "39de57d7-93b9-4979-9227-243a3643b8fa",
    "outputId": "3a69b051-f94a-4ca3-c348-9f35e7af4971"
   },
   "outputs": [
    {
     "data": {
      "text/plain": [
       "Index(['Activity_ID', 'Quality', 'source', 'CID', 'SMILES', 'connectivity',\n",
       "       'InChIKey', 'InChI', 'InChI_AuxInfo', 'target_id',\n",
       "       ...\n",
       "       'Descriptor_MorganFP_1016', 'Descriptor_MorganFP_1017',\n",
       "       'Descriptor_MorganFP_1018', 'Descriptor_MorganFP_1019',\n",
       "       'Descriptor_MorganFP_1020', 'Descriptor_MorganFP_1021',\n",
       "       'Descriptor_MorganFP_1022', 'Descriptor_MorganFP_1023', 'TSNE_1',\n",
       "       'TSNE_2'],\n",
       "      dtype='object', length=1056)"
      ]
     },
     "execution_count": 3,
     "metadata": {},
     "output_type": "execute_result"
    }
   ],
   "source": [
    "import pandas as pd\n",
    "\n",
    "df_all = pd.read_table(\"data/BACE_LIGANDS.tsv\")\n",
    "df_all.columns"
   ]
  },
  {
   "cell_type": "markdown",
   "id": "f9c9cace-185e-464d-9c9a-8004bc076f13",
   "metadata": {
    "id": "f9c9cace-185e-464d-9c9a-8004bc076f13"
   },
   "source": [
    "## Assigning Activity Classes\n",
    "\n",
    "As you can see it has all the feature we previously added to it, including the t-SNE embedding. But in this part of the tutorial we are more interested in the pChEMBL activities. Let's create a histogram of these values to get an idea of a distribution:"
   ]
  },
  {
   "cell_type": "code",
   "execution_count": null,
   "id": "19890a31-8534-4320-8b8d-2c8cee7ba3c6",
   "metadata": {
    "colab": {
     "base_uri": "https://localhost:8080/",
     "height": 282
    },
    "id": "19890a31-8534-4320-8b8d-2c8cee7ba3c6",
    "outputId": "c9335d8d-1a88-450c-b779-3b36cd80c78b"
   },
   "outputs": [
    {
     "data": {
      "text/plain": [
       "<matplotlib.axes._subplots.AxesSubplot at 0x7f73ba6b2450>"
      ]
     },
     "execution_count": 4,
     "metadata": {},
     "output_type": "execute_result"
    },
    {
     "data": {
      "image/png": "[encoded data removed]",
      "text/plain": [
       "<Figure size 432x288 with 1 Axes>"
      ]
     },
     "metadata": {
      "needs_background": "light"
     },
     "output_type": "display_data"
    }
   ],
   "source": [
    "df_all.pchembl_value_Median.hist()"
   ]
  },
  {
   "cell_type": "markdown",
   "id": "0d8d8ca0-3798-4eb5-af21-ccac7cdbfba9",
   "metadata": {
    "id": "0d8d8ca0-3798-4eb5-af21-ccac7cdbfba9"
   },
   "source": [
    "We have a nice normal distribution of values as would be expected, but we also have a fairly balanced ration between inactive and active compounds, which is always a good thing when we are trying to build machine learning models. For example, if we take into account the [previously introduced](data_prep.ipynb) 6.5 threshold that distinguishes actives from inactives, we get reasonably balanced subsets:"
   ]
  },
  {
   "cell_type": "code",
   "execution_count": null,
   "id": "8afabf80-b1ba-4ae2-9e81-0d9071381bb3",
   "metadata": {
    "colab": {
     "base_uri": "https://localhost:8080/"
    },
    "id": "8afabf80-b1ba-4ae2-9e81-0d9071381bb3",
    "outputId": "cd3bd615-ddb8-4b1a-c3ec-5bda1f38f0b6"
   },
   "outputs": [
    {
     "data": {
      "text/plain": [
       "0.5870529887757766"
      ]
     },
     "execution_count": 7,
     "metadata": {},
     "output_type": "execute_result"
    }
   ],
   "source": [
    "activity_class_mask = df_all.pchembl_value_Median >= 6.5\n",
    "sum(activity_class_mask) / len(activity_class_mask)"
   ]
  },
  {
   "cell_type": "markdown",
   "id": "a12988de-1484-4d78-ba0f-a41ac958ce40",
   "metadata": {
    "id": "a12988de-1484-4d78-ba0f-a41ac958ce40"
   },
   "source": [
    "Therefore, this split of the data leaves us with about 61% of active molecules. Therefore, we do not need to think much about what to do here for now, but note that for a lot of other data sets the ratio of actives could be much lower and then we might want to think about using some [data balancing techniques](https://machinelearningmastery.com/tactics-to-combat-imbalanced-classes-in-your-machine-learning-dataset/).\n",
    "\n",
    "We will now create a new column in this data set that will serve as the endpoint we want to model (the assignment to an activity class based on molecular structure):"
   ]
  },
  {
   "cell_type": "code",
   "execution_count": null,
   "id": "026d5863-7b3a-4484-ac34-b200c61eebdf",
   "metadata": {
    "colab": {
     "base_uri": "https://localhost:8080/",
     "height": 386
    },
    "id": "026d5863-7b3a-4484-ac34-b200c61eebdf",
    "outputId": "c7cdc9ca-4802-4c78-ce52-ff1753f5f16c"
   },
   "outputs": [
    {
     "data": {
      "text/html": [
       "\n",
       "  <div id=\"df-352b3d2d-6f09-4984-ac0b-8cc50341a718\">\n",
       "    <div class=\"colab-df-container\">\n",
       "      <div>\n",
       "<style scoped>\n",
       "    .dataframe tbody tr th:only-of-type {\n",
       "        vertical-align: middle;\n",
       "    }\n",
       "\n",
       "    .dataframe tbody tr th {\n",
       "        vertical-align: top;\n",
       "    }\n",
       "\n",
       "    .dataframe thead th {\n",
       "        text-align: right;\n",
       "    }\n",
       "</style>\n",
       "<table border=\"1\" class=\"dataframe\">\n",
       "  <thead>\n",
       "    <tr style=\"text-align: right;\">\n",
       "      <th></th>\n",
       "      <th>Activity_ID</th>\n",
       "      <th>Quality</th>\n",
       "      <th>source</th>\n",
       "      <th>CID</th>\n",
       "      <th>SMILES</th>\n",
       "      <th>connectivity</th>\n",
       "      <th>InChIKey</th>\n",
       "      <th>InChI</th>\n",
       "      <th>InChI_AuxInfo</th>\n",
       "      <th>target_id</th>\n",
       "      <th>...</th>\n",
       "      <th>Descriptor_MorganFP_1017</th>\n",
       "      <th>Descriptor_MorganFP_1018</th>\n",
       "      <th>Descriptor_MorganFP_1019</th>\n",
       "      <th>Descriptor_MorganFP_1020</th>\n",
       "      <th>Descriptor_MorganFP_1021</th>\n",
       "      <th>Descriptor_MorganFP_1022</th>\n",
       "      <th>Descriptor_MorganFP_1023</th>\n",
       "      <th>TSNE_1</th>\n",
       "      <th>TSNE_2</th>\n",
       "      <th>ActivityClass</th>\n",
       "    </tr>\n",
       "  </thead>\n",
       "  <tbody>\n",
       "    <tr>\n",
       "      <th>0</th>\n",
       "      <td>AAAGFCUDAXPDAA_on_P56817_WT</td>\n",
       "      <td>High</td>\n",
       "      <td>ChEMBL30</td>\n",
       "      <td>CHEMBL1915983</td>\n",
       "      <td>COCC1CCN(C(C)C(=O)NC(Cc2cc(F)cc(F)c2)C(O)CNCc2...</td>\n",
       "      <td>AAAGFCUDAXPDAA</td>\n",
       "      <td>AAAGFCUDAXPDAA-UHFFFAOYSA-N</td>\n",
       "      <td>InChI=1S/C27H35F2N3O5/c1-17(32-8-7-20(16-36-2)...</td>\n",
       "      <td>\"AuxInfo=1/1/N:9,1,32,34,35,33,5,6,16,22,29,14...</td>\n",
       "      <td>P56817_WT</td>\n",
       "      <td>...</td>\n",
       "      <td>0.0</td>\n",
       "      <td>0.0</td>\n",
       "      <td>1.0</td>\n",
       "      <td>0.0</td>\n",
       "      <td>0.0</td>\n",
       "      <td>0.0</td>\n",
       "      <td>0.0</td>\n",
       "      <td>-61.671165</td>\n",
       "      <td>18.636885</td>\n",
       "      <td>False</td>\n",
       "    </tr>\n",
       "    <tr>\n",
       "      <th>1</th>\n",
       "      <td>AACUJFVOHGRMTR_on_P56817_WT</td>\n",
       "      <td>High</td>\n",
       "      <td>ChEMBL30</td>\n",
       "      <td>CHEMBL4204869</td>\n",
       "      <td>CC1OCC2(c3cc(NC(=O)c4cnc(C(F)F)cn4)ccc3F)N=C(N...</td>\n",
       "      <td>AACUJFVOHGRMTR</td>\n",
       "      <td>AACUJFVOHGRMTR-UHFFFAOYSA-N</td>\n",
       "      <td>InChI=1S/C19H18F3N5O2S/c1-9-12-7-30-18(23)27-1...</td>\n",
       "      <td>\"AuxInfo=1/1/N:1,21,22,7,19,13,29,4,2,8,6,30,2...</td>\n",
       "      <td>P56817_WT</td>\n",
       "      <td>...</td>\n",
       "      <td>0.0</td>\n",
       "      <td>0.0</td>\n",
       "      <td>1.0</td>\n",
       "      <td>0.0</td>\n",
       "      <td>0.0</td>\n",
       "      <td>0.0</td>\n",
       "      <td>0.0</td>\n",
       "      <td>5.981135</td>\n",
       "      <td>-41.491680</td>\n",
       "      <td>True</td>\n",
       "    </tr>\n",
       "    <tr>\n",
       "      <th>2</th>\n",
       "      <td>AANLQBIDWIHDGD_on_P56817_WT</td>\n",
       "      <td>High</td>\n",
       "      <td>ChEMBL30</td>\n",
       "      <td>CHEMBL4159574</td>\n",
       "      <td>COCCOc1cnc(C(=O)Nc2ccc(F)c(C3(C)N=C(N)COC3C(F)...</td>\n",
       "      <td>AANLQBIDWIHDGD</td>\n",
       "      <td>AANLQBIDWIHDGD-UHFFFAOYSA-N</td>\n",
       "      <td>InChI=1S/C20H21F4N5O4/c1-19(18(20(22,23)24)33-...</td>\n",
       "      <td>\"AuxInfo=1/1/N:20,1,14,15,3,4,31,32,7,24,13,18...</td>\n",
       "      <td>P56817_WT</td>\n",
       "      <td>...</td>\n",
       "      <td>0.0</td>\n",
       "      <td>0.0</td>\n",
       "      <td>1.0</td>\n",
       "      <td>0.0</td>\n",
       "      <td>0.0</td>\n",
       "      <td>0.0</td>\n",
       "      <td>0.0</td>\n",
       "      <td>22.383297</td>\n",
       "      <td>-54.882477</td>\n",
       "      <td>True</td>\n",
       "    </tr>\n",
       "    <tr>\n",
       "      <th>3</th>\n",
       "      <td>AARJXZHQDZOZNY_on_P56817_WT</td>\n",
       "      <td>High</td>\n",
       "      <td>ChEMBL30</td>\n",
       "      <td>CHEMBL2443370</td>\n",
       "      <td>CC1=C(C(=O)Nc2nc(C)cs2)C(c2ccco2)C(C(=O)Nc2nc(...</td>\n",
       "      <td>AARJXZHQDZOZNY</td>\n",
       "      <td>AARJXZHQDZOZNY-UHFFFAOYSA-N</td>\n",
       "      <td>InChI=1S/C21H21N5O3S2/c1-10-8-30-20(22-10)25-1...</td>\n",
       "      <td>\"AuxInfo=1/1/N:10,26,1,30,16,15,17,11,27,9,25,...</td>\n",
       "      <td>P56817_WT</td>\n",
       "      <td>...</td>\n",
       "      <td>0.0</td>\n",
       "      <td>0.0</td>\n",
       "      <td>1.0</td>\n",
       "      <td>0.0</td>\n",
       "      <td>0.0</td>\n",
       "      <td>0.0</td>\n",
       "      <td>0.0</td>\n",
       "      <td>26.984573</td>\n",
       "      <td>25.672077</td>\n",
       "      <td>False</td>\n",
       "    </tr>\n",
       "    <tr>\n",
       "      <th>4</th>\n",
       "      <td>AAWSEFDIDJLXJF_on_P56817_WT</td>\n",
       "      <td>High</td>\n",
       "      <td>ChEMBL30</td>\n",
       "      <td>CHEMBL2178717</td>\n",
       "      <td>CN1C(=O)C2CN(c3ncccn3)CC2(c2cc(-c3cccc(C#N)c3)...</td>\n",
       "      <td>AAWSEFDIDJLXJF</td>\n",
       "      <td>AAWSEFDIDJLXJF-UHFFFAOYSA-N</td>\n",
       "      <td>InChI=1S/C22H19N7OS/c1-28-19(30)17-11-29(21-25...</td>\n",
       "      <td>\"AuxInfo=1/1/N:1,21,11,22,20,10,12,26,17,24,6,...</td>\n",
       "      <td>P56817_WT</td>\n",
       "      <td>...</td>\n",
       "      <td>0.0</td>\n",
       "      <td>0.0</td>\n",
       "      <td>1.0</td>\n",
       "      <td>0.0</td>\n",
       "      <td>0.0</td>\n",
       "      <td>0.0</td>\n",
       "      <td>0.0</td>\n",
       "      <td>-53.715622</td>\n",
       "      <td>-27.205227</td>\n",
       "      <td>True</td>\n",
       "    </tr>\n",
       "  </tbody>\n",
       "</table>\n",
       "<p>5 rows × 1057 columns</p>\n",
       "</div>\n",
       "      <button class=\"colab-df-convert\" onclick=\"convertToInteractive('df-352b3d2d-6f09-4984-ac0b-8cc50341a718')\"\n",
       "              title=\"Convert this dataframe to an interactive table.\"\n",
       "              style=\"display:none;\">\n",
       "        \n",
       "  <svg xmlns=\"http://www.w3.org/2000/svg\" height=\"24px\"viewBox=\"0 0 24 24\"\n",
       "       width=\"24px\">\n",
       "    <path d=\"M0 0h24v24H0V0z\" fill=\"none\"/>\n",
       "    <path d=\"M18.56 5.44l.94 2.06.94-2.06 2.06-.94-2.06-.94-.94-2.06-.94 2.06-2.06.94zm-11 1L8.5 8.5l.94-2.06 2.06-.94-2.06-.94L8.5 2.5l-.94 2.06-2.06.94zm10 10l.94 2.06.94-2.06 2.06-.94-2.06-.94-.94-2.06-.94 2.06-2.06.94z\"/><path d=\"M17.41 7.96l-1.37-1.37c-.4-.4-.92-.59-1.43-.59-.52 0-1.04.2-1.43.59L10.3 9.45l-7.72 7.72c-.78.78-.78 2.05 0 2.83L4 21.41c.39.39.9.59 1.41.59.51 0 1.02-.2 1.41-.59l7.78-7.78 2.81-2.81c.8-.78.8-2.07 0-2.86zM5.41 20L4 18.59l7.72-7.72 1.47 1.35L5.41 20z\"/>\n",
       "  </svg>\n",
       "      </button>\n",
       "      \n",
       "  <style>\n",
       "    .colab-df-container {\n",
       "      display:flex;\n",
       "      flex-wrap:wrap;\n",
       "      gap: 12px;\n",
       "    }\n",
       "\n",
       "    .colab-df-convert {\n",
       "      background-color: #E8F0FE;\n",
       "      border: none;\n",
       "      border-radius: 50%;\n",
       "      cursor: pointer;\n",
       "      display: none;\n",
       "      fill: #1967D2;\n",
       "      height: 32px;\n",
       "      padding: 0 0 0 0;\n",
       "      width: 32px;\n",
       "    }\n",
       "\n",
       "    .colab-df-convert:hover {\n",
       "      background-color: #E2EBFA;\n",
       "      box-shadow: 0px 1px 2px rgba(60, 64, 67, 0.3), 0px 1px 3px 1px rgba(60, 64, 67, 0.15);\n",
       "      fill: #174EA6;\n",
       "    }\n",
       "\n",
       "    [theme=dark] .colab-df-convert {\n",
       "      background-color: #3B4455;\n",
       "      fill: #D2E3FC;\n",
       "    }\n",
       "\n",
       "    [theme=dark] .colab-df-convert:hover {\n",
       "      background-color: #434B5C;\n",
       "      box-shadow: 0px 1px 3px 1px rgba(0, 0, 0, 0.15);\n",
       "      filter: drop-shadow(0px 1px 2px rgba(0, 0, 0, 0.3));\n",
       "      fill: #FFFFFF;\n",
       "    }\n",
       "  </style>\n",
       "\n",
       "      <script>\n",
       "        const buttonEl =\n",
       "          document.querySelector('#df-352b3d2d-6f09-4984-ac0b-8cc50341a718 button.colab-df-convert');\n",
       "        buttonEl.style.display =\n",
       "          google.colab.kernel.accessAllowed ? 'block' : 'none';\n",
       "\n",
       "        async function convertToInteractive(key) {\n",
       "          const element = document.querySelector('#df-352b3d2d-6f09-4984-ac0b-8cc50341a718');\n",
       "          const dataTable =\n",
       "            await google.colab.kernel.invokeFunction('convertToInteractive',\n",
       "                                                     [key], {});\n",
       "          if (!dataTable) return;\n",
       "\n",
       "          const docLinkHtml = 'Like what you see? Visit the ' +\n",
       "            '<a target=\"_blank\" href=https://colab.research.google.com/notebooks/data_table.ipynb>data table notebook</a>'\n",
       "            + ' to learn more about interactive tables.';\n",
       "          element.innerHTML = '';\n",
       "          dataTable['output_type'] = 'display_data';\n",
       "          await google.colab.output.renderOutput(dataTable, element);\n",
       "          const docLink = document.createElement('div');\n",
       "          docLink.innerHTML = docLinkHtml;\n",
       "          element.appendChild(docLink);\n",
       "        }\n",
       "      </script>\n",
       "    </div>\n",
       "  </div>\n",
       "  "
      ],
      "text/plain": [
       "                   Activity_ID Quality    source            CID  \\\n",
       "0  AAAGFCUDAXPDAA_on_P56817_WT    High  ChEMBL30  CHEMBL1915983   \n",
       "1  AACUJFVOHGRMTR_on_P56817_WT    High  ChEMBL30  CHEMBL4204869   \n",
       "2  AANLQBIDWIHDGD_on_P56817_WT    High  ChEMBL30  CHEMBL4159574   \n",
       "3  AARJXZHQDZOZNY_on_P56817_WT    High  ChEMBL30  CHEMBL2443370   \n",
       "4  AAWSEFDIDJLXJF_on_P56817_WT    High  ChEMBL30  CHEMBL2178717   \n",
       "\n",
       "                                              SMILES    connectivity  \\\n",
       "0  COCC1CCN(C(C)C(=O)NC(Cc2cc(F)cc(F)c2)C(O)CNCc2...  AAAGFCUDAXPDAA   \n",
       "1  CC1OCC2(c3cc(NC(=O)c4cnc(C(F)F)cn4)ccc3F)N=C(N...  AACUJFVOHGRMTR   \n",
       "2  COCCOc1cnc(C(=O)Nc2ccc(F)c(C3(C)N=C(N)COC3C(F)...  AANLQBIDWIHDGD   \n",
       "3  CC1=C(C(=O)Nc2nc(C)cs2)C(c2ccco2)C(C(=O)Nc2nc(...  AARJXZHQDZOZNY   \n",
       "4  CN1C(=O)C2CN(c3ncccn3)CC2(c2cc(-c3cccc(C#N)c3)...  AAWSEFDIDJLXJF   \n",
       "\n",
       "                      InChIKey  \\\n",
       "0  AAAGFCUDAXPDAA-UHFFFAOYSA-N   \n",
       "1  AACUJFVOHGRMTR-UHFFFAOYSA-N   \n",
       "2  AANLQBIDWIHDGD-UHFFFAOYSA-N   \n",
       "3  AARJXZHQDZOZNY-UHFFFAOYSA-N   \n",
       "4  AAWSEFDIDJLXJF-UHFFFAOYSA-N   \n",
       "\n",
       "                                               InChI  \\\n",
       "0  InChI=1S/C27H35F2N3O5/c1-17(32-8-7-20(16-36-2)...   \n",
       "1  InChI=1S/C19H18F3N5O2S/c1-9-12-7-30-18(23)27-1...   \n",
       "2  InChI=1S/C20H21F4N5O4/c1-19(18(20(22,23)24)33-...   \n",
       "3  InChI=1S/C21H21N5O3S2/c1-10-8-30-20(22-10)25-1...   \n",
       "4  InChI=1S/C22H19N7OS/c1-28-19(30)17-11-29(21-25...   \n",
       "\n",
       "                                       InChI_AuxInfo  target_id  ...  \\\n",
       "0  \"AuxInfo=1/1/N:9,1,32,34,35,33,5,6,16,22,29,14...  P56817_WT  ...   \n",
       "1  \"AuxInfo=1/1/N:1,21,22,7,19,13,29,4,2,8,6,30,2...  P56817_WT  ...   \n",
       "2  \"AuxInfo=1/1/N:20,1,14,15,3,4,31,32,7,24,13,18...  P56817_WT  ...   \n",
       "3  \"AuxInfo=1/1/N:10,26,1,30,16,15,17,11,27,9,25,...  P56817_WT  ...   \n",
       "4  \"AuxInfo=1/1/N:1,21,11,22,20,10,12,26,17,24,6,...  P56817_WT  ...   \n",
       "\n",
       "  Descriptor_MorganFP_1017 Descriptor_MorganFP_1018 Descriptor_MorganFP_1019  \\\n",
       "0                      0.0                      0.0                      1.0   \n",
       "1                      0.0                      0.0                      1.0   \n",
       "2                      0.0                      0.0                      1.0   \n",
       "3                      0.0                      0.0                      1.0   \n",
       "4                      0.0                      0.0                      1.0   \n",
       "\n",
       "  Descriptor_MorganFP_1020  Descriptor_MorganFP_1021 Descriptor_MorganFP_1022  \\\n",
       "0                      0.0                       0.0                      0.0   \n",
       "1                      0.0                       0.0                      0.0   \n",
       "2                      0.0                       0.0                      0.0   \n",
       "3                      0.0                       0.0                      0.0   \n",
       "4                      0.0                       0.0                      0.0   \n",
       "\n",
       "  Descriptor_MorganFP_1023     TSNE_1     TSNE_2 ActivityClass  \n",
       "0                      0.0 -61.671165  18.636885         False  \n",
       "1                      0.0   5.981135 -41.491680          True  \n",
       "2                      0.0  22.383297 -54.882477          True  \n",
       "3                      0.0  26.984573  25.672077         False  \n",
       "4                      0.0 -53.715622 -27.205227          True  \n",
       "\n",
       "[5 rows x 1057 columns]"
      ]
     },
     "execution_count": 8,
     "metadata": {},
     "output_type": "execute_result"
    }
   ],
   "source": [
    "df_all['ActivityClass'] = activity_class_mask\n",
    "df_all.head()"
   ]
  },
  {
   "cell_type": "markdown",
   "id": "9fded642-f484-4551-9223-76645599a895",
   "metadata": {
    "id": "9fded642-f484-4551-9223-76645599a895"
   },
   "source": [
    "## Creating a Test Set\n",
    "\n",
    "A lot has been written about [selecting appropriate test sets for machine learning](https://machinelearningmastery.com/train-test-split-for-evaluating-machine-learning-algorithms/) and indeed that should always be an important first step. The purpose of the test set is to get us an idea on future/prospective performance of our model on unknown data. In QSAR, a popular choice is to make a 'time split' of the data based on publication year: "
   ]
  },
  {
   "cell_type": "code",
   "execution_count": null,
   "id": "315e1a35-554f-41b7-9964-23246bfa8208",
   "metadata": {
    "colab": {
     "base_uri": "https://localhost:8080/"
    },
    "id": "315e1a35-554f-41b7-9964-23246bfa8208",
    "outputId": "dec48e76-1be9-48b0-9e6c-8997bffd1436"
   },
   "outputs": [
    {
     "data": {
      "text/plain": [
       "0.30435917515009137"
      ]
     },
     "execution_count": 14,
     "metadata": {},
     "output_type": "execute_result"
    }
   ],
   "source": [
    "cutoff_year = 2015\n",
    "sum(df_all.Year >= cutoff_year) / len(df_all)"
   ]
  },
  {
   "cell_type": "markdown",
   "id": "2c056374-6b46-40b9-a4bb-fab722e9c13d",
   "metadata": {
    "id": "2c056374-6b46-40b9-a4bb-fab722e9c13d"
   },
   "source": [
    "If we train our model on data before year 2015, we could get an idea about how it could perform on data that was not known yet at that time. This approach also has plenty of caveats, one being that the data can follow a different development pattern over time. For example, it can happen that many more chemically novel molecules were found after 2015 making it much harder for the model when previously many chemically related structurues were explored. Fluctuations like these over time can make it harder to find an appropriate split and can result in some unfair comparison so one should always think twice when applying such a split. Here we base our decision solely on the fact that split on year 2015 lands around 20% of the data set in the test set, which is good enough for us, but does not mean it should be good enough for you in every situation. Let's now save our 'Train' and 'Test' set assignment into the data set:"
   ]
  },
  {
   "cell_type": "code",
   "execution_count": null,
   "id": "d33da1f4-7153-4e88-83db-48f26cede738",
   "metadata": {
    "colab": {
     "base_uri": "https://localhost:8080/",
     "height": 661
    },
    "id": "d33da1f4-7153-4e88-83db-48f26cede738",
    "outputId": "0d7ba451-2259-4ebd-b6d8-82f27be11378"
   },
   "outputs": [
    {
     "data": {
      "text/html": [
       "\n",
       "  <div id=\"df-1e115db9-c245-44a1-b3d0-415d0fac20c3\">\n",
       "    <div class=\"colab-df-container\">\n",
       "      <div>\n",
       "<style scoped>\n",
       "    .dataframe tbody tr th:only-of-type {\n",
       "        vertical-align: middle;\n",
       "    }\n",
       "\n",
       "    .dataframe tbody tr th {\n",
       "        vertical-align: top;\n",
       "    }\n",
       "\n",
       "    .dataframe thead th {\n",
       "        text-align: right;\n",
       "    }\n",
       "</style>\n",
       "<table border=\"1\" class=\"dataframe\">\n",
       "  <thead>\n",
       "    <tr style=\"text-align: right;\">\n",
       "      <th></th>\n",
       "      <th>Activity_ID</th>\n",
       "      <th>Quality</th>\n",
       "      <th>source</th>\n",
       "      <th>CID</th>\n",
       "      <th>SMILES</th>\n",
       "      <th>connectivity</th>\n",
       "      <th>InChIKey</th>\n",
       "      <th>InChI</th>\n",
       "      <th>InChI_AuxInfo</th>\n",
       "      <th>target_id</th>\n",
       "      <th>...</th>\n",
       "      <th>Descriptor_MorganFP_1018</th>\n",
       "      <th>Descriptor_MorganFP_1019</th>\n",
       "      <th>Descriptor_MorganFP_1020</th>\n",
       "      <th>Descriptor_MorganFP_1021</th>\n",
       "      <th>Descriptor_MorganFP_1022</th>\n",
       "      <th>Descriptor_MorganFP_1023</th>\n",
       "      <th>TSNE_1</th>\n",
       "      <th>TSNE_2</th>\n",
       "      <th>ActivityClass</th>\n",
       "      <th>TimeSplit</th>\n",
       "    </tr>\n",
       "  </thead>\n",
       "  <tbody>\n",
       "    <tr>\n",
       "      <th>0</th>\n",
       "      <td>AAAGFCUDAXPDAA_on_P56817_WT</td>\n",
       "      <td>High</td>\n",
       "      <td>ChEMBL30</td>\n",
       "      <td>CHEMBL1915983</td>\n",
       "      <td>COCC1CCN(C(C)C(=O)NC(Cc2cc(F)cc(F)c2)C(O)CNCc2...</td>\n",
       "      <td>AAAGFCUDAXPDAA</td>\n",
       "      <td>AAAGFCUDAXPDAA-UHFFFAOYSA-N</td>\n",
       "      <td>InChI=1S/C27H35F2N3O5/c1-17(32-8-7-20(16-36-2)...</td>\n",
       "      <td>\"AuxInfo=1/1/N:9,1,32,34,35,33,5,6,16,22,29,14...</td>\n",
       "      <td>P56817_WT</td>\n",
       "      <td>...</td>\n",
       "      <td>0.0</td>\n",
       "      <td>1.0</td>\n",
       "      <td>0.0</td>\n",
       "      <td>0.0</td>\n",
       "      <td>0.0</td>\n",
       "      <td>0.0</td>\n",
       "      <td>-61.671165</td>\n",
       "      <td>18.636885</td>\n",
       "      <td>False</td>\n",
       "      <td>Train</td>\n",
       "    </tr>\n",
       "    <tr>\n",
       "      <th>1</th>\n",
       "      <td>AACUJFVOHGRMTR_on_P56817_WT</td>\n",
       "      <td>High</td>\n",
       "      <td>ChEMBL30</td>\n",
       "      <td>CHEMBL4204869</td>\n",
       "      <td>CC1OCC2(c3cc(NC(=O)c4cnc(C(F)F)cn4)ccc3F)N=C(N...</td>\n",
       "      <td>AACUJFVOHGRMTR</td>\n",
       "      <td>AACUJFVOHGRMTR-UHFFFAOYSA-N</td>\n",
       "      <td>InChI=1S/C19H18F3N5O2S/c1-9-12-7-30-18(23)27-1...</td>\n",
       "      <td>\"AuxInfo=1/1/N:1,21,22,7,19,13,29,4,2,8,6,30,2...</td>\n",
       "      <td>P56817_WT</td>\n",
       "      <td>...</td>\n",
       "      <td>0.0</td>\n",
       "      <td>1.0</td>\n",
       "      <td>0.0</td>\n",
       "      <td>0.0</td>\n",
       "      <td>0.0</td>\n",
       "      <td>0.0</td>\n",
       "      <td>5.981135</td>\n",
       "      <td>-41.491680</td>\n",
       "      <td>True</td>\n",
       "      <td>Test</td>\n",
       "    </tr>\n",
       "    <tr>\n",
       "      <th>2</th>\n",
       "      <td>AANLQBIDWIHDGD_on_P56817_WT</td>\n",
       "      <td>High</td>\n",
       "      <td>ChEMBL30</td>\n",
       "      <td>CHEMBL4159574</td>\n",
       "      <td>COCCOc1cnc(C(=O)Nc2ccc(F)c(C3(C)N=C(N)COC3C(F)...</td>\n",
       "      <td>AANLQBIDWIHDGD</td>\n",
       "      <td>AANLQBIDWIHDGD-UHFFFAOYSA-N</td>\n",
       "      <td>InChI=1S/C20H21F4N5O4/c1-19(18(20(22,23)24)33-...</td>\n",
       "      <td>\"AuxInfo=1/1/N:20,1,14,15,3,4,31,32,7,24,13,18...</td>\n",
       "      <td>P56817_WT</td>\n",
       "      <td>...</td>\n",
       "      <td>0.0</td>\n",
       "      <td>1.0</td>\n",
       "      <td>0.0</td>\n",
       "      <td>0.0</td>\n",
       "      <td>0.0</td>\n",
       "      <td>0.0</td>\n",
       "      <td>22.383297</td>\n",
       "      <td>-54.882477</td>\n",
       "      <td>True</td>\n",
       "      <td>Test</td>\n",
       "    </tr>\n",
       "    <tr>\n",
       "      <th>3</th>\n",
       "      <td>AARJXZHQDZOZNY_on_P56817_WT</td>\n",
       "      <td>High</td>\n",
       "      <td>ChEMBL30</td>\n",
       "      <td>CHEMBL2443370</td>\n",
       "      <td>CC1=C(C(=O)Nc2nc(C)cs2)C(c2ccco2)C(C(=O)Nc2nc(...</td>\n",
       "      <td>AARJXZHQDZOZNY</td>\n",
       "      <td>AARJXZHQDZOZNY-UHFFFAOYSA-N</td>\n",
       "      <td>InChI=1S/C21H21N5O3S2/c1-10-8-30-20(22-10)25-1...</td>\n",
       "      <td>\"AuxInfo=1/1/N:10,26,1,30,16,15,17,11,27,9,25,...</td>\n",
       "      <td>P56817_WT</td>\n",
       "      <td>...</td>\n",
       "      <td>0.0</td>\n",
       "      <td>1.0</td>\n",
       "      <td>0.0</td>\n",
       "      <td>0.0</td>\n",
       "      <td>0.0</td>\n",
       "      <td>0.0</td>\n",
       "      <td>26.984573</td>\n",
       "      <td>25.672077</td>\n",
       "      <td>False</td>\n",
       "      <td>Train</td>\n",
       "    </tr>\n",
       "    <tr>\n",
       "      <th>4</th>\n",
       "      <td>AAWSEFDIDJLXJF_on_P56817_WT</td>\n",
       "      <td>High</td>\n",
       "      <td>ChEMBL30</td>\n",
       "      <td>CHEMBL2178717</td>\n",
       "      <td>CN1C(=O)C2CN(c3ncccn3)CC2(c2cc(-c3cccc(C#N)c3)...</td>\n",
       "      <td>AAWSEFDIDJLXJF</td>\n",
       "      <td>AAWSEFDIDJLXJF-UHFFFAOYSA-N</td>\n",
       "      <td>InChI=1S/C22H19N7OS/c1-28-19(30)17-11-29(21-25...</td>\n",
       "      <td>\"AuxInfo=1/1/N:1,21,11,22,20,10,12,26,17,24,6,...</td>\n",
       "      <td>P56817_WT</td>\n",
       "      <td>...</td>\n",
       "      <td>0.0</td>\n",
       "      <td>1.0</td>\n",
       "      <td>0.0</td>\n",
       "      <td>0.0</td>\n",
       "      <td>0.0</td>\n",
       "      <td>0.0</td>\n",
       "      <td>-53.715622</td>\n",
       "      <td>-27.205227</td>\n",
       "      <td>True</td>\n",
       "      <td>Train</td>\n",
       "    </tr>\n",
       "    <tr>\n",
       "      <th>...</th>\n",
       "      <td>...</td>\n",
       "      <td>...</td>\n",
       "      <td>...</td>\n",
       "      <td>...</td>\n",
       "      <td>...</td>\n",
       "      <td>...</td>\n",
       "      <td>...</td>\n",
       "      <td>...</td>\n",
       "      <td>...</td>\n",
       "      <td>...</td>\n",
       "      <td>...</td>\n",
       "      <td>...</td>\n",
       "      <td>...</td>\n",
       "      <td>...</td>\n",
       "      <td>...</td>\n",
       "      <td>...</td>\n",
       "      <td>...</td>\n",
       "      <td>...</td>\n",
       "      <td>...</td>\n",
       "      <td>...</td>\n",
       "      <td>...</td>\n",
       "    </tr>\n",
       "    <tr>\n",
       "      <th>3826</th>\n",
       "      <td>ZZLASUXQDJCLCY_on_P56817_WT</td>\n",
       "      <td>High</td>\n",
       "      <td>ChEMBL30</td>\n",
       "      <td>CHEMBL1821825</td>\n",
       "      <td>Cc1c(-c2ccc3nc(N)c(CC(C)C(=O)NCC4CCOCC4)cc3c2)...</td>\n",
       "      <td>ZZLASUXQDJCLCY</td>\n",
       "      <td>ZZLASUXQDJCLCY-UHFFFAOYSA-N</td>\n",
       "      <td>InChI=1S/C26H31N3O2/c1-17-5-3-4-6-23(17)20-7-8...</td>\n",
       "      <td>\"AuxInfo=1/1/N:1,14,30,29,31,28,5,6,20,24,21,2...</td>\n",
       "      <td>P56817_WT</td>\n",
       "      <td>...</td>\n",
       "      <td>0.0</td>\n",
       "      <td>1.0</td>\n",
       "      <td>0.0</td>\n",
       "      <td>0.0</td>\n",
       "      <td>0.0</td>\n",
       "      <td>0.0</td>\n",
       "      <td>32.414470</td>\n",
       "      <td>20.711920</td>\n",
       "      <td>True</td>\n",
       "      <td>Train</td>\n",
       "    </tr>\n",
       "    <tr>\n",
       "      <th>3827</th>\n",
       "      <td>ZZMNDKIJBBWBHI_on_P56817_WT</td>\n",
       "      <td>High</td>\n",
       "      <td>ChEMBL30</td>\n",
       "      <td>CHEMBL506759;44588635;CHEMBL506759;44588635;CH...</td>\n",
       "      <td>CC(NC(=O)c1cc(C(=O)NC(COCc2cc(F)cc(F)c2)C(O)CC...</td>\n",
       "      <td>ZZMNDKIJBBWBHI</td>\n",
       "      <td>ZZMNDKIJBBWBHI-UHFFFAOYSA-N</td>\n",
       "      <td>InChI=1S/C43H49F2N5O10S/c1-25(2)39(42(55)46-22...</td>\n",
       "      <td>\"AuxInfo=1/1/N:45,46,1,50,52,59,58,60,57,61,36...</td>\n",
       "      <td>P56817_WT</td>\n",
       "      <td>...</td>\n",
       "      <td>0.0</td>\n",
       "      <td>0.0</td>\n",
       "      <td>0.0</td>\n",
       "      <td>0.0</td>\n",
       "      <td>0.0</td>\n",
       "      <td>0.0</td>\n",
       "      <td>-31.731236</td>\n",
       "      <td>51.895810</td>\n",
       "      <td>True</td>\n",
       "      <td>Train</td>\n",
       "    </tr>\n",
       "    <tr>\n",
       "      <th>3828</th>\n",
       "      <td>ZZUPAAPYPBQGKS_on_P56817_WT</td>\n",
       "      <td>High</td>\n",
       "      <td>ChEMBL30</td>\n",
       "      <td>CHEMBL3634122;CHEMBL3634122;CHEMBL3634122;CHEM...</td>\n",
       "      <td>CC1(c2cc(NC(=O)c3ncc(Cl)cc3)ccc2)COCC(N)=N1</td>\n",
       "      <td>ZZUPAAPYPBQGKS</td>\n",
       "      <td>ZZUPAAPYPBQGKS-UHFFFAOYSA-N</td>\n",
       "      <td>InChI=1S/C17H17ClN4O2/c1-17(10-24-9-15(19)22-1...</td>\n",
       "      <td>\"AuxInfo=1/1/N:1,17,18,16,14,15,4,11,21,19,3,1...</td>\n",
       "      <td>P56817_WT</td>\n",
       "      <td>...</td>\n",
       "      <td>0.0</td>\n",
       "      <td>0.0</td>\n",
       "      <td>0.0</td>\n",
       "      <td>0.0</td>\n",
       "      <td>0.0</td>\n",
       "      <td>0.0</td>\n",
       "      <td>36.324360</td>\n",
       "      <td>-37.222504</td>\n",
       "      <td>True</td>\n",
       "      <td>Train</td>\n",
       "    </tr>\n",
       "    <tr>\n",
       "      <th>3829</th>\n",
       "      <td>ZZYSRRFOAYTMKM_on_P56817_WT</td>\n",
       "      <td>High</td>\n",
       "      <td>ChEMBL30</td>\n",
       "      <td>CHEMBL4091480</td>\n",
       "      <td>Cc1ccc(NCc2cc(C3(C)CCSC(N)=N3)c(F)cc2F)nc1</td>\n",
       "      <td>ZZYSRRFOAYTMKM</td>\n",
       "      <td>ZZYSRRFOAYTMKM-UHFFFAOYSA-N</td>\n",
       "      <td>InChI=1S/C18H20F2N4S/c1-11-3-4-16(22-9-11)23-1...</td>\n",
       "      <td>\"AuxInfo=1/1/N:1,12,3,4,13,14,9,21,25,7,2,8,10...</td>\n",
       "      <td>P56817_WT</td>\n",
       "      <td>...</td>\n",
       "      <td>0.0</td>\n",
       "      <td>0.0</td>\n",
       "      <td>0.0</td>\n",
       "      <td>0.0</td>\n",
       "      <td>0.0</td>\n",
       "      <td>0.0</td>\n",
       "      <td>12.536815</td>\n",
       "      <td>-25.815283</td>\n",
       "      <td>False</td>\n",
       "      <td>Test</td>\n",
       "    </tr>\n",
       "    <tr>\n",
       "      <th>3830</th>\n",
       "      <td>ZZZPIVDRDSYYLA_on_P56817_WT</td>\n",
       "      <td>High</td>\n",
       "      <td>ChEMBL30</td>\n",
       "      <td>CHEMBL3653455</td>\n",
       "      <td>Cc1nc(C(=O)Nc2ccc(F)c(C3(C(F)F)COCC(N)=N3)c2)c...</td>\n",
       "      <td>ZZZPIVDRDSYYLA</td>\n",
       "      <td>ZZZPIVDRDSYYLA-UHFFFAOYSA-N</td>\n",
       "      <td>InChI=1S/C17H17F3N4O3/c1-8-14(22-9(2)27-8)15(2...</td>\n",
       "      <td>\"AuxInfo=1/1/N:26,1,9,10,24,20,18,25,2,8,13,11...</td>\n",
       "      <td>P56817_WT</td>\n",
       "      <td>...</td>\n",
       "      <td>0.0</td>\n",
       "      <td>0.0</td>\n",
       "      <td>0.0</td>\n",
       "      <td>0.0</td>\n",
       "      <td>0.0</td>\n",
       "      <td>0.0</td>\n",
       "      <td>42.214138</td>\n",
       "      <td>-47.971664</td>\n",
       "      <td>True</td>\n",
       "      <td>Train</td>\n",
       "    </tr>\n",
       "  </tbody>\n",
       "</table>\n",
       "<p>3831 rows × 1058 columns</p>\n",
       "</div>\n",
       "      <button class=\"colab-df-convert\" onclick=\"convertToInteractive('df-1e115db9-c245-44a1-b3d0-415d0fac20c3')\"\n",
       "              title=\"Convert this dataframe to an interactive table.\"\n",
       "              style=\"display:none;\">\n",
       "        \n",
       "  <svg xmlns=\"http://www.w3.org/2000/svg\" height=\"24px\"viewBox=\"0 0 24 24\"\n",
       "       width=\"24px\">\n",
       "    <path d=\"M0 0h24v24H0V0z\" fill=\"none\"/>\n",
       "    <path d=\"M18.56 5.44l.94 2.06.94-2.06 2.06-.94-2.06-.94-.94-2.06-.94 2.06-2.06.94zm-11 1L8.5 8.5l.94-2.06 2.06-.94-2.06-.94L8.5 2.5l-.94 2.06-2.06.94zm10 10l.94 2.06.94-2.06 2.06-.94-2.06-.94-.94-2.06-.94 2.06-2.06.94z\"/><path d=\"M17.41 7.96l-1.37-1.37c-.4-.4-.92-.59-1.43-.59-.52 0-1.04.2-1.43.59L10.3 9.45l-7.72 7.72c-.78.78-.78 2.05 0 2.83L4 21.41c.39.39.9.59 1.41.59.51 0 1.02-.2 1.41-.59l7.78-7.78 2.81-2.81c.8-.78.8-2.07 0-2.86zM5.41 20L4 18.59l7.72-7.72 1.47 1.35L5.41 20z\"/>\n",
       "  </svg>\n",
       "      </button>\n",
       "      \n",
       "  <style>\n",
       "    .colab-df-container {\n",
       "      display:flex;\n",
       "      flex-wrap:wrap;\n",
       "      gap: 12px;\n",
       "    }\n",
       "\n",
       "    .colab-df-convert {\n",
       "      background-color: #E8F0FE;\n",
       "      border: none;\n",
       "      border-radius: 50%;\n",
       "      cursor: pointer;\n",
       "      display: none;\n",
       "      fill: #1967D2;\n",
       "      height: 32px;\n",
       "      padding: 0 0 0 0;\n",
       "      width: 32px;\n",
       "    }\n",
       "\n",
       "    .colab-df-convert:hover {\n",
       "      background-color: #E2EBFA;\n",
       "      box-shadow: 0px 1px 2px rgba(60, 64, 67, 0.3), 0px 1px 3px 1px rgba(60, 64, 67, 0.15);\n",
       "      fill: #174EA6;\n",
       "    }\n",
       "\n",
       "    [theme=dark] .colab-df-convert {\n",
       "      background-color: #3B4455;\n",
       "      fill: #D2E3FC;\n",
       "    }\n",
       "\n",
       "    [theme=dark] .colab-df-convert:hover {\n",
       "      background-color: #434B5C;\n",
       "      box-shadow: 0px 1px 3px 1px rgba(0, 0, 0, 0.15);\n",
       "      filter: drop-shadow(0px 1px 2px rgba(0, 0, 0, 0.3));\n",
       "      fill: #FFFFFF;\n",
       "    }\n",
       "  </style>\n",
       "\n",
       "      <script>\n",
       "        const buttonEl =\n",
       "          document.querySelector('#df-1e115db9-c245-44a1-b3d0-415d0fac20c3 button.colab-df-convert');\n",
       "        buttonEl.style.display =\n",
       "          google.colab.kernel.accessAllowed ? 'block' : 'none';\n",
       "\n",
       "        async function convertToInteractive(key) {\n",
       "          const element = document.querySelector('#df-1e115db9-c245-44a1-b3d0-415d0fac20c3');\n",
       "          const dataTable =\n",
       "            await google.colab.kernel.invokeFunction('convertToInteractive',\n",
       "                                                     [key], {});\n",
       "          if (!dataTable) return;\n",
       "\n",
       "          const docLinkHtml = 'Like what you see? Visit the ' +\n",
       "            '<a target=\"_blank\" href=https://colab.research.google.com/notebooks/data_table.ipynb>data table notebook</a>'\n",
       "            + ' to learn more about interactive tables.';\n",
       "          element.innerHTML = '';\n",
       "          dataTable['output_type'] = 'display_data';\n",
       "          await google.colab.output.renderOutput(dataTable, element);\n",
       "          const docLink = document.createElement('div');\n",
       "          docLink.innerHTML = docLinkHtml;\n",
       "          element.appendChild(docLink);\n",
       "        }\n",
       "      </script>\n",
       "    </div>\n",
       "  </div>\n",
       "  "
      ],
      "text/plain": [
       "                      Activity_ID Quality    source  \\\n",
       "0     AAAGFCUDAXPDAA_on_P56817_WT    High  ChEMBL30   \n",
       "1     AACUJFVOHGRMTR_on_P56817_WT    High  ChEMBL30   \n",
       "2     AANLQBIDWIHDGD_on_P56817_WT    High  ChEMBL30   \n",
       "3     AARJXZHQDZOZNY_on_P56817_WT    High  ChEMBL30   \n",
       "4     AAWSEFDIDJLXJF_on_P56817_WT    High  ChEMBL30   \n",
       "...                           ...     ...       ...   \n",
       "3826  ZZLASUXQDJCLCY_on_P56817_WT    High  ChEMBL30   \n",
       "3827  ZZMNDKIJBBWBHI_on_P56817_WT    High  ChEMBL30   \n",
       "3828  ZZUPAAPYPBQGKS_on_P56817_WT    High  ChEMBL30   \n",
       "3829  ZZYSRRFOAYTMKM_on_P56817_WT    High  ChEMBL30   \n",
       "3830  ZZZPIVDRDSYYLA_on_P56817_WT    High  ChEMBL30   \n",
       "\n",
       "                                                    CID  \\\n",
       "0                                         CHEMBL1915983   \n",
       "1                                         CHEMBL4204869   \n",
       "2                                         CHEMBL4159574   \n",
       "3                                         CHEMBL2443370   \n",
       "4                                         CHEMBL2178717   \n",
       "...                                                 ...   \n",
       "3826                                      CHEMBL1821825   \n",
       "3827  CHEMBL506759;44588635;CHEMBL506759;44588635;CH...   \n",
       "3828  CHEMBL3634122;CHEMBL3634122;CHEMBL3634122;CHEM...   \n",
       "3829                                      CHEMBL4091480   \n",
       "3830                                      CHEMBL3653455   \n",
       "\n",
       "                                                 SMILES    connectivity  \\\n",
       "0     COCC1CCN(C(C)C(=O)NC(Cc2cc(F)cc(F)c2)C(O)CNCc2...  AAAGFCUDAXPDAA   \n",
       "1     CC1OCC2(c3cc(NC(=O)c4cnc(C(F)F)cn4)ccc3F)N=C(N...  AACUJFVOHGRMTR   \n",
       "2     COCCOc1cnc(C(=O)Nc2ccc(F)c(C3(C)N=C(N)COC3C(F)...  AANLQBIDWIHDGD   \n",
       "3     CC1=C(C(=O)Nc2nc(C)cs2)C(c2ccco2)C(C(=O)Nc2nc(...  AARJXZHQDZOZNY   \n",
       "4     CN1C(=O)C2CN(c3ncccn3)CC2(c2cc(-c3cccc(C#N)c3)...  AAWSEFDIDJLXJF   \n",
       "...                                                 ...             ...   \n",
       "3826  Cc1c(-c2ccc3nc(N)c(CC(C)C(=O)NCC4CCOCC4)cc3c2)...  ZZLASUXQDJCLCY   \n",
       "3827  CC(NC(=O)c1cc(C(=O)NC(COCc2cc(F)cc(F)c2)C(O)CC...  ZZMNDKIJBBWBHI   \n",
       "3828        CC1(c2cc(NC(=O)c3ncc(Cl)cc3)ccc2)COCC(N)=N1  ZZUPAAPYPBQGKS   \n",
       "3829         Cc1ccc(NCc2cc(C3(C)CCSC(N)=N3)c(F)cc2F)nc1  ZZYSRRFOAYTMKM   \n",
       "3830  Cc1nc(C(=O)Nc2ccc(F)c(C3(C(F)F)COCC(N)=N3)c2)c...  ZZZPIVDRDSYYLA   \n",
       "\n",
       "                         InChIKey  \\\n",
       "0     AAAGFCUDAXPDAA-UHFFFAOYSA-N   \n",
       "1     AACUJFVOHGRMTR-UHFFFAOYSA-N   \n",
       "2     AANLQBIDWIHDGD-UHFFFAOYSA-N   \n",
       "3     AARJXZHQDZOZNY-UHFFFAOYSA-N   \n",
       "4     AAWSEFDIDJLXJF-UHFFFAOYSA-N   \n",
       "...                           ...   \n",
       "3826  ZZLASUXQDJCLCY-UHFFFAOYSA-N   \n",
       "3827  ZZMNDKIJBBWBHI-UHFFFAOYSA-N   \n",
       "3828  ZZUPAAPYPBQGKS-UHFFFAOYSA-N   \n",
       "3829  ZZYSRRFOAYTMKM-UHFFFAOYSA-N   \n",
       "3830  ZZZPIVDRDSYYLA-UHFFFAOYSA-N   \n",
       "\n",
       "                                                  InChI  \\\n",
       "0     InChI=1S/C27H35F2N3O5/c1-17(32-8-7-20(16-36-2)...   \n",
       "1     InChI=1S/C19H18F3N5O2S/c1-9-12-7-30-18(23)27-1...   \n",
       "2     InChI=1S/C20H21F4N5O4/c1-19(18(20(22,23)24)33-...   \n",
       "3     InChI=1S/C21H21N5O3S2/c1-10-8-30-20(22-10)25-1...   \n",
       "4     InChI=1S/C22H19N7OS/c1-28-19(30)17-11-29(21-25...   \n",
       "...                                                 ...   \n",
       "3826  InChI=1S/C26H31N3O2/c1-17-5-3-4-6-23(17)20-7-8...   \n",
       "3827  InChI=1S/C43H49F2N5O10S/c1-25(2)39(42(55)46-22...   \n",
       "3828  InChI=1S/C17H17ClN4O2/c1-17(10-24-9-15(19)22-1...   \n",
       "3829  InChI=1S/C18H20F2N4S/c1-11-3-4-16(22-9-11)23-1...   \n",
       "3830  InChI=1S/C17H17F3N4O3/c1-8-14(22-9(2)27-8)15(2...   \n",
       "\n",
       "                                          InChI_AuxInfo  target_id  ...  \\\n",
       "0     \"AuxInfo=1/1/N:9,1,32,34,35,33,5,6,16,22,29,14...  P56817_WT  ...   \n",
       "1     \"AuxInfo=1/1/N:1,21,22,7,19,13,29,4,2,8,6,30,2...  P56817_WT  ...   \n",
       "2     \"AuxInfo=1/1/N:20,1,14,15,3,4,31,32,7,24,13,18...  P56817_WT  ...   \n",
       "3     \"AuxInfo=1/1/N:10,26,1,30,16,15,17,11,27,9,25,...  P56817_WT  ...   \n",
       "4     \"AuxInfo=1/1/N:1,21,11,22,20,10,12,26,17,24,6,...  P56817_WT  ...   \n",
       "...                                                 ...        ...  ...   \n",
       "3826  \"AuxInfo=1/1/N:1,14,30,29,31,28,5,6,20,24,21,2...  P56817_WT  ...   \n",
       "3827  \"AuxInfo=1/1/N:45,46,1,50,52,59,58,60,57,61,36...  P56817_WT  ...   \n",
       "3828  \"AuxInfo=1/1/N:1,17,18,16,14,15,4,11,21,19,3,1...  P56817_WT  ...   \n",
       "3829  \"AuxInfo=1/1/N:1,12,3,4,13,14,9,21,25,7,2,8,10...  P56817_WT  ...   \n",
       "3830  \"AuxInfo=1/1/N:26,1,9,10,24,20,18,25,2,8,13,11...  P56817_WT  ...   \n",
       "\n",
       "     Descriptor_MorganFP_1018 Descriptor_MorganFP_1019  \\\n",
       "0                         0.0                      1.0   \n",
       "1                         0.0                      1.0   \n",
       "2                         0.0                      1.0   \n",
       "3                         0.0                      1.0   \n",
       "4                         0.0                      1.0   \n",
       "...                       ...                      ...   \n",
       "3826                      0.0                      1.0   \n",
       "3827                      0.0                      0.0   \n",
       "3828                      0.0                      0.0   \n",
       "3829                      0.0                      0.0   \n",
       "3830                      0.0                      0.0   \n",
       "\n",
       "     Descriptor_MorganFP_1020 Descriptor_MorganFP_1021  \\\n",
       "0                         0.0                      0.0   \n",
       "1                         0.0                      0.0   \n",
       "2                         0.0                      0.0   \n",
       "3                         0.0                      0.0   \n",
       "4                         0.0                      0.0   \n",
       "...                       ...                      ...   \n",
       "3826                      0.0                      0.0   \n",
       "3827                      0.0                      0.0   \n",
       "3828                      0.0                      0.0   \n",
       "3829                      0.0                      0.0   \n",
       "3830                      0.0                      0.0   \n",
       "\n",
       "      Descriptor_MorganFP_1022 Descriptor_MorganFP_1023     TSNE_1     TSNE_2  \\\n",
       "0                          0.0                      0.0 -61.671165  18.636885   \n",
       "1                          0.0                      0.0   5.981135 -41.491680   \n",
       "2                          0.0                      0.0  22.383297 -54.882477   \n",
       "3                          0.0                      0.0  26.984573  25.672077   \n",
       "4                          0.0                      0.0 -53.715622 -27.205227   \n",
       "...                        ...                      ...        ...        ...   \n",
       "3826                       0.0                      0.0  32.414470  20.711920   \n",
       "3827                       0.0                      0.0 -31.731236  51.895810   \n",
       "3828                       0.0                      0.0  36.324360 -37.222504   \n",
       "3829                       0.0                      0.0  12.536815 -25.815283   \n",
       "3830                       0.0                      0.0  42.214138 -47.971664   \n",
       "\n",
       "     ActivityClass TimeSplit  \n",
       "0            False     Train  \n",
       "1             True      Test  \n",
       "2             True      Test  \n",
       "3            False     Train  \n",
       "4             True     Train  \n",
       "...            ...       ...  \n",
       "3826          True     Train  \n",
       "3827          True     Train  \n",
       "3828          True     Train  \n",
       "3829         False      Test  \n",
       "3830          True     Train  \n",
       "\n",
       "[3831 rows x 1058 columns]"
      ]
     },
     "execution_count": 15,
     "metadata": {},
     "output_type": "execute_result"
    }
   ],
   "source": [
    "df_all[\"TimeSplit\"] = (df_all.Year >= cutoff_year).apply(lambda x : \"Test\" if x else \"Train\")\n",
    "df_all"
   ]
  },
  {
   "cell_type": "markdown",
   "id": "23580792-10d5-40e8-b1bb-8078223e760f",
   "metadata": {
    "id": "23580792-10d5-40e8-b1bb-8078223e760f"
   },
   "source": [
    "Now, we can use the `scaffviz` package again to visualize how different our test set is from the training set. This will be useful to assess how difficult the test set is for the resulting model. We start by saving our annotated data set into a new file and wrapping it as a `DataSetTSV` instance for plotting:"
   ]
  },
  {
   "cell_type": "code",
   "execution_count": null,
   "id": "f6e962a8-2646-4de3-bdf5-3f051ec1deb1",
   "metadata": {
    "id": "f6e962a8-2646-4de3-bdf5-3f051ec1deb1"
   },
   "outputs": [],
   "source": [
    "from scaffviz.data.dataset import DataSetTSV\n",
    "\n",
    "dataset = DataSetTSV(data=df_all, path='data/BACE_LIGANDS_qsar.tsv')"
   ]
  },
  {
   "cell_type": "markdown",
   "id": "b7dbb03a-0640-4a56-b8f0-cd5b1c4e7578",
   "metadata": {
    "id": "b7dbb03a-0640-4a56-b8f0-cd5b1c4e7578"
   },
   "source": [
    "Next, we can just drop it into the `Plot.plot` method again: \n",
    "\n",
    "*Note: We should still have the embedding calculated from the previous exercise, but if you do not have that information anymore, it will be recalculated.*"
   ]
  },
  {
   "cell_type": "code",
   "execution_count": null,
   "id": "f4bb6646-7d47-4680-8556-ea1a8b7fe611",
   "metadata": {
    "colab": {
     "base_uri": "https://localhost:8080/",
     "height": 822
    },
    "id": "f4bb6646-7d47-4680-8556-ea1a8b7fe611",
    "outputId": "35a03759-04b5-4b92-b92e-53352e7e5a8c"
   },
   "outputs": [
    {
     "data": {
      "application/javascript": [
       "(async (port, path, width, height, cache, element) => {\n",
       "    if (!google.colab.kernel.accessAllowed && !cache) {\n",
       "      return;\n",
       "    }\n",
       "    element.appendChild(document.createTextNode(''));\n",
       "    const url = await google.colab.kernel.proxyPort(port, {cache});\n",
       "    const iframe = document.createElement('iframe');\n",
       "    iframe.src = new URL(path, url).toString();\n",
       "    iframe.height = height;\n",
       "    iframe.width = width;\n",
       "    iframe.style.border = 0;\n",
       "    element.appendChild(iframe);\n",
       "  })(9191, \"/\", \"100%\", 800, false, window.element)"
      ],
      "text/plain": [
       "<IPython.core.display.Javascript object>"
      ]
     },
     "metadata": {},
     "output_type": "display_data"
    }
   ],
   "source": [
    "from scaffviz.depiction.plot import Plot\n",
    "from scaffviz.clustering.manifold import TSNE\n",
    "\n",
    "plot = Plot(dataset, TSNE())\n",
    "plot.plot(\n",
    "    recalculate=False, \n",
    "    color_by=\"TimeSplit\",\n",
    "    color_style=\"groups\",\n",
    "    card_data=[\"pchembl_value_Median\", \"all_doc_ids\", \"source\"],\n",
    "    title_data=\"Activity_ID\",\n",
    "    viewport_height=800,\n",
    "    port=9191\n",
    ")"
   ]
  },
  {
   "cell_type": "markdown",
   "id": "984e0142-c8b5-4d42-9abb-d874d4ae8cd8",
   "metadata": {
    "id": "984e0142-c8b5-4d42-9abb-d874d4ae8cd8"
   },
   "source": [
    "In the plot, we can see that some of the test compounds are in similar parts of chemical space as the training compounds, but there are also a few 'lonely' compounds that cluster together. So the split we selected actually seems to have a good balance between compounds that are challenging (more distant from the training data) and easier (closer to the training data)."
   ]
  },
  {
   "cell_type": "markdown",
   "id": "af410eba-5c56-4d83-8eb6-9bb0ca864075",
   "metadata": {
    "id": "af410eba-5c56-4d83-8eb6-9bb0ca864075"
   },
   "source": [
    "## Model Training\n",
    "\n",
    "First, we seperate the testing part of the data set and start preparing our training set for modelling:"
   ]
  },
  {
   "cell_type": "code",
   "execution_count": null,
   "id": "e8072b95-9be6-4a8c-a109-80ecd6ba3cfe",
   "metadata": {
    "colab": {
     "base_uri": "https://localhost:8080/"
    },
    "id": "e8072b95-9be6-4a8c-a109-80ecd6ba3cfe",
    "outputId": "2712c058-97c7-4802-fa0e-c4e318577f9f"
   },
   "outputs": [
    {
     "data": {
      "text/plain": [
       "2665"
      ]
     },
     "execution_count": 20,
     "metadata": {},
     "output_type": "execute_result"
    }
   ],
   "source": [
    "df_train = df_all[df_all.TimeSplit == \"Train\"]\n",
    "len(df_train)"
   ]
  },
  {
   "cell_type": "code",
   "execution_count": null,
   "id": "f6fe1235-6495-40c4-8899-43174bbd17be",
   "metadata": {
    "colab": {
     "base_uri": "https://localhost:8080/"
    },
    "id": "f6fe1235-6495-40c4-8899-43174bbd17be",
    "outputId": "212db174-ed99-4be2-849b-40e3116db00e"
   },
   "outputs": [
    {
     "data": {
      "text/plain": [
       "1166"
      ]
     },
     "execution_count": 21,
     "metadata": {},
     "output_type": "execute_result"
    }
   ],
   "source": [
    "df_test = df_all[df_all.TimeSplit == \"Test\"]\n",
    "len(df_test)"
   ]
  },
  {
   "cell_type": "markdown",
   "id": "6124d40c-ed2a-4fd1-a06a-27e7c3ab2ecc",
   "metadata": {
    "id": "6124d40c-ed2a-4fd1-a06a-27e7c3ab2ecc"
   },
   "source": [
    "And finally a quick sanity check that we truly seperated the data correctly by year:"
   ]
  },
  {
   "cell_type": "code",
   "execution_count": null,
   "id": "753ad4fc-2970-4b81-bea3-6fd5c9b9eaf2",
   "metadata": {
    "colab": {
     "base_uri": "https://localhost:8080/",
     "height": 282
    },
    "id": "753ad4fc-2970-4b81-bea3-6fd5c9b9eaf2",
    "outputId": "287bf1ce-0965-49e1-db85-d8c96fb454a4"
   },
   "outputs": [
    {
     "data": {
      "text/plain": [
       "<matplotlib.axes._subplots.AxesSubplot at 0x7f73ae80b150>"
      ]
     },
     "execution_count": 22,
     "metadata": {},
     "output_type": "execute_result"
    },
    {
     "data": {
      "image/png": "[encoded data removed]",
      "text/plain": [
       "<Figure size 432x288 with 1 Axes>"
      ]
     },
     "metadata": {
      "needs_background": "light"
     },
     "output_type": "display_data"
    }
   ],
   "source": [
    "df_test.Year.hist()"
   ]
  },
  {
   "cell_type": "markdown",
   "id": "82d60f53-8996-4854-9bab-3f534e89c326",
   "metadata": {
    "id": "82d60f53-8996-4854-9bab-3f534e89c326"
   },
   "source": [
    "Next, we extract the descriptors we will use to derive the QSAR model. This is how we will relate structural information with the endpoint variable (the `ActivityClass` group). The model will need two types of inputs:\n",
    "\n",
    "1. The data describing molecular structure. In our case, these will be the fingerprints we also used to make the t-SNE plot above.\n",
    "2. The categorization to `ActivityClass`. This will be used to fit the model and create the mathematical links between the structure (the fingerprints) and the categorization variable (`ActivityClass`).\n",
    "\n",
    "All descriptor column names start with the `Descriptor_` string so that allows us to extract them easily from the data:"
   ]
  },
  {
   "cell_type": "code",
   "execution_count": null,
   "id": "f8359b21-3edb-4dae-9081-be190510312d",
   "metadata": {
    "colab": {
     "base_uri": "https://localhost:8080/",
     "height": 488
    },
    "id": "f8359b21-3edb-4dae-9081-be190510312d",
    "outputId": "e1967123-f855-4fe8-950e-5559c98adcdd"
   },
   "outputs": [
    {
     "data": {
      "text/html": [
       "\n",
       "  <div id=\"df-2e53e7bf-c387-426e-b64c-5e9167311dfa\">\n",
       "    <div class=\"colab-df-container\">\n",
       "      <div>\n",
       "<style scoped>\n",
       "    .dataframe tbody tr th:only-of-type {\n",
       "        vertical-align: middle;\n",
       "    }\n",
       "\n",
       "    .dataframe tbody tr th {\n",
       "        vertical-align: top;\n",
       "    }\n",
       "\n",
       "    .dataframe thead th {\n",
       "        text-align: right;\n",
       "    }\n",
       "</style>\n",
       "<table border=\"1\" class=\"dataframe\">\n",
       "  <thead>\n",
       "    <tr style=\"text-align: right;\">\n",
       "      <th></th>\n",
       "      <th>Descriptor_MorganFP_0</th>\n",
       "      <th>Descriptor_MorganFP_1</th>\n",
       "      <th>Descriptor_MorganFP_2</th>\n",
       "      <th>Descriptor_MorganFP_3</th>\n",
       "      <th>Descriptor_MorganFP_4</th>\n",
       "      <th>Descriptor_MorganFP_5</th>\n",
       "      <th>Descriptor_MorganFP_6</th>\n",
       "      <th>Descriptor_MorganFP_7</th>\n",
       "      <th>Descriptor_MorganFP_8</th>\n",
       "      <th>Descriptor_MorganFP_9</th>\n",
       "      <th>...</th>\n",
       "      <th>Descriptor_MorganFP_1014</th>\n",
       "      <th>Descriptor_MorganFP_1015</th>\n",
       "      <th>Descriptor_MorganFP_1016</th>\n",
       "      <th>Descriptor_MorganFP_1017</th>\n",
       "      <th>Descriptor_MorganFP_1018</th>\n",
       "      <th>Descriptor_MorganFP_1019</th>\n",
       "      <th>Descriptor_MorganFP_1020</th>\n",
       "      <th>Descriptor_MorganFP_1021</th>\n",
       "      <th>Descriptor_MorganFP_1022</th>\n",
       "      <th>Descriptor_MorganFP_1023</th>\n",
       "    </tr>\n",
       "  </thead>\n",
       "  <tbody>\n",
       "    <tr>\n",
       "      <th>0</th>\n",
       "      <td>0.0</td>\n",
       "      <td>1.0</td>\n",
       "      <td>0.0</td>\n",
       "      <td>0.0</td>\n",
       "      <td>0.0</td>\n",
       "      <td>1.0</td>\n",
       "      <td>0.0</td>\n",
       "      <td>0.0</td>\n",
       "      <td>0.0</td>\n",
       "      <td>0.0</td>\n",
       "      <td>...</td>\n",
       "      <td>0.0</td>\n",
       "      <td>0.0</td>\n",
       "      <td>0.0</td>\n",
       "      <td>0.0</td>\n",
       "      <td>0.0</td>\n",
       "      <td>1.0</td>\n",
       "      <td>0.0</td>\n",
       "      <td>0.0</td>\n",
       "      <td>0.0</td>\n",
       "      <td>0.0</td>\n",
       "    </tr>\n",
       "    <tr>\n",
       "      <th>3</th>\n",
       "      <td>0.0</td>\n",
       "      <td>0.0</td>\n",
       "      <td>0.0</td>\n",
       "      <td>0.0</td>\n",
       "      <td>0.0</td>\n",
       "      <td>0.0</td>\n",
       "      <td>0.0</td>\n",
       "      <td>0.0</td>\n",
       "      <td>0.0</td>\n",
       "      <td>0.0</td>\n",
       "      <td>...</td>\n",
       "      <td>0.0</td>\n",
       "      <td>0.0</td>\n",
       "      <td>0.0</td>\n",
       "      <td>0.0</td>\n",
       "      <td>0.0</td>\n",
       "      <td>1.0</td>\n",
       "      <td>0.0</td>\n",
       "      <td>0.0</td>\n",
       "      <td>0.0</td>\n",
       "      <td>0.0</td>\n",
       "    </tr>\n",
       "    <tr>\n",
       "      <th>4</th>\n",
       "      <td>0.0</td>\n",
       "      <td>0.0</td>\n",
       "      <td>0.0</td>\n",
       "      <td>0.0</td>\n",
       "      <td>0.0</td>\n",
       "      <td>1.0</td>\n",
       "      <td>0.0</td>\n",
       "      <td>0.0</td>\n",
       "      <td>0.0</td>\n",
       "      <td>0.0</td>\n",
       "      <td>...</td>\n",
       "      <td>0.0</td>\n",
       "      <td>0.0</td>\n",
       "      <td>0.0</td>\n",
       "      <td>0.0</td>\n",
       "      <td>0.0</td>\n",
       "      <td>1.0</td>\n",
       "      <td>0.0</td>\n",
       "      <td>0.0</td>\n",
       "      <td>0.0</td>\n",
       "      <td>0.0</td>\n",
       "    </tr>\n",
       "    <tr>\n",
       "      <th>5</th>\n",
       "      <td>0.0</td>\n",
       "      <td>0.0</td>\n",
       "      <td>0.0</td>\n",
       "      <td>0.0</td>\n",
       "      <td>0.0</td>\n",
       "      <td>0.0</td>\n",
       "      <td>0.0</td>\n",
       "      <td>0.0</td>\n",
       "      <td>0.0</td>\n",
       "      <td>0.0</td>\n",
       "      <td>...</td>\n",
       "      <td>0.0</td>\n",
       "      <td>0.0</td>\n",
       "      <td>0.0</td>\n",
       "      <td>0.0</td>\n",
       "      <td>0.0</td>\n",
       "      <td>0.0</td>\n",
       "      <td>0.0</td>\n",
       "      <td>0.0</td>\n",
       "      <td>0.0</td>\n",
       "      <td>0.0</td>\n",
       "    </tr>\n",
       "    <tr>\n",
       "      <th>6</th>\n",
       "      <td>0.0</td>\n",
       "      <td>1.0</td>\n",
       "      <td>0.0</td>\n",
       "      <td>0.0</td>\n",
       "      <td>1.0</td>\n",
       "      <td>0.0</td>\n",
       "      <td>0.0</td>\n",
       "      <td>0.0</td>\n",
       "      <td>0.0</td>\n",
       "      <td>1.0</td>\n",
       "      <td>...</td>\n",
       "      <td>0.0</td>\n",
       "      <td>0.0</td>\n",
       "      <td>0.0</td>\n",
       "      <td>0.0</td>\n",
       "      <td>0.0</td>\n",
       "      <td>1.0</td>\n",
       "      <td>0.0</td>\n",
       "      <td>0.0</td>\n",
       "      <td>0.0</td>\n",
       "      <td>0.0</td>\n",
       "    </tr>\n",
       "    <tr>\n",
       "      <th>...</th>\n",
       "      <td>...</td>\n",
       "      <td>...</td>\n",
       "      <td>...</td>\n",
       "      <td>...</td>\n",
       "      <td>...</td>\n",
       "      <td>...</td>\n",
       "      <td>...</td>\n",
       "      <td>...</td>\n",
       "      <td>...</td>\n",
       "      <td>...</td>\n",
       "      <td>...</td>\n",
       "      <td>...</td>\n",
       "      <td>...</td>\n",
       "      <td>...</td>\n",
       "      <td>...</td>\n",
       "      <td>...</td>\n",
       "      <td>...</td>\n",
       "      <td>...</td>\n",
       "      <td>...</td>\n",
       "      <td>...</td>\n",
       "      <td>...</td>\n",
       "    </tr>\n",
       "    <tr>\n",
       "      <th>3824</th>\n",
       "      <td>0.0</td>\n",
       "      <td>1.0</td>\n",
       "      <td>0.0</td>\n",
       "      <td>0.0</td>\n",
       "      <td>0.0</td>\n",
       "      <td>0.0</td>\n",
       "      <td>0.0</td>\n",
       "      <td>0.0</td>\n",
       "      <td>0.0</td>\n",
       "      <td>1.0</td>\n",
       "      <td>...</td>\n",
       "      <td>0.0</td>\n",
       "      <td>0.0</td>\n",
       "      <td>0.0</td>\n",
       "      <td>0.0</td>\n",
       "      <td>0.0</td>\n",
       "      <td>1.0</td>\n",
       "      <td>0.0</td>\n",
       "      <td>0.0</td>\n",
       "      <td>0.0</td>\n",
       "      <td>0.0</td>\n",
       "    </tr>\n",
       "    <tr>\n",
       "      <th>3826</th>\n",
       "      <td>0.0</td>\n",
       "      <td>1.0</td>\n",
       "      <td>0.0</td>\n",
       "      <td>0.0</td>\n",
       "      <td>0.0</td>\n",
       "      <td>0.0</td>\n",
       "      <td>0.0</td>\n",
       "      <td>0.0</td>\n",
       "      <td>0.0</td>\n",
       "      <td>0.0</td>\n",
       "      <td>...</td>\n",
       "      <td>0.0</td>\n",
       "      <td>0.0</td>\n",
       "      <td>0.0</td>\n",
       "      <td>0.0</td>\n",
       "      <td>0.0</td>\n",
       "      <td>1.0</td>\n",
       "      <td>0.0</td>\n",
       "      <td>0.0</td>\n",
       "      <td>0.0</td>\n",
       "      <td>0.0</td>\n",
       "    </tr>\n",
       "    <tr>\n",
       "      <th>3827</th>\n",
       "      <td>0.0</td>\n",
       "      <td>1.0</td>\n",
       "      <td>0.0</td>\n",
       "      <td>0.0</td>\n",
       "      <td>0.0</td>\n",
       "      <td>0.0</td>\n",
       "      <td>0.0</td>\n",
       "      <td>0.0</td>\n",
       "      <td>0.0</td>\n",
       "      <td>1.0</td>\n",
       "      <td>...</td>\n",
       "      <td>0.0</td>\n",
       "      <td>1.0</td>\n",
       "      <td>0.0</td>\n",
       "      <td>0.0</td>\n",
       "      <td>0.0</td>\n",
       "      <td>0.0</td>\n",
       "      <td>0.0</td>\n",
       "      <td>0.0</td>\n",
       "      <td>0.0</td>\n",
       "      <td>0.0</td>\n",
       "    </tr>\n",
       "    <tr>\n",
       "      <th>3828</th>\n",
       "      <td>0.0</td>\n",
       "      <td>0.0</td>\n",
       "      <td>0.0</td>\n",
       "      <td>0.0</td>\n",
       "      <td>0.0</td>\n",
       "      <td>0.0</td>\n",
       "      <td>0.0</td>\n",
       "      <td>0.0</td>\n",
       "      <td>0.0</td>\n",
       "      <td>0.0</td>\n",
       "      <td>...</td>\n",
       "      <td>0.0</td>\n",
       "      <td>0.0</td>\n",
       "      <td>0.0</td>\n",
       "      <td>0.0</td>\n",
       "      <td>0.0</td>\n",
       "      <td>0.0</td>\n",
       "      <td>0.0</td>\n",
       "      <td>0.0</td>\n",
       "      <td>0.0</td>\n",
       "      <td>0.0</td>\n",
       "    </tr>\n",
       "    <tr>\n",
       "      <th>3830</th>\n",
       "      <td>0.0</td>\n",
       "      <td>1.0</td>\n",
       "      <td>0.0</td>\n",
       "      <td>0.0</td>\n",
       "      <td>0.0</td>\n",
       "      <td>0.0</td>\n",
       "      <td>0.0</td>\n",
       "      <td>0.0</td>\n",
       "      <td>0.0</td>\n",
       "      <td>0.0</td>\n",
       "      <td>...</td>\n",
       "      <td>0.0</td>\n",
       "      <td>0.0</td>\n",
       "      <td>0.0</td>\n",
       "      <td>0.0</td>\n",
       "      <td>0.0</td>\n",
       "      <td>0.0</td>\n",
       "      <td>0.0</td>\n",
       "      <td>0.0</td>\n",
       "      <td>0.0</td>\n",
       "      <td>0.0</td>\n",
       "    </tr>\n",
       "  </tbody>\n",
       "</table>\n",
       "<p>2665 rows × 1024 columns</p>\n",
       "</div>\n",
       "      <button class=\"colab-df-convert\" onclick=\"convertToInteractive('df-2e53e7bf-c387-426e-b64c-5e9167311dfa')\"\n",
       "              title=\"Convert this dataframe to an interactive table.\"\n",
       "              style=\"display:none;\">\n",
       "        \n",
       "  <svg xmlns=\"http://www.w3.org/2000/svg\" height=\"24px\"viewBox=\"0 0 24 24\"\n",
       "       width=\"24px\">\n",
       "    <path d=\"M0 0h24v24H0V0z\" fill=\"none\"/>\n",
       "    <path d=\"M18.56 5.44l.94 2.06.94-2.06 2.06-.94-2.06-.94-.94-2.06-.94 2.06-2.06.94zm-11 1L8.5 8.5l.94-2.06 2.06-.94-2.06-.94L8.5 2.5l-.94 2.06-2.06.94zm10 10l.94 2.06.94-2.06 2.06-.94-2.06-.94-.94-2.06-.94 2.06-2.06.94z\"/><path d=\"M17.41 7.96l-1.37-1.37c-.4-.4-.92-.59-1.43-.59-.52 0-1.04.2-1.43.59L10.3 9.45l-7.72 7.72c-.78.78-.78 2.05 0 2.83L4 21.41c.39.39.9.59 1.41.59.51 0 1.02-.2 1.41-.59l7.78-7.78 2.81-2.81c.8-.78.8-2.07 0-2.86zM5.41 20L4 18.59l7.72-7.72 1.47 1.35L5.41 20z\"/>\n",
       "  </svg>\n",
       "      </button>\n",
       "      \n",
       "  <style>\n",
       "    .colab-df-container {\n",
       "      display:flex;\n",
       "      flex-wrap:wrap;\n",
       "      gap: 12px;\n",
       "    }\n",
       "\n",
       "    .colab-df-convert {\n",
       "      background-color: #E8F0FE;\n",
       "      border: none;\n",
       "      border-radius: 50%;\n",
       "      cursor: pointer;\n",
       "      display: none;\n",
       "      fill: #1967D2;\n",
       "      height: 32px;\n",
       "      padding: 0 0 0 0;\n",
       "      width: 32px;\n",
       "    }\n",
       "\n",
       "    .colab-df-convert:hover {\n",
       "      background-color: #E2EBFA;\n",
       "      box-shadow: 0px 1px 2px rgba(60, 64, 67, 0.3), 0px 1px 3px 1px rgba(60, 64, 67, 0.15);\n",
       "      fill: #174EA6;\n",
       "    }\n",
       "\n",
       "    [theme=dark] .colab-df-convert {\n",
       "      background-color: #3B4455;\n",
       "      fill: #D2E3FC;\n",
       "    }\n",
       "\n",
       "    [theme=dark] .colab-df-convert:hover {\n",
       "      background-color: #434B5C;\n",
       "      box-shadow: 0px 1px 3px 1px rgba(0, 0, 0, 0.15);\n",
       "      filter: drop-shadow(0px 1px 2px rgba(0, 0, 0, 0.3));\n",
       "      fill: #FFFFFF;\n",
       "    }\n",
       "  </style>\n",
       "\n",
       "      <script>\n",
       "        const buttonEl =\n",
       "          document.querySelector('#df-2e53e7bf-c387-426e-b64c-5e9167311dfa button.colab-df-convert');\n",
       "        buttonEl.style.display =\n",
       "          google.colab.kernel.accessAllowed ? 'block' : 'none';\n",
       "\n",
       "        async function convertToInteractive(key) {\n",
       "          const element = document.querySelector('#df-2e53e7bf-c387-426e-b64c-5e9167311dfa');\n",
       "          const dataTable =\n",
       "            await google.colab.kernel.invokeFunction('convertToInteractive',\n",
       "                                                     [key], {});\n",
       "          if (!dataTable) return;\n",
       "\n",
       "          const docLinkHtml = 'Like what you see? Visit the ' +\n",
       "            '<a target=\"_blank\" href=https://colab.research.google.com/notebooks/data_table.ipynb>data table notebook</a>'\n",
       "            + ' to learn more about interactive tables.';\n",
       "          element.innerHTML = '';\n",
       "          dataTable['output_type'] = 'display_data';\n",
       "          await google.colab.output.renderOutput(dataTable, element);\n",
       "          const docLink = document.createElement('div');\n",
       "          docLink.innerHTML = docLinkHtml;\n",
       "          element.appendChild(docLink);\n",
       "        }\n",
       "      </script>\n",
       "    </div>\n",
       "  </div>\n",
       "  "
      ],
      "text/plain": [
       "      Descriptor_MorganFP_0  Descriptor_MorganFP_1  Descriptor_MorganFP_2  \\\n",
       "0                       0.0                    1.0                    0.0   \n",
       "3                       0.0                    0.0                    0.0   \n",
       "4                       0.0                    0.0                    0.0   \n",
       "5                       0.0                    0.0                    0.0   \n",
       "6                       0.0                    1.0                    0.0   \n",
       "...                     ...                    ...                    ...   \n",
       "3824                    0.0                    1.0                    0.0   \n",
       "3826                    0.0                    1.0                    0.0   \n",
       "3827                    0.0                    1.0                    0.0   \n",
       "3828                    0.0                    0.0                    0.0   \n",
       "3830                    0.0                    1.0                    0.0   \n",
       "\n",
       "      Descriptor_MorganFP_3  Descriptor_MorganFP_4  Descriptor_MorganFP_5  \\\n",
       "0                       0.0                    0.0                    1.0   \n",
       "3                       0.0                    0.0                    0.0   \n",
       "4                       0.0                    0.0                    1.0   \n",
       "5                       0.0                    0.0                    0.0   \n",
       "6                       0.0                    1.0                    0.0   \n",
       "...                     ...                    ...                    ...   \n",
       "3824                    0.0                    0.0                    0.0   \n",
       "3826                    0.0                    0.0                    0.0   \n",
       "3827                    0.0                    0.0                    0.0   \n",
       "3828                    0.0                    0.0                    0.0   \n",
       "3830                    0.0                    0.0                    0.0   \n",
       "\n",
       "      Descriptor_MorganFP_6  Descriptor_MorganFP_7  Descriptor_MorganFP_8  \\\n",
       "0                       0.0                    0.0                    0.0   \n",
       "3                       0.0                    0.0                    0.0   \n",
       "4                       0.0                    0.0                    0.0   \n",
       "5                       0.0                    0.0                    0.0   \n",
       "6                       0.0                    0.0                    0.0   \n",
       "...                     ...                    ...                    ...   \n",
       "3824                    0.0                    0.0                    0.0   \n",
       "3826                    0.0                    0.0                    0.0   \n",
       "3827                    0.0                    0.0                    0.0   \n",
       "3828                    0.0                    0.0                    0.0   \n",
       "3830                    0.0                    0.0                    0.0   \n",
       "\n",
       "      Descriptor_MorganFP_9  ...  Descriptor_MorganFP_1014  \\\n",
       "0                       0.0  ...                       0.0   \n",
       "3                       0.0  ...                       0.0   \n",
       "4                       0.0  ...                       0.0   \n",
       "5                       0.0  ...                       0.0   \n",
       "6                       1.0  ...                       0.0   \n",
       "...                     ...  ...                       ...   \n",
       "3824                    1.0  ...                       0.0   \n",
       "3826                    0.0  ...                       0.0   \n",
       "3827                    1.0  ...                       0.0   \n",
       "3828                    0.0  ...                       0.0   \n",
       "3830                    0.0  ...                       0.0   \n",
       "\n",
       "      Descriptor_MorganFP_1015  Descriptor_MorganFP_1016  \\\n",
       "0                          0.0                       0.0   \n",
       "3                          0.0                       0.0   \n",
       "4                          0.0                       0.0   \n",
       "5                          0.0                       0.0   \n",
       "6                          0.0                       0.0   \n",
       "...                        ...                       ...   \n",
       "3824                       0.0                       0.0   \n",
       "3826                       0.0                       0.0   \n",
       "3827                       1.0                       0.0   \n",
       "3828                       0.0                       0.0   \n",
       "3830                       0.0                       0.0   \n",
       "\n",
       "      Descriptor_MorganFP_1017  Descriptor_MorganFP_1018  \\\n",
       "0                          0.0                       0.0   \n",
       "3                          0.0                       0.0   \n",
       "4                          0.0                       0.0   \n",
       "5                          0.0                       0.0   \n",
       "6                          0.0                       0.0   \n",
       "...                        ...                       ...   \n",
       "3824                       0.0                       0.0   \n",
       "3826                       0.0                       0.0   \n",
       "3827                       0.0                       0.0   \n",
       "3828                       0.0                       0.0   \n",
       "3830                       0.0                       0.0   \n",
       "\n",
       "      Descriptor_MorganFP_1019  Descriptor_MorganFP_1020  \\\n",
       "0                          1.0                       0.0   \n",
       "3                          1.0                       0.0   \n",
       "4                          1.0                       0.0   \n",
       "5                          0.0                       0.0   \n",
       "6                          1.0                       0.0   \n",
       "...                        ...                       ...   \n",
       "3824                       1.0                       0.0   \n",
       "3826                       1.0                       0.0   \n",
       "3827                       0.0                       0.0   \n",
       "3828                       0.0                       0.0   \n",
       "3830                       0.0                       0.0   \n",
       "\n",
       "      Descriptor_MorganFP_1021  Descriptor_MorganFP_1022  \\\n",
       "0                          0.0                       0.0   \n",
       "3                          0.0                       0.0   \n",
       "4                          0.0                       0.0   \n",
       "5                          0.0                       0.0   \n",
       "6                          0.0                       0.0   \n",
       "...                        ...                       ...   \n",
       "3824                       0.0                       0.0   \n",
       "3826                       0.0                       0.0   \n",
       "3827                       0.0                       0.0   \n",
       "3828                       0.0                       0.0   \n",
       "3830                       0.0                       0.0   \n",
       "\n",
       "      Descriptor_MorganFP_1023  \n",
       "0                          0.0  \n",
       "3                          0.0  \n",
       "4                          0.0  \n",
       "5                          0.0  \n",
       "6                          0.0  \n",
       "...                        ...  \n",
       "3824                       0.0  \n",
       "3826                       0.0  \n",
       "3827                       0.0  \n",
       "3828                       0.0  \n",
       "3830                       0.0  \n",
       "\n",
       "[2665 rows x 1024 columns]"
      ]
     },
     "execution_count": 23,
     "metadata": {},
     "output_type": "execute_result"
    }
   ],
   "source": [
    "X = df_train[df_train.columns[df_train.columns.str.startswith(\"Descriptor_\")]]\n",
    "X"
   ]
  },
  {
   "cell_type": "markdown",
   "id": "ed223983-633b-46dd-b06b-b28fb8778979",
   "metadata": {
    "id": "ed223983-633b-46dd-b06b-b28fb8778979"
   },
   "source": [
    "The classification is just the `ActivityClass` column:"
   ]
  },
  {
   "cell_type": "code",
   "execution_count": null,
   "id": "84db65cc-fe48-407a-810e-f1e227fc5952",
   "metadata": {
    "colab": {
     "base_uri": "https://localhost:8080/"
    },
    "id": "84db65cc-fe48-407a-810e-f1e227fc5952",
    "outputId": "4e89b07b-067f-4351-cf5a-c5fedab630a4"
   },
   "outputs": [
    {
     "data": {
      "text/plain": [
       "0       False\n",
       "3       False\n",
       "4        True\n",
       "5       False\n",
       "6       False\n",
       "        ...  \n",
       "3824    False\n",
       "3826     True\n",
       "3827     True\n",
       "3828     True\n",
       "3830     True\n",
       "Name: ActivityClass, Length: 2665, dtype: bool"
      ]
     },
     "execution_count": 24,
     "metadata": {},
     "output_type": "execute_result"
    }
   ],
   "source": [
    "y = df_train.ActivityClass\n",
    "y"
   ]
  },
  {
   "cell_type": "markdown",
   "id": "bb640a16-b04a-45be-9681-7a437a7b6574",
   "metadata": {
    "id": "bb640a16-b04a-45be-9681-7a437a7b6574"
   },
   "source": [
    "Finally, we can train our classifier. That alone is usually a lengthy process of trial and error during which you may want to tune the kind of machine learning algorithms you want to use and their hyper-parameters (i.e. `n_estimators` for the `ExtraTreesClassifier` algorithm we will be using). However, you may also want to explore different validation strategies as well as data balancing methods as hinted at previously. To make this tutorial as simple as possible, we will just opt for a simple n-fold cross-validation approach. \n",
    "\n",
    "First, let us define our model:"
   ]
  },
  {
   "cell_type": "code",
   "execution_count": null,
   "id": "0da8bcc6-6681-4564-b90c-d6eeecb936d4",
   "metadata": {
    "id": "0da8bcc6-6681-4564-b90c-d6eeecb936d4"
   },
   "outputs": [],
   "source": [
    "from sklearn.ensemble import ExtraTreesClassifier\n",
    "\n",
    "classifier = ExtraTreesClassifier(n_estimators=250)"
   ]
  },
  {
   "cell_type": "markdown",
   "id": "7210c2f4-4126-466f-831e-92d231a355d4",
   "metadata": {
    "id": "7210c2f4-4126-466f-831e-92d231a355d4"
   },
   "source": [
    "We will fix the parameters of this models for simplicity and dive right into [cross-validation](https://en.wikipedia.org/wiki/Cross-validation_(statistics)). Under this scheme, the model is trained multiple times and its performance validated n times:\n",
    "\n",
    "![CV](https://upload.wikimedia.org/wikipedia/commons/1/1c/K-fold_cross_validation_EN.jpg)\n",
    "\n",
    "Picture Credit: [WikiMedia Commons](https://commons.wikimedia.org/wiki/File:K-fold_cross_validation_EN.svg), Gufosowa\n",
    "\n",
    "The purpose of this exercise is to give us a good idea of the algorithm's ability to learn the QSAR patterns in the data and to accurately predict the `ActivityClass` for unseen data points. It is a common strategy to compare multiple models or the same model with different hyper-parameters. The [`scikit-learn`](https://scikit-learn.org/stable/modules/cross_validation.html) documentation provides and excellent example that allows us to just plugin our classifier into the workflow:"
   ]
  },
  {
   "cell_type": "code",
   "execution_count": null,
   "id": "5c71c67f-8dec-4f32-9fb0-70d564bdb7f0",
   "metadata": {
    "colab": {
     "base_uri": "https://localhost:8080/",
     "height": 295
    },
    "id": "5c71c67f-8dec-4f32-9fb0-70d564bdb7f0",
    "outputId": "0ed33f85-f5c9-44be-cf39-94c6cf9aca4f"
   },
   "outputs": [
    {
     "data": {
      "image/png": "[encoded data removed]",
      "text/plain": [
       "<Figure size 432x288 with 1 Axes>"
      ]
     },
     "metadata": {
      "needs_background": "light"
     },
     "output_type": "display_data"
    }
   ],
   "source": [
    "# adapted from https://scikit-learn.org/stable/modules/cross_validation.html\n",
    "\n",
    "import matplotlib.pyplot as plt\n",
    "import numpy as np\n",
    "\n",
    "from sklearn.ensemble import ExtraTreesClassifier\n",
    "from sklearn.metrics import auc\n",
    "from sklearn.metrics import RocCurveDisplay\n",
    "from sklearn.model_selection import StratifiedKFold\n",
    "\n",
    "# Run classifier with cross-validation and plot ROC curves\n",
    "cv = StratifiedKFold(n_splits=5)\n",
    "\n",
    "tprs = []\n",
    "aucs = []\n",
    "mean_fpr = np.linspace(0, 1, 100)\n",
    "\n",
    "fig, ax = plt.subplots()\n",
    "for i, (train, test) in enumerate(cv.split(X, y)):\n",
    "    classifier.fit(X.iloc[train], y.iloc[train])\n",
    "    viz = RocCurveDisplay.from_estimator(\n",
    "        classifier,\n",
    "        X.iloc[test],\n",
    "        y.iloc[test],\n",
    "        name=\"ROC fold {}\".format(i),\n",
    "        alpha=0.3,\n",
    "        lw=1,\n",
    "        ax=ax,\n",
    "    )\n",
    "    interp_tpr = np.interp(mean_fpr, viz.fpr, viz.tpr)\n",
    "    interp_tpr[0] = 0.0\n",
    "    tprs.append(interp_tpr)\n",
    "    aucs.append(viz.roc_auc)\n",
    "\n",
    "ax.plot([0, 1], [0, 1], linestyle=\"--\", lw=2, color=\"r\", label=\"Chance\", alpha=0.8)\n",
    "\n",
    "mean_tpr = np.mean(tprs, axis=0)\n",
    "mean_tpr[-1] = 1.0\n",
    "mean_auc = auc(mean_fpr, mean_tpr)\n",
    "std_auc = np.std(aucs)\n",
    "ax.plot(\n",
    "    mean_fpr,\n",
    "    mean_tpr,\n",
    "    color=\"b\",\n",
    "    label=r\"Mean ROC (AUC = %0.2f $\\pm$ %0.2f)\" % (mean_auc, std_auc),\n",
    "    lw=2,\n",
    "    alpha=0.8,\n",
    ")\n",
    "\n",
    "std_tpr = np.std(tprs, axis=0)\n",
    "tprs_upper = np.minimum(mean_tpr + std_tpr, 1)\n",
    "tprs_lower = np.maximum(mean_tpr - std_tpr, 0)\n",
    "ax.fill_between(\n",
    "    mean_fpr,\n",
    "    tprs_lower,\n",
    "    tprs_upper,\n",
    "    color=\"grey\",\n",
    "    alpha=0.2,\n",
    "    label=r\"$\\pm$ 1 std. dev.\",\n",
    ")\n",
    "\n",
    "ax.set(\n",
    "    xlim=[-0.05, 1.05],\n",
    "    ylim=[-0.05, 1.05],\n",
    "    title=\"Receiver Operating Characteristic\",\n",
    ")\n",
    "ax.legend(loc=\"lower right\")\n",
    "plt.show()"
   ]
  },
  {
   "cell_type": "markdown",
   "id": "fb20b06d-2069-4764-b48e-b19c67dd0463",
   "metadata": {
    "id": "fb20b06d-2069-4764-b48e-b19c67dd0463"
   },
   "source": [
    "Good news! Our model on average performed much better than random (red dashed line) and it was also stable across folds (small variation from the mean ROC in blue). Therefore, we can now be confident that this model could also perform well on our test data. All we have to do is find out at this point.\n",
    "\n",
    "## Validation on the Test Set\n",
    "\n",
    "Finally, it is time to use our test set and find out how predictive our model really is. First, we train the model on the entire training set:"
   ]
  },
  {
   "cell_type": "code",
   "execution_count": null,
   "id": "f0ccfce3-00b5-46ed-bc6b-898efb1b108e",
   "metadata": {
    "id": "f0ccfce3-00b5-46ed-bc6b-898efb1b108e"
   },
   "outputs": [],
   "source": [
    "model = classifier.fit(X, y)"
   ]
  },
  {
   "cell_type": "markdown",
   "id": "156f8a11-e7b3-4f60-ad87-d32d8c873c23",
   "metadata": {
    "id": "156f8a11-e7b3-4f60-ad87-d32d8c873c23"
   },
   "source": [
    "and then we make the predictions for our test data:"
   ]
  },
  {
   "cell_type": "code",
   "execution_count": null,
   "id": "2e3ef2cb-681a-4ccd-a41f-fddb8d37941d",
   "metadata": {
    "colab": {
     "base_uri": "https://localhost:8080/"
    },
    "id": "2e3ef2cb-681a-4ccd-a41f-fddb8d37941d",
    "outputId": "674ce9bd-66ac-415b-e59e-4bb8f04691e7"
   },
   "outputs": [
    {
     "data": {
      "text/plain": [
       "array([ True,  True,  True,  True,  True,  True,  True,  True, False,\n",
       "       False])"
      ]
     },
     "execution_count": 28,
     "metadata": {},
     "output_type": "execute_result"
    }
   ],
   "source": [
    "X_test = df_test[df_test.columns[df_test.columns.str.startswith(\"Descriptor_\")]]\n",
    "\n",
    "predictions = classifier.predict(X_test)\n",
    "predictions[0:10]"
   ]
  },
  {
   "cell_type": "markdown",
   "id": "5166ffa5-ef90-449e-b085-1756ecae2ddd",
   "metadata": {
    "id": "5166ffa5-ef90-449e-b085-1756ecae2ddd"
   },
   "source": [
    "This gives us directly the labels the model thinks our test data should have, but we can also get a more fine-grained idea by extracting the probabilites as well:"
   ]
  },
  {
   "cell_type": "code",
   "execution_count": null,
   "id": "f255aa23-3c6b-45d4-abfd-ffd7dcb6a7a5",
   "metadata": {
    "colab": {
     "base_uri": "https://localhost:8080/"
    },
    "id": "f255aa23-3c6b-45d4-abfd-ffd7dcb6a7a5",
    "outputId": "1d3c90ee-45b1-4684-8a8e-0d48ad3c6d9f"
   },
   "outputs": [
    {
     "data": {
      "text/plain": [
       "array([0.916, 0.952, 0.628, 0.916, 0.72 , 0.506, 0.644, 0.852, 0.457,\n",
       "       0.124])"
      ]
     },
     "execution_count": 29,
     "metadata": {},
     "output_type": "execute_result"
    }
   ],
   "source": [
    "predictions_proba = classifier.predict_proba(X_test)[::,1]\n",
    "predictions_proba[0:10]"
   ]
  },
  {
   "cell_type": "markdown",
   "id": "d89c1351-e5a7-494d-8bb7-c2a5be6cb5f4",
   "metadata": {
    "id": "d89c1351-e5a7-494d-8bb7-c2a5be6cb5f4"
   },
   "source": [
    "These are numbers between 0 and 1 that indicate how the model is confident about the compound being active, large values mean the model is fairly confident about the compound being an A2A receptor binder. \n",
    "\n",
    "Finally, we compare these predictions with the true values from the test set:"
   ]
  },
  {
   "cell_type": "code",
   "execution_count": null,
   "id": "a644444d-a214-4ea0-9381-345d5f744415",
   "metadata": {
    "colab": {
     "base_uri": "https://localhost:8080/"
    },
    "id": "a644444d-a214-4ea0-9381-345d5f744415",
    "outputId": "fad40c4e-14c4-4e39-d634-79482ae18051"
   },
   "outputs": [
    {
     "data": {
      "text/plain": [
       "1        True\n",
       "2        True\n",
       "10       True\n",
       "11       True\n",
       "12      False\n",
       "        ...  \n",
       "3814    False\n",
       "3821     True\n",
       "3823     True\n",
       "3825     True\n",
       "3829    False\n",
       "Name: ActivityClass, Length: 1166, dtype: bool"
      ]
     },
     "execution_count": 30,
     "metadata": {},
     "output_type": "execute_result"
    }
   ],
   "source": [
    "y_test = df_test.ActivityClass\n",
    "y_test"
   ]
  },
  {
   "cell_type": "markdown",
   "id": "51b80ca0-f3fa-48da-855b-c3c2729db653",
   "metadata": {
    "id": "51b80ca0-f3fa-48da-855b-c3c2729db653"
   },
   "source": [
    "The probabilities effectively give us a ranking of the compounds from the most likely actives to the least likely and we can use them to draw an ROC curve like we saw during cross-validation:"
   ]
  },
  {
   "cell_type": "code",
   "execution_count": null,
   "id": "5799380a-908c-45de-b41e-f8d4a7662aac",
   "metadata": {
    "colab": {
     "base_uri": "https://localhost:8080/",
     "height": 279
    },
    "id": "5799380a-908c-45de-b41e-f8d4a7662aac",
    "outputId": "8fd3fae8-24ec-48df-c76a-f4697e98afa2"
   },
   "outputs": [
    {
     "data": {
      "image/png": "[encoded data removed]",
      "text/plain": [
       "<Figure size 432x288 with 1 Axes>"
      ]
     },
     "metadata": {
      "needs_background": "light"
     },
     "output_type": "display_data"
    }
   ],
   "source": [
    "from sklearn.metrics import roc_curve, roc_auc_score\n",
    "\n",
    "fpr, tpr, _ = roc_curve(y_test,  predictions_proba)\n",
    "auc = roc_auc_score(y_test, predictions_proba)\n",
    "\n",
    "plt.plot(fpr,tpr, label=f\"AUC={auc:2.2}\")\n",
    "plt.plot([0, 1], [0, 1], linestyle=\"--\", lw=2, color=\"r\", label=\"Chance\", alpha=0.8)\n",
    "plt.ylabel('True Positive Rate')\n",
    "plt.xlabel('False Positive Rate')\n",
    "plt.legend(loc=4)\n",
    "plt.show()"
   ]
  },
  {
   "cell_type": "markdown",
   "id": "67420cd2-714f-4187-926c-6fe5521b3eec",
   "metadata": {
    "id": "67420cd2-714f-4187-926c-6fe5521b3eec"
   },
   "source": [
    "Clearly, our model has difficulties in this data set and even though the AUC is reasonably high, the compounds ranked the highest (left part of the curve) are not always the actives. This is very common to see in virtual screening. The highest ranking compounds are not always the active ones, but we can still see the model gives us significant enrichment when compared with a random model that would draw compounds by chance (red line).\n",
    "\n",
    "We can calculate many classification metrics this way and evaluate various aspects of our model. For example, we can directly use the predictions to calculate Matthew's correlation coefficient that gives us a balanced score of how the classifier can label the data: "
   ]
  },
  {
   "cell_type": "code",
   "execution_count": null,
   "id": "4b51a8c0-b302-4d35-ac39-71f67b3bb584",
   "metadata": {
    "colab": {
     "base_uri": "https://localhost:8080/"
    },
    "id": "4b51a8c0-b302-4d35-ac39-71f67b3bb584",
    "outputId": "d41613d7-ac41-434e-b51a-e65ce6a23022"
   },
   "outputs": [
    {
     "data": {
      "text/plain": [
       "0.5412927669246084"
      ]
     },
     "execution_count": 32,
     "metadata": {},
     "output_type": "execute_result"
    }
   ],
   "source": [
    "from sklearn.metrics import matthews_corrcoef\n",
    "\n",
    "matthews_corrcoef(y_test, predictions)"
   ]
  },
  {
   "cell_type": "markdown",
   "id": "0b41a2f6-1349-4578-b9a1-2c1b7e87357c",
   "metadata": {
    "id": "0b41a2f6-1349-4578-b9a1-2c1b7e87357c"
   },
   "source": [
    "The best score the model could obtain is 1 so even though this is not ideal, it is still not bad because the value of 0 would be a random model here. With this, let's deem our model fit for use in future endeavors and train the final version on the whole data set:"
   ]
  },
  {
   "cell_type": "code",
   "execution_count": null,
   "id": "de1ba263-b4da-4034-8bb4-09e7ad736450",
   "metadata": {
    "id": "de1ba263-b4da-4034-8bb4-09e7ad736450"
   },
   "outputs": [],
   "source": [
    "X = dataset.getDescriptors()\n",
    "y = dataset.getSubset(('ActivityClass',)).iloc[::,0]"
   ]
  },
  {
   "cell_type": "code",
   "execution_count": null,
   "id": "ee45b055-3e29-435a-a8e8-17517bb032ba",
   "metadata": {
    "colab": {
     "base_uri": "https://localhost:8080/"
    },
    "id": "ee45b055-3e29-435a-a8e8-17517bb032ba",
    "outputId": "3700435c-3dba-40b3-c6b6-526ee813a395"
   },
   "outputs": [
    {
     "data": {
      "text/plain": [
       "ExtraTreesClassifier(n_estimators=250)"
      ]
     },
     "execution_count": 34,
     "metadata": {},
     "output_type": "execute_result"
    }
   ],
   "source": [
    "classifier.fit(X, y)\n",
    "classifier"
   ]
  },
  {
   "cell_type": "markdown",
   "id": "26566e43-4214-4725-95c1-f19d0b5bf432",
   "metadata": {
    "id": "26566e43-4214-4725-95c1-f19d0b5bf432"
   },
   "source": [
    "This is our final model so we might want to save it for future use:"
   ]
  },
  {
   "cell_type": "code",
   "execution_count": null,
   "id": "b8d2f56f-374c-4d8e-be98-abf90ef7af0c",
   "metadata": {
    "colab": {
     "base_uri": "https://localhost:8080/"
    },
    "id": "b8d2f56f-374c-4d8e-be98-abf90ef7af0c",
    "outputId": "dfa12ac0-a674-44dd-f345-3fda7b94ee65"
   },
   "outputs": [
    {
     "data": {
      "text/plain": [
       "['data/qsar/models/BACE_CLS_ET_250.pickle']"
      ]
     },
     "execution_count": 36,
     "metadata": {},
     "output_type": "execute_result"
    }
   ],
   "source": [
    "import joblib\n",
    "import os\n",
    "\n",
    "data_dir = 'data/qsar/models/'\n",
    "data_file = os.path.join(data_dir, 'BACE_CLS_ET_250.pickle')\n",
    "os.makedirs(data_dir, exist_ok=True)\n",
    "joblib.dump(classifier, data_file)"
   ]
  },
  {
   "cell_type": "markdown",
   "id": "ec1555f3-cb56-4180-bb31-3a2d2c68e18a",
   "metadata": {
    "id": "ec1555f3-cb56-4180-bb31-3a2d2c68e18a"
   },
   "source": [
    "This means we can easily load it whenever we need it in this tutorial, which will come right in the [next section](de_novo.ipynb):"
   ]
  },
  {
   "cell_type": "code",
   "execution_count": null,
   "id": "8b4d5c93-58c7-4af7-b3fa-f93d2a7f7a32",
   "metadata": {
    "colab": {
     "base_uri": "https://localhost:8080/"
    },
    "id": "8b4d5c93-58c7-4af7-b3fa-f93d2a7f7a32",
    "outputId": "1c5bccf6-b5dd-4d7e-df79-38480db565d5"
   },
   "outputs": [
    {
     "data": {
      "text/plain": [
       "ExtraTreesClassifier(n_estimators=250)"
      ]
     },
     "execution_count": 37,
     "metadata": {},
     "output_type": "execute_result"
    }
   ],
   "source": [
    "model = joblib.load(data_file)\n",
    "model"
   ]
  },
  {
   "cell_type": "code",
   "execution_count": null,
   "id": "e99488e1-9f96-4d02-a51a-351bdc6a97e4",
   "metadata": {
    "id": "e99488e1-9f96-4d02-a51a-351bdc6a97e4"
   },
   "outputs": [],
   "source": []
  }
 ],
 "metadata": {
  "accelerator": "GPU",
  "colab": {
   "provenance": []
  },
  "kernelspec": {
   "display_name": "Python 3 (ipykernel)",
   "language": "python",
   "name": "python3"
  },
  "language_info": {
   "codemirror_mode": {
    "name": "ipython",
    "version": 3
   },
   "file_extension": ".py",
   "mimetype": "text/x-python",
   "name": "python",
   "nbconvert_exporter": "python",
   "pygments_lexer": "ipython3",
   "version": "3.9.13"
  }
 },
 "nbformat": 4,
 "nbformat_minor": 5
}
