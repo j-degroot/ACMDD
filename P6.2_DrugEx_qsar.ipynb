{
  "cells": [
    {
      "cell_type": "markdown",
      "id": "1b16adb8-129f-45c7-8cc1-68326e077258",
      "metadata": {
        "id": "1b16adb8-129f-45c7-8cc1-68326e077258"
      },
      "source": [
        "# QSAR Modelling of BACE1 Ligands\n",
        "\n",
        "The goal of this tutorial will be to develop a machine learning model that can capture the Quantitative Structre-Activity Relationships (QSARs) from the data set we extracted from Papyrus [previously](./data_prep.ipynb). This time we will need a little more control than the `scaffviz` package would allow so we load the data file directly into `pandas.DataFrame`:"
      ]
    },
    {
      "cell_type": "code",
      "source": [
        "# mount google drive\n",
        "from google.colab import drive\n",
        "drive.mount('/content/drive')\n",
        "\n",
        "# define work directory to store data\n",
        "DATA_ROOT = '/content/drive/MyDrive/DrugExDemo/' # or wherever you want the generated files to live on your GoogleDrive\n",
        "import os\n",
        "os.makedirs(DATA_ROOT, exist_ok=True)\n",
        "os.chdir(DATA_ROOT) \n",
        "\n",
        "# fetch pretrained model\n",
        "os.makedirs(\"./data/drugex/models/pretrained/\", exist_ok=True)\n",
        "! wget -nc -P './data/drugex/models/pretrained/' 'https://zenodo.org/record/7096859/files/DrugEx_v2_PT_Papyrus05.5.zip'\n",
        "! unzip -n './data/drugex/models/pretrained/DrugEx_v2_PT_Papyrus05.5.zip' -d './data/drugex/models/pretrained/DrugEx_v2_PT_Papyrus05.5'\n",
        "\n",
        "# install dependencies\n",
        "! git clone https://github.com/martin-sicho/drugex-demo\n",
        "! pip install -r drugex-demo/requirements.txt\n",
        "\n",
        "# verify where we are working\n",
        "os.getcwd()"
      ],
      "metadata": {
        "id": "kfCMWvMBcWOn",
        "outputId": "bc9fae8e-8955-4f92-f15f-cdd399941968",
        "colab": {
          "base_uri": "https://localhost:8080/",
          "height": 1000
        }
      },
      "id": "kfCMWvMBcWOn",
      "execution_count": 1,
      "outputs": [
        {
          "output_type": "stream",
          "name": "stdout",
          "text": [
            "Drive already mounted at /content/drive; to attempt to forcibly remount, call drive.mount(\"/content/drive\", force_remount=True).\n",
            "File ‘./data/drugex/models/pretrained/DrugEx_v2_PT_Papyrus05.5.zip’ already there; not retrieving.\n",
            "\n",
            "Archive:  ./data/drugex/models/pretrained/DrugEx_v2_PT_Papyrus05.5.zip\n",
            "fatal: destination path 'drugex-demo' already exists and is not an empty directory.\n",
            "Looking in indexes: https://pypi.org/simple, https://us-python.pkg.dev/colab-wheels/public/simple/\n",
            "Collecting drugex@ git+https://github.com/martin-sicho/DrugEx-CDDG.git@master\n",
            "  Cloning https://github.com/martin-sicho/DrugEx-CDDG.git (to revision master) to /tmp/pip-install-hriheou5/drugex_6c4f366715fa40dd9f4dff25aeb40c70\n",
            "  Running command git clone -q https://github.com/martin-sicho/DrugEx-CDDG.git /tmp/pip-install-hriheou5/drugex_6c4f366715fa40dd9f4dff25aeb40c70\n",
            "Collecting papyrus-scaffold-visualizer@ git+https://github.com/martin-sicho/papyrus-scaffold-visualizer.git@v0.2.0\n",
            "  Cloning https://github.com/martin-sicho/papyrus-scaffold-visualizer.git (to revision v0.2.0) to /tmp/pip-install-hriheou5/papyrus-scaffold-visualizer_e68b01074e8942e3a368e864534fd8b3\n",
            "  Running command git clone -q https://github.com/martin-sicho/papyrus-scaffold-visualizer.git /tmp/pip-install-hriheou5/papyrus-scaffold-visualizer_e68b01074e8942e3a368e864534fd8b3\n",
            "  Running command git checkout -q ff4f2e885a3973f90a0d9864dfa00abed493f78d\n",
            "Requirement already satisfied: molplotly==1.1.4 in /usr/local/lib/python3.7/dist-packages (from -r drugex-demo/requirements.txt (line 2)) (1.1.4)\n",
            "Requirement already satisfied: mols2grid==1.0.0 in /usr/local/lib/python3.7/dist-packages (from -r drugex-demo/requirements.txt (line 3)) (1.0.0)\n",
            "Requirement already satisfied: numpy>=1.19 in /usr/local/lib/python3.7/dist-packages (from drugex@ git+https://github.com/martin-sicho/DrugEx-CDDG.git@master->-r drugex-demo/requirements.txt (line 1)) (1.21.6)\n",
            "Requirement already satisfied: scikit-learn>=1.0.2 in /usr/local/lib/python3.7/dist-packages (from drugex@ git+https://github.com/martin-sicho/DrugEx-CDDG.git@master->-r drugex-demo/requirements.txt (line 1)) (1.0.2)\n",
            "Requirement already satisfied: pandas>=1.2.2 in /usr/local/lib/python3.7/dist-packages (from drugex@ git+https://github.com/martin-sicho/DrugEx-CDDG.git@master->-r drugex-demo/requirements.txt (line 1)) (1.3.5)\n",
            "Requirement already satisfied: torch>=1.7.0 in /usr/local/lib/python3.7/dist-packages (from drugex@ git+https://github.com/martin-sicho/DrugEx-CDDG.git@master->-r drugex-demo/requirements.txt (line 1)) (1.12.1+cu113)\n",
            "Requirement already satisfied: matplotlib>=2.0 in /usr/local/lib/python3.7/dist-packages (from drugex@ git+https://github.com/martin-sicho/DrugEx-CDDG.git@master->-r drugex-demo/requirements.txt (line 1)) (3.2.2)\n",
            "Requirement already satisfied: tqdm in /usr/local/lib/python3.7/dist-packages (from drugex@ git+https://github.com/martin-sicho/DrugEx-CDDG.git@master->-r drugex-demo/requirements.txt (line 1)) (4.64.1)\n",
            "Requirement already satisfied: rdkit-pypi in /usr/local/lib/python3.7/dist-packages (from drugex@ git+https://github.com/martin-sicho/DrugEx-CDDG.git@master->-r drugex-demo/requirements.txt (line 1)) (2022.9.1)\n",
            "Requirement already satisfied: joblib in /usr/local/lib/python3.7/dist-packages (from drugex@ git+https://github.com/martin-sicho/DrugEx-CDDG.git@master->-r drugex-demo/requirements.txt (line 1)) (1.2.0)\n",
            "Requirement already satisfied: optuna in /usr/local/lib/python3.7/dist-packages (from drugex@ git+https://github.com/martin-sicho/DrugEx-CDDG.git@master->-r drugex-demo/requirements.txt (line 1)) (3.0.3)\n",
            "Requirement already satisfied: gitpython in /usr/local/lib/python3.7/dist-packages (from drugex@ git+https://github.com/martin-sicho/DrugEx-CDDG.git@master->-r drugex-demo/requirements.txt (line 1)) (3.1.29)\n",
            "Requirement already satisfied: xgboost in /usr/local/lib/python3.7/dist-packages (from drugex@ git+https://github.com/martin-sicho/DrugEx-CDDG.git@master->-r drugex-demo/requirements.txt (line 1)) (0.90)\n",
            "Collecting papyrus_scripts@ git+https://github.com/OlivierBeq/Papyrus-scripts.git@master\n",
            "  Cloning https://github.com/OlivierBeq/Papyrus-scripts.git (to revision master) to /tmp/pip-install-hriheou5/papyrus-scripts_776d72a2cbfb4e5f9458d1d733e3f3f2\n",
            "  Running command git clone -q https://github.com/OlivierBeq/Papyrus-scripts.git /tmp/pip-install-hriheou5/papyrus-scripts_776d72a2cbfb4e5f9458d1d733e3f3f2\n",
            "Requirement already satisfied: sklearn in /usr/local/lib/python3.7/dist-packages (from papyrus-scaffold-visualizer@ git+https://github.com/martin-sicho/papyrus-scaffold-visualizer.git@v0.2.0->-r drugex-demo/requirements.txt (line 4)) (0.0.post1)\n",
            "Collecting prodec@ https://github.com/OlivierBeq/ProDEC/tarball/master\n",
            "  Using cached https://github.com/OlivierBeq/ProDEC/tarball/master\n",
            "  Installing build dependencies ... \u001b[?25l\u001b[?25hdone\n",
            "  Getting requirements to build wheel ... \u001b[?25l\u001b[?25hdone\n",
            "    Preparing wheel metadata ... \u001b[?25l\u001b[?25hdone\n",
            "Collecting upsetplot@ https://github.com/OlivierBeq/UpSetPlot/tarball/master\n",
            "  Using cached https://github.com/OlivierBeq/UpSetPlot/tarball/master\n",
            "Requirement already satisfied: requests in /usr/local/lib/python3.7/dist-packages (from papyrus_scripts@ git+https://github.com/OlivierBeq/Papyrus-scripts.git@master->papyrus-scaffold-visualizer@ git+https://github.com/martin-sicho/papyrus-scaffold-visualizer.git@v0.2.0->-r drugex-demo/requirements.txt (line 4)) (2.23.0)\n",
            "Requirement already satisfied: natsort in /usr/local/lib/python3.7/dist-packages (from papyrus_scripts@ git+https://github.com/OlivierBeq/Papyrus-scripts.git@master->papyrus-scaffold-visualizer@ git+https://github.com/martin-sicho/papyrus-scaffold-visualizer.git@v0.2.0->-r drugex-demo/requirements.txt (line 4)) (5.5.0)\n",
            "Requirement already satisfied: mordred in /usr/local/lib/python3.7/dist-packages (from papyrus_scripts@ git+https://github.com/OlivierBeq/Papyrus-scripts.git@master->papyrus-scaffold-visualizer@ git+https://github.com/martin-sicho/papyrus-scaffold-visualizer.git@v0.2.0->-r drugex-demo/requirements.txt (line 4)) (1.2.0)\n",
            "Requirement already satisfied: swifter in /usr/local/lib/python3.7/dist-packages (from papyrus_scripts@ git+https://github.com/OlivierBeq/Papyrus-scripts.git@master->papyrus-scaffold-visualizer@ git+https://github.com/martin-sicho/papyrus-scaffold-visualizer.git@v0.2.0->-r drugex-demo/requirements.txt (line 4)) (1.3.4)\n",
            "Requirement already satisfied: pystow in /usr/local/lib/python3.7/dist-packages (from papyrus_scripts@ git+https://github.com/OlivierBeq/Papyrus-scripts.git@master->papyrus-scaffold-visualizer@ git+https://github.com/martin-sicho/papyrus-scaffold-visualizer.git@v0.2.0->-r drugex-demo/requirements.txt (line 4)) (0.4.7)\n",
            "Requirement already satisfied: tabulate in /usr/local/lib/python3.7/dist-packages (from papyrus_scripts@ git+https://github.com/OlivierBeq/Papyrus-scripts.git@master->papyrus-scaffold-visualizer@ git+https://github.com/martin-sicho/papyrus-scaffold-visualizer.git@v0.2.0->-r drugex-demo/requirements.txt (line 4)) (0.8.10)\n",
            "Requirement already satisfied: psutil in /usr/local/lib/python3.7/dist-packages (from prodec@ https://github.com/OlivierBeq/ProDEC/tarball/master->papyrus_scripts@ git+https://github.com/OlivierBeq/Papyrus-scripts.git@master->papyrus-scaffold-visualizer@ git+https://github.com/martin-sicho/papyrus-scaffold-visualizer.git@v0.2.0->-r drugex-demo/requirements.txt (line 4)) (5.9.4)\n",
            "Requirement already satisfied: orjson in /usr/local/lib/python3.7/dist-packages (from prodec@ https://github.com/OlivierBeq/ProDEC/tarball/master->papyrus_scripts@ git+https://github.com/OlivierBeq/Papyrus-scripts.git@master->papyrus-scaffold-visualizer@ git+https://github.com/martin-sicho/papyrus-scaffold-visualizer.git@v0.2.0->-r drugex-demo/requirements.txt (line 4)) (3.8.1)\n",
            "Requirement already satisfied: plotly>=5.0.0 in /usr/local/lib/python3.7/dist-packages (from molplotly==1.1.4->-r drugex-demo/requirements.txt (line 2)) (5.5.0)\n",
            "Requirement already satisfied: nbformat in /usr/local/lib/python3.7/dist-packages (from molplotly==1.1.4->-r drugex-demo/requirements.txt (line 2)) (5.7.0)\n",
            "Requirement already satisfied: jupyter-dash>=0.4.2 in /usr/local/lib/python3.7/dist-packages (from molplotly==1.1.4->-r drugex-demo/requirements.txt (line 2)) (0.4.2)\n",
            "Requirement already satisfied: dash>=2.0.0 in /usr/local/lib/python3.7/dist-packages (from molplotly==1.1.4->-r drugex-demo/requirements.txt (line 2)) (2.7.0)\n",
            "Requirement already satisfied: ipykernel in /usr/local/lib/python3.7/dist-packages (from molplotly==1.1.4->-r drugex-demo/requirements.txt (line 2)) (5.3.4)\n",
            "Requirement already satisfied: werkzeug>=2.0.0 in /usr/local/lib/python3.7/dist-packages (from molplotly==1.1.4->-r drugex-demo/requirements.txt (line 2)) (2.2.2)\n",
            "Requirement already satisfied: jinja2>=2.11.0 in /usr/local/lib/python3.7/dist-packages (from mols2grid==1.0.0->-r drugex-demo/requirements.txt (line 3)) (3.0.0)\n",
            "Requirement already satisfied: ipywidgets<8,>=7 in /usr/local/lib/python3.7/dist-packages (from mols2grid==1.0.0->-r drugex-demo/requirements.txt (line 3)) (7.7.1)\n",
            "Requirement already satisfied: dash-table==5.0.0 in /usr/local/lib/python3.7/dist-packages (from dash>=2.0.0->molplotly==1.1.4->-r drugex-demo/requirements.txt (line 2)) (5.0.0)\n",
            "Requirement already satisfied: dash-core-components==2.0.0 in /usr/local/lib/python3.7/dist-packages (from dash>=2.0.0->molplotly==1.1.4->-r drugex-demo/requirements.txt (line 2)) (2.0.0)\n",
            "Requirement already satisfied: Flask>=1.0.4 in /usr/local/lib/python3.7/dist-packages (from dash>=2.0.0->molplotly==1.1.4->-r drugex-demo/requirements.txt (line 2)) (2.2.2)\n",
            "Requirement already satisfied: dash-html-components==2.0.0 in /usr/local/lib/python3.7/dist-packages (from dash>=2.0.0->molplotly==1.1.4->-r drugex-demo/requirements.txt (line 2)) (2.0.0)\n",
            "Requirement already satisfied: itsdangerous>=2.0 in /usr/local/lib/python3.7/dist-packages (from Flask>=1.0.4->dash>=2.0.0->molplotly==1.1.4->-r drugex-demo/requirements.txt (line 2)) (2.1.2)\n",
            "Requirement already satisfied: click>=8.0 in /usr/local/lib/python3.7/dist-packages (from Flask>=1.0.4->dash>=2.0.0->molplotly==1.1.4->-r drugex-demo/requirements.txt (line 2)) (8.1.3)\n",
            "Requirement already satisfied: importlib-metadata>=3.6.0 in /usr/local/lib/python3.7/dist-packages (from Flask>=1.0.4->dash>=2.0.0->molplotly==1.1.4->-r drugex-demo/requirements.txt (line 2)) (4.13.0)\n",
            "Requirement already satisfied: typing-extensions>=3.6.4 in /usr/local/lib/python3.7/dist-packages (from importlib-metadata>=3.6.0->Flask>=1.0.4->dash>=2.0.0->molplotly==1.1.4->-r drugex-demo/requirements.txt (line 2)) (4.1.1)\n",
            "Requirement already satisfied: zipp>=0.5 in /usr/local/lib/python3.7/dist-packages (from importlib-metadata>=3.6.0->Flask>=1.0.4->dash>=2.0.0->molplotly==1.1.4->-r drugex-demo/requirements.txt (line 2)) (3.10.0)\n",
            "Requirement already satisfied: ipython>=4.0.0 in /usr/local/lib/python3.7/dist-packages (from ipywidgets<8,>=7->mols2grid==1.0.0->-r drugex-demo/requirements.txt (line 3)) (7.9.0)\n",
            "Requirement already satisfied: widgetsnbextension~=3.6.0 in /usr/local/lib/python3.7/dist-packages (from ipywidgets<8,>=7->mols2grid==1.0.0->-r drugex-demo/requirements.txt (line 3)) (3.6.1)\n",
            "Requirement already satisfied: traitlets>=4.3.1 in /usr/local/lib/python3.7/dist-packages (from ipywidgets<8,>=7->mols2grid==1.0.0->-r drugex-demo/requirements.txt (line 3)) (5.1.1)\n",
            "Requirement already satisfied: jupyterlab-widgets>=1.0.0 in /usr/local/lib/python3.7/dist-packages (from ipywidgets<8,>=7->mols2grid==1.0.0->-r drugex-demo/requirements.txt (line 3)) (3.0.3)\n",
            "Requirement already satisfied: ipython-genutils~=0.2.0 in /usr/local/lib/python3.7/dist-packages (from ipywidgets<8,>=7->mols2grid==1.0.0->-r drugex-demo/requirements.txt (line 3)) (0.2.0)\n",
            "Requirement already satisfied: tornado>=4.2 in /usr/local/lib/python3.7/dist-packages (from ipykernel->molplotly==1.1.4->-r drugex-demo/requirements.txt (line 2)) (6.0.4)\n",
            "Requirement already satisfied: jupyter-client in /usr/local/lib/python3.7/dist-packages (from ipykernel->molplotly==1.1.4->-r drugex-demo/requirements.txt (line 2)) (6.1.12)\n",
            "Requirement already satisfied: setuptools>=18.5 in /usr/local/lib/python3.7/dist-packages (from ipython>=4.0.0->ipywidgets<8,>=7->mols2grid==1.0.0->-r drugex-demo/requirements.txt (line 3)) (57.4.0)\n",
            "Requirement already satisfied: prompt-toolkit<2.1.0,>=2.0.0 in /usr/local/lib/python3.7/dist-packages (from ipython>=4.0.0->ipywidgets<8,>=7->mols2grid==1.0.0->-r drugex-demo/requirements.txt (line 3)) (2.0.10)\n",
            "Requirement already satisfied: backcall in /usr/local/lib/python3.7/dist-packages (from ipython>=4.0.0->ipywidgets<8,>=7->mols2grid==1.0.0->-r drugex-demo/requirements.txt (line 3)) (0.2.0)\n",
            "Requirement already satisfied: decorator in /usr/local/lib/python3.7/dist-packages (from ipython>=4.0.0->ipywidgets<8,>=7->mols2grid==1.0.0->-r drugex-demo/requirements.txt (line 3)) (4.4.2)\n",
            "Requirement already satisfied: pygments in /usr/local/lib/python3.7/dist-packages (from ipython>=4.0.0->ipywidgets<8,>=7->mols2grid==1.0.0->-r drugex-demo/requirements.txt (line 3)) (2.6.1)\n",
            "Requirement already satisfied: jedi>=0.10 in /usr/local/lib/python3.7/dist-packages (from ipython>=4.0.0->ipywidgets<8,>=7->mols2grid==1.0.0->-r drugex-demo/requirements.txt (line 3)) (0.18.1)\n",
            "Requirement already satisfied: pexpect in /usr/local/lib/python3.7/dist-packages (from ipython>=4.0.0->ipywidgets<8,>=7->mols2grid==1.0.0->-r drugex-demo/requirements.txt (line 3)) (4.8.0)\n",
            "Requirement already satisfied: pickleshare in /usr/local/lib/python3.7/dist-packages (from ipython>=4.0.0->ipywidgets<8,>=7->mols2grid==1.0.0->-r drugex-demo/requirements.txt (line 3)) (0.7.5)\n",
            "Requirement already satisfied: parso<0.9.0,>=0.8.0 in /usr/local/lib/python3.7/dist-packages (from jedi>=0.10->ipython>=4.0.0->ipywidgets<8,>=7->mols2grid==1.0.0->-r drugex-demo/requirements.txt (line 3)) (0.8.3)\n",
            "Requirement already satisfied: MarkupSafe>=2.0.0rc2 in /usr/local/lib/python3.7/dist-packages (from jinja2>=2.11.0->mols2grid==1.0.0->-r drugex-demo/requirements.txt (line 3)) (2.1.1)\n",
            "Requirement already satisfied: retrying in /usr/local/lib/python3.7/dist-packages (from jupyter-dash>=0.4.2->molplotly==1.1.4->-r drugex-demo/requirements.txt (line 2)) (1.3.3)\n",
            "Requirement already satisfied: ansi2html in /usr/local/lib/python3.7/dist-packages (from jupyter-dash>=0.4.2->molplotly==1.1.4->-r drugex-demo/requirements.txt (line 2)) (1.8.0)\n",
            "Requirement already satisfied: nest-asyncio in /usr/local/lib/python3.7/dist-packages (from jupyter-dash>=0.4.2->molplotly==1.1.4->-r drugex-demo/requirements.txt (line 2)) (1.5.6)\n",
            "Requirement already satisfied: cycler>=0.10 in /usr/local/lib/python3.7/dist-packages (from matplotlib>=2.0->drugex@ git+https://github.com/martin-sicho/DrugEx-CDDG.git@master->-r drugex-demo/requirements.txt (line 1)) (0.11.0)\n",
            "Requirement already satisfied: kiwisolver>=1.0.1 in /usr/local/lib/python3.7/dist-packages (from matplotlib>=2.0->drugex@ git+https://github.com/martin-sicho/DrugEx-CDDG.git@master->-r drugex-demo/requirements.txt (line 1)) (1.4.4)\n",
            "Requirement already satisfied: pyparsing!=2.0.4,!=2.1.2,!=2.1.6,>=2.0.1 in /usr/local/lib/python3.7/dist-packages (from matplotlib>=2.0->drugex@ git+https://github.com/martin-sicho/DrugEx-CDDG.git@master->-r drugex-demo/requirements.txt (line 1)) (3.0.9)\n",
            "Requirement already satisfied: python-dateutil>=2.1 in /usr/local/lib/python3.7/dist-packages (from matplotlib>=2.0->drugex@ git+https://github.com/martin-sicho/DrugEx-CDDG.git@master->-r drugex-demo/requirements.txt (line 1)) (2.8.2)\n",
            "Requirement already satisfied: pytz>=2017.3 in /usr/local/lib/python3.7/dist-packages (from pandas>=1.2.2->drugex@ git+https://github.com/martin-sicho/DrugEx-CDDG.git@master->-r drugex-demo/requirements.txt (line 1)) (2022.6)\n",
            "Requirement already satisfied: six in /usr/local/lib/python3.7/dist-packages (from plotly>=5.0.0->molplotly==1.1.4->-r drugex-demo/requirements.txt (line 2)) (1.15.0)\n",
            "Requirement already satisfied: tenacity>=6.2.0 in /usr/local/lib/python3.7/dist-packages (from plotly>=5.0.0->molplotly==1.1.4->-r drugex-demo/requirements.txt (line 2)) (8.1.0)\n",
            "Requirement already satisfied: wcwidth in /usr/local/lib/python3.7/dist-packages (from prompt-toolkit<2.1.0,>=2.0.0->ipython>=4.0.0->ipywidgets<8,>=7->mols2grid==1.0.0->-r drugex-demo/requirements.txt (line 3)) (0.2.5)\n",
            "Requirement already satisfied: threadpoolctl>=2.0.0 in /usr/local/lib/python3.7/dist-packages (from scikit-learn>=1.0.2->drugex@ git+https://github.com/martin-sicho/DrugEx-CDDG.git@master->-r drugex-demo/requirements.txt (line 1)) (3.1.0)\n",
            "Requirement already satisfied: scipy>=1.1.0 in /usr/local/lib/python3.7/dist-packages (from scikit-learn>=1.0.2->drugex@ git+https://github.com/martin-sicho/DrugEx-CDDG.git@master->-r drugex-demo/requirements.txt (line 1)) (1.7.3)\n",
            "Requirement already satisfied: notebook>=4.4.1 in /usr/local/lib/python3.7/dist-packages (from widgetsnbextension~=3.6.0->ipywidgets<8,>=7->mols2grid==1.0.0->-r drugex-demo/requirements.txt (line 3)) (5.7.16)\n",
            "Requirement already satisfied: pyzmq>=17 in /usr/local/lib/python3.7/dist-packages (from notebook>=4.4.1->widgetsnbextension~=3.6.0->ipywidgets<8,>=7->mols2grid==1.0.0->-r drugex-demo/requirements.txt (line 3)) (23.2.1)\n",
            "Requirement already satisfied: Send2Trash in /usr/local/lib/python3.7/dist-packages (from notebook>=4.4.1->widgetsnbextension~=3.6.0->ipywidgets<8,>=7->mols2grid==1.0.0->-r drugex-demo/requirements.txt (line 3)) (1.8.0)\n",
            "Requirement already satisfied: terminado>=0.8.1 in /usr/local/lib/python3.7/dist-packages (from notebook>=4.4.1->widgetsnbextension~=3.6.0->ipywidgets<8,>=7->mols2grid==1.0.0->-r drugex-demo/requirements.txt (line 3)) (0.13.3)\n",
            "Requirement already satisfied: prometheus-client in /usr/local/lib/python3.7/dist-packages (from notebook>=4.4.1->widgetsnbextension~=3.6.0->ipywidgets<8,>=7->mols2grid==1.0.0->-r drugex-demo/requirements.txt (line 3)) (0.15.0)\n",
            "Requirement already satisfied: nbconvert<6.0 in /usr/local/lib/python3.7/dist-packages (from notebook>=4.4.1->widgetsnbextension~=3.6.0->ipywidgets<8,>=7->mols2grid==1.0.0->-r drugex-demo/requirements.txt (line 3)) (5.6.1)\n",
            "Requirement already satisfied: jupyter-core>=4.4.0 in /usr/local/lib/python3.7/dist-packages (from notebook>=4.4.1->widgetsnbextension~=3.6.0->ipywidgets<8,>=7->mols2grid==1.0.0->-r drugex-demo/requirements.txt (line 3)) (4.11.2)\n",
            "Requirement already satisfied: mistune<2,>=0.8.1 in /usr/local/lib/python3.7/dist-packages (from nbconvert<6.0->notebook>=4.4.1->widgetsnbextension~=3.6.0->ipywidgets<8,>=7->mols2grid==1.0.0->-r drugex-demo/requirements.txt (line 3)) (0.8.4)\n",
            "Requirement already satisfied: pandocfilters>=1.4.1 in /usr/local/lib/python3.7/dist-packages (from nbconvert<6.0->notebook>=4.4.1->widgetsnbextension~=3.6.0->ipywidgets<8,>=7->mols2grid==1.0.0->-r drugex-demo/requirements.txt (line 3)) (1.5.0)\n",
            "Requirement already satisfied: testpath in /usr/local/lib/python3.7/dist-packages (from nbconvert<6.0->notebook>=4.4.1->widgetsnbextension~=3.6.0->ipywidgets<8,>=7->mols2grid==1.0.0->-r drugex-demo/requirements.txt (line 3)) (0.6.0)\n",
            "Requirement already satisfied: entrypoints>=0.2.2 in /usr/local/lib/python3.7/dist-packages (from nbconvert<6.0->notebook>=4.4.1->widgetsnbextension~=3.6.0->ipywidgets<8,>=7->mols2grid==1.0.0->-r drugex-demo/requirements.txt (line 3)) (0.4)\n",
            "Requirement already satisfied: bleach in /usr/local/lib/python3.7/dist-packages (from nbconvert<6.0->notebook>=4.4.1->widgetsnbextension~=3.6.0->ipywidgets<8,>=7->mols2grid==1.0.0->-r drugex-demo/requirements.txt (line 3)) (5.0.1)\n",
            "Requirement already satisfied: defusedxml in /usr/local/lib/python3.7/dist-packages (from nbconvert<6.0->notebook>=4.4.1->widgetsnbextension~=3.6.0->ipywidgets<8,>=7->mols2grid==1.0.0->-r drugex-demo/requirements.txt (line 3)) (0.7.1)\n",
            "Requirement already satisfied: jsonschema>=2.6 in /usr/local/lib/python3.7/dist-packages (from nbformat->molplotly==1.1.4->-r drugex-demo/requirements.txt (line 2)) (4.3.3)\n",
            "Requirement already satisfied: fastjsonschema in /usr/local/lib/python3.7/dist-packages (from nbformat->molplotly==1.1.4->-r drugex-demo/requirements.txt (line 2)) (2.16.2)\n",
            "Requirement already satisfied: attrs>=17.4.0 in /usr/local/lib/python3.7/dist-packages (from jsonschema>=2.6->nbformat->molplotly==1.1.4->-r drugex-demo/requirements.txt (line 2)) (22.1.0)\n",
            "Requirement already satisfied: pyrsistent!=0.17.0,!=0.17.1,!=0.17.2,>=0.14.0 in /usr/local/lib/python3.7/dist-packages (from jsonschema>=2.6->nbformat->molplotly==1.1.4->-r drugex-demo/requirements.txt (line 2)) (0.19.2)\n",
            "Requirement already satisfied: importlib-resources>=1.4.0 in /usr/local/lib/python3.7/dist-packages (from jsonschema>=2.6->nbformat->molplotly==1.1.4->-r drugex-demo/requirements.txt (line 2)) (5.10.0)\n",
            "Requirement already satisfied: ptyprocess in /usr/local/lib/python3.7/dist-packages (from terminado>=0.8.1->notebook>=4.4.1->widgetsnbextension~=3.6.0->ipywidgets<8,>=7->mols2grid==1.0.0->-r drugex-demo/requirements.txt (line 3)) (0.7.0)\n",
            "Requirement already satisfied: webencodings in /usr/local/lib/python3.7/dist-packages (from bleach->nbconvert<6.0->notebook>=4.4.1->widgetsnbextension~=3.6.0->ipywidgets<8,>=7->mols2grid==1.0.0->-r drugex-demo/requirements.txt (line 3)) (0.5.1)\n",
            "Requirement already satisfied: gitdb<5,>=4.0.1 in /usr/local/lib/python3.7/dist-packages (from gitpython->drugex@ git+https://github.com/martin-sicho/DrugEx-CDDG.git@master->-r drugex-demo/requirements.txt (line 1)) (4.0.9)\n",
            "Requirement already satisfied: smmap<6,>=3.0.1 in /usr/local/lib/python3.7/dist-packages (from gitdb<5,>=4.0.1->gitpython->drugex@ git+https://github.com/martin-sicho/DrugEx-CDDG.git@master->-r drugex-demo/requirements.txt (line 1)) (5.0.0)\n",
            "Requirement already satisfied: networkx==2.* in /usr/local/lib/python3.7/dist-packages (from mordred->papyrus_scripts@ git+https://github.com/OlivierBeq/Papyrus-scripts.git@master->papyrus-scaffold-visualizer@ git+https://github.com/martin-sicho/papyrus-scaffold-visualizer.git@v0.2.0->-r drugex-demo/requirements.txt (line 4)) (2.6.3)\n",
            "Requirement already satisfied: cliff in /usr/local/lib/python3.7/dist-packages (from optuna->drugex@ git+https://github.com/martin-sicho/DrugEx-CDDG.git@master->-r drugex-demo/requirements.txt (line 1)) (3.10.1)\n",
            "Requirement already satisfied: PyYAML in /usr/local/lib/python3.7/dist-packages (from optuna->drugex@ git+https://github.com/martin-sicho/DrugEx-CDDG.git@master->-r drugex-demo/requirements.txt (line 1)) (6.0)\n",
            "Requirement already satisfied: colorlog in /usr/local/lib/python3.7/dist-packages (from optuna->drugex@ git+https://github.com/martin-sicho/DrugEx-CDDG.git@master->-r drugex-demo/requirements.txt (line 1)) (6.7.0)\n",
            "Requirement already satisfied: alembic>=1.5.0 in /usr/local/lib/python3.7/dist-packages (from optuna->drugex@ git+https://github.com/martin-sicho/DrugEx-CDDG.git@master->-r drugex-demo/requirements.txt (line 1)) (1.8.1)\n",
            "Requirement already satisfied: packaging>=20.0 in /usr/local/lib/python3.7/dist-packages (from optuna->drugex@ git+https://github.com/martin-sicho/DrugEx-CDDG.git@master->-r drugex-demo/requirements.txt (line 1)) (21.3)\n",
            "Requirement already satisfied: sqlalchemy>=1.3.0 in /usr/local/lib/python3.7/dist-packages (from optuna->drugex@ git+https://github.com/martin-sicho/DrugEx-CDDG.git@master->-r drugex-demo/requirements.txt (line 1)) (1.4.42)\n",
            "Requirement already satisfied: cmaes>=0.8.2 in /usr/local/lib/python3.7/dist-packages (from optuna->drugex@ git+https://github.com/martin-sicho/DrugEx-CDDG.git@master->-r drugex-demo/requirements.txt (line 1)) (0.9.0)\n",
            "Requirement already satisfied: Mako in /usr/local/lib/python3.7/dist-packages (from alembic>=1.5.0->optuna->drugex@ git+https://github.com/martin-sicho/DrugEx-CDDG.git@master->-r drugex-demo/requirements.txt (line 1)) (1.2.3)\n",
            "Requirement already satisfied: greenlet!=0.4.17 in /usr/local/lib/python3.7/dist-packages (from sqlalchemy>=1.3.0->optuna->drugex@ git+https://github.com/martin-sicho/DrugEx-CDDG.git@master->-r drugex-demo/requirements.txt (line 1)) (2.0.0.post0)\n",
            "Requirement already satisfied: PrettyTable>=0.7.2 in /usr/local/lib/python3.7/dist-packages (from cliff->optuna->drugex@ git+https://github.com/martin-sicho/DrugEx-CDDG.git@master->-r drugex-demo/requirements.txt (line 1)) (3.5.0)\n",
            "Requirement already satisfied: stevedore>=2.0.1 in /usr/local/lib/python3.7/dist-packages (from cliff->optuna->drugex@ git+https://github.com/martin-sicho/DrugEx-CDDG.git@master->-r drugex-demo/requirements.txt (line 1)) (3.5.2)\n",
            "Requirement already satisfied: autopage>=0.4.0 in /usr/local/lib/python3.7/dist-packages (from cliff->optuna->drugex@ git+https://github.com/martin-sicho/DrugEx-CDDG.git@master->-r drugex-demo/requirements.txt (line 1)) (0.5.1)\n",
            "Requirement already satisfied: cmd2>=1.0.0 in /usr/local/lib/python3.7/dist-packages (from cliff->optuna->drugex@ git+https://github.com/martin-sicho/DrugEx-CDDG.git@master->-r drugex-demo/requirements.txt (line 1)) (2.4.2)\n",
            "Requirement already satisfied: pbr!=2.1.0,>=2.0.0 in /usr/local/lib/python3.7/dist-packages (from cliff->optuna->drugex@ git+https://github.com/martin-sicho/DrugEx-CDDG.git@master->-r drugex-demo/requirements.txt (line 1)) (5.11.0)\n",
            "Requirement already satisfied: pyperclip>=1.6 in /usr/local/lib/python3.7/dist-packages (from cmd2>=1.0.0->cliff->optuna->drugex@ git+https://github.com/martin-sicho/DrugEx-CDDG.git@master->-r drugex-demo/requirements.txt (line 1)) (1.8.2)\n",
            "Requirement already satisfied: pickle5 in /usr/local/lib/python3.7/dist-packages (from pystow->papyrus_scripts@ git+https://github.com/OlivierBeq/Papyrus-scripts.git@master->papyrus-scaffold-visualizer@ git+https://github.com/martin-sicho/papyrus-scaffold-visualizer.git@v0.2.0->-r drugex-demo/requirements.txt (line 4)) (0.0.12)\n",
            "Requirement already satisfied: Pillow in /usr/local/lib/python3.7/dist-packages (from rdkit-pypi->drugex@ git+https://github.com/martin-sicho/DrugEx-CDDG.git@master->-r drugex-demo/requirements.txt (line 1)) (7.1.2)\n",
            "Requirement already satisfied: certifi>=2017.4.17 in /usr/local/lib/python3.7/dist-packages (from requests->papyrus_scripts@ git+https://github.com/OlivierBeq/Papyrus-scripts.git@master->papyrus-scaffold-visualizer@ git+https://github.com/martin-sicho/papyrus-scaffold-visualizer.git@v0.2.0->-r drugex-demo/requirements.txt (line 4)) (2022.9.24)\n",
            "Requirement already satisfied: idna<3,>=2.5 in /usr/local/lib/python3.7/dist-packages (from requests->papyrus_scripts@ git+https://github.com/OlivierBeq/Papyrus-scripts.git@master->papyrus-scaffold-visualizer@ git+https://github.com/martin-sicho/papyrus-scaffold-visualizer.git@v0.2.0->-r drugex-demo/requirements.txt (line 4)) (2.10)\n",
            "Requirement already satisfied: chardet<4,>=3.0.2 in /usr/local/lib/python3.7/dist-packages (from requests->papyrus_scripts@ git+https://github.com/OlivierBeq/Papyrus-scripts.git@master->papyrus-scaffold-visualizer@ git+https://github.com/martin-sicho/papyrus-scaffold-visualizer.git@v0.2.0->-r drugex-demo/requirements.txt (line 4)) (3.0.4)\n",
            "Requirement already satisfied: urllib3!=1.25.0,!=1.25.1,<1.26,>=1.21.1 in /usr/local/lib/python3.7/dist-packages (from requests->papyrus_scripts@ git+https://github.com/OlivierBeq/Papyrus-scripts.git@master->papyrus-scaffold-visualizer@ git+https://github.com/martin-sicho/papyrus-scaffold-visualizer.git@v0.2.0->-r drugex-demo/requirements.txt (line 4)) (1.24.3)\n",
            "Requirement already satisfied: cloudpickle>=0.2.2 in /usr/local/lib/python3.7/dist-packages (from swifter->papyrus_scripts@ git+https://github.com/OlivierBeq/Papyrus-scripts.git@master->papyrus-scaffold-visualizer@ git+https://github.com/martin-sicho/papyrus-scaffold-visualizer.git@v0.2.0->-r drugex-demo/requirements.txt (line 4)) (1.5.0)\n",
            "Requirement already satisfied: dask[dataframe]>=2.10.0 in /usr/local/lib/python3.7/dist-packages (from swifter->papyrus_scripts@ git+https://github.com/OlivierBeq/Papyrus-scripts.git@master->papyrus-scaffold-visualizer@ git+https://github.com/martin-sicho/papyrus-scaffold-visualizer.git@v0.2.0->-r drugex-demo/requirements.txt (line 4)) (2022.2.0)\n",
            "Requirement already satisfied: partd>=0.3.10 in /usr/local/lib/python3.7/dist-packages (from dask[dataframe]>=2.10.0->swifter->papyrus_scripts@ git+https://github.com/OlivierBeq/Papyrus-scripts.git@master->papyrus-scaffold-visualizer@ git+https://github.com/martin-sicho/papyrus-scaffold-visualizer.git@v0.2.0->-r drugex-demo/requirements.txt (line 4)) (1.3.0)\n",
            "Requirement already satisfied: toolz>=0.8.2 in /usr/local/lib/python3.7/dist-packages (from dask[dataframe]>=2.10.0->swifter->papyrus_scripts@ git+https://github.com/OlivierBeq/Papyrus-scripts.git@master->papyrus-scaffold-visualizer@ git+https://github.com/martin-sicho/papyrus-scaffold-visualizer.git@v0.2.0->-r drugex-demo/requirements.txt (line 4)) (0.12.0)\n",
            "Requirement already satisfied: fsspec>=0.6.0 in /usr/local/lib/python3.7/dist-packages (from dask[dataframe]>=2.10.0->swifter->papyrus_scripts@ git+https://github.com/OlivierBeq/Papyrus-scripts.git@master->papyrus-scaffold-visualizer@ git+https://github.com/martin-sicho/papyrus-scaffold-visualizer.git@v0.2.0->-r drugex-demo/requirements.txt (line 4)) (2022.10.0)\n",
            "Requirement already satisfied: locket in /usr/local/lib/python3.7/dist-packages (from partd>=0.3.10->dask[dataframe]>=2.10.0->swifter->papyrus_scripts@ git+https://github.com/OlivierBeq/Papyrus-scripts.git@master->papyrus-scaffold-visualizer@ git+https://github.com/martin-sicho/papyrus-scaffold-visualizer.git@v0.2.0->-r drugex-demo/requirements.txt (line 4)) (1.0.0)\n"
          ]
        },
        {
          "output_type": "execute_result",
          "data": {
            "text/plain": [
              "'/content/drive/MyDrive/DrugExDemo'"
            ],
            "application/vnd.google.colaboratory.intrinsic+json": {
              "type": "string"
            }
          },
          "metadata": {},
          "execution_count": 1
        }
      ]
    },
    {
      "cell_type": "code",
      "execution_count": 2,
      "id": "39de57d7-93b9-4979-9227-243a3643b8fa",
      "metadata": {
        "id": "39de57d7-93b9-4979-9227-243a3643b8fa",
        "outputId": "7278dff7-b6a3-4445-c6d7-93613a4eccef",
        "colab": {
          "base_uri": "https://localhost:8080/"
        }
      },
      "outputs": [
        {
          "output_type": "execute_result",
          "data": {
            "text/plain": [
              "Index(['Activity_ID', 'Quality', 'source', 'CID', 'SMILES', 'connectivity',\n",
              "       'InChIKey', 'InChI', 'InChI_AuxInfo', 'target_id',\n",
              "       ...\n",
              "       'Descriptor_MorganFP_1016', 'Descriptor_MorganFP_1017',\n",
              "       'Descriptor_MorganFP_1018', 'Descriptor_MorganFP_1019',\n",
              "       'Descriptor_MorganFP_1020', 'Descriptor_MorganFP_1021',\n",
              "       'Descriptor_MorganFP_1022', 'Descriptor_MorganFP_1023', 'TSNE_1',\n",
              "       'TSNE_2'],\n",
              "      dtype='object', length=1056)"
            ]
          },
          "metadata": {},
          "execution_count": 2
        }
      ],
      "source": [
        "import pandas as pd\n",
        "\n",
        "df_all = pd.read_table(\"data/BACE_LIGANDS.tsv\")\n",
        "df_all.columns"
      ]
    },
    {
      "cell_type": "markdown",
      "id": "f9c9cace-185e-464d-9c9a-8004bc076f13",
      "metadata": {
        "id": "f9c9cace-185e-464d-9c9a-8004bc076f13"
      },
      "source": [
        "## Assigning Activity Classes\n",
        "\n",
        "As you can see it has all the feature we previously added to it, including the t-SNE embedding. But in this part of the tutorial we are more interested in the pChEMBL activities. Let's create a histogram of these values to get an idea of a distribution:"
      ]
    },
    {
      "cell_type": "code",
      "execution_count": 3,
      "id": "19890a31-8534-4320-8b8d-2c8cee7ba3c6",
      "metadata": {
        "id": "19890a31-8534-4320-8b8d-2c8cee7ba3c6",
        "outputId": "8421edb8-2053-48d2-f390-e57e4b6d3ec9",
        "colab": {
          "base_uri": "https://localhost:8080/",
          "height": 282
        }
      },
      "outputs": [
        {
          "output_type": "execute_result",
          "data": {
            "text/plain": [
              "<matplotlib.axes._subplots.AxesSubplot at 0x7f2c67523a50>"
            ]
          },
          "metadata": {},
          "execution_count": 3
        },
        {
          "output_type": "display_data",
          "data": {
            "text/plain": [
              "<Figure size 432x288 with 1 Axes>"
            ],
            "image/png": "[encoded data removed]"
          },
          "metadata": {
            "needs_background": "light"
          }
        }
      ],
      "source": [
        "df_all.pchembl_value_Median.hist()"
      ]
    },
    {
      "cell_type": "markdown",
      "id": "0d8d8ca0-3798-4eb5-af21-ccac7cdbfba9",
      "metadata": {
        "id": "0d8d8ca0-3798-4eb5-af21-ccac7cdbfba9"
      },
      "source": [
        "We have a nice normal distribution of values as would be expected, but we also have a fairly balanced ration between inactive and active compounds, which is always a good thing when we are trying to build machine learning models. For example, if we take into account the [previously introduced](data_prep.ipynb) 6.5 threshold that distinguishes actives from inactives, we get reasonably balanced subsets:\n",
        "\n",
        "---\n",
        "*This is also true for the ligands of the BACE protein; a almost normal distribution, with fairly balanced ration between inactive and active compounds.* "
      ]
    },
    {
      "cell_type": "code",
      "execution_count": 4,
      "id": "8afabf80-b1ba-4ae2-9e81-0d9071381bb3",
      "metadata": {
        "id": "8afabf80-b1ba-4ae2-9e81-0d9071381bb3",
        "outputId": "197dcac3-5e00-4375-dc6e-258185704449",
        "colab": {
          "base_uri": "https://localhost:8080/"
        }
      },
      "outputs": [
        {
          "output_type": "execute_result",
          "data": {
            "text/plain": [
              "0.5870529887757766"
            ]
          },
          "metadata": {},
          "execution_count": 4
        }
      ],
      "source": [
        "activity_class_mask = df_all.pchembl_value_Median >= 6.5\n",
        "sum(activity_class_mask) / len(activity_class_mask)"
      ]
    },
    {
      "cell_type": "markdown",
      "id": "a12988de-1484-4d78-ba0f-a41ac958ce40",
      "metadata": {
        "id": "a12988de-1484-4d78-ba0f-a41ac958ce40"
      },
      "source": [
        "Therefore, this split of the data leaves us with about 61% of active molecules. Therefore, we do not need to think much about what to do here for now, but note that for a lot of other data sets the ratio of actives could be much lower and then we might want to think about using some [data balancing techniques](https://machinelearningmastery.com/tactics-to-combat-imbalanced-classes-in-your-machine-learning-dataset/).\n",
        "\n",
        "We will now create a new column in this data set that will serve as the endpoint we want to model (the assignment to an activity class based on molecular structure):\n",
        "\n",
        "---\n",
        "*In the case of BACE1, 58.7% active molecules*"
      ]
    },
    {
      "cell_type": "code",
      "execution_count": 5,
      "id": "026d5863-7b3a-4484-ac34-b200c61eebdf",
      "metadata": {
        "id": "026d5863-7b3a-4484-ac34-b200c61eebdf",
        "outputId": "acf37870-0e39-4945-c52e-035197c8336a",
        "colab": {
          "base_uri": "https://localhost:8080/",
          "height": 386
        }
      },
      "outputs": [
        {
          "output_type": "execute_result",
          "data": {
            "text/plain": [
              "                   Activity_ID Quality    source            CID  \\\n",
              "0  AAAGFCUDAXPDAA_on_P56817_WT    High  ChEMBL30  CHEMBL1915983   \n",
              "1  AACUJFVOHGRMTR_on_P56817_WT    High  ChEMBL30  CHEMBL4204869   \n",
              "2  AANLQBIDWIHDGD_on_P56817_WT    High  ChEMBL30  CHEMBL4159574   \n",
              "3  AARJXZHQDZOZNY_on_P56817_WT    High  ChEMBL30  CHEMBL2443370   \n",
              "4  AAWSEFDIDJLXJF_on_P56817_WT    High  ChEMBL30  CHEMBL2178717   \n",
              "\n",
              "                                              SMILES    connectivity  \\\n",
              "0  COCC1CCN(C(C)C(=O)NC(Cc2cc(F)cc(F)c2)C(O)CNCc2...  AAAGFCUDAXPDAA   \n",
              "1  CC1OCC2(c3cc(NC(=O)c4cnc(C(F)F)cn4)ccc3F)N=C(N...  AACUJFVOHGRMTR   \n",
              "2  COCCOc1cnc(C(=O)Nc2ccc(F)c(C3(C)N=C(N)COC3C(F)...  AANLQBIDWIHDGD   \n",
              "3  CC1=C(C(=O)Nc2nc(C)cs2)C(c2ccco2)C(C(=O)Nc2nc(...  AARJXZHQDZOZNY   \n",
              "4  CN1C(=O)C2CN(c3ncccn3)CC2(c2cc(-c3cccc(C#N)c3)...  AAWSEFDIDJLXJF   \n",
              "\n",
              "                      InChIKey  \\\n",
              "0  AAAGFCUDAXPDAA-UHFFFAOYSA-N   \n",
              "1  AACUJFVOHGRMTR-UHFFFAOYSA-N   \n",
              "2  AANLQBIDWIHDGD-UHFFFAOYSA-N   \n",
              "3  AARJXZHQDZOZNY-UHFFFAOYSA-N   \n",
              "4  AAWSEFDIDJLXJF-UHFFFAOYSA-N   \n",
              "\n",
              "                                               InChI  \\\n",
              "0  InChI=1S/C27H35F2N3O5/c1-17(32-8-7-20(16-36-2)...   \n",
              "1  InChI=1S/C19H18F3N5O2S/c1-9-12-7-30-18(23)27-1...   \n",
              "2  InChI=1S/C20H21F4N5O4/c1-19(18(20(22,23)24)33-...   \n",
              "3  InChI=1S/C21H21N5O3S2/c1-10-8-30-20(22-10)25-1...   \n",
              "4  InChI=1S/C22H19N7OS/c1-28-19(30)17-11-29(21-25...   \n",
              "\n",
              "                                       InChI_AuxInfo  target_id  ...  \\\n",
              "0  \"AuxInfo=1/1/N:9,1,32,34,35,33,5,6,16,22,29,14...  P56817_WT  ...   \n",
              "1  \"AuxInfo=1/1/N:1,21,22,7,19,13,29,4,2,8,6,30,2...  P56817_WT  ...   \n",
              "2  \"AuxInfo=1/1/N:20,1,14,15,3,4,31,32,7,24,13,18...  P56817_WT  ...   \n",
              "3  \"AuxInfo=1/1/N:10,26,1,30,16,15,17,11,27,9,25,...  P56817_WT  ...   \n",
              "4  \"AuxInfo=1/1/N:1,21,11,22,20,10,12,26,17,24,6,...  P56817_WT  ...   \n",
              "\n",
              "  Descriptor_MorganFP_1017 Descriptor_MorganFP_1018 Descriptor_MorganFP_1019  \\\n",
              "0                      0.0                      0.0                      1.0   \n",
              "1                      0.0                      0.0                      1.0   \n",
              "2                      0.0                      0.0                      1.0   \n",
              "3                      0.0                      0.0                      1.0   \n",
              "4                      0.0                      0.0                      1.0   \n",
              "\n",
              "  Descriptor_MorganFP_1020  Descriptor_MorganFP_1021 Descriptor_MorganFP_1022  \\\n",
              "0                      0.0                       0.0                      0.0   \n",
              "1                      0.0                       0.0                      0.0   \n",
              "2                      0.0                       0.0                      0.0   \n",
              "3                      0.0                       0.0                      0.0   \n",
              "4                      0.0                       0.0                      0.0   \n",
              "\n",
              "  Descriptor_MorganFP_1023     TSNE_1     TSNE_2 ActivityClass  \n",
              "0                      0.0 -61.671165  18.636885         False  \n",
              "1                      0.0   5.981135 -41.491680          True  \n",
              "2                      0.0  22.383297 -54.882477          True  \n",
              "3                      0.0  26.984573  25.672077         False  \n",
              "4                      0.0 -53.715622 -27.205227          True  \n",
              "\n",
              "[5 rows x 1057 columns]"
            ],
            "text/html": [
              "\n",
              "  <div id=\"df-92af61b0-c044-4014-9c13-f56e7a843e49\">\n",
              "    <div class=\"colab-df-container\">\n",
              "      <div>\n",
              "<style scoped>\n",
              "    .dataframe tbody tr th:only-of-type {\n",
              "        vertical-align: middle;\n",
              "    }\n",
              "\n",
              "    .dataframe tbody tr th {\n",
              "        vertical-align: top;\n",
              "    }\n",
              "\n",
              "    .dataframe thead th {\n",
              "        text-align: right;\n",
              "    }\n",
              "</style>\n",
              "<table border=\"1\" class=\"dataframe\">\n",
              "  <thead>\n",
              "    <tr style=\"text-align: right;\">\n",
              "      <th></th>\n",
              "      <th>Activity_ID</th>\n",
              "      <th>Quality</th>\n",
              "      <th>source</th>\n",
              "      <th>CID</th>\n",
              "      <th>SMILES</th>\n",
              "      <th>connectivity</th>\n",
              "      <th>InChIKey</th>\n",
              "      <th>InChI</th>\n",
              "      <th>InChI_AuxInfo</th>\n",
              "      <th>target_id</th>\n",
              "      <th>...</th>\n",
              "      <th>Descriptor_MorganFP_1017</th>\n",
              "      <th>Descriptor_MorganFP_1018</th>\n",
              "      <th>Descriptor_MorganFP_1019</th>\n",
              "      <th>Descriptor_MorganFP_1020</th>\n",
              "      <th>Descriptor_MorganFP_1021</th>\n",
              "      <th>Descriptor_MorganFP_1022</th>\n",
              "      <th>Descriptor_MorganFP_1023</th>\n",
              "      <th>TSNE_1</th>\n",
              "      <th>TSNE_2</th>\n",
              "      <th>ActivityClass</th>\n",
              "    </tr>\n",
              "  </thead>\n",
              "  <tbody>\n",
              "    <tr>\n",
              "      <th>0</th>\n",
              "      <td>AAAGFCUDAXPDAA_on_P56817_WT</td>\n",
              "      <td>High</td>\n",
              "      <td>ChEMBL30</td>\n",
              "      <td>CHEMBL1915983</td>\n",
              "      <td>COCC1CCN(C(C)C(=O)NC(Cc2cc(F)cc(F)c2)C(O)CNCc2...</td>\n",
              "      <td>AAAGFCUDAXPDAA</td>\n",
              "      <td>AAAGFCUDAXPDAA-UHFFFAOYSA-N</td>\n",
              "      <td>InChI=1S/C27H35F2N3O5/c1-17(32-8-7-20(16-36-2)...</td>\n",
              "      <td>\"AuxInfo=1/1/N:9,1,32,34,35,33,5,6,16,22,29,14...</td>\n",
              "      <td>P56817_WT</td>\n",
              "      <td>...</td>\n",
              "      <td>0.0</td>\n",
              "      <td>0.0</td>\n",
              "      <td>1.0</td>\n",
              "      <td>0.0</td>\n",
              "      <td>0.0</td>\n",
              "      <td>0.0</td>\n",
              "      <td>0.0</td>\n",
              "      <td>-61.671165</td>\n",
              "      <td>18.636885</td>\n",
              "      <td>False</td>\n",
              "    </tr>\n",
              "    <tr>\n",
              "      <th>1</th>\n",
              "      <td>AACUJFVOHGRMTR_on_P56817_WT</td>\n",
              "      <td>High</td>\n",
              "      <td>ChEMBL30</td>\n",
              "      <td>CHEMBL4204869</td>\n",
              "      <td>CC1OCC2(c3cc(NC(=O)c4cnc(C(F)F)cn4)ccc3F)N=C(N...</td>\n",
              "      <td>AACUJFVOHGRMTR</td>\n",
              "      <td>AACUJFVOHGRMTR-UHFFFAOYSA-N</td>\n",
              "      <td>InChI=1S/C19H18F3N5O2S/c1-9-12-7-30-18(23)27-1...</td>\n",
              "      <td>\"AuxInfo=1/1/N:1,21,22,7,19,13,29,4,2,8,6,30,2...</td>\n",
              "      <td>P56817_WT</td>\n",
              "      <td>...</td>\n",
              "      <td>0.0</td>\n",
              "      <td>0.0</td>\n",
              "      <td>1.0</td>\n",
              "      <td>0.0</td>\n",
              "      <td>0.0</td>\n",
              "      <td>0.0</td>\n",
              "      <td>0.0</td>\n",
              "      <td>5.981135</td>\n",
              "      <td>-41.491680</td>\n",
              "      <td>True</td>\n",
              "    </tr>\n",
              "    <tr>\n",
              "      <th>2</th>\n",
              "      <td>AANLQBIDWIHDGD_on_P56817_WT</td>\n",
              "      <td>High</td>\n",
              "      <td>ChEMBL30</td>\n",
              "      <td>CHEMBL4159574</td>\n",
              "      <td>COCCOc1cnc(C(=O)Nc2ccc(F)c(C3(C)N=C(N)COC3C(F)...</td>\n",
              "      <td>AANLQBIDWIHDGD</td>\n",
              "      <td>AANLQBIDWIHDGD-UHFFFAOYSA-N</td>\n",
              "      <td>InChI=1S/C20H21F4N5O4/c1-19(18(20(22,23)24)33-...</td>\n",
              "      <td>\"AuxInfo=1/1/N:20,1,14,15,3,4,31,32,7,24,13,18...</td>\n",
              "      <td>P56817_WT</td>\n",
              "      <td>...</td>\n",
              "      <td>0.0</td>\n",
              "      <td>0.0</td>\n",
              "      <td>1.0</td>\n",
              "      <td>0.0</td>\n",
              "      <td>0.0</td>\n",
              "      <td>0.0</td>\n",
              "      <td>0.0</td>\n",
              "      <td>22.383297</td>\n",
              "      <td>-54.882477</td>\n",
              "      <td>True</td>\n",
              "    </tr>\n",
              "    <tr>\n",
              "      <th>3</th>\n",
              "      <td>AARJXZHQDZOZNY_on_P56817_WT</td>\n",
              "      <td>High</td>\n",
              "      <td>ChEMBL30</td>\n",
              "      <td>CHEMBL2443370</td>\n",
              "      <td>CC1=C(C(=O)Nc2nc(C)cs2)C(c2ccco2)C(C(=O)Nc2nc(...</td>\n",
              "      <td>AARJXZHQDZOZNY</td>\n",
              "      <td>AARJXZHQDZOZNY-UHFFFAOYSA-N</td>\n",
              "      <td>InChI=1S/C21H21N5O3S2/c1-10-8-30-20(22-10)25-1...</td>\n",
              "      <td>\"AuxInfo=1/1/N:10,26,1,30,16,15,17,11,27,9,25,...</td>\n",
              "      <td>P56817_WT</td>\n",
              "      <td>...</td>\n",
              "      <td>0.0</td>\n",
              "      <td>0.0</td>\n",
              "      <td>1.0</td>\n",
              "      <td>0.0</td>\n",
              "      <td>0.0</td>\n",
              "      <td>0.0</td>\n",
              "      <td>0.0</td>\n",
              "      <td>26.984573</td>\n",
              "      <td>25.672077</td>\n",
              "      <td>False</td>\n",
              "    </tr>\n",
              "    <tr>\n",
              "      <th>4</th>\n",
              "      <td>AAWSEFDIDJLXJF_on_P56817_WT</td>\n",
              "      <td>High</td>\n",
              "      <td>ChEMBL30</td>\n",
              "      <td>CHEMBL2178717</td>\n",
              "      <td>CN1C(=O)C2CN(c3ncccn3)CC2(c2cc(-c3cccc(C#N)c3)...</td>\n",
              "      <td>AAWSEFDIDJLXJF</td>\n",
              "      <td>AAWSEFDIDJLXJF-UHFFFAOYSA-N</td>\n",
              "      <td>InChI=1S/C22H19N7OS/c1-28-19(30)17-11-29(21-25...</td>\n",
              "      <td>\"AuxInfo=1/1/N:1,21,11,22,20,10,12,26,17,24,6,...</td>\n",
              "      <td>P56817_WT</td>\n",
              "      <td>...</td>\n",
              "      <td>0.0</td>\n",
              "      <td>0.0</td>\n",
              "      <td>1.0</td>\n",
              "      <td>0.0</td>\n",
              "      <td>0.0</td>\n",
              "      <td>0.0</td>\n",
              "      <td>0.0</td>\n",
              "      <td>-53.715622</td>\n",
              "      <td>-27.205227</td>\n",
              "      <td>True</td>\n",
              "    </tr>\n",
              "  </tbody>\n",
              "</table>\n",
              "<p>5 rows × 1057 columns</p>\n",
              "</div>\n",
              "      <button class=\"colab-df-convert\" onclick=\"convertToInteractive('df-92af61b0-c044-4014-9c13-f56e7a843e49')\"\n",
              "              title=\"Convert this dataframe to an interactive table.\"\n",
              "              style=\"display:none;\">\n",
              "        \n",
              "  <svg xmlns=\"http://www.w3.org/2000/svg\" height=\"24px\"viewBox=\"0 0 24 24\"\n",
              "       width=\"24px\">\n",
              "    <path d=\"M0 0h24v24H0V0z\" fill=\"none\"/>\n",
              "    <path d=\"M18.56 5.44l.94 2.06.94-2.06 2.06-.94-2.06-.94-.94-2.06-.94 2.06-2.06.94zm-11 1L8.5 8.5l.94-2.06 2.06-.94-2.06-.94L8.5 2.5l-.94 2.06-2.06.94zm10 10l.94 2.06.94-2.06 2.06-.94-2.06-.94-.94-2.06-.94 2.06-2.06.94z\"/><path d=\"M17.41 7.96l-1.37-1.37c-.4-.4-.92-.59-1.43-.59-.52 0-1.04.2-1.43.59L10.3 9.45l-7.72 7.72c-.78.78-.78 2.05 0 2.83L4 21.41c.39.39.9.59 1.41.59.51 0 1.02-.2 1.41-.59l7.78-7.78 2.81-2.81c.8-.78.8-2.07 0-2.86zM5.41 20L4 18.59l7.72-7.72 1.47 1.35L5.41 20z\"/>\n",
              "  </svg>\n",
              "      </button>\n",
              "      \n",
              "  <style>\n",
              "    .colab-df-container {\n",
              "      display:flex;\n",
              "      flex-wrap:wrap;\n",
              "      gap: 12px;\n",
              "    }\n",
              "\n",
              "    .colab-df-convert {\n",
              "      background-color: #E8F0FE;\n",
              "      border: none;\n",
              "      border-radius: 50%;\n",
              "      cursor: pointer;\n",
              "      display: none;\n",
              "      fill: #1967D2;\n",
              "      height: 32px;\n",
              "      padding: 0 0 0 0;\n",
              "      width: 32px;\n",
              "    }\n",
              "\n",
              "    .colab-df-convert:hover {\n",
              "      background-color: #E2EBFA;\n",
              "      box-shadow: 0px 1px 2px rgba(60, 64, 67, 0.3), 0px 1px 3px 1px rgba(60, 64, 67, 0.15);\n",
              "      fill: #174EA6;\n",
              "    }\n",
              "\n",
              "    [theme=dark] .colab-df-convert {\n",
              "      background-color: #3B4455;\n",
              "      fill: #D2E3FC;\n",
              "    }\n",
              "\n",
              "    [theme=dark] .colab-df-convert:hover {\n",
              "      background-color: #434B5C;\n",
              "      box-shadow: 0px 1px 3px 1px rgba(0, 0, 0, 0.15);\n",
              "      filter: drop-shadow(0px 1px 2px rgba(0, 0, 0, 0.3));\n",
              "      fill: #FFFFFF;\n",
              "    }\n",
              "  </style>\n",
              "\n",
              "      <script>\n",
              "        const buttonEl =\n",
              "          document.querySelector('#df-92af61b0-c044-4014-9c13-f56e7a843e49 button.colab-df-convert');\n",
              "        buttonEl.style.display =\n",
              "          google.colab.kernel.accessAllowed ? 'block' : 'none';\n",
              "\n",
              "        async function convertToInteractive(key) {\n",
              "          const element = document.querySelector('#df-92af61b0-c044-4014-9c13-f56e7a843e49');\n",
              "          const dataTable =\n",
              "            await google.colab.kernel.invokeFunction('convertToInteractive',\n",
              "                                                     [key], {});\n",
              "          if (!dataTable) return;\n",
              "\n",
              "          const docLinkHtml = 'Like what you see? Visit the ' +\n",
              "            '<a target=\"_blank\" href=https://colab.research.google.com/notebooks/data_table.ipynb>data table notebook</a>'\n",
              "            + ' to learn more about interactive tables.';\n",
              "          element.innerHTML = '';\n",
              "          dataTable['output_type'] = 'display_data';\n",
              "          await google.colab.output.renderOutput(dataTable, element);\n",
              "          const docLink = document.createElement('div');\n",
              "          docLink.innerHTML = docLinkHtml;\n",
              "          element.appendChild(docLink);\n",
              "        }\n",
              "      </script>\n",
              "    </div>\n",
              "  </div>\n",
              "  "
            ]
          },
          "metadata": {},
          "execution_count": 5
        }
      ],
      "source": [
        "df_all['ActivityClass'] = activity_class_mask\n",
        "df_all.head()"
      ]
    },
    {
      "cell_type": "markdown",
      "id": "9fded642-f484-4551-9223-76645599a895",
      "metadata": {
        "id": "9fded642-f484-4551-9223-76645599a895"
      },
      "source": [
        "## Creating a Test Set\n",
        "\n",
        "A lot has been written about [selecting appropriate test sets for machine learning](https://machinelearningmastery.com/train-test-split-for-evaluating-machine-learning-algorithms/) and indeed that should always be an important first step. The purpose of the test set is to get us an idea on future/prospective performance of our model on unknown data. In QSAR, a popular choice is to make a 'time split' of the data based on publication year: "
      ]
    },
    {
      "cell_type": "code",
      "execution_count": 6,
      "id": "315e1a35-554f-41b7-9964-23246bfa8208",
      "metadata": {
        "id": "315e1a35-554f-41b7-9964-23246bfa8208",
        "outputId": "dc060a10-47eb-44aa-912d-a4a45aec4648",
        "colab": {
          "base_uri": "https://localhost:8080/"
        }
      },
      "outputs": [
        {
          "output_type": "execute_result",
          "data": {
            "text/plain": [
              "0.30435917515009137"
            ]
          },
          "metadata": {},
          "execution_count": 6
        }
      ],
      "source": [
        "cutoff_year = 2015\n",
        "sum(df_all.Year >= cutoff_year) / len(df_all)"
      ]
    },
    {
      "cell_type": "markdown",
      "id": "2c056374-6b46-40b9-a4bb-fab722e9c13d",
      "metadata": {
        "id": "2c056374-6b46-40b9-a4bb-fab722e9c13d"
      },
      "source": [
        "If we train our model on data before year 2015, we could get an idea about how it could perform on data that was not known yet at that time. This approach also has plenty of caveats, one being that the data can follow a different development pattern over time. For example, it can happen that many more chemically novel molecules were found after 2015 making it much harder for the model when previously many chemically related structurues were explored. Fluctuations like these over time can make it harder to find an appropriate split and can result in some unfair comparison so one should always think twice when applying such a split. Here we base our decision solely on the fact that split on year 2015 lands around 20% of the data set in the test set, which is good enough for us, but does not mean it should be good enough for you in every situation. Let's now save our 'Train' and 'Test' set assignment into the data set:\n",
        "\n",
        "---\n",
        "*In our case, around 30% for test set. Which is still good, and other year cutoffs, did not improve it.*"
      ]
    },
    {
      "cell_type": "code",
      "execution_count": 7,
      "id": "d33da1f4-7153-4e88-83db-48f26cede738",
      "metadata": {
        "id": "d33da1f4-7153-4e88-83db-48f26cede738",
        "outputId": "2496cdd1-e6fb-451a-a20a-5de96561e8f0",
        "colab": {
          "base_uri": "https://localhost:8080/",
          "height": 661
        }
      },
      "outputs": [
        {
          "output_type": "execute_result",
          "data": {
            "text/plain": [
              "                      Activity_ID Quality    source  \\\n",
              "0     AAAGFCUDAXPDAA_on_P56817_WT    High  ChEMBL30   \n",
              "1     AACUJFVOHGRMTR_on_P56817_WT    High  ChEMBL30   \n",
              "2     AANLQBIDWIHDGD_on_P56817_WT    High  ChEMBL30   \n",
              "3     AARJXZHQDZOZNY_on_P56817_WT    High  ChEMBL30   \n",
              "4     AAWSEFDIDJLXJF_on_P56817_WT    High  ChEMBL30   \n",
              "...                           ...     ...       ...   \n",
              "3826  ZZLASUXQDJCLCY_on_P56817_WT    High  ChEMBL30   \n",
              "3827  ZZMNDKIJBBWBHI_on_P56817_WT    High  ChEMBL30   \n",
              "3828  ZZUPAAPYPBQGKS_on_P56817_WT    High  ChEMBL30   \n",
              "3829  ZZYSRRFOAYTMKM_on_P56817_WT    High  ChEMBL30   \n",
              "3830  ZZZPIVDRDSYYLA_on_P56817_WT    High  ChEMBL30   \n",
              "\n",
              "                                                    CID  \\\n",
              "0                                         CHEMBL1915983   \n",
              "1                                         CHEMBL4204869   \n",
              "2                                         CHEMBL4159574   \n",
              "3                                         CHEMBL2443370   \n",
              "4                                         CHEMBL2178717   \n",
              "...                                                 ...   \n",
              "3826                                      CHEMBL1821825   \n",
              "3827  CHEMBL506759;44588635;CHEMBL506759;44588635;CH...   \n",
              "3828  CHEMBL3634122;CHEMBL3634122;CHEMBL3634122;CHEM...   \n",
              "3829                                      CHEMBL4091480   \n",
              "3830                                      CHEMBL3653455   \n",
              "\n",
              "                                                 SMILES    connectivity  \\\n",
              "0     COCC1CCN(C(C)C(=O)NC(Cc2cc(F)cc(F)c2)C(O)CNCc2...  AAAGFCUDAXPDAA   \n",
              "1     CC1OCC2(c3cc(NC(=O)c4cnc(C(F)F)cn4)ccc3F)N=C(N...  AACUJFVOHGRMTR   \n",
              "2     COCCOc1cnc(C(=O)Nc2ccc(F)c(C3(C)N=C(N)COC3C(F)...  AANLQBIDWIHDGD   \n",
              "3     CC1=C(C(=O)Nc2nc(C)cs2)C(c2ccco2)C(C(=O)Nc2nc(...  AARJXZHQDZOZNY   \n",
              "4     CN1C(=O)C2CN(c3ncccn3)CC2(c2cc(-c3cccc(C#N)c3)...  AAWSEFDIDJLXJF   \n",
              "...                                                 ...             ...   \n",
              "3826  Cc1c(-c2ccc3nc(N)c(CC(C)C(=O)NCC4CCOCC4)cc3c2)...  ZZLASUXQDJCLCY   \n",
              "3827  CC(NC(=O)c1cc(C(=O)NC(COCc2cc(F)cc(F)c2)C(O)CC...  ZZMNDKIJBBWBHI   \n",
              "3828        CC1(c2cc(NC(=O)c3ncc(Cl)cc3)ccc2)COCC(N)=N1  ZZUPAAPYPBQGKS   \n",
              "3829         Cc1ccc(NCc2cc(C3(C)CCSC(N)=N3)c(F)cc2F)nc1  ZZYSRRFOAYTMKM   \n",
              "3830  Cc1nc(C(=O)Nc2ccc(F)c(C3(C(F)F)COCC(N)=N3)c2)c...  ZZZPIVDRDSYYLA   \n",
              "\n",
              "                         InChIKey  \\\n",
              "0     AAAGFCUDAXPDAA-UHFFFAOYSA-N   \n",
              "1     AACUJFVOHGRMTR-UHFFFAOYSA-N   \n",
              "2     AANLQBIDWIHDGD-UHFFFAOYSA-N   \n",
              "3     AARJXZHQDZOZNY-UHFFFAOYSA-N   \n",
              "4     AAWSEFDIDJLXJF-UHFFFAOYSA-N   \n",
              "...                           ...   \n",
              "3826  ZZLASUXQDJCLCY-UHFFFAOYSA-N   \n",
              "3827  ZZMNDKIJBBWBHI-UHFFFAOYSA-N   \n",
              "3828  ZZUPAAPYPBQGKS-UHFFFAOYSA-N   \n",
              "3829  ZZYSRRFOAYTMKM-UHFFFAOYSA-N   \n",
              "3830  ZZZPIVDRDSYYLA-UHFFFAOYSA-N   \n",
              "\n",
              "                                                  InChI  \\\n",
              "0     InChI=1S/C27H35F2N3O5/c1-17(32-8-7-20(16-36-2)...   \n",
              "1     InChI=1S/C19H18F3N5O2S/c1-9-12-7-30-18(23)27-1...   \n",
              "2     InChI=1S/C20H21F4N5O4/c1-19(18(20(22,23)24)33-...   \n",
              "3     InChI=1S/C21H21N5O3S2/c1-10-8-30-20(22-10)25-1...   \n",
              "4     InChI=1S/C22H19N7OS/c1-28-19(30)17-11-29(21-25...   \n",
              "...                                                 ...   \n",
              "3826  InChI=1S/C26H31N3O2/c1-17-5-3-4-6-23(17)20-7-8...   \n",
              "3827  InChI=1S/C43H49F2N5O10S/c1-25(2)39(42(55)46-22...   \n",
              "3828  InChI=1S/C17H17ClN4O2/c1-17(10-24-9-15(19)22-1...   \n",
              "3829  InChI=1S/C18H20F2N4S/c1-11-3-4-16(22-9-11)23-1...   \n",
              "3830  InChI=1S/C17H17F3N4O3/c1-8-14(22-9(2)27-8)15(2...   \n",
              "\n",
              "                                          InChI_AuxInfo  target_id  ...  \\\n",
              "0     \"AuxInfo=1/1/N:9,1,32,34,35,33,5,6,16,22,29,14...  P56817_WT  ...   \n",
              "1     \"AuxInfo=1/1/N:1,21,22,7,19,13,29,4,2,8,6,30,2...  P56817_WT  ...   \n",
              "2     \"AuxInfo=1/1/N:20,1,14,15,3,4,31,32,7,24,13,18...  P56817_WT  ...   \n",
              "3     \"AuxInfo=1/1/N:10,26,1,30,16,15,17,11,27,9,25,...  P56817_WT  ...   \n",
              "4     \"AuxInfo=1/1/N:1,21,11,22,20,10,12,26,17,24,6,...  P56817_WT  ...   \n",
              "...                                                 ...        ...  ...   \n",
              "3826  \"AuxInfo=1/1/N:1,14,30,29,31,28,5,6,20,24,21,2...  P56817_WT  ...   \n",
              "3827  \"AuxInfo=1/1/N:45,46,1,50,52,59,58,60,57,61,36...  P56817_WT  ...   \n",
              "3828  \"AuxInfo=1/1/N:1,17,18,16,14,15,4,11,21,19,3,1...  P56817_WT  ...   \n",
              "3829  \"AuxInfo=1/1/N:1,12,3,4,13,14,9,21,25,7,2,8,10...  P56817_WT  ...   \n",
              "3830  \"AuxInfo=1/1/N:26,1,9,10,24,20,18,25,2,8,13,11...  P56817_WT  ...   \n",
              "\n",
              "     Descriptor_MorganFP_1018 Descriptor_MorganFP_1019  \\\n",
              "0                         0.0                      1.0   \n",
              "1                         0.0                      1.0   \n",
              "2                         0.0                      1.0   \n",
              "3                         0.0                      1.0   \n",
              "4                         0.0                      1.0   \n",
              "...                       ...                      ...   \n",
              "3826                      0.0                      1.0   \n",
              "3827                      0.0                      0.0   \n",
              "3828                      0.0                      0.0   \n",
              "3829                      0.0                      0.0   \n",
              "3830                      0.0                      0.0   \n",
              "\n",
              "     Descriptor_MorganFP_1020 Descriptor_MorganFP_1021  \\\n",
              "0                         0.0                      0.0   \n",
              "1                         0.0                      0.0   \n",
              "2                         0.0                      0.0   \n",
              "3                         0.0                      0.0   \n",
              "4                         0.0                      0.0   \n",
              "...                       ...                      ...   \n",
              "3826                      0.0                      0.0   \n",
              "3827                      0.0                      0.0   \n",
              "3828                      0.0                      0.0   \n",
              "3829                      0.0                      0.0   \n",
              "3830                      0.0                      0.0   \n",
              "\n",
              "      Descriptor_MorganFP_1022 Descriptor_MorganFP_1023     TSNE_1     TSNE_2  \\\n",
              "0                          0.0                      0.0 -61.671165  18.636885   \n",
              "1                          0.0                      0.0   5.981135 -41.491680   \n",
              "2                          0.0                      0.0  22.383297 -54.882477   \n",
              "3                          0.0                      0.0  26.984573  25.672077   \n",
              "4                          0.0                      0.0 -53.715622 -27.205227   \n",
              "...                        ...                      ...        ...        ...   \n",
              "3826                       0.0                      0.0  32.414470  20.711920   \n",
              "3827                       0.0                      0.0 -31.731236  51.895810   \n",
              "3828                       0.0                      0.0  36.324360 -37.222504   \n",
              "3829                       0.0                      0.0  12.536815 -25.815283   \n",
              "3830                       0.0                      0.0  42.214138 -47.971664   \n",
              "\n",
              "     ActivityClass TimeSplit  \n",
              "0            False     Train  \n",
              "1             True      Test  \n",
              "2             True      Test  \n",
              "3            False     Train  \n",
              "4             True     Train  \n",
              "...            ...       ...  \n",
              "3826          True     Train  \n",
              "3827          True     Train  \n",
              "3828          True     Train  \n",
              "3829         False      Test  \n",
              "3830          True     Train  \n",
              "\n",
              "[3831 rows x 1058 columns]"
            ],
            "text/html": [
              "\n",
              "  <div id=\"df-e0c1ff5f-5045-4fa3-89be-0f2ae8b0586d\">\n",
              "    <div class=\"colab-df-container\">\n",
              "      <div>\n",
              "<style scoped>\n",
              "    .dataframe tbody tr th:only-of-type {\n",
              "        vertical-align: middle;\n",
              "    }\n",
              "\n",
              "    .dataframe tbody tr th {\n",
              "        vertical-align: top;\n",
              "    }\n",
              "\n",
              "    .dataframe thead th {\n",
              "        text-align: right;\n",
              "    }\n",
              "</style>\n",
              "<table border=\"1\" class=\"dataframe\">\n",
              "  <thead>\n",
              "    <tr style=\"text-align: right;\">\n",
              "      <th></th>\n",
              "      <th>Activity_ID</th>\n",
              "      <th>Quality</th>\n",
              "      <th>source</th>\n",
              "      <th>CID</th>\n",
              "      <th>SMILES</th>\n",
              "      <th>connectivity</th>\n",
              "      <th>InChIKey</th>\n",
              "      <th>InChI</th>\n",
              "      <th>InChI_AuxInfo</th>\n",
              "      <th>target_id</th>\n",
              "      <th>...</th>\n",
              "      <th>Descriptor_MorganFP_1018</th>\n",
              "      <th>Descriptor_MorganFP_1019</th>\n",
              "      <th>Descriptor_MorganFP_1020</th>\n",
              "      <th>Descriptor_MorganFP_1021</th>\n",
              "      <th>Descriptor_MorganFP_1022</th>\n",
              "      <th>Descriptor_MorganFP_1023</th>\n",
              "      <th>TSNE_1</th>\n",
              "      <th>TSNE_2</th>\n",
              "      <th>ActivityClass</th>\n",
              "      <th>TimeSplit</th>\n",
              "    </tr>\n",
              "  </thead>\n",
              "  <tbody>\n",
              "    <tr>\n",
              "      <th>0</th>\n",
              "      <td>AAAGFCUDAXPDAA_on_P56817_WT</td>\n",
              "      <td>High</td>\n",
              "      <td>ChEMBL30</td>\n",
              "      <td>CHEMBL1915983</td>\n",
              "      <td>COCC1CCN(C(C)C(=O)NC(Cc2cc(F)cc(F)c2)C(O)CNCc2...</td>\n",
              "      <td>AAAGFCUDAXPDAA</td>\n",
              "      <td>AAAGFCUDAXPDAA-UHFFFAOYSA-N</td>\n",
              "      <td>InChI=1S/C27H35F2N3O5/c1-17(32-8-7-20(16-36-2)...</td>\n",
              "      <td>\"AuxInfo=1/1/N:9,1,32,34,35,33,5,6,16,22,29,14...</td>\n",
              "      <td>P56817_WT</td>\n",
              "      <td>...</td>\n",
              "      <td>0.0</td>\n",
              "      <td>1.0</td>\n",
              "      <td>0.0</td>\n",
              "      <td>0.0</td>\n",
              "      <td>0.0</td>\n",
              "      <td>0.0</td>\n",
              "      <td>-61.671165</td>\n",
              "      <td>18.636885</td>\n",
              "      <td>False</td>\n",
              "      <td>Train</td>\n",
              "    </tr>\n",
              "    <tr>\n",
              "      <th>1</th>\n",
              "      <td>AACUJFVOHGRMTR_on_P56817_WT</td>\n",
              "      <td>High</td>\n",
              "      <td>ChEMBL30</td>\n",
              "      <td>CHEMBL4204869</td>\n",
              "      <td>CC1OCC2(c3cc(NC(=O)c4cnc(C(F)F)cn4)ccc3F)N=C(N...</td>\n",
              "      <td>AACUJFVOHGRMTR</td>\n",
              "      <td>AACUJFVOHGRMTR-UHFFFAOYSA-N</td>\n",
              "      <td>InChI=1S/C19H18F3N5O2S/c1-9-12-7-30-18(23)27-1...</td>\n",
              "      <td>\"AuxInfo=1/1/N:1,21,22,7,19,13,29,4,2,8,6,30,2...</td>\n",
              "      <td>P56817_WT</td>\n",
              "      <td>...</td>\n",
              "      <td>0.0</td>\n",
              "      <td>1.0</td>\n",
              "      <td>0.0</td>\n",
              "      <td>0.0</td>\n",
              "      <td>0.0</td>\n",
              "      <td>0.0</td>\n",
              "      <td>5.981135</td>\n",
              "      <td>-41.491680</td>\n",
              "      <td>True</td>\n",
              "      <td>Test</td>\n",
              "    </tr>\n",
              "    <tr>\n",
              "      <th>2</th>\n",
              "      <td>AANLQBIDWIHDGD_on_P56817_WT</td>\n",
              "      <td>High</td>\n",
              "      <td>ChEMBL30</td>\n",
              "      <td>CHEMBL4159574</td>\n",
              "      <td>COCCOc1cnc(C(=O)Nc2ccc(F)c(C3(C)N=C(N)COC3C(F)...</td>\n",
              "      <td>AANLQBIDWIHDGD</td>\n",
              "      <td>AANLQBIDWIHDGD-UHFFFAOYSA-N</td>\n",
              "      <td>InChI=1S/C20H21F4N5O4/c1-19(18(20(22,23)24)33-...</td>\n",
              "      <td>\"AuxInfo=1/1/N:20,1,14,15,3,4,31,32,7,24,13,18...</td>\n",
              "      <td>P56817_WT</td>\n",
              "      <td>...</td>\n",
              "      <td>0.0</td>\n",
              "      <td>1.0</td>\n",
              "      <td>0.0</td>\n",
              "      <td>0.0</td>\n",
              "      <td>0.0</td>\n",
              "      <td>0.0</td>\n",
              "      <td>22.383297</td>\n",
              "      <td>-54.882477</td>\n",
              "      <td>True</td>\n",
              "      <td>Test</td>\n",
              "    </tr>\n",
              "    <tr>\n",
              "      <th>3</th>\n",
              "      <td>AARJXZHQDZOZNY_on_P56817_WT</td>\n",
              "      <td>High</td>\n",
              "      <td>ChEMBL30</td>\n",
              "      <td>CHEMBL2443370</td>\n",
              "      <td>CC1=C(C(=O)Nc2nc(C)cs2)C(c2ccco2)C(C(=O)Nc2nc(...</td>\n",
              "      <td>AARJXZHQDZOZNY</td>\n",
              "      <td>AARJXZHQDZOZNY-UHFFFAOYSA-N</td>\n",
              "      <td>InChI=1S/C21H21N5O3S2/c1-10-8-30-20(22-10)25-1...</td>\n",
              "      <td>\"AuxInfo=1/1/N:10,26,1,30,16,15,17,11,27,9,25,...</td>\n",
              "      <td>P56817_WT</td>\n",
              "      <td>...</td>\n",
              "      <td>0.0</td>\n",
              "      <td>1.0</td>\n",
              "      <td>0.0</td>\n",
              "      <td>0.0</td>\n",
              "      <td>0.0</td>\n",
              "      <td>0.0</td>\n",
              "      <td>26.984573</td>\n",
              "      <td>25.672077</td>\n",
              "      <td>False</td>\n",
              "      <td>Train</td>\n",
              "    </tr>\n",
              "    <tr>\n",
              "      <th>4</th>\n",
              "      <td>AAWSEFDIDJLXJF_on_P56817_WT</td>\n",
              "      <td>High</td>\n",
              "      <td>ChEMBL30</td>\n",
              "      <td>CHEMBL2178717</td>\n",
              "      <td>CN1C(=O)C2CN(c3ncccn3)CC2(c2cc(-c3cccc(C#N)c3)...</td>\n",
              "      <td>AAWSEFDIDJLXJF</td>\n",
              "      <td>AAWSEFDIDJLXJF-UHFFFAOYSA-N</td>\n",
              "      <td>InChI=1S/C22H19N7OS/c1-28-19(30)17-11-29(21-25...</td>\n",
              "      <td>\"AuxInfo=1/1/N:1,21,11,22,20,10,12,26,17,24,6,...</td>\n",
              "      <td>P56817_WT</td>\n",
              "      <td>...</td>\n",
              "      <td>0.0</td>\n",
              "      <td>1.0</td>\n",
              "      <td>0.0</td>\n",
              "      <td>0.0</td>\n",
              "      <td>0.0</td>\n",
              "      <td>0.0</td>\n",
              "      <td>-53.715622</td>\n",
              "      <td>-27.205227</td>\n",
              "      <td>True</td>\n",
              "      <td>Train</td>\n",
              "    </tr>\n",
              "    <tr>\n",
              "      <th>...</th>\n",
              "      <td>...</td>\n",
              "      <td>...</td>\n",
              "      <td>...</td>\n",
              "      <td>...</td>\n",
              "      <td>...</td>\n",
              "      <td>...</td>\n",
              "      <td>...</td>\n",
              "      <td>...</td>\n",
              "      <td>...</td>\n",
              "      <td>...</td>\n",
              "      <td>...</td>\n",
              "      <td>...</td>\n",
              "      <td>...</td>\n",
              "      <td>...</td>\n",
              "      <td>...</td>\n",
              "      <td>...</td>\n",
              "      <td>...</td>\n",
              "      <td>...</td>\n",
              "      <td>...</td>\n",
              "      <td>...</td>\n",
              "      <td>...</td>\n",
              "    </tr>\n",
              "    <tr>\n",
              "      <th>3826</th>\n",
              "      <td>ZZLASUXQDJCLCY_on_P56817_WT</td>\n",
              "      <td>High</td>\n",
              "      <td>ChEMBL30</td>\n",
              "      <td>CHEMBL1821825</td>\n",
              "      <td>Cc1c(-c2ccc3nc(N)c(CC(C)C(=O)NCC4CCOCC4)cc3c2)...</td>\n",
              "      <td>ZZLASUXQDJCLCY</td>\n",
              "      <td>ZZLASUXQDJCLCY-UHFFFAOYSA-N</td>\n",
              "      <td>InChI=1S/C26H31N3O2/c1-17-5-3-4-6-23(17)20-7-8...</td>\n",
              "      <td>\"AuxInfo=1/1/N:1,14,30,29,31,28,5,6,20,24,21,2...</td>\n",
              "      <td>P56817_WT</td>\n",
              "      <td>...</td>\n",
              "      <td>0.0</td>\n",
              "      <td>1.0</td>\n",
              "      <td>0.0</td>\n",
              "      <td>0.0</td>\n",
              "      <td>0.0</td>\n",
              "      <td>0.0</td>\n",
              "      <td>32.414470</td>\n",
              "      <td>20.711920</td>\n",
              "      <td>True</td>\n",
              "      <td>Train</td>\n",
              "    </tr>\n",
              "    <tr>\n",
              "      <th>3827</th>\n",
              "      <td>ZZMNDKIJBBWBHI_on_P56817_WT</td>\n",
              "      <td>High</td>\n",
              "      <td>ChEMBL30</td>\n",
              "      <td>CHEMBL506759;44588635;CHEMBL506759;44588635;CH...</td>\n",
              "      <td>CC(NC(=O)c1cc(C(=O)NC(COCc2cc(F)cc(F)c2)C(O)CC...</td>\n",
              "      <td>ZZMNDKIJBBWBHI</td>\n",
              "      <td>ZZMNDKIJBBWBHI-UHFFFAOYSA-N</td>\n",
              "      <td>InChI=1S/C43H49F2N5O10S/c1-25(2)39(42(55)46-22...</td>\n",
              "      <td>\"AuxInfo=1/1/N:45,46,1,50,52,59,58,60,57,61,36...</td>\n",
              "      <td>P56817_WT</td>\n",
              "      <td>...</td>\n",
              "      <td>0.0</td>\n",
              "      <td>0.0</td>\n",
              "      <td>0.0</td>\n",
              "      <td>0.0</td>\n",
              "      <td>0.0</td>\n",
              "      <td>0.0</td>\n",
              "      <td>-31.731236</td>\n",
              "      <td>51.895810</td>\n",
              "      <td>True</td>\n",
              "      <td>Train</td>\n",
              "    </tr>\n",
              "    <tr>\n",
              "      <th>3828</th>\n",
              "      <td>ZZUPAAPYPBQGKS_on_P56817_WT</td>\n",
              "      <td>High</td>\n",
              "      <td>ChEMBL30</td>\n",
              "      <td>CHEMBL3634122;CHEMBL3634122;CHEMBL3634122;CHEM...</td>\n",
              "      <td>CC1(c2cc(NC(=O)c3ncc(Cl)cc3)ccc2)COCC(N)=N1</td>\n",
              "      <td>ZZUPAAPYPBQGKS</td>\n",
              "      <td>ZZUPAAPYPBQGKS-UHFFFAOYSA-N</td>\n",
              "      <td>InChI=1S/C17H17ClN4O2/c1-17(10-24-9-15(19)22-1...</td>\n",
              "      <td>\"AuxInfo=1/1/N:1,17,18,16,14,15,4,11,21,19,3,1...</td>\n",
              "      <td>P56817_WT</td>\n",
              "      <td>...</td>\n",
              "      <td>0.0</td>\n",
              "      <td>0.0</td>\n",
              "      <td>0.0</td>\n",
              "      <td>0.0</td>\n",
              "      <td>0.0</td>\n",
              "      <td>0.0</td>\n",
              "      <td>36.324360</td>\n",
              "      <td>-37.222504</td>\n",
              "      <td>True</td>\n",
              "      <td>Train</td>\n",
              "    </tr>\n",
              "    <tr>\n",
              "      <th>3829</th>\n",
              "      <td>ZZYSRRFOAYTMKM_on_P56817_WT</td>\n",
              "      <td>High</td>\n",
              "      <td>ChEMBL30</td>\n",
              "      <td>CHEMBL4091480</td>\n",
              "      <td>Cc1ccc(NCc2cc(C3(C)CCSC(N)=N3)c(F)cc2F)nc1</td>\n",
              "      <td>ZZYSRRFOAYTMKM</td>\n",
              "      <td>ZZYSRRFOAYTMKM-UHFFFAOYSA-N</td>\n",
              "      <td>InChI=1S/C18H20F2N4S/c1-11-3-4-16(22-9-11)23-1...</td>\n",
              "      <td>\"AuxInfo=1/1/N:1,12,3,4,13,14,9,21,25,7,2,8,10...</td>\n",
              "      <td>P56817_WT</td>\n",
              "      <td>...</td>\n",
              "      <td>0.0</td>\n",
              "      <td>0.0</td>\n",
              "      <td>0.0</td>\n",
              "      <td>0.0</td>\n",
              "      <td>0.0</td>\n",
              "      <td>0.0</td>\n",
              "      <td>12.536815</td>\n",
              "      <td>-25.815283</td>\n",
              "      <td>False</td>\n",
              "      <td>Test</td>\n",
              "    </tr>\n",
              "    <tr>\n",
              "      <th>3830</th>\n",
              "      <td>ZZZPIVDRDSYYLA_on_P56817_WT</td>\n",
              "      <td>High</td>\n",
              "      <td>ChEMBL30</td>\n",
              "      <td>CHEMBL3653455</td>\n",
              "      <td>Cc1nc(C(=O)Nc2ccc(F)c(C3(C(F)F)COCC(N)=N3)c2)c...</td>\n",
              "      <td>ZZZPIVDRDSYYLA</td>\n",
              "      <td>ZZZPIVDRDSYYLA-UHFFFAOYSA-N</td>\n",
              "      <td>InChI=1S/C17H17F3N4O3/c1-8-14(22-9(2)27-8)15(2...</td>\n",
              "      <td>\"AuxInfo=1/1/N:26,1,9,10,24,20,18,25,2,8,13,11...</td>\n",
              "      <td>P56817_WT</td>\n",
              "      <td>...</td>\n",
              "      <td>0.0</td>\n",
              "      <td>0.0</td>\n",
              "      <td>0.0</td>\n",
              "      <td>0.0</td>\n",
              "      <td>0.0</td>\n",
              "      <td>0.0</td>\n",
              "      <td>42.214138</td>\n",
              "      <td>-47.971664</td>\n",
              "      <td>True</td>\n",
              "      <td>Train</td>\n",
              "    </tr>\n",
              "  </tbody>\n",
              "</table>\n",
              "<p>3831 rows × 1058 columns</p>\n",
              "</div>\n",
              "      <button class=\"colab-df-convert\" onclick=\"convertToInteractive('df-e0c1ff5f-5045-4fa3-89be-0f2ae8b0586d')\"\n",
              "              title=\"Convert this dataframe to an interactive table.\"\n",
              "              style=\"display:none;\">\n",
              "        \n",
              "  <svg xmlns=\"http://www.w3.org/2000/svg\" height=\"24px\"viewBox=\"0 0 24 24\"\n",
              "       width=\"24px\">\n",
              "    <path d=\"M0 0h24v24H0V0z\" fill=\"none\"/>\n",
              "    <path d=\"M18.56 5.44l.94 2.06.94-2.06 2.06-.94-2.06-.94-.94-2.06-.94 2.06-2.06.94zm-11 1L8.5 8.5l.94-2.06 2.06-.94-2.06-.94L8.5 2.5l-.94 2.06-2.06.94zm10 10l.94 2.06.94-2.06 2.06-.94-2.06-.94-.94-2.06-.94 2.06-2.06.94z\"/><path d=\"M17.41 7.96l-1.37-1.37c-.4-.4-.92-.59-1.43-.59-.52 0-1.04.2-1.43.59L10.3 9.45l-7.72 7.72c-.78.78-.78 2.05 0 2.83L4 21.41c.39.39.9.59 1.41.59.51 0 1.02-.2 1.41-.59l7.78-7.78 2.81-2.81c.8-.78.8-2.07 0-2.86zM5.41 20L4 18.59l7.72-7.72 1.47 1.35L5.41 20z\"/>\n",
              "  </svg>\n",
              "      </button>\n",
              "      \n",
              "  <style>\n",
              "    .colab-df-container {\n",
              "      display:flex;\n",
              "      flex-wrap:wrap;\n",
              "      gap: 12px;\n",
              "    }\n",
              "\n",
              "    .colab-df-convert {\n",
              "      background-color: #E8F0FE;\n",
              "      border: none;\n",
              "      border-radius: 50%;\n",
              "      cursor: pointer;\n",
              "      display: none;\n",
              "      fill: #1967D2;\n",
              "      height: 32px;\n",
              "      padding: 0 0 0 0;\n",
              "      width: 32px;\n",
              "    }\n",
              "\n",
              "    .colab-df-convert:hover {\n",
              "      background-color: #E2EBFA;\n",
              "      box-shadow: 0px 1px 2px rgba(60, 64, 67, 0.3), 0px 1px 3px 1px rgba(60, 64, 67, 0.15);\n",
              "      fill: #174EA6;\n",
              "    }\n",
              "\n",
              "    [theme=dark] .colab-df-convert {\n",
              "      background-color: #3B4455;\n",
              "      fill: #D2E3FC;\n",
              "    }\n",
              "\n",
              "    [theme=dark] .colab-df-convert:hover {\n",
              "      background-color: #434B5C;\n",
              "      box-shadow: 0px 1px 3px 1px rgba(0, 0, 0, 0.15);\n",
              "      filter: drop-shadow(0px 1px 2px rgba(0, 0, 0, 0.3));\n",
              "      fill: #FFFFFF;\n",
              "    }\n",
              "  </style>\n",
              "\n",
              "      <script>\n",
              "        const buttonEl =\n",
              "          document.querySelector('#df-e0c1ff5f-5045-4fa3-89be-0f2ae8b0586d button.colab-df-convert');\n",
              "        buttonEl.style.display =\n",
              "          google.colab.kernel.accessAllowed ? 'block' : 'none';\n",
              "\n",
              "        async function convertToInteractive(key) {\n",
              "          const element = document.querySelector('#df-e0c1ff5f-5045-4fa3-89be-0f2ae8b0586d');\n",
              "          const dataTable =\n",
              "            await google.colab.kernel.invokeFunction('convertToInteractive',\n",
              "                                                     [key], {});\n",
              "          if (!dataTable) return;\n",
              "\n",
              "          const docLinkHtml = 'Like what you see? Visit the ' +\n",
              "            '<a target=\"_blank\" href=https://colab.research.google.com/notebooks/data_table.ipynb>data table notebook</a>'\n",
              "            + ' to learn more about interactive tables.';\n",
              "          element.innerHTML = '';\n",
              "          dataTable['output_type'] = 'display_data';\n",
              "          await google.colab.output.renderOutput(dataTable, element);\n",
              "          const docLink = document.createElement('div');\n",
              "          docLink.innerHTML = docLinkHtml;\n",
              "          element.appendChild(docLink);\n",
              "        }\n",
              "      </script>\n",
              "    </div>\n",
              "  </div>\n",
              "  "
            ]
          },
          "metadata": {},
          "execution_count": 7
        }
      ],
      "source": [
        "df_all[\"TimeSplit\"] = (df_all.Year >= cutoff_year).apply(lambda x : \"Test\" if x else \"Train\")\n",
        "df_all"
      ]
    },
    {
      "cell_type": "markdown",
      "id": "23580792-10d5-40e8-b1bb-8078223e760f",
      "metadata": {
        "id": "23580792-10d5-40e8-b1bb-8078223e760f"
      },
      "source": [
        "Now, we can use the `scaffviz` package again to visualize how different our test set is from the training set. This will be useful to assess how difficult the test set is for the resulting model. We start by saving our annotated data set into a new file and wrapping it as a `DataSetTSV` instance for plotting:"
      ]
    },
    {
      "cell_type": "code",
      "execution_count": 8,
      "id": "f6e962a8-2646-4de3-bdf5-3f051ec1deb1",
      "metadata": {
        "id": "f6e962a8-2646-4de3-bdf5-3f051ec1deb1"
      },
      "outputs": [],
      "source": [
        "from scaffviz.data.dataset import DataSetTSV\n",
        "\n",
        "dataset = DataSetTSV(data=df_all, path='data/BACE_LIGANDS_qsar.tsv')"
      ]
    },
    {
      "cell_type": "markdown",
      "id": "b7dbb03a-0640-4a56-b8f0-cd5b1c4e7578",
      "metadata": {
        "id": "b7dbb03a-0640-4a56-b8f0-cd5b1c4e7578"
      },
      "source": [
        "Next, we can just drop it into the `Plot.plot` method again: \n",
        "\n",
        "*Note: We should still have the embedding calculated from the previous exercise, but if you do not have that information anymore, it will be recalculated.*"
      ]
    },
    {
      "cell_type": "code",
      "execution_count": 9,
      "id": "f4bb6646-7d47-4680-8556-ea1a8b7fe611",
      "metadata": {
        "id": "f4bb6646-7d47-4680-8556-ea1a8b7fe611",
        "outputId": "a0ad25ee-7de0-4312-d104-7d3b369cc527",
        "colab": {
          "base_uri": "https://localhost:8080/",
          "height": 822
        }
      },
      "outputs": [
        {
          "output_type": "display_data",
          "data": {
            "text/plain": [
              "<IPython.core.display.Javascript object>"
            ],
            "application/javascript": [
              "(async (port, path, width, height, cache, element) => {\n",
              "    if (!google.colab.kernel.accessAllowed && !cache) {\n",
              "      return;\n",
              "    }\n",
              "    element.appendChild(document.createTextNode(''));\n",
              "    const url = await google.colab.kernel.proxyPort(port, {cache});\n",
              "    const iframe = document.createElement('iframe');\n",
              "    iframe.src = new URL(path, url).toString();\n",
              "    iframe.height = height;\n",
              "    iframe.width = width;\n",
              "    iframe.style.border = 0;\n",
              "    iframe.allow = [\n",
              "        'accelerometer',\n",
              "        'autoplay',\n",
              "        'camera',\n",
              "        'clipboard-read',\n",
              "        'clipboard-write',\n",
              "        'gyroscope',\n",
              "        'magnetometer',\n",
              "        'microphone',\n",
              "        'serial',\n",
              "        'usb',\n",
              "        'xr-spatial-tracking',\n",
              "    ].join('; ');\n",
              "    element.appendChild(iframe);\n",
              "  })(9191, \"/\", \"100%\", 800, false, window.element)"
            ]
          },
          "metadata": {}
        }
      ],
      "source": [
        "from scaffviz.depiction.plot import Plot\n",
        "from scaffviz.clustering.manifold import TSNE\n",
        "\n",
        "plot = Plot(dataset, TSNE())\n",
        "plot.plot(\n",
        "    recalculate=False, \n",
        "    color_by=\"TimeSplit\",\n",
        "    color_style=\"groups\",\n",
        "    card_data=[\"pchembl_value_Median\", \"all_doc_ids\", \"source\"],\n",
        "    title_data=\"Activity_ID\",\n",
        "    viewport_height=800,\n",
        "    port=9191\n",
        ")"
      ]
    },
    {
      "cell_type": "markdown",
      "id": "984e0142-c8b5-4d42-9abb-d874d4ae8cd8",
      "metadata": {
        "id": "984e0142-c8b5-4d42-9abb-d874d4ae8cd8"
      },
      "source": [
        "In the plot, we can see that some of the test compounds are in similar parts of chemical space as the training compounds, but there are also a few 'lonely' compounds that cluster together. So the split we selected actually seems to have a good balance between compounds that are challenging (more distant from the training data) and easier (closer to the training data).\n",
        "\n",
        "---\n",
        "*Same in this project; there are some similar parts and some lonely compounds that cluster together. However, also one big cluster in the middle bottom.*"
      ]
    },
    {
      "cell_type": "markdown",
      "id": "af410eba-5c56-4d83-8eb6-9bb0ca864075",
      "metadata": {
        "id": "af410eba-5c56-4d83-8eb6-9bb0ca864075"
      },
      "source": [
        "## Model Training\n",
        "\n",
        "First, we seperate the testing part of the data set and start preparing our training set for modelling:"
      ]
    },
    {
      "cell_type": "code",
      "execution_count": 12,
      "id": "e8072b95-9be6-4a8c-a109-80ecd6ba3cfe",
      "metadata": {
        "id": "e8072b95-9be6-4a8c-a109-80ecd6ba3cfe",
        "outputId": "a878843e-3c34-48b9-abb7-dd8c3977a39c",
        "colab": {
          "base_uri": "https://localhost:8080/"
        }
      },
      "outputs": [
        {
          "output_type": "execute_result",
          "data": {
            "text/plain": [
              "2665"
            ]
          },
          "metadata": {},
          "execution_count": 12
        }
      ],
      "source": [
        "df_train = df_all[df_all.TimeSplit == \"Train\"]\n",
        "len(df_train)"
      ]
    },
    {
      "cell_type": "code",
      "execution_count": 13,
      "id": "f6fe1235-6495-40c4-8899-43174bbd17be",
      "metadata": {
        "id": "f6fe1235-6495-40c4-8899-43174bbd17be",
        "outputId": "4e0391e8-5647-4a24-9476-a6bf7184918f",
        "colab": {
          "base_uri": "https://localhost:8080/"
        }
      },
      "outputs": [
        {
          "output_type": "execute_result",
          "data": {
            "text/plain": [
              "1166"
            ]
          },
          "metadata": {},
          "execution_count": 13
        }
      ],
      "source": [
        "df_test = df_all[df_all.TimeSplit == \"Test\"]\n",
        "len(df_test)"
      ]
    },
    {
      "cell_type": "markdown",
      "id": "6124d40c-ed2a-4fd1-a06a-27e7c3ab2ecc",
      "metadata": {
        "id": "6124d40c-ed2a-4fd1-a06a-27e7c3ab2ecc"
      },
      "source": [
        "And finally a quick sanity check that we truly seperated the data correctly by year:"
      ]
    },
    {
      "cell_type": "code",
      "execution_count": 14,
      "id": "753ad4fc-2970-4b81-bea3-6fd5c9b9eaf2",
      "metadata": {
        "id": "753ad4fc-2970-4b81-bea3-6fd5c9b9eaf2",
        "outputId": "9073c0d0-77a8-404b-aea3-1d6657053e74",
        "colab": {
          "base_uri": "https://localhost:8080/",
          "height": 282
        }
      },
      "outputs": [
        {
          "output_type": "execute_result",
          "data": {
            "text/plain": [
              "<matplotlib.axes._subplots.AxesSubplot at 0x7f2be97d2890>"
            ]
          },
          "metadata": {},
          "execution_count": 14
        },
        {
          "output_type": "display_data",
          "data": {
            "text/plain": [
              "<Figure size 432x288 with 1 Axes>"
            ],
            "image/png": "[encoded data removed]"
          },
          "metadata": {
            "needs_background": "light"
          }
        }
      ],
      "source": [
        "df_test.Year.hist()"
      ]
    },
    {
      "cell_type": "markdown",
      "id": "82d60f53-8996-4854-9bab-3f534e89c326",
      "metadata": {
        "id": "82d60f53-8996-4854-9bab-3f534e89c326"
      },
      "source": [
        "Next, we extract the descriptors we will use to derive the QSAR model. This is how we will relate structural information with the endpoint variable (the `ActivityClass` group). The model will need two types of inputs:\n",
        "\n",
        "1. The data describing molecular structure. In our case, these will be the fingerprints we also used to make the t-SNE plot above.\n",
        "2. The categorization to `ActivityClass`. This will be used to fit the model and create the mathematical links between the structure (the fingerprints) and the categorization variable (`ActivityClass`).\n",
        "\n",
        "All descriptor column names start with the `Descriptor_` string so that allows us to extract them easily from the data:"
      ]
    },
    {
      "cell_type": "code",
      "execution_count": 15,
      "id": "f8359b21-3edb-4dae-9081-be190510312d",
      "metadata": {
        "id": "f8359b21-3edb-4dae-9081-be190510312d",
        "outputId": "7a286d47-434d-48aa-e613-eabea6a37296",
        "colab": {
          "base_uri": "https://localhost:8080/",
          "height": 488
        }
      },
      "outputs": [
        {
          "output_type": "execute_result",
          "data": {
            "text/plain": [
              "      Descriptor_MorganFP_0  Descriptor_MorganFP_1  Descriptor_MorganFP_2  \\\n",
              "0                       0.0                    1.0                    0.0   \n",
              "3                       0.0                    0.0                    0.0   \n",
              "4                       0.0                    0.0                    0.0   \n",
              "5                       0.0                    0.0                    0.0   \n",
              "6                       0.0                    1.0                    0.0   \n",
              "...                     ...                    ...                    ...   \n",
              "3824                    0.0                    1.0                    0.0   \n",
              "3826                    0.0                    1.0                    0.0   \n",
              "3827                    0.0                    1.0                    0.0   \n",
              "3828                    0.0                    0.0                    0.0   \n",
              "3830                    0.0                    1.0                    0.0   \n",
              "\n",
              "      Descriptor_MorganFP_3  Descriptor_MorganFP_4  Descriptor_MorganFP_5  \\\n",
              "0                       0.0                    0.0                    1.0   \n",
              "3                       0.0                    0.0                    0.0   \n",
              "4                       0.0                    0.0                    1.0   \n",
              "5                       0.0                    0.0                    0.0   \n",
              "6                       0.0                    1.0                    0.0   \n",
              "...                     ...                    ...                    ...   \n",
              "3824                    0.0                    0.0                    0.0   \n",
              "3826                    0.0                    0.0                    0.0   \n",
              "3827                    0.0                    0.0                    0.0   \n",
              "3828                    0.0                    0.0                    0.0   \n",
              "3830                    0.0                    0.0                    0.0   \n",
              "\n",
              "      Descriptor_MorganFP_6  Descriptor_MorganFP_7  Descriptor_MorganFP_8  \\\n",
              "0                       0.0                    0.0                    0.0   \n",
              "3                       0.0                    0.0                    0.0   \n",
              "4                       0.0                    0.0                    0.0   \n",
              "5                       0.0                    0.0                    0.0   \n",
              "6                       0.0                    0.0                    0.0   \n",
              "...                     ...                    ...                    ...   \n",
              "3824                    0.0                    0.0                    0.0   \n",
              "3826                    0.0                    0.0                    0.0   \n",
              "3827                    0.0                    0.0                    0.0   \n",
              "3828                    0.0                    0.0                    0.0   \n",
              "3830                    0.0                    0.0                    0.0   \n",
              "\n",
              "      Descriptor_MorganFP_9  ...  Descriptor_MorganFP_1014  \\\n",
              "0                       0.0  ...                       0.0   \n",
              "3                       0.0  ...                       0.0   \n",
              "4                       0.0  ...                       0.0   \n",
              "5                       0.0  ...                       0.0   \n",
              "6                       1.0  ...                       0.0   \n",
              "...                     ...  ...                       ...   \n",
              "3824                    1.0  ...                       0.0   \n",
              "3826                    0.0  ...                       0.0   \n",
              "3827                    1.0  ...                       0.0   \n",
              "3828                    0.0  ...                       0.0   \n",
              "3830                    0.0  ...                       0.0   \n",
              "\n",
              "      Descriptor_MorganFP_1015  Descriptor_MorganFP_1016  \\\n",
              "0                          0.0                       0.0   \n",
              "3                          0.0                       0.0   \n",
              "4                          0.0                       0.0   \n",
              "5                          0.0                       0.0   \n",
              "6                          0.0                       0.0   \n",
              "...                        ...                       ...   \n",
              "3824                       0.0                       0.0   \n",
              "3826                       0.0                       0.0   \n",
              "3827                       1.0                       0.0   \n",
              "3828                       0.0                       0.0   \n",
              "3830                       0.0                       0.0   \n",
              "\n",
              "      Descriptor_MorganFP_1017  Descriptor_MorganFP_1018  \\\n",
              "0                          0.0                       0.0   \n",
              "3                          0.0                       0.0   \n",
              "4                          0.0                       0.0   \n",
              "5                          0.0                       0.0   \n",
              "6                          0.0                       0.0   \n",
              "...                        ...                       ...   \n",
              "3824                       0.0                       0.0   \n",
              "3826                       0.0                       0.0   \n",
              "3827                       0.0                       0.0   \n",
              "3828                       0.0                       0.0   \n",
              "3830                       0.0                       0.0   \n",
              "\n",
              "      Descriptor_MorganFP_1019  Descriptor_MorganFP_1020  \\\n",
              "0                          1.0                       0.0   \n",
              "3                          1.0                       0.0   \n",
              "4                          1.0                       0.0   \n",
              "5                          0.0                       0.0   \n",
              "6                          1.0                       0.0   \n",
              "...                        ...                       ...   \n",
              "3824                       1.0                       0.0   \n",
              "3826                       1.0                       0.0   \n",
              "3827                       0.0                       0.0   \n",
              "3828                       0.0                       0.0   \n",
              "3830                       0.0                       0.0   \n",
              "\n",
              "      Descriptor_MorganFP_1021  Descriptor_MorganFP_1022  \\\n",
              "0                          0.0                       0.0   \n",
              "3                          0.0                       0.0   \n",
              "4                          0.0                       0.0   \n",
              "5                          0.0                       0.0   \n",
              "6                          0.0                       0.0   \n",
              "...                        ...                       ...   \n",
              "3824                       0.0                       0.0   \n",
              "3826                       0.0                       0.0   \n",
              "3827                       0.0                       0.0   \n",
              "3828                       0.0                       0.0   \n",
              "3830                       0.0                       0.0   \n",
              "\n",
              "      Descriptor_MorganFP_1023  \n",
              "0                          0.0  \n",
              "3                          0.0  \n",
              "4                          0.0  \n",
              "5                          0.0  \n",
              "6                          0.0  \n",
              "...                        ...  \n",
              "3824                       0.0  \n",
              "3826                       0.0  \n",
              "3827                       0.0  \n",
              "3828                       0.0  \n",
              "3830                       0.0  \n",
              "\n",
              "[2665 rows x 1024 columns]"
            ],
            "text/html": [
              "\n",
              "  <div id=\"df-d96f2977-26d5-4687-ae16-2f6a4c776b0c\">\n",
              "    <div class=\"colab-df-container\">\n",
              "      <div>\n",
              "<style scoped>\n",
              "    .dataframe tbody tr th:only-of-type {\n",
              "        vertical-align: middle;\n",
              "    }\n",
              "\n",
              "    .dataframe tbody tr th {\n",
              "        vertical-align: top;\n",
              "    }\n",
              "\n",
              "    .dataframe thead th {\n",
              "        text-align: right;\n",
              "    }\n",
              "</style>\n",
              "<table border=\"1\" class=\"dataframe\">\n",
              "  <thead>\n",
              "    <tr style=\"text-align: right;\">\n",
              "      <th></th>\n",
              "      <th>Descriptor_MorganFP_0</th>\n",
              "      <th>Descriptor_MorganFP_1</th>\n",
              "      <th>Descriptor_MorganFP_2</th>\n",
              "      <th>Descriptor_MorganFP_3</th>\n",
              "      <th>Descriptor_MorganFP_4</th>\n",
              "      <th>Descriptor_MorganFP_5</th>\n",
              "      <th>Descriptor_MorganFP_6</th>\n",
              "      <th>Descriptor_MorganFP_7</th>\n",
              "      <th>Descriptor_MorganFP_8</th>\n",
              "      <th>Descriptor_MorganFP_9</th>\n",
              "      <th>...</th>\n",
              "      <th>Descriptor_MorganFP_1014</th>\n",
              "      <th>Descriptor_MorganFP_1015</th>\n",
              "      <th>Descriptor_MorganFP_1016</th>\n",
              "      <th>Descriptor_MorganFP_1017</th>\n",
              "      <th>Descriptor_MorganFP_1018</th>\n",
              "      <th>Descriptor_MorganFP_1019</th>\n",
              "      <th>Descriptor_MorganFP_1020</th>\n",
              "      <th>Descriptor_MorganFP_1021</th>\n",
              "      <th>Descriptor_MorganFP_1022</th>\n",
              "      <th>Descriptor_MorganFP_1023</th>\n",
              "    </tr>\n",
              "  </thead>\n",
              "  <tbody>\n",
              "    <tr>\n",
              "      <th>0</th>\n",
              "      <td>0.0</td>\n",
              "      <td>1.0</td>\n",
              "      <td>0.0</td>\n",
              "      <td>0.0</td>\n",
              "      <td>0.0</td>\n",
              "      <td>1.0</td>\n",
              "      <td>0.0</td>\n",
              "      <td>0.0</td>\n",
              "      <td>0.0</td>\n",
              "      <td>0.0</td>\n",
              "      <td>...</td>\n",
              "      <td>0.0</td>\n",
              "      <td>0.0</td>\n",
              "      <td>0.0</td>\n",
              "      <td>0.0</td>\n",
              "      <td>0.0</td>\n",
              "      <td>1.0</td>\n",
              "      <td>0.0</td>\n",
              "      <td>0.0</td>\n",
              "      <td>0.0</td>\n",
              "      <td>0.0</td>\n",
              "    </tr>\n",
              "    <tr>\n",
              "      <th>3</th>\n",
              "      <td>0.0</td>\n",
              "      <td>0.0</td>\n",
              "      <td>0.0</td>\n",
              "      <td>0.0</td>\n",
              "      <td>0.0</td>\n",
              "      <td>0.0</td>\n",
              "      <td>0.0</td>\n",
              "      <td>0.0</td>\n",
              "      <td>0.0</td>\n",
              "      <td>0.0</td>\n",
              "      <td>...</td>\n",
              "      <td>0.0</td>\n",
              "      <td>0.0</td>\n",
              "      <td>0.0</td>\n",
              "      <td>0.0</td>\n",
              "      <td>0.0</td>\n",
              "      <td>1.0</td>\n",
              "      <td>0.0</td>\n",
              "      <td>0.0</td>\n",
              "      <td>0.0</td>\n",
              "      <td>0.0</td>\n",
              "    </tr>\n",
              "    <tr>\n",
              "      <th>4</th>\n",
              "      <td>0.0</td>\n",
              "      <td>0.0</td>\n",
              "      <td>0.0</td>\n",
              "      <td>0.0</td>\n",
              "      <td>0.0</td>\n",
              "      <td>1.0</td>\n",
              "      <td>0.0</td>\n",
              "      <td>0.0</td>\n",
              "      <td>0.0</td>\n",
              "      <td>0.0</td>\n",
              "      <td>...</td>\n",
              "      <td>0.0</td>\n",
              "      <td>0.0</td>\n",
              "      <td>0.0</td>\n",
              "      <td>0.0</td>\n",
              "      <td>0.0</td>\n",
              "      <td>1.0</td>\n",
              "      <td>0.0</td>\n",
              "      <td>0.0</td>\n",
              "      <td>0.0</td>\n",
              "      <td>0.0</td>\n",
              "    </tr>\n",
              "    <tr>\n",
              "      <th>5</th>\n",
              "      <td>0.0</td>\n",
              "      <td>0.0</td>\n",
              "      <td>0.0</td>\n",
              "      <td>0.0</td>\n",
              "      <td>0.0</td>\n",
              "      <td>0.0</td>\n",
              "      <td>0.0</td>\n",
              "      <td>0.0</td>\n",
              "      <td>0.0</td>\n",
              "      <td>0.0</td>\n",
              "      <td>...</td>\n",
              "      <td>0.0</td>\n",
              "      <td>0.0</td>\n",
              "      <td>0.0</td>\n",
              "      <td>0.0</td>\n",
              "      <td>0.0</td>\n",
              "      <td>0.0</td>\n",
              "      <td>0.0</td>\n",
              "      <td>0.0</td>\n",
              "      <td>0.0</td>\n",
              "      <td>0.0</td>\n",
              "    </tr>\n",
              "    <tr>\n",
              "      <th>6</th>\n",
              "      <td>0.0</td>\n",
              "      <td>1.0</td>\n",
              "      <td>0.0</td>\n",
              "      <td>0.0</td>\n",
              "      <td>1.0</td>\n",
              "      <td>0.0</td>\n",
              "      <td>0.0</td>\n",
              "      <td>0.0</td>\n",
              "      <td>0.0</td>\n",
              "      <td>1.0</td>\n",
              "      <td>...</td>\n",
              "      <td>0.0</td>\n",
              "      <td>0.0</td>\n",
              "      <td>0.0</td>\n",
              "      <td>0.0</td>\n",
              "      <td>0.0</td>\n",
              "      <td>1.0</td>\n",
              "      <td>0.0</td>\n",
              "      <td>0.0</td>\n",
              "      <td>0.0</td>\n",
              "      <td>0.0</td>\n",
              "    </tr>\n",
              "    <tr>\n",
              "      <th>...</th>\n",
              "      <td>...</td>\n",
              "      <td>...</td>\n",
              "      <td>...</td>\n",
              "      <td>...</td>\n",
              "      <td>...</td>\n",
              "      <td>...</td>\n",
              "      <td>...</td>\n",
              "      <td>...</td>\n",
              "      <td>...</td>\n",
              "      <td>...</td>\n",
              "      <td>...</td>\n",
              "      <td>...</td>\n",
              "      <td>...</td>\n",
              "      <td>...</td>\n",
              "      <td>...</td>\n",
              "      <td>...</td>\n",
              "      <td>...</td>\n",
              "      <td>...</td>\n",
              "      <td>...</td>\n",
              "      <td>...</td>\n",
              "      <td>...</td>\n",
              "    </tr>\n",
              "    <tr>\n",
              "      <th>3824</th>\n",
              "      <td>0.0</td>\n",
              "      <td>1.0</td>\n",
              "      <td>0.0</td>\n",
              "      <td>0.0</td>\n",
              "      <td>0.0</td>\n",
              "      <td>0.0</td>\n",
              "      <td>0.0</td>\n",
              "      <td>0.0</td>\n",
              "      <td>0.0</td>\n",
              "      <td>1.0</td>\n",
              "      <td>...</td>\n",
              "      <td>0.0</td>\n",
              "      <td>0.0</td>\n",
              "      <td>0.0</td>\n",
              "      <td>0.0</td>\n",
              "      <td>0.0</td>\n",
              "      <td>1.0</td>\n",
              "      <td>0.0</td>\n",
              "      <td>0.0</td>\n",
              "      <td>0.0</td>\n",
              "      <td>0.0</td>\n",
              "    </tr>\n",
              "    <tr>\n",
              "      <th>3826</th>\n",
              "      <td>0.0</td>\n",
              "      <td>1.0</td>\n",
              "      <td>0.0</td>\n",
              "      <td>0.0</td>\n",
              "      <td>0.0</td>\n",
              "      <td>0.0</td>\n",
              "      <td>0.0</td>\n",
              "      <td>0.0</td>\n",
              "      <td>0.0</td>\n",
              "      <td>0.0</td>\n",
              "      <td>...</td>\n",
              "      <td>0.0</td>\n",
              "      <td>0.0</td>\n",
              "      <td>0.0</td>\n",
              "      <td>0.0</td>\n",
              "      <td>0.0</td>\n",
              "      <td>1.0</td>\n",
              "      <td>0.0</td>\n",
              "      <td>0.0</td>\n",
              "      <td>0.0</td>\n",
              "      <td>0.0</td>\n",
              "    </tr>\n",
              "    <tr>\n",
              "      <th>3827</th>\n",
              "      <td>0.0</td>\n",
              "      <td>1.0</td>\n",
              "      <td>0.0</td>\n",
              "      <td>0.0</td>\n",
              "      <td>0.0</td>\n",
              "      <td>0.0</td>\n",
              "      <td>0.0</td>\n",
              "      <td>0.0</td>\n",
              "      <td>0.0</td>\n",
              "      <td>1.0</td>\n",
              "      <td>...</td>\n",
              "      <td>0.0</td>\n",
              "      <td>1.0</td>\n",
              "      <td>0.0</td>\n",
              "      <td>0.0</td>\n",
              "      <td>0.0</td>\n",
              "      <td>0.0</td>\n",
              "      <td>0.0</td>\n",
              "      <td>0.0</td>\n",
              "      <td>0.0</td>\n",
              "      <td>0.0</td>\n",
              "    </tr>\n",
              "    <tr>\n",
              "      <th>3828</th>\n",
              "      <td>0.0</td>\n",
              "      <td>0.0</td>\n",
              "      <td>0.0</td>\n",
              "      <td>0.0</td>\n",
              "      <td>0.0</td>\n",
              "      <td>0.0</td>\n",
              "      <td>0.0</td>\n",
              "      <td>0.0</td>\n",
              "      <td>0.0</td>\n",
              "      <td>0.0</td>\n",
              "      <td>...</td>\n",
              "      <td>0.0</td>\n",
              "      <td>0.0</td>\n",
              "      <td>0.0</td>\n",
              "      <td>0.0</td>\n",
              "      <td>0.0</td>\n",
              "      <td>0.0</td>\n",
              "      <td>0.0</td>\n",
              "      <td>0.0</td>\n",
              "      <td>0.0</td>\n",
              "      <td>0.0</td>\n",
              "    </tr>\n",
              "    <tr>\n",
              "      <th>3830</th>\n",
              "      <td>0.0</td>\n",
              "      <td>1.0</td>\n",
              "      <td>0.0</td>\n",
              "      <td>0.0</td>\n",
              "      <td>0.0</td>\n",
              "      <td>0.0</td>\n",
              "      <td>0.0</td>\n",
              "      <td>0.0</td>\n",
              "      <td>0.0</td>\n",
              "      <td>0.0</td>\n",
              "      <td>...</td>\n",
              "      <td>0.0</td>\n",
              "      <td>0.0</td>\n",
              "      <td>0.0</td>\n",
              "      <td>0.0</td>\n",
              "      <td>0.0</td>\n",
              "      <td>0.0</td>\n",
              "      <td>0.0</td>\n",
              "      <td>0.0</td>\n",
              "      <td>0.0</td>\n",
              "      <td>0.0</td>\n",
              "    </tr>\n",
              "  </tbody>\n",
              "</table>\n",
              "<p>2665 rows × 1024 columns</p>\n",
              "</div>\n",
              "      <button class=\"colab-df-convert\" onclick=\"convertToInteractive('df-d96f2977-26d5-4687-ae16-2f6a4c776b0c')\"\n",
              "              title=\"Convert this dataframe to an interactive table.\"\n",
              "              style=\"display:none;\">\n",
              "        \n",
              "  <svg xmlns=\"http://www.w3.org/2000/svg\" height=\"24px\"viewBox=\"0 0 24 24\"\n",
              "       width=\"24px\">\n",
              "    <path d=\"M0 0h24v24H0V0z\" fill=\"none\"/>\n",
              "    <path d=\"M18.56 5.44l.94 2.06.94-2.06 2.06-.94-2.06-.94-.94-2.06-.94 2.06-2.06.94zm-11 1L8.5 8.5l.94-2.06 2.06-.94-2.06-.94L8.5 2.5l-.94 2.06-2.06.94zm10 10l.94 2.06.94-2.06 2.06-.94-2.06-.94-.94-2.06-.94 2.06-2.06.94z\"/><path d=\"M17.41 7.96l-1.37-1.37c-.4-.4-.92-.59-1.43-.59-.52 0-1.04.2-1.43.59L10.3 9.45l-7.72 7.72c-.78.78-.78 2.05 0 2.83L4 21.41c.39.39.9.59 1.41.59.51 0 1.02-.2 1.41-.59l7.78-7.78 2.81-2.81c.8-.78.8-2.07 0-2.86zM5.41 20L4 18.59l7.72-7.72 1.47 1.35L5.41 20z\"/>\n",
              "  </svg>\n",
              "      </button>\n",
              "      \n",
              "  <style>\n",
              "    .colab-df-container {\n",
              "      display:flex;\n",
              "      flex-wrap:wrap;\n",
              "      gap: 12px;\n",
              "    }\n",
              "\n",
              "    .colab-df-convert {\n",
              "      background-color: #E8F0FE;\n",
              "      border: none;\n",
              "      border-radius: 50%;\n",
              "      cursor: pointer;\n",
              "      display: none;\n",
              "      fill: #1967D2;\n",
              "      height: 32px;\n",
              "      padding: 0 0 0 0;\n",
              "      width: 32px;\n",
              "    }\n",
              "\n",
              "    .colab-df-convert:hover {\n",
              "      background-color: #E2EBFA;\n",
              "      box-shadow: 0px 1px 2px rgba(60, 64, 67, 0.3), 0px 1px 3px 1px rgba(60, 64, 67, 0.15);\n",
              "      fill: #174EA6;\n",
              "    }\n",
              "\n",
              "    [theme=dark] .colab-df-convert {\n",
              "      background-color: #3B4455;\n",
              "      fill: #D2E3FC;\n",
              "    }\n",
              "\n",
              "    [theme=dark] .colab-df-convert:hover {\n",
              "      background-color: #434B5C;\n",
              "      box-shadow: 0px 1px 3px 1px rgba(0, 0, 0, 0.15);\n",
              "      filter: drop-shadow(0px 1px 2px rgba(0, 0, 0, 0.3));\n",
              "      fill: #FFFFFF;\n",
              "    }\n",
              "  </style>\n",
              "\n",
              "      <script>\n",
              "        const buttonEl =\n",
              "          document.querySelector('#df-d96f2977-26d5-4687-ae16-2f6a4c776b0c button.colab-df-convert');\n",
              "        buttonEl.style.display =\n",
              "          google.colab.kernel.accessAllowed ? 'block' : 'none';\n",
              "\n",
              "        async function convertToInteractive(key) {\n",
              "          const element = document.querySelector('#df-d96f2977-26d5-4687-ae16-2f6a4c776b0c');\n",
              "          const dataTable =\n",
              "            await google.colab.kernel.invokeFunction('convertToInteractive',\n",
              "                                                     [key], {});\n",
              "          if (!dataTable) return;\n",
              "\n",
              "          const docLinkHtml = 'Like what you see? Visit the ' +\n",
              "            '<a target=\"_blank\" href=https://colab.research.google.com/notebooks/data_table.ipynb>data table notebook</a>'\n",
              "            + ' to learn more about interactive tables.';\n",
              "          element.innerHTML = '';\n",
              "          dataTable['output_type'] = 'display_data';\n",
              "          await google.colab.output.renderOutput(dataTable, element);\n",
              "          const docLink = document.createElement('div');\n",
              "          docLink.innerHTML = docLinkHtml;\n",
              "          element.appendChild(docLink);\n",
              "        }\n",
              "      </script>\n",
              "    </div>\n",
              "  </div>\n",
              "  "
            ]
          },
          "metadata": {},
          "execution_count": 15
        }
      ],
      "source": [
        "X = df_train[df_train.columns[df_train.columns.str.startswith(\"Descriptor_\")]]\n",
        "X"
      ]
    },
    {
      "cell_type": "markdown",
      "id": "ed223983-633b-46dd-b06b-b28fb8778979",
      "metadata": {
        "id": "ed223983-633b-46dd-b06b-b28fb8778979"
      },
      "source": [
        "The classification is just the `ActivityClass` column:"
      ]
    },
    {
      "cell_type": "code",
      "execution_count": 16,
      "id": "84db65cc-fe48-407a-810e-f1e227fc5952",
      "metadata": {
        "id": "84db65cc-fe48-407a-810e-f1e227fc5952",
        "outputId": "e8af7a78-0aef-4cac-f142-0f6ebf222b5e",
        "colab": {
          "base_uri": "https://localhost:8080/"
        }
      },
      "outputs": [
        {
          "output_type": "execute_result",
          "data": {
            "text/plain": [
              "0       False\n",
              "3       False\n",
              "4        True\n",
              "5       False\n",
              "6       False\n",
              "        ...  \n",
              "3824    False\n",
              "3826     True\n",
              "3827     True\n",
              "3828     True\n",
              "3830     True\n",
              "Name: ActivityClass, Length: 2665, dtype: bool"
            ]
          },
          "metadata": {},
          "execution_count": 16
        }
      ],
      "source": [
        "y = df_train.ActivityClass\n",
        "y"
      ]
    },
    {
      "cell_type": "markdown",
      "id": "bb640a16-b04a-45be-9681-7a437a7b6574",
      "metadata": {
        "id": "bb640a16-b04a-45be-9681-7a437a7b6574"
      },
      "source": [
        "Finally, we can train our classifier. That alone is usually a lengthy process of trial and error during which you may want to tune the kind of machine learning algorithms you want to use and their hyper-parameters (i.e. `n_estimators` for the `ExtraTreesClassifier` algorithm we will be using). However, you may also want to explore different validation strategies as well as data balancing methods as hinted at previously. To make this tutorial as simple as possible, we will just opt for a simple n-fold cross-validation approach. \n",
        "\n",
        "First, let us define our model:"
      ]
    },
    {
      "cell_type": "code",
      "execution_count": 17,
      "id": "0da8bcc6-6681-4564-b90c-d6eeecb936d4",
      "metadata": {
        "id": "0da8bcc6-6681-4564-b90c-d6eeecb936d4"
      },
      "outputs": [],
      "source": [
        "from sklearn.ensemble import ExtraTreesClassifier\n",
        "\n",
        "classifier = ExtraTreesClassifier(n_estimators=250)"
      ]
    },
    {
      "cell_type": "markdown",
      "id": "7210c2f4-4126-466f-831e-92d231a355d4",
      "metadata": {
        "id": "7210c2f4-4126-466f-831e-92d231a355d4"
      },
      "source": [
        "We will fix the parameters of this models for simplicity and dive right into [cross-validation](https://en.wikipedia.org/wiki/Cross-validation_(statistics)). Under this scheme, the model is trained multiple times and its performance validated n times:\n",
        "\n",
        "![CV](https://upload.wikimedia.org/wikipedia/commons/1/1c/K-fold_cross_validation_EN.jpg)\n",
        "\n",
        "Picture Credit: [WikiMedia Commons](https://commons.wikimedia.org/wiki/File:K-fold_cross_validation_EN.svg), Gufosowa\n",
        "\n",
        "The purpose of this exercise is to give us a good idea of the algorithm's ability to learn the QSAR patterns in the data and to accurately predict the `ActivityClass` for unseen data points. It is a common strategy to compare multiple models or the same model with different hyper-parameters. The [`scikit-learn`](https://scikit-learn.org/stable/modules/cross_validation.html) documentation provides and excellent example that allows us to just plugin our classifier into the workflow:"
      ]
    },
    {
      "cell_type": "code",
      "execution_count": 18,
      "id": "5c71c67f-8dec-4f32-9fb0-70d564bdb7f0",
      "metadata": {
        "id": "5c71c67f-8dec-4f32-9fb0-70d564bdb7f0",
        "outputId": "ba3ad838-9569-40bc-c06b-e6d26f4f6d3c",
        "colab": {
          "base_uri": "https://localhost:8080/",
          "height": 295
        }
      },
      "outputs": [
        {
          "output_type": "display_data",
          "data": {
            "text/plain": [
              "<Figure size 432x288 with 1 Axes>"
            ],
            "image/png": "[encoded data removed]"
          },
          "metadata": {
            "needs_background": "light"
          }
        }
      ],
      "source": [
        "# adapted from https://scikit-learn.org/stable/modules/cross_validation.html\n",
        "\n",
        "import matplotlib.pyplot as plt\n",
        "import numpy as np\n",
        "\n",
        "from sklearn.ensemble import ExtraTreesClassifier\n",
        "from sklearn.metrics import auc\n",
        "from sklearn.metrics import RocCurveDisplay\n",
        "from sklearn.model_selection import StratifiedKFold\n",
        "\n",
        "# Run classifier with cross-validation and plot ROC curves\n",
        "cv = StratifiedKFold(n_splits=5)\n",
        "\n",
        "tprs = []\n",
        "aucs = []\n",
        "mean_fpr = np.linspace(0, 1, 100)\n",
        "\n",
        "fig, ax = plt.subplots()\n",
        "for i, (train, test) in enumerate(cv.split(X, y)):\n",
        "    classifier.fit(X.iloc[train], y.iloc[train])\n",
        "    viz = RocCurveDisplay.from_estimator(\n",
        "        classifier,\n",
        "        X.iloc[test],\n",
        "        y.iloc[test],\n",
        "        name=\"ROC fold {}\".format(i),\n",
        "        alpha=0.3,\n",
        "        lw=1,\n",
        "        ax=ax,\n",
        "    )\n",
        "    interp_tpr = np.interp(mean_fpr, viz.fpr, viz.tpr)\n",
        "    interp_tpr[0] = 0.0\n",
        "    tprs.append(interp_tpr)\n",
        "    aucs.append(viz.roc_auc)\n",
        "\n",
        "ax.plot([0, 1], [0, 1], linestyle=\"--\", lw=2, color=\"r\", label=\"Chance\", alpha=0.8)\n",
        "\n",
        "mean_tpr = np.mean(tprs, axis=0)\n",
        "mean_tpr[-1] = 1.0\n",
        "mean_auc = auc(mean_fpr, mean_tpr)\n",
        "std_auc = np.std(aucs)\n",
        "ax.plot(\n",
        "    mean_fpr,\n",
        "    mean_tpr,\n",
        "    color=\"b\",\n",
        "    label=r\"Mean ROC (AUC = %0.2f $\\pm$ %0.2f)\" % (mean_auc, std_auc),\n",
        "    lw=2,\n",
        "    alpha=0.8,\n",
        ")\n",
        "\n",
        "std_tpr = np.std(tprs, axis=0)\n",
        "tprs_upper = np.minimum(mean_tpr + std_tpr, 1)\n",
        "tprs_lower = np.maximum(mean_tpr - std_tpr, 0)\n",
        "ax.fill_between(\n",
        "    mean_fpr,\n",
        "    tprs_lower,\n",
        "    tprs_upper,\n",
        "    color=\"grey\",\n",
        "    alpha=0.2,\n",
        "    label=r\"$\\pm$ 1 std. dev.\",\n",
        ")\n",
        "\n",
        "ax.set(\n",
        "    xlim=[-0.05, 1.05],\n",
        "    ylim=[-0.05, 1.05],\n",
        "    title=\"Receiver Operating Characteristic\",\n",
        ")\n",
        "ax.legend(loc=\"lower right\")\n",
        "plt.show()"
      ]
    },
    {
      "cell_type": "markdown",
      "id": "fb20b06d-2069-4764-b48e-b19c67dd0463",
      "metadata": {
        "id": "fb20b06d-2069-4764-b48e-b19c67dd0463"
      },
      "source": [
        "Good news! Our model on average performed much better than random (red dashed line) and it was also stable across folds (small variation from the mean ROC in blue). Therefore, we can now be confident that this model could also perform well on our test data. All we have to do is find out at this point.\n",
        "\n",
        "## Validation on the Test Set\n",
        "\n",
        "Finally, it is time to use our test set and find out how predictive our model really is. First, we train the model on the entire training set:"
      ]
    },
    {
      "cell_type": "code",
      "execution_count": 19,
      "id": "f0ccfce3-00b5-46ed-bc6b-898efb1b108e",
      "metadata": {
        "id": "f0ccfce3-00b5-46ed-bc6b-898efb1b108e"
      },
      "outputs": [],
      "source": [
        "model = classifier.fit(X, y)"
      ]
    },
    {
      "cell_type": "markdown",
      "id": "156f8a11-e7b3-4f60-ad87-d32d8c873c23",
      "metadata": {
        "id": "156f8a11-e7b3-4f60-ad87-d32d8c873c23"
      },
      "source": [
        "and then we make the predictions for our test data:"
      ]
    },
    {
      "cell_type": "code",
      "execution_count": 20,
      "id": "2e3ef2cb-681a-4ccd-a41f-fddb8d37941d",
      "metadata": {
        "id": "2e3ef2cb-681a-4ccd-a41f-fddb8d37941d",
        "outputId": "2965f1a1-fa58-4d19-a7e4-d62b1da16966",
        "colab": {
          "base_uri": "https://localhost:8080/"
        }
      },
      "outputs": [
        {
          "output_type": "execute_result",
          "data": {
            "text/plain": [
              "array([ True,  True,  True,  True,  True, False,  True,  True, False,\n",
              "       False])"
            ]
          },
          "metadata": {},
          "execution_count": 20
        }
      ],
      "source": [
        "X_test = df_test[df_test.columns[df_test.columns.str.startswith(\"Descriptor_\")]]\n",
        "\n",
        "predictions = classifier.predict(X_test)\n",
        "predictions[0:10]"
      ]
    },
    {
      "cell_type": "markdown",
      "id": "5166ffa5-ef90-449e-b085-1756ecae2ddd",
      "metadata": {
        "id": "5166ffa5-ef90-449e-b085-1756ecae2ddd"
      },
      "source": [
        "This gives us directly the labels the model thinks our test data should have, but we can also get a more fine-grained idea by extracting the probabilites as well:"
      ]
    },
    {
      "cell_type": "code",
      "execution_count": 21,
      "id": "f255aa23-3c6b-45d4-abfd-ffd7dcb6a7a5",
      "metadata": {
        "id": "f255aa23-3c6b-45d4-abfd-ffd7dcb6a7a5",
        "outputId": "0e5ef15b-0715-4c04-b717-0c2e84bdb3cb",
        "colab": {
          "base_uri": "https://localhost:8080/"
        }
      },
      "outputs": [
        {
          "output_type": "execute_result",
          "data": {
            "text/plain": [
              "array([0.928, 0.932, 0.596, 0.92 , 0.792, 0.474, 0.712, 0.856, 0.413,\n",
              "       0.113])"
            ]
          },
          "metadata": {},
          "execution_count": 21
        }
      ],
      "source": [
        "predictions_proba = classifier.predict_proba(X_test)[::,1]\n",
        "predictions_proba[0:10]"
      ]
    },
    {
      "cell_type": "markdown",
      "id": "d89c1351-e5a7-494d-8bb7-c2a5be6cb5f4",
      "metadata": {
        "id": "d89c1351-e5a7-494d-8bb7-c2a5be6cb5f4"
      },
      "source": [
        "These are numbers between 0 and 1 that indicate how the model is confident about the compound being active, large values mean the model is fairly confident about the compound being an BACE1 binder. \n",
        "\n",
        "Finally, we compare these predictions with the true values from the test set:"
      ]
    },
    {
      "cell_type": "code",
      "execution_count": 22,
      "id": "a644444d-a214-4ea0-9381-345d5f744415",
      "metadata": {
        "id": "a644444d-a214-4ea0-9381-345d5f744415",
        "outputId": "b028f65a-207a-4fc6-f103-9755a1337897",
        "colab": {
          "base_uri": "https://localhost:8080/"
        }
      },
      "outputs": [
        {
          "output_type": "execute_result",
          "data": {
            "text/plain": [
              "1        True\n",
              "2        True\n",
              "10       True\n",
              "11       True\n",
              "12      False\n",
              "        ...  \n",
              "3814    False\n",
              "3821     True\n",
              "3823     True\n",
              "3825     True\n",
              "3829    False\n",
              "Name: ActivityClass, Length: 1166, dtype: bool"
            ]
          },
          "metadata": {},
          "execution_count": 22
        }
      ],
      "source": [
        "y_test = df_test.ActivityClass\n",
        "y_test"
      ]
    },
    {
      "cell_type": "markdown",
      "id": "51b80ca0-f3fa-48da-855b-c3c2729db653",
      "metadata": {
        "id": "51b80ca0-f3fa-48da-855b-c3c2729db653"
      },
      "source": [
        "The probabilities effectively give us a ranking of the compounds from the most likely actives to the least likely and we can use them to draw an ROC curve like we saw during cross-validation:"
      ]
    },
    {
      "cell_type": "code",
      "execution_count": 23,
      "id": "5799380a-908c-45de-b41e-f8d4a7662aac",
      "metadata": {
        "id": "5799380a-908c-45de-b41e-f8d4a7662aac",
        "outputId": "406e0654-d73e-484d-a33c-e3a12049e6a5",
        "colab": {
          "base_uri": "https://localhost:8080/",
          "height": 279
        }
      },
      "outputs": [
        {
          "output_type": "display_data",
          "data": {
            "text/plain": [
              "<Figure size 432x288 with 1 Axes>"
            ],
            "image/png": "[encoded data removed]"
          },
          "metadata": {
            "needs_background": "light"
          }
        }
      ],
      "source": [
        "from sklearn.metrics import roc_curve, roc_auc_score\n",
        "\n",
        "fpr, tpr, _ = roc_curve(y_test,  predictions_proba)\n",
        "auc = roc_auc_score(y_test, predictions_proba)\n",
        "\n",
        "plt.plot(fpr,tpr, label=f\"AUC={auc:2.2}\")\n",
        "plt.plot([0, 1], [0, 1], linestyle=\"--\", lw=2, color=\"r\", label=\"Chance\", alpha=0.8)\n",
        "plt.ylabel('True Positive Rate')\n",
        "plt.xlabel('False Positive Rate')\n",
        "plt.legend(loc=4)\n",
        "plt.show()"
      ]
    },
    {
      "cell_type": "markdown",
      "id": "67420cd2-714f-4187-926c-6fe5521b3eec",
      "metadata": {
        "id": "67420cd2-714f-4187-926c-6fe5521b3eec"
      },
      "source": [
        "Clearly, our model has difficulties in this data set and even though the AUC is reasonably high, the compounds ranked the highest (left part of the curve) are not always the actives. This is very common to see in virtual screening. The highest ranking compounds are not always the active ones, but we can still see the model gives us significant enrichment when compared with a random model that would draw compounds by chance (red line).\n",
        "\n",
        "---\n",
        "*Same in the case of this project; reasonable AUC, but curve not very high at left part.*\n",
        "\n",
        "<br>\n",
        "\n",
        "We can calculate many classification metrics this way and evaluate various aspects of our model. For example, we can directly use the predictions to calculate Matthew's correlation coefficient that gives us a balanced score of how the classifier can label the data: "
      ]
    },
    {
      "cell_type": "code",
      "execution_count": 24,
      "id": "4b51a8c0-b302-4d35-ac39-71f67b3bb584",
      "metadata": {
        "id": "4b51a8c0-b302-4d35-ac39-71f67b3bb584",
        "outputId": "bdf5caba-3ccd-4d53-c49e-394b41cb0f2b",
        "colab": {
          "base_uri": "https://localhost:8080/"
        }
      },
      "outputs": [
        {
          "output_type": "execute_result",
          "data": {
            "text/plain": [
              "0.5232970982506775"
            ]
          },
          "metadata": {},
          "execution_count": 24
        }
      ],
      "source": [
        "from sklearn.metrics import matthews_corrcoef\n",
        "\n",
        "matthews_corrcoef(y_test, predictions)"
      ]
    },
    {
      "cell_type": "markdown",
      "id": "0b41a2f6-1349-4578-b9a1-2c1b7e87357c",
      "metadata": {
        "id": "0b41a2f6-1349-4578-b9a1-2c1b7e87357c"
      },
      "source": [
        "The best score the model could obtain is 1 so even though this is not ideal, it is still not bad because the value of 0 would be a random model here. With this, let's deem our model fit for use in future endeavors and train the final version on the whole data set:\n",
        "\n",
        "---\n",
        "*Same for this project; a matthews coerrelation coefficient of 0.52 is not very high, but it faily decent*"
      ]
    },
    {
      "cell_type": "code",
      "execution_count": 25,
      "id": "de1ba263-b4da-4034-8bb4-09e7ad736450",
      "metadata": {
        "id": "de1ba263-b4da-4034-8bb4-09e7ad736450"
      },
      "outputs": [],
      "source": [
        "X = dataset.getDescriptors()\n",
        "y = dataset.getSubset(('ActivityClass',)).iloc[::,0]"
      ]
    },
    {
      "cell_type": "code",
      "execution_count": 26,
      "id": "ee45b055-3e29-435a-a8e8-17517bb032ba",
      "metadata": {
        "id": "ee45b055-3e29-435a-a8e8-17517bb032ba",
        "outputId": "bb46ac9d-1166-4b19-d078-bff88d47614e",
        "colab": {
          "base_uri": "https://localhost:8080/"
        }
      },
      "outputs": [
        {
          "output_type": "execute_result",
          "data": {
            "text/plain": [
              "ExtraTreesClassifier(n_estimators=250)"
            ]
          },
          "metadata": {},
          "execution_count": 26
        }
      ],
      "source": [
        "classifier.fit(X, y)\n",
        "classifier"
      ]
    },
    {
      "cell_type": "markdown",
      "id": "26566e43-4214-4725-95c1-f19d0b5bf432",
      "metadata": {
        "id": "26566e43-4214-4725-95c1-f19d0b5bf432"
      },
      "source": [
        "This is our final model so we might want to save it for future use:"
      ]
    },
    {
      "cell_type": "code",
      "execution_count": 27,
      "id": "b8d2f56f-374c-4d8e-be98-abf90ef7af0c",
      "metadata": {
        "id": "b8d2f56f-374c-4d8e-be98-abf90ef7af0c",
        "outputId": "d807ec7b-b5da-44cc-8b84-7083e5ae8b96",
        "colab": {
          "base_uri": "https://localhost:8080/"
        }
      },
      "outputs": [
        {
          "output_type": "execute_result",
          "data": {
            "text/plain": [
              "['data/qsar/models/BACE_CLS_ET_250.pickle']"
            ]
          },
          "metadata": {},
          "execution_count": 27
        }
      ],
      "source": [
        "import joblib\n",
        "import os\n",
        "\n",
        "data_dir = 'data/qsar/models/'\n",
        "data_file = os.path.join(data_dir, 'BACE_CLS_ET_250.pickle')\n",
        "os.makedirs(data_dir, exist_ok=True)\n",
        "joblib.dump(classifier, data_file)"
      ]
    },
    {
      "cell_type": "markdown",
      "id": "ec1555f3-cb56-4180-bb31-3a2d2c68e18a",
      "metadata": {
        "id": "ec1555f3-cb56-4180-bb31-3a2d2c68e18a"
      },
      "source": [
        "This means we can easily load it whenever we need it in this tutorial, which will come right in the [next section](de_novo.ipynb):"
      ]
    },
    {
      "cell_type": "code",
      "execution_count": 28,
      "id": "8b4d5c93-58c7-4af7-b3fa-f93d2a7f7a32",
      "metadata": {
        "id": "8b4d5c93-58c7-4af7-b3fa-f93d2a7f7a32",
        "outputId": "cb157534-ae1d-4f29-f01a-03f8fc08a8c1",
        "colab": {
          "base_uri": "https://localhost:8080/"
        }
      },
      "outputs": [
        {
          "output_type": "execute_result",
          "data": {
            "text/plain": [
              "ExtraTreesClassifier(n_estimators=250)"
            ]
          },
          "metadata": {},
          "execution_count": 28
        }
      ],
      "source": [
        "model = joblib.load(data_file)\n",
        "model"
      ]
    },
    {
      "cell_type": "code",
      "execution_count": null,
      "id": "e99488e1-9f96-4d02-a51a-351bdc6a97e4",
      "metadata": {
        "id": "e99488e1-9f96-4d02-a51a-351bdc6a97e4"
      },
      "outputs": [],
      "source": []
    }
  ],
  "metadata": {
    "kernelspec": {
      "display_name": "Python 3 (ipykernel)",
      "language": "python",
      "name": "python3"
    },
    "language_info": {
      "codemirror_mode": {
        "name": "ipython",
        "version": 3
      },
      "file_extension": ".py",
      "mimetype": "text/x-python",
      "name": "python",
      "nbconvert_exporter": "python",
      "pygments_lexer": "ipython3",
      "version": "3.9.13"
    },
    "colab": {
      "provenance": [],
      "collapsed_sections": []
    },
    "accelerator": "GPU"
  },
  "nbformat": 4,
  "nbformat_minor": 5
}