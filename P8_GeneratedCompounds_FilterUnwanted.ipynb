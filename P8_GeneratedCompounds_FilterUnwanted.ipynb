{
 "cells": [
  {
   "cell_type": "markdown",
   "id": "762419b9-60be-4dba-ae52-61618b0ac33b",
   "metadata": {},
   "source": [
    "# Part 7: Filter generated compounds for PAINS and other unwanted substructures"
   ]
  },
  {
   "cell_type": "markdown",
   "id": "ea9de04b",
   "metadata": {},
   "source": [
    "For drug-like novel compounds it is also important that they do not have unwanted side effects. Therefore the generated molecules will be filtered for PAINS and other unwanted substructures. This will be performed in the same way as in part 3 with the ChEMBL bioactivity data. "
   ]
  },
  {
   "cell_type": "markdown",
   "id": "c651087f-5cd9-46e8-a436-a89d0a0a0f29",
   "metadata": {},
   "source": [
    "Import required libraries"
   ]
  },
  {
   "cell_type": "code",
   "execution_count": 1,
   "id": "3e22da42-776c-4faa-91ca-403c9428f3de",
   "metadata": {},
   "outputs": [],
   "source": [
    "from pathlib import Path\n",
    "\n",
    "import pandas as pd\n",
    "from tqdm.auto import tqdm\n",
    "from rdkit import Chem\n",
    "from rdkit.Chem import PandasTools\n",
    "from rdkit.Chem.FilterCatalog import FilterCatalog, FilterCatalogParams"
   ]
  },
  {
   "cell_type": "markdown",
   "id": "2f0ff1d7-2854-4fa4-b5ef-317db0b63cfa",
   "metadata": {},
   "source": [
    "Define paths"
   ]
  },
  {
   "cell_type": "code",
   "execution_count": 2,
   "id": "7bb2269f-8f95-4cbe-b9a4-548ca12b570d",
   "metadata": {},
   "outputs": [],
   "source": [
    "HERE = Path(_dh[-1])\n",
    "DATA = HERE / \"data\""
   ]
  },
  {
   "cell_type": "markdown",
   "id": "f67cb846-c0a2-48a6-a7c1-3ebc964cc322",
   "metadata": {},
   "source": [
    "Read data form previous part, the generated compounds with marking Ro5"
   ]
  },
  {
   "cell_type": "code",
   "execution_count": 3,
   "id": "7ac4ec9b-d122-47f0-a346-134e94a9e7d1",
   "metadata": {},
   "outputs": [],
   "source": [
    "data = pd.read_csv(\n",
    "    DATA / \"generated_lipinski.csv\",\n",
    "    index_col=0,\n",
    ")"
   ]
  },
  {
   "cell_type": "markdown",
   "id": "079cc8cf-3f52-4b0f-accb-e0314390adab",
   "metadata": {},
   "source": [
    "Keep only the needed columns"
   ]
  },
  {
   "cell_type": "code",
   "execution_count": 4,
   "id": "96078478-248b-442b-90ec-a74d1774f7aa",
   "metadata": {},
   "outputs": [
    {
     "name": "stdout",
     "output_type": "stream",
     "text": [
      "Dataframe shape: (1000, 8)\n"
     ]
    },
    {
     "data": {
      "text/plain": "                                              SMILES  ro5_fulfilled\n0  Cc1cc(CN2CCCC2)cc(C2CCC(N3CCC(C(=O)NCCO)C3)=CC...           True\n1                       N#Cc1cc(OCC(N)c2ccccc2)ccc1F           True\n2                         COc1ccccc1CNCNC(C)c1ccccc1           True\n3  NC1=NC(CF)(c2cc(NC(=O)c3cnc(OCc4ccccn4)cn3)ccc...           True\n4    CC1(C)SCC(C)(c2cccc(NC(=O)c3ccc(Br)cn3)c2)N=C1N           True",
      "text/html": "<div>\n<style scoped>\n    .dataframe tbody tr th:only-of-type {\n        vertical-align: middle;\n    }\n\n    .dataframe tbody tr th {\n        vertical-align: top;\n    }\n\n    .dataframe thead th {\n        text-align: right;\n    }\n</style>\n<table border=\"1\" class=\"dataframe\">\n  <thead>\n    <tr style=\"text-align: right;\">\n      <th></th>\n      <th>SMILES</th>\n      <th>ro5_fulfilled</th>\n    </tr>\n  </thead>\n  <tbody>\n    <tr>\n      <th>0</th>\n      <td>Cc1cc(CN2CCCC2)cc(C2CCC(N3CCC(C(=O)NCCO)C3)=CC...</td>\n      <td>True</td>\n    </tr>\n    <tr>\n      <th>1</th>\n      <td>N#Cc1cc(OCC(N)c2ccccc2)ccc1F</td>\n      <td>True</td>\n    </tr>\n    <tr>\n      <th>2</th>\n      <td>COc1ccccc1CNCNC(C)c1ccccc1</td>\n      <td>True</td>\n    </tr>\n    <tr>\n      <th>3</th>\n      <td>NC1=NC(CF)(c2cc(NC(=O)c3cnc(OCc4ccccn4)cn3)ccc...</td>\n      <td>True</td>\n    </tr>\n    <tr>\n      <th>4</th>\n      <td>CC1(C)SCC(C)(c2cccc(NC(=O)c3ccc(Br)cn3)c2)N=C1N</td>\n      <td>True</td>\n    </tr>\n  </tbody>\n</table>\n</div>"
     },
     "execution_count": 4,
     "metadata": {},
     "output_type": "execute_result"
    }
   ],
   "source": [
    "print(\"Dataframe shape:\", data.shape)\n",
    "data.drop(columns=[\"molecular_weight\", \"n_hbd\", \"n_hba\", \"logp\", \"Group\", \"RDMol\"], inplace=True)\n",
    "data.head()"
   ]
  },
  {
   "cell_type": "markdown",
   "id": "63693773-6939-41cc-a555-cc70f3f8f313",
   "metadata": {},
   "source": [
    "Add molecule column"
   ]
  },
  {
   "cell_type": "code",
   "execution_count": 5,
   "id": "63d374ac-1b60-4c0b-9f1a-0dcdb3d65f4e",
   "metadata": {},
   "outputs": [
    {
     "data": {
      "text/plain": "                                              SMILES  ro5_fulfilled  \\\n0  Cc1cc(CN2CCCC2)cc(C2CCC(N3CCC(C(=O)NCCO)C3)=CC...           True   \n1                       N#Cc1cc(OCC(N)c2ccccc2)ccc1F           True   \n2                         COc1ccccc1CNCNC(C)c1ccccc1           True   \n3  NC1=NC(CF)(c2cc(NC(=O)c3cnc(OCc4ccccn4)cn3)ccc...           True   \n4    CC1(C)SCC(C)(c2cccc(NC(=O)c3ccc(Br)cn3)c2)N=C1N           True   \n\n                                              ROMol  \n0  <rdkit.Chem.rdchem.Mol object at 0x7fd2b499c7c0>  \n1  <rdkit.Chem.rdchem.Mol object at 0x7fd2b499c820>  \n2  <rdkit.Chem.rdchem.Mol object at 0x7fd2b499c940>  \n3  <rdkit.Chem.rdchem.Mol object at 0x7fd2b499c520>  \n4  <rdkit.Chem.rdchem.Mol object at 0x7fd2b499c0a0>  ",
      "text/html": "<div>\n<style scoped>\n    .dataframe tbody tr th:only-of-type {\n        vertical-align: middle;\n    }\n\n    .dataframe tbody tr th {\n        vertical-align: top;\n    }\n\n    .dataframe thead th {\n        text-align: right;\n    }\n</style>\n<table border=\"1\" class=\"dataframe\">\n  <thead>\n    <tr style=\"text-align: right;\">\n      <th></th>\n      <th>SMILES</th>\n      <th>ro5_fulfilled</th>\n      <th>ROMol</th>\n    </tr>\n  </thead>\n  <tbody>\n    <tr>\n      <th>0</th>\n      <td>Cc1cc(CN2CCCC2)cc(C2CCC(N3CCC(C(=O)NCCO)C3)=CC...</td>\n      <td>True</td>\n      <td>&lt;rdkit.Chem.rdchem.Mol object at 0x7fd2b499c7c0&gt;</td>\n    </tr>\n    <tr>\n      <th>1</th>\n      <td>N#Cc1cc(OCC(N)c2ccccc2)ccc1F</td>\n      <td>True</td>\n      <td>&lt;rdkit.Chem.rdchem.Mol object at 0x7fd2b499c820&gt;</td>\n    </tr>\n    <tr>\n      <th>2</th>\n      <td>COc1ccccc1CNCNC(C)c1ccccc1</td>\n      <td>True</td>\n      <td>&lt;rdkit.Chem.rdchem.Mol object at 0x7fd2b499c940&gt;</td>\n    </tr>\n    <tr>\n      <th>3</th>\n      <td>NC1=NC(CF)(c2cc(NC(=O)c3cnc(OCc4ccccn4)cn3)ccc...</td>\n      <td>True</td>\n      <td>&lt;rdkit.Chem.rdchem.Mol object at 0x7fd2b499c520&gt;</td>\n    </tr>\n    <tr>\n      <th>4</th>\n      <td>CC1(C)SCC(C)(c2cccc(NC(=O)c3ccc(Br)cn3)c2)N=C1N</td>\n      <td>True</td>\n      <td>&lt;rdkit.Chem.rdchem.Mol object at 0x7fd2b499c0a0&gt;</td>\n    </tr>\n  </tbody>\n</table>\n</div>"
     },
     "execution_count": 5,
     "metadata": {},
     "output_type": "execute_result"
    }
   ],
   "source": [
    "PandasTools.AddMoleculeColumnToFrame(data, smilesCol=\"SMILES\")\n",
    "data.head()"
   ]
  },
  {
   "cell_type": "markdown",
   "id": "f031e851-436d-43ad-b21b-7931eaeb7cd7",
   "metadata": {},
   "source": [
    "## Filter Pains"
   ]
  },
  {
   "cell_type": "markdown",
   "id": "24d1cac2-83c4-4d62-a9d5-2ca7880c7074",
   "metadata": {},
   "source": [
    "Initialize filter"
   ]
  },
  {
   "cell_type": "code",
   "execution_count": 6,
   "id": "8a9ca931-1c99-4d76-ae0f-a49a52bd90f8",
   "metadata": {},
   "outputs": [],
   "source": [
    "params = FilterCatalogParams()\n",
    "params.AddCatalog(FilterCatalogParams.FilterCatalogs.PAINS)\n",
    "catalog = FilterCatalog(params)"
   ]
  },
  {
   "cell_type": "markdown",
   "id": "087ea3a0-0e03-4921-ba16-552d30995613",
   "metadata": {},
   "source": [
    "Search for PAINS in the dataset and keep the molecules without PAINS"
   ]
  },
  {
   "cell_type": "code",
   "execution_count": 7,
   "id": "a824b118-16e3-44e3-8c67-d61dd01b7b1a",
   "metadata": {},
   "outputs": [
    {
     "data": {
      "text/plain": "  0%|          | 0/1000 [00:00<?, ?it/s]",
      "application/vnd.jupyter.widget-view+json": {
       "version_major": 2,
       "version_minor": 0,
       "model_id": "01c22004c54b41839d8b527bac653d87"
      }
     },
     "metadata": {},
     "output_type": "display_data"
    }
   ],
   "source": [
    "matches = []\n",
    "clean = []\n",
    "for index, row in tqdm(data.iterrows(), total=data.shape[0]):\n",
    "    molecule = Chem.MolFromSmiles(row.SMILES)\n",
    "    entry = catalog.GetFirstMatch(molecule)  # Get the first matching PAINS\n",
    "    if entry is not None:\n",
    "        # store PAINS information\n",
    "        matches.append(\n",
    "            {\n",
    "               # \"chembl_id\": row.molecule_chembl_id,\n",
    "                \"rdkit_molecule\": molecule,\n",
    "                \"pains\": entry.GetDescription().capitalize(),\n",
    "            }\n",
    "        )\n",
    "    else:\n",
    "        # collect indices of molecules without PAINS\n",
    "        clean.append(index)\n",
    "\n",
    "matches = pd.DataFrame(matches)\n",
    "data = data.loc[clean]  # keep molecules without PAINS"
   ]
  },
  {
   "cell_type": "code",
   "execution_count": 8,
   "id": "d71610d9-4a4e-4cf7-b539-d19c1ddab8b9",
   "metadata": {},
   "outputs": [
    {
     "name": "stdout",
     "output_type": "stream",
     "text": [
      "Number of compounds with PAINS: 36\n",
      "Number of compounds without PAINS: 964\n",
      "Percentage of compounds with PAINS: 3.73%\n"
     ]
    }
   ],
   "source": [
    "print(f\"Number of compounds with PAINS: {len(matches)}\")\n",
    "print(f\"Number of compounds without PAINS: {len(data)}\")\n",
    "print(f\"Percentage of compounds with PAINS: {round(len(matches)/len(data)*100,2)}%\")"
   ]
  },
  {
   "cell_type": "markdown",
   "id": "dd3f8062",
   "metadata": {},
   "source": [
    "36 (3.73%) of the generated compounds containe PAINS and are therefore removed from the list. However, 5% of the FDA approved drugs contain PAINS, so it could be interesting to manually look at those anyway in a future research."
   ]
  },
  {
   "cell_type": "markdown",
   "id": "360b79c7-b0fc-4e4d-b10b-4a26f364c175",
   "metadata": {},
   "source": [
    "## Filter for other unwanted substructures"
   ]
  },
  {
   "cell_type": "markdown",
   "id": "91ef9680-dc9f-4957-90b4-47ff8d918cfe",
   "metadata": {},
   "source": [
    "Read file with the unwanted substructures obtained from article (Chem. Med. Chem. (2008), 3, 535-44)"
   ]
  },
  {
   "cell_type": "code",
   "execution_count": 9,
   "id": "94ed978d-1f88-4066-9fe6-2d120bddd71f",
   "metadata": {},
   "outputs": [
    {
     "name": "stdout",
     "output_type": "stream",
     "text": [
      "Number of unwanted substructures in collection: 104\n"
     ]
    }
   ],
   "source": [
    "substructures = pd.read_csv(DATA / \"unwanted_substructures.csv\", sep=\"\\s+\")\n",
    "substructures[\"rdkit_molecule\"] = substructures.smarts.apply(Chem.MolFromSmarts)\n",
    "print(\"Number of unwanted substructures in collection:\", len(substructures))"
   ]
  },
  {
   "cell_type": "markdown",
   "id": "6a513b24-b381-481f-b3af-447933116b0b",
   "metadata": {},
   "source": [
    "Search for the unwanted substructures in the dataset and keep the molecules without unwanted substructures"
   ]
  },
  {
   "cell_type": "code",
   "execution_count": 10,
   "id": "2d30f8e1-7508-490e-b7ad-f3bcf6e24b41",
   "metadata": {},
   "outputs": [
    {
     "data": {
      "text/plain": "  0%|          | 0/964 [00:00<?, ?it/s]",
      "application/vnd.jupyter.widget-view+json": {
       "version_major": 2,
       "version_minor": 0,
       "model_id": "e3e37bbea2a0426481329fb8675fd8b8"
      }
     },
     "metadata": {},
     "output_type": "display_data"
    }
   ],
   "source": [
    "matches = []\n",
    "clean = []\n",
    "for index, row in tqdm(data.iterrows(), total=data.shape[0]):\n",
    "    molecule = Chem.MolFromSmiles(row.SMILES)\n",
    "    match = False\n",
    "    for _, substructure in substructures.iterrows():\n",
    "        if molecule.HasSubstructMatch(substructure.rdkit_molecule):\n",
    "            matches.append(\n",
    "                {\n",
    "                    #\"chembl_id\": row.molecule_chembl_id,\n",
    "                    \"rdkit_molecule\": molecule,\n",
    "                    \"substructure\": substructure.rdkit_molecule,\n",
    "                    \"substructure_name\": substructure[\"name\"],\n",
    "                }\n",
    "            )\n",
    "            match = True\n",
    "    if not match:\n",
    "        clean.append(index)\n",
    "\n",
    "matches = pd.DataFrame(matches)\n",
    "data = data.loc[clean]"
   ]
  },
  {
   "cell_type": "code",
   "execution_count": 11,
   "id": "ef5630d6-9ce9-4498-93d5-4678a61b3806",
   "metadata": {},
   "outputs": [
    {
     "name": "stdout",
     "output_type": "stream",
     "text": [
      "Number of found unwanted substructure: 440\n",
      "Number of compounds without unwanted substructure: 662\n",
      "Percentage of found unwanted substructure: 66.47%\n"
     ]
    }
   ],
   "source": [
    "print(f\"Number of found unwanted substructure: {len(matches)}\")\n",
    "print(f\"Number of compounds without unwanted substructure: {len(data)}\")\n",
    "print(f\"Percentage of found unwanted substructure: {round(len(matches)/len(data)*100,2)}%\")\n"
   ]
  },
  {
   "cell_type": "markdown",
   "id": "ffb74de7",
   "metadata": {},
   "source": [
    "440 (66.47%) of the remaining generated compounds are removed as they contain unwanted structures that are known to bind unspecifically, which can result in unwanted side effects. There is a high percentage of these unwanted structures. An explanation is that DrugEx was trained on all data, without prefiltering unwanted substructures. To avoid this, the train data could be filtered for PAINS and other unwanted substructures."
   ]
  },
  {
   "cell_type": "markdown",
   "id": "5a514fdb-b3ab-4e96-892c-42d658043afc",
   "metadata": {},
   "source": [
    "List with frequenction of the substructures "
   ]
  },
  {
   "cell_type": "code",
   "execution_count": 12,
   "id": "5ca757c6-ecde-4853-94da-abc127534b42",
   "metadata": {},
   "outputs": [
    {
     "data": {
      "text/plain": "substructure_name\nAliphatic-long-chain               90\nMichael-acceptor                   67\nimine                              56\nOxygen-nitrogen-single-bond        30\n2-haloPyridine                     23\nbetaketo/anhydride                 23\ntriple-bond                        20\naniline                            17\nisolate-alkene                     16\nhydroxamic-acid                     9\nphosphor-P-phthalimide              7\nphenol-ester                        7\nthiol                               6\ncumarine                            6\nnitro-group                         6\nThiocarbonyl-group                  6\npolyene                             5\nhydroquinone                        5\ndiketo-group                        5\nstilbene                            4\nhalogenated-ring                    4\nhet-C-het-not-in-ring               4\ncatechol                            3\nperfluorinated-chain                2\nPolycyclic-aromatic-hydrocarbon     2\nconjugated-nitrile-group            2\nacyclic-C=C-O                       2\nhydantoin                           2\nhydrazine                           1\nSulfonic-acid                       1\nCarbo-cation/anion                  1\nenamine                             1\nN-C-halo                            1\noxime                               1\nN-hydroxyl-pyridine                 1\nalkyl-halide                        1\nacylHydrazine                       1\nthioester                           1\nThree-membered-heterocycle          1\ndtype: int64"
     },
     "execution_count": 12,
     "metadata": {},
     "output_type": "execute_result"
    }
   ],
   "source": [
    "groups = matches.groupby(\"substructure_name\")\n",
    "group_frequencies = groups.size()\n",
    "group_frequencies.sort_values(ascending=False, inplace=True)\n",
    "group_frequencies"
   ]
  },
  {
   "cell_type": "markdown",
   "id": "1fe60cea-3092-4f56-885b-724b24a25228",
   "metadata": {},
   "source": [
    "Save filtered data to a csv file "
   ]
  },
  {
   "cell_type": "code",
   "execution_count": 13,
   "id": "7ed49619-cc2b-457d-8d54-1835aa6c188a",
   "metadata": {},
   "outputs": [
    {
     "name": "stdout",
     "output_type": "stream",
     "text": [
      "Number of compounds: 662\n"
     ]
    }
   ],
   "source": [
    "data = data.drop(\"ROMol\", axis=1)\n",
    "data.to_csv(DATA / \"generated_part8.csv\")\n",
    "data.head()\n",
    "\n",
    "print(f\"Number of compounds: {len(data)}\")\n"
   ]
  },
  {
   "cell_type": "markdown",
   "id": "2278dcc0",
   "metadata": {},
   "source": [
    "The potency of the remaining 662 newly generated compounds for the BACE1 receptor will be determined in the next parts using trained and validated machine learning models"
   ]
  }
 ],
 "metadata": {
  "kernelspec": {
   "display_name": "Python 3 (ipykernel)",
   "language": "python",
   "name": "python3"
  },
  "language_info": {
   "codemirror_mode": {
    "name": "ipython",
    "version": 3
   },
   "file_extension": ".py",
   "mimetype": "text/x-python",
   "name": "python",
   "nbconvert_exporter": "python",
   "pygments_lexer": "ipython3",
   "version": "3.9.12"
  }
 },
 "nbformat": 4,
 "nbformat_minor": 5
}
