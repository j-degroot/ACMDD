{
 "cells": [
  {
   "cell_type": "markdown",
   "id": "762419b9-60be-4dba-ae52-61618b0ac33b",
   "metadata": {},
   "source": [
    "# Part 7: Filter generated compounds for PAINS and other unwanted substructures"
   ]
  },
  {
   "cell_type": "markdown",
   "id": "ea9de04b",
   "metadata": {},
   "source": [
    "For drug-like novel compounds it is also important that they do not have unwanted side effects. Therefore the generated molecules will be filtered for PAINS and other unwanted substructures. This will be performed in the same way as in part 3 with the ChEMBL bioactivity data. "
   ]
  },
  {
   "cell_type": "markdown",
   "id": "c651087f-5cd9-46e8-a436-a89d0a0a0f29",
   "metadata": {},
   "source": [
    "Import required libraries"
   ]
  },
  {
   "cell_type": "code",
   "execution_count": 1,
   "id": "3e22da42-776c-4faa-91ca-403c9428f3de",
   "metadata": {},
   "outputs": [],
   "source": [
    "from pathlib import Path\n",
    "\n",
    "import pandas as pd\n",
    "from tqdm.auto import tqdm\n",
    "from rdkit import Chem\n",
    "from rdkit.Chem import PandasTools\n",
    "from rdkit.Chem.FilterCatalog import FilterCatalog, FilterCatalogParams"
   ]
  },
  {
   "cell_type": "markdown",
   "id": "2f0ff1d7-2854-4fa4-b5ef-317db0b63cfa",
   "metadata": {},
   "source": [
    "Define paths"
   ]
  },
  {
   "cell_type": "code",
   "execution_count": 2,
   "id": "7bb2269f-8f95-4cbe-b9a4-548ca12b570d",
   "metadata": {},
   "outputs": [],
   "source": [
    "HERE = Path(_dh[-1])\n",
    "DATA = HERE / \"data\""
   ]
  },
  {
   "cell_type": "markdown",
   "id": "f67cb846-c0a2-48a6-a7c1-3ebc964cc322",
   "metadata": {},
   "source": [
    "Read data form previous part, the generated compounds with marking Ro5"
   ]
  },
  {
   "cell_type": "code",
   "execution_count": 3,
   "id": "7ac4ec9b-d122-47f0-a346-134e94a9e7d1",
   "metadata": {},
   "outputs": [],
   "source": [
    "data = pd.read_csv(\n",
    "    DATA / \"generated_lipinski.csv\",\n",
    "    index_col=0,\n",
    ")"
   ]
  },
  {
   "cell_type": "markdown",
   "id": "079cc8cf-3f52-4b0f-accb-e0314390adab",
   "metadata": {},
   "source": [
    "Keep only the needed columns"
   ]
  },
  {
   "cell_type": "code",
   "execution_count": 4,
   "id": "96078478-248b-442b-90ec-a74d1774f7aa",
   "metadata": {},
   "outputs": [
    {
     "name": "stdout",
     "output_type": "stream",
     "text": [
      "Dataframe shape: (1000, 8)\n"
     ]
    },
    {
     "data": {
      "text/html": [
       "<div>\n",
       "<style scoped>\n",
       "    .dataframe tbody tr th:only-of-type {\n",
       "        vertical-align: middle;\n",
       "    }\n",
       "\n",
       "    .dataframe tbody tr th {\n",
       "        vertical-align: top;\n",
       "    }\n",
       "\n",
       "    .dataframe thead th {\n",
       "        text-align: right;\n",
       "    }\n",
       "</style>\n",
       "<table border=\"1\" class=\"dataframe\">\n",
       "  <thead>\n",
       "    <tr style=\"text-align: right;\">\n",
       "      <th></th>\n",
       "      <th>SMILES</th>\n",
       "      <th>ro5_fulfilled</th>\n",
       "    </tr>\n",
       "  </thead>\n",
       "  <tbody>\n",
       "    <tr>\n",
       "      <th>0</th>\n",
       "      <td>Cc1cc(CN2CCCC2)cc(C2CCC(N3CCC(C(=O)NCCO)C3)=CC...</td>\n",
       "      <td>True</td>\n",
       "    </tr>\n",
       "    <tr>\n",
       "      <th>1</th>\n",
       "      <td>N#Cc1cc(OCC(N)c2ccccc2)ccc1F</td>\n",
       "      <td>True</td>\n",
       "    </tr>\n",
       "    <tr>\n",
       "      <th>2</th>\n",
       "      <td>COc1ccccc1CNCNC(C)c1ccccc1</td>\n",
       "      <td>True</td>\n",
       "    </tr>\n",
       "    <tr>\n",
       "      <th>3</th>\n",
       "      <td>NC1=NC(CF)(c2cc(NC(=O)c3cnc(OCc4ccccn4)cn3)ccc...</td>\n",
       "      <td>True</td>\n",
       "    </tr>\n",
       "    <tr>\n",
       "      <th>4</th>\n",
       "      <td>CC1(C)SCC(C)(c2cccc(NC(=O)c3ccc(Br)cn3)c2)N=C1N</td>\n",
       "      <td>True</td>\n",
       "    </tr>\n",
       "  </tbody>\n",
       "</table>\n",
       "</div>"
      ],
      "text/plain": [
       "                                              SMILES  ro5_fulfilled\n",
       "0  Cc1cc(CN2CCCC2)cc(C2CCC(N3CCC(C(=O)NCCO)C3)=CC...           True\n",
       "1                       N#Cc1cc(OCC(N)c2ccccc2)ccc1F           True\n",
       "2                         COc1ccccc1CNCNC(C)c1ccccc1           True\n",
       "3  NC1=NC(CF)(c2cc(NC(=O)c3cnc(OCc4ccccn4)cn3)ccc...           True\n",
       "4    CC1(C)SCC(C)(c2cccc(NC(=O)c3ccc(Br)cn3)c2)N=C1N           True"
      ]
     },
     "execution_count": 4,
     "metadata": {},
     "output_type": "execute_result"
    }
   ],
   "source": [
    "print(\"Dataframe shape:\", data.shape)\n",
    "data.drop(columns=[\"molecular_weight\", \"n_hbd\", \"n_hba\", \"logp\", \"Group\", \"RDMol\"], inplace=True)\n",
    "data.head()"
   ]
  },
  {
   "cell_type": "markdown",
   "id": "63693773-6939-41cc-a555-cc70f3f8f313",
   "metadata": {},
   "source": [
    "Add molecule column"
   ]
  },
  {
   "cell_type": "code",
   "execution_count": 5,
   "id": "63d374ac-1b60-4c0b-9f1a-0dcdb3d65f4e",
   "metadata": {},
   "outputs": [
    {
     "data": {
      "text/html": [
       "<div>\n",
       "<style scoped>\n",
       "    .dataframe tbody tr th:only-of-type {\n",
       "        vertical-align: middle;\n",
       "    }\n",
       "\n",
       "    .dataframe tbody tr th {\n",
       "        vertical-align: top;\n",
       "    }\n",
       "\n",
       "    .dataframe thead th {\n",
       "        text-align: right;\n",
       "    }\n",
       "</style>\n",
       "<table border=\"1\" class=\"dataframe\">\n",
       "  <thead>\n",
       "    <tr style=\"text-align: right;\">\n",
       "      <th></th>\n",
       "      <th>SMILES</th>\n",
       "      <th>ro5_fulfilled</th>\n",
       "      <th>ROMol</th>\n",
       "    </tr>\n",
       "  </thead>\n",
       "  <tbody>\n",
       "    <tr>\n",
       "      <th>0</th>\n",
       "      <td>Cc1cc(CN2CCCC2)cc(C2CCC(N3CCC(C(=O)NCCO)C3)=CC...</td>\n",
       "      <td>True</td>\n",
       "      <td style=\"text-align: center;\"><img data-content=\"rdkit/molecule\" src=\"data:image/png;base64,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\" alt=\"Mol\"/></td>\n",
       "    </tr>\n",
       "    <tr>\n",
       "      <th>1</th>\n",
       "      <td>N#Cc1cc(OCC(N)c2ccccc2)ccc1F</td>\n",
       "      <td>True</td>\n",
       "      <td style=\"text-align: center;\"><img data-content=\"rdkit/molecule\" src=\"data:image/png;base64,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\" alt=\"Mol\"/></td>\n",
       "    </tr>\n",
       "    <tr>\n",
       "      <th>2</th>\n",
       "      <td>COc1ccccc1CNCNC(C)c1ccccc1</td>\n",
       "      <td>True</td>\n",
       "      <td style=\"text-align: center;\"><img data-content=\"rdkit/molecule\" src=\"data:image/png;base64,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\" alt=\"Mol\"/></td>\n",
       "    </tr>\n",
       "    <tr>\n",
       "      <th>3</th>\n",
       "      <td>NC1=NC(CF)(c2cc(NC(=O)c3cnc(OCc4ccccn4)cn3)ccc...</td>\n",
       "      <td>True</td>\n",
       "      <td style=\"text-align: center;\"><img data-content=\"rdkit/molecule\" src=\"data:image/png;base64,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\" alt=\"Mol\"/></td>\n",
       "    </tr>\n",
       "    <tr>\n",
       "      <th>4</th>\n",
       "      <td>CC1(C)SCC(C)(c2cccc(NC(=O)c3ccc(Br)cn3)c2)N=C1N</td>\n",
       "      <td>True</td>\n",
       "      <td style=\"text-align: center;\"><img data-content=\"rdkit/molecule\" src=\"data:image/png;base64,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\" alt=\"Mol\"/></td>\n",
       "    </tr>\n",
       "  </tbody>\n",
       "</table>\n",
       "</div>"
      ],
      "text/plain": [
       "                                              SMILES  ro5_fulfilled  \\\n",
       "0  Cc1cc(CN2CCCC2)cc(C2CCC(N3CCC(C(=O)NCCO)C3)=CC...           True   \n",
       "1                       N#Cc1cc(OCC(N)c2ccccc2)ccc1F           True   \n",
       "2                         COc1ccccc1CNCNC(C)c1ccccc1           True   \n",
       "3  NC1=NC(CF)(c2cc(NC(=O)c3cnc(OCc4ccccn4)cn3)ccc...           True   \n",
       "4    CC1(C)SCC(C)(c2cccc(NC(=O)c3ccc(Br)cn3)c2)N=C1N           True   \n",
       "\n",
       "                                               ROMol  \n",
       "0  <img data-content=\"rdkit/molecule\" src=\"data:i...  \n",
       "1  <img data-content=\"rdkit/molecule\" src=\"data:i...  \n",
       "2  <img data-content=\"rdkit/molecule\" src=\"data:i...  \n",
       "3  <img data-content=\"rdkit/molecule\" src=\"data:i...  \n",
       "4  <img data-content=\"rdkit/molecule\" src=\"data:i...  "
      ]
     },
     "execution_count": 5,
     "metadata": {},
     "output_type": "execute_result"
    }
   ],
   "source": [
    "PandasTools.AddMoleculeColumnToFrame(data, smilesCol=\"SMILES\")\n",
    "data.head()"
   ]
  },
  {
   "cell_type": "markdown",
   "id": "f031e851-436d-43ad-b21b-7931eaeb7cd7",
   "metadata": {},
   "source": [
    "## Filter Pains"
   ]
  },
  {
   "cell_type": "markdown",
   "id": "24d1cac2-83c4-4d62-a9d5-2ca7880c7074",
   "metadata": {},
   "source": [
    "Initialize filter"
   ]
  },
  {
   "cell_type": "code",
   "execution_count": 6,
   "id": "8a9ca931-1c99-4d76-ae0f-a49a52bd90f8",
   "metadata": {},
   "outputs": [],
   "source": [
    "params = FilterCatalogParams()\n",
    "params.AddCatalog(FilterCatalogParams.FilterCatalogs.PAINS)\n",
    "catalog = FilterCatalog(params)"
   ]
  },
  {
   "cell_type": "markdown",
   "id": "087ea3a0-0e03-4921-ba16-552d30995613",
   "metadata": {},
   "source": [
    "Search for PAINS in the dataset and keep the molecules without PAINS"
   ]
  },
  {
   "cell_type": "code",
   "execution_count": 7,
   "id": "a824b118-16e3-44e3-8c67-d61dd01b7b1a",
   "metadata": {},
   "outputs": [
    {
     "data": {
      "application/vnd.jupyter.widget-view+json": {
       "model_id": "bdc038acbfc14761b28e8edfc3931c80",
       "version_major": 2,
       "version_minor": 0
      },
      "text/plain": [
       "  0%|          | 0/1000 [00:00<?, ?it/s]"
      ]
     },
     "metadata": {},
     "output_type": "display_data"
    }
   ],
   "source": [
    "matches = []\n",
    "clean = []\n",
    "for index, row in tqdm(data.iterrows(), total=data.shape[0]):\n",
    "    molecule = Chem.MolFromSmiles(row.SMILES)\n",
    "    entry = catalog.GetFirstMatch(molecule)  # Get the first matching PAINS\n",
    "    if entry is not None:\n",
    "        # store PAINS information\n",
    "        matches.append(\n",
    "            {\n",
    "               # \"chembl_id\": row.molecule_chembl_id,\n",
    "                \"rdkit_molecule\": molecule,\n",
    "                \"pains\": entry.GetDescription().capitalize(),\n",
    "            }\n",
    "        )\n",
    "    else:\n",
    "        # collect indices of molecules without PAINS\n",
    "        clean.append(index)\n",
    "\n",
    "matches = pd.DataFrame(matches)\n",
    "data = data.loc[clean]  # keep molecules without PAINS"
   ]
  },
  {
   "cell_type": "code",
   "execution_count": 8,
   "id": "d71610d9-4a4e-4cf7-b539-d19c1ddab8b9",
   "metadata": {},
   "outputs": [
    {
     "name": "stdout",
     "output_type": "stream",
     "text": [
      "Number of compounds with PAINS: 36\n",
      "Number of compounds without PAINS: 964\n",
      "Percentage of compounds with PAINS: 3.73%\n"
     ]
    }
   ],
   "source": [
    "print(f\"Number of compounds with PAINS: {len(matches)}\")\n",
    "print(f\"Number of compounds without PAINS: {len(data)}\")\n",
    "print(f\"Percentage of compounds with PAINS: {round(len(matches)/len(data)*100,2)}%\")"
   ]
  },
  {
   "cell_type": "markdown",
   "id": "dd3f8062",
   "metadata": {},
   "source": [
    "36 (3.73%) of the generated compounds containe PAINS and are therefore removed from the list. However, 5% of the FDA approved drugs contain PAINS, so it could be interesting to manually look at those anyway in a future research."
   ]
  },
  {
   "cell_type": "markdown",
   "id": "360b79c7-b0fc-4e4d-b10b-4a26f364c175",
   "metadata": {},
   "source": [
    "## Filter for other unwanted substructures"
   ]
  },
  {
   "cell_type": "markdown",
   "id": "91ef9680-dc9f-4957-90b4-47ff8d918cfe",
   "metadata": {},
   "source": [
    "Read file with the unwanted substructures obtained from article (Chem. Med. Chem. (2008), 3, 535-44)"
   ]
  },
  {
   "cell_type": "code",
   "execution_count": 9,
   "id": "94ed978d-1f88-4066-9fe6-2d120bddd71f",
   "metadata": {},
   "outputs": [
    {
     "name": "stdout",
     "output_type": "stream",
     "text": [
      "Number of unwanted substructures in collection: 104\n"
     ]
    }
   ],
   "source": [
    "substructures = pd.read_csv(DATA / \"unwanted_substructures.csv\", sep=\"\\s+\")\n",
    "substructures[\"rdkit_molecule\"] = substructures.smarts.apply(Chem.MolFromSmarts)\n",
    "print(\"Number of unwanted substructures in collection:\", len(substructures))"
   ]
  },
  {
   "cell_type": "markdown",
   "id": "6a513b24-b381-481f-b3af-447933116b0b",
   "metadata": {},
   "source": [
    "Search for the unwanted substructures in the dataset and keep the molecules without unwanted substructures"
   ]
  },
  {
   "cell_type": "code",
   "execution_count": 10,
   "id": "2d30f8e1-7508-490e-b7ad-f3bcf6e24b41",
   "metadata": {},
   "outputs": [
    {
     "data": {
      "application/vnd.jupyter.widget-view+json": {
       "model_id": "40c31bf164f24fc7b43a9c31c745991e",
       "version_major": 2,
       "version_minor": 0
      },
      "text/plain": [
       "  0%|          | 0/964 [00:00<?, ?it/s]"
      ]
     },
     "metadata": {},
     "output_type": "display_data"
    }
   ],
   "source": [
    "matches = []\n",
    "clean = []\n",
    "for index, row in tqdm(data.iterrows(), total=data.shape[0]):\n",
    "    molecule = Chem.MolFromSmiles(row.SMILES)\n",
    "    match = False\n",
    "    for _, substructure in substructures.iterrows():\n",
    "        if molecule.HasSubstructMatch(substructure.rdkit_molecule):\n",
    "            matches.append(\n",
    "                {\n",
    "                    #\"chembl_id\": row.molecule_chembl_id,\n",
    "                    \"rdkit_molecule\": molecule,\n",
    "                    \"substructure\": substructure.rdkit_molecule,\n",
    "                    \"substructure_name\": substructure[\"name\"],\n",
    "                }\n",
    "            )\n",
    "            match = True\n",
    "    if not match:\n",
    "        clean.append(index)\n",
    "\n",
    "matches = pd.DataFrame(matches)\n",
    "data = data.loc[clean]"
   ]
  },
  {
   "cell_type": "code",
   "execution_count": 11,
   "id": "ef5630d6-9ce9-4498-93d5-4678a61b3806",
   "metadata": {},
   "outputs": [
    {
     "name": "stdout",
     "output_type": "stream",
     "text": [
      "Number of found unwanted substructure: 440\n",
      "Number of compounds without unwanted substructure: 662\n",
      "Percentage of found unwanted substructure: 66.47%\n"
     ]
    }
   ],
   "source": [
    "print(f\"Number of found unwanted substructure: {len(matches)}\")\n",
    "print(f\"Number of compounds without unwanted substructure: {len(data)}\")\n",
    "print(f\"Percentage of found unwanted substructure: {round(len(matches)/len(data)*100,2)}%\")\n"
   ]
  },
  {
   "cell_type": "markdown",
   "id": "ffb74de7",
   "metadata": {},
   "source": [
    "440 (66.47%) of the remaining generated compounds are removed as they contain unwanted structures that are known to bind unspecifically, which can result in unwanted side effects. There is a high percentage of these unwanted structures. An explanation is that DrugEx was trained on all data, without prefiltering unwanted substructures. To avoid this, the train data could be filtered for PAINS and other unwanted substructures."
   ]
  },
  {
   "cell_type": "markdown",
   "id": "5a514fdb-b3ab-4e96-892c-42d658043afc",
   "metadata": {},
   "source": [
    "List with frequenction of the substructures "
   ]
  },
  {
   "cell_type": "code",
   "execution_count": 12,
   "id": "5ca757c6-ecde-4853-94da-abc127534b42",
   "metadata": {},
   "outputs": [
    {
     "data": {
      "text/plain": [
       "substructure_name\n",
       "Aliphatic-long-chain               90\n",
       "Michael-acceptor                   67\n",
       "imine                              56\n",
       "Oxygen-nitrogen-single-bond        30\n",
       "2-haloPyridine                     23\n",
       "betaketo/anhydride                 23\n",
       "triple-bond                        20\n",
       "aniline                            17\n",
       "isolate-alkene                     16\n",
       "hydroxamic-acid                     9\n",
       "phosphor-P-phthalimide              7\n",
       "phenol-ester                        7\n",
       "thiol                               6\n",
       "cumarine                            6\n",
       "nitro-group                         6\n",
       "Thiocarbonyl-group                  6\n",
       "polyene                             5\n",
       "hydroquinone                        5\n",
       "diketo-group                        5\n",
       "stilbene                            4\n",
       "halogenated-ring                    4\n",
       "het-C-het-not-in-ring               4\n",
       "catechol                            3\n",
       "perfluorinated-chain                2\n",
       "Polycyclic-aromatic-hydrocarbon     2\n",
       "conjugated-nitrile-group            2\n",
       "acyclic-C=C-O                       2\n",
       "hydantoin                           2\n",
       "hydrazine                           1\n",
       "Sulfonic-acid                       1\n",
       "Carbo-cation/anion                  1\n",
       "enamine                             1\n",
       "N-C-halo                            1\n",
       "oxime                               1\n",
       "N-hydroxyl-pyridine                 1\n",
       "alkyl-halide                        1\n",
       "acylHydrazine                       1\n",
       "thioester                           1\n",
       "Three-membered-heterocycle          1\n",
       "dtype: int64"
      ]
     },
     "execution_count": 12,
     "metadata": {},
     "output_type": "execute_result"
    }
   ],
   "source": [
    "groups = matches.groupby(\"substructure_name\")\n",
    "group_frequencies = groups.size()\n",
    "group_frequencies.sort_values(ascending=False, inplace=True)\n",
    "group_frequencies"
   ]
  },
  {
   "cell_type": "markdown",
   "id": "1fe60cea-3092-4f56-885b-724b24a25228",
   "metadata": {},
   "source": [
    "Save filtered data to a csv file "
   ]
  },
  {
   "cell_type": "code",
   "execution_count": 13,
   "id": "7ed49619-cc2b-457d-8d54-1835aa6c188a",
   "metadata": {},
   "outputs": [
    {
     "name": "stdout",
     "output_type": "stream",
     "text": [
      "Number of compounds: 662\n"
     ]
    }
   ],
   "source": [
    "data = data.drop(\"ROMol\", axis=1)\n",
    "data.to_csv(DATA / \"generated_part8.csv\")\n",
    "data.head()\n",
    "\n",
    "print(f\"Number of compounds: {len(data)}\")\n"
   ]
  },
  {
   "cell_type": "markdown",
   "id": "2278dcc0",
   "metadata": {},
   "source": [
    "The potency of the remaining 662 newly generated compounds for the BACE1 receptor will be determined in the next parts using trained and validated machine learning models"
   ]
  }
 ],
 "metadata": {
  "kernelspec": {
   "display_name": "Python 3 (ipykernel)",
   "language": "python",
   "name": "python3"
  },
  "language_info": {
   "codemirror_mode": {
    "name": "ipython",
    "version": 3
   },
   "file_extension": ".py",
   "mimetype": "text/x-python",
   "name": "python",
   "nbconvert_exporter": "python",
   "pygments_lexer": "ipython3",
   "version": "3.9.12"
  }
 },
 "nbformat": 4,
 "nbformat_minor": 5
}
