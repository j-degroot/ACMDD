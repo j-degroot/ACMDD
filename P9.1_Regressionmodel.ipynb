{
 "cells": [
  {
   "cell_type": "markdown",
   "id": "674716ff-a908-4d94-b65b-504da6a77cb8",
   "metadata": {},
   "source": [
    "# Part 9: Random Forest regression model"
   ]
  },
  {
   "cell_type": "markdown",
   "id": "46479126",
   "metadata": {},
   "source": [
    "The potency of the novel generated compounds for the BACE1 receptor will be determined with machine learning models. In this project will two different models be compared; a random forest regression model and a neuron network model. These models will be trained and validated with the filtered ChEMBL bioactivity data from part 3. In this part will the random forest regression model be trained and validated, followed by using the model to predict the potency of the novel compounds."
   ]
  },
  {
   "cell_type": "markdown",
   "id": "88e24529-fed0-40f0-abbe-1e54cfd19132",
   "metadata": {},
   "source": [
    "Import required libraries"
   ]
  },
  {
   "cell_type": "code",
   "execution_count": 1,
   "id": "72272bb2-ab28-4bce-ab4f-85c6dd54d30f",
   "metadata": {},
   "outputs": [],
   "source": [
    "from pathlib import Path\n",
    "from warnings import filterwarnings\n",
    "import time\n",
    "\n",
    "import pandas as pd\n",
    "import numpy as np\n",
    "from sklearn import svm, metrics, clone\n",
    "from sklearn.ensemble import RandomForestClassifier\n",
    "from sklearn.ensemble import RandomForestRegressor\n",
    "from sklearn.neural_network import MLPClassifier\n",
    "from sklearn.model_selection import KFold, train_test_split\n",
    "from sklearn.metrics import auc, accuracy_score, recall_score\n",
    "from sklearn.metrics import roc_curve, roc_auc_score\n",
    "import matplotlib.pyplot as plt\n",
    "from rdkit import Chem\n",
    "from rdkit.Chem import MACCSkeys\n",
    "from rdkit.Chem.AllChem import GetMorganFingerprintAsBitVect\n",
    "from rdkit.Chem import PandasTools\n",
    "\n",
    "import sys\n",
    "\n",
    "from teachopencadd.utils import seed_everything\n",
    "SEED = 22\n",
    "seed_everything(SEED)"
   ]
  },
  {
   "cell_type": "markdown",
   "id": "8284b34f-fa45-4dab-9463-06ada13bb436",
   "metadata": {},
   "source": [
    "\n",
    "Define paths"
   ]
  },
  {
   "cell_type": "code",
   "execution_count": 2,
   "id": "9bc4f3a7-1546-46d7-a442-c900572213f2",
   "metadata": {},
   "outputs": [],
   "source": [
    "HERE = Path(_dh[-1])\n",
    "DATA = HERE / \"data\""
   ]
  },
  {
   "cell_type": "markdown",
   "id": "131d8f34-a935-45a6-a74c-1a631da75b77",
   "metadata": {},
   "source": [
    "Read filtered ChEMBL bioactivity data from part 3"
   ]
  },
  {
   "cell_type": "code",
   "execution_count": 3,
   "id": "6ac9cea5-912b-487a-bf6f-4efc967191ec",
   "metadata": {},
   "outputs": [
    {
     "name": "stdout",
     "output_type": "stream",
     "text": [
      "Shape of dataframe :  (6691, 7)\n"
     ]
    },
    {
     "data": {
      "text/plain": "  molecule_chembl_id    IC50 units  \\\n0      CHEMBL3969403  0.0002    nM   \n1      CHEMBL3937515  0.0009    nM   \n2      CHEMBL3949213  0.0010    nM   \n3      CHEMBL3955051  0.0018    nM   \n4      CHEMBL3936264  0.0057    nM   \n\n                                              smiles      pIC50  \\\n0  CC1(C)C(N)=N[C@](C)(c2cc(NC(=O)c3ccc(C#N)cn3)c...  12.698970   \n1  COc1cnc(C(=O)Nc2ccc(F)c([C@]3(C)CS(=O)(=O)C(C)...  12.045757   \n2  C[C@@]1(c2cc(NC(=O)c3ccc(C#N)cn3)ccc2F)CS(=O)(...  12.000000   \n3  CC1(C)C(N)=N[C@](C)(c2cc(NC(=O)c3cnc(C(F)F)cn3...  11.744727   \n4  C[C@@]1(c2cc(NC(=O)c3ccc(OC(F)F)cn3)ccc2F)CS(=...  11.244125   \n\n                                              ROMol  \\\n0  <rdkit.Chem.rdchem.Mol object at 0x7f85689dd580>   \n1  <rdkit.Chem.rdchem.Mol object at 0x7f85689dd620>   \n2  <rdkit.Chem.rdchem.Mol object at 0x7f85689dd6c0>   \n3  <rdkit.Chem.rdchem.Mol object at 0x7f85689dd760>   \n4  <rdkit.Chem.rdchem.Mol object at 0x7f85689dd800>   \n\n                                               graph  \n0  [(x, [tensor([6, 0, 4, 5, 3, 0, 4, 0, 0]), ten...  \n1  [(x, [tensor([6, 0, 4, 5, 3, 0, 4, 0, 0]), ten...  \n2  [(x, [tensor([6, 0, 4, 5, 3, 0, 4, 0, 0]), ten...  \n3  [(x, [tensor([6, 0, 4, 5, 3, 0, 4, 0, 0]), ten...  \n4  [(x, [tensor([6, 0, 4, 5, 3, 0, 4, 0, 0]), ten...  ",
      "text/html": "<div>\n<style scoped>\n    .dataframe tbody tr th:only-of-type {\n        vertical-align: middle;\n    }\n\n    .dataframe tbody tr th {\n        vertical-align: top;\n    }\n\n    .dataframe thead th {\n        text-align: right;\n    }\n</style>\n<table border=\"1\" class=\"dataframe\">\n  <thead>\n    <tr style=\"text-align: right;\">\n      <th></th>\n      <th>molecule_chembl_id</th>\n      <th>IC50</th>\n      <th>units</th>\n      <th>smiles</th>\n      <th>pIC50</th>\n      <th>ROMol</th>\n      <th>graph</th>\n    </tr>\n  </thead>\n  <tbody>\n    <tr>\n      <th>0</th>\n      <td>CHEMBL3969403</td>\n      <td>0.0002</td>\n      <td>nM</td>\n      <td>CC1(C)C(N)=N[C@](C)(c2cc(NC(=O)c3ccc(C#N)cn3)c...</td>\n      <td>12.698970</td>\n      <td>&lt;rdkit.Chem.rdchem.Mol object at 0x7f85689dd580&gt;</td>\n      <td>[(x, [tensor([6, 0, 4, 5, 3, 0, 4, 0, 0]), ten...</td>\n    </tr>\n    <tr>\n      <th>1</th>\n      <td>CHEMBL3937515</td>\n      <td>0.0009</td>\n      <td>nM</td>\n      <td>COc1cnc(C(=O)Nc2ccc(F)c([C@]3(C)CS(=O)(=O)C(C)...</td>\n      <td>12.045757</td>\n      <td>&lt;rdkit.Chem.rdchem.Mol object at 0x7f85689dd620&gt;</td>\n      <td>[(x, [tensor([6, 0, 4, 5, 3, 0, 4, 0, 0]), ten...</td>\n    </tr>\n    <tr>\n      <th>2</th>\n      <td>CHEMBL3949213</td>\n      <td>0.0010</td>\n      <td>nM</td>\n      <td>C[C@@]1(c2cc(NC(=O)c3ccc(C#N)cn3)ccc2F)CS(=O)(...</td>\n      <td>12.000000</td>\n      <td>&lt;rdkit.Chem.rdchem.Mol object at 0x7f85689dd6c0&gt;</td>\n      <td>[(x, [tensor([6, 0, 4, 5, 3, 0, 4, 0, 0]), ten...</td>\n    </tr>\n    <tr>\n      <th>3</th>\n      <td>CHEMBL3955051</td>\n      <td>0.0018</td>\n      <td>nM</td>\n      <td>CC1(C)C(N)=N[C@](C)(c2cc(NC(=O)c3cnc(C(F)F)cn3...</td>\n      <td>11.744727</td>\n      <td>&lt;rdkit.Chem.rdchem.Mol object at 0x7f85689dd760&gt;</td>\n      <td>[(x, [tensor([6, 0, 4, 5, 3, 0, 4, 0, 0]), ten...</td>\n    </tr>\n    <tr>\n      <th>4</th>\n      <td>CHEMBL3936264</td>\n      <td>0.0057</td>\n      <td>nM</td>\n      <td>C[C@@]1(c2cc(NC(=O)c3ccc(OC(F)F)cn3)ccc2F)CS(=...</td>\n      <td>11.244125</td>\n      <td>&lt;rdkit.Chem.rdchem.Mol object at 0x7f85689dd800&gt;</td>\n      <td>[(x, [tensor([6, 0, 4, 5, 3, 0, 4, 0, 0]), ten...</td>\n    </tr>\n  </tbody>\n</table>\n</div>"
     },
     "execution_count": 3,
     "metadata": {},
     "output_type": "execute_result"
    }
   ],
   "source": [
    "chembl_df = pd.read_csv(DATA/\"BACE_compounds.csv\",\n",
    "    index_col=0,\n",
    ")\n",
    "\n",
    "print(\"Shape of dataframe : \", chembl_df.shape)\n",
    "chembl_df.head()"
   ]
  },
  {
   "cell_type": "markdown",
   "id": "bb3160da-d039-46e1-967f-a895027f2c04",
   "metadata": {},
   "source": [
    "Keep only the needed columns"
   ]
  },
  {
   "cell_type": "code",
   "execution_count": 4,
   "id": "1c1f4868-61ea-44d0-b4b2-c5fe50cc1071",
   "metadata": {},
   "outputs": [
    {
     "data": {
      "text/plain": "  molecule_chembl_id                                             smiles  \\\n0      CHEMBL3969403  CC1(C)C(N)=N[C@](C)(c2cc(NC(=O)c3ccc(C#N)cn3)c...   \n1      CHEMBL3937515  COc1cnc(C(=O)Nc2ccc(F)c([C@]3(C)CS(=O)(=O)C(C)...   \n2      CHEMBL3949213  C[C@@]1(c2cc(NC(=O)c3ccc(C#N)cn3)ccc2F)CS(=O)(...   \n3      CHEMBL3955051  CC1(C)C(N)=N[C@](C)(c2cc(NC(=O)c3cnc(C(F)F)cn3...   \n4      CHEMBL3936264  C[C@@]1(c2cc(NC(=O)c3ccc(OC(F)F)cn3)ccc2F)CS(=...   \n\n                                               graph      pIC50  \n0  [(x, [tensor([6, 0, 4, 5, 3, 0, 4, 0, 0]), ten...  12.698970  \n1  [(x, [tensor([6, 0, 4, 5, 3, 0, 4, 0, 0]), ten...  12.045757  \n2  [(x, [tensor([6, 0, 4, 5, 3, 0, 4, 0, 0]), ten...  12.000000  \n3  [(x, [tensor([6, 0, 4, 5, 3, 0, 4, 0, 0]), ten...  11.744727  \n4  [(x, [tensor([6, 0, 4, 5, 3, 0, 4, 0, 0]), ten...  11.244125  ",
      "text/html": "<div>\n<style scoped>\n    .dataframe tbody tr th:only-of-type {\n        vertical-align: middle;\n    }\n\n    .dataframe tbody tr th {\n        vertical-align: top;\n    }\n\n    .dataframe thead th {\n        text-align: right;\n    }\n</style>\n<table border=\"1\" class=\"dataframe\">\n  <thead>\n    <tr style=\"text-align: right;\">\n      <th></th>\n      <th>molecule_chembl_id</th>\n      <th>smiles</th>\n      <th>graph</th>\n      <th>pIC50</th>\n    </tr>\n  </thead>\n  <tbody>\n    <tr>\n      <th>0</th>\n      <td>CHEMBL3969403</td>\n      <td>CC1(C)C(N)=N[C@](C)(c2cc(NC(=O)c3ccc(C#N)cn3)c...</td>\n      <td>[(x, [tensor([6, 0, 4, 5, 3, 0, 4, 0, 0]), ten...</td>\n      <td>12.698970</td>\n    </tr>\n    <tr>\n      <th>1</th>\n      <td>CHEMBL3937515</td>\n      <td>COc1cnc(C(=O)Nc2ccc(F)c([C@]3(C)CS(=O)(=O)C(C)...</td>\n      <td>[(x, [tensor([6, 0, 4, 5, 3, 0, 4, 0, 0]), ten...</td>\n      <td>12.045757</td>\n    </tr>\n    <tr>\n      <th>2</th>\n      <td>CHEMBL3949213</td>\n      <td>C[C@@]1(c2cc(NC(=O)c3ccc(C#N)cn3)ccc2F)CS(=O)(...</td>\n      <td>[(x, [tensor([6, 0, 4, 5, 3, 0, 4, 0, 0]), ten...</td>\n      <td>12.000000</td>\n    </tr>\n    <tr>\n      <th>3</th>\n      <td>CHEMBL3955051</td>\n      <td>CC1(C)C(N)=N[C@](C)(c2cc(NC(=O)c3cnc(C(F)F)cn3...</td>\n      <td>[(x, [tensor([6, 0, 4, 5, 3, 0, 4, 0, 0]), ten...</td>\n      <td>11.744727</td>\n    </tr>\n    <tr>\n      <th>4</th>\n      <td>CHEMBL3936264</td>\n      <td>C[C@@]1(c2cc(NC(=O)c3ccc(OC(F)F)cn3)ccc2F)CS(=...</td>\n      <td>[(x, [tensor([6, 0, 4, 5, 3, 0, 4, 0, 0]), ten...</td>\n      <td>11.244125</td>\n    </tr>\n  </tbody>\n</table>\n</div>"
     },
     "execution_count": 4,
     "metadata": {},
     "output_type": "execute_result"
    }
   ],
   "source": [
    "chembl_df = chembl_df[[\"molecule_chembl_id\", \"smiles\", \"pIC50\"]]\n",
    "chembl_df.head()"
   ]
  },
  {
   "cell_type": "markdown",
   "id": "11b2bc16-3a5e-4c4b-9eaa-7188c0b700e5",
   "metadata": {},
   "source": [
    "Add column for fingerprints"
   ]
  },
  {
   "cell_type": "code",
   "execution_count": 5,
   "outputs": [],
   "source": [
    "compound_df = chembl_df.copy()"
   ],
   "metadata": {
    "collapsed": false
   }
  },
  {
   "cell_type": "markdown",
   "source": [
    "Set the number of folds"
   ],
   "metadata": {
    "collapsed": false
   }
  },
  {
   "cell_type": "code",
   "execution_count": 6,
   "outputs": [],
   "source": [
    "N_FOLDS = 5"
   ],
   "metadata": {
    "collapsed": false
   }
  },
  {
   "cell_type": "markdown",
   "source": [
    "Fingerprints. The structures of the compounds will be transferred from SMILES notation to Morgan Fingerprints with a radius of 3, to explicitly describe the features of the compounds."
   ],
   "metadata": {
    "collapsed": false
   }
  },
  {
   "cell_type": "markdown",
   "source": [
    "Define function to convert the smiles into fingerprints"
   ],
   "metadata": {
    "collapsed": false
   }
  },
  {
   "cell_type": "code",
   "execution_count": null,
   "outputs": [],
   "source": [
    "def smiles_to_fp(smiles, method=\"maccs\", n_bits=2048):\n",
    "    \"\"\"\n",
    "    Encode a molecule from a SMILES string into a fingerprint.\n",
    "\n",
    "    Parameters\n",
    "    ----------\n",
    "    smiles : str\n",
    "        The SMILES string defining the molecule.\n",
    "\n",
    "    method : str\n",
    "        The type of fingerprint to use. Default is MACCS keys.\n",
    "\n",
    "    n_bits : int\n",
    "        The length of the fingerprint.\n",
    "\n",
    "    Returns\n",
    "    -------\n",
    "    array\n",
    "        The fingerprint array.\n",
    "\n",
    "    \"\"\"\n",
    "\n",
    "    # convert smiles to RDKit mol object\n",
    "    mol = Chem.MolFromSmiles(smiles)\n",
    "\n",
    "    if method == \"maccs\":\n",
    "        return np.array(MACCSkeys.GenMACCSKeys(mol))\n",
    "    if method == \"morgan2\":\n",
    "        return np.array(GetMorganFingerprintAsBitVect(mol, 2, nBits=n_bits))\n",
    "    if method == \"morgan3\":\n",
    "        return np.array(GetMorganFingerprintAsBitVect(mol, 3, nBits=n_bits))\n",
    "    else:\n",
    "        # NBVAL_CHECK_OUTPUT\n",
    "        print(f\"Warning: Wrong method specified: {method}. Default will be used instead.\")\n",
    "        return np.array(MACCSkeys.GenMACCSKeys(mol))"
   ],
   "metadata": {
    "collapsed": false
   }
  },
  {
   "cell_type": "markdown",
   "source": [
    "[Moet dat niet later pas?]"
   ],
   "metadata": {
    "collapsed": false
   }
  },
  {
   "cell_type": "markdown",
   "source": [
    "Use Morgan fingerprint with radius 3"
   ],
   "metadata": {
    "collapsed": false
   }
  },
  {
   "cell_type": "code",
   "execution_count": null,
   "outputs": [],
   "source": [
    "compound_df[\"fp\"] = compound_df[\"smiles\"].apply(smiles_to_fp, args=(\"morgan3\",))\n",
    "compound_df.head()"
   ],
   "metadata": {
    "collapsed": false
   }
  },
  {
   "cell_type": "markdown",
   "source": [
    "Define function for machine learning model training and validation in a cross-validation loop"
   ],
   "metadata": {
    "collapsed": false
   }
  },
  {
   "cell_type": "markdown",
   "source": [
    "[Wat doet deze functie precies?]"
   ],
   "metadata": {
    "collapsed": false
   }
  },
  {
   "cell_type": "code",
   "execution_count": null,
   "outputs": [],
   "source": [
    "def crossvalidation_reg(ml_model, df, n_folds=5, verbose=False):\n",
    "    \"\"\"\n",
    "    Machine learning model training and validation in a cross-validation loop.\n",
    "\n",
    "    Parameters\n",
    "    ----------\n",
    "    ml_model: sklearn model object\n",
    "        The machine learning model to train.\n",
    "    df: pd.DataFrame\n",
    "        Data set with SMILES and their associated activity labels.\n",
    "    n_folds: int, optional\n",
    "        Number of folds for cross-validation.\n",
    "    verbose: bool, optional\n",
    "        Performance measures are printed.\n",
    "\n",
    "    Returns\n",
    "    -------\n",
    "    None\n",
    "\n",
    "    \"\"\"\n",
    "    t0 = time.time()\n",
    "    # Shuffle the indices for the k-fold cross-validation\n",
    "    kf = KFold(n_splits=n_folds, shuffle=True)#, random_state=SEED)\n",
    "\n",
    "    # Results for each of the cross-validation folds\n",
    "    MAE_per_fold = []\n",
    "    RMSE_per_fold = []\n",
    "\n",
    "    # Loop over the folds\n",
    "    for train_index, test_index in kf.split(df):\n",
    "        # clone model -- we want a fresh copy per fold!\n",
    "        fold_model = clone(ml_model)\n",
    "        # Training\n",
    "\n",
    "        # Convert the fingerprint and the label to a list\n",
    "        train_x = df.iloc[train_index].fp.tolist()\n",
    "        train_y = df.iloc[train_index].pIC50.tolist()\n",
    "\n",
    "        # Fit the model\n",
    "        fold_model.fit(train_x, train_y)\n",
    "\n",
    "        # Testing\n",
    "\n",
    "        # Convert the fingerprint and the label to a list\n",
    "        test_x = df.iloc[test_index].fp.tolist()\n",
    "        test_y = df.iloc[test_index].pIC50.tolist()\n",
    "\n",
    "        test_results = fold_model.predict(test_x)\n",
    "        # Prediction probability on test set\n",
    "        from sklearn import metrics\n",
    "\n",
    "        MAE_per_fold.append(metrics.mean_absolute_error(test_y, test_results))\n",
    "        #print('Mean Squared Error (MSE):', metrics.mean_squared_error(test_y, test_results))\n",
    "        RMSE_per_fold.append(np.sqrt(metrics.mean_squared_error(test_y, test_results)))\n",
    "\n",
    "        #from sklearn.metrics import matthews_corrcoef\n",
    "\n",
    "\n",
    "        #print(matthews_corrcoef(test_y, test_results))\n",
    "        #mape = np.mean(np.abs((gt - pred) / np.abs(gt)))\n",
    "        #print('Mean Absolute Percentage Error (MAPE):', round(mape * 100, 2))\n",
    "        #print('Accuracy:', round(100*(1 - mape), 2))\n",
    "    return(MAE_per_fold,RMSE_per_fold,fold_model)"
   ],
   "metadata": {
    "collapsed": false
   }
  },
  {
   "cell_type": "markdown",
   "source": [
    "Random forest regressor model"
   ],
   "metadata": {
    "collapsed": false
   }
  },
  {
   "cell_type": "markdown",
   "source": [
    "The benefit of a regression model as opposed to a classification model is that it can not only predict if the new compound is active or inactive, but also the pIC50 value of the compound."
   ],
   "metadata": {
    "collapsed": false
   }
  },
  {
   "cell_type": "code",
   "execution_count": null,
   "outputs": [],
   "source": [
    "models = [{\"label\": \"Model_RF_reg\", \"model\": RandomForestRegressor}]"
   ],
   "metadata": {
    "collapsed": false
   }
  },
  {
   "cell_type": "markdown",
   "source": [
    "Train model with RandomForestRegressor and show validation scores"
   ],
   "metadata": {
    "collapsed": false
   }
  },
  {
   "cell_type": "code",
   "execution_count": null,
   "outputs": [],
   "source": [
    "regressor = RandomForestRegressor()\n",
    "MAE, RMSE,trained_model = crossvalidation_reg(regressor, compound_df, n_folds=N_FOLDS)\n",
    "\n",
    "print(\n",
    "f\"Mean Absolute Error (MAE): {np.mean(MAE):.2f} \\t\"\n",
    "f\"and std : {np.std(MAE):.2f} \\n\"\n",
    "f\"Root Mean Square Error (RMSE): {np.mean(RMSE):.2f} \\t\"\n",
    "f\"and std : {np.std(RMSE):.2f} \\n\"\n",
    ")\n"
   ],
   "metadata": {
    "collapsed": false
   }
  },
  {
   "cell_type": "code",
   "execution_count": null,
   "outputs": [],
   "source": [
    "compound_df.head()"
   ],
   "metadata": {
    "collapsed": false
   }
  },
  {
   "cell_type": "markdown",
   "id": "60dd91e6",
   "metadata": {},
   "source": [
    "To validate the performance of the model, the data was split into a train and test set. In this case this is done in a k-fold cross-validation. In this method, the data is split into k stratified folds. K separate models are trained, each with one of these folds as test data, and all other folds as training data. The k different calculated performances are then averaged for a more consistent performance overall. The errors between the predicted data and obtained experimental data are determined with a Mean Absolute Error (MAE) and a Root Mean Square Error (RMSE). \n",
    "\n",
    "[Herschrijven?]"
   ]
  },
  {
   "cell_type": "markdown",
   "id": "878610af",
   "metadata": {},
   "source": [
    "[Zijn deze waarde oke? Hoe kunnen ze verbeterd worden? Below 0.6 quite decent?]"
   ]
  },
  {
   "cell_type": "code",
   "execution_count": null,
   "id": "8ab60106-aa04-4ff2-8f13-26cd5c081f97",
   "metadata": {},
   "outputs": [],
   "source": [
    "print(trained_model)"
   ]
  },
  {
   "cell_type": "markdown",
   "id": "0d21704a",
   "metadata": {},
   "source": [
    "This trained model will below be used to predict the pIC50 values of the novel, drug-like, generated compounds of part 8."
   ]
  },
  {
   "cell_type": "markdown",
   "id": "8edba61b",
   "metadata": {},
   "source": [
    "### Generated Compounds: predict pIC50 with the trained random forest regression model"
   ]
  },
  {
   "cell_type": "markdown",
   "id": "25dd58ad-8c2b-4be5-b5ed-ea9380f4d4f9",
   "metadata": {},
   "source": [
    "Read the filtered, generated compound data of part 8"
   ]
  },
  {
   "cell_type": "code",
   "execution_count": null,
   "id": "6eb309eb-9b50-4502-9562-11bd93a9a362",
   "metadata": {},
   "outputs": [],
   "source": [
    "novelcompound_df = pd.read_csv(\n",
    "   DATA / \"generated_part8.csv\", index_col=0,\n",
    ")\n",
    "\n",
    "print(\"Shape of dataframe : \", novelcompound_df.shape)\n",
    "novelcompound_df.head()"
   ]
  },
  {
   "cell_type": "markdown",
   "id": "39caaf5b-45db-4523-8745-ff858238efd0",
   "metadata": {},
   "source": [
    "List with SMILES"
   ]
  },
  {
   "cell_type": "code",
   "execution_count": null,
   "id": "e96fdbc7-3b6d-490a-b534-b33d3d3a32da",
   "metadata": {},
   "outputs": [],
   "source": [
    "novelcompound_df_smiles = novelcompound_df.SMILES.tolist()"
   ]
  },
  {
   "cell_type": "markdown",
   "id": "54432b80",
   "metadata": {},
   "source": [
    "Convert SMILES to morgan fingerprints with radius 3. Use these fingerprints to predict the pIC50 of these compounds with the trained random forest regression model. "
   ]
  },
  {
   "cell_type": "code",
   "execution_count": null,
   "id": "91062a6f-6c6a-41ea-87a2-e9a834951047",
   "metadata": {},
   "outputs": [],
   "source": [
    "fps = []\n",
    "\n",
    "for smiles in novelcompound_df_smiles: \n",
    "    fp = smiles_to_fp(smiles,'morgan3')\n",
    "    fps.append(fp)\n",
    "\n",
    "predictions = trained_model.predict(fps)"
   ]
  },
  {
   "cell_type": "markdown",
   "id": "47edd243",
   "metadata": {},
   "source": [
    "Show results"
   ]
  },
  {
   "cell_type": "code",
   "execution_count": null,
   "id": "7bd0bab2-cf84-4010-b512-fec3ff7707d1",
   "metadata": {},
   "outputs": [],
   "source": [
    "novelcompound_df_smiles_results = pd.DataFrame({\n",
    "\"SMILES\" : novelcompound_df_smiles,\n",
    "\"predicted_pIC50\" : predictions\n",
    "})"
   ]
  },
  {
   "cell_type": "code",
   "execution_count": null,
   "id": "5a2daa6a-4cff-4547-bebe-49f4c57c980e",
   "metadata": {
    "scrolled": true
   },
   "outputs": [],
   "source": [
    "novelcompound_df_smiles_results_m = pd.merge(\n",
    "    novelcompound_df_smiles_results,\n",
    "    novelcompound_df,\n",
    "    on = \"SMILES\",\n",
    ")\n",
    "\n",
    "PandasTools.AddMoleculeColumnToFrame(novelcompound_df_smiles_results_m, smilesCol=\"SMILES\")\n",
    "novelcompound_df_smiles_results_m.sort_values(by=\"predicted_pIC50\", ascending = False, inplace = True)\n",
    "novelcompound_df_smiles_results_m.reset_index(drop=True, inplace=True)\n",
    "novelcompound_df_smiles_results_m.head(10)"
   ]
  },
  {
   "cell_type": "markdown",
   "id": "70cbbf84",
   "metadata": {},
   "source": [
    "[Say something about the results, is the pIC50 high? Do they fulfill Ro5? How do they look? Scaffold? Bestaan ze al? Zijn ze te synthesiseren?]"
   ]
  },
  {
   "cell_type": "markdown",
   "id": "1556d24c-5ee7-4fb4-bbf3-5b4e8b780e98",
   "metadata": {},
   "source": [
    "Save results of the novel compounds"
   ]
  },
  {
   "cell_type": "code",
   "execution_count": null,
   "id": "c3a3b4b3-89b7-459c-a7ae-7a65ac131d15",
   "metadata": {},
   "outputs": [],
   "source": [
    "output_df = novelcompound_df_smiles_results_m.drop(\"ROMol\", axis = 1)\n",
    "output_df.to_csv(DATA/\"nieuwmoleculenlijst_voorspellingen.csv\")\n",
    "output_df.head()"
   ]
  },
  {
   "cell_type": "code",
   "execution_count": null,
   "id": "87f1a609-d4b8-4be2-bbe5-f450a42e071a",
   "metadata": {},
   "outputs": [],
   "source": []
  },
  {
   "cell_type": "code",
   "execution_count": null,
   "id": "9497bdef-ab4e-4a4c-ac1a-f5fee7011dc3",
   "metadata": {},
   "outputs": [],
   "source": []
  }
 ],
 "metadata": {
  "kernelspec": {
   "display_name": "Python 3 (ipykernel)",
   "language": "python",
   "name": "python3"
  },
  "language_info": {
   "codemirror_mode": {
    "name": "ipython",
    "version": 3
   },
   "file_extension": ".py",
   "mimetype": "text/x-python",
   "name": "python",
   "nbconvert_exporter": "python",
   "pygments_lexer": "ipython3",
   "version": "3.9.12"
  }
 },
 "nbformat": 4,
 "nbformat_minor": 5
}
