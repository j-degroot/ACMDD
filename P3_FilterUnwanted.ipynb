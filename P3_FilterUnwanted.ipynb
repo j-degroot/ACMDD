{
 "cells": [
  {
   "cell_type": "markdown",
   "id": "762419b9-60be-4dba-ae52-61618b0ac33b",
   "metadata": {},
   "source": [
    "# Part 3: Filter compounds for PAINS and other unwanted substructures"
   ]
  },
  {
   "cell_type": "markdown",
   "id": "263d6189",
   "metadata": {},
   "source": [
    "Unwanted side effects are not desired for promising compounds. In this part will compounds with known unwanted substructures filtered out of the dataset. \n",
    "\n",
    "Therefore Pan-assay interference compounds (PAINS) will be filtered out of the dataset, as these structures bind unspecifically, which can result in inwanted side effects. Filtering those PAINS can be done by filtering on the substructres that are desribed by Baell et al. (2010). Moreover, Brenk et al. (2008) provided a list of other unwatned substructures, which will be used for futher substructure filtering. "
   ]
  },
  {
   "cell_type": "markdown",
   "id": "27bc62f7-ea0e-4ffe-8a78-184b8c75e0a5",
   "metadata": {},
   "source": [
    "Import required libraries"
   ]
  },
  {
   "cell_type": "code",
   "execution_count": 1,
   "id": "3e22da42-776c-4faa-91ca-403c9428f3de",
   "metadata": {},
   "outputs": [],
   "source": [
    "from pathlib import Path\n",
    "\n",
    "import pandas as pd\n",
    "from tqdm.auto import tqdm\n",
    "from rdkit import Chem\n",
    "from rdkit.Chem import PandasTools\n",
    "from rdkit.Chem.FilterCatalog import FilterCatalog, FilterCatalogParams"
   ]
  },
  {
   "cell_type": "markdown",
   "id": "d86ed8a5-3d6e-45e0-9759-941cc5ec3f67",
   "metadata": {},
   "source": [
    "Define paths to this notebook"
   ]
  },
  {
   "cell_type": "code",
   "execution_count": 2,
   "id": "7bb2269f-8f95-4cbe-b9a4-548ca12b570d",
   "metadata": {},
   "outputs": [],
   "source": [
    "HERE = Path(_dh[-1])\n",
    "DATA = HERE / \"data\""
   ]
  },
  {
   "cell_type": "code",
   "execution_count": 14,
   "outputs": [
    {
     "name": "stdout",
     "output_type": "stream",
     "text": [
      "/Users/Jurren/Documents/GitHub/ACMDD/data\n"
     ]
    }
   ],
   "source": [
    "print(DATA)"
   ],
   "metadata": {
    "collapsed": false
   }
  },
  {
   "cell_type": "markdown",
   "id": "49c1d11c-f60a-4944-864a-90001c202ae8",
   "metadata": {},
   "source": [
    "Read data from Part 2"
   ]
  },
  {
   "cell_type": "code",
   "execution_count": 3,
   "id": "7ac4ec9b-d122-47f0-a346-134e94a9e7d1",
   "metadata": {},
   "outputs": [
    {
     "data": {
      "text/plain": "     molecule_chembl_id          IC50 units  \\\n0         CHEMBL3969403  2.000000e-04    nM   \n1         CHEMBL3937515  9.000000e-04    nM   \n2         CHEMBL3949213  1.000000e-03    nM   \n3         CHEMBL3955051  1.800000e-03    nM   \n4         CHEMBL3936264  5.700000e-03    nM   \n...                 ...           ...   ...   \n6686      CHEMBL1222034  2.854000e+06    nM   \n6687      CHEMBL1934194  3.442000e+06    nM   \n6688      CHEMBL3586134  4.000000e+06    nM   \n6689      CHEMBL3261080  8.200000e+06    nM   \n6690      CHEMBL3910805  3.700000e+07    nM   \n\n                                                 smiles      pIC50  \\\n0     CC1(C)C(N)=N[C@](C)(c2cc(NC(=O)c3ccc(C#N)cn3)c...  12.698970   \n1     COc1cnc(C(=O)Nc2ccc(F)c([C@]3(C)CS(=O)(=O)C(C)...  12.045757   \n2     C[C@@]1(c2cc(NC(=O)c3ccc(C#N)cn3)ccc2F)CS(=O)(...  12.000000   \n3     CC1(C)C(N)=N[C@](C)(c2cc(NC(=O)c3cnc(C(F)F)cn3...  11.744727   \n4     C[C@@]1(c2cc(NC(=O)c3ccc(OC(F)F)cn3)ccc2F)CS(=...  11.244125   \n...                                                 ...        ...   \n6686                  Nc1nc2cc(Cl)ccc2n1CCCC(=O)NCC1CC1   2.544546   \n6687               COc1c2occc2c(OCC=C(C)C)c2ccc(=O)oc12   2.463189   \n6688                                   NC1=NC2CCCCC2CS1   2.397940   \n6689                                     CC1=CSC(N)=NN1   2.086186   \n6690  CC1([C@@H]2C[C@@H]3CSC(N)=N[C@]3(c3ccc(F)cc3F)...   1.431798   \n\n      molecular_weight  n_hba  n_hbd     logp  ro5_fulfilled  \n0           429.127089      7      2  2.12408           True  \n1           435.137653      8      2  1.65600           True  \n2           455.142739      7      2  2.65828           True  \n3           455.123895      7      2  2.58500           True  \n4           442.092261      7      2  2.07520           True  \n...                ...    ...    ...      ...            ...  \n6686        306.124739      4      2  2.57830           True  \n6687        300.099774      5      0  3.89280           True  \n6688        170.087769      3      1  1.60670           True  \n6689        129.036068      4      2  0.41380           True  \n6690        338.126441      4      1  3.42680           True  \n\n[6691 rows x 10 columns]",
      "text/html": "<div>\n<style scoped>\n    .dataframe tbody tr th:only-of-type {\n        vertical-align: middle;\n    }\n\n    .dataframe tbody tr th {\n        vertical-align: top;\n    }\n\n    .dataframe thead th {\n        text-align: right;\n    }\n</style>\n<table border=\"1\" class=\"dataframe\">\n  <thead>\n    <tr style=\"text-align: right;\">\n      <th></th>\n      <th>molecule_chembl_id</th>\n      <th>IC50</th>\n      <th>units</th>\n      <th>smiles</th>\n      <th>pIC50</th>\n      <th>molecular_weight</th>\n      <th>n_hba</th>\n      <th>n_hbd</th>\n      <th>logp</th>\n      <th>ro5_fulfilled</th>\n    </tr>\n  </thead>\n  <tbody>\n    <tr>\n      <th>0</th>\n      <td>CHEMBL3969403</td>\n      <td>2.000000e-04</td>\n      <td>nM</td>\n      <td>CC1(C)C(N)=N[C@](C)(c2cc(NC(=O)c3ccc(C#N)cn3)c...</td>\n      <td>12.698970</td>\n      <td>429.127089</td>\n      <td>7</td>\n      <td>2</td>\n      <td>2.12408</td>\n      <td>True</td>\n    </tr>\n    <tr>\n      <th>1</th>\n      <td>CHEMBL3937515</td>\n      <td>9.000000e-04</td>\n      <td>nM</td>\n      <td>COc1cnc(C(=O)Nc2ccc(F)c([C@]3(C)CS(=O)(=O)C(C)...</td>\n      <td>12.045757</td>\n      <td>435.137653</td>\n      <td>8</td>\n      <td>2</td>\n      <td>1.65600</td>\n      <td>True</td>\n    </tr>\n    <tr>\n      <th>2</th>\n      <td>CHEMBL3949213</td>\n      <td>1.000000e-03</td>\n      <td>nM</td>\n      <td>C[C@@]1(c2cc(NC(=O)c3ccc(C#N)cn3)ccc2F)CS(=O)(...</td>\n      <td>12.000000</td>\n      <td>455.142739</td>\n      <td>7</td>\n      <td>2</td>\n      <td>2.65828</td>\n      <td>True</td>\n    </tr>\n    <tr>\n      <th>3</th>\n      <td>CHEMBL3955051</td>\n      <td>1.800000e-03</td>\n      <td>nM</td>\n      <td>CC1(C)C(N)=N[C@](C)(c2cc(NC(=O)c3cnc(C(F)F)cn3...</td>\n      <td>11.744727</td>\n      <td>455.123895</td>\n      <td>7</td>\n      <td>2</td>\n      <td>2.58500</td>\n      <td>True</td>\n    </tr>\n    <tr>\n      <th>4</th>\n      <td>CHEMBL3936264</td>\n      <td>5.700000e-03</td>\n      <td>nM</td>\n      <td>C[C@@]1(c2cc(NC(=O)c3ccc(OC(F)F)cn3)ccc2F)CS(=...</td>\n      <td>11.244125</td>\n      <td>442.092261</td>\n      <td>7</td>\n      <td>2</td>\n      <td>2.07520</td>\n      <td>True</td>\n    </tr>\n    <tr>\n      <th>...</th>\n      <td>...</td>\n      <td>...</td>\n      <td>...</td>\n      <td>...</td>\n      <td>...</td>\n      <td>...</td>\n      <td>...</td>\n      <td>...</td>\n      <td>...</td>\n      <td>...</td>\n    </tr>\n    <tr>\n      <th>6686</th>\n      <td>CHEMBL1222034</td>\n      <td>2.854000e+06</td>\n      <td>nM</td>\n      <td>Nc1nc2cc(Cl)ccc2n1CCCC(=O)NCC1CC1</td>\n      <td>2.544546</td>\n      <td>306.124739</td>\n      <td>4</td>\n      <td>2</td>\n      <td>2.57830</td>\n      <td>True</td>\n    </tr>\n    <tr>\n      <th>6687</th>\n      <td>CHEMBL1934194</td>\n      <td>3.442000e+06</td>\n      <td>nM</td>\n      <td>COc1c2occc2c(OCC=C(C)C)c2ccc(=O)oc12</td>\n      <td>2.463189</td>\n      <td>300.099774</td>\n      <td>5</td>\n      <td>0</td>\n      <td>3.89280</td>\n      <td>True</td>\n    </tr>\n    <tr>\n      <th>6688</th>\n      <td>CHEMBL3586134</td>\n      <td>4.000000e+06</td>\n      <td>nM</td>\n      <td>NC1=NC2CCCCC2CS1</td>\n      <td>2.397940</td>\n      <td>170.087769</td>\n      <td>3</td>\n      <td>1</td>\n      <td>1.60670</td>\n      <td>True</td>\n    </tr>\n    <tr>\n      <th>6689</th>\n      <td>CHEMBL3261080</td>\n      <td>8.200000e+06</td>\n      <td>nM</td>\n      <td>CC1=CSC(N)=NN1</td>\n      <td>2.086186</td>\n      <td>129.036068</td>\n      <td>4</td>\n      <td>2</td>\n      <td>0.41380</td>\n      <td>True</td>\n    </tr>\n    <tr>\n      <th>6690</th>\n      <td>CHEMBL3910805</td>\n      <td>3.700000e+07</td>\n      <td>nM</td>\n      <td>CC1([C@@H]2C[C@@H]3CSC(N)=N[C@]3(c3ccc(F)cc3F)...</td>\n      <td>1.431798</td>\n      <td>338.126441</td>\n      <td>4</td>\n      <td>1</td>\n      <td>3.42680</td>\n      <td>True</td>\n    </tr>\n  </tbody>\n</table>\n<p>6691 rows × 10 columns</p>\n</div>"
     },
     "execution_count": 3,
     "metadata": {},
     "output_type": "execute_result"
    }
   ],
   "source": [
    "data = pd.read_csv(DATA/\"BACE_compounds_lipinski.csv\",\n",
    "    index_col=0,\n",
    ")\n",
    "data"
   ]
  },
  {
   "cell_type": "markdown",
   "id": "0a0e73e2-f20d-432f-87be-1231eb89b893",
   "metadata": {},
   "source": [
    "Drop the columns molecular weight, n_hbd, n_hba, logp as they are not needed anymore. They were only used for to check if it fullfill the RO5. "
   ]
  },
  {
   "cell_type": "code",
   "execution_count": 4,
   "id": "bc44e992-72ce-45ea-ac37-5ed758ebbbcc",
   "metadata": {},
   "outputs": [
    {
     "name": "stdout",
     "output_type": "stream",
     "text": [
      "Dataframe shape: (6691, 10)\n"
     ]
    },
    {
     "data": {
      "text/plain": "  molecule_chembl_id    IC50 units  \\\n0      CHEMBL3969403  0.0002    nM   \n1      CHEMBL3937515  0.0009    nM   \n2      CHEMBL3949213  0.0010    nM   \n3      CHEMBL3955051  0.0018    nM   \n4      CHEMBL3936264  0.0057    nM   \n\n                                              smiles      pIC50  ro5_fulfilled  \n0  CC1(C)C(N)=N[C@](C)(c2cc(NC(=O)c3ccc(C#N)cn3)c...  12.698970           True  \n1  COc1cnc(C(=O)Nc2ccc(F)c([C@]3(C)CS(=O)(=O)C(C)...  12.045757           True  \n2  C[C@@]1(c2cc(NC(=O)c3ccc(C#N)cn3)ccc2F)CS(=O)(...  12.000000           True  \n3  CC1(C)C(N)=N[C@](C)(c2cc(NC(=O)c3cnc(C(F)F)cn3...  11.744727           True  \n4  C[C@@]1(c2cc(NC(=O)c3ccc(OC(F)F)cn3)ccc2F)CS(=...  11.244125           True  ",
      "text/html": "<div>\n<style scoped>\n    .dataframe tbody tr th:only-of-type {\n        vertical-align: middle;\n    }\n\n    .dataframe tbody tr th {\n        vertical-align: top;\n    }\n\n    .dataframe thead th {\n        text-align: right;\n    }\n</style>\n<table border=\"1\" class=\"dataframe\">\n  <thead>\n    <tr style=\"text-align: right;\">\n      <th></th>\n      <th>molecule_chembl_id</th>\n      <th>IC50</th>\n      <th>units</th>\n      <th>smiles</th>\n      <th>pIC50</th>\n      <th>ro5_fulfilled</th>\n    </tr>\n  </thead>\n  <tbody>\n    <tr>\n      <th>0</th>\n      <td>CHEMBL3969403</td>\n      <td>0.0002</td>\n      <td>nM</td>\n      <td>CC1(C)C(N)=N[C@](C)(c2cc(NC(=O)c3ccc(C#N)cn3)c...</td>\n      <td>12.698970</td>\n      <td>True</td>\n    </tr>\n    <tr>\n      <th>1</th>\n      <td>CHEMBL3937515</td>\n      <td>0.0009</td>\n      <td>nM</td>\n      <td>COc1cnc(C(=O)Nc2ccc(F)c([C@]3(C)CS(=O)(=O)C(C)...</td>\n      <td>12.045757</td>\n      <td>True</td>\n    </tr>\n    <tr>\n      <th>2</th>\n      <td>CHEMBL3949213</td>\n      <td>0.0010</td>\n      <td>nM</td>\n      <td>C[C@@]1(c2cc(NC(=O)c3ccc(C#N)cn3)ccc2F)CS(=O)(...</td>\n      <td>12.000000</td>\n      <td>True</td>\n    </tr>\n    <tr>\n      <th>3</th>\n      <td>CHEMBL3955051</td>\n      <td>0.0018</td>\n      <td>nM</td>\n      <td>CC1(C)C(N)=N[C@](C)(c2cc(NC(=O)c3cnc(C(F)F)cn3...</td>\n      <td>11.744727</td>\n      <td>True</td>\n    </tr>\n    <tr>\n      <th>4</th>\n      <td>CHEMBL3936264</td>\n      <td>0.0057</td>\n      <td>nM</td>\n      <td>C[C@@]1(c2cc(NC(=O)c3ccc(OC(F)F)cn3)ccc2F)CS(=...</td>\n      <td>11.244125</td>\n      <td>True</td>\n    </tr>\n  </tbody>\n</table>\n</div>"
     },
     "execution_count": 4,
     "metadata": {},
     "output_type": "execute_result"
    }
   ],
   "source": [
    "print(\"Dataframe shape:\", data.shape)\n",
    "data.drop(columns=[\"molecular_weight\", \"n_hbd\", \"n_hba\", \"logp\"], inplace=True)\n",
    "data.head()"
   ]
  },
  {
   "cell_type": "markdown",
   "id": "a5e79e45-8458-4567-87a2-18af1a0dafc0",
   "metadata": {},
   "source": [
    "Add molecule column"
   ]
  },
  {
   "cell_type": "code",
   "execution_count": 5,
   "id": "63d374ac-1b60-4c0b-9f1a-0dcdb3d65f4e",
   "metadata": {},
   "outputs": [
    {
     "data": {
      "text/plain": "  molecule_chembl_id    IC50 units  \\\n0      CHEMBL3969403  0.0002    nM   \n1      CHEMBL3937515  0.0009    nM   \n2      CHEMBL3949213  0.0010    nM   \n3      CHEMBL3955051  0.0018    nM   \n4      CHEMBL3936264  0.0057    nM   \n\n                                              smiles      pIC50  \\\n0  CC1(C)C(N)=N[C@](C)(c2cc(NC(=O)c3ccc(C#N)cn3)c...  12.698970   \n1  COc1cnc(C(=O)Nc2ccc(F)c([C@]3(C)CS(=O)(=O)C(C)...  12.045757   \n2  C[C@@]1(c2cc(NC(=O)c3ccc(C#N)cn3)ccc2F)CS(=O)(...  12.000000   \n3  CC1(C)C(N)=N[C@](C)(c2cc(NC(=O)c3cnc(C(F)F)cn3...  11.744727   \n4  C[C@@]1(c2cc(NC(=O)c3ccc(OC(F)F)cn3)ccc2F)CS(=...  11.244125   \n\n   ro5_fulfilled                                             ROMol  \n0           True  <rdkit.Chem.rdchem.Mol object at 0x7f8108992680>  \n1           True  <rdkit.Chem.rdchem.Mol object at 0x7f81089926e0>  \n2           True  <rdkit.Chem.rdchem.Mol object at 0x7f81089925c0>  \n3           True  <rdkit.Chem.rdchem.Mol object at 0x7f8108992800>  \n4           True  <rdkit.Chem.rdchem.Mol object at 0x7f81089924a0>  ",
      "text/html": "<div>\n<style scoped>\n    .dataframe tbody tr th:only-of-type {\n        vertical-align: middle;\n    }\n\n    .dataframe tbody tr th {\n        vertical-align: top;\n    }\n\n    .dataframe thead th {\n        text-align: right;\n    }\n</style>\n<table border=\"1\" class=\"dataframe\">\n  <thead>\n    <tr style=\"text-align: right;\">\n      <th></th>\n      <th>molecule_chembl_id</th>\n      <th>IC50</th>\n      <th>units</th>\n      <th>smiles</th>\n      <th>pIC50</th>\n      <th>ro5_fulfilled</th>\n      <th>ROMol</th>\n    </tr>\n  </thead>\n  <tbody>\n    <tr>\n      <th>0</th>\n      <td>CHEMBL3969403</td>\n      <td>0.0002</td>\n      <td>nM</td>\n      <td>CC1(C)C(N)=N[C@](C)(c2cc(NC(=O)c3ccc(C#N)cn3)c...</td>\n      <td>12.698970</td>\n      <td>True</td>\n      <td>&lt;rdkit.Chem.rdchem.Mol object at 0x7f8108992680&gt;</td>\n    </tr>\n    <tr>\n      <th>1</th>\n      <td>CHEMBL3937515</td>\n      <td>0.0009</td>\n      <td>nM</td>\n      <td>COc1cnc(C(=O)Nc2ccc(F)c([C@]3(C)CS(=O)(=O)C(C)...</td>\n      <td>12.045757</td>\n      <td>True</td>\n      <td>&lt;rdkit.Chem.rdchem.Mol object at 0x7f81089926e0&gt;</td>\n    </tr>\n    <tr>\n      <th>2</th>\n      <td>CHEMBL3949213</td>\n      <td>0.0010</td>\n      <td>nM</td>\n      <td>C[C@@]1(c2cc(NC(=O)c3ccc(C#N)cn3)ccc2F)CS(=O)(...</td>\n      <td>12.000000</td>\n      <td>True</td>\n      <td>&lt;rdkit.Chem.rdchem.Mol object at 0x7f81089925c0&gt;</td>\n    </tr>\n    <tr>\n      <th>3</th>\n      <td>CHEMBL3955051</td>\n      <td>0.0018</td>\n      <td>nM</td>\n      <td>CC1(C)C(N)=N[C@](C)(c2cc(NC(=O)c3cnc(C(F)F)cn3...</td>\n      <td>11.744727</td>\n      <td>True</td>\n      <td>&lt;rdkit.Chem.rdchem.Mol object at 0x7f8108992800&gt;</td>\n    </tr>\n    <tr>\n      <th>4</th>\n      <td>CHEMBL3936264</td>\n      <td>0.0057</td>\n      <td>nM</td>\n      <td>C[C@@]1(c2cc(NC(=O)c3ccc(OC(F)F)cn3)ccc2F)CS(=...</td>\n      <td>11.244125</td>\n      <td>True</td>\n      <td>&lt;rdkit.Chem.rdchem.Mol object at 0x7f81089924a0&gt;</td>\n    </tr>\n  </tbody>\n</table>\n</div>"
     },
     "execution_count": 5,
     "metadata": {},
     "output_type": "execute_result"
    }
   ],
   "source": [
    "PandasTools.AddMoleculeColumnToFrame(data, smilesCol=\"smiles\")\n",
    "data.head()"
   ]
  },
  {
   "cell_type": "markdown",
   "id": "f031e851-436d-43ad-b21b-7931eaeb7cd7",
   "metadata": {
    "tags": []
   },
   "source": [
    "## Filter for PAINS"
   ]
  },
  {
   "cell_type": "markdown",
   "id": "1c6ef35e-8867-4f22-b555-12212d6f1d20",
   "metadata": {},
   "source": [
    "Initialize filter"
   ]
  },
  {
   "cell_type": "markdown",
   "id": "c9513eec",
   "metadata": {},
   "source": [
    "[Uitleg: het is een ingebouwde filter]"
   ]
  },
  {
   "cell_type": "code",
   "execution_count": 6,
   "id": "8a9ca931-1c99-4d76-ae0f-a49a52bd90f8",
   "metadata": {},
   "outputs": [],
   "source": [
    "params = FilterCatalogParams()\n",
    "params.AddCatalog(FilterCatalogParams.FilterCatalogs.PAINS)\n",
    "catalog = FilterCatalog(params)"
   ]
  },
  {
   "cell_type": "markdown",
   "id": "cb8d295d-98c5-4aef-86c1-59b51894f0c6",
   "metadata": {},
   "source": [
    "Search for PAINS in the dataset and keep the molecules without PAINS"
   ]
  },
  {
   "cell_type": "code",
   "execution_count": 7,
   "id": "a824b118-16e3-44e3-8c67-d61dd01b7b1a",
   "metadata": {},
   "outputs": [
    {
     "data": {
      "text/plain": "  0%|          | 0/6691 [00:00<?, ?it/s]",
      "application/vnd.jupyter.widget-view+json": {
       "version_major": 2,
       "version_minor": 0,
       "model_id": "9023bbc0073d48d283ef165e220305d6"
      }
     },
     "metadata": {},
     "output_type": "display_data"
    }
   ],
   "source": [
    "matches = []\n",
    "clean = []\n",
    "for index, row in tqdm(data.iterrows(), total=data.shape[0]):\n",
    "    molecule = Chem.MolFromSmiles(row.smiles)\n",
    "    entry = catalog.GetFirstMatch(molecule)  # Get the first matching PAINS\n",
    "    if entry is not None:\n",
    "        # store PAINS information\n",
    "        matches.append(\n",
    "            {\n",
    "                \"chembl_id\": row.molecule_chembl_id,\n",
    "                \"rdkit_molecule\": molecule,\n",
    "                \"pains\": entry.GetDescription().capitalize(),\n",
    "            }\n",
    "        )\n",
    "    else:\n",
    "        # collect indices of molecules without PAINS\n",
    "        clean.append(index)\n",
    "\n",
    "matches = pd.DataFrame(matches)\n",
    "data = data.loc[clean]  # keep molecules without PAINS"
   ]
  },
  {
   "cell_type": "code",
   "execution_count": 8,
   "id": "d71610d9-4a4e-4cf7-b539-d19c1ddab8b9",
   "metadata": {},
   "outputs": [
    {
     "name": "stdout",
     "output_type": "stream",
     "text": [
      "Number of compounds with PAINS: 133\n",
      "Number of compounds without PAINS: 6558\n",
      "percentage of compounds with PAINS: 2.03%\n"
     ]
    }
   ],
   "source": [
    "print(f\"Number of compounds with PAINS: {len(matches)}\")\n",
    "print(f\"Number of compounds without PAINS: {len(data)}\")\n",
    "print(f\"percentage of compounds with PAINS: {round(len(matches)/len(data)*100,2)}%\")\n"
   ]
  },
  {
   "cell_type": "markdown",
   "id": "92f00ebe",
   "metadata": {},
   "source": [
    "The compounds in the dataset are filtered for PAINS in order to avoid unwanted side-effects. 133 (2.03%) compounds contained PAINS and were therefore removed from the dataset. "
   ]
  },
  {
   "cell_type": "markdown",
   "id": "8058b0cb-0b63-413e-843d-359f4c48f265",
   "metadata": {},
   "source": [
    "## Filter for other unwanted substructures"
   ]
  },
  {
   "cell_type": "markdown",
   "id": "655d94a6-0219-43d5-baad-132aa8f8834e",
   "metadata": {},
   "source": [
    "Read file with the unwanted substructures obtained from article (Chem. Med. Chem. (2008), 3, 535-44)"
   ]
  },
  {
   "cell_type": "markdown",
   "id": "f7f1254d",
   "metadata": {},
   "source": [
    "In the table below are the unwanted substructures shown"
   ]
  },
  {
   "cell_type": "code",
   "execution_count": 9,
   "id": "94ed978d-1f88-4066-9fe6-2d120bddd71f",
   "metadata": {},
   "outputs": [
    {
     "name": "stdout",
     "output_type": "stream",
     "text": [
      "Number of unwanted substructures in collection: 104\n"
     ]
    },
    {
     "data": {
      "text/plain": "                           name                                    smarts  \\\n0                 >2EsterGroups    C(=O)O[C,H1].C(=O)O[C,H1].C(=O)O[C,H1]   \n1                2-haloPyridine                     n1c([F,Cl,Br,I])cccc1   \n2                    acidHalide                          C(=O)[Cl,Br,I,F]   \n3                 acyclic-C=C-O                                  C=[C!r]O   \n4                   acylCyanide                                  N#CC(=O)   \n..                          ...                                       ...   \n99                        thiol                                      [SH]   \n100  Three-membered-heterocycle                               *1[O,S,N]*1   \n101                    triflate                        OS(=O)(=O)C(F)(F)F   \n102       triphenyl-methylsilyl  [SiR0,CR0](c1ccccc1)(c2ccccc2)(c3ccccc3)   \n103                 triple-bond                                       C#C   \n\n                                       rdkit_molecule  \n0    <rdkit.Chem.rdchem.Mol object at 0x7f81091e7160>  \n1    <rdkit.Chem.rdchem.Mol object at 0x7f81091e6f80>  \n2    <rdkit.Chem.rdchem.Mol object at 0x7f81091e7340>  \n3    <rdkit.Chem.rdchem.Mol object at 0x7f81091e71c0>  \n4    <rdkit.Chem.rdchem.Mol object at 0x7f81091e74c0>  \n..                                                ...  \n99   <rdkit.Chem.rdchem.Mol object at 0x7f810920d660>  \n100  <rdkit.Chem.rdchem.Mol object at 0x7f810920d6c0>  \n101  <rdkit.Chem.rdchem.Mol object at 0x7f810920d720>  \n102  <rdkit.Chem.rdchem.Mol object at 0x7f810920d780>  \n103  <rdkit.Chem.rdchem.Mol object at 0x7f810920d7e0>  \n\n[104 rows x 3 columns]",
      "text/html": "<div>\n<style scoped>\n    .dataframe tbody tr th:only-of-type {\n        vertical-align: middle;\n    }\n\n    .dataframe tbody tr th {\n        vertical-align: top;\n    }\n\n    .dataframe thead th {\n        text-align: right;\n    }\n</style>\n<table border=\"1\" class=\"dataframe\">\n  <thead>\n    <tr style=\"text-align: right;\">\n      <th></th>\n      <th>name</th>\n      <th>smarts</th>\n      <th>rdkit_molecule</th>\n    </tr>\n  </thead>\n  <tbody>\n    <tr>\n      <th>0</th>\n      <td>&gt;2EsterGroups</td>\n      <td>C(=O)O[C,H1].C(=O)O[C,H1].C(=O)O[C,H1]</td>\n      <td>&lt;rdkit.Chem.rdchem.Mol object at 0x7f81091e7160&gt;</td>\n    </tr>\n    <tr>\n      <th>1</th>\n      <td>2-haloPyridine</td>\n      <td>n1c([F,Cl,Br,I])cccc1</td>\n      <td>&lt;rdkit.Chem.rdchem.Mol object at 0x7f81091e6f80&gt;</td>\n    </tr>\n    <tr>\n      <th>2</th>\n      <td>acidHalide</td>\n      <td>C(=O)[Cl,Br,I,F]</td>\n      <td>&lt;rdkit.Chem.rdchem.Mol object at 0x7f81091e7340&gt;</td>\n    </tr>\n    <tr>\n      <th>3</th>\n      <td>acyclic-C=C-O</td>\n      <td>C=[C!r]O</td>\n      <td>&lt;rdkit.Chem.rdchem.Mol object at 0x7f81091e71c0&gt;</td>\n    </tr>\n    <tr>\n      <th>4</th>\n      <td>acylCyanide</td>\n      <td>N#CC(=O)</td>\n      <td>&lt;rdkit.Chem.rdchem.Mol object at 0x7f81091e74c0&gt;</td>\n    </tr>\n    <tr>\n      <th>...</th>\n      <td>...</td>\n      <td>...</td>\n      <td>...</td>\n    </tr>\n    <tr>\n      <th>99</th>\n      <td>thiol</td>\n      <td>[SH]</td>\n      <td>&lt;rdkit.Chem.rdchem.Mol object at 0x7f810920d660&gt;</td>\n    </tr>\n    <tr>\n      <th>100</th>\n      <td>Three-membered-heterocycle</td>\n      <td>*1[O,S,N]*1</td>\n      <td>&lt;rdkit.Chem.rdchem.Mol object at 0x7f810920d6c0&gt;</td>\n    </tr>\n    <tr>\n      <th>101</th>\n      <td>triflate</td>\n      <td>OS(=O)(=O)C(F)(F)F</td>\n      <td>&lt;rdkit.Chem.rdchem.Mol object at 0x7f810920d720&gt;</td>\n    </tr>\n    <tr>\n      <th>102</th>\n      <td>triphenyl-methylsilyl</td>\n      <td>[SiR0,CR0](c1ccccc1)(c2ccccc2)(c3ccccc3)</td>\n      <td>&lt;rdkit.Chem.rdchem.Mol object at 0x7f810920d780&gt;</td>\n    </tr>\n    <tr>\n      <th>103</th>\n      <td>triple-bond</td>\n      <td>C#C</td>\n      <td>&lt;rdkit.Chem.rdchem.Mol object at 0x7f810920d7e0&gt;</td>\n    </tr>\n  </tbody>\n</table>\n<p>104 rows × 3 columns</p>\n</div>"
     },
     "metadata": {},
     "output_type": "display_data"
    }
   ],
   "source": [
    "substructures = pd.read_csv(DATA/\"unwanted_substructures.csv\", sep=\"\\s+\")\n",
    "substructures[\"rdkit_molecule\"] = substructures.smarts.apply(Chem.MolFromSmarts)\n",
    "print(\"Number of unwanted substructures in collection:\", len(substructures))\n",
    "display(substructures) # Show the substructures that are unwanted "
   ]
  },
  {
   "cell_type": "markdown",
   "id": "aa94b824-f0d4-491a-867b-930b2bb2b1e7",
   "metadata": {},
   "source": [
    "Search for these unwanted substructures in the dataset and keep the molecules without unwanted substructures"
   ]
  },
  {
   "cell_type": "code",
   "execution_count": 10,
   "id": "2d30f8e1-7508-490e-b7ad-f3bcf6e24b41",
   "metadata": {},
   "outputs": [
    {
     "data": {
      "text/plain": "  0%|          | 0/6558 [00:00<?, ?it/s]",
      "application/vnd.jupyter.widget-view+json": {
       "version_major": 2,
       "version_minor": 0,
       "model_id": "fd4e602df3534d76acd6383b81d6a3e5"
      }
     },
     "metadata": {},
     "output_type": "display_data"
    }
   ],
   "source": [
    "matches = []\n",
    "clean = []\n",
    "for index, row in tqdm(data.iterrows(), total=data.shape[0]):\n",
    "    molecule = Chem.MolFromSmiles(row.smiles)\n",
    "    match = False\n",
    "    for _, substructure in substructures.iterrows():\n",
    "        if molecule.HasSubstructMatch(substructure.rdkit_molecule):\n",
    "            matches.append(\n",
    "                {\n",
    "                    \"chembl_id\": row.molecule_chembl_id,\n",
    "                    \"rdkit_molecule\": molecule,\n",
    "                    \"substructure\": substructure.rdkit_molecule,\n",
    "                    \"substructure_name\": substructure[\"name\"],\n",
    "                }\n",
    "            )\n",
    "            match = True\n",
    "    if not match:\n",
    "        clean.append(index)\n",
    "\n",
    "matches = pd.DataFrame(matches)\n",
    "data = data.loc[clean]"
   ]
  },
  {
   "cell_type": "code",
   "execution_count": 11,
   "id": "ef5630d6-9ce9-4498-93d5-4678a61b3806",
   "metadata": {},
   "outputs": [
    {
     "name": "stdout",
     "output_type": "stream",
     "text": [
      "Number of found unwanted substructure: 2319\n",
      "Number of compounds without unwanted substructure: 4823\n",
      "percentage of compounds with unwanted substructure: 48.08%\n"
     ]
    }
   ],
   "source": [
    "print(f\"Number of found unwanted substructure: {len(matches)}\")\n",
    "print(f\"Number of compounds without unwanted substructure: {len(data)}\")\n",
    "print(f\"percentage of compounds with unwanted substructure: {round(len(matches)/len(data)*100,2)}%\")\n"
   ]
  },
  {
   "cell_type": "markdown",
   "id": "a3f45178",
   "metadata": {},
   "source": [
    "The current dataset contained 2319 (48.08%) compounds with unwanted substures from the list in the article of Brenk et al. (2008). These are removed, resulting in a dataset of 2319 remaining compounds."
   ]
  },
  {
   "cell_type": "markdown",
   "id": "01fd0243-05c4-4b1b-b743-b3f7fdcca1c7",
   "metadata": {},
   "source": [
    "List with frequenction that the unwanted substructures are present in the data "
   ]
  },
  {
   "cell_type": "code",
   "execution_count": 12,
   "id": "5ca757c6-ecde-4853-94da-abc127534b42",
   "metadata": {
    "scrolled": true
   },
   "outputs": [
    {
     "data": {
      "text/plain": "substructure_name\nimine                              438\ntriple-bond                        367\n2-haloPyridine                     330\nAliphatic-long-chain               318\nMichael-acceptor                   128\nOxygen-nitrogen-single-bond        111\nisolate-alkene                     103\nbetaketo/anhydride                  86\naniline                             65\ncumarine                            53\nnitro-group                         41\nCarbo-cation/anion                  37\ncharged-oxygen/sulfur-atoms         25\nThiocarbonyl-group                  22\nquaternary-nitrogen                 15\npolyene                             14\naldehyde                            13\nheavy-metal                         13\nacyclic-C=C-O                       13\niodine                              12\nperfluorinated-chain                12\nhet-C-het-not-in-ring               11\nhalogenated-ring                    11\nSulfonic-acid                       10\nphosphor-P-phthalimide              10\nhydroquinone                         7\nphenol-ester                         7\nalkyl-halide                         5\noxime                                5\nThree-membered-heterocycle           4\nhydantoin                            4\nthiol                                3\nN-C-halo                             3\n>2EsterGroups                        3\ncatechol                             3\ndiketo-group                         3\nPolycyclic-aromatic-hydrocarbon      2\nhydroxamic-acid                      2\nstilbene                             2\nthioester                            2\ncyanamide                            1\nacylHydrazine                        1\nhydrazine                            1\nN-oxide                              1\nsulphate                             1\nconjugated-nitrile-group             1\ndtype: int64"
     },
     "execution_count": 12,
     "metadata": {},
     "output_type": "execute_result"
    }
   ],
   "source": [
    "groups = matches.groupby(\"substructure_name\")\n",
    "group_frequencies = groups.size()\n",
    "group_frequencies.sort_values(ascending=False, inplace=True)\n",
    "group_frequencies"
   ]
  },
  {
   "cell_type": "markdown",
   "id": "5ed5d791",
   "metadata": {},
   "source": [
    "The most common of those unwanted structures were imines, triple-bonds and 2-haloPyridine"
   ]
  },
  {
   "cell_type": "markdown",
   "id": "bf943e74-7572-4728-b434-6677f9c7632b",
   "metadata": {},
   "source": [
    "Save filtered data to a csv file "
   ]
  },
  {
   "cell_type": "code",
   "execution_count": 13,
   "id": "7ed49619-cc2b-457d-8d54-1835aa6c188a",
   "metadata": {},
   "outputs": [
    {
     "data": {
      "text/plain": "  molecule_chembl_id    IC50 units  \\\n0      CHEMBL3969403  0.0002    nM   \n1      CHEMBL3937515  0.0009    nM   \n2      CHEMBL3949213  0.0010    nM   \n3      CHEMBL3955051  0.0018    nM   \n4      CHEMBL3936264  0.0057    nM   \n\n                                              smiles      pIC50  ro5_fulfilled  \n0  CC1(C)C(N)=N[C@](C)(c2cc(NC(=O)c3ccc(C#N)cn3)c...  12.698970           True  \n1  COc1cnc(C(=O)Nc2ccc(F)c([C@]3(C)CS(=O)(=O)C(C)...  12.045757           True  \n2  C[C@@]1(c2cc(NC(=O)c3ccc(C#N)cn3)ccc2F)CS(=O)(...  12.000000           True  \n3  CC1(C)C(N)=N[C@](C)(c2cc(NC(=O)c3cnc(C(F)F)cn3...  11.744727           True  \n4  C[C@@]1(c2cc(NC(=O)c3ccc(OC(F)F)cn3)ccc2F)CS(=...  11.244125           True  ",
      "text/html": "<div>\n<style scoped>\n    .dataframe tbody tr th:only-of-type {\n        vertical-align: middle;\n    }\n\n    .dataframe tbody tr th {\n        vertical-align: top;\n    }\n\n    .dataframe thead th {\n        text-align: right;\n    }\n</style>\n<table border=\"1\" class=\"dataframe\">\n  <thead>\n    <tr style=\"text-align: right;\">\n      <th></th>\n      <th>molecule_chembl_id</th>\n      <th>IC50</th>\n      <th>units</th>\n      <th>smiles</th>\n      <th>pIC50</th>\n      <th>ro5_fulfilled</th>\n    </tr>\n  </thead>\n  <tbody>\n    <tr>\n      <th>0</th>\n      <td>CHEMBL3969403</td>\n      <td>0.0002</td>\n      <td>nM</td>\n      <td>CC1(C)C(N)=N[C@](C)(c2cc(NC(=O)c3ccc(C#N)cn3)c...</td>\n      <td>12.698970</td>\n      <td>True</td>\n    </tr>\n    <tr>\n      <th>1</th>\n      <td>CHEMBL3937515</td>\n      <td>0.0009</td>\n      <td>nM</td>\n      <td>COc1cnc(C(=O)Nc2ccc(F)c([C@]3(C)CS(=O)(=O)C(C)...</td>\n      <td>12.045757</td>\n      <td>True</td>\n    </tr>\n    <tr>\n      <th>2</th>\n      <td>CHEMBL3949213</td>\n      <td>0.0010</td>\n      <td>nM</td>\n      <td>C[C@@]1(c2cc(NC(=O)c3ccc(C#N)cn3)ccc2F)CS(=O)(...</td>\n      <td>12.000000</td>\n      <td>True</td>\n    </tr>\n    <tr>\n      <th>3</th>\n      <td>CHEMBL3955051</td>\n      <td>0.0018</td>\n      <td>nM</td>\n      <td>CC1(C)C(N)=N[C@](C)(c2cc(NC(=O)c3cnc(C(F)F)cn3...</td>\n      <td>11.744727</td>\n      <td>True</td>\n    </tr>\n    <tr>\n      <th>4</th>\n      <td>CHEMBL3936264</td>\n      <td>0.0057</td>\n      <td>nM</td>\n      <td>C[C@@]1(c2cc(NC(=O)c3ccc(OC(F)F)cn3)ccc2F)CS(=...</td>\n      <td>11.244125</td>\n      <td>True</td>\n    </tr>\n  </tbody>\n</table>\n</div>"
     },
     "execution_count": 13,
     "metadata": {},
     "output_type": "execute_result"
    }
   ],
   "source": [
    "data = data.drop(\"ROMol\", axis=1)\n",
    "data.to_csv(DATA/\"BACE_compounds_part3.csv\")\n",
    "data.head()"
   ]
  },
  {
   "cell_type": "markdown",
   "id": "9cf22322",
   "metadata": {},
   "source": [
    "This filtering result in a filtered dataset of 4823 compounds. This dataset will be used to draw a scaffold. This data will also be used to train and validate the machine learning models. "
   ]
  }
 ],
 "metadata": {
  "kernelspec": {
   "display_name": "Python 3 (ipykernel)",
   "language": "python",
   "name": "python3"
  },
  "language_info": {
   "codemirror_mode": {
    "name": "ipython",
    "version": 3
   },
   "file_extension": ".py",
   "mimetype": "text/x-python",
   "name": "python",
   "nbconvert_exporter": "python",
   "pygments_lexer": "ipython3",
   "version": "3.9.12"
  }
 },
 "nbformat": 4,
 "nbformat_minor": 5
}
