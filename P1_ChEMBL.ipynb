{
 "cells": [
  {
   "cell_type": "markdown",
   "id": "5ef5df5b-d5ca-4647-8738-63545585cf84",
   "metadata": {},
   "source": [
    "# Part 1: Acquire compound data from ChEMBL"
   ]
  },
  {
   "cell_type": "markdown",
   "id": "589554c0",
   "metadata": {},
   "source": [
    "The aim of this in silico project is to present inhibitors with high potency of the BACE1 receptor. A higher potency of a drug means that the specific biological effect can be achieved with a smaller amount of the drug. For inhibitors this is often expressed in the IC50 value, this is the value at which 50% of the effect is inhibited. The IC50 value can be measured using a radioligand labelling assay, but the synthesis and measuring are time-consuming and expensive. The potency for the BACE1 receptor of a large amount of compounds has already been tested, and those data can be found in the publicly available ChEMBL database of the European Bioinformatics Institute. Therefore this project will use the already available data to train a machine learning model to predict which novel compound is  likely the most promising. \n",
    "The ChEMBL database contains more than one million bioactive molecules with drug-like properties, manually compiled and standardized from primary published literature. Therefore, this database is used to fetch known bioactivity data."
   ]
  },
  {
   "cell_type": "markdown",
   "id": "d8f4f91c-23b1-4a51-b125-b4c2d2f47768",
   "metadata": {},
   "source": [
    "Import ChEMBL webresource client and other required libraries."
   ]
  },
  {
   "cell_type": "code",
   "execution_count": 1,
   "id": "7368103c-e40b-40dd-b736-a6d2b0b007a3",
   "metadata": {},
   "outputs": [
    {
     "name": "stdout",
     "output_type": "stream",
     "text": [
      "Requirement already satisfied: chembl_webresource_client in /Users/Jurren/opt/anaconda3/envs/ACMDD/lib/python3.10/site-packages (0.10.8)\r\n",
      "Requirement already satisfied: urllib3 in /Users/Jurren/opt/anaconda3/envs/ACMDD/lib/python3.10/site-packages (from chembl_webresource_client) (1.26.12)\r\n",
      "Requirement already satisfied: easydict in /Users/Jurren/opt/anaconda3/envs/ACMDD/lib/python3.10/site-packages (from chembl_webresource_client) (1.10)\r\n",
      "Requirement already satisfied: requests-cache~=0.7.0 in /Users/Jurren/opt/anaconda3/envs/ACMDD/lib/python3.10/site-packages (from chembl_webresource_client) (0.7.5)\r\n",
      "Requirement already satisfied: requests>=2.18.4 in /Users/Jurren/opt/anaconda3/envs/ACMDD/lib/python3.10/site-packages (from chembl_webresource_client) (2.28.1)\r\n",
      "Requirement already satisfied: certifi>=2017.4.17 in /Users/Jurren/opt/anaconda3/envs/ACMDD/lib/python3.10/site-packages (from requests>=2.18.4->chembl_webresource_client) (2022.9.24)\r\n",
      "Requirement already satisfied: charset-normalizer<3,>=2 in /Users/Jurren/opt/anaconda3/envs/ACMDD/lib/python3.10/site-packages (from requests>=2.18.4->chembl_webresource_client) (2.0.4)\r\n",
      "Requirement already satisfied: idna<4,>=2.5 in /Users/Jurren/opt/anaconda3/envs/ACMDD/lib/python3.10/site-packages (from requests>=2.18.4->chembl_webresource_client) (3.4)\r\n",
      "Requirement already satisfied: url-normalize<2.0,>=1.4 in /Users/Jurren/opt/anaconda3/envs/ACMDD/lib/python3.10/site-packages (from requests-cache~=0.7.0->chembl_webresource_client) (1.4.3)\r\n",
      "Requirement already satisfied: pyyaml>=5.4 in /Users/Jurren/opt/anaconda3/envs/ACMDD/lib/python3.10/site-packages (from requests-cache~=0.7.0->chembl_webresource_client) (6.0)\r\n",
      "Requirement already satisfied: attrs<22.0,>=21.2 in /Users/Jurren/opt/anaconda3/envs/ACMDD/lib/python3.10/site-packages (from requests-cache~=0.7.0->chembl_webresource_client) (21.4.0)\r\n",
      "Requirement already satisfied: itsdangerous>=2.0.1 in /Users/Jurren/opt/anaconda3/envs/ACMDD/lib/python3.10/site-packages (from requests-cache~=0.7.0->chembl_webresource_client) (2.1.2)\r\n",
      "Requirement already satisfied: six in /Users/Jurren/opt/anaconda3/envs/ACMDD/lib/python3.10/site-packages (from url-normalize<2.0,>=1.4->requests-cache~=0.7.0->chembl_webresource_client) (1.16.0)\r\n"
     ]
    }
   ],
   "source": [
    "!pip install chembl_webresource_client\n",
    "\n",
    "import math\n",
    "from pathlib import Path\n",
    "from zipfile import ZipFile\n",
    "from tempfile import TemporaryDirectory\n",
    "\n",
    "import numpy as np\n",
    "import pandas as pd\n",
    "from rdkit.Chem import PandasTools\n",
    "from chembl_webresource_client.new_client import new_client\n",
    "from tqdm.auto import tqdm"
   ]
  },
  {
   "cell_type": "markdown",
   "id": "9aaca8fb-5e75-4a6e-8170-24fe88cb1ad8",
   "metadata": {},
   "source": [
    "Define path to store data."
   ]
  },
  {
   "cell_type": "code",
   "execution_count": 2,
   "id": "30495f82-0b3e-45b8-af2e-63283c30bf67",
   "metadata": {},
   "outputs": [],
   "source": [
    "HERE = Path(_dh[-1])\n",
    "DATA = HERE / \"data\""
   ]
  },
  {
   "cell_type": "markdown",
   "id": "74b6293d-ff15-4c47-a915-b311138b9a34",
   "metadata": {},
   "source": [
    "Create the resource objects for API (Application Interface Programming) access the ChEMBL database."
   ]
  },
  {
   "cell_type": "code",
   "execution_count": 3,
   "id": "6e9b25a2-c473-42b4-9347-531518737696",
   "metadata": {},
   "outputs": [],
   "source": [
    "targets_api = new_client.target\n",
    "compounds_api = new_client.molecule\n",
    "bioactivities_api = new_client.activity"
   ]
  },
  {
   "cell_type": "markdown",
   "id": "ee7efb68-1316-4db1-8696-27337400664a",
   "metadata": {},
   "source": [
    "## Get target data"
   ]
  },
  {
   "cell_type": "markdown",
   "id": "858e29a1",
   "metadata": {},
   "source": [
    "The BACE1 receptor is selected as target. The UniProt database identifier of the BACE1 receptor is used for identification."
   ]
  },
  {
   "cell_type": "code",
   "execution_count": 4,
   "id": "b92806d4-5ec0-43fe-9b3a-4929dc4f25cb",
   "metadata": {},
   "outputs": [],
   "source": [
    "uniprot_id = \"P56817\" # Uniprot id for the BACE receptor"
   ]
  },
  {
   "cell_type": "markdown",
   "id": "0417c8dc-ae3f-4e7d-ac91-31a80d50ba76",
   "metadata": {},
   "source": [
    "Get the needed target information from ChEMBL, using the API access"
   ]
  },
  {
   "cell_type": "code",
   "execution_count": 9,
   "id": "13c2c3bd-f296-4e4b-8abd-49dab343da22",
   "metadata": {},
   "outputs": [],
   "source": [
    "targets = targets_api.get(target_components__accession=uniprot_id).only(\n",
    "    \"target_chembl_id\", \"organism\", \"pref_name\", \"target_type\"\n",
    ")"
   ]
  },
  {
   "cell_type": "code",
   "execution_count": 10,
   "id": "e9d70ca1-1214-4489-bf38-ebf980604d0e",
   "metadata": {},
   "outputs": [
    {
     "data": {
      "text/plain": "                                    cross_references      organism  \\\n0  [{'xref_id': 'Beta-secretase_1', 'xref_name': ...  Homo sapiens   \n1  [{'xref_id': 'Beta-secretase_1', 'xref_name': ...  Homo sapiens   \n2                                                 []  Homo sapiens   \n\n               pref_name  species_group_flag target_chembl_id  \\\n0       Beta-secretase 1               False       CHEMBL4822   \n1       Beta-secretase 1               False       CHEMBL4822   \n2  Beta-secretase (BACE)               False    CHEMBL2111390   \n\n                                   target_components     target_type  tax_id  \n0  [{'accession': 'P56817', 'component_descriptio...  SINGLE PROTEIN    9606  \n1  [{'accession': 'P56817', 'component_descriptio...  SINGLE PROTEIN    9606  \n2  [{'accession': 'Q9Y5Z0', 'component_descriptio...  PROTEIN FAMILY    9606  ",
      "text/html": "<div>\n<style scoped>\n    .dataframe tbody tr th:only-of-type {\n        vertical-align: middle;\n    }\n\n    .dataframe tbody tr th {\n        vertical-align: top;\n    }\n\n    .dataframe thead th {\n        text-align: right;\n    }\n</style>\n<table border=\"1\" class=\"dataframe\">\n  <thead>\n    <tr style=\"text-align: right;\">\n      <th></th>\n      <th>cross_references</th>\n      <th>organism</th>\n      <th>pref_name</th>\n      <th>species_group_flag</th>\n      <th>target_chembl_id</th>\n      <th>target_components</th>\n      <th>target_type</th>\n      <th>tax_id</th>\n    </tr>\n  </thead>\n  <tbody>\n    <tr>\n      <th>0</th>\n      <td>[{'xref_id': 'Beta-secretase_1', 'xref_name': ...</td>\n      <td>Homo sapiens</td>\n      <td>Beta-secretase 1</td>\n      <td>False</td>\n      <td>CHEMBL4822</td>\n      <td>[{'accession': 'P56817', 'component_descriptio...</td>\n      <td>SINGLE PROTEIN</td>\n      <td>9606</td>\n    </tr>\n    <tr>\n      <th>1</th>\n      <td>[{'xref_id': 'Beta-secretase_1', 'xref_name': ...</td>\n      <td>Homo sapiens</td>\n      <td>Beta-secretase 1</td>\n      <td>False</td>\n      <td>CHEMBL4822</td>\n      <td>[{'accession': 'P56817', 'component_descriptio...</td>\n      <td>SINGLE PROTEIN</td>\n      <td>9606</td>\n    </tr>\n    <tr>\n      <th>2</th>\n      <td>[]</td>\n      <td>Homo sapiens</td>\n      <td>Beta-secretase (BACE)</td>\n      <td>False</td>\n      <td>CHEMBL2111390</td>\n      <td>[{'accession': 'Q9Y5Z0', 'component_descriptio...</td>\n      <td>PROTEIN FAMILY</td>\n      <td>9606</td>\n    </tr>\n  </tbody>\n</table>\n</div>"
     },
     "execution_count": 10,
     "metadata": {},
     "output_type": "execute_result"
    }
   ],
   "source": [
    "targets = pd.DataFrame.from_records(targets) # Make a dataframe of the results, not sure why two identical targets show\n",
    "targets"
   ]
  },
  {
   "cell_type": "markdown",
   "id": "aad99743-d01a-48a1-8478-2650b6992d66",
   "metadata": {},
   "source": [
    "Select the right target, the BACE1 receptor of the human, with target_type 'single protein'"
   ]
  },
  {
   "cell_type": "code",
   "execution_count": 17,
   "id": "22cbe581-d6b5-41ba-88bd-ea0f6662c082",
   "metadata": {},
   "outputs": [
    {
     "data": {
      "text/plain": "cross_references      [{'xref_id': 'Beta-secretase_1', 'xref_name': ...\norganism                                                   Homo sapiens\npref_name                                              Beta-secretase 1\nspecies_group_flag                                                False\ntarget_chembl_id                                             CHEMBL4822\ntarget_components     [{'accession': 'P56817', 'component_descriptio...\ntarget_type                                              SINGLE PROTEIN\ntax_id                                                             9606\nName: 0, dtype: object"
     },
     "execution_count": 17,
     "metadata": {},
     "output_type": "execute_result"
    }
   ],
   "source": [
    "target = targets.iloc[0]\n",
    "target"
   ]
  },
  {
   "cell_type": "markdown",
   "id": "460535b9",
   "metadata": {},
   "source": [
    "Save the selected ChEMBL ID in the variable chembl_id, to later use for geting the bioactivity data of the receptor with this ChEMBL ID."
   ]
  },
  {
   "cell_type": "code",
   "execution_count": 19,
   "id": "11845dd8-8787-4dbc-96f0-cd1e7dab896a",
   "metadata": {},
   "outputs": [],
   "source": [
    "chembl_id = target.target_chembl_id"
   ]
  },
  {
   "cell_type": "markdown",
   "id": "0e84dd86-62d4-471b-8107-fbe6ebc6425e",
   "metadata": {},
   "source": [
    "Check the target ChEMBL ID"
   ]
  },
  {
   "cell_type": "code",
   "execution_count": 20,
   "id": "60f62bcc-6404-450c-b18e-35efb5bdb46f",
   "metadata": {},
   "outputs": [
    {
     "name": "stdout",
     "output_type": "stream",
     "text": [
      "The target ChEMBL ID is CHEMBL4822\n"
     ]
    }
   ],
   "source": [
    "print(f\"The target ChEMBL ID is {chembl_id}\")"
   ]
  },
  {
   "cell_type": "markdown",
   "id": "0ac45dda-dc55-4d02-86e7-92dd3ad7ba64",
   "metadata": {},
   "source": [
    "## Get bioactivity data"
   ]
  },
  {
   "cell_type": "markdown",
   "id": "c87dec42-39a3-484c-923b-ab827f0f6bc6",
   "metadata": {},
   "source": [
    "Fetch the wanted bioactivity data for the BACE receptor. Using the API access with the selected ChEMBL ID. This step only consider data that is binding data of exact measurements and with bioactivity type IC50. "
   ]
  },
  {
   "cell_type": "code",
   "execution_count": 21,
   "id": "0ba594dc-f65e-43e2-ad08-16fcaa4512fb",
   "metadata": {},
   "outputs": [
    {
     "name": "stdout",
     "output_type": "stream",
     "text": [
      "Length and type of bioactivities object: 9513, <class 'chembl_webresource_client.query_set.QuerySet'>\n"
     ]
    }
   ],
   "source": [
    "bioactivities = bioactivities_api.filter(\n",
    "    target_chembl_id=chembl_id, type=\"IC50\", relation=\"=\", assay_type=\"B\"\n",
    ").only(\n",
    "    \"activity_id\",\n",
    "    \"assay_chembl_id\",\n",
    "    \"assay_description\",\n",
    "    \"assay_type\",\n",
    "    \"molecule_chembl_id\",\n",
    "    \"type\",\n",
    "    \"standard_units\",\n",
    "    \"relation\",\n",
    "    \"standard_value\",\n",
    "    \"target_chembl_id\",\n",
    "    \"target_organism\",\n",
    ")\n",
    "\n",
    "print(f\"Length and type of bioactivities object: {len(bioactivities)}, {type(bioactivities)}\")"
   ]
  },
  {
   "cell_type": "markdown",
   "id": "663137f3-1d88-403e-b54c-a379e56b6b2c",
   "metadata": {},
   "source": [
    "To see what kind of information is in there, here is the information of the first entry shown:"
   ]
  },
  {
   "cell_type": "code",
   "execution_count": 22,
   "id": "e2bb3119-1ab5-4d37-8bba-ee3aa6aa2d05",
   "metadata": {},
   "outputs": [
    {
     "name": "stdout",
     "output_type": "stream",
     "text": [
      "Length and type of first element: 45, <class 'dict'>\n"
     ]
    },
    {
     "data": {
      "text/plain": "{'activity_comment': None,\n 'activity_id': 78857,\n 'activity_properties': [],\n 'assay_chembl_id': 'CHEMBL653511',\n 'assay_description': 'Inhibitory activity against Beta-secretase 1 was determined',\n 'assay_type': 'B',\n 'assay_variant_accession': None,\n 'assay_variant_mutation': None,\n 'bao_endpoint': 'BAO_0000190',\n 'bao_format': 'BAO_0000357',\n 'bao_label': 'single protein format',\n 'canonical_smiles': 'CC(C)C[C@H](NC(=O)[C@@H](NC(=O)[C@@H](N)CCC(=O)O)C(C)C)C(=O)N[C@@H](Cc1ccccc1)[C@@H](O)C(=O)N[C@@H](CC(=O)O)C(=O)N[C@@H](C)C(=O)N[C@@H](CCC(=O)O)C(=O)N[C@@H](Cc1ccccc1)C(=O)O',\n 'data_validity_comment': None,\n 'data_validity_description': None,\n 'document_chembl_id': 'CHEMBL1136466',\n 'document_journal': 'Bioorg. Med. Chem. Lett.',\n 'document_year': 2003,\n 'ligand_efficiency': {'bei': '6.39',\n  'le': '0.12',\n  'lle': '7.82',\n  'sei': '1.60'},\n 'molecule_chembl_id': 'CHEMBL406146',\n 'molecule_pref_name': 'HGLUVALLEUPNSASPALAGLUPHEOH',\n 'parent_molecule_chembl_id': 'CHEMBL406146',\n 'pchembl_value': '6.38',\n 'potential_duplicate': 0,\n 'qudt_units': 'http://www.openphacts.org/units/Nanomolar',\n 'record_id': 260010,\n 'relation': '=',\n 'src_id': 1,\n 'standard_flag': 1,\n 'standard_relation': '=',\n 'standard_text_value': None,\n 'standard_type': 'IC50',\n 'standard_units': 'nM',\n 'standard_upper_value': None,\n 'standard_value': '413.0',\n 'target_chembl_id': 'CHEMBL4822',\n 'target_organism': 'Homo sapiens',\n 'target_pref_name': 'Beta-secretase 1',\n 'target_tax_id': '9606',\n 'text_value': None,\n 'toid': None,\n 'type': 'IC50',\n 'units': 'nM',\n 'uo_units': 'UO_0000065',\n 'upper_value': None,\n 'value': '413.0'}"
     },
     "execution_count": 22,
     "metadata": {},
     "output_type": "execute_result"
    }
   ],
   "source": [
    "print(f\"Length and type of first element: {len(bioactivities[0])}, {type(bioactivities[0])}\")\n",
    "bioactivities[0]"
   ]
  },
  {
   "cell_type": "markdown",
   "id": "b0244aba-7654-4fb0-b0d7-8dd98298b9dc",
   "metadata": {},
   "source": [
    "Read the bioactivity data from the queried ChEMBL webresource client"
   ]
  },
  {
   "cell_type": "code",
   "execution_count": 12,
   "id": "94cf128a-53e7-4b70-8889-eeb6173dadfb",
   "metadata": {},
   "outputs": [
    {
     "name": "stdout",
     "output_type": "stream",
     "text": [
      "DataFrame shape: (9514, 13)\n"
     ]
    },
    {
     "data": {
      "text/plain": "   activity_id assay_chembl_id  \\\n0        78857    CHEMBL653511   \n1        78857    CHEMBL653511   \n2       391560    CHEMBL653332   \n3       391983    CHEMBL653512   \n4       395858    CHEMBL653512   \n\n                                   assay_description assay_type  \\\n0  Inhibitory activity against Beta-secretase 1 w...          B   \n1  Inhibitory activity against Beta-secretase 1 w...          B   \n2  Compound was tested for its inhibitory activit...          B   \n3               Inhibition of human Beta-secretase 1          B   \n4               Inhibition of human Beta-secretase 1          B   \n\n  molecule_chembl_id relation standard_units standard_value target_chembl_id  \\\n0       CHEMBL406146        =             nM          413.0       CHEMBL4822   \n1       CHEMBL406146        =             nM          413.0       CHEMBL4822   \n2        CHEMBL78946        =             nM            2.0       CHEMBL4822   \n3       CHEMBL324109        =             nM          460.0       CHEMBL4822   \n4       CHEMBL114147        =             nM         9000.0       CHEMBL4822   \n\n  target_organism  type units  value  \n0    Homo sapiens  IC50    nM  413.0  \n1    Homo sapiens  IC50    nM  413.0  \n2    Homo sapiens  IC50    uM  0.002  \n3    Homo sapiens  IC50    uM   0.46  \n4    Homo sapiens  IC50    uM    9.0  ",
      "text/html": "<div>\n<style scoped>\n    .dataframe tbody tr th:only-of-type {\n        vertical-align: middle;\n    }\n\n    .dataframe tbody tr th {\n        vertical-align: top;\n    }\n\n    .dataframe thead th {\n        text-align: right;\n    }\n</style>\n<table border=\"1\" class=\"dataframe\">\n  <thead>\n    <tr style=\"text-align: right;\">\n      <th></th>\n      <th>activity_id</th>\n      <th>assay_chembl_id</th>\n      <th>assay_description</th>\n      <th>assay_type</th>\n      <th>molecule_chembl_id</th>\n      <th>relation</th>\n      <th>standard_units</th>\n      <th>standard_value</th>\n      <th>target_chembl_id</th>\n      <th>target_organism</th>\n      <th>type</th>\n      <th>units</th>\n      <th>value</th>\n    </tr>\n  </thead>\n  <tbody>\n    <tr>\n      <th>0</th>\n      <td>78857</td>\n      <td>CHEMBL653511</td>\n      <td>Inhibitory activity against Beta-secretase 1 w...</td>\n      <td>B</td>\n      <td>CHEMBL406146</td>\n      <td>=</td>\n      <td>nM</td>\n      <td>413.0</td>\n      <td>CHEMBL4822</td>\n      <td>Homo sapiens</td>\n      <td>IC50</td>\n      <td>nM</td>\n      <td>413.0</td>\n    </tr>\n    <tr>\n      <th>1</th>\n      <td>78857</td>\n      <td>CHEMBL653511</td>\n      <td>Inhibitory activity against Beta-secretase 1 w...</td>\n      <td>B</td>\n      <td>CHEMBL406146</td>\n      <td>=</td>\n      <td>nM</td>\n      <td>413.0</td>\n      <td>CHEMBL4822</td>\n      <td>Homo sapiens</td>\n      <td>IC50</td>\n      <td>nM</td>\n      <td>413.0</td>\n    </tr>\n    <tr>\n      <th>2</th>\n      <td>391560</td>\n      <td>CHEMBL653332</td>\n      <td>Compound was tested for its inhibitory activit...</td>\n      <td>B</td>\n      <td>CHEMBL78946</td>\n      <td>=</td>\n      <td>nM</td>\n      <td>2.0</td>\n      <td>CHEMBL4822</td>\n      <td>Homo sapiens</td>\n      <td>IC50</td>\n      <td>uM</td>\n      <td>0.002</td>\n    </tr>\n    <tr>\n      <th>3</th>\n      <td>391983</td>\n      <td>CHEMBL653512</td>\n      <td>Inhibition of human Beta-secretase 1</td>\n      <td>B</td>\n      <td>CHEMBL324109</td>\n      <td>=</td>\n      <td>nM</td>\n      <td>460.0</td>\n      <td>CHEMBL4822</td>\n      <td>Homo sapiens</td>\n      <td>IC50</td>\n      <td>uM</td>\n      <td>0.46</td>\n    </tr>\n    <tr>\n      <th>4</th>\n      <td>395858</td>\n      <td>CHEMBL653512</td>\n      <td>Inhibition of human Beta-secretase 1</td>\n      <td>B</td>\n      <td>CHEMBL114147</td>\n      <td>=</td>\n      <td>nM</td>\n      <td>9000.0</td>\n      <td>CHEMBL4822</td>\n      <td>Homo sapiens</td>\n      <td>IC50</td>\n      <td>uM</td>\n      <td>9.0</td>\n    </tr>\n  </tbody>\n</table>\n</div>"
     },
     "execution_count": 12,
     "metadata": {},
     "output_type": "execute_result"
    }
   ],
   "source": [
    "bioactivities_df = pd.DataFrame.from_records(bioactivities)\n",
    "print(f\"DataFrame shape: {bioactivities_df.shape}\")\n",
    "bioactivities_df.head()"
   ]
  },
  {
   "cell_type": "markdown",
   "id": "f9b224cc-6189-4979-bf60-8ce818d9bc2b",
   "metadata": {},
   "source": [
    "Keep only the standardized unit columns"
   ]
  },
  {
   "cell_type": "code",
   "execution_count": 13,
   "id": "43cb8103-4498-4734-8ccb-d19defdca58e",
   "metadata": {},
   "outputs": [
    {
     "data": {
      "text/plain": "array(['nM', 'uM', 'M', 'mM', 'umol/L', 'microM', \"10'-7M\", \"10'-8M\"],\n      dtype=object)"
     },
     "execution_count": 13,
     "metadata": {},
     "output_type": "execute_result"
    }
   ],
   "source": [
    "bioactivities_df[\"units\"].unique() # See if there are multiple units used"
   ]
  },
  {
   "cell_type": "code",
   "execution_count": 14,
   "id": "23ce4bcb-f7f5-418f-904c-f233d5f50974",
   "metadata": {},
   "outputs": [
    {
     "data": {
      "text/plain": "    activity_id assay_chembl_id  \\\n0         78857    CHEMBL653511   \n1         78857    CHEMBL653511   \n2        391560    CHEMBL653332   \n3        391983    CHEMBL653512   \n4        395858    CHEMBL653512   \n5        395859    CHEMBL653512   \n6        397117    CHEMBL653512   \n7        400254    CHEMBL653332   \n8        402256    CHEMBL653512   \n9        402257    CHEMBL653512   \n10       405238    CHEMBL653512   \n11       406414    CHEMBL653512   \n\n                                    assay_description assay_type  \\\n0   Inhibitory activity against Beta-secretase 1 w...          B   \n1   Inhibitory activity against Beta-secretase 1 w...          B   \n2   Compound was tested for its inhibitory activit...          B   \n3                Inhibition of human Beta-secretase 1          B   \n4                Inhibition of human Beta-secretase 1          B   \n5                Inhibition of human Beta-secretase 1          B   \n6                Inhibition of human Beta-secretase 1          B   \n7   Compound was tested for its inhibitory activit...          B   \n8                Inhibition of human Beta-secretase 1          B   \n9                Inhibition of human Beta-secretase 1          B   \n10               Inhibition of human Beta-secretase 1          B   \n11               Inhibition of human Beta-secretase 1          B   \n\n   molecule_chembl_id relation standard_units standard_value target_chembl_id  \\\n0        CHEMBL406146        =             nM          413.0       CHEMBL4822   \n1        CHEMBL406146        =             nM          413.0       CHEMBL4822   \n2         CHEMBL78946        =             nM            2.0       CHEMBL4822   \n3        CHEMBL324109        =             nM          460.0       CHEMBL4822   \n4        CHEMBL114147        =             nM         9000.0       CHEMBL4822   \n5        CHEMBL419949        =             nM         5600.0       CHEMBL4822   \n6        CHEMBL116826        =             nM        34000.0       CHEMBL4822   \n7        CHEMBL143239        =             nM           20.0       CHEMBL4822   \n8        CHEMBL332948        =             nM           21.0       CHEMBL4822   \n9         CHEMBL51386        =             nM          300.0       CHEMBL4822   \n10       CHEMBL332260        =             nM           50.0       CHEMBL4822   \n11       CHEMBL332260        =             nM          670.0       CHEMBL4822   \n\n   target_organism  type  \n0     Homo sapiens  IC50  \n1     Homo sapiens  IC50  \n2     Homo sapiens  IC50  \n3     Homo sapiens  IC50  \n4     Homo sapiens  IC50  \n5     Homo sapiens  IC50  \n6     Homo sapiens  IC50  \n7     Homo sapiens  IC50  \n8     Homo sapiens  IC50  \n9     Homo sapiens  IC50  \n10    Homo sapiens  IC50  \n11    Homo sapiens  IC50  ",
      "text/html": "<div>\n<style scoped>\n    .dataframe tbody tr th:only-of-type {\n        vertical-align: middle;\n    }\n\n    .dataframe tbody tr th {\n        vertical-align: top;\n    }\n\n    .dataframe thead th {\n        text-align: right;\n    }\n</style>\n<table border=\"1\" class=\"dataframe\">\n  <thead>\n    <tr style=\"text-align: right;\">\n      <th></th>\n      <th>activity_id</th>\n      <th>assay_chembl_id</th>\n      <th>assay_description</th>\n      <th>assay_type</th>\n      <th>molecule_chembl_id</th>\n      <th>relation</th>\n      <th>standard_units</th>\n      <th>standard_value</th>\n      <th>target_chembl_id</th>\n      <th>target_organism</th>\n      <th>type</th>\n    </tr>\n  </thead>\n  <tbody>\n    <tr>\n      <th>0</th>\n      <td>78857</td>\n      <td>CHEMBL653511</td>\n      <td>Inhibitory activity against Beta-secretase 1 w...</td>\n      <td>B</td>\n      <td>CHEMBL406146</td>\n      <td>=</td>\n      <td>nM</td>\n      <td>413.0</td>\n      <td>CHEMBL4822</td>\n      <td>Homo sapiens</td>\n      <td>IC50</td>\n    </tr>\n    <tr>\n      <th>1</th>\n      <td>78857</td>\n      <td>CHEMBL653511</td>\n      <td>Inhibitory activity against Beta-secretase 1 w...</td>\n      <td>B</td>\n      <td>CHEMBL406146</td>\n      <td>=</td>\n      <td>nM</td>\n      <td>413.0</td>\n      <td>CHEMBL4822</td>\n      <td>Homo sapiens</td>\n      <td>IC50</td>\n    </tr>\n    <tr>\n      <th>2</th>\n      <td>391560</td>\n      <td>CHEMBL653332</td>\n      <td>Compound was tested for its inhibitory activit...</td>\n      <td>B</td>\n      <td>CHEMBL78946</td>\n      <td>=</td>\n      <td>nM</td>\n      <td>2.0</td>\n      <td>CHEMBL4822</td>\n      <td>Homo sapiens</td>\n      <td>IC50</td>\n    </tr>\n    <tr>\n      <th>3</th>\n      <td>391983</td>\n      <td>CHEMBL653512</td>\n      <td>Inhibition of human Beta-secretase 1</td>\n      <td>B</td>\n      <td>CHEMBL324109</td>\n      <td>=</td>\n      <td>nM</td>\n      <td>460.0</td>\n      <td>CHEMBL4822</td>\n      <td>Homo sapiens</td>\n      <td>IC50</td>\n    </tr>\n    <tr>\n      <th>4</th>\n      <td>395858</td>\n      <td>CHEMBL653512</td>\n      <td>Inhibition of human Beta-secretase 1</td>\n      <td>B</td>\n      <td>CHEMBL114147</td>\n      <td>=</td>\n      <td>nM</td>\n      <td>9000.0</td>\n      <td>CHEMBL4822</td>\n      <td>Homo sapiens</td>\n      <td>IC50</td>\n    </tr>\n    <tr>\n      <th>5</th>\n      <td>395859</td>\n      <td>CHEMBL653512</td>\n      <td>Inhibition of human Beta-secretase 1</td>\n      <td>B</td>\n      <td>CHEMBL419949</td>\n      <td>=</td>\n      <td>nM</td>\n      <td>5600.0</td>\n      <td>CHEMBL4822</td>\n      <td>Homo sapiens</td>\n      <td>IC50</td>\n    </tr>\n    <tr>\n      <th>6</th>\n      <td>397117</td>\n      <td>CHEMBL653512</td>\n      <td>Inhibition of human Beta-secretase 1</td>\n      <td>B</td>\n      <td>CHEMBL116826</td>\n      <td>=</td>\n      <td>nM</td>\n      <td>34000.0</td>\n      <td>CHEMBL4822</td>\n      <td>Homo sapiens</td>\n      <td>IC50</td>\n    </tr>\n    <tr>\n      <th>7</th>\n      <td>400254</td>\n      <td>CHEMBL653332</td>\n      <td>Compound was tested for its inhibitory activit...</td>\n      <td>B</td>\n      <td>CHEMBL143239</td>\n      <td>=</td>\n      <td>nM</td>\n      <td>20.0</td>\n      <td>CHEMBL4822</td>\n      <td>Homo sapiens</td>\n      <td>IC50</td>\n    </tr>\n    <tr>\n      <th>8</th>\n      <td>402256</td>\n      <td>CHEMBL653512</td>\n      <td>Inhibition of human Beta-secretase 1</td>\n      <td>B</td>\n      <td>CHEMBL332948</td>\n      <td>=</td>\n      <td>nM</td>\n      <td>21.0</td>\n      <td>CHEMBL4822</td>\n      <td>Homo sapiens</td>\n      <td>IC50</td>\n    </tr>\n    <tr>\n      <th>9</th>\n      <td>402257</td>\n      <td>CHEMBL653512</td>\n      <td>Inhibition of human Beta-secretase 1</td>\n      <td>B</td>\n      <td>CHEMBL51386</td>\n      <td>=</td>\n      <td>nM</td>\n      <td>300.0</td>\n      <td>CHEMBL4822</td>\n      <td>Homo sapiens</td>\n      <td>IC50</td>\n    </tr>\n    <tr>\n      <th>10</th>\n      <td>405238</td>\n      <td>CHEMBL653512</td>\n      <td>Inhibition of human Beta-secretase 1</td>\n      <td>B</td>\n      <td>CHEMBL332260</td>\n      <td>=</td>\n      <td>nM</td>\n      <td>50.0</td>\n      <td>CHEMBL4822</td>\n      <td>Homo sapiens</td>\n      <td>IC50</td>\n    </tr>\n    <tr>\n      <th>11</th>\n      <td>406414</td>\n      <td>CHEMBL653512</td>\n      <td>Inhibition of human Beta-secretase 1</td>\n      <td>B</td>\n      <td>CHEMBL332260</td>\n      <td>=</td>\n      <td>nM</td>\n      <td>670.0</td>\n      <td>CHEMBL4822</td>\n      <td>Homo sapiens</td>\n      <td>IC50</td>\n    </tr>\n  </tbody>\n</table>\n</div>"
     },
     "execution_count": 14,
     "metadata": {},
     "output_type": "execute_result"
    }
   ],
   "source": [
    "bioactivities_df.drop([\"units\", \"value\"], axis=1, inplace=True)\n",
    "bioactivities_df.head(n=12)"
   ]
  },
  {
   "cell_type": "markdown",
   "id": "47cdd86a-f5f1-4d3d-9a76-82c6f6ce7ce1",
   "metadata": {},
   "source": [
    "## Preprocess and filter bioactivity data"
   ]
  },
  {
   "cell_type": "markdown",
   "id": "36a1597f-8669-4294-9790-a84204dea148",
   "metadata": {},
   "source": [
    "Covert types of variables"
   ]
  },
  {
   "cell_type": "code",
   "execution_count": 15,
   "id": "ca321786-114a-4980-9b6c-1b542c2c1b3a",
   "metadata": {},
   "outputs": [
    {
     "data": {
      "text/plain": "activity_id            int64\nassay_chembl_id       object\nassay_description     object\nassay_type            object\nmolecule_chembl_id    object\nrelation              object\nstandard_units        object\nstandard_value        object\ntarget_chembl_id      object\ntarget_organism       object\ntype                  object\ndtype: object"
     },
     "execution_count": 15,
     "metadata": {},
     "output_type": "execute_result"
    }
   ],
   "source": [
    "bioactivities_df.dtypes # See what the types are now"
   ]
  },
  {
   "cell_type": "code",
   "execution_count": 16,
   "id": "d8622fa8-143f-4bb3-ac81-44c006da166b",
   "metadata": {},
   "outputs": [
    {
     "data": {
      "text/plain": "activity_id             int64\nassay_chembl_id        object\nassay_description      object\nassay_type             object\nmolecule_chembl_id     object\nrelation               object\nstandard_units         object\nstandard_value        float64\ntarget_chembl_id       object\ntarget_organism        object\ntype                   object\ndtype: object"
     },
     "execution_count": 16,
     "metadata": {},
     "output_type": "execute_result"
    }
   ],
   "source": [
    "bioactivities_df = bioactivities_df.astype({\"standard_value\": \"float64\"}) # Convert type of standard_value to float\n",
    "bioactivities_df.dtypes"
   ]
  },
  {
   "cell_type": "markdown",
   "id": "688d2efc-3062-44ef-abbc-713e4620eb52",
   "metadata": {},
   "source": [
    "Remove the entries with a missing values"
   ]
  },
  {
   "cell_type": "code",
   "execution_count": 17,
   "id": "67b1594b-7e33-4363-b6ca-fde6f10b29c2",
   "metadata": {},
   "outputs": [
    {
     "name": "stdout",
     "output_type": "stream",
     "text": [
      "DataFrame shape: (9514, 11)\n"
     ]
    }
   ],
   "source": [
    "bioactivities_df.dropna(axis=0, how=\"any\", inplace=True)\n",
    "print(f\"DataFrame shape: {bioactivities_df.shape}\")"
   ]
  },
  {
   "cell_type": "markdown",
   "id": "787f7859-6c68-424c-823d-b7a0e896c333",
   "metadata": {},
   "source": [
    "See if there are entries that do not have nM as standard_unit"
   ]
  },
  {
   "cell_type": "code",
   "execution_count": 18,
   "id": "c8464658-883c-48a8-a936-8b46b25f91f2",
   "metadata": {},
   "outputs": [
    {
     "name": "stdout",
     "output_type": "stream",
     "text": [
      "Units in downloaded data: ['nM']\n",
      "Number of non-nM entries:    0\n"
     ]
    }
   ],
   "source": [
    "print(f\"Units in downloaded data: {bioactivities_df['standard_units'].unique()}\")\n",
    "print(\n",
    "    f\"Number of non-nM entries:\\\n",
    "    {bioactivities_df[bioactivities_df['standard_units'] != 'nM'].shape[0]}\"\n",
    ")"
   ]
  },
  {
   "cell_type": "markdown",
   "id": "58ceb952",
   "metadata": {},
   "source": [
    "Zero entries have a standard_unit other than nM. Thus, we can keep all data points."
   ]
  },
  {
   "cell_type": "markdown",
   "id": "47b2dd55-5040-47ce-a80c-7563c9fa7827",
   "metadata": {},
   "source": [
    "Remove duplicate molecules"
   ]
  },
  {
   "cell_type": "code",
   "execution_count": 19,
   "id": "f5e38608-cd0f-4055-a730-05ebb205e73f",
   "metadata": {},
   "outputs": [
    {
     "name": "stdout",
     "output_type": "stream",
     "text": [
      "DataFrame shape: (6691, 11)\n"
     ]
    }
   ],
   "source": [
    "bioactivities_df.drop_duplicates(\"molecule_chembl_id\", keep=\"first\", inplace=True)\n",
    "print(f\"DataFrame shape: {bioactivities_df.shape}\")"
   ]
  },
  {
   "cell_type": "markdown",
   "id": "ae7a7f92-2d0a-44d9-9fe5-81a373c1afbc",
   "metadata": {},
   "source": [
    "Reset the index"
   ]
  },
  {
   "cell_type": "code",
   "execution_count": 20,
   "id": "8ee53767-4d82-49c7-a621-faed1731e31d",
   "metadata": {},
   "outputs": [
    {
     "data": {
      "text/plain": "   activity_id assay_chembl_id  \\\n0        78857    CHEMBL653511   \n1       391560    CHEMBL653332   \n2       391983    CHEMBL653512   \n3       395858    CHEMBL653512   \n4       395859    CHEMBL653512   \n\n                                   assay_description assay_type  \\\n0  Inhibitory activity against Beta-secretase 1 w...          B   \n1  Compound was tested for its inhibitory activit...          B   \n2               Inhibition of human Beta-secretase 1          B   \n3               Inhibition of human Beta-secretase 1          B   \n4               Inhibition of human Beta-secretase 1          B   \n\n  molecule_chembl_id relation standard_units  standard_value target_chembl_id  \\\n0       CHEMBL406146        =             nM           413.0       CHEMBL4822   \n1        CHEMBL78946        =             nM             2.0       CHEMBL4822   \n2       CHEMBL324109        =             nM           460.0       CHEMBL4822   \n3       CHEMBL114147        =             nM          9000.0       CHEMBL4822   \n4       CHEMBL419949        =             nM          5600.0       CHEMBL4822   \n\n  target_organism  type  \n0    Homo sapiens  IC50  \n1    Homo sapiens  IC50  \n2    Homo sapiens  IC50  \n3    Homo sapiens  IC50  \n4    Homo sapiens  IC50  ",
      "text/html": "<div>\n<style scoped>\n    .dataframe tbody tr th:only-of-type {\n        vertical-align: middle;\n    }\n\n    .dataframe tbody tr th {\n        vertical-align: top;\n    }\n\n    .dataframe thead th {\n        text-align: right;\n    }\n</style>\n<table border=\"1\" class=\"dataframe\">\n  <thead>\n    <tr style=\"text-align: right;\">\n      <th></th>\n      <th>activity_id</th>\n      <th>assay_chembl_id</th>\n      <th>assay_description</th>\n      <th>assay_type</th>\n      <th>molecule_chembl_id</th>\n      <th>relation</th>\n      <th>standard_units</th>\n      <th>standard_value</th>\n      <th>target_chembl_id</th>\n      <th>target_organism</th>\n      <th>type</th>\n    </tr>\n  </thead>\n  <tbody>\n    <tr>\n      <th>0</th>\n      <td>78857</td>\n      <td>CHEMBL653511</td>\n      <td>Inhibitory activity against Beta-secretase 1 w...</td>\n      <td>B</td>\n      <td>CHEMBL406146</td>\n      <td>=</td>\n      <td>nM</td>\n      <td>413.0</td>\n      <td>CHEMBL4822</td>\n      <td>Homo sapiens</td>\n      <td>IC50</td>\n    </tr>\n    <tr>\n      <th>1</th>\n      <td>391560</td>\n      <td>CHEMBL653332</td>\n      <td>Compound was tested for its inhibitory activit...</td>\n      <td>B</td>\n      <td>CHEMBL78946</td>\n      <td>=</td>\n      <td>nM</td>\n      <td>2.0</td>\n      <td>CHEMBL4822</td>\n      <td>Homo sapiens</td>\n      <td>IC50</td>\n    </tr>\n    <tr>\n      <th>2</th>\n      <td>391983</td>\n      <td>CHEMBL653512</td>\n      <td>Inhibition of human Beta-secretase 1</td>\n      <td>B</td>\n      <td>CHEMBL324109</td>\n      <td>=</td>\n      <td>nM</td>\n      <td>460.0</td>\n      <td>CHEMBL4822</td>\n      <td>Homo sapiens</td>\n      <td>IC50</td>\n    </tr>\n    <tr>\n      <th>3</th>\n      <td>395858</td>\n      <td>CHEMBL653512</td>\n      <td>Inhibition of human Beta-secretase 1</td>\n      <td>B</td>\n      <td>CHEMBL114147</td>\n      <td>=</td>\n      <td>nM</td>\n      <td>9000.0</td>\n      <td>CHEMBL4822</td>\n      <td>Homo sapiens</td>\n      <td>IC50</td>\n    </tr>\n    <tr>\n      <th>4</th>\n      <td>395859</td>\n      <td>CHEMBL653512</td>\n      <td>Inhibition of human Beta-secretase 1</td>\n      <td>B</td>\n      <td>CHEMBL419949</td>\n      <td>=</td>\n      <td>nM</td>\n      <td>5600.0</td>\n      <td>CHEMBL4822</td>\n      <td>Homo sapiens</td>\n      <td>IC50</td>\n    </tr>\n  </tbody>\n</table>\n</div>"
     },
     "execution_count": 20,
     "metadata": {},
     "output_type": "execute_result"
    }
   ],
   "source": [
    "bioactivities_df.reset_index(drop=True, inplace=True)\n",
    "bioactivities_df.head()"
   ]
  },
  {
   "cell_type": "markdown",
   "id": "28befadf-8559-4e9e-9300-99556d8898ef",
   "metadata": {},
   "source": [
    "Give the columns a proper name"
   ]
  },
  {
   "cell_type": "code",
   "execution_count": 21,
   "id": "ec3a0040-ee5e-4fa9-9e06-e830bc2518dd",
   "metadata": {},
   "outputs": [
    {
     "data": {
      "text/plain": "   activity_id assay_chembl_id  \\\n0        78857    CHEMBL653511   \n1       391560    CHEMBL653332   \n2       391983    CHEMBL653512   \n3       395858    CHEMBL653512   \n4       395859    CHEMBL653512   \n\n                                   assay_description assay_type  \\\n0  Inhibitory activity against Beta-secretase 1 w...          B   \n1  Compound was tested for its inhibitory activit...          B   \n2               Inhibition of human Beta-secretase 1          B   \n3               Inhibition of human Beta-secretase 1          B   \n4               Inhibition of human Beta-secretase 1          B   \n\n  molecule_chembl_id relation units    IC50 target_chembl_id target_organism  \\\n0       CHEMBL406146        =    nM   413.0       CHEMBL4822    Homo sapiens   \n1        CHEMBL78946        =    nM     2.0       CHEMBL4822    Homo sapiens   \n2       CHEMBL324109        =    nM   460.0       CHEMBL4822    Homo sapiens   \n3       CHEMBL114147        =    nM  9000.0       CHEMBL4822    Homo sapiens   \n4       CHEMBL419949        =    nM  5600.0       CHEMBL4822    Homo sapiens   \n\n   type  \n0  IC50  \n1  IC50  \n2  IC50  \n3  IC50  \n4  IC50  ",
      "text/html": "<div>\n<style scoped>\n    .dataframe tbody tr th:only-of-type {\n        vertical-align: middle;\n    }\n\n    .dataframe tbody tr th {\n        vertical-align: top;\n    }\n\n    .dataframe thead th {\n        text-align: right;\n    }\n</style>\n<table border=\"1\" class=\"dataframe\">\n  <thead>\n    <tr style=\"text-align: right;\">\n      <th></th>\n      <th>activity_id</th>\n      <th>assay_chembl_id</th>\n      <th>assay_description</th>\n      <th>assay_type</th>\n      <th>molecule_chembl_id</th>\n      <th>relation</th>\n      <th>units</th>\n      <th>IC50</th>\n      <th>target_chembl_id</th>\n      <th>target_organism</th>\n      <th>type</th>\n    </tr>\n  </thead>\n  <tbody>\n    <tr>\n      <th>0</th>\n      <td>78857</td>\n      <td>CHEMBL653511</td>\n      <td>Inhibitory activity against Beta-secretase 1 w...</td>\n      <td>B</td>\n      <td>CHEMBL406146</td>\n      <td>=</td>\n      <td>nM</td>\n      <td>413.0</td>\n      <td>CHEMBL4822</td>\n      <td>Homo sapiens</td>\n      <td>IC50</td>\n    </tr>\n    <tr>\n      <th>1</th>\n      <td>391560</td>\n      <td>CHEMBL653332</td>\n      <td>Compound was tested for its inhibitory activit...</td>\n      <td>B</td>\n      <td>CHEMBL78946</td>\n      <td>=</td>\n      <td>nM</td>\n      <td>2.0</td>\n      <td>CHEMBL4822</td>\n      <td>Homo sapiens</td>\n      <td>IC50</td>\n    </tr>\n    <tr>\n      <th>2</th>\n      <td>391983</td>\n      <td>CHEMBL653512</td>\n      <td>Inhibition of human Beta-secretase 1</td>\n      <td>B</td>\n      <td>CHEMBL324109</td>\n      <td>=</td>\n      <td>nM</td>\n      <td>460.0</td>\n      <td>CHEMBL4822</td>\n      <td>Homo sapiens</td>\n      <td>IC50</td>\n    </tr>\n    <tr>\n      <th>3</th>\n      <td>395858</td>\n      <td>CHEMBL653512</td>\n      <td>Inhibition of human Beta-secretase 1</td>\n      <td>B</td>\n      <td>CHEMBL114147</td>\n      <td>=</td>\n      <td>nM</td>\n      <td>9000.0</td>\n      <td>CHEMBL4822</td>\n      <td>Homo sapiens</td>\n      <td>IC50</td>\n    </tr>\n    <tr>\n      <th>4</th>\n      <td>395859</td>\n      <td>CHEMBL653512</td>\n      <td>Inhibition of human Beta-secretase 1</td>\n      <td>B</td>\n      <td>CHEMBL419949</td>\n      <td>=</td>\n      <td>nM</td>\n      <td>5600.0</td>\n      <td>CHEMBL4822</td>\n      <td>Homo sapiens</td>\n      <td>IC50</td>\n    </tr>\n  </tbody>\n</table>\n</div>"
     },
     "execution_count": 21,
     "metadata": {},
     "output_type": "execute_result"
    }
   ],
   "source": [
    "bioactivities_df.rename(\n",
    "    columns={\"standard_value\": \"IC50\", \"standard_units\": \"units\"}, inplace=True\n",
    ")\n",
    "bioactivities_df.head()"
   ]
  },
  {
   "cell_type": "code",
   "execution_count": 22,
   "id": "af1d4535-dd0a-40cc-998a-83d64c02a35a",
   "metadata": {},
   "outputs": [
    {
     "name": "stdout",
     "output_type": "stream",
     "text": [
      "DataFrame shape: (6691, 11)\n"
     ]
    }
   ],
   "source": [
    "print(f\"DataFrame shape: {bioactivities_df.shape}\")"
   ]
  },
  {
   "cell_type": "markdown",
   "id": "f2b3ba84-71c8-48e9-aec8-3b895a51b5ef",
   "metadata": {},
   "source": [
    "## Get compound data"
   ]
  },
  {
   "cell_type": "markdown",
   "id": "d7b2a9ab-de2d-4fd6-b2d8-8e31ef5bd615",
   "metadata": {},
   "source": [
    "Fetch molecule structures from ChEMBL that match the molecules that are obtained "
   ]
  },
  {
   "cell_type": "markdown",
   "id": "961ecf70",
   "metadata": {},
   "source": [
    "[Uitleg: hoe werkt dit?]"
   ]
  },
  {
   "cell_type": "code",
   "execution_count": 23,
   "id": "3a6ba3a2-2795-46c1-a9c4-e3d0f8ee6fe7",
   "metadata": {},
   "outputs": [],
   "source": [
    "compounds_provider = compounds_api.filter(\n",
    "    molecule_chembl_id__in=list(bioactivities_df[\"molecule_chembl_id\"])\n",
    ").only(\"molecule_chembl_id\", \"molecule_structures\")"
   ]
  },
  {
   "cell_type": "markdown",
   "id": "42f739f3-130e-4ff6-abe2-c93aacd18e7a",
   "metadata": {},
   "source": [
    "Download the compound data"
   ]
  },
  {
   "cell_type": "code",
   "execution_count": 24,
   "id": "eb3f9405-0677-410d-b627-e62295adccc7",
   "metadata": {},
   "outputs": [
    {
     "data": {
      "text/plain": "  0%|          | 0/6691 [00:00<?, ?it/s]",
      "application/vnd.jupyter.widget-view+json": {
       "version_major": 2,
       "version_minor": 0,
       "model_id": "e812254404d54505926188e1c8b9d888"
      }
     },
     "metadata": {},
     "output_type": "display_data"
    }
   ],
   "source": [
    "compounds = list(tqdm(compounds_provider))"
   ]
  },
  {
   "cell_type": "markdown",
   "id": "df09c246",
   "metadata": {},
   "source": [
    "Add them to dataframe"
   ]
  },
  {
   "cell_type": "code",
   "execution_count": 25,
   "id": "8a703827-e46e-48b7-b5d2-18f4dd834405",
   "metadata": {},
   "outputs": [
    {
     "name": "stdout",
     "output_type": "stream",
     "text": [
      "DataFrame shape: (6691, 2)\n"
     ]
    }
   ],
   "source": [
    "compounds_df = pd.DataFrame.from_records(\n",
    "    compounds,\n",
    ") \n",
    "print(f\"DataFrame shape: {compounds_df.shape}\")"
   ]
  },
  {
   "cell_type": "code",
   "execution_count": 26,
   "id": "bb743b6b-28d8-4868-a70b-cb8d28cbcdb1",
   "metadata": {},
   "outputs": [
    {
     "data": {
      "text/plain": "  molecule_chembl_id                                molecule_structures\n0         CHEMBL6246  {'canonical_smiles': 'O=c1oc2c(O)c(O)cc3c(=O)o...\n1           CHEMBL28  {'canonical_smiles': 'O=c1cc(-c2ccc(O)cc2)oc2c...\n2           CHEMBL50  {'canonical_smiles': 'O=c1c(O)c(-c2ccc(O)c(O)c...\n3           CHEMBL76  {'canonical_smiles': 'CCN(CC)CCCC(C)Nc1ccnc2cc...\n4          CHEMBL502  {'canonical_smiles': 'COc1cc2c(cc1OC)C(=O)C(CC...",
      "text/html": "<div>\n<style scoped>\n    .dataframe tbody tr th:only-of-type {\n        vertical-align: middle;\n    }\n\n    .dataframe tbody tr th {\n        vertical-align: top;\n    }\n\n    .dataframe thead th {\n        text-align: right;\n    }\n</style>\n<table border=\"1\" class=\"dataframe\">\n  <thead>\n    <tr style=\"text-align: right;\">\n      <th></th>\n      <th>molecule_chembl_id</th>\n      <th>molecule_structures</th>\n    </tr>\n  </thead>\n  <tbody>\n    <tr>\n      <th>0</th>\n      <td>CHEMBL6246</td>\n      <td>{'canonical_smiles': 'O=c1oc2c(O)c(O)cc3c(=O)o...</td>\n    </tr>\n    <tr>\n      <th>1</th>\n      <td>CHEMBL28</td>\n      <td>{'canonical_smiles': 'O=c1cc(-c2ccc(O)cc2)oc2c...</td>\n    </tr>\n    <tr>\n      <th>2</th>\n      <td>CHEMBL50</td>\n      <td>{'canonical_smiles': 'O=c1c(O)c(-c2ccc(O)c(O)c...</td>\n    </tr>\n    <tr>\n      <th>3</th>\n      <td>CHEMBL76</td>\n      <td>{'canonical_smiles': 'CCN(CC)CCCC(C)Nc1ccnc2cc...</td>\n    </tr>\n    <tr>\n      <th>4</th>\n      <td>CHEMBL502</td>\n      <td>{'canonical_smiles': 'COc1cc2c(cc1OC)C(=O)C(CC...</td>\n    </tr>\n  </tbody>\n</table>\n</div>"
     },
     "execution_count": 26,
     "metadata": {},
     "output_type": "execute_result"
    }
   ],
   "source": [
    "compounds_df.head() # Show the first 5 of the dataframe to get an idea of the dataset"
   ]
  },
  {
   "cell_type": "markdown",
   "id": "9171493a-4193-471c-8ff9-84a6c662a640",
   "metadata": {},
   "source": [
    "# Preprocess and filter compound data"
   ]
  },
  {
   "cell_type": "markdown",
   "id": "631dce71-a738-466a-af69-4a7ee5ca5b24",
   "metadata": {},
   "source": [
    "Remove entries with missing molecule structure entry"
   ]
  },
  {
   "cell_type": "code",
   "execution_count": 27,
   "id": "e7609878-4fe1-42d3-9be5-3fe2b9eb1ac1",
   "metadata": {},
   "outputs": [
    {
     "name": "stdout",
     "output_type": "stream",
     "text": [
      "DataFrame shape: (6691, 2)\n"
     ]
    }
   ],
   "source": [
    "compounds_df.dropna(axis=0, how=\"any\", inplace=True)\n",
    "print(f\"DataFrame shape: {compounds_df.shape}\")"
   ]
  },
  {
   "cell_type": "markdown",
   "id": "7be3a72f-7f89-4526-90b9-ab3c893d93ad",
   "metadata": {},
   "source": [
    "Remove duplicate molecules"
   ]
  },
  {
   "cell_type": "code",
   "execution_count": 28,
   "id": "21926cc7-ab36-4056-b0d7-343d1de96962",
   "metadata": {},
   "outputs": [
    {
     "name": "stdout",
     "output_type": "stream",
     "text": [
      "DataFrame shape: (6691, 2)\n"
     ]
    }
   ],
   "source": [
    "compounds_df.drop_duplicates(\"molecule_chembl_id\", keep=\"first\", inplace=True)\n",
    "print(f\"DataFrame shape: {compounds_df.shape}\")"
   ]
  },
  {
   "cell_type": "markdown",
   "id": "4bcee1d2-e220-4cfc-9ae8-ff5370055daf",
   "metadata": {},
   "source": [
    "Fetch molecules with canonical SMILES.\n",
    "\n",
    "Simplified Molecular Input Line Entry System (SMILES) is a chemical notation that uniquely and accurately describes chemical structures and is both user-friendly and machine-friendly. It is user-friendly in the sense that the notation consists of a linear sequence of symbols, just like natural language, and it contains a minimum number of simple rules. It is machine-friendly because the SMILES notation can be interpreted and generated in a very efficient, fast way by machine-independent systems. This makes the SMILES notation an interface between human and machine, \n",
    "providing many machine-oriented chemical information functions.\n",
    "A disadvantage of the SMILES notation is that it is not standardized, so different notations are possible for the same molecule. For example, there are three notations for ethanol, COO, OOC and C (O) C. To solve this problem, Weininger et al. (2012) created a canonical procedure to ensure that for each molecule there is a single SMILES notation, this is called the canonical SMILES. These canonical SMILES will be therefore used in this project.\n"
   ]
  },
  {
   "cell_type": "code",
   "execution_count": 29,
   "id": "13ac82c3-4648-41de-806b-af3dd4102122",
   "metadata": {},
   "outputs": [
    {
     "data": {
      "text/plain": "dict_keys(['canonical_smiles', 'molfile', 'standard_inchi', 'standard_inchi_key'])"
     },
     "execution_count": 29,
     "metadata": {},
     "output_type": "execute_result"
    }
   ],
   "source": [
    "compounds_df.iloc[0].molecule_structures.keys()"
   ]
  },
  {
   "cell_type": "code",
   "execution_count": 30,
   "id": "746db78c-4b9b-4644-8e12-4fbb0af658c0",
   "metadata": {},
   "outputs": [
    {
     "name": "stdout",
     "output_type": "stream",
     "text": [
      "DataFrame shape: (6691, 2)\n"
     ]
    }
   ],
   "source": [
    "canonical_smiles = []\n",
    "\n",
    "for i, compounds in compounds_df.iterrows():\n",
    "    try:\n",
    "        canonical_smiles.append(compounds[\"molecule_structures\"][\"canonical_smiles\"])\n",
    "    except KeyError:\n",
    "        canonical_smiles.append(None)\n",
    "\n",
    "compounds_df[\"smiles\"] = canonical_smiles\n",
    "compounds_df.drop(\"molecule_structures\", axis=1, inplace=True)\n",
    "print(f\"DataFrame shape: {compounds_df.shape}\")"
   ]
  },
  {
   "cell_type": "markdown",
   "id": "d1c23b59-7df5-4405-b118-96f092e19a17",
   "metadata": {},
   "source": [
    "Remove the molecules without a canonical SMILES string "
   ]
  },
  {
   "cell_type": "code",
   "execution_count": 31,
   "id": "9b7e3ee5-24be-48d8-8714-57b010a1ed02",
   "metadata": {},
   "outputs": [
    {
     "name": "stdout",
     "output_type": "stream",
     "text": [
      "DataFrame shape: (6691, 2)\n"
     ]
    }
   ],
   "source": [
    "compounds_df.dropna(axis=0, how=\"any\", inplace=True)\n",
    "print(f\"DataFrame shape: {compounds_df.shape}\")"
   ]
  },
  {
   "cell_type": "markdown",
   "id": "5aa5a911-e594-48b9-97cc-d22da1b73f32",
   "metadata": {},
   "source": [
    "## Output (bioactivity-compound) data"
   ]
  },
  {
   "cell_type": "markdown",
   "id": "c974df9c-4d76-4c2a-9795-4d60239f0add",
   "metadata": {},
   "source": [
    "Summary of compound and bioactivity data"
   ]
  },
  {
   "cell_type": "code",
   "execution_count": 32,
   "id": "ddc2392e-d066-4237-92f5-3d9537d363a3",
   "metadata": {},
   "outputs": [
    {
     "name": "stdout",
     "output_type": "stream",
     "text": [
      "Bioactivities filtered: 6691\n"
     ]
    },
    {
     "data": {
      "text/plain": "Index(['activity_id', 'assay_chembl_id', 'assay_description', 'assay_type',\n       'molecule_chembl_id', 'relation', 'units', 'IC50', 'target_chembl_id',\n       'target_organism', 'type'],\n      dtype='object')"
     },
     "execution_count": 32,
     "metadata": {},
     "output_type": "execute_result"
    }
   ],
   "source": [
    "print(f\"Bioactivities filtered: {bioactivities_df.shape[0]}\")\n",
    "bioactivities_df.columns"
   ]
  },
  {
   "cell_type": "code",
   "execution_count": 33,
   "id": "4f9cf8f7-d270-4f7f-8eae-7f61c93bc02f",
   "metadata": {},
   "outputs": [
    {
     "name": "stdout",
     "output_type": "stream",
     "text": [
      "Compounds filtered: 6691\n"
     ]
    },
    {
     "data": {
      "text/plain": "Index(['molecule_chembl_id', 'smiles'], dtype='object')"
     },
     "execution_count": 33,
     "metadata": {},
     "output_type": "execute_result"
    }
   ],
   "source": [
    "print(f\"Compounds filtered: {compounds_df.shape[0]}\")\n",
    "compounds_df.columns"
   ]
  },
  {
   "cell_type": "markdown",
   "id": "0dc4ac90-5d94-497f-96a3-3abc0f716e39",
   "metadata": {},
   "source": [
    "Merge both datasets, based on the ChEMBL IDs. Keep only the following variables: ChEMBL ID, SMILES, units and IC50 "
   ]
  },
  {
   "cell_type": "code",
   "execution_count": 34,
   "id": "607eeedb-3587-4524-8d5b-9302a4eb547e",
   "metadata": {},
   "outputs": [
    {
     "name": "stdout",
     "output_type": "stream",
     "text": [
      "Dataset with 6691 entries.\n"
     ]
    }
   ],
   "source": [
    "output_df = pd.merge(\n",
    "    bioactivities_df[[\"molecule_chembl_id\", \"IC50\", \"units\"]],\n",
    "    compounds_df,\n",
    "    on=\"molecule_chembl_id\",\n",
    ")\n",
    "\n",
    "# Reset row indices\n",
    "output_df.reset_index(drop=True, inplace=True)\n",
    "\n",
    "print(f\"Dataset with {output_df.shape[0]} entries.\")"
   ]
  },
  {
   "cell_type": "markdown",
   "id": "af1cab5c",
   "metadata": {},
   "source": [
    "[Say something about the amount of data, good (enough) for models? Would you like more? Which kind of models are good with this amount of data? ]"
   ]
  },
  {
   "cell_type": "code",
   "execution_count": 35,
   "id": "35b8acde-17ab-4e5a-bedc-d565621e8367",
   "metadata": {},
   "outputs": [
    {
     "data": {
      "text/plain": "molecule_chembl_id     object\nIC50                  float64\nunits                  object\nsmiles                 object\ndtype: object"
     },
     "execution_count": 35,
     "metadata": {},
     "output_type": "execute_result"
    }
   ],
   "source": [
    "output_df.dtypes # See which variables are in the dataframe"
   ]
  },
  {
   "cell_type": "code",
   "execution_count": 36,
   "id": "36b6224c-58f9-4fef-961c-35fa72ea0c0a",
   "metadata": {},
   "outputs": [
    {
     "data": {
      "text/plain": "  molecule_chembl_id    IC50 units  \\\n0       CHEMBL406146   413.0    nM   \n1        CHEMBL78946     2.0    nM   \n2       CHEMBL324109   460.0    nM   \n3       CHEMBL114147  9000.0    nM   \n4       CHEMBL419949  5600.0    nM   \n\n                                              smiles  \n0  CC(C)C[C@H](NC(=O)[C@@H](NC(=O)[C@@H](N)CCC(=O...  \n1  CC(C)C[C@H](NC(=O)[C@H](CC(N)=O)NC(=O)[C@@H](N...  \n2  CCC(C)C[C@H](NC(=O)[C@H](CC(C)C)NC(C)=O)[C@@H]...  \n3  CC(=O)NCC(=O)N[C@@H](Cc1ccccc1)[C@@H](O)CC(=O)...  \n4  CC(=O)N[C@@H](Cc1ccccc1)C(=O)N[C@@H](Cc1ccccc1...  ",
      "text/html": "<div>\n<style scoped>\n    .dataframe tbody tr th:only-of-type {\n        vertical-align: middle;\n    }\n\n    .dataframe tbody tr th {\n        vertical-align: top;\n    }\n\n    .dataframe thead th {\n        text-align: right;\n    }\n</style>\n<table border=\"1\" class=\"dataframe\">\n  <thead>\n    <tr style=\"text-align: right;\">\n      <th></th>\n      <th>molecule_chembl_id</th>\n      <th>IC50</th>\n      <th>units</th>\n      <th>smiles</th>\n    </tr>\n  </thead>\n  <tbody>\n    <tr>\n      <th>0</th>\n      <td>CHEMBL406146</td>\n      <td>413.0</td>\n      <td>nM</td>\n      <td>CC(C)C[C@H](NC(=O)[C@@H](NC(=O)[C@@H](N)CCC(=O...</td>\n    </tr>\n    <tr>\n      <th>1</th>\n      <td>CHEMBL78946</td>\n      <td>2.0</td>\n      <td>nM</td>\n      <td>CC(C)C[C@H](NC(=O)[C@H](CC(N)=O)NC(=O)[C@@H](N...</td>\n    </tr>\n    <tr>\n      <th>2</th>\n      <td>CHEMBL324109</td>\n      <td>460.0</td>\n      <td>nM</td>\n      <td>CCC(C)C[C@H](NC(=O)[C@H](CC(C)C)NC(C)=O)[C@@H]...</td>\n    </tr>\n    <tr>\n      <th>3</th>\n      <td>CHEMBL114147</td>\n      <td>9000.0</td>\n      <td>nM</td>\n      <td>CC(=O)NCC(=O)N[C@@H](Cc1ccccc1)[C@@H](O)CC(=O)...</td>\n    </tr>\n    <tr>\n      <th>4</th>\n      <td>CHEMBL419949</td>\n      <td>5600.0</td>\n      <td>nM</td>\n      <td>CC(=O)N[C@@H](Cc1ccccc1)C(=O)N[C@@H](Cc1ccccc1...</td>\n    </tr>\n  </tbody>\n</table>\n</div>"
     },
     "execution_count": 36,
     "metadata": {},
     "output_type": "execute_result"
    }
   ],
   "source": [
    "output_df.head() # See the first 5 rows of the dataframe"
   ]
  },
  {
   "cell_type": "markdown",
   "id": "ddd631c7-8164-4b6a-ba0e-aa45b00e3c3f",
   "metadata": {},
   "source": [
    "Add pIC50 values, as the pIC50 value are better readable than IC50, because the values of IC50 are distributed over multiple scales."
   ]
  },
  {
   "cell_type": "code",
   "execution_count": 37,
   "id": "628df47d-8513-464a-8fe1-520847cc9da5",
   "metadata": {},
   "outputs": [],
   "source": [
    "def convert_ic50_to_pic50(IC50_value):\n",
    "    pIC50_value = 9 - math.log10(IC50_value)\n",
    "    return pIC50_value"
   ]
  },
  {
   "cell_type": "markdown",
   "id": "8eb9a5d8-4254-4afc-b69c-da9e2deb5ff6",
   "metadata": {},
   "source": [
    "Apply conversion to each row of the compounds DataFrame"
   ]
  },
  {
   "cell_type": "code",
   "execution_count": 38,
   "id": "ede1e1c4-94c9-42e8-94fb-ca6f95aaaad9",
   "metadata": {},
   "outputs": [],
   "source": [
    "# Apply conversion to each row of the compounds DataFrame\n",
    "output_df[\"pIC50\"] = output_df.apply(lambda x: convert_ic50_to_pic50(x.IC50), axis=1)"
   ]
  },
  {
   "cell_type": "code",
   "execution_count": 39,
   "id": "401c5635-84d8-46b9-9a1f-afb31dbe6df6",
   "metadata": {},
   "outputs": [
    {
     "data": {
      "text/plain": "  molecule_chembl_id    IC50 units  \\\n0       CHEMBL406146   413.0    nM   \n1        CHEMBL78946     2.0    nM   \n2       CHEMBL324109   460.0    nM   \n3       CHEMBL114147  9000.0    nM   \n4       CHEMBL419949  5600.0    nM   \n\n                                              smiles     pIC50  \n0  CC(C)C[C@H](NC(=O)[C@@H](NC(=O)[C@@H](N)CCC(=O...  6.384050  \n1  CC(C)C[C@H](NC(=O)[C@H](CC(N)=O)NC(=O)[C@@H](N...  8.698970  \n2  CCC(C)C[C@H](NC(=O)[C@H](CC(C)C)NC(C)=O)[C@@H]...  6.337242  \n3  CC(=O)NCC(=O)N[C@@H](Cc1ccccc1)[C@@H](O)CC(=O)...  5.045757  \n4  CC(=O)N[C@@H](Cc1ccccc1)C(=O)N[C@@H](Cc1ccccc1...  5.251812  ",
      "text/html": "<div>\n<style scoped>\n    .dataframe tbody tr th:only-of-type {\n        vertical-align: middle;\n    }\n\n    .dataframe tbody tr th {\n        vertical-align: top;\n    }\n\n    .dataframe thead th {\n        text-align: right;\n    }\n</style>\n<table border=\"1\" class=\"dataframe\">\n  <thead>\n    <tr style=\"text-align: right;\">\n      <th></th>\n      <th>molecule_chembl_id</th>\n      <th>IC50</th>\n      <th>units</th>\n      <th>smiles</th>\n      <th>pIC50</th>\n    </tr>\n  </thead>\n  <tbody>\n    <tr>\n      <th>0</th>\n      <td>CHEMBL406146</td>\n      <td>413.0</td>\n      <td>nM</td>\n      <td>CC(C)C[C@H](NC(=O)[C@@H](NC(=O)[C@@H](N)CCC(=O...</td>\n      <td>6.384050</td>\n    </tr>\n    <tr>\n      <th>1</th>\n      <td>CHEMBL78946</td>\n      <td>2.0</td>\n      <td>nM</td>\n      <td>CC(C)C[C@H](NC(=O)[C@H](CC(N)=O)NC(=O)[C@@H](N...</td>\n      <td>8.698970</td>\n    </tr>\n    <tr>\n      <th>2</th>\n      <td>CHEMBL324109</td>\n      <td>460.0</td>\n      <td>nM</td>\n      <td>CCC(C)C[C@H](NC(=O)[C@H](CC(C)C)NC(C)=O)[C@@H]...</td>\n      <td>6.337242</td>\n    </tr>\n    <tr>\n      <th>3</th>\n      <td>CHEMBL114147</td>\n      <td>9000.0</td>\n      <td>nM</td>\n      <td>CC(=O)NCC(=O)N[C@@H](Cc1ccccc1)[C@@H](O)CC(=O)...</td>\n      <td>5.045757</td>\n    </tr>\n    <tr>\n      <th>4</th>\n      <td>CHEMBL419949</td>\n      <td>5600.0</td>\n      <td>nM</td>\n      <td>CC(=O)N[C@@H](Cc1ccccc1)C(=O)N[C@@H](Cc1ccccc1...</td>\n      <td>5.251812</td>\n    </tr>\n  </tbody>\n</table>\n</div>"
     },
     "execution_count": 39,
     "metadata": {},
     "output_type": "execute_result"
    }
   ],
   "source": [
    "output_df.head()"
   ]
  },
  {
   "cell_type": "markdown",
   "id": "d9a8294f-98a9-4163-8b19-4ed681096e1b",
   "metadata": {},
   "source": [
    "## Draw compound data"
   ]
  },
  {
   "cell_type": "markdown",
   "id": "616f316f",
   "metadata": {},
   "source": [
    "To have a look at the collected dataset the pIC50 distribution is plotted"
   ]
  },
  {
   "cell_type": "code",
   "execution_count": 40,
   "id": "5cdcaa14",
   "metadata": {},
   "outputs": [
    {
     "data": {
      "text/plain": "array([[<AxesSubplot: title={'center': 'pIC50'}>]], dtype=object)"
     },
     "execution_count": 40,
     "metadata": {},
     "output_type": "execute_result"
    },
    {
     "data": {
      "text/plain": "<Figure size 640x480 with 1 Axes>",
      "image/png": "[encoded data removed]"
     },
     "metadata": {},
     "output_type": "display_data"
    }
   ],
   "source": [
    "output_df.hist(column=\"pIC50\")"
   ]
  },
  {
   "cell_type": "markdown",
   "id": "309c5106",
   "metadata": {},
   "source": [
    "[Say something about the distribution of pIC50 values]"
   ]
  },
  {
   "cell_type": "markdown",
   "id": "77b207dd",
   "metadata": {},
   "source": [
    "In the next steps, a column for RDKit molecule objects will be added to the dataframe to look at the structures with the highest pIC50 values"
   ]
  },
  {
   "cell_type": "code",
   "execution_count": 41,
   "id": "cd80af3b-8ba1-41fd-831a-066e3b124ab5",
   "metadata": {},
   "outputs": [],
   "source": [
    "PandasTools.AddMoleculeColumnToFrame(output_df, smilesCol=\"smiles\")"
   ]
  },
  {
   "cell_type": "markdown",
   "id": "3d570f88-5560-4cc5-8a13-db69e3c25728",
   "metadata": {},
   "source": [
    "Sort molecules by pIC50"
   ]
  },
  {
   "cell_type": "code",
   "execution_count": 42,
   "id": "f070722e-d3f9-40b2-a3b4-4ac42a89138e",
   "metadata": {},
   "outputs": [],
   "source": [
    "output_df.sort_values(by=\"pIC50\", ascending=False, inplace=True)"
   ]
  },
  {
   "cell_type": "markdown",
   "id": "fbb28777-79ed-46a5-8632-21525cd12451",
   "metadata": {},
   "source": [
    "Reset index"
   ]
  },
  {
   "cell_type": "code",
   "execution_count": 43,
   "id": "4d429a2d-ee3b-4a5b-8794-35de0a8738b5",
   "metadata": {},
   "outputs": [],
   "source": [
    "output_df.reset_index(drop=True, inplace=True)"
   ]
  },
  {
   "cell_type": "code",
   "execution_count": 44,
   "id": "cd8daa90-eb1d-4560-920d-0e668f53865c",
   "metadata": {},
   "outputs": [
    {
     "data": {
      "text/plain": "  molecule_chembl_id    IC50 units  \\\n0      CHEMBL3969403  0.0002    nM   \n1      CHEMBL3937515  0.0009    nM   \n2      CHEMBL3949213  0.0010    nM   \n\n                                              smiles      pIC50  \\\n0  CC1(C)C(N)=N[C@](C)(c2cc(NC(=O)c3ccc(C#N)cn3)c...  12.698970   \n1  COc1cnc(C(=O)Nc2ccc(F)c([C@]3(C)CS(=O)(=O)C(C)...  12.045757   \n2  C[C@@]1(c2cc(NC(=O)c3ccc(C#N)cn3)ccc2F)CS(=O)(...  12.000000   \n\n                                              ROMol  \n0  <rdkit.Chem.rdchem.Mol object at 0x7fccced2ba60>  \n1  <rdkit.Chem.rdchem.Mol object at 0x7fccced2bac0>  \n2  <rdkit.Chem.rdchem.Mol object at 0x7fccced2bb80>  ",
      "text/html": "<div>\n<style scoped>\n    .dataframe tbody tr th:only-of-type {\n        vertical-align: middle;\n    }\n\n    .dataframe tbody tr th {\n        vertical-align: top;\n    }\n\n    .dataframe thead th {\n        text-align: right;\n    }\n</style>\n<table border=\"1\" class=\"dataframe\">\n  <thead>\n    <tr style=\"text-align: right;\">\n      <th></th>\n      <th>molecule_chembl_id</th>\n      <th>IC50</th>\n      <th>units</th>\n      <th>smiles</th>\n      <th>pIC50</th>\n      <th>ROMol</th>\n    </tr>\n  </thead>\n  <tbody>\n    <tr>\n      <th>0</th>\n      <td>CHEMBL3969403</td>\n      <td>0.0002</td>\n      <td>nM</td>\n      <td>CC1(C)C(N)=N[C@](C)(c2cc(NC(=O)c3ccc(C#N)cn3)c...</td>\n      <td>12.698970</td>\n      <td>&lt;rdkit.Chem.rdchem.Mol object at 0x7fccced2ba60&gt;</td>\n    </tr>\n    <tr>\n      <th>1</th>\n      <td>CHEMBL3937515</td>\n      <td>0.0009</td>\n      <td>nM</td>\n      <td>COc1cnc(C(=O)Nc2ccc(F)c([C@]3(C)CS(=O)(=O)C(C)...</td>\n      <td>12.045757</td>\n      <td>&lt;rdkit.Chem.rdchem.Mol object at 0x7fccced2bac0&gt;</td>\n    </tr>\n    <tr>\n      <th>2</th>\n      <td>CHEMBL3949213</td>\n      <td>0.0010</td>\n      <td>nM</td>\n      <td>C[C@@]1(c2cc(NC(=O)c3ccc(C#N)cn3)ccc2F)CS(=O)(...</td>\n      <td>12.000000</td>\n      <td>&lt;rdkit.Chem.rdchem.Mol object at 0x7fccced2bb80&gt;</td>\n    </tr>\n  </tbody>\n</table>\n</div>"
     },
     "execution_count": 44,
     "metadata": {},
     "output_type": "execute_result"
    }
   ],
   "source": [
    "output_df.head(3)"
   ]
  },
  {
   "cell_type": "markdown",
   "source": [
    "Drop the ROMol column (is to much to save)"
   ],
   "metadata": {
    "collapsed": false
   }
  },
  {
   "cell_type": "markdown",
   "source": [
    "Save the data as csv file"
   ],
   "metadata": {
    "collapsed": false
   }
  },
  {
   "cell_type": "code",
   "execution_count": 45,
   "outputs": [
    {
     "data": {
      "text/plain": "  molecule_chembl_id    IC50 units  \\\n0      CHEMBL3969403  0.0002    nM   \n1      CHEMBL3937515  0.0009    nM   \n2      CHEMBL3949213  0.0010    nM   \n3      CHEMBL3955051  0.0018    nM   \n4      CHEMBL3936264  0.0057    nM   \n\n                                              smiles      pIC50  \\\n0  CC1(C)C(N)=N[C@](C)(c2cc(NC(=O)c3ccc(C#N)cn3)c...  12.698970   \n1  COc1cnc(C(=O)Nc2ccc(F)c([C@]3(C)CS(=O)(=O)C(C)...  12.045757   \n2  C[C@@]1(c2cc(NC(=O)c3ccc(C#N)cn3)ccc2F)CS(=O)(...  12.000000   \n3  CC1(C)C(N)=N[C@](C)(c2cc(NC(=O)c3cnc(C(F)F)cn3...  11.744727   \n4  C[C@@]1(c2cc(NC(=O)c3ccc(OC(F)F)cn3)ccc2F)CS(=...  11.244125   \n\n                                              ROMol  \n0  <rdkit.Chem.rdchem.Mol object at 0x7fccced2ba60>  \n1  <rdkit.Chem.rdchem.Mol object at 0x7fccced2bac0>  \n2  <rdkit.Chem.rdchem.Mol object at 0x7fccced2bb80>  \n3  <rdkit.Chem.rdchem.Mol object at 0x7fccced2bb20>  \n4  <rdkit.Chem.rdchem.Mol object at 0x7fccced2ba00>  ",
      "text/html": "<div>\n<style scoped>\n    .dataframe tbody tr th:only-of-type {\n        vertical-align: middle;\n    }\n\n    .dataframe tbody tr th {\n        vertical-align: top;\n    }\n\n    .dataframe thead th {\n        text-align: right;\n    }\n</style>\n<table border=\"1\" class=\"dataframe\">\n  <thead>\n    <tr style=\"text-align: right;\">\n      <th></th>\n      <th>molecule_chembl_id</th>\n      <th>IC50</th>\n      <th>units</th>\n      <th>smiles</th>\n      <th>pIC50</th>\n      <th>ROMol</th>\n    </tr>\n  </thead>\n  <tbody>\n    <tr>\n      <th>0</th>\n      <td>CHEMBL3969403</td>\n      <td>0.0002</td>\n      <td>nM</td>\n      <td>CC1(C)C(N)=N[C@](C)(c2cc(NC(=O)c3ccc(C#N)cn3)c...</td>\n      <td>12.698970</td>\n      <td>&lt;rdkit.Chem.rdchem.Mol object at 0x7fccced2ba60&gt;</td>\n    </tr>\n    <tr>\n      <th>1</th>\n      <td>CHEMBL3937515</td>\n      <td>0.0009</td>\n      <td>nM</td>\n      <td>COc1cnc(C(=O)Nc2ccc(F)c([C@]3(C)CS(=O)(=O)C(C)...</td>\n      <td>12.045757</td>\n      <td>&lt;rdkit.Chem.rdchem.Mol object at 0x7fccced2bac0&gt;</td>\n    </tr>\n    <tr>\n      <th>2</th>\n      <td>CHEMBL3949213</td>\n      <td>0.0010</td>\n      <td>nM</td>\n      <td>C[C@@]1(c2cc(NC(=O)c3ccc(C#N)cn3)ccc2F)CS(=O)(...</td>\n      <td>12.000000</td>\n      <td>&lt;rdkit.Chem.rdchem.Mol object at 0x7fccced2bb80&gt;</td>\n    </tr>\n    <tr>\n      <th>3</th>\n      <td>CHEMBL3955051</td>\n      <td>0.0018</td>\n      <td>nM</td>\n      <td>CC1(C)C(N)=N[C@](C)(c2cc(NC(=O)c3cnc(C(F)F)cn3...</td>\n      <td>11.744727</td>\n      <td>&lt;rdkit.Chem.rdchem.Mol object at 0x7fccced2bb20&gt;</td>\n    </tr>\n    <tr>\n      <th>4</th>\n      <td>CHEMBL3936264</td>\n      <td>0.0057</td>\n      <td>nM</td>\n      <td>C[C@@]1(c2cc(NC(=O)c3ccc(OC(F)F)cn3)ccc2F)CS(=...</td>\n      <td>11.244125</td>\n      <td>&lt;rdkit.Chem.rdchem.Mol object at 0x7fccced2ba00&gt;</td>\n    </tr>\n  </tbody>\n</table>\n</div>"
     },
     "execution_count": 45,
     "metadata": {},
     "output_type": "execute_result"
    }
   ],
   "source": [
    "output_df.to_csv(DATA/\"BACE_compounds.csv\")\n",
    "output_df.head()"
   ],
   "metadata": {
    "collapsed": false
   }
  },
  {
   "cell_type": "markdown",
   "id": "c80945bc",
   "metadata": {},
   "source": [
    "For promising compounds in not only the potency, but also the drug-likeness important. In the next part the orally bioavailablity of these compounds will be examined using Lipinski's rule-of-5. "
   ]
  }
 ],
 "metadata": {
  "kernelspec": {
   "display_name": "Python 3 (ipykernel)",
   "language": "python",
   "name": "python3"
  },
  "language_info": {
   "codemirror_mode": {
    "name": "ipython",
    "version": 3
   },
   "file_extension": ".py",
   "mimetype": "text/x-python",
   "name": "python",
   "nbconvert_exporter": "python",
   "pygments_lexer": "ipython3",
   "version": "3.9.12"
  }
 },
 "nbformat": 4,
 "nbformat_minor": 5
}
