{
 "cells": [
  {
   "cell_type": "markdown",
   "id": "09502dac-a773-486a-bc80-96a32e03033c",
   "metadata": {},
   "source": [
    "# Part 2: Mark compounds by Lipinski's rule of five"
   ]
  },
  {
   "cell_type": "markdown",
   "id": "ce9903ed",
   "metadata": {},
   "source": [
    "For promising compounds in not only the potency, but also the drug-likeness important. In this part the orally bioavailability of the compounds fetched from ChEMBL with be examined using Lipinski's rule-of-5.\n",
    "\n",
    "The Lipinski’s rule-of-5 describes a number of rules for determining whether a drug is suitable for oral absorption. The rules all contain multiples of 5, namely a molecular weight less than 500, less than 5 hydrogen bond donor groups and less than 10 hydrogen acceptor groups. In addition, a compound should have a LogP of less than +5. These rules are based on an analysis of compounds from the World Drug Index database."
   ]
  },
  {
   "cell_type": "markdown",
   "id": "29296d04-d31c-4933-b5a1-b94d71f0d11b",
   "metadata": {},
   "source": [
    "Import required libraries"
   ]
  },
  {
   "cell_type": "code",
   "execution_count": 1,
   "id": "b17aec52-7359-48b4-8dfb-54c9bcdeb103",
   "metadata": {},
   "outputs": [],
   "source": [
    "from pathlib import Path\n",
    "import math\n",
    "\n",
    "import numpy as np\n",
    "import pandas as pd\n",
    "import matplotlib.pyplot as plt\n",
    "from matplotlib.lines import Line2D\n",
    "import matplotlib.patches as mpatches\n",
    "from rdkit import Chem\n",
    "from rdkit.Chem import Descriptors, Draw, PandasTools"
   ]
  },
  {
   "cell_type": "markdown",
   "id": "23d9e900",
   "metadata": {},
   "source": [
    "Define path to this notebook"
   ]
  },
  {
   "cell_type": "code",
   "execution_count": 2,
   "id": "b936381c",
   "metadata": {},
   "outputs": [],
   "source": [
    "HERE = Path(_dh[-1])\n",
    "DATA = HERE / \"data\""
   ]
  },
  {
   "cell_type": "markdown",
   "id": "1394636d-03bc-4384-b882-a25fe5280e19",
   "metadata": {},
   "source": [
    "## Investigate compliance with Ro5"
   ]
  },
  {
   "cell_type": "markdown",
   "id": "ea0a2c97-fc49-4386-b343-d2d9043bee69",
   "metadata": {},
   "source": [
    "Define function to test if the molecule fulfills the lipinski's rule of five."
   ]
  },
  {
   "cell_type": "code",
   "execution_count": 3,
   "id": "daf43328-7289-472f-a552-d84b78c3f096",
   "metadata": {},
   "outputs": [],
   "source": [
    "def calculate_ro5_properties(smiles):\n",
    "    \"\"\"\n",
    "    Test if input molecule (SMILES) fulfills Lipinski's rule of five.\n",
    "\n",
    "    Parameters\n",
    "    ----------\n",
    "    smiles : str\n",
    "        SMILES for a molecule.\n",
    "\n",
    "    Returns\n",
    "    -------\n",
    "    pandas.Series\n",
    "        Molecular weight, number of hydrogen bond acceptors/donor and logP value\n",
    "        and Lipinski's rule of five compliance for input molecule.\n",
    "    \"\"\"\n",
    "    # RDKit molecule from SMILES\n",
    "    molecule = Chem.MolFromSmiles(smiles)\n",
    "    # Calculate Ro5-relevant chemical properties\n",
    "    molecular_weight = Descriptors.ExactMolWt(molecule)\n",
    "    n_hba = Descriptors.NumHAcceptors(molecule)\n",
    "    n_hbd = Descriptors.NumHDonors(molecule)\n",
    "    logp = Descriptors.MolLogP(molecule)\n",
    "    # Check if Ro5 conditions fulfilled\n",
    "    conditions = [molecular_weight <= 500, n_hba <= 10, n_hbd <= 5, logp <= 5]\n",
    "    ro5_fulfilled = sum(conditions) >= 3\n",
    "    # Return True if no more than one out of four conditions is violated\n",
    "    return pd.Series(\n",
    "        [molecular_weight, n_hba, n_hbd, logp, ro5_fulfilled],\n",
    "        index=[\"molecular_weight\", \"n_hba\", \"n_hbd\", \"logp\", \"ro5_fulfilled\"],\n",
    "    )"
   ]
  },
  {
   "cell_type": "markdown",
   "id": "85811b20-0a51-429e-849c-0c523c8bea58",
   "metadata": {},
   "source": [
    "Read the data from part 1"
   ]
  },
  {
   "cell_type": "code",
   "execution_count": 4,
   "id": "cbb207f0-bd49-4a85-8a2f-c8a2aa90c86e",
   "metadata": {},
   "outputs": [
    {
     "name": "stdout",
     "output_type": "stream",
     "text": [
      "(6691, 5)\n"
     ]
    },
    {
     "data": {
      "text/plain": "  molecule_chembl_id    IC50 units  \\\n0      CHEMBL3969403  0.0002    nM   \n1      CHEMBL3937515  0.0009    nM   \n2      CHEMBL3949213  0.0010    nM   \n3      CHEMBL3955051  0.0018    nM   \n4      CHEMBL3936264  0.0057    nM   \n\n                                              smiles      pIC50  \n0  CC1(C)C(N)=N[C@](C)(c2cc(NC(=O)c3ccc(C#N)cn3)c...  12.698970  \n1  COc1cnc(C(=O)Nc2ccc(F)c([C@]3(C)CS(=O)(=O)C(C)...  12.045757  \n2  C[C@@]1(c2cc(NC(=O)c3ccc(C#N)cn3)ccc2F)CS(=O)(...  12.000000  \n3  CC1(C)C(N)=N[C@](C)(c2cc(NC(=O)c3cnc(C(F)F)cn3...  11.744727  \n4  C[C@@]1(c2cc(NC(=O)c3ccc(OC(F)F)cn3)ccc2F)CS(=...  11.244125  ",
      "text/html": "<div>\n<style scoped>\n    .dataframe tbody tr th:only-of-type {\n        vertical-align: middle;\n    }\n\n    .dataframe tbody tr th {\n        vertical-align: top;\n    }\n\n    .dataframe thead th {\n        text-align: right;\n    }\n</style>\n<table border=\"1\" class=\"dataframe\">\n  <thead>\n    <tr style=\"text-align: right;\">\n      <th></th>\n      <th>molecule_chembl_id</th>\n      <th>IC50</th>\n      <th>units</th>\n      <th>smiles</th>\n      <th>pIC50</th>\n    </tr>\n  </thead>\n  <tbody>\n    <tr>\n      <th>0</th>\n      <td>CHEMBL3969403</td>\n      <td>0.0002</td>\n      <td>nM</td>\n      <td>CC1(C)C(N)=N[C@](C)(c2cc(NC(=O)c3ccc(C#N)cn3)c...</td>\n      <td>12.698970</td>\n    </tr>\n    <tr>\n      <th>1</th>\n      <td>CHEMBL3937515</td>\n      <td>0.0009</td>\n      <td>nM</td>\n      <td>COc1cnc(C(=O)Nc2ccc(F)c([C@]3(C)CS(=O)(=O)C(C)...</td>\n      <td>12.045757</td>\n    </tr>\n    <tr>\n      <th>2</th>\n      <td>CHEMBL3949213</td>\n      <td>0.0010</td>\n      <td>nM</td>\n      <td>C[C@@]1(c2cc(NC(=O)c3ccc(C#N)cn3)ccc2F)CS(=O)(...</td>\n      <td>12.000000</td>\n    </tr>\n    <tr>\n      <th>3</th>\n      <td>CHEMBL3955051</td>\n      <td>0.0018</td>\n      <td>nM</td>\n      <td>CC1(C)C(N)=N[C@](C)(c2cc(NC(=O)c3cnc(C(F)F)cn3...</td>\n      <td>11.744727</td>\n    </tr>\n    <tr>\n      <th>4</th>\n      <td>CHEMBL3936264</td>\n      <td>0.0057</td>\n      <td>nM</td>\n      <td>C[C@@]1(c2cc(NC(=O)c3ccc(OC(F)F)cn3)ccc2F)CS(=...</td>\n      <td>11.244125</td>\n    </tr>\n  </tbody>\n</table>\n</div>"
     },
     "execution_count": 4,
     "metadata": {},
     "output_type": "execute_result"
    }
   ],
   "source": [
    "molecules = pd.read_csv(DATA/\"BACE_compounds.csv\", index_col=0)\n",
    "print(molecules.shape)\n",
    "molecules.head()"
   ]
  },
  {
   "cell_type": "markdown",
   "id": "1ba093e5-e0bf-44b9-9b9e-10c783814ad4",
   "metadata": {},
   "source": [
    "Apply function to all molecules in the dataset, to mark if they fulfill the rule of 5. "
   ]
  },
  {
   "cell_type": "code",
   "execution_count": 5,
   "id": "dcbdc10c-f718-462f-b18e-401b12721713",
   "metadata": {},
   "outputs": [
    {
     "data": {
      "text/plain": "   molecular_weight  n_hba  n_hbd     logp  ro5_fulfilled\n0        429.127089      7      2  2.12408           True\n1        435.137653      8      2  1.65600           True\n2        455.142739      7      2  2.65828           True\n3        455.123895      7      2  2.58500           True\n4        442.092261      7      2  2.07520           True",
      "text/html": "<div>\n<style scoped>\n    .dataframe tbody tr th:only-of-type {\n        vertical-align: middle;\n    }\n\n    .dataframe tbody tr th {\n        vertical-align: top;\n    }\n\n    .dataframe thead th {\n        text-align: right;\n    }\n</style>\n<table border=\"1\" class=\"dataframe\">\n  <thead>\n    <tr style=\"text-align: right;\">\n      <th></th>\n      <th>molecular_weight</th>\n      <th>n_hba</th>\n      <th>n_hbd</th>\n      <th>logp</th>\n      <th>ro5_fulfilled</th>\n    </tr>\n  </thead>\n  <tbody>\n    <tr>\n      <th>0</th>\n      <td>429.127089</td>\n      <td>7</td>\n      <td>2</td>\n      <td>2.12408</td>\n      <td>True</td>\n    </tr>\n    <tr>\n      <th>1</th>\n      <td>435.137653</td>\n      <td>8</td>\n      <td>2</td>\n      <td>1.65600</td>\n      <td>True</td>\n    </tr>\n    <tr>\n      <th>2</th>\n      <td>455.142739</td>\n      <td>7</td>\n      <td>2</td>\n      <td>2.65828</td>\n      <td>True</td>\n    </tr>\n    <tr>\n      <th>3</th>\n      <td>455.123895</td>\n      <td>7</td>\n      <td>2</td>\n      <td>2.58500</td>\n      <td>True</td>\n    </tr>\n    <tr>\n      <th>4</th>\n      <td>442.092261</td>\n      <td>7</td>\n      <td>2</td>\n      <td>2.07520</td>\n      <td>True</td>\n    </tr>\n  </tbody>\n</table>\n</div>"
     },
     "execution_count": 5,
     "metadata": {},
     "output_type": "execute_result"
    }
   ],
   "source": [
    "ro5_properties = molecules[\"smiles\"].apply(calculate_ro5_properties)\n",
    "ro5_properties.head()"
   ]
  },
  {
   "cell_type": "code",
   "execution_count": 6,
   "id": "aed58ba0-17fd-4985-988c-30c2ab6503c5",
   "metadata": {},
   "outputs": [
    {
     "data": {
      "text/plain": "  molecule_chembl_id    IC50 units  \\\n0      CHEMBL3969403  0.0002    nM   \n1      CHEMBL3937515  0.0009    nM   \n2      CHEMBL3949213  0.0010    nM   \n3      CHEMBL3955051  0.0018    nM   \n4      CHEMBL3936264  0.0057    nM   \n\n                                              smiles      pIC50  \\\n0  CC1(C)C(N)=N[C@](C)(c2cc(NC(=O)c3ccc(C#N)cn3)c...  12.698970   \n1  COc1cnc(C(=O)Nc2ccc(F)c([C@]3(C)CS(=O)(=O)C(C)...  12.045757   \n2  C[C@@]1(c2cc(NC(=O)c3ccc(C#N)cn3)ccc2F)CS(=O)(...  12.000000   \n3  CC1(C)C(N)=N[C@](C)(c2cc(NC(=O)c3cnc(C(F)F)cn3...  11.744727   \n4  C[C@@]1(c2cc(NC(=O)c3ccc(OC(F)F)cn3)ccc2F)CS(=...  11.244125   \n\n   molecular_weight  n_hba  n_hbd     logp  ro5_fulfilled  \n0        429.127089      7      2  2.12408           True  \n1        435.137653      8      2  1.65600           True  \n2        455.142739      7      2  2.65828           True  \n3        455.123895      7      2  2.58500           True  \n4        442.092261      7      2  2.07520           True  ",
      "text/html": "<div>\n<style scoped>\n    .dataframe tbody tr th:only-of-type {\n        vertical-align: middle;\n    }\n\n    .dataframe tbody tr th {\n        vertical-align: top;\n    }\n\n    .dataframe thead th {\n        text-align: right;\n    }\n</style>\n<table border=\"1\" class=\"dataframe\">\n  <thead>\n    <tr style=\"text-align: right;\">\n      <th></th>\n      <th>molecule_chembl_id</th>\n      <th>IC50</th>\n      <th>units</th>\n      <th>smiles</th>\n      <th>pIC50</th>\n      <th>molecular_weight</th>\n      <th>n_hba</th>\n      <th>n_hbd</th>\n      <th>logp</th>\n      <th>ro5_fulfilled</th>\n    </tr>\n  </thead>\n  <tbody>\n    <tr>\n      <th>0</th>\n      <td>CHEMBL3969403</td>\n      <td>0.0002</td>\n      <td>nM</td>\n      <td>CC1(C)C(N)=N[C@](C)(c2cc(NC(=O)c3ccc(C#N)cn3)c...</td>\n      <td>12.698970</td>\n      <td>429.127089</td>\n      <td>7</td>\n      <td>2</td>\n      <td>2.12408</td>\n      <td>True</td>\n    </tr>\n    <tr>\n      <th>1</th>\n      <td>CHEMBL3937515</td>\n      <td>0.0009</td>\n      <td>nM</td>\n      <td>COc1cnc(C(=O)Nc2ccc(F)c([C@]3(C)CS(=O)(=O)C(C)...</td>\n      <td>12.045757</td>\n      <td>435.137653</td>\n      <td>8</td>\n      <td>2</td>\n      <td>1.65600</td>\n      <td>True</td>\n    </tr>\n    <tr>\n      <th>2</th>\n      <td>CHEMBL3949213</td>\n      <td>0.0010</td>\n      <td>nM</td>\n      <td>C[C@@]1(c2cc(NC(=O)c3ccc(C#N)cn3)ccc2F)CS(=O)(...</td>\n      <td>12.000000</td>\n      <td>455.142739</td>\n      <td>7</td>\n      <td>2</td>\n      <td>2.65828</td>\n      <td>True</td>\n    </tr>\n    <tr>\n      <th>3</th>\n      <td>CHEMBL3955051</td>\n      <td>0.0018</td>\n      <td>nM</td>\n      <td>CC1(C)C(N)=N[C@](C)(c2cc(NC(=O)c3cnc(C(F)F)cn3...</td>\n      <td>11.744727</td>\n      <td>455.123895</td>\n      <td>7</td>\n      <td>2</td>\n      <td>2.58500</td>\n      <td>True</td>\n    </tr>\n    <tr>\n      <th>4</th>\n      <td>CHEMBL3936264</td>\n      <td>0.0057</td>\n      <td>nM</td>\n      <td>C[C@@]1(c2cc(NC(=O)c3ccc(OC(F)F)cn3)ccc2F)CS(=...</td>\n      <td>11.244125</td>\n      <td>442.092261</td>\n      <td>7</td>\n      <td>2</td>\n      <td>2.07520</td>\n      <td>True</td>\n    </tr>\n  </tbody>\n</table>\n</div>"
     },
     "execution_count": 6,
     "metadata": {},
     "output_type": "execute_result"
    }
   ],
   "source": [
    "molecules = pd.concat([molecules, ro5_properties], axis=1) # Combine data to full dataset with all columns\n",
    "molecules.head() # Show first 5 rows"
   ]
  },
  {
   "cell_type": "markdown",
   "id": "a84df139-688d-475e-b383-5566f0c3be7c",
   "metadata": {},
   "source": [
    "Separate the data that violate the ro5 from the data that fulfill, and count how much fulfill and how much violate the ro5"
   ]
  },
  {
   "cell_type": "code",
   "execution_count": 7,
   "id": "61dc821c-bfdc-4f2b-9df2-17a70cd46d4b",
   "metadata": {},
   "outputs": [
    {
     "name": "stdout",
     "output_type": "stream",
     "text": [
      "# compounds in unfiltered data set: 6691\n",
      "# compounds in filtered data set: 5921\n",
      "# compounds not compliant with the Ro5: 770\n"
     ]
    }
   ],
   "source": [
    "molecules_ro5_fulfilled = molecules[molecules[\"ro5_fulfilled\"]]\n",
    "molecules_ro5_violated = molecules[~molecules[\"ro5_fulfilled\"]]\n",
    "\n",
    "print(f\"# compounds in unfiltered data set: {molecules.shape[0]}\")\n",
    "print(f\"# compounds in filtered data set: {molecules_ro5_fulfilled.shape[0]}\")\n",
    "print(f\"# compounds not compliant with the Ro5: {molecules_ro5_violated.shape[0]}\")"
   ]
  },
  {
   "cell_type": "markdown",
   "id": "a4ad79f6",
   "metadata": {},
   "source": [
    "So 770 (11.5%) of the compounds violate more than one rule of the Ro5, which would mean that these compounds are not expected to be orally available. However, it is later determined that the rules do not describe the properties of poor oral availability directly, and therefore they should only be viewed as general rules of thumb. For this reason, the compounds that violate the Ro5 are not removed from the list, but only marked. Future research can look at those compounds manually."
   ]
  },
  {
   "cell_type": "markdown",
   "id": "1cd55bcd-8b47-470c-abf8-3db7b6d13098",
   "metadata": {},
   "source": [
    "Save the data to a csv file of the molecules with marking if the ro5 is fulfilled "
   ]
  },
  {
   "cell_type": "code",
   "execution_count": 8,
   "id": "eec0ecb4-5151-492c-80fb-bcc2681731ee",
   "metadata": {},
   "outputs": [
    {
     "data": {
      "text/plain": "  molecule_chembl_id    IC50 units  \\\n0      CHEMBL3969403  0.0002    nM   \n1      CHEMBL3937515  0.0009    nM   \n2      CHEMBL3949213  0.0010    nM   \n3      CHEMBL3955051  0.0018    nM   \n4      CHEMBL3936264  0.0057    nM   \n\n                                              smiles      pIC50  \\\n0  CC1(C)C(N)=N[C@](C)(c2cc(NC(=O)c3ccc(C#N)cn3)c...  12.698970   \n1  COc1cnc(C(=O)Nc2ccc(F)c([C@]3(C)CS(=O)(=O)C(C)...  12.045757   \n2  C[C@@]1(c2cc(NC(=O)c3ccc(C#N)cn3)ccc2F)CS(=O)(...  12.000000   \n3  CC1(C)C(N)=N[C@](C)(c2cc(NC(=O)c3cnc(C(F)F)cn3...  11.744727   \n4  C[C@@]1(c2cc(NC(=O)c3ccc(OC(F)F)cn3)ccc2F)CS(=...  11.244125   \n\n   molecular_weight  n_hba  n_hbd     logp  ro5_fulfilled  \n0        429.127089      7      2  2.12408           True  \n1        435.137653      8      2  1.65600           True  \n2        455.142739      7      2  2.65828           True  \n3        455.123895      7      2  2.58500           True  \n4        442.092261      7      2  2.07520           True  ",
      "text/html": "<div>\n<style scoped>\n    .dataframe tbody tr th:only-of-type {\n        vertical-align: middle;\n    }\n\n    .dataframe tbody tr th {\n        vertical-align: top;\n    }\n\n    .dataframe thead th {\n        text-align: right;\n    }\n</style>\n<table border=\"1\" class=\"dataframe\">\n  <thead>\n    <tr style=\"text-align: right;\">\n      <th></th>\n      <th>molecule_chembl_id</th>\n      <th>IC50</th>\n      <th>units</th>\n      <th>smiles</th>\n      <th>pIC50</th>\n      <th>molecular_weight</th>\n      <th>n_hba</th>\n      <th>n_hbd</th>\n      <th>logp</th>\n      <th>ro5_fulfilled</th>\n    </tr>\n  </thead>\n  <tbody>\n    <tr>\n      <th>0</th>\n      <td>CHEMBL3969403</td>\n      <td>0.0002</td>\n      <td>nM</td>\n      <td>CC1(C)C(N)=N[C@](C)(c2cc(NC(=O)c3ccc(C#N)cn3)c...</td>\n      <td>12.698970</td>\n      <td>429.127089</td>\n      <td>7</td>\n      <td>2</td>\n      <td>2.12408</td>\n      <td>True</td>\n    </tr>\n    <tr>\n      <th>1</th>\n      <td>CHEMBL3937515</td>\n      <td>0.0009</td>\n      <td>nM</td>\n      <td>COc1cnc(C(=O)Nc2ccc(F)c([C@]3(C)CS(=O)(=O)C(C)...</td>\n      <td>12.045757</td>\n      <td>435.137653</td>\n      <td>8</td>\n      <td>2</td>\n      <td>1.65600</td>\n      <td>True</td>\n    </tr>\n    <tr>\n      <th>2</th>\n      <td>CHEMBL3949213</td>\n      <td>0.0010</td>\n      <td>nM</td>\n      <td>C[C@@]1(c2cc(NC(=O)c3ccc(C#N)cn3)ccc2F)CS(=O)(...</td>\n      <td>12.000000</td>\n      <td>455.142739</td>\n      <td>7</td>\n      <td>2</td>\n      <td>2.65828</td>\n      <td>True</td>\n    </tr>\n    <tr>\n      <th>3</th>\n      <td>CHEMBL3955051</td>\n      <td>0.0018</td>\n      <td>nM</td>\n      <td>CC1(C)C(N)=N[C@](C)(c2cc(NC(=O)c3cnc(C(F)F)cn3...</td>\n      <td>11.744727</td>\n      <td>455.123895</td>\n      <td>7</td>\n      <td>2</td>\n      <td>2.58500</td>\n      <td>True</td>\n    </tr>\n    <tr>\n      <th>4</th>\n      <td>CHEMBL3936264</td>\n      <td>0.0057</td>\n      <td>nM</td>\n      <td>C[C@@]1(c2cc(NC(=O)c3ccc(OC(F)F)cn3)ccc2F)CS(=...</td>\n      <td>11.244125</td>\n      <td>442.092261</td>\n      <td>7</td>\n      <td>2</td>\n      <td>2.07520</td>\n      <td>True</td>\n    </tr>\n  </tbody>\n</table>\n</div>"
     },
     "execution_count": 8,
     "metadata": {},
     "output_type": "execute_result"
    }
   ],
   "source": [
    "molecules.to_csv(DATA/\"BACE_compounds_lipinski.csv\")\n",
    "molecules.head()"
   ]
  },
  {
   "cell_type": "markdown",
   "id": "fda8ad67",
   "metadata": {},
   "source": [
    "Besides the oral bioavailability, it is also important that a drug does not have unwanted side effects. This will be examined in the next part."
   ]
  }
 ],
 "metadata": {
  "kernelspec": {
   "display_name": "Python 3 (ipykernel)",
   "language": "python",
   "name": "python3"
  },
  "language_info": {
   "codemirror_mode": {
    "name": "ipython",
    "version": 3
   },
   "file_extension": ".py",
   "mimetype": "text/x-python",
   "name": "python",
   "nbconvert_exporter": "python",
   "pygments_lexer": "ipython3",
   "version": "3.9.12"
  }
 },
 "nbformat": 4,
 "nbformat_minor": 5
}
