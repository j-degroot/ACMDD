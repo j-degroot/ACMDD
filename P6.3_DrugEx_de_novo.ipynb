{
  "cells": [
    {
      "cell_type": "markdown",
      "id": "fc212f45-d2da-4382-b25f-a7546fb35490",
      "metadata": {
        "id": "fc212f45-d2da-4382-b25f-a7546fb35490"
      },
      "source": [
        "# De Novo Drug Design with AI\n",
        "\n",
        "In this last section of the tutorial, we will show how we can generate new compounds with artificial intelligence (AI). Historically, [there have been many attempts](https://doi.org/10.3390/ijms22041676) to develop an algorithm that can generate chemical entities with desirable properties. Many of the early methods relied on evolutionary aglorithms, but today deep neural networks have become very popular for this task. It is still not clear if one approach works better than the other, but in this tutorial we will use the [DrugEx package](https://github.com/CDDLeiden/DrugEx), which integrates multiple generative deep learning models and provides a framework to train them with multiple objectives. However, there are many similar models and packages out there each with its own caveats and benefits. Therefore, it is generally a good idea to combine multiple approaches in real world applications because the overlap of the generated compounds between different methodlogies is usually very small.\n",
        "\n",
        "\n",
        "## Transfer Learning (Pretrained & Finetuned Model)\n",
        "\n",
        "We will not be training a generative model from scratch in this tutorial, but instead we will use a common technique called *transfer learning*. In transfer learning, we use an already pretrained model for one task as a starting point to finetune a second model for another task. The workflow is illustrated below:\n",
        "\n",
        "![TL](https://github.com/martin-sicho/drugex-demo/blob/main/img/TL.drawio.svg?raw=1)\n",
        "\n",
        "In the context of this tutorial, the pretrained model will be a large model trained on a large data set ([Papyrus](https://zenodo.org/record/7096859)). The task of this model was to observe the entirety of Papyrus data set and learn what a chemical structure looks like and be able to generate chemically valid molecules that resemble known chemistry. For this tutorial, we chose the model based on recurrent neural netoworks (RNNs). These are ususally easier to train so you can run these experiments on a regular GPU that you might have at home without too much waiting. This choice will also affect all other choices we will make in this tutorial so note that for a different model, slightly different workflow would be necessary.\n",
        "\n",
        "This global pretrained model is not very useful for our task, however, because it will likely only be able to generate very small percentage of molecules that might have some activity on the BACE protein. Therefore, we will use the concept of transfer learning to obtain a finetuned model that can both generate valid molecules, but make those molecules much more similar to those that we extracted previously and should be relevant to the BACE protein. \n",
        "\n",
        "### Preatrained Model\n",
        "\n",
        "First, let us start by loading and testing the pretrained model. This model is [archived on the Zenodo service](https://zenodo.org/record/7096859). There are many files archived along with the model, but at this point we only care about the `.vocab` and `.pkg` files:"
      ]
    },
    {
      "cell_type": "code",
      "source": [
        "# mount google drive\n",
        "from google.colab import drive\n",
        "drive.mount('/content/drive')\n",
        "\n",
        "# define work directory to store data\n",
        "DATA_ROOT = '/content/drive/MyDrive/DrugExDemo/' # or wherever you want the generated files to live on your GoogleDrive\n",
        "import os\n",
        "os.makedirs(DATA_ROOT, exist_ok=True)\n",
        "os.chdir(DATA_ROOT) \n",
        "\n",
        "# fetch pretrained model\n",
        "os.makedirs(\"./data/drugex/models/pretrained/\", exist_ok=True)\n",
        "! wget -nc -P './data/drugex/models/pretrained/' 'https://zenodo.org/record/7096859/files/DrugEx_v2_PT_Papyrus05.5.zip'\n",
        "! unzip -n './data/drugex/models/pretrained/DrugEx_v2_PT_Papyrus05.5.zip' -d './data/drugex/models/pretrained/DrugEx_v2_PT_Papyrus05.5'\n",
        "\n",
        "# install dependencies\n",
        "! git clone https://github.com/martin-sicho/drugex-demo\n",
        "! pip install -r drugex-demo/requirements.txt\n",
        "\n",
        "# verify where we are working\n",
        "os.getcwd()"
      ],
      "metadata": {
        "id": "ZWAp6hE-dr2m",
        "outputId": "5d20e726-b700-407e-fd13-90b1fdf68354",
        "colab": {
          "base_uri": "https://localhost:8080/",
          "height": 1000
        }
      },
      "id": "ZWAp6hE-dr2m",
      "execution_count": 1,
      "outputs": [
        {
          "output_type": "stream",
          "name": "stdout",
          "text": [
            "Drive already mounted at /content/drive; to attempt to forcibly remount, call drive.mount(\"/content/drive\", force_remount=True).\n",
            "File ‘./data/drugex/models/pretrained/DrugEx_v2_PT_Papyrus05.5.zip’ already there; not retrieving.\n",
            "\n",
            "Archive:  ./data/drugex/models/pretrained/DrugEx_v2_PT_Papyrus05.5.zip\n",
            "fatal: destination path 'drugex-demo' already exists and is not an empty directory.\n",
            "Looking in indexes: https://pypi.org/simple, https://us-python.pkg.dev/colab-wheels/public/simple/\n",
            "Collecting drugex@ git+https://github.com/martin-sicho/DrugEx-CDDG.git@master\n",
            "  Cloning https://github.com/martin-sicho/DrugEx-CDDG.git (to revision master) to /tmp/pip-install-0st1n3fv/drugex_3fccdf0f89d24d9c84abe3805e7da843\n",
            "  Running command git clone -q https://github.com/martin-sicho/DrugEx-CDDG.git /tmp/pip-install-0st1n3fv/drugex_3fccdf0f89d24d9c84abe3805e7da843\n",
            "Collecting papyrus-scaffold-visualizer@ git+https://github.com/martin-sicho/papyrus-scaffold-visualizer.git@v0.2.0\n",
            "  Cloning https://github.com/martin-sicho/papyrus-scaffold-visualizer.git (to revision v0.2.0) to /tmp/pip-install-0st1n3fv/papyrus-scaffold-visualizer_c1ca4ac2270b4c53957bf44db8427722\n",
            "  Running command git clone -q https://github.com/martin-sicho/papyrus-scaffold-visualizer.git /tmp/pip-install-0st1n3fv/papyrus-scaffold-visualizer_c1ca4ac2270b4c53957bf44db8427722\n",
            "  Running command git checkout -q ff4f2e885a3973f90a0d9864dfa00abed493f78d\n",
            "Requirement already satisfied: molplotly==1.1.4 in /usr/local/lib/python3.7/dist-packages (from -r drugex-demo/requirements.txt (line 2)) (1.1.4)\n",
            "Requirement already satisfied: mols2grid==1.0.0 in /usr/local/lib/python3.7/dist-packages (from -r drugex-demo/requirements.txt (line 3)) (1.0.0)\n",
            "Requirement already satisfied: numpy>=1.19 in /usr/local/lib/python3.7/dist-packages (from drugex@ git+https://github.com/martin-sicho/DrugEx-CDDG.git@master->-r drugex-demo/requirements.txt (line 1)) (1.21.6)\n",
            "Requirement already satisfied: scikit-learn>=1.0.2 in /usr/local/lib/python3.7/dist-packages (from drugex@ git+https://github.com/martin-sicho/DrugEx-CDDG.git@master->-r drugex-demo/requirements.txt (line 1)) (1.0.2)\n",
            "Requirement already satisfied: pandas>=1.2.2 in /usr/local/lib/python3.7/dist-packages (from drugex@ git+https://github.com/martin-sicho/DrugEx-CDDG.git@master->-r drugex-demo/requirements.txt (line 1)) (1.3.5)\n",
            "Requirement already satisfied: torch>=1.7.0 in /usr/local/lib/python3.7/dist-packages (from drugex@ git+https://github.com/martin-sicho/DrugEx-CDDG.git@master->-r drugex-demo/requirements.txt (line 1)) (1.12.1+cu113)\n",
            "Requirement already satisfied: matplotlib>=2.0 in /usr/local/lib/python3.7/dist-packages (from drugex@ git+https://github.com/martin-sicho/DrugEx-CDDG.git@master->-r drugex-demo/requirements.txt (line 1)) (3.2.2)\n",
            "Requirement already satisfied: tqdm in /usr/local/lib/python3.7/dist-packages (from drugex@ git+https://github.com/martin-sicho/DrugEx-CDDG.git@master->-r drugex-demo/requirements.txt (line 1)) (4.64.1)\n",
            "Requirement already satisfied: rdkit-pypi in /usr/local/lib/python3.7/dist-packages (from drugex@ git+https://github.com/martin-sicho/DrugEx-CDDG.git@master->-r drugex-demo/requirements.txt (line 1)) (2022.9.1)\n",
            "Requirement already satisfied: joblib in /usr/local/lib/python3.7/dist-packages (from drugex@ git+https://github.com/martin-sicho/DrugEx-CDDG.git@master->-r drugex-demo/requirements.txt (line 1)) (1.2.0)\n",
            "Requirement already satisfied: optuna in /usr/local/lib/python3.7/dist-packages (from drugex@ git+https://github.com/martin-sicho/DrugEx-CDDG.git@master->-r drugex-demo/requirements.txt (line 1)) (3.0.3)\n",
            "Requirement already satisfied: gitpython in /usr/local/lib/python3.7/dist-packages (from drugex@ git+https://github.com/martin-sicho/DrugEx-CDDG.git@master->-r drugex-demo/requirements.txt (line 1)) (3.1.29)\n",
            "Requirement already satisfied: xgboost in /usr/local/lib/python3.7/dist-packages (from drugex@ git+https://github.com/martin-sicho/DrugEx-CDDG.git@master->-r drugex-demo/requirements.txt (line 1)) (0.90)\n",
            "Collecting papyrus_scripts@ git+https://github.com/OlivierBeq/Papyrus-scripts.git@master\n",
            "  Cloning https://github.com/OlivierBeq/Papyrus-scripts.git (to revision master) to /tmp/pip-install-0st1n3fv/papyrus-scripts_156cd1457e08449985dd4700f0787bdd\n",
            "  Running command git clone -q https://github.com/OlivierBeq/Papyrus-scripts.git /tmp/pip-install-0st1n3fv/papyrus-scripts_156cd1457e08449985dd4700f0787bdd\n",
            "Requirement already satisfied: sklearn in /usr/local/lib/python3.7/dist-packages (from papyrus-scaffold-visualizer@ git+https://github.com/martin-sicho/papyrus-scaffold-visualizer.git@v0.2.0->-r drugex-demo/requirements.txt (line 4)) (0.0.post1)\n",
            "Collecting prodec@ https://github.com/OlivierBeq/ProDEC/tarball/master\n",
            "  Using cached https://github.com/OlivierBeq/ProDEC/tarball/master\n",
            "  Installing build dependencies ... \u001b[?25l\u001b[?25hdone\n",
            "  Getting requirements to build wheel ... \u001b[?25l\u001b[?25hdone\n",
            "    Preparing wheel metadata ... \u001b[?25l\u001b[?25hdone\n",
            "Collecting upsetplot@ https://github.com/OlivierBeq/UpSetPlot/tarball/master\n",
            "  Using cached https://github.com/OlivierBeq/UpSetPlot/tarball/master\n",
            "Requirement already satisfied: requests in /usr/local/lib/python3.7/dist-packages (from papyrus_scripts@ git+https://github.com/OlivierBeq/Papyrus-scripts.git@master->papyrus-scaffold-visualizer@ git+https://github.com/martin-sicho/papyrus-scaffold-visualizer.git@v0.2.0->-r drugex-demo/requirements.txt (line 4)) (2.23.0)\n",
            "Requirement already satisfied: natsort in /usr/local/lib/python3.7/dist-packages (from papyrus_scripts@ git+https://github.com/OlivierBeq/Papyrus-scripts.git@master->papyrus-scaffold-visualizer@ git+https://github.com/martin-sicho/papyrus-scaffold-visualizer.git@v0.2.0->-r drugex-demo/requirements.txt (line 4)) (5.5.0)\n",
            "Requirement already satisfied: mordred in /usr/local/lib/python3.7/dist-packages (from papyrus_scripts@ git+https://github.com/OlivierBeq/Papyrus-scripts.git@master->papyrus-scaffold-visualizer@ git+https://github.com/martin-sicho/papyrus-scaffold-visualizer.git@v0.2.0->-r drugex-demo/requirements.txt (line 4)) (1.2.0)\n",
            "Requirement already satisfied: swifter in /usr/local/lib/python3.7/dist-packages (from papyrus_scripts@ git+https://github.com/OlivierBeq/Papyrus-scripts.git@master->papyrus-scaffold-visualizer@ git+https://github.com/martin-sicho/papyrus-scaffold-visualizer.git@v0.2.0->-r drugex-demo/requirements.txt (line 4)) (1.3.4)\n",
            "Requirement already satisfied: pystow in /usr/local/lib/python3.7/dist-packages (from papyrus_scripts@ git+https://github.com/OlivierBeq/Papyrus-scripts.git@master->papyrus-scaffold-visualizer@ git+https://github.com/martin-sicho/papyrus-scaffold-visualizer.git@v0.2.0->-r drugex-demo/requirements.txt (line 4)) (0.4.7)\n",
            "Requirement already satisfied: tabulate in /usr/local/lib/python3.7/dist-packages (from papyrus_scripts@ git+https://github.com/OlivierBeq/Papyrus-scripts.git@master->papyrus-scaffold-visualizer@ git+https://github.com/martin-sicho/papyrus-scaffold-visualizer.git@v0.2.0->-r drugex-demo/requirements.txt (line 4)) (0.8.10)\n",
            "Requirement already satisfied: psutil in /usr/local/lib/python3.7/dist-packages (from prodec@ https://github.com/OlivierBeq/ProDEC/tarball/master->papyrus_scripts@ git+https://github.com/OlivierBeq/Papyrus-scripts.git@master->papyrus-scaffold-visualizer@ git+https://github.com/martin-sicho/papyrus-scaffold-visualizer.git@v0.2.0->-r drugex-demo/requirements.txt (line 4)) (5.9.4)\n",
            "Requirement already satisfied: orjson in /usr/local/lib/python3.7/dist-packages (from prodec@ https://github.com/OlivierBeq/ProDEC/tarball/master->papyrus_scripts@ git+https://github.com/OlivierBeq/Papyrus-scripts.git@master->papyrus-scaffold-visualizer@ git+https://github.com/martin-sicho/papyrus-scaffold-visualizer.git@v0.2.0->-r drugex-demo/requirements.txt (line 4)) (3.8.1)\n",
            "Requirement already satisfied: dash>=2.0.0 in /usr/local/lib/python3.7/dist-packages (from molplotly==1.1.4->-r drugex-demo/requirements.txt (line 2)) (2.7.0)\n",
            "Requirement already satisfied: nbformat in /usr/local/lib/python3.7/dist-packages (from molplotly==1.1.4->-r drugex-demo/requirements.txt (line 2)) (5.7.0)\n",
            "Requirement already satisfied: plotly>=5.0.0 in /usr/local/lib/python3.7/dist-packages (from molplotly==1.1.4->-r drugex-demo/requirements.txt (line 2)) (5.5.0)\n",
            "Requirement already satisfied: jupyter-dash>=0.4.2 in /usr/local/lib/python3.7/dist-packages (from molplotly==1.1.4->-r drugex-demo/requirements.txt (line 2)) (0.4.2)\n",
            "Requirement already satisfied: werkzeug>=2.0.0 in /usr/local/lib/python3.7/dist-packages (from molplotly==1.1.4->-r drugex-demo/requirements.txt (line 2)) (2.2.2)\n",
            "Requirement already satisfied: ipykernel in /usr/local/lib/python3.7/dist-packages (from molplotly==1.1.4->-r drugex-demo/requirements.txt (line 2)) (5.3.4)\n",
            "Requirement already satisfied: jinja2>=2.11.0 in /usr/local/lib/python3.7/dist-packages (from mols2grid==1.0.0->-r drugex-demo/requirements.txt (line 3)) (3.0.0)\n",
            "Requirement already satisfied: ipywidgets<8,>=7 in /usr/local/lib/python3.7/dist-packages (from mols2grid==1.0.0->-r drugex-demo/requirements.txt (line 3)) (7.7.1)\n",
            "Requirement already satisfied: Flask>=1.0.4 in /usr/local/lib/python3.7/dist-packages (from dash>=2.0.0->molplotly==1.1.4->-r drugex-demo/requirements.txt (line 2)) (2.2.2)\n",
            "Requirement already satisfied: dash-core-components==2.0.0 in /usr/local/lib/python3.7/dist-packages (from dash>=2.0.0->molplotly==1.1.4->-r drugex-demo/requirements.txt (line 2)) (2.0.0)\n",
            "Requirement already satisfied: dash-table==5.0.0 in /usr/local/lib/python3.7/dist-packages (from dash>=2.0.0->molplotly==1.1.4->-r drugex-demo/requirements.txt (line 2)) (5.0.0)\n",
            "Requirement already satisfied: dash-html-components==2.0.0 in /usr/local/lib/python3.7/dist-packages (from dash>=2.0.0->molplotly==1.1.4->-r drugex-demo/requirements.txt (line 2)) (2.0.0)\n",
            "Requirement already satisfied: importlib-metadata>=3.6.0 in /usr/local/lib/python3.7/dist-packages (from Flask>=1.0.4->dash>=2.0.0->molplotly==1.1.4->-r drugex-demo/requirements.txt (line 2)) (4.13.0)\n",
            "Requirement already satisfied: click>=8.0 in /usr/local/lib/python3.7/dist-packages (from Flask>=1.0.4->dash>=2.0.0->molplotly==1.1.4->-r drugex-demo/requirements.txt (line 2)) (8.1.3)\n",
            "Requirement already satisfied: itsdangerous>=2.0 in /usr/local/lib/python3.7/dist-packages (from Flask>=1.0.4->dash>=2.0.0->molplotly==1.1.4->-r drugex-demo/requirements.txt (line 2)) (2.1.2)\n",
            "Requirement already satisfied: typing-extensions>=3.6.4 in /usr/local/lib/python3.7/dist-packages (from importlib-metadata>=3.6.0->Flask>=1.0.4->dash>=2.0.0->molplotly==1.1.4->-r drugex-demo/requirements.txt (line 2)) (4.1.1)\n",
            "Requirement already satisfied: zipp>=0.5 in /usr/local/lib/python3.7/dist-packages (from importlib-metadata>=3.6.0->Flask>=1.0.4->dash>=2.0.0->molplotly==1.1.4->-r drugex-demo/requirements.txt (line 2)) (3.10.0)\n",
            "Requirement already satisfied: jupyterlab-widgets>=1.0.0 in /usr/local/lib/python3.7/dist-packages (from ipywidgets<8,>=7->mols2grid==1.0.0->-r drugex-demo/requirements.txt (line 3)) (3.0.3)\n",
            "Requirement already satisfied: ipython>=4.0.0 in /usr/local/lib/python3.7/dist-packages (from ipywidgets<8,>=7->mols2grid==1.0.0->-r drugex-demo/requirements.txt (line 3)) (7.9.0)\n",
            "Requirement already satisfied: ipython-genutils~=0.2.0 in /usr/local/lib/python3.7/dist-packages (from ipywidgets<8,>=7->mols2grid==1.0.0->-r drugex-demo/requirements.txt (line 3)) (0.2.0)\n",
            "Requirement already satisfied: widgetsnbextension~=3.6.0 in /usr/local/lib/python3.7/dist-packages (from ipywidgets<8,>=7->mols2grid==1.0.0->-r drugex-demo/requirements.txt (line 3)) (3.6.1)\n",
            "Requirement already satisfied: traitlets>=4.3.1 in /usr/local/lib/python3.7/dist-packages (from ipywidgets<8,>=7->mols2grid==1.0.0->-r drugex-demo/requirements.txt (line 3)) (5.1.1)\n",
            "Requirement already satisfied: jupyter-client in /usr/local/lib/python3.7/dist-packages (from ipykernel->molplotly==1.1.4->-r drugex-demo/requirements.txt (line 2)) (6.1.12)\n",
            "Requirement already satisfied: tornado>=4.2 in /usr/local/lib/python3.7/dist-packages (from ipykernel->molplotly==1.1.4->-r drugex-demo/requirements.txt (line 2)) (6.0.4)\n",
            "Requirement already satisfied: pickleshare in /usr/local/lib/python3.7/dist-packages (from ipython>=4.0.0->ipywidgets<8,>=7->mols2grid==1.0.0->-r drugex-demo/requirements.txt (line 3)) (0.7.5)\n",
            "Requirement already satisfied: jedi>=0.10 in /usr/local/lib/python3.7/dist-packages (from ipython>=4.0.0->ipywidgets<8,>=7->mols2grid==1.0.0->-r drugex-demo/requirements.txt (line 3)) (0.18.1)\n",
            "Requirement already satisfied: pygments in /usr/local/lib/python3.7/dist-packages (from ipython>=4.0.0->ipywidgets<8,>=7->mols2grid==1.0.0->-r drugex-demo/requirements.txt (line 3)) (2.6.1)\n",
            "Requirement already satisfied: backcall in /usr/local/lib/python3.7/dist-packages (from ipython>=4.0.0->ipywidgets<8,>=7->mols2grid==1.0.0->-r drugex-demo/requirements.txt (line 3)) (0.2.0)\n",
            "Requirement already satisfied: pexpect in /usr/local/lib/python3.7/dist-packages (from ipython>=4.0.0->ipywidgets<8,>=7->mols2grid==1.0.0->-r drugex-demo/requirements.txt (line 3)) (4.8.0)\n",
            "Requirement already satisfied: prompt-toolkit<2.1.0,>=2.0.0 in /usr/local/lib/python3.7/dist-packages (from ipython>=4.0.0->ipywidgets<8,>=7->mols2grid==1.0.0->-r drugex-demo/requirements.txt (line 3)) (2.0.10)\n",
            "Requirement already satisfied: decorator in /usr/local/lib/python3.7/dist-packages (from ipython>=4.0.0->ipywidgets<8,>=7->mols2grid==1.0.0->-r drugex-demo/requirements.txt (line 3)) (4.4.2)\n",
            "Requirement already satisfied: setuptools>=18.5 in /usr/local/lib/python3.7/dist-packages (from ipython>=4.0.0->ipywidgets<8,>=7->mols2grid==1.0.0->-r drugex-demo/requirements.txt (line 3)) (57.4.0)\n",
            "Requirement already satisfied: parso<0.9.0,>=0.8.0 in /usr/local/lib/python3.7/dist-packages (from jedi>=0.10->ipython>=4.0.0->ipywidgets<8,>=7->mols2grid==1.0.0->-r drugex-demo/requirements.txt (line 3)) (0.8.3)\n",
            "Requirement already satisfied: MarkupSafe>=2.0.0rc2 in /usr/local/lib/python3.7/dist-packages (from jinja2>=2.11.0->mols2grid==1.0.0->-r drugex-demo/requirements.txt (line 3)) (2.1.1)\n",
            "Requirement already satisfied: retrying in /usr/local/lib/python3.7/dist-packages (from jupyter-dash>=0.4.2->molplotly==1.1.4->-r drugex-demo/requirements.txt (line 2)) (1.3.3)\n",
            "Requirement already satisfied: ansi2html in /usr/local/lib/python3.7/dist-packages (from jupyter-dash>=0.4.2->molplotly==1.1.4->-r drugex-demo/requirements.txt (line 2)) (1.8.0)\n",
            "Requirement already satisfied: nest-asyncio in /usr/local/lib/python3.7/dist-packages (from jupyter-dash>=0.4.2->molplotly==1.1.4->-r drugex-demo/requirements.txt (line 2)) (1.5.6)\n",
            "Requirement already satisfied: pyparsing!=2.0.4,!=2.1.2,!=2.1.6,>=2.0.1 in /usr/local/lib/python3.7/dist-packages (from matplotlib>=2.0->drugex@ git+https://github.com/martin-sicho/DrugEx-CDDG.git@master->-r drugex-demo/requirements.txt (line 1)) (3.0.9)\n",
            "Requirement already satisfied: python-dateutil>=2.1 in /usr/local/lib/python3.7/dist-packages (from matplotlib>=2.0->drugex@ git+https://github.com/martin-sicho/DrugEx-CDDG.git@master->-r drugex-demo/requirements.txt (line 1)) (2.8.2)\n",
            "Requirement already satisfied: kiwisolver>=1.0.1 in /usr/local/lib/python3.7/dist-packages (from matplotlib>=2.0->drugex@ git+https://github.com/martin-sicho/DrugEx-CDDG.git@master->-r drugex-demo/requirements.txt (line 1)) (1.4.4)\n",
            "Requirement already satisfied: cycler>=0.10 in /usr/local/lib/python3.7/dist-packages (from matplotlib>=2.0->drugex@ git+https://github.com/martin-sicho/DrugEx-CDDG.git@master->-r drugex-demo/requirements.txt (line 1)) (0.11.0)\n",
            "Requirement already satisfied: pytz>=2017.3 in /usr/local/lib/python3.7/dist-packages (from pandas>=1.2.2->drugex@ git+https://github.com/martin-sicho/DrugEx-CDDG.git@master->-r drugex-demo/requirements.txt (line 1)) (2022.6)\n",
            "Requirement already satisfied: six in /usr/local/lib/python3.7/dist-packages (from plotly>=5.0.0->molplotly==1.1.4->-r drugex-demo/requirements.txt (line 2)) (1.15.0)\n",
            "Requirement already satisfied: tenacity>=6.2.0 in /usr/local/lib/python3.7/dist-packages (from plotly>=5.0.0->molplotly==1.1.4->-r drugex-demo/requirements.txt (line 2)) (8.1.0)\n",
            "Requirement already satisfied: wcwidth in /usr/local/lib/python3.7/dist-packages (from prompt-toolkit<2.1.0,>=2.0.0->ipython>=4.0.0->ipywidgets<8,>=7->mols2grid==1.0.0->-r drugex-demo/requirements.txt (line 3)) (0.2.5)\n",
            "Requirement already satisfied: scipy>=1.1.0 in /usr/local/lib/python3.7/dist-packages (from scikit-learn>=1.0.2->drugex@ git+https://github.com/martin-sicho/DrugEx-CDDG.git@master->-r drugex-demo/requirements.txt (line 1)) (1.7.3)\n",
            "Requirement already satisfied: threadpoolctl>=2.0.0 in /usr/local/lib/python3.7/dist-packages (from scikit-learn>=1.0.2->drugex@ git+https://github.com/martin-sicho/DrugEx-CDDG.git@master->-r drugex-demo/requirements.txt (line 1)) (3.1.0)\n",
            "Requirement already satisfied: notebook>=4.4.1 in /usr/local/lib/python3.7/dist-packages (from widgetsnbextension~=3.6.0->ipywidgets<8,>=7->mols2grid==1.0.0->-r drugex-demo/requirements.txt (line 3)) (5.7.16)\n",
            "Requirement already satisfied: jupyter-core>=4.4.0 in /usr/local/lib/python3.7/dist-packages (from notebook>=4.4.1->widgetsnbextension~=3.6.0->ipywidgets<8,>=7->mols2grid==1.0.0->-r drugex-demo/requirements.txt (line 3)) (4.11.2)\n",
            "Requirement already satisfied: Send2Trash in /usr/local/lib/python3.7/dist-packages (from notebook>=4.4.1->widgetsnbextension~=3.6.0->ipywidgets<8,>=7->mols2grid==1.0.0->-r drugex-demo/requirements.txt (line 3)) (1.8.0)\n",
            "Requirement already satisfied: nbconvert<6.0 in /usr/local/lib/python3.7/dist-packages (from notebook>=4.4.1->widgetsnbextension~=3.6.0->ipywidgets<8,>=7->mols2grid==1.0.0->-r drugex-demo/requirements.txt (line 3)) (5.6.1)\n",
            "Requirement already satisfied: prometheus-client in /usr/local/lib/python3.7/dist-packages (from notebook>=4.4.1->widgetsnbextension~=3.6.0->ipywidgets<8,>=7->mols2grid==1.0.0->-r drugex-demo/requirements.txt (line 3)) (0.15.0)\n",
            "Requirement already satisfied: terminado>=0.8.1 in /usr/local/lib/python3.7/dist-packages (from notebook>=4.4.1->widgetsnbextension~=3.6.0->ipywidgets<8,>=7->mols2grid==1.0.0->-r drugex-demo/requirements.txt (line 3)) (0.13.3)\n",
            "Requirement already satisfied: pyzmq>=17 in /usr/local/lib/python3.7/dist-packages (from notebook>=4.4.1->widgetsnbextension~=3.6.0->ipywidgets<8,>=7->mols2grid==1.0.0->-r drugex-demo/requirements.txt (line 3)) (23.2.1)\n",
            "Requirement already satisfied: defusedxml in /usr/local/lib/python3.7/dist-packages (from nbconvert<6.0->notebook>=4.4.1->widgetsnbextension~=3.6.0->ipywidgets<8,>=7->mols2grid==1.0.0->-r drugex-demo/requirements.txt (line 3)) (0.7.1)\n",
            "Requirement already satisfied: entrypoints>=0.2.2 in /usr/local/lib/python3.7/dist-packages (from nbconvert<6.0->notebook>=4.4.1->widgetsnbextension~=3.6.0->ipywidgets<8,>=7->mols2grid==1.0.0->-r drugex-demo/requirements.txt (line 3)) (0.4)\n",
            "Requirement already satisfied: bleach in /usr/local/lib/python3.7/dist-packages (from nbconvert<6.0->notebook>=4.4.1->widgetsnbextension~=3.6.0->ipywidgets<8,>=7->mols2grid==1.0.0->-r drugex-demo/requirements.txt (line 3)) (5.0.1)\n",
            "Requirement already satisfied: pandocfilters>=1.4.1 in /usr/local/lib/python3.7/dist-packages (from nbconvert<6.0->notebook>=4.4.1->widgetsnbextension~=3.6.0->ipywidgets<8,>=7->mols2grid==1.0.0->-r drugex-demo/requirements.txt (line 3)) (1.5.0)\n",
            "Requirement already satisfied: testpath in /usr/local/lib/python3.7/dist-packages (from nbconvert<6.0->notebook>=4.4.1->widgetsnbextension~=3.6.0->ipywidgets<8,>=7->mols2grid==1.0.0->-r drugex-demo/requirements.txt (line 3)) (0.6.0)\n",
            "Requirement already satisfied: mistune<2,>=0.8.1 in /usr/local/lib/python3.7/dist-packages (from nbconvert<6.0->notebook>=4.4.1->widgetsnbextension~=3.6.0->ipywidgets<8,>=7->mols2grid==1.0.0->-r drugex-demo/requirements.txt (line 3)) (0.8.4)\n",
            "Requirement already satisfied: jsonschema>=2.6 in /usr/local/lib/python3.7/dist-packages (from nbformat->molplotly==1.1.4->-r drugex-demo/requirements.txt (line 2)) (4.3.3)\n",
            "Requirement already satisfied: fastjsonschema in /usr/local/lib/python3.7/dist-packages (from nbformat->molplotly==1.1.4->-r drugex-demo/requirements.txt (line 2)) (2.16.2)\n",
            "Requirement already satisfied: pyrsistent!=0.17.0,!=0.17.1,!=0.17.2,>=0.14.0 in /usr/local/lib/python3.7/dist-packages (from jsonschema>=2.6->nbformat->molplotly==1.1.4->-r drugex-demo/requirements.txt (line 2)) (0.19.2)\n",
            "Requirement already satisfied: attrs>=17.4.0 in /usr/local/lib/python3.7/dist-packages (from jsonschema>=2.6->nbformat->molplotly==1.1.4->-r drugex-demo/requirements.txt (line 2)) (22.1.0)\n",
            "Requirement already satisfied: importlib-resources>=1.4.0 in /usr/local/lib/python3.7/dist-packages (from jsonschema>=2.6->nbformat->molplotly==1.1.4->-r drugex-demo/requirements.txt (line 2)) (5.10.0)\n",
            "Requirement already satisfied: ptyprocess in /usr/local/lib/python3.7/dist-packages (from terminado>=0.8.1->notebook>=4.4.1->widgetsnbextension~=3.6.0->ipywidgets<8,>=7->mols2grid==1.0.0->-r drugex-demo/requirements.txt (line 3)) (0.7.0)\n",
            "Requirement already satisfied: webencodings in /usr/local/lib/python3.7/dist-packages (from bleach->nbconvert<6.0->notebook>=4.4.1->widgetsnbextension~=3.6.0->ipywidgets<8,>=7->mols2grid==1.0.0->-r drugex-demo/requirements.txt (line 3)) (0.5.1)\n",
            "Requirement already satisfied: gitdb<5,>=4.0.1 in /usr/local/lib/python3.7/dist-packages (from gitpython->drugex@ git+https://github.com/martin-sicho/DrugEx-CDDG.git@master->-r drugex-demo/requirements.txt (line 1)) (4.0.9)\n",
            "Requirement already satisfied: smmap<6,>=3.0.1 in /usr/local/lib/python3.7/dist-packages (from gitdb<5,>=4.0.1->gitpython->drugex@ git+https://github.com/martin-sicho/DrugEx-CDDG.git@master->-r drugex-demo/requirements.txt (line 1)) (5.0.0)\n",
            "Requirement already satisfied: networkx==2.* in /usr/local/lib/python3.7/dist-packages (from mordred->papyrus_scripts@ git+https://github.com/OlivierBeq/Papyrus-scripts.git@master->papyrus-scaffold-visualizer@ git+https://github.com/martin-sicho/papyrus-scaffold-visualizer.git@v0.2.0->-r drugex-demo/requirements.txt (line 4)) (2.6.3)\n",
            "Requirement already satisfied: alembic>=1.5.0 in /usr/local/lib/python3.7/dist-packages (from optuna->drugex@ git+https://github.com/martin-sicho/DrugEx-CDDG.git@master->-r drugex-demo/requirements.txt (line 1)) (1.8.1)\n",
            "Requirement already satisfied: sqlalchemy>=1.3.0 in /usr/local/lib/python3.7/dist-packages (from optuna->drugex@ git+https://github.com/martin-sicho/DrugEx-CDDG.git@master->-r drugex-demo/requirements.txt (line 1)) (1.4.42)\n",
            "Requirement already satisfied: cmaes>=0.8.2 in /usr/local/lib/python3.7/dist-packages (from optuna->drugex@ git+https://github.com/martin-sicho/DrugEx-CDDG.git@master->-r drugex-demo/requirements.txt (line 1)) (0.9.0)\n",
            "Requirement already satisfied: cliff in /usr/local/lib/python3.7/dist-packages (from optuna->drugex@ git+https://github.com/martin-sicho/DrugEx-CDDG.git@master->-r drugex-demo/requirements.txt (line 1)) (3.10.1)\n",
            "Requirement already satisfied: PyYAML in /usr/local/lib/python3.7/dist-packages (from optuna->drugex@ git+https://github.com/martin-sicho/DrugEx-CDDG.git@master->-r drugex-demo/requirements.txt (line 1)) (6.0)\n",
            "Requirement already satisfied: packaging>=20.0 in /usr/local/lib/python3.7/dist-packages (from optuna->drugex@ git+https://github.com/martin-sicho/DrugEx-CDDG.git@master->-r drugex-demo/requirements.txt (line 1)) (21.3)\n",
            "Requirement already satisfied: colorlog in /usr/local/lib/python3.7/dist-packages (from optuna->drugex@ git+https://github.com/martin-sicho/DrugEx-CDDG.git@master->-r drugex-demo/requirements.txt (line 1)) (6.7.0)\n",
            "Requirement already satisfied: Mako in /usr/local/lib/python3.7/dist-packages (from alembic>=1.5.0->optuna->drugex@ git+https://github.com/martin-sicho/DrugEx-CDDG.git@master->-r drugex-demo/requirements.txt (line 1)) (1.2.3)\n",
            "Requirement already satisfied: greenlet!=0.4.17 in /usr/local/lib/python3.7/dist-packages (from sqlalchemy>=1.3.0->optuna->drugex@ git+https://github.com/martin-sicho/DrugEx-CDDG.git@master->-r drugex-demo/requirements.txt (line 1)) (2.0.0.post0)\n",
            "Requirement already satisfied: stevedore>=2.0.1 in /usr/local/lib/python3.7/dist-packages (from cliff->optuna->drugex@ git+https://github.com/martin-sicho/DrugEx-CDDG.git@master->-r drugex-demo/requirements.txt (line 1)) (3.5.2)\n",
            "Requirement already satisfied: autopage>=0.4.0 in /usr/local/lib/python3.7/dist-packages (from cliff->optuna->drugex@ git+https://github.com/martin-sicho/DrugEx-CDDG.git@master->-r drugex-demo/requirements.txt (line 1)) (0.5.1)\n",
            "Requirement already satisfied: PrettyTable>=0.7.2 in /usr/local/lib/python3.7/dist-packages (from cliff->optuna->drugex@ git+https://github.com/martin-sicho/DrugEx-CDDG.git@master->-r drugex-demo/requirements.txt (line 1)) (3.5.0)\n",
            "Requirement already satisfied: cmd2>=1.0.0 in /usr/local/lib/python3.7/dist-packages (from cliff->optuna->drugex@ git+https://github.com/martin-sicho/DrugEx-CDDG.git@master->-r drugex-demo/requirements.txt (line 1)) (2.4.2)\n",
            "Requirement already satisfied: pbr!=2.1.0,>=2.0.0 in /usr/local/lib/python3.7/dist-packages (from cliff->optuna->drugex@ git+https://github.com/martin-sicho/DrugEx-CDDG.git@master->-r drugex-demo/requirements.txt (line 1)) (5.11.0)\n",
            "Requirement already satisfied: pyperclip>=1.6 in /usr/local/lib/python3.7/dist-packages (from cmd2>=1.0.0->cliff->optuna->drugex@ git+https://github.com/martin-sicho/DrugEx-CDDG.git@master->-r drugex-demo/requirements.txt (line 1)) (1.8.2)\n",
            "Requirement already satisfied: pickle5 in /usr/local/lib/python3.7/dist-packages (from pystow->papyrus_scripts@ git+https://github.com/OlivierBeq/Papyrus-scripts.git@master->papyrus-scaffold-visualizer@ git+https://github.com/martin-sicho/papyrus-scaffold-visualizer.git@v0.2.0->-r drugex-demo/requirements.txt (line 4)) (0.0.12)\n",
            "Requirement already satisfied: Pillow in /usr/local/lib/python3.7/dist-packages (from rdkit-pypi->drugex@ git+https://github.com/martin-sicho/DrugEx-CDDG.git@master->-r drugex-demo/requirements.txt (line 1)) (7.1.2)\n",
            "Requirement already satisfied: chardet<4,>=3.0.2 in /usr/local/lib/python3.7/dist-packages (from requests->papyrus_scripts@ git+https://github.com/OlivierBeq/Papyrus-scripts.git@master->papyrus-scaffold-visualizer@ git+https://github.com/martin-sicho/papyrus-scaffold-visualizer.git@v0.2.0->-r drugex-demo/requirements.txt (line 4)) (3.0.4)\n",
            "Requirement already satisfied: urllib3!=1.25.0,!=1.25.1,<1.26,>=1.21.1 in /usr/local/lib/python3.7/dist-packages (from requests->papyrus_scripts@ git+https://github.com/OlivierBeq/Papyrus-scripts.git@master->papyrus-scaffold-visualizer@ git+https://github.com/martin-sicho/papyrus-scaffold-visualizer.git@v0.2.0->-r drugex-demo/requirements.txt (line 4)) (1.24.3)\n",
            "Requirement already satisfied: certifi>=2017.4.17 in /usr/local/lib/python3.7/dist-packages (from requests->papyrus_scripts@ git+https://github.com/OlivierBeq/Papyrus-scripts.git@master->papyrus-scaffold-visualizer@ git+https://github.com/martin-sicho/papyrus-scaffold-visualizer.git@v0.2.0->-r drugex-demo/requirements.txt (line 4)) (2022.9.24)\n",
            "Requirement already satisfied: idna<3,>=2.5 in /usr/local/lib/python3.7/dist-packages (from requests->papyrus_scripts@ git+https://github.com/OlivierBeq/Papyrus-scripts.git@master->papyrus-scaffold-visualizer@ git+https://github.com/martin-sicho/papyrus-scaffold-visualizer.git@v0.2.0->-r drugex-demo/requirements.txt (line 4)) (2.10)\n",
            "Requirement already satisfied: cloudpickle>=0.2.2 in /usr/local/lib/python3.7/dist-packages (from swifter->papyrus_scripts@ git+https://github.com/OlivierBeq/Papyrus-scripts.git@master->papyrus-scaffold-visualizer@ git+https://github.com/martin-sicho/papyrus-scaffold-visualizer.git@v0.2.0->-r drugex-demo/requirements.txt (line 4)) (1.5.0)\n",
            "Requirement already satisfied: dask[dataframe]>=2.10.0 in /usr/local/lib/python3.7/dist-packages (from swifter->papyrus_scripts@ git+https://github.com/OlivierBeq/Papyrus-scripts.git@master->papyrus-scaffold-visualizer@ git+https://github.com/martin-sicho/papyrus-scaffold-visualizer.git@v0.2.0->-r drugex-demo/requirements.txt (line 4)) (2022.2.0)\n",
            "Requirement already satisfied: fsspec>=0.6.0 in /usr/local/lib/python3.7/dist-packages (from dask[dataframe]>=2.10.0->swifter->papyrus_scripts@ git+https://github.com/OlivierBeq/Papyrus-scripts.git@master->papyrus-scaffold-visualizer@ git+https://github.com/martin-sicho/papyrus-scaffold-visualizer.git@v0.2.0->-r drugex-demo/requirements.txt (line 4)) (2022.10.0)\n",
            "Requirement already satisfied: partd>=0.3.10 in /usr/local/lib/python3.7/dist-packages (from dask[dataframe]>=2.10.0->swifter->papyrus_scripts@ git+https://github.com/OlivierBeq/Papyrus-scripts.git@master->papyrus-scaffold-visualizer@ git+https://github.com/martin-sicho/papyrus-scaffold-visualizer.git@v0.2.0->-r drugex-demo/requirements.txt (line 4)) (1.3.0)\n",
            "Requirement already satisfied: toolz>=0.8.2 in /usr/local/lib/python3.7/dist-packages (from dask[dataframe]>=2.10.0->swifter->papyrus_scripts@ git+https://github.com/OlivierBeq/Papyrus-scripts.git@master->papyrus-scaffold-visualizer@ git+https://github.com/martin-sicho/papyrus-scaffold-visualizer.git@v0.2.0->-r drugex-demo/requirements.txt (line 4)) (0.12.0)\n",
            "Requirement already satisfied: locket in /usr/local/lib/python3.7/dist-packages (from partd>=0.3.10->dask[dataframe]>=2.10.0->swifter->papyrus_scripts@ git+https://github.com/OlivierBeq/Papyrus-scripts.git@master->papyrus-scaffold-visualizer@ git+https://github.com/martin-sicho/papyrus-scaffold-visualizer.git@v0.2.0->-r drugex-demo/requirements.txt (line 4)) (1.0.0)\n"
          ]
        },
        {
          "output_type": "execute_result",
          "data": {
            "text/plain": [
              "'/content/drive/MyDrive/DrugExDemo'"
            ],
            "application/vnd.google.colaboratory.intrinsic+json": {
              "type": "string"
            }
          },
          "metadata": {},
          "execution_count": 1
        }
      ]
    },
    {
      "cell_type": "code",
      "execution_count": 2,
      "id": "70a859d9-a55e-4a64-8c87-8995d43f676b",
      "metadata": {
        "id": "70a859d9-a55e-4a64-8c87-8995d43f676b"
      },
      "outputs": [],
      "source": [
        "import os\n",
        "from drugex.training.models import RNN\n",
        "from drugex.data.corpus.vocabulary import VocSmiles\n",
        "\n",
        "PT_MODEL_FOLDER = \"data/drugex/models/pretrained/DrugEx_v2_PT_Papyrus05.5/\"\n",
        "GPUS = [0] # we will use only one GPU with ID=0, but if you have more, you can list more GPU IDs here\n",
        "\n",
        "voc = VocSmiles.fromFile(os.path.join(PT_MODEL_FOLDER, \"Papyrus05.5_smiles_rnn_PT.vocab\"))\n",
        "pretrained = RNN(voc, is_lstm=True, use_gpus=GPUS)\n",
        "pretrained.loadStatesFromFile(os.path.join(PT_MODEL_FOLDER, \"Papyrus05.5_smiles_rnn_PT.pkg\"))"
      ]
    },
    {
      "cell_type": "markdown",
      "id": "f495c430-c5f6-4d28-a6d8-caf24f4fa6ad",
      "metadata": {
        "id": "f495c430-c5f6-4d28-a6d8-caf24f4fa6ad"
      },
      "source": [
        "The `RNN` model requires a vocabulary of tokens to be provided. You can open this file and see the tokens defined in it. These are the words of the SMILES language that we use to define structures of molecules. What the model learned is how to combine these words into viable sentences (chemical structures) in the SMILES language. The data saved in the `.pkg` file are the weights (learned states) of the model that define the learned parameters and tell the model how to combine the tokens in the vocabulary in the correct way to generate a random compound that resembles known chemistry.\n",
        "\n",
        "At this point, we should have the pretrained model loaded and be ready to generate some molecules with it. We can validate that the model functions as expected by sampling a small number of molecules from it:"
      ]
    },
    {
      "cell_type": "code",
      "execution_count": 3,
      "id": "e2c64ef2-e7b4-4d3e-8376-fa1782bfb5ee",
      "metadata": {
        "id": "e2c64ef2-e7b4-4d3e-8376-fa1782bfb5ee",
        "outputId": "f63009c2-1537-4dc2-f76b-54c9a3cbf3ee",
        "colab": {
          "base_uri": "https://localhost:8080/"
        }
      },
      "outputs": [
        {
          "output_type": "stream",
          "name": "stdout",
          "text": [
            "['O=C(Cc1cccc(Oc2nccs2)c1)Nc1cccc(C(F)(F)F)c1Cl', 'COc1ccc(CC(=O)Nc2cc(S(=O)(=O)N3CCCCC3)ccc2Cl)cc1', 'NC1CCc2cc(O)c(O)cc2C1', 'Cc1cc(Nc2ncc3c(n2)-c2c(nn(C)c2-c2ccc(Cl)cc2)CC3)n(C)n1', 'Cc1cc(NC(=O)CSc2ccc3nnc(-c4cccnc4)n3n2)no1', 'NC(=O)c1ccc(Oc2ccc3nc(C(=O)NC4CCOCC4)ccc3c2)cc1', 'O=C(Nc1ccc(Oc2ccccc2)cc1)c1cccc(S(=O)(=O)N2CCCC2)c1', 'COc1ccc(C)cc1NCc1ccccc1[N+](=O)[O-]', 'COC(=O)C=CCC(C)C1C=CC(ON(C)C)C1(C)C', 'CCOc1cc(NC(=O)C2CCCO2)c(OCC)cc1NC(=O)CC']\n"
          ]
        }
      ],
      "source": [
        "from drugex.utils import canonicalize_list\n",
        "from drugex.training.scorers.smiles import SmilesChecker\n",
        "import numpy as np\n",
        "\n",
        "def sample_smiles(self, num_smiles, batch_size=100, drop_duplicates=True, drop_invalid=True):\n",
        "    smiles = []\n",
        "    while len(smiles) < num_smiles:\n",
        "        # sample SMILES\n",
        "        sequences = self.sample(batch_size)\n",
        "        # decode according to vocabulary\n",
        "        new_smiles = canonicalize_list([self.voc.decode(s, is_tk = False) for s in sequences])\n",
        "        # drop duplicates\n",
        "        if drop_duplicates:\n",
        "            new_smiles = np.array(new_smiles)\n",
        "            new_smiles = new_smiles[np.logical_not(np.isin(new_smiles, smiles))]\n",
        "            new_smiles = new_smiles.tolist()\n",
        "        # drop invalid smiles\n",
        "        if drop_invalid:\n",
        "            scores = SmilesChecker.checkSmiles(new_smiles, frags=None).ravel()\n",
        "            new_smiles = np.array(new_smiles)[scores > 0].tolist()\n",
        "        smiles += new_smiles\n",
        "    return smiles[:num_smiles]\n",
        "\n",
        "smiles_pretrained = sample_smiles(pretrained, 1000)\n",
        "print(smiles_pretrained[0:10])"
      ]
    },
    {
      "cell_type": "markdown",
      "id": "28f05f05-4a16-4f35-8976-c671fbc37f8b",
      "metadata": {
        "id": "28f05f05-4a16-4f35-8976-c671fbc37f8b"
      },
      "source": [
        "These are the first ten SMILES strings from the 1000 requested. It is a little hard to read into the structures from the SMILES strings so let's convert them to the `scaffviz` data set, which we can use to make a visualization:"
      ]
    },
    {
      "cell_type": "code",
      "execution_count": 4,
      "id": "4ab32fa0-a0c8-4f76-8a4f-0960ce3d0abf",
      "metadata": {
        "id": "4ab32fa0-a0c8-4f76-8a4f-0960ce3d0abf",
        "outputId": "a8a9d6dd-a433-4e5b-d5a5-569e782d8140",
        "colab": {
          "base_uri": "https://localhost:8080/",
          "height": 143
        }
      },
      "outputs": [
        {
          "output_type": "execute_result",
          "data": {
            "text/plain": [
              "                                             SMILES  \\\n",
              "0     O=C(Cc1cccc(Oc2nccs2)c1)Nc1cccc(C(F)(F)F)c1Cl   \n",
              "1  COc1ccc(CC(=O)Nc2cc(S(=O)(=O)N3CCCCC3)ccc2Cl)cc1   \n",
              "2                             NC1CCc2cc(O)c(O)cc2C1   \n",
              "\n",
              "                                              RDMol  \n",
              "0  <rdkit.Chem.rdchem.Mol object at 0x7f4720007170>  \n",
              "1  <rdkit.Chem.rdchem.Mol object at 0x7f4720007260>  \n",
              "2  <rdkit.Chem.rdchem.Mol object at 0x7f47200072b0>  "
            ],
            "text/html": [
              "\n",
              "  <div id=\"df-794d1615-12d0-49bb-aca4-be4b3f55ae7b\">\n",
              "    <div class=\"colab-df-container\">\n",
              "      <div>\n",
              "<style scoped>\n",
              "    .dataframe tbody tr th:only-of-type {\n",
              "        vertical-align: middle;\n",
              "    }\n",
              "\n",
              "    .dataframe tbody tr th {\n",
              "        vertical-align: top;\n",
              "    }\n",
              "\n",
              "    .dataframe thead th {\n",
              "        text-align: right;\n",
              "    }\n",
              "</style>\n",
              "<table border=\"1\" class=\"dataframe\">\n",
              "  <thead>\n",
              "    <tr style=\"text-align: right;\">\n",
              "      <th></th>\n",
              "      <th>SMILES</th>\n",
              "      <th>RDMol</th>\n",
              "    </tr>\n",
              "  </thead>\n",
              "  <tbody>\n",
              "    <tr>\n",
              "      <th>0</th>\n",
              "      <td>O=C(Cc1cccc(Oc2nccs2)c1)Nc1cccc(C(F)(F)F)c1Cl</td>\n",
              "      <td>&lt;rdkit.Chem.rdchem.Mol object at 0x7f4720007170&gt;</td>\n",
              "    </tr>\n",
              "    <tr>\n",
              "      <th>1</th>\n",
              "      <td>COc1ccc(CC(=O)Nc2cc(S(=O)(=O)N3CCCCC3)ccc2Cl)cc1</td>\n",
              "      <td>&lt;rdkit.Chem.rdchem.Mol object at 0x7f4720007260&gt;</td>\n",
              "    </tr>\n",
              "    <tr>\n",
              "      <th>2</th>\n",
              "      <td>NC1CCc2cc(O)c(O)cc2C1</td>\n",
              "      <td>&lt;rdkit.Chem.rdchem.Mol object at 0x7f47200072b0&gt;</td>\n",
              "    </tr>\n",
              "  </tbody>\n",
              "</table>\n",
              "</div>\n",
              "      <button class=\"colab-df-convert\" onclick=\"convertToInteractive('df-794d1615-12d0-49bb-aca4-be4b3f55ae7b')\"\n",
              "              title=\"Convert this dataframe to an interactive table.\"\n",
              "              style=\"display:none;\">\n",
              "        \n",
              "  <svg xmlns=\"http://www.w3.org/2000/svg\" height=\"24px\"viewBox=\"0 0 24 24\"\n",
              "       width=\"24px\">\n",
              "    <path d=\"M0 0h24v24H0V0z\" fill=\"none\"/>\n",
              "    <path d=\"M18.56 5.44l.94 2.06.94-2.06 2.06-.94-2.06-.94-.94-2.06-.94 2.06-2.06.94zm-11 1L8.5 8.5l.94-2.06 2.06-.94-2.06-.94L8.5 2.5l-.94 2.06-2.06.94zm10 10l.94 2.06.94-2.06 2.06-.94-2.06-.94-.94-2.06-.94 2.06-2.06.94z\"/><path d=\"M17.41 7.96l-1.37-1.37c-.4-.4-.92-.59-1.43-.59-.52 0-1.04.2-1.43.59L10.3 9.45l-7.72 7.72c-.78.78-.78 2.05 0 2.83L4 21.41c.39.39.9.59 1.41.59.51 0 1.02-.2 1.41-.59l7.78-7.78 2.81-2.81c.8-.78.8-2.07 0-2.86zM5.41 20L4 18.59l7.72-7.72 1.47 1.35L5.41 20z\"/>\n",
              "  </svg>\n",
              "      </button>\n",
              "      \n",
              "  <style>\n",
              "    .colab-df-container {\n",
              "      display:flex;\n",
              "      flex-wrap:wrap;\n",
              "      gap: 12px;\n",
              "    }\n",
              "\n",
              "    .colab-df-convert {\n",
              "      background-color: #E8F0FE;\n",
              "      border: none;\n",
              "      border-radius: 50%;\n",
              "      cursor: pointer;\n",
              "      display: none;\n",
              "      fill: #1967D2;\n",
              "      height: 32px;\n",
              "      padding: 0 0 0 0;\n",
              "      width: 32px;\n",
              "    }\n",
              "\n",
              "    .colab-df-convert:hover {\n",
              "      background-color: #E2EBFA;\n",
              "      box-shadow: 0px 1px 2px rgba(60, 64, 67, 0.3), 0px 1px 3px 1px rgba(60, 64, 67, 0.15);\n",
              "      fill: #174EA6;\n",
              "    }\n",
              "\n",
              "    [theme=dark] .colab-df-convert {\n",
              "      background-color: #3B4455;\n",
              "      fill: #D2E3FC;\n",
              "    }\n",
              "\n",
              "    [theme=dark] .colab-df-convert:hover {\n",
              "      background-color: #434B5C;\n",
              "      box-shadow: 0px 1px 3px 1px rgba(0, 0, 0, 0.15);\n",
              "      filter: drop-shadow(0px 1px 2px rgba(0, 0, 0, 0.3));\n",
              "      fill: #FFFFFF;\n",
              "    }\n",
              "  </style>\n",
              "\n",
              "      <script>\n",
              "        const buttonEl =\n",
              "          document.querySelector('#df-794d1615-12d0-49bb-aca4-be4b3f55ae7b button.colab-df-convert');\n",
              "        buttonEl.style.display =\n",
              "          google.colab.kernel.accessAllowed ? 'block' : 'none';\n",
              "\n",
              "        async function convertToInteractive(key) {\n",
              "          const element = document.querySelector('#df-794d1615-12d0-49bb-aca4-be4b3f55ae7b');\n",
              "          const dataTable =\n",
              "            await google.colab.kernel.invokeFunction('convertToInteractive',\n",
              "                                                     [key], {});\n",
              "          if (!dataTable) return;\n",
              "\n",
              "          const docLinkHtml = 'Like what you see? Visit the ' +\n",
              "            '<a target=\"_blank\" href=https://colab.research.google.com/notebooks/data_table.ipynb>data table notebook</a>'\n",
              "            + ' to learn more about interactive tables.';\n",
              "          element.innerHTML = '';\n",
              "          dataTable['output_type'] = 'display_data';\n",
              "          await google.colab.output.renderOutput(dataTable, element);\n",
              "          const docLink = document.createElement('div');\n",
              "          docLink.innerHTML = docLinkHtml;\n",
              "          element.appendChild(docLink);\n",
              "        }\n",
              "      </script>\n",
              "    </div>\n",
              "  </div>\n",
              "  "
            ]
          },
          "metadata": {},
          "execution_count": 4
        }
      ],
      "source": [
        "from scaffviz.data.dataset import DataSetSMILES\n",
        "\n",
        "dataset = DataSetSMILES(\"data/pretrained_sampled.tsv\", smiles=smiles_pretrained, use_existing=False)\n",
        "dataset.asDataFrame().head(3)"
      ]
    },
    {
      "cell_type": "markdown",
      "id": "5961abff-792c-4ae5-bd6b-8d0d919a0369",
      "metadata": {
        "id": "5961abff-792c-4ae5-bd6b-8d0d919a0369"
      },
      "source": [
        "You can see that the generated `DataFrame` also includes a picture of the structure, but plotting the full chemical space plot is easy so let's do that too:"
      ]
    },
    {
      "cell_type": "code",
      "execution_count": 5,
      "id": "50960900-3142-4ba7-9389-b37d293df6ef",
      "metadata": {
        "id": "50960900-3142-4ba7-9389-b37d293df6ef",
        "outputId": "e1215362-dc9f-4ed7-b9f9-c2d760c24392",
        "colab": {
          "base_uri": "https://localhost:8080/",
          "height": 891
        }
      },
      "outputs": [
        {
          "output_type": "stream",
          "name": "stderr",
          "text": [
            "/usr/local/lib/python3.7/dist-packages/sklearn/manifold/_t_sne.py:783: FutureWarning: The default initialization in TSNE will change from 'random' to 'pca' in 1.2.\n",
            "  FutureWarning,\n",
            "/usr/local/lib/python3.7/dist-packages/sklearn/manifold/_t_sne.py:793: FutureWarning: The default learning rate in TSNE will change from 200.0 to 'auto' in 1.2.\n",
            "  FutureWarning,\n"
          ]
        },
        {
          "output_type": "display_data",
          "data": {
            "text/plain": [
              "<IPython.core.display.Javascript object>"
            ],
            "application/javascript": [
              "(async (port, path, width, height, cache, element) => {\n",
              "    if (!google.colab.kernel.accessAllowed && !cache) {\n",
              "      return;\n",
              "    }\n",
              "    element.appendChild(document.createTextNode(''));\n",
              "    const url = await google.colab.kernel.proxyPort(port, {cache});\n",
              "    const iframe = document.createElement('iframe');\n",
              "    iframe.src = new URL(path, url).toString();\n",
              "    iframe.height = height;\n",
              "    iframe.width = width;\n",
              "    iframe.style.border = 0;\n",
              "    iframe.allow = [\n",
              "        'accelerometer',\n",
              "        'autoplay',\n",
              "        'camera',\n",
              "        'clipboard-read',\n",
              "        'clipboard-write',\n",
              "        'gyroscope',\n",
              "        'magnetometer',\n",
              "        'microphone',\n",
              "        'serial',\n",
              "        'usb',\n",
              "        'xr-spatial-tracking',\n",
              "    ].join('; ');\n",
              "    element.appendChild(iframe);\n",
              "  })(9292, \"/\", \"100%\", 800, false, window.element)"
            ]
          },
          "metadata": {}
        }
      ],
      "source": [
        "from scaffviz.depiction.plot import Plot\n",
        "from scaffviz.clustering.manifold import TSNE\n",
        "from scaffviz.clustering.descriptors import MorganFP\n",
        "\n",
        "dataset.addDescriptors([MorganFP(radius=2, nBits=1024)], recalculate=False) \n",
        "\n",
        "# make an interactive plot that will use t-SNE to embed the data set in 2D (all current descriptors in the data set will be used)\n",
        "plt = Plot(dataset, TSNE())\n",
        "\n",
        "# start the server, you can open the plot in the browser\n",
        "plt.plot(\n",
        "    recalculate=False,\n",
        "    viewport_height=800,\n",
        "    port=9292\n",
        ")"
      ]
    },
    {
      "cell_type": "markdown",
      "id": "8ff001ff-5bfd-40c8-bc45-a6eec035e44c",
      "metadata": {
        "id": "8ff001ff-5bfd-40c8-bc45-a6eec035e44c"
      },
      "source": [
        "If we compare this plot to the plots generated in previous tutorials, we will notice that there are no clusters of points here. The compounds are spread out more or less evenly around the center of the plot. This is to be expected because the pretrained model is designed to make generally drug-like chemistry and should not be biased towards a particular group of compounds. \n",
        "\n",
        "---\n",
        "*Same for this project; there are no clusters, and the points are spread out almost equally.*\n",
        "\n",
        "\n",
        "### Finetuned Model\n",
        "\n",
        "Generating more concrete and more defined chemical space will be the task for the finetuned model, which we will train with transfer learning. The task will be to generate structures that resemble more the structures in our BACE data set introduced previously:"
      ]
    },
    {
      "cell_type": "code",
      "execution_count": 6,
      "id": "b42b4b0c-996c-46c2-8917-006c47e73419",
      "metadata": {
        "id": "b42b4b0c-996c-46c2-8917-006c47e73419",
        "outputId": "97df5e34-026d-4b17-a3c0-ac9168bff64a",
        "colab": {
          "base_uri": "https://localhost:8080/",
          "height": 661
        }
      },
      "outputs": [
        {
          "output_type": "execute_result",
          "data": {
            "text/plain": [
              "                      Activity_ID Quality    source  \\\n",
              "0     AAAGFCUDAXPDAA_on_P56817_WT    High  ChEMBL30   \n",
              "1     AACUJFVOHGRMTR_on_P56817_WT    High  ChEMBL30   \n",
              "2     AANLQBIDWIHDGD_on_P56817_WT    High  ChEMBL30   \n",
              "3     AARJXZHQDZOZNY_on_P56817_WT    High  ChEMBL30   \n",
              "4     AAWSEFDIDJLXJF_on_P56817_WT    High  ChEMBL30   \n",
              "...                           ...     ...       ...   \n",
              "3826  ZZLASUXQDJCLCY_on_P56817_WT    High  ChEMBL30   \n",
              "3827  ZZMNDKIJBBWBHI_on_P56817_WT    High  ChEMBL30   \n",
              "3828  ZZUPAAPYPBQGKS_on_P56817_WT    High  ChEMBL30   \n",
              "3829  ZZYSRRFOAYTMKM_on_P56817_WT    High  ChEMBL30   \n",
              "3830  ZZZPIVDRDSYYLA_on_P56817_WT    High  ChEMBL30   \n",
              "\n",
              "                                                    CID  \\\n",
              "0                                         CHEMBL1915983   \n",
              "1                                         CHEMBL4204869   \n",
              "2                                         CHEMBL4159574   \n",
              "3                                         CHEMBL2443370   \n",
              "4                                         CHEMBL2178717   \n",
              "...                                                 ...   \n",
              "3826                                      CHEMBL1821825   \n",
              "3827  CHEMBL506759;44588635;CHEMBL506759;44588635;CH...   \n",
              "3828  CHEMBL3634122;CHEMBL3634122;CHEMBL3634122;CHEM...   \n",
              "3829                                      CHEMBL4091480   \n",
              "3830                                      CHEMBL3653455   \n",
              "\n",
              "                                                 SMILES    connectivity  \\\n",
              "0     COCC1CCN(C(C)C(=O)NC(Cc2cc(F)cc(F)c2)C(O)CNCc2...  AAAGFCUDAXPDAA   \n",
              "1     CC1OCC2(c3cc(NC(=O)c4cnc(C(F)F)cn4)ccc3F)N=C(N...  AACUJFVOHGRMTR   \n",
              "2     COCCOc1cnc(C(=O)Nc2ccc(F)c(C3(C)N=C(N)COC3C(F)...  AANLQBIDWIHDGD   \n",
              "3     CC1=C(C(=O)Nc2nc(C)cs2)C(c2ccco2)C(C(=O)Nc2nc(...  AARJXZHQDZOZNY   \n",
              "4     CN1C(=O)C2CN(c3ncccn3)CC2(c2cc(-c3cccc(C#N)c3)...  AAWSEFDIDJLXJF   \n",
              "...                                                 ...             ...   \n",
              "3826  Cc1c(-c2ccc3nc(N)c(CC(C)C(=O)NCC4CCOCC4)cc3c2)...  ZZLASUXQDJCLCY   \n",
              "3827  CC(NC(=O)c1cc(C(=O)NC(COCc2cc(F)cc(F)c2)C(O)CC...  ZZMNDKIJBBWBHI   \n",
              "3828        CC1(c2cc(NC(=O)c3ncc(Cl)cc3)ccc2)COCC(N)=N1  ZZUPAAPYPBQGKS   \n",
              "3829         Cc1ccc(NCc2cc(C3(C)CCSC(N)=N3)c(F)cc2F)nc1  ZZYSRRFOAYTMKM   \n",
              "3830  Cc1nc(C(=O)Nc2ccc(F)c(C3(C(F)F)COCC(N)=N3)c2)c...  ZZZPIVDRDSYYLA   \n",
              "\n",
              "                         InChIKey  \\\n",
              "0     AAAGFCUDAXPDAA-UHFFFAOYSA-N   \n",
              "1     AACUJFVOHGRMTR-UHFFFAOYSA-N   \n",
              "2     AANLQBIDWIHDGD-UHFFFAOYSA-N   \n",
              "3     AARJXZHQDZOZNY-UHFFFAOYSA-N   \n",
              "4     AAWSEFDIDJLXJF-UHFFFAOYSA-N   \n",
              "...                           ...   \n",
              "3826  ZZLASUXQDJCLCY-UHFFFAOYSA-N   \n",
              "3827  ZZMNDKIJBBWBHI-UHFFFAOYSA-N   \n",
              "3828  ZZUPAAPYPBQGKS-UHFFFAOYSA-N   \n",
              "3829  ZZYSRRFOAYTMKM-UHFFFAOYSA-N   \n",
              "3830  ZZZPIVDRDSYYLA-UHFFFAOYSA-N   \n",
              "\n",
              "                                                  InChI  \\\n",
              "0     InChI=1S/C27H35F2N3O5/c1-17(32-8-7-20(16-36-2)...   \n",
              "1     InChI=1S/C19H18F3N5O2S/c1-9-12-7-30-18(23)27-1...   \n",
              "2     InChI=1S/C20H21F4N5O4/c1-19(18(20(22,23)24)33-...   \n",
              "3     InChI=1S/C21H21N5O3S2/c1-10-8-30-20(22-10)25-1...   \n",
              "4     InChI=1S/C22H19N7OS/c1-28-19(30)17-11-29(21-25...   \n",
              "...                                                 ...   \n",
              "3826  InChI=1S/C26H31N3O2/c1-17-5-3-4-6-23(17)20-7-8...   \n",
              "3827  InChI=1S/C43H49F2N5O10S/c1-25(2)39(42(55)46-22...   \n",
              "3828  InChI=1S/C17H17ClN4O2/c1-17(10-24-9-15(19)22-1...   \n",
              "3829  InChI=1S/C18H20F2N4S/c1-11-3-4-16(22-9-11)23-1...   \n",
              "3830  InChI=1S/C17H17F3N4O3/c1-8-14(22-9(2)27-8)15(2...   \n",
              "\n",
              "                                          InChI_AuxInfo  target_id  ...  \\\n",
              "0     \"AuxInfo=1/1/N:9,1,32,34,35,33,5,6,16,22,29,14...  P56817_WT  ...   \n",
              "1     \"AuxInfo=1/1/N:1,21,22,7,19,13,29,4,2,8,6,30,2...  P56817_WT  ...   \n",
              "2     \"AuxInfo=1/1/N:20,1,14,15,3,4,31,32,7,24,13,18...  P56817_WT  ...   \n",
              "3     \"AuxInfo=1/1/N:10,26,1,30,16,15,17,11,27,9,25,...  P56817_WT  ...   \n",
              "4     \"AuxInfo=1/1/N:1,21,11,22,20,10,12,26,17,24,6,...  P56817_WT  ...   \n",
              "...                                                 ...        ...  ...   \n",
              "3826  \"AuxInfo=1/1/N:1,14,30,29,31,28,5,6,20,24,21,2...  P56817_WT  ...   \n",
              "3827  \"AuxInfo=1/1/N:45,46,1,50,52,59,58,60,57,61,36...  P56817_WT  ...   \n",
              "3828  \"AuxInfo=1/1/N:1,17,18,16,14,15,4,11,21,19,3,1...  P56817_WT  ...   \n",
              "3829  \"AuxInfo=1/1/N:1,12,3,4,13,14,9,21,25,7,2,8,10...  P56817_WT  ...   \n",
              "3830  \"AuxInfo=1/1/N:26,1,9,10,24,20,18,25,2,8,13,11...  P56817_WT  ...   \n",
              "\n",
              "     Descriptor_MorganFP_1016 Descriptor_MorganFP_1017  \\\n",
              "0                         0.0                      0.0   \n",
              "1                         0.0                      0.0   \n",
              "2                         0.0                      0.0   \n",
              "3                         0.0                      0.0   \n",
              "4                         0.0                      0.0   \n",
              "...                       ...                      ...   \n",
              "3826                      0.0                      0.0   \n",
              "3827                      0.0                      0.0   \n",
              "3828                      0.0                      0.0   \n",
              "3829                      0.0                      0.0   \n",
              "3830                      0.0                      0.0   \n",
              "\n",
              "     Descriptor_MorganFP_1018 Descriptor_MorganFP_1019  \\\n",
              "0                         0.0                      1.0   \n",
              "1                         0.0                      1.0   \n",
              "2                         0.0                      1.0   \n",
              "3                         0.0                      1.0   \n",
              "4                         0.0                      1.0   \n",
              "...                       ...                      ...   \n",
              "3826                      0.0                      1.0   \n",
              "3827                      0.0                      0.0   \n",
              "3828                      0.0                      0.0   \n",
              "3829                      0.0                      0.0   \n",
              "3830                      0.0                      0.0   \n",
              "\n",
              "      Descriptor_MorganFP_1020 Descriptor_MorganFP_1021  \\\n",
              "0                          0.0                      0.0   \n",
              "1                          0.0                      0.0   \n",
              "2                          0.0                      0.0   \n",
              "3                          0.0                      0.0   \n",
              "4                          0.0                      0.0   \n",
              "...                        ...                      ...   \n",
              "3826                       0.0                      0.0   \n",
              "3827                       0.0                      0.0   \n",
              "3828                       0.0                      0.0   \n",
              "3829                       0.0                      0.0   \n",
              "3830                       0.0                      0.0   \n",
              "\n",
              "     Descriptor_MorganFP_1022 Descriptor_MorganFP_1023     TSNE_1     TSNE_2  \n",
              "0                         0.0                      0.0 -61.671165  18.636885  \n",
              "1                         0.0                      0.0   5.981135 -41.491680  \n",
              "2                         0.0                      0.0  22.383297 -54.882477  \n",
              "3                         0.0                      0.0  26.984573  25.672077  \n",
              "4                         0.0                      0.0 -53.715622 -27.205227  \n",
              "...                       ...                      ...        ...        ...  \n",
              "3826                      0.0                      0.0  32.414470  20.711920  \n",
              "3827                      0.0                      0.0 -31.731236  51.895810  \n",
              "3828                      0.0                      0.0  36.324360 -37.222504  \n",
              "3829                      0.0                      0.0  12.536815 -25.815283  \n",
              "3830                      0.0                      0.0  42.214138 -47.971664  \n",
              "\n",
              "[3831 rows x 1056 columns]"
            ],
            "text/html": [
              "\n",
              "  <div id=\"df-6b0db552-d690-4e1f-a2eb-a3156260aa14\">\n",
              "    <div class=\"colab-df-container\">\n",
              "      <div>\n",
              "<style scoped>\n",
              "    .dataframe tbody tr th:only-of-type {\n",
              "        vertical-align: middle;\n",
              "    }\n",
              "\n",
              "    .dataframe tbody tr th {\n",
              "        vertical-align: top;\n",
              "    }\n",
              "\n",
              "    .dataframe thead th {\n",
              "        text-align: right;\n",
              "    }\n",
              "</style>\n",
              "<table border=\"1\" class=\"dataframe\">\n",
              "  <thead>\n",
              "    <tr style=\"text-align: right;\">\n",
              "      <th></th>\n",
              "      <th>Activity_ID</th>\n",
              "      <th>Quality</th>\n",
              "      <th>source</th>\n",
              "      <th>CID</th>\n",
              "      <th>SMILES</th>\n",
              "      <th>connectivity</th>\n",
              "      <th>InChIKey</th>\n",
              "      <th>InChI</th>\n",
              "      <th>InChI_AuxInfo</th>\n",
              "      <th>target_id</th>\n",
              "      <th>...</th>\n",
              "      <th>Descriptor_MorganFP_1016</th>\n",
              "      <th>Descriptor_MorganFP_1017</th>\n",
              "      <th>Descriptor_MorganFP_1018</th>\n",
              "      <th>Descriptor_MorganFP_1019</th>\n",
              "      <th>Descriptor_MorganFP_1020</th>\n",
              "      <th>Descriptor_MorganFP_1021</th>\n",
              "      <th>Descriptor_MorganFP_1022</th>\n",
              "      <th>Descriptor_MorganFP_1023</th>\n",
              "      <th>TSNE_1</th>\n",
              "      <th>TSNE_2</th>\n",
              "    </tr>\n",
              "  </thead>\n",
              "  <tbody>\n",
              "    <tr>\n",
              "      <th>0</th>\n",
              "      <td>AAAGFCUDAXPDAA_on_P56817_WT</td>\n",
              "      <td>High</td>\n",
              "      <td>ChEMBL30</td>\n",
              "      <td>CHEMBL1915983</td>\n",
              "      <td>COCC1CCN(C(C)C(=O)NC(Cc2cc(F)cc(F)c2)C(O)CNCc2...</td>\n",
              "      <td>AAAGFCUDAXPDAA</td>\n",
              "      <td>AAAGFCUDAXPDAA-UHFFFAOYSA-N</td>\n",
              "      <td>InChI=1S/C27H35F2N3O5/c1-17(32-8-7-20(16-36-2)...</td>\n",
              "      <td>\"AuxInfo=1/1/N:9,1,32,34,35,33,5,6,16,22,29,14...</td>\n",
              "      <td>P56817_WT</td>\n",
              "      <td>...</td>\n",
              "      <td>0.0</td>\n",
              "      <td>0.0</td>\n",
              "      <td>0.0</td>\n",
              "      <td>1.0</td>\n",
              "      <td>0.0</td>\n",
              "      <td>0.0</td>\n",
              "      <td>0.0</td>\n",
              "      <td>0.0</td>\n",
              "      <td>-61.671165</td>\n",
              "      <td>18.636885</td>\n",
              "    </tr>\n",
              "    <tr>\n",
              "      <th>1</th>\n",
              "      <td>AACUJFVOHGRMTR_on_P56817_WT</td>\n",
              "      <td>High</td>\n",
              "      <td>ChEMBL30</td>\n",
              "      <td>CHEMBL4204869</td>\n",
              "      <td>CC1OCC2(c3cc(NC(=O)c4cnc(C(F)F)cn4)ccc3F)N=C(N...</td>\n",
              "      <td>AACUJFVOHGRMTR</td>\n",
              "      <td>AACUJFVOHGRMTR-UHFFFAOYSA-N</td>\n",
              "      <td>InChI=1S/C19H18F3N5O2S/c1-9-12-7-30-18(23)27-1...</td>\n",
              "      <td>\"AuxInfo=1/1/N:1,21,22,7,19,13,29,4,2,8,6,30,2...</td>\n",
              "      <td>P56817_WT</td>\n",
              "      <td>...</td>\n",
              "      <td>0.0</td>\n",
              "      <td>0.0</td>\n",
              "      <td>0.0</td>\n",
              "      <td>1.0</td>\n",
              "      <td>0.0</td>\n",
              "      <td>0.0</td>\n",
              "      <td>0.0</td>\n",
              "      <td>0.0</td>\n",
              "      <td>5.981135</td>\n",
              "      <td>-41.491680</td>\n",
              "    </tr>\n",
              "    <tr>\n",
              "      <th>2</th>\n",
              "      <td>AANLQBIDWIHDGD_on_P56817_WT</td>\n",
              "      <td>High</td>\n",
              "      <td>ChEMBL30</td>\n",
              "      <td>CHEMBL4159574</td>\n",
              "      <td>COCCOc1cnc(C(=O)Nc2ccc(F)c(C3(C)N=C(N)COC3C(F)...</td>\n",
              "      <td>AANLQBIDWIHDGD</td>\n",
              "      <td>AANLQBIDWIHDGD-UHFFFAOYSA-N</td>\n",
              "      <td>InChI=1S/C20H21F4N5O4/c1-19(18(20(22,23)24)33-...</td>\n",
              "      <td>\"AuxInfo=1/1/N:20,1,14,15,3,4,31,32,7,24,13,18...</td>\n",
              "      <td>P56817_WT</td>\n",
              "      <td>...</td>\n",
              "      <td>0.0</td>\n",
              "      <td>0.0</td>\n",
              "      <td>0.0</td>\n",
              "      <td>1.0</td>\n",
              "      <td>0.0</td>\n",
              "      <td>0.0</td>\n",
              "      <td>0.0</td>\n",
              "      <td>0.0</td>\n",
              "      <td>22.383297</td>\n",
              "      <td>-54.882477</td>\n",
              "    </tr>\n",
              "    <tr>\n",
              "      <th>3</th>\n",
              "      <td>AARJXZHQDZOZNY_on_P56817_WT</td>\n",
              "      <td>High</td>\n",
              "      <td>ChEMBL30</td>\n",
              "      <td>CHEMBL2443370</td>\n",
              "      <td>CC1=C(C(=O)Nc2nc(C)cs2)C(c2ccco2)C(C(=O)Nc2nc(...</td>\n",
              "      <td>AARJXZHQDZOZNY</td>\n",
              "      <td>AARJXZHQDZOZNY-UHFFFAOYSA-N</td>\n",
              "      <td>InChI=1S/C21H21N5O3S2/c1-10-8-30-20(22-10)25-1...</td>\n",
              "      <td>\"AuxInfo=1/1/N:10,26,1,30,16,15,17,11,27,9,25,...</td>\n",
              "      <td>P56817_WT</td>\n",
              "      <td>...</td>\n",
              "      <td>0.0</td>\n",
              "      <td>0.0</td>\n",
              "      <td>0.0</td>\n",
              "      <td>1.0</td>\n",
              "      <td>0.0</td>\n",
              "      <td>0.0</td>\n",
              "      <td>0.0</td>\n",
              "      <td>0.0</td>\n",
              "      <td>26.984573</td>\n",
              "      <td>25.672077</td>\n",
              "    </tr>\n",
              "    <tr>\n",
              "      <th>4</th>\n",
              "      <td>AAWSEFDIDJLXJF_on_P56817_WT</td>\n",
              "      <td>High</td>\n",
              "      <td>ChEMBL30</td>\n",
              "      <td>CHEMBL2178717</td>\n",
              "      <td>CN1C(=O)C2CN(c3ncccn3)CC2(c2cc(-c3cccc(C#N)c3)...</td>\n",
              "      <td>AAWSEFDIDJLXJF</td>\n",
              "      <td>AAWSEFDIDJLXJF-UHFFFAOYSA-N</td>\n",
              "      <td>InChI=1S/C22H19N7OS/c1-28-19(30)17-11-29(21-25...</td>\n",
              "      <td>\"AuxInfo=1/1/N:1,21,11,22,20,10,12,26,17,24,6,...</td>\n",
              "      <td>P56817_WT</td>\n",
              "      <td>...</td>\n",
              "      <td>0.0</td>\n",
              "      <td>0.0</td>\n",
              "      <td>0.0</td>\n",
              "      <td>1.0</td>\n",
              "      <td>0.0</td>\n",
              "      <td>0.0</td>\n",
              "      <td>0.0</td>\n",
              "      <td>0.0</td>\n",
              "      <td>-53.715622</td>\n",
              "      <td>-27.205227</td>\n",
              "    </tr>\n",
              "    <tr>\n",
              "      <th>...</th>\n",
              "      <td>...</td>\n",
              "      <td>...</td>\n",
              "      <td>...</td>\n",
              "      <td>...</td>\n",
              "      <td>...</td>\n",
              "      <td>...</td>\n",
              "      <td>...</td>\n",
              "      <td>...</td>\n",
              "      <td>...</td>\n",
              "      <td>...</td>\n",
              "      <td>...</td>\n",
              "      <td>...</td>\n",
              "      <td>...</td>\n",
              "      <td>...</td>\n",
              "      <td>...</td>\n",
              "      <td>...</td>\n",
              "      <td>...</td>\n",
              "      <td>...</td>\n",
              "      <td>...</td>\n",
              "      <td>...</td>\n",
              "      <td>...</td>\n",
              "    </tr>\n",
              "    <tr>\n",
              "      <th>3826</th>\n",
              "      <td>ZZLASUXQDJCLCY_on_P56817_WT</td>\n",
              "      <td>High</td>\n",
              "      <td>ChEMBL30</td>\n",
              "      <td>CHEMBL1821825</td>\n",
              "      <td>Cc1c(-c2ccc3nc(N)c(CC(C)C(=O)NCC4CCOCC4)cc3c2)...</td>\n",
              "      <td>ZZLASUXQDJCLCY</td>\n",
              "      <td>ZZLASUXQDJCLCY-UHFFFAOYSA-N</td>\n",
              "      <td>InChI=1S/C26H31N3O2/c1-17-5-3-4-6-23(17)20-7-8...</td>\n",
              "      <td>\"AuxInfo=1/1/N:1,14,30,29,31,28,5,6,20,24,21,2...</td>\n",
              "      <td>P56817_WT</td>\n",
              "      <td>...</td>\n",
              "      <td>0.0</td>\n",
              "      <td>0.0</td>\n",
              "      <td>0.0</td>\n",
              "      <td>1.0</td>\n",
              "      <td>0.0</td>\n",
              "      <td>0.0</td>\n",
              "      <td>0.0</td>\n",
              "      <td>0.0</td>\n",
              "      <td>32.414470</td>\n",
              "      <td>20.711920</td>\n",
              "    </tr>\n",
              "    <tr>\n",
              "      <th>3827</th>\n",
              "      <td>ZZMNDKIJBBWBHI_on_P56817_WT</td>\n",
              "      <td>High</td>\n",
              "      <td>ChEMBL30</td>\n",
              "      <td>CHEMBL506759;44588635;CHEMBL506759;44588635;CH...</td>\n",
              "      <td>CC(NC(=O)c1cc(C(=O)NC(COCc2cc(F)cc(F)c2)C(O)CC...</td>\n",
              "      <td>ZZMNDKIJBBWBHI</td>\n",
              "      <td>ZZMNDKIJBBWBHI-UHFFFAOYSA-N</td>\n",
              "      <td>InChI=1S/C43H49F2N5O10S/c1-25(2)39(42(55)46-22...</td>\n",
              "      <td>\"AuxInfo=1/1/N:45,46,1,50,52,59,58,60,57,61,36...</td>\n",
              "      <td>P56817_WT</td>\n",
              "      <td>...</td>\n",
              "      <td>0.0</td>\n",
              "      <td>0.0</td>\n",
              "      <td>0.0</td>\n",
              "      <td>0.0</td>\n",
              "      <td>0.0</td>\n",
              "      <td>0.0</td>\n",
              "      <td>0.0</td>\n",
              "      <td>0.0</td>\n",
              "      <td>-31.731236</td>\n",
              "      <td>51.895810</td>\n",
              "    </tr>\n",
              "    <tr>\n",
              "      <th>3828</th>\n",
              "      <td>ZZUPAAPYPBQGKS_on_P56817_WT</td>\n",
              "      <td>High</td>\n",
              "      <td>ChEMBL30</td>\n",
              "      <td>CHEMBL3634122;CHEMBL3634122;CHEMBL3634122;CHEM...</td>\n",
              "      <td>CC1(c2cc(NC(=O)c3ncc(Cl)cc3)ccc2)COCC(N)=N1</td>\n",
              "      <td>ZZUPAAPYPBQGKS</td>\n",
              "      <td>ZZUPAAPYPBQGKS-UHFFFAOYSA-N</td>\n",
              "      <td>InChI=1S/C17H17ClN4O2/c1-17(10-24-9-15(19)22-1...</td>\n",
              "      <td>\"AuxInfo=1/1/N:1,17,18,16,14,15,4,11,21,19,3,1...</td>\n",
              "      <td>P56817_WT</td>\n",
              "      <td>...</td>\n",
              "      <td>0.0</td>\n",
              "      <td>0.0</td>\n",
              "      <td>0.0</td>\n",
              "      <td>0.0</td>\n",
              "      <td>0.0</td>\n",
              "      <td>0.0</td>\n",
              "      <td>0.0</td>\n",
              "      <td>0.0</td>\n",
              "      <td>36.324360</td>\n",
              "      <td>-37.222504</td>\n",
              "    </tr>\n",
              "    <tr>\n",
              "      <th>3829</th>\n",
              "      <td>ZZYSRRFOAYTMKM_on_P56817_WT</td>\n",
              "      <td>High</td>\n",
              "      <td>ChEMBL30</td>\n",
              "      <td>CHEMBL4091480</td>\n",
              "      <td>Cc1ccc(NCc2cc(C3(C)CCSC(N)=N3)c(F)cc2F)nc1</td>\n",
              "      <td>ZZYSRRFOAYTMKM</td>\n",
              "      <td>ZZYSRRFOAYTMKM-UHFFFAOYSA-N</td>\n",
              "      <td>InChI=1S/C18H20F2N4S/c1-11-3-4-16(22-9-11)23-1...</td>\n",
              "      <td>\"AuxInfo=1/1/N:1,12,3,4,13,14,9,21,25,7,2,8,10...</td>\n",
              "      <td>P56817_WT</td>\n",
              "      <td>...</td>\n",
              "      <td>0.0</td>\n",
              "      <td>0.0</td>\n",
              "      <td>0.0</td>\n",
              "      <td>0.0</td>\n",
              "      <td>0.0</td>\n",
              "      <td>0.0</td>\n",
              "      <td>0.0</td>\n",
              "      <td>0.0</td>\n",
              "      <td>12.536815</td>\n",
              "      <td>-25.815283</td>\n",
              "    </tr>\n",
              "    <tr>\n",
              "      <th>3830</th>\n",
              "      <td>ZZZPIVDRDSYYLA_on_P56817_WT</td>\n",
              "      <td>High</td>\n",
              "      <td>ChEMBL30</td>\n",
              "      <td>CHEMBL3653455</td>\n",
              "      <td>Cc1nc(C(=O)Nc2ccc(F)c(C3(C(F)F)COCC(N)=N3)c2)c...</td>\n",
              "      <td>ZZZPIVDRDSYYLA</td>\n",
              "      <td>ZZZPIVDRDSYYLA-UHFFFAOYSA-N</td>\n",
              "      <td>InChI=1S/C17H17F3N4O3/c1-8-14(22-9(2)27-8)15(2...</td>\n",
              "      <td>\"AuxInfo=1/1/N:26,1,9,10,24,20,18,25,2,8,13,11...</td>\n",
              "      <td>P56817_WT</td>\n",
              "      <td>...</td>\n",
              "      <td>0.0</td>\n",
              "      <td>0.0</td>\n",
              "      <td>0.0</td>\n",
              "      <td>0.0</td>\n",
              "      <td>0.0</td>\n",
              "      <td>0.0</td>\n",
              "      <td>0.0</td>\n",
              "      <td>0.0</td>\n",
              "      <td>42.214138</td>\n",
              "      <td>-47.971664</td>\n",
              "    </tr>\n",
              "  </tbody>\n",
              "</table>\n",
              "<p>3831 rows × 1056 columns</p>\n",
              "</div>\n",
              "      <button class=\"colab-df-convert\" onclick=\"convertToInteractive('df-6b0db552-d690-4e1f-a2eb-a3156260aa14')\"\n",
              "              title=\"Convert this dataframe to an interactive table.\"\n",
              "              style=\"display:none;\">\n",
              "        \n",
              "  <svg xmlns=\"http://www.w3.org/2000/svg\" height=\"24px\"viewBox=\"0 0 24 24\"\n",
              "       width=\"24px\">\n",
              "    <path d=\"M0 0h24v24H0V0z\" fill=\"none\"/>\n",
              "    <path d=\"M18.56 5.44l.94 2.06.94-2.06 2.06-.94-2.06-.94-.94-2.06-.94 2.06-2.06.94zm-11 1L8.5 8.5l.94-2.06 2.06-.94-2.06-.94L8.5 2.5l-.94 2.06-2.06.94zm10 10l.94 2.06.94-2.06 2.06-.94-2.06-.94-.94-2.06-.94 2.06-2.06.94z\"/><path d=\"M17.41 7.96l-1.37-1.37c-.4-.4-.92-.59-1.43-.59-.52 0-1.04.2-1.43.59L10.3 9.45l-7.72 7.72c-.78.78-.78 2.05 0 2.83L4 21.41c.39.39.9.59 1.41.59.51 0 1.02-.2 1.41-.59l7.78-7.78 2.81-2.81c.8-.78.8-2.07 0-2.86zM5.41 20L4 18.59l7.72-7.72 1.47 1.35L5.41 20z\"/>\n",
              "  </svg>\n",
              "      </button>\n",
              "      \n",
              "  <style>\n",
              "    .colab-df-container {\n",
              "      display:flex;\n",
              "      flex-wrap:wrap;\n",
              "      gap: 12px;\n",
              "    }\n",
              "\n",
              "    .colab-df-convert {\n",
              "      background-color: #E8F0FE;\n",
              "      border: none;\n",
              "      border-radius: 50%;\n",
              "      cursor: pointer;\n",
              "      display: none;\n",
              "      fill: #1967D2;\n",
              "      height: 32px;\n",
              "      padding: 0 0 0 0;\n",
              "      width: 32px;\n",
              "    }\n",
              "\n",
              "    .colab-df-convert:hover {\n",
              "      background-color: #E2EBFA;\n",
              "      box-shadow: 0px 1px 2px rgba(60, 64, 67, 0.3), 0px 1px 3px 1px rgba(60, 64, 67, 0.15);\n",
              "      fill: #174EA6;\n",
              "    }\n",
              "\n",
              "    [theme=dark] .colab-df-convert {\n",
              "      background-color: #3B4455;\n",
              "      fill: #D2E3FC;\n",
              "    }\n",
              "\n",
              "    [theme=dark] .colab-df-convert:hover {\n",
              "      background-color: #434B5C;\n",
              "      box-shadow: 0px 1px 3px 1px rgba(0, 0, 0, 0.15);\n",
              "      filter: drop-shadow(0px 1px 2px rgba(0, 0, 0, 0.3));\n",
              "      fill: #FFFFFF;\n",
              "    }\n",
              "  </style>\n",
              "\n",
              "      <script>\n",
              "        const buttonEl =\n",
              "          document.querySelector('#df-6b0db552-d690-4e1f-a2eb-a3156260aa14 button.colab-df-convert');\n",
              "        buttonEl.style.display =\n",
              "          google.colab.kernel.accessAllowed ? 'block' : 'none';\n",
              "\n",
              "        async function convertToInteractive(key) {\n",
              "          const element = document.querySelector('#df-6b0db552-d690-4e1f-a2eb-a3156260aa14');\n",
              "          const dataTable =\n",
              "            await google.colab.kernel.invokeFunction('convertToInteractive',\n",
              "                                                     [key], {});\n",
              "          if (!dataTable) return;\n",
              "\n",
              "          const docLinkHtml = 'Like what you see? Visit the ' +\n",
              "            '<a target=\"_blank\" href=https://colab.research.google.com/notebooks/data_table.ipynb>data table notebook</a>'\n",
              "            + ' to learn more about interactive tables.';\n",
              "          element.innerHTML = '';\n",
              "          dataTable['output_type'] = 'display_data';\n",
              "          await google.colab.output.renderOutput(dataTable, element);\n",
              "          const docLink = document.createElement('div');\n",
              "          docLink.innerHTML = docLinkHtml;\n",
              "          element.appendChild(docLink);\n",
              "        }\n",
              "      </script>\n",
              "    </div>\n",
              "  </div>\n",
              "  "
            ]
          },
          "metadata": {},
          "execution_count": 6
        }
      ],
      "source": [
        "import pandas as pd\n",
        "\n",
        "df_BACE = pd.read_table('data/BACE_LIGANDS.tsv')\n",
        "df_BACE"
      ]
    },
    {
      "cell_type": "markdown",
      "id": "9a8ec8d9-f9e3-499b-9f05-80d2a8a46aa3",
      "metadata": {
        "id": "9a8ec8d9-f9e3-499b-9f05-80d2a8a46aa3"
      },
      "source": [
        "There is a lot of data in this table, but for our transfer learning exercise only the SMILES are important:"
      ]
    },
    {
      "cell_type": "code",
      "execution_count": 7,
      "id": "80a97434-d8a4-4e14-ad5f-b513b320d26d",
      "metadata": {
        "id": "80a97434-d8a4-4e14-ad5f-b513b320d26d",
        "outputId": "01729864-6a7f-4591-a3c6-0df5a8240969",
        "colab": {
          "base_uri": "https://localhost:8080/"
        }
      },
      "outputs": [
        {
          "output_type": "execute_result",
          "data": {
            "text/plain": [
              "0       COCC1CCN(C(C)C(=O)NC(Cc2cc(F)cc(F)c2)C(O)CNCc2...\n",
              "1       CC1OCC2(c3cc(NC(=O)c4cnc(C(F)F)cn4)ccc3F)N=C(N...\n",
              "2       COCCOc1cnc(C(=O)Nc2ccc(F)c(C3(C)N=C(N)COC3C(F)...\n",
              "3       CC1=C(C(=O)Nc2nc(C)cs2)C(c2ccco2)C(C(=O)Nc2nc(...\n",
              "4       CN1C(=O)C2CN(c3ncccn3)CC2(c2cc(-c3cccc(C#N)c3)...\n",
              "                              ...                        \n",
              "3826    Cc1c(-c2ccc3nc(N)c(CC(C)C(=O)NCC4CCOCC4)cc3c2)...\n",
              "3827    CC(NC(=O)c1cc(C(=O)NC(COCc2cc(F)cc(F)c2)C(O)CC...\n",
              "3828          CC1(c2cc(NC(=O)c3ncc(Cl)cc3)ccc2)COCC(N)=N1\n",
              "3829           Cc1ccc(NCc2cc(C3(C)CCSC(N)=N3)c(F)cc2F)nc1\n",
              "3830    Cc1nc(C(=O)Nc2ccc(F)c(C3(C(F)F)COCC(N)=N3)c2)c...\n",
              "Name: SMILES, Length: 3831, dtype: object"
            ]
          },
          "metadata": {},
          "execution_count": 7
        }
      ],
      "source": [
        "smiles_train = df_BACE.SMILES\n",
        "smiles_train"
      ]
    },
    {
      "cell_type": "markdown",
      "id": "2331bb54-bc4b-45ca-a3e9-22c1dcff7a90",
      "metadata": {
        "id": "2331bb54-bc4b-45ca-a3e9-22c1dcff7a90"
      },
      "source": [
        "In order to train the finetuned model, we need to first standardize and prepare the SMILES strings. DrugEx has its own utility to do that for all its models:"
      ]
    },
    {
      "cell_type": "code",
      "execution_count": 8,
      "id": "d13f4c31-86db-45f3-8cd1-c98c1f22727f",
      "metadata": {
        "id": "d13f4c31-86db-45f3-8cd1-c98c1f22727f",
        "outputId": "ac11a4c6-f9de-4a77-a6ed-c9b2dad5673e",
        "colab": {
          "base_uri": "https://localhost:8080/",
          "height": 223,
          "referenced_widgets": [
            "0a8fcbf066944004bef9781a3f3fc35b",
            "cc66c3b71242410483ab47810a88dc4c",
            "19eeb693e63d4a319f427a6c081c9c5b",
            "e76a6232c0114b939b0d257e08414a4e",
            "df41100bed304bd286833a0dd862a333",
            "2a8d5b04f85a41ed93ebd88372f1d057",
            "db09e635cec74d2db4214fb6dd1ec344",
            "f7da1aa67d7d4958895be48859aa64d7",
            "cdadc5590bc1457e9270cf46b4205811",
            "2e98898b23244202833907691e797706",
            "5956a766f641412383f02e825556e3fc"
          ]
        }
      },
      "outputs": [
        {
          "output_type": "display_data",
          "data": {
            "text/plain": [
              "Standardizing molecules (batch processing):   0%|          | 0/1 [00:00<?, ?it/s]"
            ],
            "application/vnd.jupyter.widget-view+json": {
              "version_major": 2,
              "version_minor": 0,
              "model_id": "0a8fcbf066944004bef9781a3f3fc35b"
            }
          },
          "metadata": {}
        },
        {
          "output_type": "execute_result",
          "data": {
            "text/plain": [
              "['COCC1CCN(C(C)C(=O)NC(Cc2cc(F)cc(F)c2)C(O)CNCc2cccc(OC)c2)C1=O',\n",
              " 'CC1OCC2(c3cc(NC(=O)c4cnc(C(F)F)cn4)ccc3F)N=C(N)SCC12',\n",
              " 'COCCOc1cnc(C(=O)Nc2ccc(F)c(C3(C)N=C(N)COC3C(F)(F)F)c2)cn1',\n",
              " 'CC1=C(C(=O)Nc2nc(C)cs2)C(c2ccco2)C(C(=O)Nc2nc(C)cs2)=C(C)N1',\n",
              " 'CN1C(=O)C2CN(c3ncccn3)CC2(c2cc(-c3cccc(C#N)c3)cs2)N=C1N',\n",
              " 'CC1(c2cccc(NC(=O)c3ccc(Cl)cc3Cl)c2)CCSC(N)=N1',\n",
              " 'CCC(NCC1Cc2cccc(c2)CCCCc2cc(cc(N(C)S(C)(=O)=O)c2)C(=O)N1)C(=O)NCC(C)C',\n",
              " 'O=C(Nc1cc(-c2ccccc2)ccc1N1CCN(Cc2ccccc2)CC1)c1cccc2ccccc12',\n",
              " 'CN1C(=O)C(CCC2CCCCC2)(CC2CCCN(C(=O)OC(C)(C)C)C2)N=C1N',\n",
              " 'CC(NC(=O)c1cc(NC(=O)CCC(O)(CCc2ccccc2)C(=O)NC(C(=O)Nc2ccccc2)C(C)C)cc(N(C)S(C)(=O)=O)c1)c1ccccc1']"
            ]
          },
          "metadata": {},
          "execution_count": 8
        }
      ],
      "source": [
        "from drugex.data.processing import Standardization\n",
        "\n",
        "N_PROCESSES = 12 # number of CPU cores to use\n",
        "CHUNK_SIZE = 1000 # largest chunk per CPU core (regulates RAM usage)\n",
        "\n",
        "standardizer = Standardization(n_proc=N_PROCESSES, chunk_size=CHUNK_SIZE)\n",
        "smiles_train = standardizer.apply(smiles_train)\n",
        "smiles_train[0:10]"
      ]
    },
    {
      "cell_type": "markdown",
      "id": "42b8fab3-2920-48c7-8b1f-97206cfc3000",
      "metadata": {
        "id": "42b8fab3-2920-48c7-8b1f-97206cfc3000"
      },
      "source": [
        "We write the list of SMILES back into `smiles_train` because we will not need the original SMILES anymore and proceed to generate our training data sets. In this step, the so called 'corpus' data set is generated that is nothing more than the SMILES seperated into words/tokens according to the given vocabulary. You can check out the `ligand_corpus.tsv` for yourself and see there really is nothing too special about it. The code is a little verbose, but that comes mostly from the way the data is handled by parallel processes to take advantage of multiple CPUs:"
      ]
    },
    {
      "cell_type": "code",
      "execution_count": 9,
      "id": "d53cf8e2-0f67-4ff4-8147-fd53d8f9de42",
      "metadata": {
        "id": "d53cf8e2-0f67-4ff4-8147-fd53d8f9de42",
        "outputId": "8352f1fb-ac1e-4a23-811e-9bc1a16f7418",
        "colab": {
          "base_uri": "https://localhost:8080/",
          "height": 49,
          "referenced_widgets": [
            "c14a969775384d539c2d132b737eb3a2",
            "4a4da005f1604631b65dd515477a5410",
            "8173ff3588d34edba31b7461d9232fbb",
            "9fca53610351497b98d8133c6cd25ba4",
            "112b14303f344848a033407f99a329e2",
            "f2dc6d33a4b6441f9b505f7a4c425198",
            "95676f59f944415380e566271d25aaf9",
            "a54a6b36bda34eeabe2563b5c57b3697",
            "7558647a083a4b50b4827058c88f49b4",
            "c953e065f7804d6c81b938ef37887e73",
            "6d64de6efcdc4eafacb9579d570fd607"
          ]
        }
      },
      "outputs": [
        {
          "output_type": "display_data",
          "data": {
            "text/plain": [
              "SequenceCorpus (batch processing):   0%|          | 0/2 [00:00<?, ?it/s]"
            ],
            "application/vnd.jupyter.widget-view+json": {
              "version_major": 2,
              "version_minor": 0,
              "model_id": "c14a969775384d539c2d132b737eb3a2"
            }
          },
          "metadata": {}
        }
      ],
      "source": [
        "from drugex.data.processing import CorpusEncoder, RandomTrainTestSplitter\n",
        "from drugex.data.corpus.corpus import SequenceCorpus\n",
        "from drugex.data.datasets import SmilesDataSet\n",
        "from drugex.logs import logger\n",
        "logger.setLevel('ERROR')\n",
        "\n",
        "DATA_DIR = \"data/drugex/sets/\"\n",
        "os.makedirs(DATA_DIR, exist_ok=True)\n",
        "\n",
        "voc = VocSmiles.fromFile(\"data/drugex/models/pretrained/DrugEx_v2_PT_Papyrus05.5/Papyrus05.5_smiles_rnn_PT.vocab\")\n",
        "encoder = CorpusEncoder( # CorpusEcoder uses the supplied corpus class to encode tokens for the new data set\n",
        "    SequenceCorpus, # The corpus class implements how each SMILES string is divided into words by the vocabulary\n",
        "    {\n",
        "        # arguments of the SequenceCorpus\n",
        "        'vocabulary': voc, # used vocabulary\n",
        "        'update_voc': False, # if False, the vocabulary stays fixed (no new tokens are added to it)\n",
        "        'throw': True # compounds containing unknown tokens are thrown out of the resulting data set\n",
        "\n",
        "    },\n",
        "    n_proc=N_PROCESSES,\n",
        "    chunk_size=CHUNK_SIZE\n",
        ")\n",
        "\n",
        "data_collector = SmilesDataSet(os.path.join(DATA_DIR, 'ligand_corpus.tsv'), rewrite=True)\n",
        "encoder.apply(smiles_train, collector=data_collector)"
      ]
    },
    {
      "cell_type": "markdown",
      "id": "0269afd3-3c9c-456a-9756-cd4d20ca54a5",
      "metadata": {
        "id": "0269afd3-3c9c-456a-9756-cd4d20ca54a5"
      },
      "source": [
        "In this scenario, we will also compile a test/validation set of compounds. This will help us identify when the model starts to loose its ability to generate diverse and/or valid chemistry and begins overfitting on the training set. While we do want the generated structures to look like those in the training data, we also do not want them to be exactly the same. The validation set will serve as an indicator of such behaviour and the model will know to stop the training once the performance starts to deteriorate. \n",
        "\n",
        "In this case, we choose to select 10% (or a maximum of 10,000) compounds to the test set. We save the training and test set to separate files and we also save the vocabulary for safe keeping (we did not modify the original vocabulary in any way, but it is a good idea to save it anyway for future reference): "
      ]
    },
    {
      "cell_type": "code",
      "execution_count": 10,
      "id": "2777c52a-952d-432c-a560-ae030e56b9d8",
      "metadata": {
        "id": "2777c52a-952d-432c-a560-ae030e56b9d8"
      },
      "outputs": [],
      "source": [
        "splitter = RandomTrainTestSplitter(0.1, 1e4)\n",
        "train, test = splitter(data_collector.getData())\n",
        "for df, name in zip([train, test], ['train', 'test']):\n",
        "    df.to_csv(os.path.join(DATA_DIR, f'ligand_{name}.tsv'), header=True, index=False, sep='\\t')\n",
        "\n",
        "voc.toFile(os.path.join(DATA_DIR, 'ligand.vocab'))"
      ]
    },
    {
      "cell_type": "markdown",
      "id": "d180d008-2fbb-4ff4-b523-9a84a17be787",
      "metadata": {
        "id": "d180d008-2fbb-4ff4-b523-9a84a17be787"
      },
      "source": [
        "Now, we wrap our training and test set to `SmilesDataSet` instances so that we can generate data loaders for training:"
      ]
    },
    {
      "cell_type": "code",
      "execution_count": 11,
      "id": "947ff14c-478e-4505-b625-ce9b2fbc6e95",
      "metadata": {
        "id": "947ff14c-478e-4505-b625-ce9b2fbc6e95"
      },
      "outputs": [],
      "source": [
        "BATCH_SIZE = 256\n",
        "\n",
        "data_set_train = SmilesDataSet(os.path.join(DATA_DIR, 'ligand_train.tsv'), voc=voc)\n",
        "data_set_train.voc = voc\n",
        "train_loader = data_set_train.asDataLoader(batch_size=BATCH_SIZE)\n",
        "\n",
        "data_set_test = SmilesDataSet(os.path.join(DATA_DIR, 'ligand_test.tsv'), voc=voc)\n",
        "data_set_test.voc = voc\n",
        "valid_loader = data_set_test.asDataLoader(batch_size=BATCH_SIZE)"
      ]
    },
    {
      "cell_type": "markdown",
      "id": "40b70e56-c5da-4b44-9a3e-7d6f19410b6c",
      "metadata": {
        "id": "40b70e56-c5da-4b44-9a3e-7d6f19410b6c"
      },
      "source": [
        "Data loaders are a data structure used by [PyTorch](https://pytorch.org/) library for deep learning, which DrugEx uses to handle data and define models. They are responsible for batching the data so that it can be offloaded to the GPU for training because the whole data set would not be able to fit. In addition, batch size is an important hyperparameter in neural networks. The training does not proceed sample by sample, but rather the model processes each batch at a time and adjusts its parameters only after passing the whole batch through the network. This helps to save computational resources, but also affects the training process because it sometimes also has influence on how often and how significantly the model parameters are adjusted. Therefore, choosing the correct batch size is someting we might want play around with during training.\n",
        "\n",
        "Another term commonly used in the language of neural networks is an 'epoch'. It is simply one iteration of training during which the model goes through all the batches and, thus, the whole data set. It is usual after each epoch that we evaluate the performance of the model and decided if it needs further training or not. In this case, we setup our training as follows:"
      ]
    },
    {
      "cell_type": "code",
      "execution_count": 12,
      "id": "a7a7087d-110c-4a20-a29a-9ea911666150",
      "metadata": {
        "id": "a7a7087d-110c-4a20-a29a-9ea911666150"
      },
      "outputs": [],
      "source": [
        "from drugex.training.monitors import FileMonitor\n",
        "\n",
        "MODEL_DIR = \"data/drugex/models/finetuned/\"\n",
        "\n",
        "ft_path = os.path.join(MODEL_DIR, 'ligand_finetune')\n",
        "finetuned = RNN(voc, is_lstm=True, use_gpus=GPUS)\n",
        "finetuned.loadStatesFromFile(os.path.join(PT_MODEL_FOLDER, 'Papyrus05.5_smiles_rnn_PT.pkg'))\n",
        "monitor = FileMonitor(ft_path, verbose=True)\n",
        "finetuned.fit(train_loader, valid_loader, epochs=10, monitor=monitor)\n",
        "\n",
        "voc.toFile(os.path.join(MODEL_DIR, 'finetune.vocab'))"
      ]
    },
    {
      "cell_type": "markdown",
      "id": "b155ce93-fb78-4edd-85cd-25195f9f908c",
      "metadata": {
        "id": "b155ce93-fb78-4edd-85cd-25195f9f908c"
      },
      "source": [
        "Facilitating transfer learning in this case is easy. We load the pretrained model just like we did above, but instead of generting smiles with it, we call the `fit` method and supply the finetuning data loaders. We set the number of epochs to 10 in this case. Training should not take more than an hour in this case even on an older GPU. On an NVIDIA RTX 2070 this took only a few minutes.\n",
        "\n",
        "We also set up a training monitor (`FileMonitor`), which saves some improtant data during training. You will find these files in the `MODEL_DIR` directory with the `ligand_finetune` perfix. The following file saves the training and validation loss (`loss_train` and `loss-valid`, respectively). In simple terms, the losses indicate how well the model is able to capture the probability distribution of tokens in either the training set or the test set with the compounds it generates at each epoch. We also get information about the percentage of valid SMILES it produces (`valid_ratio`). There are also some empty values that are not relevant at the moment, but will come into play later. We can load the table as any other data file:"
      ]
    },
    {
      "cell_type": "code",
      "execution_count": 13,
      "id": "72d6f496-96ff-4df9-a43a-afce5f63164e",
      "metadata": {
        "id": "72d6f496-96ff-4df9-a43a-afce5f63164e",
        "outputId": "4bb54f58-7907-48e9-96b3-d2812c4fc8d4",
        "colab": {
          "base_uri": "https://localhost:8080/",
          "height": 206
        }
      },
      "outputs": [
        {
          "output_type": "execute_result",
          "data": {
            "text/plain": [
              "   epoch  loss_train  loss_valid  valid_ratio  unique_ratio  desire_ratio  \\\n",
              "0      1    0.155868    0.150594     0.967347           NaN           NaN   \n",
              "1      2    0.122961    0.142767     0.950413           NaN           NaN   \n",
              "2      3    0.115937    0.141217     0.942387           NaN           NaN   \n",
              "3      4    0.106255    0.141357     0.963115           NaN           NaN   \n",
              "4      5    0.102902    0.141914     0.966667           NaN           NaN   \n",
              "\n",
              "   mean_train_loss  \n",
              "0              NaN  \n",
              "1              NaN  \n",
              "2              NaN  \n",
              "3              NaN  \n",
              "4              NaN  "
            ],
            "text/html": [
              "\n",
              "  <div id=\"df-65415ea4-160e-4f81-8b9f-3edcec7a3d68\">\n",
              "    <div class=\"colab-df-container\">\n",
              "      <div>\n",
              "<style scoped>\n",
              "    .dataframe tbody tr th:only-of-type {\n",
              "        vertical-align: middle;\n",
              "    }\n",
              "\n",
              "    .dataframe tbody tr th {\n",
              "        vertical-align: top;\n",
              "    }\n",
              "\n",
              "    .dataframe thead th {\n",
              "        text-align: right;\n",
              "    }\n",
              "</style>\n",
              "<table border=\"1\" class=\"dataframe\">\n",
              "  <thead>\n",
              "    <tr style=\"text-align: right;\">\n",
              "      <th></th>\n",
              "      <th>epoch</th>\n",
              "      <th>loss_train</th>\n",
              "      <th>loss_valid</th>\n",
              "      <th>valid_ratio</th>\n",
              "      <th>unique_ratio</th>\n",
              "      <th>desire_ratio</th>\n",
              "      <th>mean_train_loss</th>\n",
              "    </tr>\n",
              "  </thead>\n",
              "  <tbody>\n",
              "    <tr>\n",
              "      <th>0</th>\n",
              "      <td>1</td>\n",
              "      <td>0.155868</td>\n",
              "      <td>0.150594</td>\n",
              "      <td>0.967347</td>\n",
              "      <td>NaN</td>\n",
              "      <td>NaN</td>\n",
              "      <td>NaN</td>\n",
              "    </tr>\n",
              "    <tr>\n",
              "      <th>1</th>\n",
              "      <td>2</td>\n",
              "      <td>0.122961</td>\n",
              "      <td>0.142767</td>\n",
              "      <td>0.950413</td>\n",
              "      <td>NaN</td>\n",
              "      <td>NaN</td>\n",
              "      <td>NaN</td>\n",
              "    </tr>\n",
              "    <tr>\n",
              "      <th>2</th>\n",
              "      <td>3</td>\n",
              "      <td>0.115937</td>\n",
              "      <td>0.141217</td>\n",
              "      <td>0.942387</td>\n",
              "      <td>NaN</td>\n",
              "      <td>NaN</td>\n",
              "      <td>NaN</td>\n",
              "    </tr>\n",
              "    <tr>\n",
              "      <th>3</th>\n",
              "      <td>4</td>\n",
              "      <td>0.106255</td>\n",
              "      <td>0.141357</td>\n",
              "      <td>0.963115</td>\n",
              "      <td>NaN</td>\n",
              "      <td>NaN</td>\n",
              "      <td>NaN</td>\n",
              "    </tr>\n",
              "    <tr>\n",
              "      <th>4</th>\n",
              "      <td>5</td>\n",
              "      <td>0.102902</td>\n",
              "      <td>0.141914</td>\n",
              "      <td>0.966667</td>\n",
              "      <td>NaN</td>\n",
              "      <td>NaN</td>\n",
              "      <td>NaN</td>\n",
              "    </tr>\n",
              "  </tbody>\n",
              "</table>\n",
              "</div>\n",
              "      <button class=\"colab-df-convert\" onclick=\"convertToInteractive('df-65415ea4-160e-4f81-8b9f-3edcec7a3d68')\"\n",
              "              title=\"Convert this dataframe to an interactive table.\"\n",
              "              style=\"display:none;\">\n",
              "        \n",
              "  <svg xmlns=\"http://www.w3.org/2000/svg\" height=\"24px\"viewBox=\"0 0 24 24\"\n",
              "       width=\"24px\">\n",
              "    <path d=\"M0 0h24v24H0V0z\" fill=\"none\"/>\n",
              "    <path d=\"M18.56 5.44l.94 2.06.94-2.06 2.06-.94-2.06-.94-.94-2.06-.94 2.06-2.06.94zm-11 1L8.5 8.5l.94-2.06 2.06-.94-2.06-.94L8.5 2.5l-.94 2.06-2.06.94zm10 10l.94 2.06.94-2.06 2.06-.94-2.06-.94-.94-2.06-.94 2.06-2.06.94z\"/><path d=\"M17.41 7.96l-1.37-1.37c-.4-.4-.92-.59-1.43-.59-.52 0-1.04.2-1.43.59L10.3 9.45l-7.72 7.72c-.78.78-.78 2.05 0 2.83L4 21.41c.39.39.9.59 1.41.59.51 0 1.02-.2 1.41-.59l7.78-7.78 2.81-2.81c.8-.78.8-2.07 0-2.86zM5.41 20L4 18.59l7.72-7.72 1.47 1.35L5.41 20z\"/>\n",
              "  </svg>\n",
              "      </button>\n",
              "      \n",
              "  <style>\n",
              "    .colab-df-container {\n",
              "      display:flex;\n",
              "      flex-wrap:wrap;\n",
              "      gap: 12px;\n",
              "    }\n",
              "\n",
              "    .colab-df-convert {\n",
              "      background-color: #E8F0FE;\n",
              "      border: none;\n",
              "      border-radius: 50%;\n",
              "      cursor: pointer;\n",
              "      display: none;\n",
              "      fill: #1967D2;\n",
              "      height: 32px;\n",
              "      padding: 0 0 0 0;\n",
              "      width: 32px;\n",
              "    }\n",
              "\n",
              "    .colab-df-convert:hover {\n",
              "      background-color: #E2EBFA;\n",
              "      box-shadow: 0px 1px 2px rgba(60, 64, 67, 0.3), 0px 1px 3px 1px rgba(60, 64, 67, 0.15);\n",
              "      fill: #174EA6;\n",
              "    }\n",
              "\n",
              "    [theme=dark] .colab-df-convert {\n",
              "      background-color: #3B4455;\n",
              "      fill: #D2E3FC;\n",
              "    }\n",
              "\n",
              "    [theme=dark] .colab-df-convert:hover {\n",
              "      background-color: #434B5C;\n",
              "      box-shadow: 0px 1px 3px 1px rgba(0, 0, 0, 0.15);\n",
              "      filter: drop-shadow(0px 1px 2px rgba(0, 0, 0, 0.3));\n",
              "      fill: #FFFFFF;\n",
              "    }\n",
              "  </style>\n",
              "\n",
              "      <script>\n",
              "        const buttonEl =\n",
              "          document.querySelector('#df-65415ea4-160e-4f81-8b9f-3edcec7a3d68 button.colab-df-convert');\n",
              "        buttonEl.style.display =\n",
              "          google.colab.kernel.accessAllowed ? 'block' : 'none';\n",
              "\n",
              "        async function convertToInteractive(key) {\n",
              "          const element = document.querySelector('#df-65415ea4-160e-4f81-8b9f-3edcec7a3d68');\n",
              "          const dataTable =\n",
              "            await google.colab.kernel.invokeFunction('convertToInteractive',\n",
              "                                                     [key], {});\n",
              "          if (!dataTable) return;\n",
              "\n",
              "          const docLinkHtml = 'Like what you see? Visit the ' +\n",
              "            '<a target=\"_blank\" href=https://colab.research.google.com/notebooks/data_table.ipynb>data table notebook</a>'\n",
              "            + ' to learn more about interactive tables.';\n",
              "          element.innerHTML = '';\n",
              "          dataTable['output_type'] = 'display_data';\n",
              "          await google.colab.output.renderOutput(dataTable, element);\n",
              "          const docLink = document.createElement('div');\n",
              "          docLink.innerHTML = docLinkHtml;\n",
              "          element.appendChild(docLink);\n",
              "        }\n",
              "      </script>\n",
              "    </div>\n",
              "  </div>\n",
              "  "
            ]
          },
          "metadata": {},
          "execution_count": 13
        }
      ],
      "source": [
        "df_info = pd.read_csv('data/drugex/models/finetuned/ligand_finetune_fit.tsv', sep='\\t')\n",
        "df_info.head()"
      ]
    },
    {
      "cell_type": "markdown",
      "id": "734b4fc8-4299-447b-a10a-a51310f42cec",
      "metadata": {
        "id": "734b4fc8-4299-447b-a10a-a51310f42cec"
      },
      "source": [
        "We can also plot everything quite easily:"
      ]
    },
    {
      "cell_type": "code",
      "execution_count": 14,
      "id": "d10ca1f3-4005-43be-b936-65c496c1984a",
      "metadata": {
        "id": "d10ca1f3-4005-43be-b936-65c496c1984a",
        "outputId": "3fde933e-854c-4887-e240-df0a7f10489a",
        "colab": {
          "base_uri": "https://localhost:8080/",
          "height": 282
        }
      },
      "outputs": [
        {
          "output_type": "execute_result",
          "data": {
            "text/plain": [
              "<matplotlib.axes._subplots.AxesSubplot at 0x7f46f2046290>"
            ]
          },
          "metadata": {},
          "execution_count": 14
        },
        {
          "output_type": "display_data",
          "data": {
            "text/plain": [
              "<Figure size 432x288 with 1 Axes>"
            ],
            "image/png": "[encoded data removed]"
          },
          "metadata": {
            "needs_background": "light"
          }
        }
      ],
      "source": [
        "df_info[['loss_train', 'loss_valid']].plot.line()"
      ]
    },
    {
      "cell_type": "markdown",
      "id": "b57b110d-10e9-478d-a3d0-48ef40c2a6f3",
      "metadata": {
        "id": "b57b110d-10e9-478d-a3d0-48ef40c2a6f3"
      },
      "source": [
        "We can see that while the training loss is going down during training the validation loss starts to dwindle and even increases slightly. This indicates that our model is starting to overfit the training set a little so we might want to think about tweaking the parameters a little bit here. However, it is OK for the purpose of our tutorial and as we will see, even such a short round of transfer learning had an effect on our model. We can show that by sampling another set of SMILES with this model and showing the chemical space plot:"
      ]
    },
    {
      "cell_type": "code",
      "execution_count": 15,
      "id": "cbcc5ce3-c56c-43d1-8b59-d77ad59622bf",
      "metadata": {
        "id": "cbcc5ce3-c56c-43d1-8b59-d77ad59622bf",
        "outputId": "4c55999a-675f-4701-e496-8c4fc866b0e1",
        "colab": {
          "base_uri": "https://localhost:8080/",
          "height": 960
        }
      },
      "outputs": [
        {
          "output_type": "stream",
          "name": "stderr",
          "text": [
            "/usr/local/lib/python3.7/dist-packages/sklearn/manifold/_t_sne.py:783: FutureWarning:\n",
            "\n",
            "The default initialization in TSNE will change from 'random' to 'pca' in 1.2.\n",
            "\n",
            "/usr/local/lib/python3.7/dist-packages/sklearn/manifold/_t_sne.py:793: FutureWarning:\n",
            "\n",
            "The default learning rate in TSNE will change from 200.0 to 'auto' in 1.2.\n",
            "\n"
          ]
        },
        {
          "output_type": "display_data",
          "data": {
            "text/plain": [
              "<IPython.core.display.Javascript object>"
            ],
            "application/javascript": [
              "(async (port, path, width, height, cache, element) => {\n",
              "    if (!google.colab.kernel.accessAllowed && !cache) {\n",
              "      return;\n",
              "    }\n",
              "    element.appendChild(document.createTextNode(''));\n",
              "    const url = await google.colab.kernel.proxyPort(port, {cache});\n",
              "    const iframe = document.createElement('iframe');\n",
              "    iframe.src = new URL(path, url).toString();\n",
              "    iframe.height = height;\n",
              "    iframe.width = width;\n",
              "    iframe.style.border = 0;\n",
              "    iframe.allow = [\n",
              "        'accelerometer',\n",
              "        'autoplay',\n",
              "        'camera',\n",
              "        'clipboard-read',\n",
              "        'clipboard-write',\n",
              "        'gyroscope',\n",
              "        'magnetometer',\n",
              "        'microphone',\n",
              "        'serial',\n",
              "        'usb',\n",
              "        'xr-spatial-tracking',\n",
              "    ].join('; ');\n",
              "    element.appendChild(iframe);\n",
              "  })(9393, \"/\", \"100%\", 800, false, window.element)"
            ]
          },
          "metadata": {}
        }
      ],
      "source": [
        "finetuned.loadStatesFromFile('data/drugex/models/finetuned/ligand_finetune.pkg')\n",
        "\n",
        "smiles_finetuned = sample_smiles(finetuned, 1000)\n",
        "\n",
        "dataset = DataSetSMILES(\"data/finetuned_sampled.tsv\", smiles=smiles_finetuned, use_existing=False)\n",
        "dataset.addDescriptors([MorganFP(radius=2, nBits=1024)], recalculate=False) \n",
        "\n",
        "plt = Plot(dataset, TSNE())\n",
        "plt.plot(\n",
        "    recalculate=False,\n",
        "    viewport_height=800,\n",
        "    port=9393\n",
        ")"
      ]
    },
    {
      "cell_type": "markdown",
      "id": "de68bdd1-a956-4516-9ea1-0d5f01cd106e",
      "metadata": {
        "id": "de68bdd1-a956-4516-9ea1-0d5f01cd106e"
      },
      "source": [
        "When we compare this chemical space to the space generated with the pretrained model above, it is clear that these compounds are differently distributed and if we take a look at the structures we might be able to spot some patterns commonly seen in adenosine receptor ligands, which means that the transfer learning did seem to work.\n",
        "\n",
        "\n",
        "\n",
        "\n",
        "### Optimizing Compound Properties with Reinforcement Learning\n",
        "\n",
        "We now successfully used transfer learning to create a model that can generate new molecules that resemble known data. That is very nice, but not often useful. Consider for example a case of a pharmaceutical company that is trying to develop a new drug, which has not been published or patented, yet. It is unlikely that with this model, we will be able to find completely new scaffolds. All it can do is copy and mimick known chemical space related to  BACE1. It also has no information about activity of the compounds. It just creates new molecule that look like the known ligands. But what if we could create a model that can generate structures that are more likely to be binders than nonbinders of the BACE? We will explain how to do exactly that in this chapter.\n",
        "\n",
        "Reinforcement learning is a well-known concept in machine learning and AI and can be used to train neural networks to successfully accomplish various tasks. The most famous example is [AlphaGo](https://en.wikipedia.org/wiki/AlphaGo), a machine learning model that was trained to successfully play the borad game Go, but there are also models that learned to [walk](https://arxiv.org/pdf/1812.11103.pdf), [play computer games](https://www.theverge.com/2018/8/6/17655086/dota2-openai-bots-professional-gaming-ai) or many [other things](https://rl-book.com/applications/). This is a simple schematic that illustrates the idea of reinforcement learning:\n",
        "\n",
        "![RL](https://upload.wikimedia.org/wikipedia/commons/1/1b/Reinforcement_learning_diagram.svg)\n",
        "\n",
        "Picture Credit: [WikiMedia Commons](https://commons.wikimedia.org/wiki/File:Reinforcement_learning_diagram.svg), Megajuice\n",
        "\n",
        "Regardless of whether the AI is learning to walk or generate molecules, the concept is the same. The model acts as an *agent* in the *environment*. The agent performs an *action* in the environment (i.e. generates a molecular structure). Based on the action, the agent then receives a *reward* from an *interpreter* (i.e. a QSAR model predicting activity on the BACE protein). The obtained reward can then be used to adjust the actions made by the agant, for example by changing it's *state* (i.e. the weights of the neural network). This loop is repeated until the agent learns to walk, play a game or generates molecules interesting for us. \n",
        "\n",
        "In this tutorial, we will teach our model (*agent*) to generate more active and synthetically accessible molecules. That means we will have two *observers* in our environment that will each give feedback to our models. This is called multi-objective optimization and reflects more the way we think about 'good molecules' in drug discovery. It is not always just perceived activity that is important, but other criteria like synthetic accessibility play an important role too.\n",
        "\n",
        "#### Observer 1 (The QSAR Model)\n",
        "\n",
        "Therefore, the first of our observers (or more often scoring functions) will be the QSAR model we trained previously. It will provide the *agent* with information about the likely activity agains BACE:"
      ]
    },
    {
      "cell_type": "code",
      "execution_count": 16,
      "id": "afb4fcec-3c90-4aa2-9bf2-9ad8f4600b05",
      "metadata": {
        "id": "afb4fcec-3c90-4aa2-9bf2-9ad8f4600b05",
        "outputId": "3a69c228-ba42-41c5-c76e-fdcec14f86aa",
        "colab": {
          "base_uri": "https://localhost:8080/"
        }
      },
      "outputs": [
        {
          "output_type": "execute_result",
          "data": {
            "text/plain": [
              "ExtraTreesClassifier(n_estimators=250)"
            ]
          },
          "metadata": {},
          "execution_count": 16
        }
      ],
      "source": [
        "import joblib\n",
        "\n",
        "model = joblib.load('data/qsar/models/BACE_CLS_ET_250.pickle')\n",
        "model"
      ]
    },
    {
      "cell_type": "markdown",
      "id": "4f5f5119-1936-485b-af49-99d60f215110",
      "metadata": {
        "id": "4f5f5119-1936-485b-af49-99d60f215110"
      },
      "source": [
        "In order to feed this model to our DrugEx agent, we need to wrap it in the `Scorer` interface:"
      ]
    },
    {
      "cell_type": "code",
      "execution_count": 17,
      "id": "0480612b-780e-4b7c-bd37-551d23e1c785",
      "metadata": {
        "id": "0480612b-780e-4b7c-bd37-551d23e1c785",
        "outputId": "b3ad388b-797d-42b6-c7b4-fb46efeabc9f",
        "colab": {
          "base_uri": "https://localhost:8080/"
        }
      },
      "outputs": [
        {
          "output_type": "execute_result",
          "data": {
            "text/plain": [
              "<__main__.ModelScorer at 0x7f46c3878fd0>"
            ]
          },
          "metadata": {},
          "execution_count": 17
        }
      ],
      "source": [
        "from drugex.training.interfaces import Scorer\n",
        "\n",
        "class ModelScorer(Scorer):\n",
        "    \n",
        "    def __init__(self, model, prefix, descriptor = MorganFP(radius=2, nBits=1024)):\n",
        "        super().__init__()\n",
        "        self.model = model\n",
        "        self.prefix = prefix\n",
        "        self.descriptor = descriptor\n",
        "    \n",
        "    def getScores(self, mols, frags=None):\n",
        "        X = pd.Series(mols).apply(lambda x : pd.Series(self.descriptor(x) if x else [0] * 1024))\n",
        "        preds = self.model.predict_proba(X)[::,1]\n",
        "        return preds\n",
        "    \n",
        "    def getKey(self):\n",
        "        return f\"{self.prefix}_MS\"\n",
        "\n",
        "\n",
        "\n",
        "scorer_model = ModelScorer(model, 'BACE_CLS')\n",
        "scorer_model"
      ]
    },
    {
      "cell_type": "markdown",
      "id": "7b29c1e8-61e4-4272-8f7c-221861cbd6f0",
      "metadata": {
        "id": "7b29c1e8-61e4-4272-8f7c-221861cbd6f0"
      },
      "source": [
        "A scorer is a simple Python class that needs to have the `getScores` and `getKey` methods. The `getScores` method is the most important one and is used to calculate scores (model predictions) for the generated molecules at each epoch of training. The `getKey` method just gives the scorer a unique name that will appear in the outputs and will be used by the model.\n",
        "\n",
        "We can illustrate how the scorer functions by feeding it our list of smiles from the finetuned model:"
      ]
    },
    {
      "cell_type": "code",
      "execution_count": 18,
      "id": "6be660b7-e310-4292-aa67-0dc335282eaa",
      "metadata": {
        "id": "6be660b7-e310-4292-aa67-0dc335282eaa",
        "outputId": "30893e0c-fdec-4827-f387-c4b37406c8d8",
        "colab": {
          "base_uri": "https://localhost:8080/"
        }
      },
      "outputs": [
        {
          "output_type": "stream",
          "name": "stderr",
          "text": [
            "/usr/local/lib/python3.7/dist-packages/sklearn/base.py:451: UserWarning:\n",
            "\n",
            "X does not have valid feature names, but ExtraTreesClassifier was fitted with feature names\n",
            "\n"
          ]
        },
        {
          "output_type": "execute_result",
          "data": {
            "text/plain": [
              "array([0.   , 0.44 , 0.597, 1.   , 1.   , 0.   , 0.   , 0.176, 0.077,\n",
              "       0.6  ])"
            ]
          },
          "metadata": {},
          "execution_count": 18
        }
      ],
      "source": [
        "predictions = scorer_model(smiles_finetuned)\n",
        "predictions[0:10]"
      ]
    },
    {
      "cell_type": "markdown",
      "id": "2d350504-8367-4397-a3b5-66370bf078b6",
      "metadata": {
        "id": "2d350504-8367-4397-a3b5-66370bf078b6"
      },
      "source": [
        "We can also calculate the percentage of molecules that would be classified as active at this point. It is just molecules for which the predicted value is more than 0.5:"
      ]
    },
    {
      "cell_type": "code",
      "execution_count": 19,
      "id": "323b5b75-817a-449c-b935-2e44297c6da7",
      "metadata": {
        "id": "323b5b75-817a-449c-b935-2e44297c6da7",
        "outputId": "e31e0244-bde0-4a22-9d83-805109c9569d",
        "colab": {
          "base_uri": "https://localhost:8080/"
        }
      },
      "outputs": [
        {
          "output_type": "execute_result",
          "data": {
            "text/plain": [
              "0.389"
            ]
          },
          "metadata": {},
          "execution_count": 19
        }
      ],
      "source": [
        "sum(predictions > 0.5) / len(predictions)"
      ]
    },
    {
      "cell_type": "markdown",
      "id": "aac135ee-4d36-488a-a64e-87dfa450739a",
      "metadata": {
        "id": "aac135ee-4d36-488a-a64e-87dfa450739a"
      },
      "source": [
        "Therefore, almost half of the generated molecules are perceived as likely binders by our model. Not bad for such a simple model. But let's see if we can further improve this ration with reinforcement learning.\n",
        "\n",
        "---\n",
        "*In the case of BACE 38.9% of the molecules are preceived as likely bindinders, which is a bit less than half. But still not bad for the simple model.*\n",
        "\n",
        "#### Observer 2 (Synthetic Accessibility Score)\n",
        "\n",
        "Our second observer in this experiment will be the [Synthetic Accessibility Score](https://jcheminf.biomedcentral.com/articles/10.1186/1758-2946-1-8) (SAScore). It has been around for a long time and is generally considered as a reasonable measure of how complex (hard to synthesize) a compound structure is. It is available in DrugEx and we can easily create this scoring function as follows:"
      ]
    },
    {
      "cell_type": "code",
      "execution_count": 20,
      "id": "e65447f5-82bb-44e9-8f30-e812ceb80f1e",
      "metadata": {
        "id": "e65447f5-82bb-44e9-8f30-e812ceb80f1e"
      },
      "outputs": [],
      "source": [
        "from drugex.training.scorers.properties import Property\n",
        "\n",
        "sascore = Property(\"SA\")"
      ]
    },
    {
      "cell_type": "markdown",
      "id": "e5eadc0e-76ca-4c39-91a2-a6682f9767da",
      "metadata": {
        "id": "e5eadc0e-76ca-4c39-91a2-a6682f9767da"
      },
      "source": [
        "#### Desirability Score Modifiers\n",
        "\n",
        "Because the scorers that we created above each work on a different scale, it might be a good idea to normalize them somehow and make them work on the same scale and express to the model what values of the scores are actually desirable and what are not. For example, we want the SAScore as low as possible while we want the score from the model as close to 1 as possible (have the most confidence in the prediction that the generated compounds are active). This where the desirability modifier comes in. It helps us to keep things on one scale while telling the model what distribution of scores is good for us.\n",
        "\n",
        "For the QSAR model, we will choose the `ClippedScore` modifier:"
      ]
    },
    {
      "cell_type": "code",
      "execution_count": 21,
      "id": "d3141815-f27e-470e-89d9-31754dc2577a",
      "metadata": {
        "id": "d3141815-f27e-470e-89d9-31754dc2577a"
      },
      "outputs": [],
      "source": [
        "\n",
        "from drugex.training.scorers.modifiers import ClippedScore\n",
        "\n",
        "scorer_model.setModifier(ClippedScore(lower_x=0.2, upper_x=0.8))"
      ]
    },
    {
      "cell_type": "markdown",
      "id": "91e51f22-b27e-4e63-a941-294af282acae",
      "metadata": {
        "id": "91e51f22-b27e-4e63-a941-294af282acae"
      },
      "source": [
        "With this modifier we are telling the agent that molecules with scores that are less than 0.2 are no good for us while scores of more than 0.8 are good with some linear progressin in between. We can easily visualize the modifier with the following code:"
      ]
    },
    {
      "cell_type": "code",
      "execution_count": 22,
      "id": "0e345109-fc3a-482e-9176-0fca6c13da42",
      "metadata": {
        "id": "0e345109-fc3a-482e-9176-0fca6c13da42",
        "outputId": "838aa374-8df3-4553-bcb7-10734da5f772",
        "colab": {
          "base_uri": "https://localhost:8080/",
          "height": 296
        }
      },
      "outputs": [
        {
          "output_type": "execute_result",
          "data": {
            "text/plain": [
              "<matplotlib.axes._subplots.AxesSubplot at 0x7f46c372c1d0>"
            ]
          },
          "metadata": {},
          "execution_count": 22
        },
        {
          "output_type": "display_data",
          "data": {
            "text/plain": [
              "<Figure size 432x288 with 1 Axes>"
            ],
            "image/png": "[encoded data removed]"
          },
          "metadata": {
            "needs_background": "light"
          }
        }
      ],
      "source": [
        "import numpy as np\n",
        "\n",
        "def depict_modifier(modifier, start=0, end=1, step=0.01, name = 'Clipped Score'):\n",
        "    vals = np.arange(start,end, step)\n",
        "    scores = [(x, modifier(x)) for x in vals] # get the A1R modifier for inactivity (the lower the activity, the higher the reward)\n",
        "    scores = pd.DataFrame(scores, columns=['Score', name])\n",
        "    return scores.plot.scatter(x = 'Score', y = name)\n",
        "\n",
        "depict_modifier(scorer_model.getModifier())"
      ]
    },
    {
      "cell_type": "markdown",
      "id": "6eb4cbca-a1d6-4aa0-8942-3ed527be9b3a",
      "metadata": {
        "id": "6eb4cbca-a1d6-4aa0-8942-3ed527be9b3a"
      },
      "source": [
        "As we can see the agent will be told to stay away from molecules of scores lower then 0.2 and move towards molecules of at least score 0.8. The reason for the linear progression in between is there so that the model can evaluate whether one molecule is better than the other, but not generally desired.\n",
        "\n",
        "For the SAScore we will opt for the smoothed out variant of clipped score, `SmoothClippedScore`:"
      ]
    },
    {
      "cell_type": "code",
      "execution_count": 23,
      "id": "96d2468d-f3a6-45d4-897a-108e0c7918b5",
      "metadata": {
        "id": "96d2468d-f3a6-45d4-897a-108e0c7918b5"
      },
      "outputs": [],
      "source": [
        "\n",
        "from drugex.training.scorers.modifiers import SmoothClippedScore\n",
        "\n",
        "sascore.setModifier(SmoothClippedScore(lower_x=5, upper_x=3))"
      ]
    },
    {
      "cell_type": "markdown",
      "id": "e48842df-d2cc-4ad0-9134-aed692de1c9a",
      "metadata": {
        "id": "e48842df-d2cc-4ad0-9134-aed692de1c9a"
      },
      "source": [
        "This funtion looks as follows:"
      ]
    },
    {
      "cell_type": "code",
      "execution_count": 24,
      "id": "e33afe7a-49cc-444c-9ce4-098bf3fce28f",
      "metadata": {
        "id": "e33afe7a-49cc-444c-9ce4-098bf3fce28f",
        "outputId": "4fd5144e-6ae5-4997-919b-7189db73646d",
        "colab": {
          "base_uri": "https://localhost:8080/",
          "height": 296
        }
      },
      "outputs": [
        {
          "output_type": "execute_result",
          "data": {
            "text/plain": [
              "<matplotlib.axes._subplots.AxesSubplot at 0x7f46bbb25050>"
            ]
          },
          "metadata": {},
          "execution_count": 24
        },
        {
          "output_type": "display_data",
          "data": {
            "text/plain": [
              "<Figure size 432x288 with 1 Axes>"
            ],
            "image/png": "[encoded data removed]"
          },
          "metadata": {
            "needs_background": "light"
          }
        }
      ],
      "source": [
        "depict_modifier(sascore.getModifier(), 0, 10, 0.1, 'Clipped Score - Smooth')"
      ]
    },
    {
      "cell_type": "markdown",
      "id": "d7427aca-d783-4878-88d4-c0be85a12bad",
      "metadata": {
        "id": "d7427aca-d783-4878-88d4-c0be85a12bad"
      },
      "source": [
        "In general, molecules with SAScore higher than 6 are considered quite complex, but can still be present in data sets so we give the distribution a more gradual decrease with a longer right tail. We will also never achieve the perfect SAScore of 1, but that is OK as long as we tell the model we want the score as close to one as possible.\n",
        "\n",
        "#### The Environment\n",
        "\n",
        "The last thing we have to do is to create the environment and to specify desirability thresholds for our scoring functions. We also need to apply a suitable multi-objective reward scheme:"
      ]
    },
    {
      "cell_type": "code",
      "execution_count": 25,
      "id": "10bb41b5-3337-45ec-88c3-e61e6943f727",
      "metadata": {
        "id": "10bb41b5-3337-45ec-88c3-e61e6943f727"
      },
      "outputs": [],
      "source": [
        "from drugex.training.environment import DrugExEnvironment\n",
        "from drugex.training.rewards import ParetoCrowdingDistance\n",
        "\n",
        "scorers = [\n",
        "    scorer_model,\n",
        "    sascore\n",
        "]\n",
        "thresholds = [\n",
        "    0.5,\n",
        "    0.1\n",
        "]\n",
        "\n",
        "environment = DrugExEnvironment(scorers, thresholds, reward_scheme=ParetoCrowdingDistance())"
      ]
    },
    {
      "cell_type": "markdown",
      "id": "93aa23e1-fd55-457d-8e83-891e6be15595",
      "metadata": {
        "id": "93aa23e1-fd55-457d-8e83-891e6be15595"
      },
      "source": [
        "The thresholds can play some role in some reward schemes (i.e. `WeightedSum`), but in this case they will just be used to deem whether a molecule is desirable or not. We can show what that means if we get the scores for our previously generated compounds with the environment: "
      ]
    },
    {
      "cell_type": "code",
      "execution_count": 26,
      "id": "78cd2a11-04bf-4473-a1d0-f9bc5dd0ca76",
      "metadata": {
        "id": "78cd2a11-04bf-4473-a1d0-f9bc5dd0ca76",
        "outputId": "ee86c91b-eda5-44b7-9aaf-e206a09fe2e4",
        "colab": {
          "base_uri": "https://localhost:8080/",
          "height": 493
        }
      },
      "outputs": [
        {
          "output_type": "stream",
          "name": "stderr",
          "text": [
            "/usr/local/lib/python3.7/dist-packages/sklearn/base.py:451: UserWarning:\n",
            "\n",
            "X does not have valid feature names, but ExtraTreesClassifier was fitted with feature names\n",
            "\n"
          ]
        },
        {
          "output_type": "execute_result",
          "data": {
            "text/plain": [
              "     BACE_CLS_MS        SA  DESIRE  VALID\n",
              "0       0.000000  0.494482       0      1\n",
              "1       0.400000  0.921532       0      1\n",
              "2       0.661667  0.958325       1      1\n",
              "3       1.000000  0.646709       1      1\n",
              "4       1.000000  0.795966       1      1\n",
              "..           ...       ...     ...    ...\n",
              "995     0.000000  0.600751       0      1\n",
              "996     0.060000  0.970428       0      1\n",
              "997     0.920000  0.176793       1      1\n",
              "998     0.733333  0.240713       1      1\n",
              "999     1.000000  0.813219       1      1\n",
              "\n",
              "[1000 rows x 4 columns]"
            ],
            "text/html": [
              "\n",
              "  <div id=\"df-09564c68-5262-4cb4-ad33-053a2c7cf412\">\n",
              "    <div class=\"colab-df-container\">\n",
              "      <div>\n",
              "<style scoped>\n",
              "    .dataframe tbody tr th:only-of-type {\n",
              "        vertical-align: middle;\n",
              "    }\n",
              "\n",
              "    .dataframe tbody tr th {\n",
              "        vertical-align: top;\n",
              "    }\n",
              "\n",
              "    .dataframe thead th {\n",
              "        text-align: right;\n",
              "    }\n",
              "</style>\n",
              "<table border=\"1\" class=\"dataframe\">\n",
              "  <thead>\n",
              "    <tr style=\"text-align: right;\">\n",
              "      <th></th>\n",
              "      <th>BACE_CLS_MS</th>\n",
              "      <th>SA</th>\n",
              "      <th>DESIRE</th>\n",
              "      <th>VALID</th>\n",
              "    </tr>\n",
              "  </thead>\n",
              "  <tbody>\n",
              "    <tr>\n",
              "      <th>0</th>\n",
              "      <td>0.000000</td>\n",
              "      <td>0.494482</td>\n",
              "      <td>0</td>\n",
              "      <td>1</td>\n",
              "    </tr>\n",
              "    <tr>\n",
              "      <th>1</th>\n",
              "      <td>0.400000</td>\n",
              "      <td>0.921532</td>\n",
              "      <td>0</td>\n",
              "      <td>1</td>\n",
              "    </tr>\n",
              "    <tr>\n",
              "      <th>2</th>\n",
              "      <td>0.661667</td>\n",
              "      <td>0.958325</td>\n",
              "      <td>1</td>\n",
              "      <td>1</td>\n",
              "    </tr>\n",
              "    <tr>\n",
              "      <th>3</th>\n",
              "      <td>1.000000</td>\n",
              "      <td>0.646709</td>\n",
              "      <td>1</td>\n",
              "      <td>1</td>\n",
              "    </tr>\n",
              "    <tr>\n",
              "      <th>4</th>\n",
              "      <td>1.000000</td>\n",
              "      <td>0.795966</td>\n",
              "      <td>1</td>\n",
              "      <td>1</td>\n",
              "    </tr>\n",
              "    <tr>\n",
              "      <th>...</th>\n",
              "      <td>...</td>\n",
              "      <td>...</td>\n",
              "      <td>...</td>\n",
              "      <td>...</td>\n",
              "    </tr>\n",
              "    <tr>\n",
              "      <th>995</th>\n",
              "      <td>0.000000</td>\n",
              "      <td>0.600751</td>\n",
              "      <td>0</td>\n",
              "      <td>1</td>\n",
              "    </tr>\n",
              "    <tr>\n",
              "      <th>996</th>\n",
              "      <td>0.060000</td>\n",
              "      <td>0.970428</td>\n",
              "      <td>0</td>\n",
              "      <td>1</td>\n",
              "    </tr>\n",
              "    <tr>\n",
              "      <th>997</th>\n",
              "      <td>0.920000</td>\n",
              "      <td>0.176793</td>\n",
              "      <td>1</td>\n",
              "      <td>1</td>\n",
              "    </tr>\n",
              "    <tr>\n",
              "      <th>998</th>\n",
              "      <td>0.733333</td>\n",
              "      <td>0.240713</td>\n",
              "      <td>1</td>\n",
              "      <td>1</td>\n",
              "    </tr>\n",
              "    <tr>\n",
              "      <th>999</th>\n",
              "      <td>1.000000</td>\n",
              "      <td>0.813219</td>\n",
              "      <td>1</td>\n",
              "      <td>1</td>\n",
              "    </tr>\n",
              "  </tbody>\n",
              "</table>\n",
              "<p>1000 rows × 4 columns</p>\n",
              "</div>\n",
              "      <button class=\"colab-df-convert\" onclick=\"convertToInteractive('df-09564c68-5262-4cb4-ad33-053a2c7cf412')\"\n",
              "              title=\"Convert this dataframe to an interactive table.\"\n",
              "              style=\"display:none;\">\n",
              "        \n",
              "  <svg xmlns=\"http://www.w3.org/2000/svg\" height=\"24px\"viewBox=\"0 0 24 24\"\n",
              "       width=\"24px\">\n",
              "    <path d=\"M0 0h24v24H0V0z\" fill=\"none\"/>\n",
              "    <path d=\"M18.56 5.44l.94 2.06.94-2.06 2.06-.94-2.06-.94-.94-2.06-.94 2.06-2.06.94zm-11 1L8.5 8.5l.94-2.06 2.06-.94-2.06-.94L8.5 2.5l-.94 2.06-2.06.94zm10 10l.94 2.06.94-2.06 2.06-.94-2.06-.94-.94-2.06-.94 2.06-2.06.94z\"/><path d=\"M17.41 7.96l-1.37-1.37c-.4-.4-.92-.59-1.43-.59-.52 0-1.04.2-1.43.59L10.3 9.45l-7.72 7.72c-.78.78-.78 2.05 0 2.83L4 21.41c.39.39.9.59 1.41.59.51 0 1.02-.2 1.41-.59l7.78-7.78 2.81-2.81c.8-.78.8-2.07 0-2.86zM5.41 20L4 18.59l7.72-7.72 1.47 1.35L5.41 20z\"/>\n",
              "  </svg>\n",
              "      </button>\n",
              "      \n",
              "  <style>\n",
              "    .colab-df-container {\n",
              "      display:flex;\n",
              "      flex-wrap:wrap;\n",
              "      gap: 12px;\n",
              "    }\n",
              "\n",
              "    .colab-df-convert {\n",
              "      background-color: #E8F0FE;\n",
              "      border: none;\n",
              "      border-radius: 50%;\n",
              "      cursor: pointer;\n",
              "      display: none;\n",
              "      fill: #1967D2;\n",
              "      height: 32px;\n",
              "      padding: 0 0 0 0;\n",
              "      width: 32px;\n",
              "    }\n",
              "\n",
              "    .colab-df-convert:hover {\n",
              "      background-color: #E2EBFA;\n",
              "      box-shadow: 0px 1px 2px rgba(60, 64, 67, 0.3), 0px 1px 3px 1px rgba(60, 64, 67, 0.15);\n",
              "      fill: #174EA6;\n",
              "    }\n",
              "\n",
              "    [theme=dark] .colab-df-convert {\n",
              "      background-color: #3B4455;\n",
              "      fill: #D2E3FC;\n",
              "    }\n",
              "\n",
              "    [theme=dark] .colab-df-convert:hover {\n",
              "      background-color: #434B5C;\n",
              "      box-shadow: 0px 1px 3px 1px rgba(0, 0, 0, 0.15);\n",
              "      filter: drop-shadow(0px 1px 2px rgba(0, 0, 0, 0.3));\n",
              "      fill: #FFFFFF;\n",
              "    }\n",
              "  </style>\n",
              "\n",
              "      <script>\n",
              "        const buttonEl =\n",
              "          document.querySelector('#df-09564c68-5262-4cb4-ad33-053a2c7cf412 button.colab-df-convert');\n",
              "        buttonEl.style.display =\n",
              "          google.colab.kernel.accessAllowed ? 'block' : 'none';\n",
              "\n",
              "        async function convertToInteractive(key) {\n",
              "          const element = document.querySelector('#df-09564c68-5262-4cb4-ad33-053a2c7cf412');\n",
              "          const dataTable =\n",
              "            await google.colab.kernel.invokeFunction('convertToInteractive',\n",
              "                                                     [key], {});\n",
              "          if (!dataTable) return;\n",
              "\n",
              "          const docLinkHtml = 'Like what you see? Visit the ' +\n",
              "            '<a target=\"_blank\" href=https://colab.research.google.com/notebooks/data_table.ipynb>data table notebook</a>'\n",
              "            + ' to learn more about interactive tables.';\n",
              "          element.innerHTML = '';\n",
              "          dataTable['output_type'] = 'display_data';\n",
              "          await google.colab.output.renderOutput(dataTable, element);\n",
              "          const docLink = document.createElement('div');\n",
              "          docLink.innerHTML = docLinkHtml;\n",
              "          element.appendChild(docLink);\n",
              "        }\n",
              "      </script>\n",
              "    </div>\n",
              "  </div>\n",
              "  "
            ]
          },
          "metadata": {},
          "execution_count": 26
        }
      ],
      "source": [
        "scores = environment.getScores(smiles_finetuned)\n",
        "scores"
      ]
    },
    {
      "cell_type": "markdown",
      "id": "bc21bb0d-ba7a-446e-86d8-a498b160f024",
      "metadata": {
        "id": "bc21bb0d-ba7a-446e-86d8-a498b160f024"
      },
      "source": [
        "The `DESIRE` column shows a 1 for all molecules that satisfy the desirability thresholds for all objectives (SAScore higher than 0.1 and the predicted active probability from QSAE of more than 0.5). Note that the thresholds relate to the modified scores and not the original values.\n",
        "\n",
        "We can now calculate how many desirable compounds there are in this initial set:"
      ]
    },
    {
      "cell_type": "code",
      "execution_count": 27,
      "id": "d1d704d0-1f29-4d13-8c7f-608d5df3276d",
      "metadata": {
        "id": "d1d704d0-1f29-4d13-8c7f-608d5df3276d",
        "outputId": "f393da13-1100-46a0-a6d2-6ca41eb8ff11",
        "colab": {
          "base_uri": "https://localhost:8080/"
        }
      },
      "outputs": [
        {
          "output_type": "execute_result",
          "data": {
            "text/plain": [
              "0.383"
            ]
          },
          "metadata": {},
          "execution_count": 27
        }
      ],
      "source": [
        "sum(scores[\"DESIRE\"]) / len(scores)"
      ]
    },
    {
      "cell_type": "markdown",
      "id": "24ab0d11-fc02-45b0-b3b2-be9bba4bef40",
      "metadata": {
        "id": "24ab0d11-fc02-45b0-b3b2-be9bba4bef40"
      },
      "source": [
        "We can also analyze the distribution of the score for each objective:"
      ]
    },
    {
      "cell_type": "code",
      "execution_count": 28,
      "id": "ee583960-ff07-4be0-af08-c4072c167be4",
      "metadata": {
        "id": "ee583960-ff07-4be0-af08-c4072c167be4",
        "outputId": "7039c5c0-1a34-4e4a-af40-817a005222fa",
        "colab": {
          "base_uri": "https://localhost:8080/",
          "height": 282
        }
      },
      "outputs": [
        {
          "output_type": "execute_result",
          "data": {
            "text/plain": [
              "<matplotlib.axes._subplots.AxesSubplot at 0x7f46c2524590>"
            ]
          },
          "metadata": {},
          "execution_count": 28
        },
        {
          "output_type": "display_data",
          "data": {
            "text/plain": [
              "<Figure size 432x288 with 1 Axes>"
            ],
            "image/png": "[encoded data removed]"
          },
          "metadata": {
            "needs_background": "light"
          }
        }
      ],
      "source": [
        "scores.BACE_CLS_MS.hist()"
      ]
    },
    {
      "cell_type": "code",
      "execution_count": 29,
      "id": "1849d53c-b824-4c4d-a368-f4bffe834ed9",
      "metadata": {
        "id": "1849d53c-b824-4c4d-a368-f4bffe834ed9",
        "outputId": "4eb0a970-d159-41fa-baf1-d4cebd3a385d",
        "colab": {
          "base_uri": "https://localhost:8080/",
          "height": 282
        }
      },
      "outputs": [
        {
          "output_type": "execute_result",
          "data": {
            "text/plain": [
              "<matplotlib.axes._subplots.AxesSubplot at 0x7f46c389f150>"
            ]
          },
          "metadata": {},
          "execution_count": 29
        },
        {
          "output_type": "display_data",
          "data": {
            "text/plain": [
              "<Figure size 432x288 with 1 Axes>"
            ],
            "image/png": "[encoded data removed]"
          },
          "metadata": {
            "needs_background": "light"
          }
        }
      ],
      "source": [
        "scores.SA.hist()"
      ]
    },
    {
      "cell_type": "markdown",
      "id": "1b60e537-b361-40dc-8eec-6d2b95877520",
      "metadata": {
        "id": "1b60e537-b361-40dc-8eec-6d2b95877520"
      },
      "source": [
        "We can see that this is not bad for just an initial model, but we can surely do better, especially when it comes to biological activity predictions. Let's see if we can manage that with reinforcement learning. For the RNN model, the reinforcement learning framework is implemented with the `SmilesExplorerNoFrag` class:"
      ]
    },
    {
      "cell_type": "code",
      "execution_count": 30,
      "id": "784f031e-2d82-418e-97a8-73e4de4a7c17",
      "metadata": {
        "id": "784f031e-2d82-418e-97a8-73e4de4a7c17"
      },
      "outputs": [],
      "source": [
        "from drugex.training.models.explorer import SmilesExplorerNoFrag\n",
        "import warnings\n",
        "warnings.filterwarnings('ignore')\n",
        "\n",
        "pretrained = RNN(voc, is_lstm=True, use_gpus=GPUS)\n",
        "pretrained.loadStatesFromFile('data/drugex/models/pretrained/DrugEx_v2_PT_Papyrus05.5/Papyrus05.5_smiles_rnn_PT.pkg')\n",
        "\n",
        "finetuned = RNN(voc, is_lstm=True, use_gpus=GPUS)\n",
        "finetuned.loadStatesFromFile('data/drugex/models/finetuned/ligand_finetune.pkg')\n",
        "\n",
        "explorer = SmilesExplorerNoFrag(\n",
        "    agent = finetuned,\n",
        "    env = environment,\n",
        "    mutate = pretrained, # network introducing mutations to the generated structures (rate determined by epsilon)\n",
        "    epsilon = 0.01,\n",
        "    use_gpus = GPUS\n",
        ")"
      ]
    },
    {
      "cell_type": "markdown",
      "id": "34cd5576-1d47-4b33-92e9-a9d1fd1e1e2a",
      "metadata": {
        "id": "34cd5576-1d47-4b33-92e9-a9d1fd1e1e2a"
      },
      "source": [
        "There are quite a few things we can tweak about the explorer here and the way it approaches reinforcement learning. We could for example choose the pretrained network to be the agent instead of the finetuned network. Doing that could help us find more novel structures that are also active. When using the finetuned model as the agent, the structures will be more similar to known ligands. In our current scenario, we are also using a rather low exploration parameter (`epsilon`), which is another way to influence the diversity of the generated compounds. The higher the `epsilon`, the larger the influence of the mutations introduced by the pretrained model, which adds more randomness to our structures. In short, there is a lot of space for experimentation and you can read more information in the [original paper](https://doi.org/10.1186/s13321-019-0355-6). In this particular case, we just chose the easiest setup for the algorithm so that it converges more easily and we can train it faster, but at the expense of more diverse exploration of chemical space.\n",
        "\n",
        "With that said, let's get to training. Thanks to this simplified setup, 30 epochs should be enough for us to already see a result:"
      ]
    },
    {
      "cell_type": "code",
      "execution_count": 31,
      "id": "6fc9604d-9979-477c-bef7-9d7ccba7376a",
      "metadata": {
        "id": "6fc9604d-9979-477c-bef7-9d7ccba7376a"
      },
      "outputs": [],
      "source": [
        "monitor = FileMonitor(os.path.join(MODEL_DIR, 'ligand_agent_rl'), verbose=True)\n",
        "explorer.fit(train_loader, valid_loader, monitor=monitor, epochs=30)"
      ]
    },
    {
      "cell_type": "markdown",
      "id": "f1796692-07ec-4003-8409-a384c5ffb4fb",
      "metadata": {
        "id": "f1796692-07ec-4003-8409-a384c5ffb4fb"
      },
      "source": [
        "Again, we can observer the evolution of certain parameters during training. Most improtantly the validity of the generated structures and the training loss:"
      ]
    },
    {
      "cell_type": "code",
      "execution_count": 32,
      "id": "10961ed4-d2f4-4132-b3ff-d5317ee57026",
      "metadata": {
        "id": "10961ed4-d2f4-4132-b3ff-d5317ee57026",
        "outputId": "0aed0e98-4abf-46d8-d661-4aad282aab67",
        "colab": {
          "base_uri": "https://localhost:8080/",
          "height": 206
        }
      },
      "outputs": [
        {
          "output_type": "execute_result",
          "data": {
            "text/plain": [
              "   epoch  loss_train  loss_valid  valid_ratio  unique_ratio  desire_ratio  \\\n",
              "0      1         NaN         NaN     0.843750           NaN      0.531250   \n",
              "1      2         NaN         NaN     0.898438           NaN      0.554688   \n",
              "2      3         NaN         NaN     0.875000           NaN      0.476562   \n",
              "3      4         NaN         NaN     0.929688           NaN      0.546875   \n",
              "4      5         NaN         NaN     0.929688           NaN      0.625000   \n",
              "\n",
              "   mean_train_loss  \n",
              "0        -1.042328  \n",
              "1        -0.092978  \n",
              "2        -0.090743  \n",
              "3        -0.085932  \n",
              "4        -0.084645  "
            ],
            "text/html": [
              "\n",
              "  <div id=\"df-73983e53-36c6-49ed-b0ed-21e181f0710f\">\n",
              "    <div class=\"colab-df-container\">\n",
              "      <div>\n",
              "<style scoped>\n",
              "    .dataframe tbody tr th:only-of-type {\n",
              "        vertical-align: middle;\n",
              "    }\n",
              "\n",
              "    .dataframe tbody tr th {\n",
              "        vertical-align: top;\n",
              "    }\n",
              "\n",
              "    .dataframe thead th {\n",
              "        text-align: right;\n",
              "    }\n",
              "</style>\n",
              "<table border=\"1\" class=\"dataframe\">\n",
              "  <thead>\n",
              "    <tr style=\"text-align: right;\">\n",
              "      <th></th>\n",
              "      <th>epoch</th>\n",
              "      <th>loss_train</th>\n",
              "      <th>loss_valid</th>\n",
              "      <th>valid_ratio</th>\n",
              "      <th>unique_ratio</th>\n",
              "      <th>desire_ratio</th>\n",
              "      <th>mean_train_loss</th>\n",
              "    </tr>\n",
              "  </thead>\n",
              "  <tbody>\n",
              "    <tr>\n",
              "      <th>0</th>\n",
              "      <td>1</td>\n",
              "      <td>NaN</td>\n",
              "      <td>NaN</td>\n",
              "      <td>0.843750</td>\n",
              "      <td>NaN</td>\n",
              "      <td>0.531250</td>\n",
              "      <td>-1.042328</td>\n",
              "    </tr>\n",
              "    <tr>\n",
              "      <th>1</th>\n",
              "      <td>2</td>\n",
              "      <td>NaN</td>\n",
              "      <td>NaN</td>\n",
              "      <td>0.898438</td>\n",
              "      <td>NaN</td>\n",
              "      <td>0.554688</td>\n",
              "      <td>-0.092978</td>\n",
              "    </tr>\n",
              "    <tr>\n",
              "      <th>2</th>\n",
              "      <td>3</td>\n",
              "      <td>NaN</td>\n",
              "      <td>NaN</td>\n",
              "      <td>0.875000</td>\n",
              "      <td>NaN</td>\n",
              "      <td>0.476562</td>\n",
              "      <td>-0.090743</td>\n",
              "    </tr>\n",
              "    <tr>\n",
              "      <th>3</th>\n",
              "      <td>4</td>\n",
              "      <td>NaN</td>\n",
              "      <td>NaN</td>\n",
              "      <td>0.929688</td>\n",
              "      <td>NaN</td>\n",
              "      <td>0.546875</td>\n",
              "      <td>-0.085932</td>\n",
              "    </tr>\n",
              "    <tr>\n",
              "      <th>4</th>\n",
              "      <td>5</td>\n",
              "      <td>NaN</td>\n",
              "      <td>NaN</td>\n",
              "      <td>0.929688</td>\n",
              "      <td>NaN</td>\n",
              "      <td>0.625000</td>\n",
              "      <td>-0.084645</td>\n",
              "    </tr>\n",
              "  </tbody>\n",
              "</table>\n",
              "</div>\n",
              "      <button class=\"colab-df-convert\" onclick=\"convertToInteractive('df-73983e53-36c6-49ed-b0ed-21e181f0710f')\"\n",
              "              title=\"Convert this dataframe to an interactive table.\"\n",
              "              style=\"display:none;\">\n",
              "        \n",
              "  <svg xmlns=\"http://www.w3.org/2000/svg\" height=\"24px\"viewBox=\"0 0 24 24\"\n",
              "       width=\"24px\">\n",
              "    <path d=\"M0 0h24v24H0V0z\" fill=\"none\"/>\n",
              "    <path d=\"M18.56 5.44l.94 2.06.94-2.06 2.06-.94-2.06-.94-.94-2.06-.94 2.06-2.06.94zm-11 1L8.5 8.5l.94-2.06 2.06-.94-2.06-.94L8.5 2.5l-.94 2.06-2.06.94zm10 10l.94 2.06.94-2.06 2.06-.94-2.06-.94-.94-2.06-.94 2.06-2.06.94z\"/><path d=\"M17.41 7.96l-1.37-1.37c-.4-.4-.92-.59-1.43-.59-.52 0-1.04.2-1.43.59L10.3 9.45l-7.72 7.72c-.78.78-.78 2.05 0 2.83L4 21.41c.39.39.9.59 1.41.59.51 0 1.02-.2 1.41-.59l7.78-7.78 2.81-2.81c.8-.78.8-2.07 0-2.86zM5.41 20L4 18.59l7.72-7.72 1.47 1.35L5.41 20z\"/>\n",
              "  </svg>\n",
              "      </button>\n",
              "      \n",
              "  <style>\n",
              "    .colab-df-container {\n",
              "      display:flex;\n",
              "      flex-wrap:wrap;\n",
              "      gap: 12px;\n",
              "    }\n",
              "\n",
              "    .colab-df-convert {\n",
              "      background-color: #E8F0FE;\n",
              "      border: none;\n",
              "      border-radius: 50%;\n",
              "      cursor: pointer;\n",
              "      display: none;\n",
              "      fill: #1967D2;\n",
              "      height: 32px;\n",
              "      padding: 0 0 0 0;\n",
              "      width: 32px;\n",
              "    }\n",
              "\n",
              "    .colab-df-convert:hover {\n",
              "      background-color: #E2EBFA;\n",
              "      box-shadow: 0px 1px 2px rgba(60, 64, 67, 0.3), 0px 1px 3px 1px rgba(60, 64, 67, 0.15);\n",
              "      fill: #174EA6;\n",
              "    }\n",
              "\n",
              "    [theme=dark] .colab-df-convert {\n",
              "      background-color: #3B4455;\n",
              "      fill: #D2E3FC;\n",
              "    }\n",
              "\n",
              "    [theme=dark] .colab-df-convert:hover {\n",
              "      background-color: #434B5C;\n",
              "      box-shadow: 0px 1px 3px 1px rgba(0, 0, 0, 0.15);\n",
              "      filter: drop-shadow(0px 1px 2px rgba(0, 0, 0, 0.3));\n",
              "      fill: #FFFFFF;\n",
              "    }\n",
              "  </style>\n",
              "\n",
              "      <script>\n",
              "        const buttonEl =\n",
              "          document.querySelector('#df-73983e53-36c6-49ed-b0ed-21e181f0710f button.colab-df-convert');\n",
              "        buttonEl.style.display =\n",
              "          google.colab.kernel.accessAllowed ? 'block' : 'none';\n",
              "\n",
              "        async function convertToInteractive(key) {\n",
              "          const element = document.querySelector('#df-73983e53-36c6-49ed-b0ed-21e181f0710f');\n",
              "          const dataTable =\n",
              "            await google.colab.kernel.invokeFunction('convertToInteractive',\n",
              "                                                     [key], {});\n",
              "          if (!dataTable) return;\n",
              "\n",
              "          const docLinkHtml = 'Like what you see? Visit the ' +\n",
              "            '<a target=\"_blank\" href=https://colab.research.google.com/notebooks/data_table.ipynb>data table notebook</a>'\n",
              "            + ' to learn more about interactive tables.';\n",
              "          element.innerHTML = '';\n",
              "          dataTable['output_type'] = 'display_data';\n",
              "          await google.colab.output.renderOutput(dataTable, element);\n",
              "          const docLink = document.createElement('div');\n",
              "          docLink.innerHTML = docLinkHtml;\n",
              "          element.appendChild(docLink);\n",
              "        }\n",
              "      </script>\n",
              "    </div>\n",
              "  </div>\n",
              "  "
            ]
          },
          "metadata": {},
          "execution_count": 32
        }
      ],
      "source": [
        "df_info = pd.read_csv('data/drugex/models/finetuned/ligand_agent_rl_fit.tsv', sep='\\t')\n",
        "df_info.head()"
      ]
    },
    {
      "cell_type": "code",
      "execution_count": 33,
      "id": "024f80f1-dc7d-4d64-a19a-c8660a3222a5",
      "metadata": {
        "id": "024f80f1-dc7d-4d64-a19a-c8660a3222a5",
        "outputId": "bd25276f-18b9-4232-990b-05aba7ed456a",
        "colab": {
          "base_uri": "https://localhost:8080/",
          "height": 282
        }
      },
      "outputs": [
        {
          "output_type": "execute_result",
          "data": {
            "text/plain": [
              "<matplotlib.axes._subplots.AxesSubplot at 0x7f46bacc58d0>"
            ]
          },
          "metadata": {},
          "execution_count": 33
        },
        {
          "output_type": "display_data",
          "data": {
            "text/plain": [
              "<Figure size 432x288 with 1 Axes>"
            ],
            "image/png": "[encoded data removed]"
          },
          "metadata": {
            "needs_background": "light"
          }
        }
      ],
      "source": [
        "df_info[['valid_ratio', 'mean_train_loss', 'desire_ratio']].plot.line()"
      ]
    },
    {
      "cell_type": "markdown",
      "id": "f31060f7-0830-437c-9bbc-e90fbae0ac7b",
      "metadata": {
        "id": "f31060f7-0830-437c-9bbc-e90fbae0ac7b"
      },
      "source": [
        "We can see that most of the compounds remain valid and the training loss also improves slightly. We also have a little drop in validity and loss after the first epoch, but the model quickly stabilizes itself. \n",
        "\n",
        "Let's test if this model is now able to produce better molecules. We just need to load it from the saved state and sample new structures:"
      ]
    },
    {
      "cell_type": "code",
      "execution_count": 34,
      "id": "7b4b51a2-f2c5-422c-a5f3-145f54bee748",
      "metadata": {
        "id": "7b4b51a2-f2c5-422c-a5f3-145f54bee748"
      },
      "outputs": [],
      "source": [
        "agent = RNN(voc, is_lstm=True, use_gpus=GPUS)\n",
        "agent.loadStatesFromFile('data/drugex/models/finetuned/ligand_agent_rl.pkg')\n",
        "\n",
        "smiles_rl = sample_smiles(agent, 1000)"
      ]
    },
    {
      "cell_type": "markdown",
      "id": "b9abc3b9-16c9-4d8f-b9c0-0c91be74a6a4",
      "metadata": {
        "id": "b9abc3b9-16c9-4d8f-b9c0-0c91be74a6a4"
      },
      "source": [
        "We can again push them through our environment and see how many of them are desirable according to our settings:"
      ]
    },
    {
      "cell_type": "code",
      "execution_count": 35,
      "id": "1a0d277c-8425-4856-88e1-9ccc2d1af161",
      "metadata": {
        "id": "1a0d277c-8425-4856-88e1-9ccc2d1af161",
        "outputId": "254ade87-a5cd-4a6b-f933-42513384e4d2",
        "colab": {
          "base_uri": "https://localhost:8080/",
          "height": 424
        }
      },
      "outputs": [
        {
          "output_type": "execute_result",
          "data": {
            "text/plain": [
              "     BACE_CLS_MS        SA  DESIRE  VALID\n",
              "0       0.286667  0.680533       0      1\n",
              "1       0.746667  0.076785       0      1\n",
              "2       0.000000  0.983151       0      1\n",
              "3       0.226667  0.959722       0      1\n",
              "4       0.033333  0.860952       0      1\n",
              "..           ...       ...     ...    ...\n",
              "995     0.193333  0.917586       0      1\n",
              "996     0.053333  0.965274       0      1\n",
              "997     0.000000  0.971704       0      1\n",
              "998     1.000000  0.246859       1      1\n",
              "999     0.000000  0.885657       0      1\n",
              "\n",
              "[1000 rows x 4 columns]"
            ],
            "text/html": [
              "\n",
              "  <div id=\"df-ded3534b-0e59-4d99-ab74-5c6d3d7a234a\">\n",
              "    <div class=\"colab-df-container\">\n",
              "      <div>\n",
              "<style scoped>\n",
              "    .dataframe tbody tr th:only-of-type {\n",
              "        vertical-align: middle;\n",
              "    }\n",
              "\n",
              "    .dataframe tbody tr th {\n",
              "        vertical-align: top;\n",
              "    }\n",
              "\n",
              "    .dataframe thead th {\n",
              "        text-align: right;\n",
              "    }\n",
              "</style>\n",
              "<table border=\"1\" class=\"dataframe\">\n",
              "  <thead>\n",
              "    <tr style=\"text-align: right;\">\n",
              "      <th></th>\n",
              "      <th>BACE_CLS_MS</th>\n",
              "      <th>SA</th>\n",
              "      <th>DESIRE</th>\n",
              "      <th>VALID</th>\n",
              "    </tr>\n",
              "  </thead>\n",
              "  <tbody>\n",
              "    <tr>\n",
              "      <th>0</th>\n",
              "      <td>0.286667</td>\n",
              "      <td>0.680533</td>\n",
              "      <td>0</td>\n",
              "      <td>1</td>\n",
              "    </tr>\n",
              "    <tr>\n",
              "      <th>1</th>\n",
              "      <td>0.746667</td>\n",
              "      <td>0.076785</td>\n",
              "      <td>0</td>\n",
              "      <td>1</td>\n",
              "    </tr>\n",
              "    <tr>\n",
              "      <th>2</th>\n",
              "      <td>0.000000</td>\n",
              "      <td>0.983151</td>\n",
              "      <td>0</td>\n",
              "      <td>1</td>\n",
              "    </tr>\n",
              "    <tr>\n",
              "      <th>3</th>\n",
              "      <td>0.226667</td>\n",
              "      <td>0.959722</td>\n",
              "      <td>0</td>\n",
              "      <td>1</td>\n",
              "    </tr>\n",
              "    <tr>\n",
              "      <th>4</th>\n",
              "      <td>0.033333</td>\n",
              "      <td>0.860952</td>\n",
              "      <td>0</td>\n",
              "      <td>1</td>\n",
              "    </tr>\n",
              "    <tr>\n",
              "      <th>...</th>\n",
              "      <td>...</td>\n",
              "      <td>...</td>\n",
              "      <td>...</td>\n",
              "      <td>...</td>\n",
              "    </tr>\n",
              "    <tr>\n",
              "      <th>995</th>\n",
              "      <td>0.193333</td>\n",
              "      <td>0.917586</td>\n",
              "      <td>0</td>\n",
              "      <td>1</td>\n",
              "    </tr>\n",
              "    <tr>\n",
              "      <th>996</th>\n",
              "      <td>0.053333</td>\n",
              "      <td>0.965274</td>\n",
              "      <td>0</td>\n",
              "      <td>1</td>\n",
              "    </tr>\n",
              "    <tr>\n",
              "      <th>997</th>\n",
              "      <td>0.000000</td>\n",
              "      <td>0.971704</td>\n",
              "      <td>0</td>\n",
              "      <td>1</td>\n",
              "    </tr>\n",
              "    <tr>\n",
              "      <th>998</th>\n",
              "      <td>1.000000</td>\n",
              "      <td>0.246859</td>\n",
              "      <td>1</td>\n",
              "      <td>1</td>\n",
              "    </tr>\n",
              "    <tr>\n",
              "      <th>999</th>\n",
              "      <td>0.000000</td>\n",
              "      <td>0.885657</td>\n",
              "      <td>0</td>\n",
              "      <td>1</td>\n",
              "    </tr>\n",
              "  </tbody>\n",
              "</table>\n",
              "<p>1000 rows × 4 columns</p>\n",
              "</div>\n",
              "      <button class=\"colab-df-convert\" onclick=\"convertToInteractive('df-ded3534b-0e59-4d99-ab74-5c6d3d7a234a')\"\n",
              "              title=\"Convert this dataframe to an interactive table.\"\n",
              "              style=\"display:none;\">\n",
              "        \n",
              "  <svg xmlns=\"http://www.w3.org/2000/svg\" height=\"24px\"viewBox=\"0 0 24 24\"\n",
              "       width=\"24px\">\n",
              "    <path d=\"M0 0h24v24H0V0z\" fill=\"none\"/>\n",
              "    <path d=\"M18.56 5.44l.94 2.06.94-2.06 2.06-.94-2.06-.94-.94-2.06-.94 2.06-2.06.94zm-11 1L8.5 8.5l.94-2.06 2.06-.94-2.06-.94L8.5 2.5l-.94 2.06-2.06.94zm10 10l.94 2.06.94-2.06 2.06-.94-2.06-.94-.94-2.06-.94 2.06-2.06.94z\"/><path d=\"M17.41 7.96l-1.37-1.37c-.4-.4-.92-.59-1.43-.59-.52 0-1.04.2-1.43.59L10.3 9.45l-7.72 7.72c-.78.78-.78 2.05 0 2.83L4 21.41c.39.39.9.59 1.41.59.51 0 1.02-.2 1.41-.59l7.78-7.78 2.81-2.81c.8-.78.8-2.07 0-2.86zM5.41 20L4 18.59l7.72-7.72 1.47 1.35L5.41 20z\"/>\n",
              "  </svg>\n",
              "      </button>\n",
              "      \n",
              "  <style>\n",
              "    .colab-df-container {\n",
              "      display:flex;\n",
              "      flex-wrap:wrap;\n",
              "      gap: 12px;\n",
              "    }\n",
              "\n",
              "    .colab-df-convert {\n",
              "      background-color: #E8F0FE;\n",
              "      border: none;\n",
              "      border-radius: 50%;\n",
              "      cursor: pointer;\n",
              "      display: none;\n",
              "      fill: #1967D2;\n",
              "      height: 32px;\n",
              "      padding: 0 0 0 0;\n",
              "      width: 32px;\n",
              "    }\n",
              "\n",
              "    .colab-df-convert:hover {\n",
              "      background-color: #E2EBFA;\n",
              "      box-shadow: 0px 1px 2px rgba(60, 64, 67, 0.3), 0px 1px 3px 1px rgba(60, 64, 67, 0.15);\n",
              "      fill: #174EA6;\n",
              "    }\n",
              "\n",
              "    [theme=dark] .colab-df-convert {\n",
              "      background-color: #3B4455;\n",
              "      fill: #D2E3FC;\n",
              "    }\n",
              "\n",
              "    [theme=dark] .colab-df-convert:hover {\n",
              "      background-color: #434B5C;\n",
              "      box-shadow: 0px 1px 3px 1px rgba(0, 0, 0, 0.15);\n",
              "      filter: drop-shadow(0px 1px 2px rgba(0, 0, 0, 0.3));\n",
              "      fill: #FFFFFF;\n",
              "    }\n",
              "  </style>\n",
              "\n",
              "      <script>\n",
              "        const buttonEl =\n",
              "          document.querySelector('#df-ded3534b-0e59-4d99-ab74-5c6d3d7a234a button.colab-df-convert');\n",
              "        buttonEl.style.display =\n",
              "          google.colab.kernel.accessAllowed ? 'block' : 'none';\n",
              "\n",
              "        async function convertToInteractive(key) {\n",
              "          const element = document.querySelector('#df-ded3534b-0e59-4d99-ab74-5c6d3d7a234a');\n",
              "          const dataTable =\n",
              "            await google.colab.kernel.invokeFunction('convertToInteractive',\n",
              "                                                     [key], {});\n",
              "          if (!dataTable) return;\n",
              "\n",
              "          const docLinkHtml = 'Like what you see? Visit the ' +\n",
              "            '<a target=\"_blank\" href=https://colab.research.google.com/notebooks/data_table.ipynb>data table notebook</a>'\n",
              "            + ' to learn more about interactive tables.';\n",
              "          element.innerHTML = '';\n",
              "          dataTable['output_type'] = 'display_data';\n",
              "          await google.colab.output.renderOutput(dataTable, element);\n",
              "          const docLink = document.createElement('div');\n",
              "          docLink.innerHTML = docLinkHtml;\n",
              "          element.appendChild(docLink);\n",
              "        }\n",
              "      </script>\n",
              "    </div>\n",
              "  </div>\n",
              "  "
            ]
          },
          "metadata": {},
          "execution_count": 35
        }
      ],
      "source": [
        "scores = environment.getScores(smiles_rl)\n",
        "scores"
      ]
    },
    {
      "cell_type": "code",
      "execution_count": 36,
      "id": "0b152b73-e5f2-4156-ba7e-cb24459c06d5",
      "metadata": {
        "id": "0b152b73-e5f2-4156-ba7e-cb24459c06d5",
        "outputId": "9b3ccfe3-0959-41c8-8b07-8f10ac02e2ab",
        "colab": {
          "base_uri": "https://localhost:8080/"
        }
      },
      "outputs": [
        {
          "output_type": "execute_result",
          "data": {
            "text/plain": [
              "0.272"
            ]
          },
          "metadata": {},
          "execution_count": 36
        }
      ],
      "source": [
        "sum(scores[\"DESIRE\"] > 0.5) / len(scores)"
      ]
    },
    {
      "cell_type": "code",
      "execution_count": 37,
      "id": "c695ca75-6914-4911-bd54-3ebdf2129f32",
      "metadata": {
        "id": "c695ca75-6914-4911-bd54-3ebdf2129f32",
        "outputId": "a3cf7ec5-4565-4b85-b918-a5ebe04730fa",
        "colab": {
          "base_uri": "https://localhost:8080/",
          "height": 282
        }
      },
      "outputs": [
        {
          "output_type": "execute_result",
          "data": {
            "text/plain": [
              "<matplotlib.axes._subplots.AxesSubplot at 0x7f46badb37d0>"
            ]
          },
          "metadata": {},
          "execution_count": 37
        },
        {
          "output_type": "display_data",
          "data": {
            "text/plain": [
              "<Figure size 432x288 with 1 Axes>"
            ],
            "image/png": "[encoded data removed]"
          },
          "metadata": {
            "needs_background": "light"
          }
        }
      ],
      "source": [
        "scores.BACE_CLS_MS.hist()"
      ]
    },
    {
      "cell_type": "code",
      "execution_count": 38,
      "id": "1e7d8e63-416d-48bd-ad69-aa7e2582494a",
      "metadata": {
        "id": "1e7d8e63-416d-48bd-ad69-aa7e2582494a",
        "outputId": "5d3087e8-0f8a-49f3-dc71-c9a039253a4c",
        "colab": {
          "base_uri": "https://localhost:8080/",
          "height": 282
        }
      },
      "outputs": [
        {
          "output_type": "execute_result",
          "data": {
            "text/plain": [
              "<matplotlib.axes._subplots.AxesSubplot at 0x7f46bae9e710>"
            ]
          },
          "metadata": {},
          "execution_count": 38
        },
        {
          "output_type": "display_data",
          "data": {
            "text/plain": [
              "<Figure size 432x288 with 1 Axes>"
            ],
            "image/png": "[encoded data removed]"
          },
          "metadata": {
            "needs_background": "light"
          }
        }
      ],
      "source": [
        "scores.SA.hist()"
      ]
    },
    {
      "cell_type": "markdown",
      "id": "82da99c5-d9ca-4378-9b7b-f39503a1ca2a",
      "metadata": {
        "id": "82da99c5-d9ca-4378-9b7b-f39503a1ca2a"
      },
      "source": [
        "That definitely looks better than before. We now have a much higher ratio of desirable molecules. Let's take a look at the structures and use the model output to color them based on predicted activity:"
      ]
    },
    {
      "cell_type": "code",
      "execution_count": 39,
      "id": "7ed26665-bb3a-4121-be5c-4dc5b16228dd",
      "metadata": {
        "id": "7ed26665-bb3a-4121-be5c-4dc5b16228dd",
        "outputId": "8faa9131-c091-4fa9-b344-266643a3db43",
        "colab": {
          "base_uri": "https://localhost:8080/",
          "height": 822
        }
      },
      "outputs": [
        {
          "output_type": "display_data",
          "data": {
            "text/plain": [
              "<IPython.core.display.Javascript object>"
            ],
            "application/javascript": [
              "(async (port, path, width, height, cache, element) => {\n",
              "    if (!google.colab.kernel.accessAllowed && !cache) {\n",
              "      return;\n",
              "    }\n",
              "    element.appendChild(document.createTextNode(''));\n",
              "    const url = await google.colab.kernel.proxyPort(port, {cache});\n",
              "    const iframe = document.createElement('iframe');\n",
              "    iframe.src = new URL(path, url).toString();\n",
              "    iframe.height = height;\n",
              "    iframe.width = width;\n",
              "    iframe.style.border = 0;\n",
              "    iframe.allow = [\n",
              "        'accelerometer',\n",
              "        'autoplay',\n",
              "        'camera',\n",
              "        'clipboard-read',\n",
              "        'clipboard-write',\n",
              "        'gyroscope',\n",
              "        'magnetometer',\n",
              "        'microphone',\n",
              "        'serial',\n",
              "        'usb',\n",
              "        'xr-spatial-tracking',\n",
              "    ].join('; ');\n",
              "    element.appendChild(iframe);\n",
              "  })(9494, \"/\", \"100%\", 800, false, window.element)"
            ]
          },
          "metadata": {}
        }
      ],
      "source": [
        "dataset = DataSetSMILES(\"data/finetuned_rl_sampled.tsv\", smiles=smiles_rl, use_existing=False)\n",
        "dataset.addData('CLS', scores.BACE_CLS_MS)\n",
        "dataset.addDescriptors([MorganFP(radius=2, nBits=1024)], recalculate=False) \n",
        "\n",
        "plt = Plot(dataset, TSNE())\n",
        "plt.plot(\n",
        "    recalculate=False,\n",
        "    color_by='CLS',\n",
        "    color_continuous_scale=\"rdylgn\",\n",
        "    color_style='continuous',\n",
        "    viewport_height=800,\n",
        "    port=9494\n",
        ")"
      ]
    },
    {
      "cell_type": "markdown",
      "id": "34e80371-51a2-4d4c-898d-20f2f964bdca",
      "metadata": {
        "id": "34e80371-51a2-4d4c-898d-20f2f964bdca"
      },
      "source": [
        "A lot of the molecules are lit up green, which is good. It means the model is confident that these structures belong to active ligands. It seems that we were able to improve the original model's ability to produce more active and synthetically accessible compounds. Congratulations, maybe there is a new drug in there :) \n",
        "\n",
        "---\n",
        "*In our case, there is a bit less green, but still some which could be interesting*\n",
        "\n",
        "\n",
        "But before jumping into conclusions we should be critical of what we accomplished here. We merely optimized the original finetuned model so it is likely there is a big overlap between the original data set and this new set of compounds. We can easily check how our compounds compare to the original set by visualizing them together:"
      ]
    },
    {
      "cell_type": "code",
      "execution_count": 40,
      "id": "f78404ec-f232-47a3-b11f-a0a68ed59fbc",
      "metadata": {
        "id": "f78404ec-f232-47a3-b11f-a0a68ed59fbc",
        "outputId": "65473f27-5608-4cb3-cd0b-6f6372c777ce",
        "colab": {
          "base_uri": "https://localhost:8080/",
          "height": 424
        }
      },
      "outputs": [
        {
          "output_type": "execute_result",
          "data": {
            "text/plain": [
              "                                                SMILES      Group\n",
              "0    COCC1CCN(C(C)C(=O)NC(Cc2cc(F)cc(F)c2)C(O)CNCc2...   BACE Set\n",
              "1    CC1OCC2(c3cc(NC(=O)c4cnc(C(F)F)cn4)ccc3F)N=C(N...   BACE Set\n",
              "2    COCCOc1cnc(C(=O)Nc2ccc(F)c(C3(C)N=C(N)COC3C(F)...   BACE Set\n",
              "3    CC1=C(C(=O)Nc2nc(C)cs2)C(c2ccco2)C(C(=O)Nc2nc(...   BACE Set\n",
              "4    CN1C(=O)C2CN(c3ncccn3)CC2(c2cc(-c3cccc(C#N)c3)...   BACE Set\n",
              "..                                                 ...        ...\n",
              "995          N#Cc1cc(CNc2cc(Cl)c(=O)n(CC3CC3)c2Cl)ccn1  Generated\n",
              "996  CCCNC(=O)CCCCOc1ccc2c(=O)cc(-c3cccc(C(=O)N(C)C...  Generated\n",
              "997                  Cc1ccc2nc(C=Cc3ccccc3)cc(C#N)c2c1  Generated\n",
              "998  COC1CCC2(CC1)Cc1ccc(C#CC3CCCC3)cc1C21N=C(C)C(N...  Generated\n",
              "999         CCc1cc2c(cc1OC)C(=O)C(c1cccc(OCOC)c1)CC2=O  Generated\n",
              "\n",
              "[4831 rows x 2 columns]"
            ],
            "text/html": [
              "\n",
              "  <div id=\"df-b164cda5-f3d7-4eab-b003-34fdfbd9b046\">\n",
              "    <div class=\"colab-df-container\">\n",
              "      <div>\n",
              "<style scoped>\n",
              "    .dataframe tbody tr th:only-of-type {\n",
              "        vertical-align: middle;\n",
              "    }\n",
              "\n",
              "    .dataframe tbody tr th {\n",
              "        vertical-align: top;\n",
              "    }\n",
              "\n",
              "    .dataframe thead th {\n",
              "        text-align: right;\n",
              "    }\n",
              "</style>\n",
              "<table border=\"1\" class=\"dataframe\">\n",
              "  <thead>\n",
              "    <tr style=\"text-align: right;\">\n",
              "      <th></th>\n",
              "      <th>SMILES</th>\n",
              "      <th>Group</th>\n",
              "    </tr>\n",
              "  </thead>\n",
              "  <tbody>\n",
              "    <tr>\n",
              "      <th>0</th>\n",
              "      <td>COCC1CCN(C(C)C(=O)NC(Cc2cc(F)cc(F)c2)C(O)CNCc2...</td>\n",
              "      <td>BACE Set</td>\n",
              "    </tr>\n",
              "    <tr>\n",
              "      <th>1</th>\n",
              "      <td>CC1OCC2(c3cc(NC(=O)c4cnc(C(F)F)cn4)ccc3F)N=C(N...</td>\n",
              "      <td>BACE Set</td>\n",
              "    </tr>\n",
              "    <tr>\n",
              "      <th>2</th>\n",
              "      <td>COCCOc1cnc(C(=O)Nc2ccc(F)c(C3(C)N=C(N)COC3C(F)...</td>\n",
              "      <td>BACE Set</td>\n",
              "    </tr>\n",
              "    <tr>\n",
              "      <th>3</th>\n",
              "      <td>CC1=C(C(=O)Nc2nc(C)cs2)C(c2ccco2)C(C(=O)Nc2nc(...</td>\n",
              "      <td>BACE Set</td>\n",
              "    </tr>\n",
              "    <tr>\n",
              "      <th>4</th>\n",
              "      <td>CN1C(=O)C2CN(c3ncccn3)CC2(c2cc(-c3cccc(C#N)c3)...</td>\n",
              "      <td>BACE Set</td>\n",
              "    </tr>\n",
              "    <tr>\n",
              "      <th>...</th>\n",
              "      <td>...</td>\n",
              "      <td>...</td>\n",
              "    </tr>\n",
              "    <tr>\n",
              "      <th>995</th>\n",
              "      <td>N#Cc1cc(CNc2cc(Cl)c(=O)n(CC3CC3)c2Cl)ccn1</td>\n",
              "      <td>Generated</td>\n",
              "    </tr>\n",
              "    <tr>\n",
              "      <th>996</th>\n",
              "      <td>CCCNC(=O)CCCCOc1ccc2c(=O)cc(-c3cccc(C(=O)N(C)C...</td>\n",
              "      <td>Generated</td>\n",
              "    </tr>\n",
              "    <tr>\n",
              "      <th>997</th>\n",
              "      <td>Cc1ccc2nc(C=Cc3ccccc3)cc(C#N)c2c1</td>\n",
              "      <td>Generated</td>\n",
              "    </tr>\n",
              "    <tr>\n",
              "      <th>998</th>\n",
              "      <td>COC1CCC2(CC1)Cc1ccc(C#CC3CCCC3)cc1C21N=C(C)C(N...</td>\n",
              "      <td>Generated</td>\n",
              "    </tr>\n",
              "    <tr>\n",
              "      <th>999</th>\n",
              "      <td>CCc1cc2c(cc1OC)C(=O)C(c1cccc(OCOC)c1)CC2=O</td>\n",
              "      <td>Generated</td>\n",
              "    </tr>\n",
              "  </tbody>\n",
              "</table>\n",
              "<p>4831 rows × 2 columns</p>\n",
              "</div>\n",
              "      <button class=\"colab-df-convert\" onclick=\"convertToInteractive('df-b164cda5-f3d7-4eab-b003-34fdfbd9b046')\"\n",
              "              title=\"Convert this dataframe to an interactive table.\"\n",
              "              style=\"display:none;\">\n",
              "        \n",
              "  <svg xmlns=\"http://www.w3.org/2000/svg\" height=\"24px\"viewBox=\"0 0 24 24\"\n",
              "       width=\"24px\">\n",
              "    <path d=\"M0 0h24v24H0V0z\" fill=\"none\"/>\n",
              "    <path d=\"M18.56 5.44l.94 2.06.94-2.06 2.06-.94-2.06-.94-.94-2.06-.94 2.06-2.06.94zm-11 1L8.5 8.5l.94-2.06 2.06-.94-2.06-.94L8.5 2.5l-.94 2.06-2.06.94zm10 10l.94 2.06.94-2.06 2.06-.94-2.06-.94-.94-2.06-.94 2.06-2.06.94z\"/><path d=\"M17.41 7.96l-1.37-1.37c-.4-.4-.92-.59-1.43-.59-.52 0-1.04.2-1.43.59L10.3 9.45l-7.72 7.72c-.78.78-.78 2.05 0 2.83L4 21.41c.39.39.9.59 1.41.59.51 0 1.02-.2 1.41-.59l7.78-7.78 2.81-2.81c.8-.78.8-2.07 0-2.86zM5.41 20L4 18.59l7.72-7.72 1.47 1.35L5.41 20z\"/>\n",
              "  </svg>\n",
              "      </button>\n",
              "      \n",
              "  <style>\n",
              "    .colab-df-container {\n",
              "      display:flex;\n",
              "      flex-wrap:wrap;\n",
              "      gap: 12px;\n",
              "    }\n",
              "\n",
              "    .colab-df-convert {\n",
              "      background-color: #E8F0FE;\n",
              "      border: none;\n",
              "      border-radius: 50%;\n",
              "      cursor: pointer;\n",
              "      display: none;\n",
              "      fill: #1967D2;\n",
              "      height: 32px;\n",
              "      padding: 0 0 0 0;\n",
              "      width: 32px;\n",
              "    }\n",
              "\n",
              "    .colab-df-convert:hover {\n",
              "      background-color: #E2EBFA;\n",
              "      box-shadow: 0px 1px 2px rgba(60, 64, 67, 0.3), 0px 1px 3px 1px rgba(60, 64, 67, 0.15);\n",
              "      fill: #174EA6;\n",
              "    }\n",
              "\n",
              "    [theme=dark] .colab-df-convert {\n",
              "      background-color: #3B4455;\n",
              "      fill: #D2E3FC;\n",
              "    }\n",
              "\n",
              "    [theme=dark] .colab-df-convert:hover {\n",
              "      background-color: #434B5C;\n",
              "      box-shadow: 0px 1px 3px 1px rgba(0, 0, 0, 0.15);\n",
              "      filter: drop-shadow(0px 1px 2px rgba(0, 0, 0, 0.3));\n",
              "      fill: #FFFFFF;\n",
              "    }\n",
              "  </style>\n",
              "\n",
              "      <script>\n",
              "        const buttonEl =\n",
              "          document.querySelector('#df-b164cda5-f3d7-4eab-b003-34fdfbd9b046 button.colab-df-convert');\n",
              "        buttonEl.style.display =\n",
              "          google.colab.kernel.accessAllowed ? 'block' : 'none';\n",
              "\n",
              "        async function convertToInteractive(key) {\n",
              "          const element = document.querySelector('#df-b164cda5-f3d7-4eab-b003-34fdfbd9b046');\n",
              "          const dataTable =\n",
              "            await google.colab.kernel.invokeFunction('convertToInteractive',\n",
              "                                                     [key], {});\n",
              "          if (!dataTable) return;\n",
              "\n",
              "          const docLinkHtml = 'Like what you see? Visit the ' +\n",
              "            '<a target=\"_blank\" href=https://colab.research.google.com/notebooks/data_table.ipynb>data table notebook</a>'\n",
              "            + ' to learn more about interactive tables.';\n",
              "          element.innerHTML = '';\n",
              "          dataTable['output_type'] = 'display_data';\n",
              "          await google.colab.output.renderOutput(dataTable, element);\n",
              "          const docLink = document.createElement('div');\n",
              "          docLink.innerHTML = docLinkHtml;\n",
              "          element.appendChild(docLink);\n",
              "        }\n",
              "      </script>\n",
              "    </div>\n",
              "  </div>\n",
              "  "
            ]
          },
          "metadata": {},
          "execution_count": 40
        }
      ],
      "source": [
        "df_joined = pd.concat(\n",
        "    [\n",
        "        pd.DataFrame(\n",
        "            {'SMILES' : df_BACE.SMILES.tolist(), 'Group': 'BACE Set'}\n",
        "        ),\n",
        "        pd.DataFrame(\n",
        "            {'SMILES' : smiles_rl, 'Group': 'Generated'}\n",
        "        )\n",
        "    ]\n",
        ")\n",
        "df_joined"
      ]
    },
    {
      "cell_type": "code",
      "source": [
        "dataset = DataSetTSV(\"data/generated.tsv\", data= pd.DataFrame(\n",
        "            {'SMILES' : smiles_rl, 'Group': 'Generated'}\n",
        "        ))\n"
      ],
      "metadata": {
        "id": "7AeZEicmYaTL",
        "colab": {
          "base_uri": "https://localhost:8080/",
          "height": 200
        },
        "outputId": "4b41aa50-afb8-49ff-c6f0-307edbd90e9c"
      },
      "id": "7AeZEicmYaTL",
      "execution_count": 42,
      "outputs": [
        {
          "output_type": "error",
          "ename": "NameError",
          "evalue": "ignored",
          "traceback": [
            "\u001b[0;31m---------------------------------------------------------------------------\u001b[0m",
            "\u001b[0;31mNameError\u001b[0m                                 Traceback (most recent call last)",
            "\u001b[0;32m<ipython-input-42-e70e5f2ac2d0>\u001b[0m in \u001b[0;36m<module>\u001b[0;34m\u001b[0m\n\u001b[0;32m----> 1\u001b[0;31m dataset = DataSetTSV(\"data/generated.tsv\", data= pd.DataFrame(\n\u001b[0m\u001b[1;32m      2\u001b[0m             \u001b[0;34m{\u001b[0m\u001b[0;34m'SMILES'\u001b[0m \u001b[0;34m:\u001b[0m \u001b[0msmiles_rl\u001b[0m\u001b[0;34m,\u001b[0m \u001b[0;34m'Group'\u001b[0m\u001b[0;34m:\u001b[0m \u001b[0;34m'Generated'\u001b[0m\u001b[0;34m}\u001b[0m\u001b[0;34m\u001b[0m\u001b[0;34m\u001b[0m\u001b[0m\n\u001b[1;32m      3\u001b[0m         ))\n",
            "\u001b[0;31mNameError\u001b[0m: name 'DataSetTSV' is not defined"
          ]
        }
      ]
    },
    {
      "cell_type": "code",
      "execution_count": 43,
      "id": "c445ab75-22ff-4e85-9b51-423b0c5d5d72",
      "metadata": {
        "id": "c445ab75-22ff-4e85-9b51-423b0c5d5d72",
        "outputId": "3fdb99cc-e89d-4345-a1c1-9ed2f31cf389",
        "colab": {
          "base_uri": "https://localhost:8080/",
          "height": 822
        }
      },
      "outputs": [
        {
          "output_type": "display_data",
          "data": {
            "text/plain": [
              "<IPython.core.display.Javascript object>"
            ],
            "application/javascript": [
              "(async (port, path, width, height, cache, element) => {\n",
              "    if (!google.colab.kernel.accessAllowed && !cache) {\n",
              "      return;\n",
              "    }\n",
              "    element.appendChild(document.createTextNode(''));\n",
              "    const url = await google.colab.kernel.proxyPort(port, {cache});\n",
              "    const iframe = document.createElement('iframe');\n",
              "    iframe.src = new URL(path, url).toString();\n",
              "    iframe.height = height;\n",
              "    iframe.width = width;\n",
              "    iframe.style.border = 0;\n",
              "    iframe.allow = [\n",
              "        'accelerometer',\n",
              "        'autoplay',\n",
              "        'camera',\n",
              "        'clipboard-read',\n",
              "        'clipboard-write',\n",
              "        'gyroscope',\n",
              "        'magnetometer',\n",
              "        'microphone',\n",
              "        'serial',\n",
              "        'usb',\n",
              "        'xr-spatial-tracking',\n",
              "    ].join('; ');\n",
              "    element.appendChild(iframe);\n",
              "  })(9595, \"/\", \"100%\", 800, false, window.element)"
            ]
          },
          "metadata": {}
        }
      ],
      "source": [
        "from scaffviz.data.dataset import DataSetTSV\n",
        "\n",
        "dataset = DataSetTSV(\"data/original_and_generated.tsv\", data=df_joined)\n",
        "dataset.addDescriptors([MorganFP(radius=2, nBits=1024)], recalculate=False) \n",
        "\n",
        "plt = Plot(dataset, TSNE())\n",
        "plt.plot(\n",
        "    recalculate=False,\n",
        "    color_by='Group',\n",
        "    viewport_height=800,\n",
        "    port=9595\n",
        ")"
      ]
    },
    {
      "cell_type": "markdown",
      "id": "401e6d46-15ae-433b-b08e-1b5550772560",
      "metadata": {
        "id": "401e6d46-15ae-433b-b08e-1b5550772560"
      },
      "source": [
        "Indeed, there is some overlap between the original data set and the generated structures, but we also manage to generate some compounds outside of these orginal clusters. You can try to vary the `epsilon` parameter and see what happens with desirability and diversity of the molecules. However, maybe there is also some merit to this model. It all depends on the task at hand. But in any case we might want to generate even more compounds with the model and try to verify and screen the generated library with more precise methods (i.e. molecular docking).\n",
        "\n",
        "---\n",
        "*The same applies for the novel generated molecules in this project; there is some overlap, but also some compounds outside the orginal clusters. Verify and screen the generated library will be done in the next parts of the project, by filtering out molecules with unwanted substructures, perdicting the pIC50 for the BACE using machinelearning models and verify the binding with docking.*"
      ]
    },
    {
      "cell_type": "code",
      "execution_count": null,
      "id": "ff999cbf-787d-4b1f-bb22-c5d1f7daf7eb",
      "metadata": {
        "id": "ff999cbf-787d-4b1f-bb22-c5d1f7daf7eb"
      },
      "outputs": [],
      "source": []
    }
  ],
  "metadata": {
    "kernelspec": {
      "display_name": "Python 3 (ipykernel)",
      "language": "python",
      "name": "python3"
    },
    "language_info": {
      "codemirror_mode": {
        "name": "ipython",
        "version": 3
      },
      "file_extension": ".py",
      "mimetype": "text/x-python",
      "name": "python",
      "nbconvert_exporter": "python",
      "pygments_lexer": "ipython3",
      "version": "3.9.13"
    },
    "colab": {
      "provenance": [],
      "collapsed_sections": []
    },
    "accelerator": "GPU",
    "widgets": {
      "application/vnd.jupyter.widget-state+json": {
        "0a8fcbf066944004bef9781a3f3fc35b": {
          "model_module": "@jupyter-widgets/controls",
          "model_name": "HBoxModel",
          "model_module_version": "1.5.0",
          "state": {
            "_dom_classes": [],
            "_model_module": "@jupyter-widgets/controls",
            "_model_module_version": "1.5.0",
            "_model_name": "HBoxModel",
            "_view_count": null,
            "_view_module": "@jupyter-widgets/controls",
            "_view_module_version": "1.5.0",
            "_view_name": "HBoxView",
            "box_style": "",
            "children": [
              "IPY_MODEL_cc66c3b71242410483ab47810a88dc4c",
              "IPY_MODEL_19eeb693e63d4a319f427a6c081c9c5b",
              "IPY_MODEL_e76a6232c0114b939b0d257e08414a4e"
            ],
            "layout": "IPY_MODEL_df41100bed304bd286833a0dd862a333"
          }
        },
        "cc66c3b71242410483ab47810a88dc4c": {
          "model_module": "@jupyter-widgets/controls",
          "model_name": "HTMLModel",
          "model_module_version": "1.5.0",
          "state": {
            "_dom_classes": [],
            "_model_module": "@jupyter-widgets/controls",
            "_model_module_version": "1.5.0",
            "_model_name": "HTMLModel",
            "_view_count": null,
            "_view_module": "@jupyter-widgets/controls",
            "_view_module_version": "1.5.0",
            "_view_name": "HTMLView",
            "description": "",
            "description_tooltip": null,
            "layout": "IPY_MODEL_2a8d5b04f85a41ed93ebd88372f1d057",
            "placeholder": "​",
            "style": "IPY_MODEL_db09e635cec74d2db4214fb6dd1ec344",
            "value": "Standardizing molecules (batch processing): 100%"
          }
        },
        "19eeb693e63d4a319f427a6c081c9c5b": {
          "model_module": "@jupyter-widgets/controls",
          "model_name": "FloatProgressModel",
          "model_module_version": "1.5.0",
          "state": {
            "_dom_classes": [],
            "_model_module": "@jupyter-widgets/controls",
            "_model_module_version": "1.5.0",
            "_model_name": "FloatProgressModel",
            "_view_count": null,
            "_view_module": "@jupyter-widgets/controls",
            "_view_module_version": "1.5.0",
            "_view_name": "ProgressView",
            "bar_style": "success",
            "description": "",
            "description_tooltip": null,
            "layout": "IPY_MODEL_f7da1aa67d7d4958895be48859aa64d7",
            "max": 1,
            "min": 0,
            "orientation": "horizontal",
            "style": "IPY_MODEL_cdadc5590bc1457e9270cf46b4205811",
            "value": 1
          }
        },
        "e76a6232c0114b939b0d257e08414a4e": {
          "model_module": "@jupyter-widgets/controls",
          "model_name": "HTMLModel",
          "model_module_version": "1.5.0",
          "state": {
            "_dom_classes": [],
            "_model_module": "@jupyter-widgets/controls",
            "_model_module_version": "1.5.0",
            "_model_name": "HTMLModel",
            "_view_count": null,
            "_view_module": "@jupyter-widgets/controls",
            "_view_module_version": "1.5.0",
            "_view_name": "HTMLView",
            "description": "",
            "description_tooltip": null,
            "layout": "IPY_MODEL_2e98898b23244202833907691e797706",
            "placeholder": "​",
            "style": "IPY_MODEL_5956a766f641412383f02e825556e3fc",
            "value": " 1/1 [00:06&lt;00:00,  6.88s/it]"
          }
        },
        "df41100bed304bd286833a0dd862a333": {
          "model_module": "@jupyter-widgets/base",
          "model_name": "LayoutModel",
          "model_module_version": "1.2.0",
          "state": {
            "_model_module": "@jupyter-widgets/base",
            "_model_module_version": "1.2.0",
            "_model_name": "LayoutModel",
            "_view_count": null,
            "_view_module": "@jupyter-widgets/base",
            "_view_module_version": "1.2.0",
            "_view_name": "LayoutView",
            "align_content": null,
            "align_items": null,
            "align_self": null,
            "border": null,
            "bottom": null,
            "display": null,
            "flex": null,
            "flex_flow": null,
            "grid_area": null,
            "grid_auto_columns": null,
            "grid_auto_flow": null,
            "grid_auto_rows": null,
            "grid_column": null,
            "grid_gap": null,
            "grid_row": null,
            "grid_template_areas": null,
            "grid_template_columns": null,
            "grid_template_rows": null,
            "height": null,
            "justify_content": null,
            "justify_items": null,
            "left": null,
            "margin": null,
            "max_height": null,
            "max_width": null,
            "min_height": null,
            "min_width": null,
            "object_fit": null,
            "object_position": null,
            "order": null,
            "overflow": null,
            "overflow_x": null,
            "overflow_y": null,
            "padding": null,
            "right": null,
            "top": null,
            "visibility": null,
            "width": null
          }
        },
        "2a8d5b04f85a41ed93ebd88372f1d057": {
          "model_module": "@jupyter-widgets/base",
          "model_name": "LayoutModel",
          "model_module_version": "1.2.0",
          "state": {
            "_model_module": "@jupyter-widgets/base",
            "_model_module_version": "1.2.0",
            "_model_name": "LayoutModel",
            "_view_count": null,
            "_view_module": "@jupyter-widgets/base",
            "_view_module_version": "1.2.0",
            "_view_name": "LayoutView",
            "align_content": null,
            "align_items": null,
            "align_self": null,
            "border": null,
            "bottom": null,
            "display": null,
            "flex": null,
            "flex_flow": null,
            "grid_area": null,
            "grid_auto_columns": null,
            "grid_auto_flow": null,
            "grid_auto_rows": null,
            "grid_column": null,
            "grid_gap": null,
            "grid_row": null,
            "grid_template_areas": null,
            "grid_template_columns": null,
            "grid_template_rows": null,
            "height": null,
            "justify_content": null,
            "justify_items": null,
            "left": null,
            "margin": null,
            "max_height": null,
            "max_width": null,
            "min_height": null,
            "min_width": null,
            "object_fit": null,
            "object_position": null,
            "order": null,
            "overflow": null,
            "overflow_x": null,
            "overflow_y": null,
            "padding": null,
            "right": null,
            "top": null,
            "visibility": null,
            "width": null
          }
        },
        "db09e635cec74d2db4214fb6dd1ec344": {
          "model_module": "@jupyter-widgets/controls",
          "model_name": "DescriptionStyleModel",
          "model_module_version": "1.5.0",
          "state": {
            "_model_module": "@jupyter-widgets/controls",
            "_model_module_version": "1.5.0",
            "_model_name": "DescriptionStyleModel",
            "_view_count": null,
            "_view_module": "@jupyter-widgets/base",
            "_view_module_version": "1.2.0",
            "_view_name": "StyleView",
            "description_width": ""
          }
        },
        "f7da1aa67d7d4958895be48859aa64d7": {
          "model_module": "@jupyter-widgets/base",
          "model_name": "LayoutModel",
          "model_module_version": "1.2.0",
          "state": {
            "_model_module": "@jupyter-widgets/base",
            "_model_module_version": "1.2.0",
            "_model_name": "LayoutModel",
            "_view_count": null,
            "_view_module": "@jupyter-widgets/base",
            "_view_module_version": "1.2.0",
            "_view_name": "LayoutView",
            "align_content": null,
            "align_items": null,
            "align_self": null,
            "border": null,
            "bottom": null,
            "display": null,
            "flex": null,
            "flex_flow": null,
            "grid_area": null,
            "grid_auto_columns": null,
            "grid_auto_flow": null,
            "grid_auto_rows": null,
            "grid_column": null,
            "grid_gap": null,
            "grid_row": null,
            "grid_template_areas": null,
            "grid_template_columns": null,
            "grid_template_rows": null,
            "height": null,
            "justify_content": null,
            "justify_items": null,
            "left": null,
            "margin": null,
            "max_height": null,
            "max_width": null,
            "min_height": null,
            "min_width": null,
            "object_fit": null,
            "object_position": null,
            "order": null,
            "overflow": null,
            "overflow_x": null,
            "overflow_y": null,
            "padding": null,
            "right": null,
            "top": null,
            "visibility": null,
            "width": null
          }
        },
        "cdadc5590bc1457e9270cf46b4205811": {
          "model_module": "@jupyter-widgets/controls",
          "model_name": "ProgressStyleModel",
          "model_module_version": "1.5.0",
          "state": {
            "_model_module": "@jupyter-widgets/controls",
            "_model_module_version": "1.5.0",
            "_model_name": "ProgressStyleModel",
            "_view_count": null,
            "_view_module": "@jupyter-widgets/base",
            "_view_module_version": "1.2.0",
            "_view_name": "StyleView",
            "bar_color": null,
            "description_width": ""
          }
        },
        "2e98898b23244202833907691e797706": {
          "model_module": "@jupyter-widgets/base",
          "model_name": "LayoutModel",
          "model_module_version": "1.2.0",
          "state": {
            "_model_module": "@jupyter-widgets/base",
            "_model_module_version": "1.2.0",
            "_model_name": "LayoutModel",
            "_view_count": null,
            "_view_module": "@jupyter-widgets/base",
            "_view_module_version": "1.2.0",
            "_view_name": "LayoutView",
            "align_content": null,
            "align_items": null,
            "align_self": null,
            "border": null,
            "bottom": null,
            "display": null,
            "flex": null,
            "flex_flow": null,
            "grid_area": null,
            "grid_auto_columns": null,
            "grid_auto_flow": null,
            "grid_auto_rows": null,
            "grid_column": null,
            "grid_gap": null,
            "grid_row": null,
            "grid_template_areas": null,
            "grid_template_columns": null,
            "grid_template_rows": null,
            "height": null,
            "justify_content": null,
            "justify_items": null,
            "left": null,
            "margin": null,
            "max_height": null,
            "max_width": null,
            "min_height": null,
            "min_width": null,
            "object_fit": null,
            "object_position": null,
            "order": null,
            "overflow": null,
            "overflow_x": null,
            "overflow_y": null,
            "padding": null,
            "right": null,
            "top": null,
            "visibility": null,
            "width": null
          }
        },
        "5956a766f641412383f02e825556e3fc": {
          "model_module": "@jupyter-widgets/controls",
          "model_name": "DescriptionStyleModel",
          "model_module_version": "1.5.0",
          "state": {
            "_model_module": "@jupyter-widgets/controls",
            "_model_module_version": "1.5.0",
            "_model_name": "DescriptionStyleModel",
            "_view_count": null,
            "_view_module": "@jupyter-widgets/base",
            "_view_module_version": "1.2.0",
            "_view_name": "StyleView",
            "description_width": ""
          }
        },
        "c14a969775384d539c2d132b737eb3a2": {
          "model_module": "@jupyter-widgets/controls",
          "model_name": "HBoxModel",
          "model_module_version": "1.5.0",
          "state": {
            "_dom_classes": [],
            "_model_module": "@jupyter-widgets/controls",
            "_model_module_version": "1.5.0",
            "_model_name": "HBoxModel",
            "_view_count": null,
            "_view_module": "@jupyter-widgets/controls",
            "_view_module_version": "1.5.0",
            "_view_name": "HBoxView",
            "box_style": "",
            "children": [
              "IPY_MODEL_4a4da005f1604631b65dd515477a5410",
              "IPY_MODEL_8173ff3588d34edba31b7461d9232fbb",
              "IPY_MODEL_9fca53610351497b98d8133c6cd25ba4"
            ],
            "layout": "IPY_MODEL_112b14303f344848a033407f99a329e2"
          }
        },
        "4a4da005f1604631b65dd515477a5410": {
          "model_module": "@jupyter-widgets/controls",
          "model_name": "HTMLModel",
          "model_module_version": "1.5.0",
          "state": {
            "_dom_classes": [],
            "_model_module": "@jupyter-widgets/controls",
            "_model_module_version": "1.5.0",
            "_model_name": "HTMLModel",
            "_view_count": null,
            "_view_module": "@jupyter-widgets/controls",
            "_view_module_version": "1.5.0",
            "_view_name": "HTMLView",
            "description": "",
            "description_tooltip": null,
            "layout": "IPY_MODEL_f2dc6d33a4b6441f9b505f7a4c425198",
            "placeholder": "​",
            "style": "IPY_MODEL_95676f59f944415380e566271d25aaf9",
            "value": "SequenceCorpus (batch processing): 100%"
          }
        },
        "8173ff3588d34edba31b7461d9232fbb": {
          "model_module": "@jupyter-widgets/controls",
          "model_name": "FloatProgressModel",
          "model_module_version": "1.5.0",
          "state": {
            "_dom_classes": [],
            "_model_module": "@jupyter-widgets/controls",
            "_model_module_version": "1.5.0",
            "_model_name": "FloatProgressModel",
            "_view_count": null,
            "_view_module": "@jupyter-widgets/controls",
            "_view_module_version": "1.5.0",
            "_view_name": "ProgressView",
            "bar_style": "success",
            "description": "",
            "description_tooltip": null,
            "layout": "IPY_MODEL_a54a6b36bda34eeabe2563b5c57b3697",
            "max": 2,
            "min": 0,
            "orientation": "horizontal",
            "style": "IPY_MODEL_7558647a083a4b50b4827058c88f49b4",
            "value": 2
          }
        },
        "9fca53610351497b98d8133c6cd25ba4": {
          "model_module": "@jupyter-widgets/controls",
          "model_name": "HTMLModel",
          "model_module_version": "1.5.0",
          "state": {
            "_dom_classes": [],
            "_model_module": "@jupyter-widgets/controls",
            "_model_module_version": "1.5.0",
            "_model_name": "HTMLModel",
            "_view_count": null,
            "_view_module": "@jupyter-widgets/controls",
            "_view_module_version": "1.5.0",
            "_view_name": "HTMLView",
            "description": "",
            "description_tooltip": null,
            "layout": "IPY_MODEL_c953e065f7804d6c81b938ef37887e73",
            "placeholder": "​",
            "style": "IPY_MODEL_6d64de6efcdc4eafacb9579d570fd607",
            "value": " 2/2 [00:00&lt;00:00,  5.40it/s]"
          }
        },
        "112b14303f344848a033407f99a329e2": {
          "model_module": "@jupyter-widgets/base",
          "model_name": "LayoutModel",
          "model_module_version": "1.2.0",
          "state": {
            "_model_module": "@jupyter-widgets/base",
            "_model_module_version": "1.2.0",
            "_model_name": "LayoutModel",
            "_view_count": null,
            "_view_module": "@jupyter-widgets/base",
            "_view_module_version": "1.2.0",
            "_view_name": "LayoutView",
            "align_content": null,
            "align_items": null,
            "align_self": null,
            "border": null,
            "bottom": null,
            "display": null,
            "flex": null,
            "flex_flow": null,
            "grid_area": null,
            "grid_auto_columns": null,
            "grid_auto_flow": null,
            "grid_auto_rows": null,
            "grid_column": null,
            "grid_gap": null,
            "grid_row": null,
            "grid_template_areas": null,
            "grid_template_columns": null,
            "grid_template_rows": null,
            "height": null,
            "justify_content": null,
            "justify_items": null,
            "left": null,
            "margin": null,
            "max_height": null,
            "max_width": null,
            "min_height": null,
            "min_width": null,
            "object_fit": null,
            "object_position": null,
            "order": null,
            "overflow": null,
            "overflow_x": null,
            "overflow_y": null,
            "padding": null,
            "right": null,
            "top": null,
            "visibility": null,
            "width": null
          }
        },
        "f2dc6d33a4b6441f9b505f7a4c425198": {
          "model_module": "@jupyter-widgets/base",
          "model_name": "LayoutModel",
          "model_module_version": "1.2.0",
          "state": {
            "_model_module": "@jupyter-widgets/base",
            "_model_module_version": "1.2.0",
            "_model_name": "LayoutModel",
            "_view_count": null,
            "_view_module": "@jupyter-widgets/base",
            "_view_module_version": "1.2.0",
            "_view_name": "LayoutView",
            "align_content": null,
            "align_items": null,
            "align_self": null,
            "border": null,
            "bottom": null,
            "display": null,
            "flex": null,
            "flex_flow": null,
            "grid_area": null,
            "grid_auto_columns": null,
            "grid_auto_flow": null,
            "grid_auto_rows": null,
            "grid_column": null,
            "grid_gap": null,
            "grid_row": null,
            "grid_template_areas": null,
            "grid_template_columns": null,
            "grid_template_rows": null,
            "height": null,
            "justify_content": null,
            "justify_items": null,
            "left": null,
            "margin": null,
            "max_height": null,
            "max_width": null,
            "min_height": null,
            "min_width": null,
            "object_fit": null,
            "object_position": null,
            "order": null,
            "overflow": null,
            "overflow_x": null,
            "overflow_y": null,
            "padding": null,
            "right": null,
            "top": null,
            "visibility": null,
            "width": null
          }
        },
        "95676f59f944415380e566271d25aaf9": {
          "model_module": "@jupyter-widgets/controls",
          "model_name": "DescriptionStyleModel",
          "model_module_version": "1.5.0",
          "state": {
            "_model_module": "@jupyter-widgets/controls",
            "_model_module_version": "1.5.0",
            "_model_name": "DescriptionStyleModel",
            "_view_count": null,
            "_view_module": "@jupyter-widgets/base",
            "_view_module_version": "1.2.0",
            "_view_name": "StyleView",
            "description_width": ""
          }
        },
        "a54a6b36bda34eeabe2563b5c57b3697": {
          "model_module": "@jupyter-widgets/base",
          "model_name": "LayoutModel",
          "model_module_version": "1.2.0",
          "state": {
            "_model_module": "@jupyter-widgets/base",
            "_model_module_version": "1.2.0",
            "_model_name": "LayoutModel",
            "_view_count": null,
            "_view_module": "@jupyter-widgets/base",
            "_view_module_version": "1.2.0",
            "_view_name": "LayoutView",
            "align_content": null,
            "align_items": null,
            "align_self": null,
            "border": null,
            "bottom": null,
            "display": null,
            "flex": null,
            "flex_flow": null,
            "grid_area": null,
            "grid_auto_columns": null,
            "grid_auto_flow": null,
            "grid_auto_rows": null,
            "grid_column": null,
            "grid_gap": null,
            "grid_row": null,
            "grid_template_areas": null,
            "grid_template_columns": null,
            "grid_template_rows": null,
            "height": null,
            "justify_content": null,
            "justify_items": null,
            "left": null,
            "margin": null,
            "max_height": null,
            "max_width": null,
            "min_height": null,
            "min_width": null,
            "object_fit": null,
            "object_position": null,
            "order": null,
            "overflow": null,
            "overflow_x": null,
            "overflow_y": null,
            "padding": null,
            "right": null,
            "top": null,
            "visibility": null,
            "width": null
          }
        },
        "7558647a083a4b50b4827058c88f49b4": {
          "model_module": "@jupyter-widgets/controls",
          "model_name": "ProgressStyleModel",
          "model_module_version": "1.5.0",
          "state": {
            "_model_module": "@jupyter-widgets/controls",
            "_model_module_version": "1.5.0",
            "_model_name": "ProgressStyleModel",
            "_view_count": null,
            "_view_module": "@jupyter-widgets/base",
            "_view_module_version": "1.2.0",
            "_view_name": "StyleView",
            "bar_color": null,
            "description_width": ""
          }
        },
        "c953e065f7804d6c81b938ef37887e73": {
          "model_module": "@jupyter-widgets/base",
          "model_name": "LayoutModel",
          "model_module_version": "1.2.0",
          "state": {
            "_model_module": "@jupyter-widgets/base",
            "_model_module_version": "1.2.0",
            "_model_name": "LayoutModel",
            "_view_count": null,
            "_view_module": "@jupyter-widgets/base",
            "_view_module_version": "1.2.0",
            "_view_name": "LayoutView",
            "align_content": null,
            "align_items": null,
            "align_self": null,
            "border": null,
            "bottom": null,
            "display": null,
            "flex": null,
            "flex_flow": null,
            "grid_area": null,
            "grid_auto_columns": null,
            "grid_auto_flow": null,
            "grid_auto_rows": null,
            "grid_column": null,
            "grid_gap": null,
            "grid_row": null,
            "grid_template_areas": null,
            "grid_template_columns": null,
            "grid_template_rows": null,
            "height": null,
            "justify_content": null,
            "justify_items": null,
            "left": null,
            "margin": null,
            "max_height": null,
            "max_width": null,
            "min_height": null,
            "min_width": null,
            "object_fit": null,
            "object_position": null,
            "order": null,
            "overflow": null,
            "overflow_x": null,
            "overflow_y": null,
            "padding": null,
            "right": null,
            "top": null,
            "visibility": null,
            "width": null
          }
        },
        "6d64de6efcdc4eafacb9579d570fd607": {
          "model_module": "@jupyter-widgets/controls",
          "model_name": "DescriptionStyleModel",
          "model_module_version": "1.5.0",
          "state": {
            "_model_module": "@jupyter-widgets/controls",
            "_model_module_version": "1.5.0",
            "_model_name": "DescriptionStyleModel",
            "_view_count": null,
            "_view_module": "@jupyter-widgets/base",
            "_view_module_version": "1.2.0",
            "_view_name": "StyleView",
            "description_width": ""
          }
        }
      }
    },
    "gpuClass": "standard"
  },
  "nbformat": 4,
  "nbformat_minor": 5
}